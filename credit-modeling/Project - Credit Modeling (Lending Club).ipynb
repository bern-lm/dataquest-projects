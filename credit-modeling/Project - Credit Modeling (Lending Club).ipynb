{
 "cells": [
  {
   "cell_type": "markdown",
   "metadata": {},
   "source": [
    "# Project - Credit Modeling (Lending Club)"
   ]
  },
  {
   "cell_type": "markdown",
   "metadata": {},
   "source": [
    "Credit modeling focuses on modeling a borrower's [credit risk](https://en.wikipedia.org/wiki/Credit_risk). Credit has played a key role in the economy for centuries and some form of credit has existed since the beginning of commerce. \n",
    "\n",
    "We'll be working with financial lending data from [Lending Club](https://www.lendingclub.com/). Lending Club is a marketplace for personal loans that pairs borrowers who are seeking a loan with investors looking to lend money and make a return.\n",
    "\n",
    "Each borrower completes a comprehensive application, providing their past financial history, the reason for the loan, and more. Lending Club evaluates each borrower's credit score using past historical data and their own data science process to assign an interest rate to the borrower. The interest rate is the percentage in addition to the requested loan amount that the borrower has to pay back. Lending Club also tries to verify all the information the borrower provides but it can't verify all of the information (usually for regulation reasons)."
   ]
  },
  {
   "cell_type": "markdown",
   "metadata": {},
   "source": [
    "A higher interest rate means that the borrower is a risk and more unlikely to pay back the loan. While a lower interest rate means that the borrower has a good credit history and is more likely to pay back the loan. The interest rates range from 5.32% to 30.99% and each borrower is given a [grade](https://www.lendingclub.com/investing/investor-education/interest-rates-and-fees) according to the interest rate they were assigned. If the borrower accepts the interest rate, then the loan is listed on the Lending Club marketplace.\n",
    "\n",
    "Investors are primarily interested in receiving a return on their investments. Approved loans are listed on the Lending Club website, where qualified investors can browse recently approved loans, the borrower's credit score, the purpose for the loan, and other information from the application. Once they're ready to back a loan, they select the amount of money they want to fund. Once a loan's requested amount is fully funded, the borrower receives the money they requested minus the [origination fee](https://help.lendingclub.com/hc/en-us/articles/214463677-Rates-and-fees-for-personal-loans) that Lending Club charges."
   ]
  },
  {
   "cell_type": "markdown",
   "metadata": {},
   "source": [
    "The borrower will make monthly payments back to Lending Club either over 36 months or over 60 months. Lending Club redistributes these payments to the investors. This means that investors don't have to wait until the full amount is paid off before they see a return in money. If a loan is fully paid off on time, the investors make a return which corresponds to the interest rate the borrower had to pay in addition to the requested amount. Many loans aren't completely paid off on time and some borrowers [default](https://help.lendingclub.com/hc/en-us/articles/215488038-What-do-the-different-Note-statuses-mean-) on the loan.\n",
    "\n",
    "__Project's Objective:__\n",
    "- __Build a machine learning model that can accurately predict if a borrower will pay off their loan on time or not.__\n",
    "\n",
    "Most investors use a portfolio strategy to invest small amounts in many loans, with healthy mixes of low, medium, and interest loans. __In this project, we'll focus on the mindset of a conservative investor who only wants to invest in the loans that have a good chance of being paid off on time.__ To do that, we'll need to first understand the features in the dataset and then experiment with building machine learning models that reliably predict if a loan will be paid off or not."
   ]
  },
  {
   "cell_type": "markdown",
   "metadata": {},
   "source": [
    "### Introduction to the Data"
   ]
  },
  {
   "cell_type": "markdown",
   "metadata": {},
   "source": [
    "I will use the dataset and data dictionary (`LoanStats.html`) provided by Dataquest. The latter downloaded it from the Lending Club website.\n",
    "\n",
    "The dataset contains approved loans data from 2007 to 2011.\n",
    "\n",
    "Before we can start doing machine learning, we need to define what features we want to use and which column represents the target column we want to predict. Let's start by reading and exploring the dataset."
   ]
  },
  {
   "cell_type": "code",
   "execution_count": 1,
   "metadata": {
    "scrolled": true
   },
   "outputs": [
    {
     "name": "stdout",
     "output_type": "stream",
     "text": [
      "<class 'pandas.core.frame.DataFrame'>\n",
      "RangeIndex: 42538 entries, 0 to 42537\n",
      "Data columns (total 52 columns):\n",
      " #   Column                      Non-Null Count  Dtype  \n",
      "---  ------                      --------------  -----  \n",
      " 0   id                          42538 non-null  object \n",
      " 1   member_id                   42535 non-null  float64\n",
      " 2   loan_amnt                   42535 non-null  float64\n",
      " 3   funded_amnt                 42535 non-null  float64\n",
      " 4   funded_amnt_inv             42535 non-null  float64\n",
      " 5   term                        42535 non-null  object \n",
      " 6   int_rate                    42535 non-null  object \n",
      " 7   installment                 42535 non-null  float64\n",
      " 8   grade                       42535 non-null  object \n",
      " 9   sub_grade                   42535 non-null  object \n",
      " 10  emp_title                   39909 non-null  object \n",
      " 11  emp_length                  41423 non-null  object \n",
      " 12  home_ownership              42535 non-null  object \n",
      " 13  annual_inc                  42531 non-null  float64\n",
      " 14  verification_status         42535 non-null  object \n",
      " 15  issue_d                     42535 non-null  object \n",
      " 16  loan_status                 42535 non-null  object \n",
      " 17  pymnt_plan                  42535 non-null  object \n",
      " 18  purpose                     42535 non-null  object \n",
      " 19  title                       42522 non-null  object \n",
      " 20  zip_code                    42535 non-null  object \n",
      " 21  addr_state                  42535 non-null  object \n",
      " 22  dti                         42535 non-null  float64\n",
      " 23  delinq_2yrs                 42506 non-null  float64\n",
      " 24  earliest_cr_line            42506 non-null  object \n",
      " 25  inq_last_6mths              42506 non-null  float64\n",
      " 26  open_acc                    42506 non-null  float64\n",
      " 27  pub_rec                     42506 non-null  float64\n",
      " 28  revol_bal                   42535 non-null  float64\n",
      " 29  revol_util                  42445 non-null  object \n",
      " 30  total_acc                   42506 non-null  float64\n",
      " 31  initial_list_status         42535 non-null  object \n",
      " 32  out_prncp                   42535 non-null  float64\n",
      " 33  out_prncp_inv               42535 non-null  float64\n",
      " 34  total_pymnt                 42535 non-null  float64\n",
      " 35  total_pymnt_inv             42535 non-null  float64\n",
      " 36  total_rec_prncp             42535 non-null  float64\n",
      " 37  total_rec_int               42535 non-null  float64\n",
      " 38  total_rec_late_fee          42535 non-null  float64\n",
      " 39  recoveries                  42535 non-null  float64\n",
      " 40  collection_recovery_fee     42535 non-null  float64\n",
      " 41  last_pymnt_d                42452 non-null  object \n",
      " 42  last_pymnt_amnt             42535 non-null  float64\n",
      " 43  last_credit_pull_d          42531 non-null  object \n",
      " 44  collections_12_mths_ex_med  42390 non-null  float64\n",
      " 45  policy_code                 42535 non-null  float64\n",
      " 46  application_type            42535 non-null  object \n",
      " 47  acc_now_delinq              42506 non-null  float64\n",
      " 48  chargeoff_within_12_mths    42390 non-null  float64\n",
      " 49  delinq_amnt                 42506 non-null  float64\n",
      " 50  pub_rec_bankruptcies        41170 non-null  float64\n",
      " 51  tax_liens                   42430 non-null  float64\n",
      "dtypes: float64(30), object(22)\n",
      "memory usage: 16.9+ MB\n"
     ]
    }
   ],
   "source": [
    "import pandas as pd\n",
    "\n",
    "loans = pd.read_csv(\"loans_2007.csv\", low_memory=False)\n",
    "\n",
    "loans.info()\n"
   ]
  },
  {
   "cell_type": "code",
   "execution_count": 2,
   "metadata": {
    "scrolled": true
   },
   "outputs": [
    {
     "data": {
      "text/plain": [
       "id                               0\n",
       "addr_state                       3\n",
       "dti                              3\n",
       "application_type                 3\n",
       "policy_code                      3\n",
       "last_pymnt_amnt                  3\n",
       "collection_recovery_fee          3\n",
       "zip_code                         3\n",
       "revol_bal                        3\n",
       "total_rec_late_fee               3\n",
       "initial_list_status              3\n",
       "out_prncp                        3\n",
       "out_prncp_inv                    3\n",
       "total_pymnt                      3\n",
       "total_pymnt_inv                  3\n",
       "recoveries                       3\n",
       "total_rec_prncp                  3\n",
       "purpose                          3\n",
       "loan_status                      3\n",
       "member_id                        3\n",
       "loan_amnt                        3\n",
       "funded_amnt                      3\n",
       "funded_amnt_inv                  3\n",
       "term                             3\n",
       "int_rate                         3\n",
       "installment                      3\n",
       "grade                            3\n",
       "sub_grade                        3\n",
       "home_ownership                   3\n",
       "verification_status              3\n",
       "issue_d                          3\n",
       "pymnt_plan                       3\n",
       "total_rec_int                    3\n",
       "last_credit_pull_d               7\n",
       "annual_inc                       7\n",
       "title                           16\n",
       "delinq_amnt                     32\n",
       "acc_now_delinq                  32\n",
       "inq_last_6mths                  32\n",
       "pub_rec                         32\n",
       "open_acc                        32\n",
       "earliest_cr_line                32\n",
       "delinq_2yrs                     32\n",
       "total_acc                       32\n",
       "last_pymnt_d                    86\n",
       "revol_util                      93\n",
       "tax_liens                      108\n",
       "collections_12_mths_ex_med     148\n",
       "chargeoff_within_12_mths       148\n",
       "emp_length                    1115\n",
       "pub_rec_bankruptcies          1368\n",
       "emp_title                     2629\n",
       "dtype: int64"
      ]
     },
     "execution_count": 2,
     "metadata": {},
     "output_type": "execute_result"
    }
   ],
   "source": [
    "loans.isnull().sum().sort_values()"
   ]
  },
  {
   "cell_type": "code",
   "execution_count": 3,
   "metadata": {
    "scrolled": true
   },
   "outputs": [
    {
     "name": "stdout",
     "output_type": "stream",
     "text": [
      "                            null_count  null_count_percentage\n",
      "id                                   0               0.000000\n",
      "addr_state                           3               0.007053\n",
      "dti                                  3               0.007053\n",
      "application_type                     3               0.007053\n",
      "policy_code                          3               0.007053\n",
      "last_pymnt_amnt                      3               0.007053\n",
      "collection_recovery_fee              3               0.007053\n",
      "zip_code                             3               0.007053\n",
      "revol_bal                            3               0.007053\n",
      "total_rec_late_fee                   3               0.007053\n",
      "initial_list_status                  3               0.007053\n",
      "out_prncp                            3               0.007053\n",
      "out_prncp_inv                        3               0.007053\n",
      "total_pymnt                          3               0.007053\n",
      "total_pymnt_inv                      3               0.007053\n",
      "recoveries                           3               0.007053\n",
      "total_rec_prncp                      3               0.007053\n",
      "purpose                              3               0.007053\n",
      "loan_status                          3               0.007053\n",
      "member_id                            3               0.007053\n",
      "loan_amnt                            3               0.007053\n",
      "funded_amnt                          3               0.007053\n",
      "funded_amnt_inv                      3               0.007053\n",
      "term                                 3               0.007053\n",
      "int_rate                             3               0.007053\n",
      "installment                          3               0.007053\n",
      "grade                                3               0.007053\n",
      "sub_grade                            3               0.007053\n",
      "home_ownership                       3               0.007053\n",
      "verification_status                  3               0.007053\n",
      "issue_d                              3               0.007053\n",
      "pymnt_plan                           3               0.007053\n",
      "total_rec_int                        3               0.007053\n",
      "last_credit_pull_d                   7               0.016456\n",
      "annual_inc                           7               0.016456\n",
      "title                               16               0.037613\n",
      "delinq_amnt                         32               0.075227\n",
      "acc_now_delinq                      32               0.075227\n",
      "inq_last_6mths                      32               0.075227\n",
      "pub_rec                             32               0.075227\n",
      "open_acc                            32               0.075227\n",
      "earliest_cr_line                    32               0.075227\n",
      "delinq_2yrs                         32               0.075227\n",
      "total_acc                           32               0.075227\n",
      "last_pymnt_d                        86               0.202172\n",
      "revol_util                          93               0.218628\n",
      "tax_liens                          108               0.253891\n",
      "collections_12_mths_ex_med         148               0.347924\n",
      "chargeoff_within_12_mths           148               0.347924\n",
      "emp_length                        1115               2.621186\n",
      "pub_rec_bankruptcies              1368               3.215948\n",
      "emp_title                         2629               6.180356\n"
     ]
    }
   ],
   "source": [
    "nulls_count = loans.isnull().sum().sort_values()\n",
    "\n",
    "nulls_count_df = pd.DataFrame(nulls_count, columns=[\"null_count\"])\n",
    "\n",
    "nulls_count_df['null_count_percentage'] = ( nulls_count_df['null_count'] / loans.shape[0] ) * 100\n",
    "\n",
    "print( nulls_count_df )\n"
   ]
  },
  {
   "cell_type": "code",
   "execution_count": 4,
   "metadata": {},
   "outputs": [
    {
     "name": "stdout",
     "output_type": "stream",
     "text": [
      "0\n"
     ]
    }
   ],
   "source": [
    "dup_bool = loans.duplicated()\n",
    "\n",
    "print( sum(dup_bool) )\n"
   ]
  },
  {
   "cell_type": "code",
   "execution_count": 5,
   "metadata": {},
   "outputs": [
    {
     "data": {
      "text/html": [
       "<div>\n",
       "<style scoped>\n",
       "    .dataframe tbody tr th:only-of-type {\n",
       "        vertical-align: middle;\n",
       "    }\n",
       "\n",
       "    .dataframe tbody tr th {\n",
       "        vertical-align: top;\n",
       "    }\n",
       "\n",
       "    .dataframe thead th {\n",
       "        text-align: right;\n",
       "    }\n",
       "</style>\n",
       "<table border=\"1\" class=\"dataframe\">\n",
       "  <thead>\n",
       "    <tr style=\"text-align: right;\">\n",
       "      <th></th>\n",
       "      <th>id</th>\n",
       "      <th>member_id</th>\n",
       "      <th>loan_amnt</th>\n",
       "      <th>funded_amnt</th>\n",
       "      <th>funded_amnt_inv</th>\n",
       "      <th>term</th>\n",
       "      <th>int_rate</th>\n",
       "      <th>installment</th>\n",
       "      <th>grade</th>\n",
       "      <th>sub_grade</th>\n",
       "      <th>emp_title</th>\n",
       "      <th>emp_length</th>\n",
       "      <th>home_ownership</th>\n",
       "      <th>annual_inc</th>\n",
       "      <th>verification_status</th>\n",
       "      <th>issue_d</th>\n",
       "      <th>loan_status</th>\n",
       "      <th>pymnt_plan</th>\n",
       "      <th>purpose</th>\n",
       "      <th>title</th>\n",
       "      <th>zip_code</th>\n",
       "      <th>addr_state</th>\n",
       "      <th>dti</th>\n",
       "      <th>delinq_2yrs</th>\n",
       "      <th>earliest_cr_line</th>\n",
       "      <th>inq_last_6mths</th>\n",
       "      <th>open_acc</th>\n",
       "      <th>pub_rec</th>\n",
       "      <th>revol_bal</th>\n",
       "      <th>revol_util</th>\n",
       "      <th>total_acc</th>\n",
       "      <th>initial_list_status</th>\n",
       "      <th>out_prncp</th>\n",
       "      <th>out_prncp_inv</th>\n",
       "      <th>total_pymnt</th>\n",
       "      <th>total_pymnt_inv</th>\n",
       "      <th>total_rec_prncp</th>\n",
       "      <th>total_rec_int</th>\n",
       "      <th>total_rec_late_fee</th>\n",
       "      <th>recoveries</th>\n",
       "      <th>collection_recovery_fee</th>\n",
       "      <th>last_pymnt_d</th>\n",
       "      <th>last_pymnt_amnt</th>\n",
       "      <th>last_credit_pull_d</th>\n",
       "      <th>collections_12_mths_ex_med</th>\n",
       "      <th>policy_code</th>\n",
       "      <th>application_type</th>\n",
       "      <th>acc_now_delinq</th>\n",
       "      <th>chargeoff_within_12_mths</th>\n",
       "      <th>delinq_amnt</th>\n",
       "      <th>pub_rec_bankruptcies</th>\n",
       "      <th>tax_liens</th>\n",
       "    </tr>\n",
       "  </thead>\n",
       "  <tbody>\n",
       "    <tr>\n",
       "      <th>0</th>\n",
       "      <td>1077501</td>\n",
       "      <td>1296599.0</td>\n",
       "      <td>5000.0</td>\n",
       "      <td>5000.0</td>\n",
       "      <td>4975.0</td>\n",
       "      <td>36 months</td>\n",
       "      <td>10.65%</td>\n",
       "      <td>162.87</td>\n",
       "      <td>B</td>\n",
       "      <td>B2</td>\n",
       "      <td>NaN</td>\n",
       "      <td>10+ years</td>\n",
       "      <td>RENT</td>\n",
       "      <td>24000.0</td>\n",
       "      <td>Verified</td>\n",
       "      <td>Dec-2011</td>\n",
       "      <td>Fully Paid</td>\n",
       "      <td>n</td>\n",
       "      <td>credit_card</td>\n",
       "      <td>Computer</td>\n",
       "      <td>860xx</td>\n",
       "      <td>AZ</td>\n",
       "      <td>27.65</td>\n",
       "      <td>0.0</td>\n",
       "      <td>Jan-1985</td>\n",
       "      <td>1.0</td>\n",
       "      <td>3.0</td>\n",
       "      <td>0.0</td>\n",
       "      <td>13648.0</td>\n",
       "      <td>83.7%</td>\n",
       "      <td>9.0</td>\n",
       "      <td>f</td>\n",
       "      <td>0.00</td>\n",
       "      <td>0.00</td>\n",
       "      <td>5863.155187</td>\n",
       "      <td>5833.84</td>\n",
       "      <td>5000.00</td>\n",
       "      <td>863.16</td>\n",
       "      <td>0.00</td>\n",
       "      <td>0.00</td>\n",
       "      <td>0.00</td>\n",
       "      <td>Jan-2015</td>\n",
       "      <td>171.62</td>\n",
       "      <td>Jun-2016</td>\n",
       "      <td>0.0</td>\n",
       "      <td>1.0</td>\n",
       "      <td>INDIVIDUAL</td>\n",
       "      <td>0.0</td>\n",
       "      <td>0.0</td>\n",
       "      <td>0.0</td>\n",
       "      <td>0.0</td>\n",
       "      <td>0.0</td>\n",
       "    </tr>\n",
       "    <tr>\n",
       "      <th>1</th>\n",
       "      <td>1077430</td>\n",
       "      <td>1314167.0</td>\n",
       "      <td>2500.0</td>\n",
       "      <td>2500.0</td>\n",
       "      <td>2500.0</td>\n",
       "      <td>60 months</td>\n",
       "      <td>15.27%</td>\n",
       "      <td>59.83</td>\n",
       "      <td>C</td>\n",
       "      <td>C4</td>\n",
       "      <td>Ryder</td>\n",
       "      <td>&lt; 1 year</td>\n",
       "      <td>RENT</td>\n",
       "      <td>30000.0</td>\n",
       "      <td>Source Verified</td>\n",
       "      <td>Dec-2011</td>\n",
       "      <td>Charged Off</td>\n",
       "      <td>n</td>\n",
       "      <td>car</td>\n",
       "      <td>bike</td>\n",
       "      <td>309xx</td>\n",
       "      <td>GA</td>\n",
       "      <td>1.00</td>\n",
       "      <td>0.0</td>\n",
       "      <td>Apr-1999</td>\n",
       "      <td>5.0</td>\n",
       "      <td>3.0</td>\n",
       "      <td>0.0</td>\n",
       "      <td>1687.0</td>\n",
       "      <td>9.4%</td>\n",
       "      <td>4.0</td>\n",
       "      <td>f</td>\n",
       "      <td>0.00</td>\n",
       "      <td>0.00</td>\n",
       "      <td>1008.710000</td>\n",
       "      <td>1008.71</td>\n",
       "      <td>456.46</td>\n",
       "      <td>435.17</td>\n",
       "      <td>0.00</td>\n",
       "      <td>117.08</td>\n",
       "      <td>1.11</td>\n",
       "      <td>Apr-2013</td>\n",
       "      <td>119.66</td>\n",
       "      <td>Sep-2013</td>\n",
       "      <td>0.0</td>\n",
       "      <td>1.0</td>\n",
       "      <td>INDIVIDUAL</td>\n",
       "      <td>0.0</td>\n",
       "      <td>0.0</td>\n",
       "      <td>0.0</td>\n",
       "      <td>0.0</td>\n",
       "      <td>0.0</td>\n",
       "    </tr>\n",
       "    <tr>\n",
       "      <th>2</th>\n",
       "      <td>1077175</td>\n",
       "      <td>1313524.0</td>\n",
       "      <td>2400.0</td>\n",
       "      <td>2400.0</td>\n",
       "      <td>2400.0</td>\n",
       "      <td>36 months</td>\n",
       "      <td>15.96%</td>\n",
       "      <td>84.33</td>\n",
       "      <td>C</td>\n",
       "      <td>C5</td>\n",
       "      <td>NaN</td>\n",
       "      <td>10+ years</td>\n",
       "      <td>RENT</td>\n",
       "      <td>12252.0</td>\n",
       "      <td>Not Verified</td>\n",
       "      <td>Dec-2011</td>\n",
       "      <td>Fully Paid</td>\n",
       "      <td>n</td>\n",
       "      <td>small_business</td>\n",
       "      <td>real estate business</td>\n",
       "      <td>606xx</td>\n",
       "      <td>IL</td>\n",
       "      <td>8.72</td>\n",
       "      <td>0.0</td>\n",
       "      <td>Nov-2001</td>\n",
       "      <td>2.0</td>\n",
       "      <td>2.0</td>\n",
       "      <td>0.0</td>\n",
       "      <td>2956.0</td>\n",
       "      <td>98.5%</td>\n",
       "      <td>10.0</td>\n",
       "      <td>f</td>\n",
       "      <td>0.00</td>\n",
       "      <td>0.00</td>\n",
       "      <td>3005.666844</td>\n",
       "      <td>3005.67</td>\n",
       "      <td>2400.00</td>\n",
       "      <td>605.67</td>\n",
       "      <td>0.00</td>\n",
       "      <td>0.00</td>\n",
       "      <td>0.00</td>\n",
       "      <td>Jun-2014</td>\n",
       "      <td>649.91</td>\n",
       "      <td>Jun-2016</td>\n",
       "      <td>0.0</td>\n",
       "      <td>1.0</td>\n",
       "      <td>INDIVIDUAL</td>\n",
       "      <td>0.0</td>\n",
       "      <td>0.0</td>\n",
       "      <td>0.0</td>\n",
       "      <td>0.0</td>\n",
       "      <td>0.0</td>\n",
       "    </tr>\n",
       "    <tr>\n",
       "      <th>3</th>\n",
       "      <td>1076863</td>\n",
       "      <td>1277178.0</td>\n",
       "      <td>10000.0</td>\n",
       "      <td>10000.0</td>\n",
       "      <td>10000.0</td>\n",
       "      <td>36 months</td>\n",
       "      <td>13.49%</td>\n",
       "      <td>339.31</td>\n",
       "      <td>C</td>\n",
       "      <td>C1</td>\n",
       "      <td>AIR RESOURCES BOARD</td>\n",
       "      <td>10+ years</td>\n",
       "      <td>RENT</td>\n",
       "      <td>49200.0</td>\n",
       "      <td>Source Verified</td>\n",
       "      <td>Dec-2011</td>\n",
       "      <td>Fully Paid</td>\n",
       "      <td>n</td>\n",
       "      <td>other</td>\n",
       "      <td>personel</td>\n",
       "      <td>917xx</td>\n",
       "      <td>CA</td>\n",
       "      <td>20.00</td>\n",
       "      <td>0.0</td>\n",
       "      <td>Feb-1996</td>\n",
       "      <td>1.0</td>\n",
       "      <td>10.0</td>\n",
       "      <td>0.0</td>\n",
       "      <td>5598.0</td>\n",
       "      <td>21%</td>\n",
       "      <td>37.0</td>\n",
       "      <td>f</td>\n",
       "      <td>0.00</td>\n",
       "      <td>0.00</td>\n",
       "      <td>12231.890000</td>\n",
       "      <td>12231.89</td>\n",
       "      <td>10000.00</td>\n",
       "      <td>2214.92</td>\n",
       "      <td>16.97</td>\n",
       "      <td>0.00</td>\n",
       "      <td>0.00</td>\n",
       "      <td>Jan-2015</td>\n",
       "      <td>357.48</td>\n",
       "      <td>Apr-2016</td>\n",
       "      <td>0.0</td>\n",
       "      <td>1.0</td>\n",
       "      <td>INDIVIDUAL</td>\n",
       "      <td>0.0</td>\n",
       "      <td>0.0</td>\n",
       "      <td>0.0</td>\n",
       "      <td>0.0</td>\n",
       "      <td>0.0</td>\n",
       "    </tr>\n",
       "    <tr>\n",
       "      <th>4</th>\n",
       "      <td>1075358</td>\n",
       "      <td>1311748.0</td>\n",
       "      <td>3000.0</td>\n",
       "      <td>3000.0</td>\n",
       "      <td>3000.0</td>\n",
       "      <td>60 months</td>\n",
       "      <td>12.69%</td>\n",
       "      <td>67.79</td>\n",
       "      <td>B</td>\n",
       "      <td>B5</td>\n",
       "      <td>University Medical Group</td>\n",
       "      <td>1 year</td>\n",
       "      <td>RENT</td>\n",
       "      <td>80000.0</td>\n",
       "      <td>Source Verified</td>\n",
       "      <td>Dec-2011</td>\n",
       "      <td>Current</td>\n",
       "      <td>n</td>\n",
       "      <td>other</td>\n",
       "      <td>Personal</td>\n",
       "      <td>972xx</td>\n",
       "      <td>OR</td>\n",
       "      <td>17.94</td>\n",
       "      <td>0.0</td>\n",
       "      <td>Jan-1996</td>\n",
       "      <td>0.0</td>\n",
       "      <td>15.0</td>\n",
       "      <td>0.0</td>\n",
       "      <td>27783.0</td>\n",
       "      <td>53.9%</td>\n",
       "      <td>38.0</td>\n",
       "      <td>f</td>\n",
       "      <td>461.73</td>\n",
       "      <td>461.73</td>\n",
       "      <td>3581.120000</td>\n",
       "      <td>3581.12</td>\n",
       "      <td>2538.27</td>\n",
       "      <td>1042.85</td>\n",
       "      <td>0.00</td>\n",
       "      <td>0.00</td>\n",
       "      <td>0.00</td>\n",
       "      <td>Jun-2016</td>\n",
       "      <td>67.79</td>\n",
       "      <td>Jun-2016</td>\n",
       "      <td>0.0</td>\n",
       "      <td>1.0</td>\n",
       "      <td>INDIVIDUAL</td>\n",
       "      <td>0.0</td>\n",
       "      <td>0.0</td>\n",
       "      <td>0.0</td>\n",
       "      <td>0.0</td>\n",
       "      <td>0.0</td>\n",
       "    </tr>\n",
       "  </tbody>\n",
       "</table>\n",
       "</div>"
      ],
      "text/plain": [
       "        id  member_id  loan_amnt  funded_amnt  funded_amnt_inv        term  \\\n",
       "0  1077501  1296599.0     5000.0       5000.0           4975.0   36 months   \n",
       "1  1077430  1314167.0     2500.0       2500.0           2500.0   60 months   \n",
       "2  1077175  1313524.0     2400.0       2400.0           2400.0   36 months   \n",
       "3  1076863  1277178.0    10000.0      10000.0          10000.0   36 months   \n",
       "4  1075358  1311748.0     3000.0       3000.0           3000.0   60 months   \n",
       "\n",
       "  int_rate  installment grade sub_grade                 emp_title emp_length  \\\n",
       "0   10.65%       162.87     B        B2                       NaN  10+ years   \n",
       "1   15.27%        59.83     C        C4                     Ryder   < 1 year   \n",
       "2   15.96%        84.33     C        C5                       NaN  10+ years   \n",
       "3   13.49%       339.31     C        C1       AIR RESOURCES BOARD  10+ years   \n",
       "4   12.69%        67.79     B        B5  University Medical Group     1 year   \n",
       "\n",
       "  home_ownership  annual_inc verification_status   issue_d  loan_status  \\\n",
       "0           RENT     24000.0            Verified  Dec-2011   Fully Paid   \n",
       "1           RENT     30000.0     Source Verified  Dec-2011  Charged Off   \n",
       "2           RENT     12252.0        Not Verified  Dec-2011   Fully Paid   \n",
       "3           RENT     49200.0     Source Verified  Dec-2011   Fully Paid   \n",
       "4           RENT     80000.0     Source Verified  Dec-2011      Current   \n",
       "\n",
       "  pymnt_plan         purpose                 title zip_code addr_state    dti  \\\n",
       "0          n     credit_card              Computer    860xx         AZ  27.65   \n",
       "1          n             car                  bike    309xx         GA   1.00   \n",
       "2          n  small_business  real estate business    606xx         IL   8.72   \n",
       "3          n           other              personel    917xx         CA  20.00   \n",
       "4          n           other              Personal    972xx         OR  17.94   \n",
       "\n",
       "   delinq_2yrs earliest_cr_line  inq_last_6mths  open_acc  pub_rec  revol_bal  \\\n",
       "0          0.0         Jan-1985             1.0       3.0      0.0    13648.0   \n",
       "1          0.0         Apr-1999             5.0       3.0      0.0     1687.0   \n",
       "2          0.0         Nov-2001             2.0       2.0      0.0     2956.0   \n",
       "3          0.0         Feb-1996             1.0      10.0      0.0     5598.0   \n",
       "4          0.0         Jan-1996             0.0      15.0      0.0    27783.0   \n",
       "\n",
       "  revol_util  total_acc initial_list_status  out_prncp  out_prncp_inv  \\\n",
       "0      83.7%        9.0                   f       0.00           0.00   \n",
       "1       9.4%        4.0                   f       0.00           0.00   \n",
       "2      98.5%       10.0                   f       0.00           0.00   \n",
       "3        21%       37.0                   f       0.00           0.00   \n",
       "4      53.9%       38.0                   f     461.73         461.73   \n",
       "\n",
       "    total_pymnt  total_pymnt_inv  total_rec_prncp  total_rec_int  \\\n",
       "0   5863.155187          5833.84          5000.00         863.16   \n",
       "1   1008.710000          1008.71           456.46         435.17   \n",
       "2   3005.666844          3005.67          2400.00         605.67   \n",
       "3  12231.890000         12231.89         10000.00        2214.92   \n",
       "4   3581.120000          3581.12          2538.27        1042.85   \n",
       "\n",
       "   total_rec_late_fee  recoveries  collection_recovery_fee last_pymnt_d  \\\n",
       "0                0.00        0.00                     0.00     Jan-2015   \n",
       "1                0.00      117.08                     1.11     Apr-2013   \n",
       "2                0.00        0.00                     0.00     Jun-2014   \n",
       "3               16.97        0.00                     0.00     Jan-2015   \n",
       "4                0.00        0.00                     0.00     Jun-2016   \n",
       "\n",
       "   last_pymnt_amnt last_credit_pull_d  collections_12_mths_ex_med  \\\n",
       "0           171.62           Jun-2016                         0.0   \n",
       "1           119.66           Sep-2013                         0.0   \n",
       "2           649.91           Jun-2016                         0.0   \n",
       "3           357.48           Apr-2016                         0.0   \n",
       "4            67.79           Jun-2016                         0.0   \n",
       "\n",
       "   policy_code application_type  acc_now_delinq  chargeoff_within_12_mths  \\\n",
       "0          1.0       INDIVIDUAL             0.0                       0.0   \n",
       "1          1.0       INDIVIDUAL             0.0                       0.0   \n",
       "2          1.0       INDIVIDUAL             0.0                       0.0   \n",
       "3          1.0       INDIVIDUAL             0.0                       0.0   \n",
       "4          1.0       INDIVIDUAL             0.0                       0.0   \n",
       "\n",
       "   delinq_amnt  pub_rec_bankruptcies  tax_liens  \n",
       "0          0.0                   0.0        0.0  \n",
       "1          0.0                   0.0        0.0  \n",
       "2          0.0                   0.0        0.0  \n",
       "3          0.0                   0.0        0.0  \n",
       "4          0.0                   0.0        0.0  "
      ]
     },
     "execution_count": 5,
     "metadata": {},
     "output_type": "execute_result"
    }
   ],
   "source": [
    "pd.options.display.max_columns = 100  # Avoid having displayed truncated output\n",
    "\n",
    "loans.head()\n"
   ]
  },
  {
   "cell_type": "markdown",
   "metadata": {},
   "source": [
    "### Now,\n",
    "Let's analyze each feature (column) and determine if it:\n",
    "\n",
    "- discloses/leaks information from the future (after the loan has already been funded)\n",
    "\n",
    "\n",
    "- requires more data or a lot of processing to turn it into a useful feature\n",
    "\n",
    "\n",
    "- contains redundant information\n",
    "\n",
    "\n",
    "- needs to be cleaned up and formatted\n",
    "\n",
    "Keep in mind that we need to select one of the features as the __target column__."
   ]
  },
  {
   "cell_type": "code",
   "execution_count": 6,
   "metadata": {
    "scrolled": true
   },
   "outputs": [
    {
     "name": "stdout",
     "output_type": "stream",
     "text": [
      "0 >>> id ( 42538 , object )\n",
      "\t Some values are:\n",
      "\t'1077501', '1077430', '1077175', '1076863', '1075358', '1075269', '1069639', '1072053', '1071795', '1071570',  \n",
      "\n",
      "\n",
      "1 >>> member_id ( 42536 , float64 )\n",
      "\t Some values are:\n",
      "\t'1296599.0', '1314167.0', '1313524.0', '1277178.0', '1311748.0', '1311441.0', '1304742.0', '1288686.0', '1306957.0', '1306721.0',  \n",
      "\n",
      "\n",
      "2 >>> loan_amnt ( 899 , float64 )\n",
      "\t Some values are:\n",
      "\t'5000.0', '2500.0', '2400.0', '10000.0', '3000.0', '7000.0', '5600.0', '5375.0', '6500.0', '12000.0',  \n",
      "\n",
      "\n",
      "3 >>> funded_amnt ( 1052 , float64 )\n",
      "\t Some values are:\n",
      "\t'5000.0', '2500.0', '2400.0', '10000.0', '3000.0', '7000.0', '5600.0', '5375.0', '6500.0', '12000.0',  \n",
      "\n",
      "\n",
      "4 >>> funded_amnt_inv ( 9247 , float64 )\n",
      "\t Some values are:\n",
      "\t'4975.0', '2500.0', '2400.0', '10000.0', '3000.0', '5000.0', '7000.0', '5600.0', '5350.0', '6500.0',  \n",
      "\n",
      "\n",
      "5 >>> term ( 3 , object )\n",
      "\t [' 36 months' ' 60 months' nan] \n",
      "\n",
      "\n",
      "6 >>> int_rate ( 395 , object )\n",
      "\t Some values are:\n",
      "\t' 10.65%', ' 15.27%', ' 15.96%', ' 13.49%', ' 12.69%', '  7.90%', ' 18.64%', ' 21.28%', ' 14.65%', '  9.91%',  \n",
      "\n",
      "\n",
      "7 >>> installment ( 16460 , float64 )\n",
      "\t Some values are:\n",
      "\t'162.87', '59.83', '84.33', '339.31', '67.79', '156.46', '170.08', '109.43', '152.39', '121.45',  \n",
      "\n",
      "\n",
      "8 >>> grade ( 8 , object )\n",
      "\t ['B' 'C' 'A' 'E' 'F' 'D' 'G' nan] \n",
      "\n",
      "\n",
      "9 >>> sub_grade ( 36 , object )\n",
      "\t Some values are:\n",
      "\t'B2', 'C4', 'C5', 'C1', 'B5', 'A4', 'E1', 'F2', 'C3', 'B1',  \n",
      "\n",
      "\n",
      "10 >>> emp_title ( 30659 , object )\n",
      "\t Some values are:\n",
      "\t'nan', 'Ryder', 'AIR RESOURCES BOARD', 'University Medical Group', 'Veolia Transportaton', 'Southern Star Photography', 'MKC Accounting ', 'Starbucks', 'Southwest Rural metro', 'UCLA',  \n",
      "\n",
      "\n",
      "11 >>> emp_length ( 12 , object )\n",
      "\t ['10+ years' '< 1 year' '1 year' '3 years' '8 years' '9 years' '4 years'\n",
      " '5 years' '6 years' '2 years' '7 years' nan] \n",
      "\n",
      "\n",
      "12 >>> home_ownership ( 6 , object )\n",
      "\t ['RENT' 'OWN' 'MORTGAGE' 'OTHER' 'NONE' nan] \n",
      "\n",
      "\n",
      "13 >>> annual_inc ( 5598 , float64 )\n",
      "\t Some values are:\n",
      "\t'24000.0', '30000.0', '12252.0', '49200.0', '80000.0', '36000.0', '47004.0', '48000.0', '40000.0', '15000.0',  \n",
      "\n",
      "\n",
      "14 >>> verification_status ( 4 , object )\n",
      "\t ['Verified' 'Source Verified' 'Not Verified' nan] \n",
      "\n",
      "\n",
      "15 >>> issue_d ( 56 , object )\n",
      "\t Some values are:\n",
      "\t'Dec-2011', 'Nov-2011', 'Oct-2011', 'Sep-2011', 'Aug-2011', 'Jul-2011', 'Jun-2011', 'May-2011', 'Apr-2011', 'Mar-2011',  \n",
      "\n",
      "\n",
      "16 >>> loan_status ( 10 , object )\n",
      "\t ['Fully Paid' 'Charged Off' 'Current' 'In Grace Period'\n",
      " 'Late (31-120 days)' 'Late (16-30 days)' 'Default' nan\n",
      " 'Does not meet the credit policy. Status:Fully Paid'\n",
      " 'Does not meet the credit policy. Status:Charged Off'] \n",
      "\n",
      "\n",
      "17 >>> pymnt_plan ( 3 , object )\n",
      "\t ['n' 'y' nan] \n",
      "\n",
      "\n",
      "18 >>> purpose ( 15 , object )\n",
      "\t ['credit_card' 'car' 'small_business' 'other' 'wedding'\n",
      " 'debt_consolidation' 'home_improvement' 'major_purchase' 'medical'\n",
      " 'moving' 'vacation' 'house' 'renewable_energy' 'educational' nan] \n",
      "\n",
      "\n",
      "19 >>> title ( 21265 , object )\n",
      "\t Some values are:\n",
      "\t'Computer', 'bike', 'real estate business', 'personel', 'Personal', 'My wedding loan I promise to pay back', 'Loan', 'Car Downpayment', 'Expand Business & Buy Debt Portfolio', 'Building my credit history.',  \n",
      "\n",
      "\n",
      "20 >>> zip_code ( 838 , object )\n",
      "\t Some values are:\n",
      "\t'860xx', '309xx', '606xx', '917xx', '972xx', '852xx', '280xx', '900xx', '958xx', '774xx',  \n",
      "\n",
      "\n",
      "21 >>> addr_state ( 51 , object )\n",
      "\t Some values are:\n",
      "\t'AZ', 'GA', 'IL', 'CA', 'OR', 'NC', 'TX', 'VA', 'MO', 'CT',  \n",
      "\n",
      "\n",
      "22 >>> dti ( 2895 , float64 )\n",
      "\t Some values are:\n",
      "\t'27.65', '1.0', '8.72', '20.0', '17.94', '11.2', '23.51', '5.35', '5.55', '18.08',  \n",
      "\n",
      "\n",
      "23 >>> delinq_2yrs ( 13 , float64 )\n",
      "\t [ 0.  2.  3.  1.  4.  6.  5.  8.  7.  9. 11. nan 13.] \n",
      "\n",
      "\n",
      "24 >>> earliest_cr_line ( 531 , object )\n",
      "\t Some values are:\n",
      "\t'Jan-1985', 'Apr-1999', 'Nov-2001', 'Feb-1996', 'Jan-1996', 'Nov-2004', 'Jul-2005', 'Jan-2007', 'Apr-2004', 'Sep-2004',  \n",
      "\n",
      "\n",
      "25 >>> inq_last_6mths ( 29 , float64 )\n",
      "\t Some values are:\n",
      "\t'1.0', '5.0', '2.0', '0.0', '3.0', '4.0', '6.0', '7.0', '8.0', 'nan',  \n",
      "\n",
      "\n",
      "26 >>> open_acc ( 45 , float64 )\n",
      "\t Some values are:\n",
      "\t'3.0', '2.0', '10.0', '15.0', '9.0', '7.0', '4.0', '11.0', '14.0', '12.0',  \n",
      "\n",
      "\n",
      "27 >>> pub_rec ( 7 , float64 )\n",
      "\t [ 0.  1.  2.  3.  4. nan  5.] \n",
      "\n",
      "\n",
      "28 >>> revol_bal ( 22710 , float64 )\n",
      "\t Some values are:\n",
      "\t'13648.0', '1687.0', '2956.0', '5598.0', '27783.0', '7963.0', '17726.0', '8221.0', '5210.0', '9279.0',  \n",
      "\n",
      "\n",
      "29 >>> revol_util ( 1120 , object )\n",
      "\t Some values are:\n",
      "\t'83.7%', '9.4%', '98.5%', '21%', '53.9%', '28.3%', '85.6%', '87.5%', '32.6%', '36.5%',  \n",
      "\n",
      "\n",
      "30 >>> total_acc ( 84 , float64 )\n",
      "\t Some values are:\n",
      "\t'9.0', '4.0', '10.0', '37.0', '38.0', '12.0', '11.0', '13.0', '3.0', '23.0',  \n",
      "\n",
      "\n",
      "31 >>> initial_list_status ( 2 , object )\n",
      "\t ['f' nan] \n",
      "\n",
      "\n",
      "32 >>> out_prncp ( 1014 , float64 )\n",
      "\t Some values are:\n",
      "\t'0.0', '461.73', '1630.46', '1921.77', '2325.15', '2760.06', '917.36', '2291.06', '2722.54', '1647.78',  \n",
      "\n",
      "\n",
      "33 >>> out_prncp_inv ( 1013 , float64 )\n",
      "\t Some values are:\n",
      "\t'0.0', '461.73', '1626.34', '1917.9', '2320.96', '2755.54', '917.36', '2291.06', '2718.84', '1647.78',  \n",
      "\n",
      "\n",
      "34 >>> total_pymnt ( 42392 , float64 )\n",
      "\t Some values are:\n",
      "\t'5863.1551866952', '1008.71', '3005.6668441393', '12231.890000000902', '3581.12', '5632.209999999401', '10137.840007529006', '3939.1352939056974', '646.02', '1476.19',  \n",
      "\n",
      "\n",
      "35 >>> total_pymnt_inv ( 40129 , float64 )\n",
      "\t Some values are:\n",
      "\t'5833.84', '1008.71', '3005.67', '12231.89', '3581.12', '5632.21', '10137.84', '3939.14', '646.02', '1469.34',  \n",
      "\n",
      "\n",
      "36 >>> total_rec_prncp ( 8643 , float64 )\n",
      "\t Some values are:\n",
      "\t'5000.0', '456.46', '2400.0', '10000.0', '2538.27', '7000.0', '3000.0', '162.02', '673.48', '6500.0',  \n",
      "\n",
      "\n",
      "37 >>> total_rec_int ( 37607 , float64 )\n",
      "\t Some values are:\n",
      "\t'863.16', '435.17', '605.67', '2214.92', '1042.85', '632.21', '3137.84', '939.14', '294.94', '533.42',  \n",
      "\n",
      "\n",
      "38 >>> total_rec_late_fee ( 2282 , float64 )\n",
      "\t Some values are:\n",
      "\t'0.0', '16.97', '15.0000000305', '24.17', '15.000000000014', '1.0', '23.80000006407', '30.0000000001', '36.24699818069', '28.76',  \n",
      "\n",
      "\n",
      "39 >>> recoveries ( 4511 , float64 )\n",
      "\t Some values are:\n",
      "\t'0.0', '117.08', '189.06', '269.29', '444.3', '645.1', '269.31', '260.96', '107.0', '222.81',  \n",
      "\n",
      "\n",
      "40 >>> collection_recovery_fee ( 2837 , float64 )\n",
      "\t Some values are:\n",
      "\t'0.0', '1.11', '2.09', '2.52', '4.16', '6.3145', '2.57', '2.3', '1.07', '36.3708',  \n",
      "\n",
      "\n",
      "41 >>> last_pymnt_d ( 104 , object )\n",
      "\t Some values are:\n",
      "\t'Jan-2015', 'Apr-2013', 'Jun-2014', 'Jun-2016', 'May-2016', 'Apr-2012', 'Nov-2012', 'Jun-2013', 'Sep-2013', 'Jul-2012',  \n",
      "\n",
      "\n",
      "42 >>> last_pymnt_amnt ( 37025 , float64 )\n",
      "\t Some values are:\n",
      "\t'171.62', '119.66', '649.91', '357.48', '67.79', '161.03', '1313.76', '111.34', '152.39', '121.45',  \n",
      "\n",
      "\n",
      "43 >>> last_credit_pull_d ( 109 , object )\n",
      "\t Some values are:\n",
      "\t'Jun-2016', 'Sep-2013', 'Apr-2016', 'Jan-2016', 'May-2016', 'Dec-2014', 'Aug-2012', 'Mar-2013', 'Dec-2015', 'Aug-2013',  \n",
      "\n",
      "\n",
      "44 >>> collections_12_mths_ex_med ( 2 , float64 )\n",
      "\t [ 0. nan] \n",
      "\n",
      "\n",
      "45 >>> policy_code ( 2 , float64 )\n",
      "\t [ 1. nan] \n",
      "\n",
      "\n",
      "46 >>> application_type ( 2 , object )\n",
      "\t ['INDIVIDUAL' nan] \n",
      "\n",
      "\n",
      "47 >>> acc_now_delinq ( 3 , float64 )\n",
      "\t [ 0. nan  1.] \n",
      "\n",
      "\n",
      "48 >>> chargeoff_within_12_mths ( 2 , float64 )\n",
      "\t [ 0. nan] \n",
      "\n",
      "\n",
      "49 >>> delinq_amnt ( 4 , float64 )\n",
      "\t [   0.   nan   27. 6053.] \n",
      "\n",
      "\n",
      "50 >>> pub_rec_bankruptcies ( 4 , float64 )\n",
      "\t [ 0.  1.  2. nan] \n",
      "\n",
      "\n",
      "51 >>> tax_liens ( 3 , float64 )\n",
      "\t [ 0. nan  1.] \n",
      "\n",
      "\n"
     ]
    }
   ],
   "source": [
    "i = 0\n",
    "for col in loans.columns:\n",
    "    \n",
    "    unique_values = loans[col].unique()\n",
    "    unique_cnt = len(unique_values)\n",
    "    \n",
    "    print( i, \">>>\", col, \"(\", unique_cnt, \",\", loans[col].dtype, \")\" )\n",
    "    \n",
    "    i += 1\n",
    "    \n",
    "    if unique_cnt < 20:\n",
    "        print( \"\\t\", unique_values, \"\\n\\n\" )\n",
    "        \n",
    "    else:\n",
    "        j = 1\n",
    "        print( \"\\t Some values are:\" )\n",
    "        string = \"\\t\"\n",
    "        for val in unique_values:\n",
    "            string += \"'{}', \".format(val)\n",
    "            j += 1\n",
    "            if j == 11:\n",
    "                print( string, \"\\n\\n\" )\n",
    "                break\n",
    "\n"
   ]
  },
  {
   "cell_type": "markdown",
   "metadata": {},
   "source": [
    "### Features (Columns) Removal"
   ]
  },
  {
   "cell_type": "markdown",
   "metadata": {},
   "source": [
    "I will remove the following features (columns) because they don't affect a borrower's ability to pay back a loan:\n",
    "\n",
    "- `id`\n",
    "\n",
    "\n",
    "- `member_id`"
   ]
  },
  {
   "cell_type": "markdown",
   "metadata": {},
   "source": [
    "I will remove the following features because they contain only __1__ unique value (low variance feature). This means that the column isn't informative and isn't going to help the model to make better predictions.\n",
    "\n",
    "- `initial_list_status`\n",
    "\n",
    "\n",
    "- `collections_12_mths_ex_med`\n",
    "\n",
    "\n",
    "- `policy_code`\n",
    "\n",
    "\n",
    "- `application_type`\n",
    "\n",
    "\n",
    "- `chargeoff_within_12_mths`"
   ]
  },
  {
   "cell_type": "markdown",
   "metadata": {},
   "source": [
    "I will remove the following features because they require more data or a lot of processing to turn them into useful features:\n",
    "\n",
    "- `emp_title`\n",
    "\n",
    "\n",
    "- `title`"
   ]
  },
  {
   "cell_type": "markdown",
   "metadata": {},
   "source": [
    "#### > `emp_title`:\n",
    "As we can see below, this column contains a very large number of unique values (30,658 which represent the 72% of the column values) and has data quality issues since some of the values are repeated with slight modifications (e.g. `USAF`, `US Air Force`, `United States Air Force`; `JP Morgan Chase`, `JPMorgan Chase`; `US Army`, `U.S. Army`)."
   ]
  },
  {
   "cell_type": "code",
   "execution_count": 7,
   "metadata": {
    "scrolled": true
   },
   "outputs": [
    {
     "data": {
      "text/plain": [
       "count       39909\n",
       "unique      30658\n",
       "top       US Army\n",
       "freq          139\n",
       "Name: emp_title, dtype: object"
      ]
     },
     "execution_count": 7,
     "metadata": {},
     "output_type": "execute_result"
    }
   ],
   "source": [
    "loans['emp_title'].describe()"
   ]
  },
  {
   "cell_type": "code",
   "execution_count": 8,
   "metadata": {},
   "outputs": [
    {
     "data": {
      "text/plain": [
       "(42538, 52)"
      ]
     },
     "execution_count": 8,
     "metadata": {},
     "output_type": "execute_result"
    }
   ],
   "source": [
    "loans.shape"
   ]
  },
  {
   "cell_type": "code",
   "execution_count": 9,
   "metadata": {},
   "outputs": [
    {
     "data": {
      "text/plain": [
       "NaN                                 2629\n",
       "US Army                              139\n",
       "Bank of America                      115\n",
       "IBM                                   72\n",
       "Kaiser Permanente                     61\n",
       "                                    ... \n",
       "Regional Elite Airlines Services       1\n",
       "Mass General Medical Group             1\n",
       "Kontera                                1\n",
       "Southeast Georgia Health ystem         1\n",
       "Homemaker                              1\n",
       "Name: emp_title, Length: 30659, dtype: int64"
      ]
     },
     "execution_count": 9,
     "metadata": {},
     "output_type": "execute_result"
    }
   ],
   "source": [
    "loans['emp_title'].value_counts(dropna=False)"
   ]
  },
  {
   "cell_type": "code",
   "execution_count": 10,
   "metadata": {},
   "outputs": [
    {
     "data": {
      "text/plain": [
       "NaN                                 6.180356\n",
       "US Army                             0.326767\n",
       "Bank of America                     0.270347\n",
       "IBM                                 0.169260\n",
       "Kaiser Permanente                   0.143401\n",
       "                                      ...   \n",
       "Regional Elite Airlines Services    0.002351\n",
       "Mass General Medical Group          0.002351\n",
       "Kontera                             0.002351\n",
       "Southeast Georgia Health ystem      0.002351\n",
       "Homemaker                           0.002351\n",
       "Name: emp_title, Length: 30659, dtype: float64"
      ]
     },
     "execution_count": 10,
     "metadata": {},
     "output_type": "execute_result"
    }
   ],
   "source": [
    "loans['emp_title'].value_counts(dropna=False, normalize=True) * 100"
   ]
  },
  {
   "cell_type": "code",
   "execution_count": 11,
   "metadata": {
    "scrolled": true
   },
   "outputs": [
    {
     "data": {
      "text/plain": [
       "NaN                        2629\n",
       "US Army                     139\n",
       "Bank of America             115\n",
       "IBM                          72\n",
       "Kaiser Permanente            61\n",
       "AT&T                         61\n",
       "UPS                          58\n",
       "Wells Fargo                  57\n",
       "USAF                         56\n",
       "US Air Force                 55\n",
       "Self Employed                49\n",
       "United States Air Force      48\n",
       "Walmart                      47\n",
       "Lockheed Martin              46\n",
       "State of California          45\n",
       "Verizon Wireless             43\n",
       "U.S. Army                    42\n",
       "Walgreens                    41\n",
       "USPS                         41\n",
       "US ARMY                      40\n",
       "Self                         39\n",
       "Best Buy                     38\n",
       "JPMorgan Chase               38\n",
       "Target                       38\n",
       "JP Morgan Chase              38\n",
       "Name: emp_title, dtype: int64"
      ]
     },
     "execution_count": 11,
     "metadata": {},
     "output_type": "execute_result"
    }
   ],
   "source": [
    "loans['emp_title'].value_counts(dropna=False).head(25)"
   ]
  },
  {
   "cell_type": "markdown",
   "metadata": {},
   "source": [
    "#### > `title`:\n",
    "As we can see below, this column contains a large number of unique values (21,264 which represent the 50% of the column values) and has data quality issues since some of the values are repeated with slight modifications (e.g. `Debt Consolidation`, `Debt Consolidation Loan`, `debt consolidation`, `debt_consolidation`).\n",
    "\n",
    "Also, the `title` and `purpose` columns contain very similar information. The `purpose` column only contains 15 unique values. Therefore, I will remove the `title` column and keep the `purpose` column."
   ]
  },
  {
   "cell_type": "code",
   "execution_count": 12,
   "metadata": {
    "scrolled": true
   },
   "outputs": [
    {
     "data": {
      "text/plain": [
       "count                  42522\n",
       "unique                 21264\n",
       "top       Debt Consolidation\n",
       "freq                    2259\n",
       "Name: title, dtype: object"
      ]
     },
     "execution_count": 12,
     "metadata": {},
     "output_type": "execute_result"
    }
   ],
   "source": [
    "loans['title'].describe()"
   ]
  },
  {
   "cell_type": "code",
   "execution_count": 13,
   "metadata": {},
   "outputs": [
    {
     "data": {
      "text/plain": [
       "16"
      ]
     },
     "execution_count": 13,
     "metadata": {},
     "output_type": "execute_result"
    }
   ],
   "source": [
    "loans['title'].isnull().sum()"
   ]
  },
  {
   "cell_type": "code",
   "execution_count": 14,
   "metadata": {},
   "outputs": [
    {
     "data": {
      "text/plain": [
       "Debt Consolidation                  2259\n",
       "Debt Consolidation Loan             1760\n",
       "Personal Loan                        708\n",
       "Consolidation                        547\n",
       "debt consolidation                   532\n",
       "                                    ... \n",
       "CitiCard PayOff                        1\n",
       "Taxes Loan                             1\n",
       "Blazing in 5 years                     1\n",
       "I was scammed and now recovering       1\n",
       "Aroundthehouse                         1\n",
       "Name: title, Length: 21265, dtype: int64"
      ]
     },
     "execution_count": 14,
     "metadata": {},
     "output_type": "execute_result"
    }
   ],
   "source": [
    "loans['title'].value_counts(dropna=False)"
   ]
  },
  {
   "cell_type": "code",
   "execution_count": 15,
   "metadata": {},
   "outputs": [
    {
     "data": {
      "text/plain": [
       "Debt Consolidation                  5.310546\n",
       "Debt Consolidation Loan             4.137477\n",
       "Personal Loan                       1.664394\n",
       "Consolidation                       1.285909\n",
       "debt consolidation                  1.250646\n",
       "                                      ...   \n",
       "CitiCard PayOff                     0.002351\n",
       "Taxes Loan                          0.002351\n",
       "Blazing in 5 years                  0.002351\n",
       "I was scammed and now recovering    0.002351\n",
       "Aroundthehouse                      0.002351\n",
       "Name: title, Length: 21265, dtype: float64"
      ]
     },
     "execution_count": 15,
     "metadata": {},
     "output_type": "execute_result"
    }
   ],
   "source": [
    "loans['title'].value_counts(dropna=False, normalize=True) * 100"
   ]
  },
  {
   "cell_type": "code",
   "execution_count": 16,
   "metadata": {
    "scrolled": true
   },
   "outputs": [
    {
     "data": {
      "text/plain": [
       "Debt Consolidation                2259\n",
       "Debt Consolidation Loan           1760\n",
       "Personal Loan                      708\n",
       "Consolidation                      547\n",
       "debt consolidation                 532\n",
       "Home Improvement                   373\n",
       "Credit Card Consolidation          370\n",
       "Debt consolidation                 347\n",
       "Small Business Loan                333\n",
       "Personal                           330\n",
       "Credit Card Loan                   323\n",
       "personal loan                      266\n",
       "Consolidation Loan                 264\n",
       "Home Improvement Loan              255\n",
       "personal                           247\n",
       "Loan                               218\n",
       "consolidation                      217\n",
       "Wedding Loan                       217\n",
       "Car Loan                           206\n",
       "Other Loan                         192\n",
       "Credit Card Payoff                 164\n",
       "Wedding                            160\n",
       "Credit Card Refinance              147\n",
       "Major Purchase Loan                146\n",
       "Consolidate                        141\n",
       "Medical                            124\n",
       "Credit Card                        124\n",
       "home improvement                   117\n",
       "My Loan                             96\n",
       "Credit Cards                        95\n",
       "loan                                90\n",
       "Debt                                89\n",
       "Business Loan                       88\n",
       "Freedom                             81\n",
       "Personal loan                       80\n",
       "consolidate                         80\n",
       "Moving Loan                         78\n",
       "debt_consolidation                  68\n",
       "Debt Consolidation                  67\n",
       "Motorcycle                          66\n",
       "Home improvement                    66\n",
       "Major Purchase                      66\n",
       "Debt Loan                           64\n",
       "Consolidate Debt                    64\n",
       "Medical Loan                        64\n",
       "Credit Card Debt Consolidation      63\n",
       "Engagement Ring                     60\n",
       "Other                               59\n",
       "DEBT CONSOLIDATION                  59\n",
       "debt consolidation loan             59\n",
       "Name: title, dtype: int64"
      ]
     },
     "execution_count": 16,
     "metadata": {},
     "output_type": "execute_result"
    }
   ],
   "source": [
    "loans['title'].value_counts(dropna=False).head(50)"
   ]
  },
  {
   "cell_type": "code",
   "execution_count": 17,
   "metadata": {},
   "outputs": [
    {
     "data": {
      "text/plain": [
       "array(['credit_card', 'car', 'small_business', 'other', 'wedding',\n",
       "       'debt_consolidation', 'home_improvement', 'major_purchase',\n",
       "       'medical', 'moving', 'vacation', 'house', 'renewable_energy',\n",
       "       'educational', nan], dtype=object)"
      ]
     },
     "execution_count": 17,
     "metadata": {},
     "output_type": "execute_result"
    }
   ],
   "source": [
    "loans['purpose'].unique()"
   ]
  },
  {
   "cell_type": "markdown",
   "metadata": {},
   "source": [
    "I will __remove__ the following features because they __leak information from the future__, meaning that they're describing aspects of the loan after it's already been fully funded and started to be paid off by the borrower.\n",
    "\n",
    "- `funded_amt`, `funded_amnt_inv`, `issue_d`, `out_prncp`, `out_prncp_inv`, `total_pymnt`, `total_pymnt_inv`, `total_rec_prncp`, `total_rec_int`, `total_rec_late_fee`, `recoveries`, `collection_recovery_fee`, `last_pymnt_d`, `last_pymnt_amnt`, `earliest_cr_line`, `last_credit_pull_d`"
   ]
  },
  {
   "cell_type": "markdown",
   "metadata": {},
   "source": [
    "I will remove the following features because they contain redundant information.\n",
    "\n",
    "- `grade`\n",
    "\n",
    "\n",
    "- `sub_grade`\n",
    "\n",
    "\n",
    "- `zip_code`"
   ]
  },
  {
   "cell_type": "markdown",
   "metadata": {},
   "source": [
    "#### > `grade` and `sub_grade`:\n",
    "These two columns are based on the borrower's interest rate (`int_rate` column). I prefer to use `int_rate` which contains continuous values than `grade` and `sub_grade` which values are categorical. Continuous values are better suited for machine learning."
   ]
  },
  {
   "cell_type": "code",
   "execution_count": 18,
   "metadata": {
    "scrolled": true
   },
   "outputs": [
    {
     "data": {
      "text/html": [
       "<div>\n",
       "<style scoped>\n",
       "    .dataframe tbody tr th:only-of-type {\n",
       "        vertical-align: middle;\n",
       "    }\n",
       "\n",
       "    .dataframe tbody tr th {\n",
       "        vertical-align: top;\n",
       "    }\n",
       "\n",
       "    .dataframe thead th {\n",
       "        text-align: right;\n",
       "    }\n",
       "</style>\n",
       "<table border=\"1\" class=\"dataframe\">\n",
       "  <thead>\n",
       "    <tr style=\"text-align: right;\">\n",
       "      <th></th>\n",
       "      <th>grade</th>\n",
       "      <th>sub_grade</th>\n",
       "      <th>int_rate</th>\n",
       "    </tr>\n",
       "  </thead>\n",
       "  <tbody>\n",
       "    <tr>\n",
       "      <th>22013</th>\n",
       "      <td>A</td>\n",
       "      <td>A1</td>\n",
       "      <td>5.42%</td>\n",
       "    </tr>\n",
       "    <tr>\n",
       "      <th>14928</th>\n",
       "      <td>A</td>\n",
       "      <td>A3</td>\n",
       "      <td>6.99%</td>\n",
       "    </tr>\n",
       "    <tr>\n",
       "      <th>22469</th>\n",
       "      <td>A</td>\n",
       "      <td>A5</td>\n",
       "      <td>6.91%</td>\n",
       "    </tr>\n",
       "    <tr>\n",
       "      <th>30871</th>\n",
       "      <td>A</td>\n",
       "      <td>A5</td>\n",
       "      <td>7.88%</td>\n",
       "    </tr>\n",
       "    <tr>\n",
       "      <th>10903</th>\n",
       "      <td>A</td>\n",
       "      <td>A5</td>\n",
       "      <td>8.49%</td>\n",
       "    </tr>\n",
       "    <tr>\n",
       "      <th>16320</th>\n",
       "      <td>A</td>\n",
       "      <td>A5</td>\n",
       "      <td>7.66%</td>\n",
       "    </tr>\n",
       "    <tr>\n",
       "      <th>11980</th>\n",
       "      <td>B</td>\n",
       "      <td>B1</td>\n",
       "      <td>9.99%</td>\n",
       "    </tr>\n",
       "    <tr>\n",
       "      <th>26507</th>\n",
       "      <td>B</td>\n",
       "      <td>B1</td>\n",
       "      <td>10.38%</td>\n",
       "    </tr>\n",
       "    <tr>\n",
       "      <th>10043</th>\n",
       "      <td>B</td>\n",
       "      <td>B1</td>\n",
       "      <td>9.99%</td>\n",
       "    </tr>\n",
       "    <tr>\n",
       "      <th>5229</th>\n",
       "      <td>B</td>\n",
       "      <td>B1</td>\n",
       "      <td>9.91%</td>\n",
       "    </tr>\n",
       "    <tr>\n",
       "      <th>9992</th>\n",
       "      <td>B</td>\n",
       "      <td>B2</td>\n",
       "      <td>10.59%</td>\n",
       "    </tr>\n",
       "    <tr>\n",
       "      <th>30096</th>\n",
       "      <td>B</td>\n",
       "      <td>B2</td>\n",
       "      <td>10.25%</td>\n",
       "    </tr>\n",
       "    <tr>\n",
       "      <th>37996</th>\n",
       "      <td>B</td>\n",
       "      <td>B4</td>\n",
       "      <td>11.89%</td>\n",
       "    </tr>\n",
       "    <tr>\n",
       "      <th>3459</th>\n",
       "      <td>B</td>\n",
       "      <td>B4</td>\n",
       "      <td>12.42%</td>\n",
       "    </tr>\n",
       "    <tr>\n",
       "      <th>24913</th>\n",
       "      <td>B</td>\n",
       "      <td>B5</td>\n",
       "      <td>11.86%</td>\n",
       "    </tr>\n",
       "    <tr>\n",
       "      <th>4133</th>\n",
       "      <td>C</td>\n",
       "      <td>C1</td>\n",
       "      <td>13.49%</td>\n",
       "    </tr>\n",
       "    <tr>\n",
       "      <th>38146</th>\n",
       "      <td>C</td>\n",
       "      <td>C1</td>\n",
       "      <td>11.78%</td>\n",
       "    </tr>\n",
       "    <tr>\n",
       "      <th>23588</th>\n",
       "      <td>C</td>\n",
       "      <td>C2</td>\n",
       "      <td>12.61%</td>\n",
       "    </tr>\n",
       "    <tr>\n",
       "      <th>36742</th>\n",
       "      <td>C</td>\n",
       "      <td>C2</td>\n",
       "      <td>12.84%</td>\n",
       "    </tr>\n",
       "    <tr>\n",
       "      <th>20782</th>\n",
       "      <td>C</td>\n",
       "      <td>C3</td>\n",
       "      <td>13.43%</td>\n",
       "    </tr>\n",
       "    <tr>\n",
       "      <th>26726</th>\n",
       "      <td>C</td>\n",
       "      <td>C3</td>\n",
       "      <td>13.98%</td>\n",
       "    </tr>\n",
       "    <tr>\n",
       "      <th>36022</th>\n",
       "      <td>C</td>\n",
       "      <td>C4</td>\n",
       "      <td>13.47%</td>\n",
       "    </tr>\n",
       "    <tr>\n",
       "      <th>32758</th>\n",
       "      <td>C</td>\n",
       "      <td>C4</td>\n",
       "      <td>13.85%</td>\n",
       "    </tr>\n",
       "    <tr>\n",
       "      <th>11503</th>\n",
       "      <td>C</td>\n",
       "      <td>C5</td>\n",
       "      <td>15.23%</td>\n",
       "    </tr>\n",
       "    <tr>\n",
       "      <th>14683</th>\n",
       "      <td>D</td>\n",
       "      <td>D1</td>\n",
       "      <td>15.62%</td>\n",
       "    </tr>\n",
       "    <tr>\n",
       "      <th>31373</th>\n",
       "      <td>D</td>\n",
       "      <td>D1</td>\n",
       "      <td>14.59%</td>\n",
       "    </tr>\n",
       "    <tr>\n",
       "      <th>22832</th>\n",
       "      <td>D</td>\n",
       "      <td>D4</td>\n",
       "      <td>15.20%</td>\n",
       "    </tr>\n",
       "    <tr>\n",
       "      <th>20944</th>\n",
       "      <td>D</td>\n",
       "      <td>D4</td>\n",
       "      <td>15.65%</td>\n",
       "    </tr>\n",
       "    <tr>\n",
       "      <th>10988</th>\n",
       "      <td>E</td>\n",
       "      <td>E1</td>\n",
       "      <td>17.99%</td>\n",
       "    </tr>\n",
       "    <tr>\n",
       "      <th>41585</th>\n",
       "      <td>G</td>\n",
       "      <td>G5</td>\n",
       "      <td>18.61%</td>\n",
       "    </tr>\n",
       "  </tbody>\n",
       "</table>\n",
       "</div>"
      ],
      "text/plain": [
       "      grade sub_grade int_rate\n",
       "22013     A        A1    5.42%\n",
       "14928     A        A3    6.99%\n",
       "22469     A        A5    6.91%\n",
       "30871     A        A5    7.88%\n",
       "10903     A        A5    8.49%\n",
       "16320     A        A5    7.66%\n",
       "11980     B        B1    9.99%\n",
       "26507     B        B1   10.38%\n",
       "10043     B        B1    9.99%\n",
       "5229      B        B1    9.91%\n",
       "9992      B        B2   10.59%\n",
       "30096     B        B2   10.25%\n",
       "37996     B        B4   11.89%\n",
       "3459      B        B4   12.42%\n",
       "24913     B        B5   11.86%\n",
       "4133      C        C1   13.49%\n",
       "38146     C        C1   11.78%\n",
       "23588     C        C2   12.61%\n",
       "36742     C        C2   12.84%\n",
       "20782     C        C3   13.43%\n",
       "26726     C        C3   13.98%\n",
       "36022     C        C4   13.47%\n",
       "32758     C        C4   13.85%\n",
       "11503     C        C5   15.23%\n",
       "14683     D        D1   15.62%\n",
       "31373     D        D1   14.59%\n",
       "22832     D        D4   15.20%\n",
       "20944     D        D4   15.65%\n",
       "10988     E        E1   17.99%\n",
       "41585     G        G5   18.61%"
      ]
     },
     "execution_count": 18,
     "metadata": {},
     "output_type": "execute_result"
    }
   ],
   "source": [
    "loans[['grade', 'sub_grade', 'int_rate']].sample(30).sort_values( by=['grade', 'sub_grade'] )"
   ]
  },
  {
   "cell_type": "code",
   "execution_count": 19,
   "metadata": {
    "scrolled": true
   },
   "outputs": [
    {
     "name": "stdout",
     "output_type": "stream",
     "text": [
      "<class 'pandas.core.frame.DataFrame'>\n",
      "RangeIndex: 42538 entries, 0 to 42537\n",
      "Data columns (total 3 columns):\n",
      " #   Column     Non-Null Count  Dtype \n",
      "---  ------     --------------  ----- \n",
      " 0   grade      42535 non-null  object\n",
      " 1   sub_grade  42535 non-null  object\n",
      " 2   int_rate   42535 non-null  object\n",
      "dtypes: object(3)\n",
      "memory usage: 997.1+ KB\n"
     ]
    }
   ],
   "source": [
    "tmp_1 = loans[['grade', 'sub_grade', 'int_rate']].copy()\n",
    "\n",
    "tmp_1.info()\n"
   ]
  },
  {
   "cell_type": "code",
   "execution_count": 20,
   "metadata": {},
   "outputs": [],
   "source": [
    "tmp_1['int_rate'] = tmp_1['int_rate'].str.rstrip(\"%\").astype(\"float\")\n"
   ]
  },
  {
   "cell_type": "code",
   "execution_count": 21,
   "metadata": {},
   "outputs": [
    {
     "name": "stdout",
     "output_type": "stream",
     "text": [
      "<class 'pandas.core.frame.DataFrame'>\n",
      "RangeIndex: 42538 entries, 0 to 42537\n",
      "Data columns (total 3 columns):\n",
      " #   Column     Non-Null Count  Dtype  \n",
      "---  ------     --------------  -----  \n",
      " 0   grade      42535 non-null  object \n",
      " 1   sub_grade  42535 non-null  object \n",
      " 2   int_rate   42535 non-null  float64\n",
      "dtypes: float64(1), object(2)\n",
      "memory usage: 997.1+ KB\n"
     ]
    }
   ],
   "source": [
    "tmp_1.info()"
   ]
  },
  {
   "cell_type": "code",
   "execution_count": 22,
   "metadata": {},
   "outputs": [
    {
     "data": {
      "text/plain": [
       "array(['B', 'C', 'A', 'E', 'F', 'D', 'G', nan], dtype=object)"
      ]
     },
     "execution_count": 22,
     "metadata": {},
     "output_type": "execute_result"
    }
   ],
   "source": [
    "tmp_1['grade'].unique()"
   ]
  },
  {
   "cell_type": "code",
   "execution_count": 23,
   "metadata": {},
   "outputs": [
    {
     "data": {
      "text/plain": [
       "A      10183\n",
       "B      12389\n",
       "C       8740\n",
       "D       6016\n",
       "E       3394\n",
       "F       1301\n",
       "G        512\n",
       "NaN        3\n",
       "Name: grade, dtype: int64"
      ]
     },
     "execution_count": 23,
     "metadata": {},
     "output_type": "execute_result"
    }
   ],
   "source": [
    "tmp_1['grade'].value_counts(dropna=False).sort_index()"
   ]
  },
  {
   "cell_type": "code",
   "execution_count": 24,
   "metadata": {
    "scrolled": true
   },
   "outputs": [
    {
     "name": "stdout",
     "output_type": "stream",
     "text": [
      ">> Grade: A\n",
      " - Sub-grades: ['A4' 'A1' 'A3' 'A5' 'A2']\n",
      " - Interest Rate info:\n",
      " count    10183.000000\n",
      "mean         7.342708\n",
      "std          1.032999\n",
      "min          5.420000\n",
      "25%          6.620000\n",
      "50%          7.490000\n",
      "75%          7.900000\n",
      "max          9.630000\n",
      "Name: int_rate, dtype: float64 \n",
      "\n",
      ">> Grade: B\n",
      " - Sub-grades: ['B2' 'B5' 'B1' 'B3' 'B4']\n",
      " - Interest Rate info:\n",
      " count    12389.000000\n",
      "mean        11.014209\n",
      "std          0.905096\n",
      "min          6.000000\n",
      "25%         10.370000\n",
      "50%         10.990000\n",
      "75%         11.710000\n",
      "max         12.690000\n",
      "Name: int_rate, dtype: float64 \n",
      "\n",
      ">> Grade: C\n",
      " - Sub-grades: ['C4' 'C5' 'C1' 'C3' 'C2']\n",
      " - Interest Rate info:\n",
      " count    8740.000000\n",
      "mean       13.499889\n",
      "std         0.972367\n",
      "min         6.000000\n",
      "25%        12.990000\n",
      "50%        13.490000\n",
      "75%        13.990000\n",
      "max        16.110000\n",
      "Name: int_rate, dtype: float64 \n",
      "\n",
      ">> Grade: D\n",
      " - Sub-grades: ['D1' 'D2' 'D5' 'D3' 'D4']\n",
      " - Interest Rate info:\n",
      " count    6016.000000\n",
      "mean       15.577149\n",
      "std         1.242256\n",
      "min         6.000000\n",
      "25%        14.840000\n",
      "50%        15.580000\n",
      "75%        16.320000\n",
      "max        18.490000\n",
      "Name: int_rate, dtype: float64 \n",
      "\n",
      ">> Grade: E\n",
      " - Sub-grades: ['E1' 'E4' 'E3' 'E5' 'E2']\n",
      " - Interest Rate info:\n",
      " count    3394.000000\n",
      "mean       17.376768\n",
      "std         1.595556\n",
      "min         6.000000\n",
      "25%        16.450000\n",
      "50%        17.190000\n",
      "75%        18.640000\n",
      "max        20.990000\n",
      "Name: int_rate, dtype: float64 \n",
      "\n",
      ">> Grade: F\n",
      " - Sub-grades: ['F2' 'F3' 'F4' 'F1' 'F5']\n",
      " - Interest Rate info:\n",
      " count    1301.000000\n",
      "mean       19.265304\n",
      "std         1.781800\n",
      "min        15.010000\n",
      "25%        18.250000\n",
      "50%        19.040000\n",
      "75%        20.890000\n",
      "max        22.940000\n",
      "Name: int_rate, dtype: float64 \n",
      "\n",
      ">> Grade: G\n",
      " - Sub-grades: ['G4' 'G3' 'G2' 'G1' 'G5']\n",
      " - Interest Rate info:\n",
      " count    512.000000\n",
      "mean      20.451250\n",
      "std        1.828966\n",
      "min       16.590000\n",
      "25%       19.160000\n",
      "50%       20.480000\n",
      "75%       21.640000\n",
      "max       24.590000\n",
      "Name: int_rate, dtype: float64 \n",
      "\n"
     ]
    }
   ],
   "source": [
    "import numpy as np\n",
    "\n",
    "grades = list( tmp_1['grade'].unique() )\n",
    "\n",
    "grades.remove(np.nan)\n",
    "\n",
    "grades.sort()\n",
    "\n",
    "\n",
    "for grade in grades:\n",
    "    \n",
    "    grade_bool = tmp_1['grade'] == grade\n",
    "    \n",
    "    print( \">> Grade:\", grade )\n",
    "    \n",
    "    print( \" - Sub-grades:\", tmp_1[grade_bool]['sub_grade'].unique() )\n",
    "    \n",
    "    print( \" - Interest Rate info:\\n\", tmp_1[grade_bool]['int_rate'].describe(), \"\\n\" )\n"
   ]
  },
  {
   "cell_type": "code",
   "execution_count": 83,
   "metadata": {},
   "outputs": [
    {
     "data": {
      "image/png": "[encoded data removed]",
      "text/plain": [
       "<Figure size 720x432 with 1 Axes>"
      ]
     },
     "metadata": {
      "needs_background": "light"
     },
     "output_type": "display_data"
    }
   ],
   "source": [
    "import matplotlib.pyplot as plt\n",
    "import seaborn as sns\n",
    "\n",
    "fig, ax = plt.subplots(figsize=(10,6))\n",
    "\n",
    "sns.boxplot( ax = ax, x = 'grade', y = 'int_rate', data = tmp_1, \\\n",
    "             order=['A', 'B', 'C', 'D', 'E', 'F', 'G'] )\n",
    "\n",
    "\n",
    "plt.title('Interest Rate per Grade\\n(Distributions)', fontsize = 16)\n",
    "\n",
    "plt.ylabel('Interest Rate (%)')\n",
    "\n",
    "plt.xlabel('Grade')\n",
    "\n",
    "plt.show()\n"
   ]
  },
  {
   "cell_type": "markdown",
   "metadata": {},
   "source": [
    "#### > `zip_code`:\n",
    "This column is redundant with the `addr_state` column since only the first 3 digits of the 5-digit zip code are visible which can only be used to identify the state the borrower lives in."
   ]
  },
  {
   "cell_type": "code",
   "execution_count": 26,
   "metadata": {},
   "outputs": [
    {
     "data": {
      "text/plain": [
       "0    860xx\n",
       "1    309xx\n",
       "2    606xx\n",
       "3    917xx\n",
       "4    972xx\n",
       "Name: zip_code, dtype: object"
      ]
     },
     "execution_count": 26,
     "metadata": {},
     "output_type": "execute_result"
    }
   ],
   "source": [
    "loans['zip_code'].head()"
   ]
  },
  {
   "cell_type": "code",
   "execution_count": 27,
   "metadata": {},
   "outputs": [
    {
     "data": {
      "text/plain": [
       "0    AZ\n",
       "1    GA\n",
       "2    IL\n",
       "3    CA\n",
       "4    OR\n",
       "Name: addr_state, dtype: object"
      ]
     },
     "execution_count": 27,
     "metadata": {},
     "output_type": "execute_result"
    }
   ],
   "source": [
    "loans['addr_state'].head()"
   ]
  },
  {
   "cell_type": "markdown",
   "metadata": {},
   "source": [
    "Let's proceed to drop the columns:"
   ]
  },
  {
   "cell_type": "code",
   "execution_count": 28,
   "metadata": {},
   "outputs": [],
   "source": [
    "loans.drop( columns=[\"id\", \"member_id\", \"initial_list_status\", \"collections_12_mths_ex_med\", \\\n",
    "                     \"policy_code\", \"application_type\", \"chargeoff_within_12_mths\", \\\n",
    "                     \"emp_title\", \"title\", \"funded_amnt\", \"funded_amnt_inv\", \"issue_d\", \\\n",
    "                     \"out_prncp\", \"out_prncp_inv\", \"total_pymnt\", \"total_pymnt_inv\", \\\n",
    "                     \"total_rec_prncp\", \"total_rec_int\", \"total_rec_late_fee\", \"recoveries\", \\\n",
    "                     \"collection_recovery_fee\", \"last_pymnt_d\", \"last_pymnt_amnt\", \\\n",
    "                     \"earliest_cr_line\", \"last_credit_pull_d\", \"grade\", \"sub_grade\", \\\n",
    "                     \"zip_code\"], inplace=True )\n"
   ]
  },
  {
   "cell_type": "code",
   "execution_count": 29,
   "metadata": {
    "scrolled": false
   },
   "outputs": [
    {
     "name": "stdout",
     "output_type": "stream",
     "text": [
      "<class 'pandas.core.frame.DataFrame'>\n",
      "RangeIndex: 42538 entries, 0 to 42537\n",
      "Data columns (total 24 columns):\n",
      " #   Column                Non-Null Count  Dtype  \n",
      "---  ------                --------------  -----  \n",
      " 0   loan_amnt             42535 non-null  float64\n",
      " 1   term                  42535 non-null  object \n",
      " 2   int_rate              42535 non-null  object \n",
      " 3   installment           42535 non-null  float64\n",
      " 4   emp_length            41423 non-null  object \n",
      " 5   home_ownership        42535 non-null  object \n",
      " 6   annual_inc            42531 non-null  float64\n",
      " 7   verification_status   42535 non-null  object \n",
      " 8   loan_status           42535 non-null  object \n",
      " 9   pymnt_plan            42535 non-null  object \n",
      " 10  purpose               42535 non-null  object \n",
      " 11  addr_state            42535 non-null  object \n",
      " 12  dti                   42535 non-null  float64\n",
      " 13  delinq_2yrs           42506 non-null  float64\n",
      " 14  inq_last_6mths        42506 non-null  float64\n",
      " 15  open_acc              42506 non-null  float64\n",
      " 16  pub_rec               42506 non-null  float64\n",
      " 17  revol_bal             42535 non-null  float64\n",
      " 18  revol_util            42445 non-null  object \n",
      " 19  total_acc             42506 non-null  float64\n",
      " 20  acc_now_delinq        42506 non-null  float64\n",
      " 21  delinq_amnt           42506 non-null  float64\n",
      " 22  pub_rec_bankruptcies  41170 non-null  float64\n",
      " 23  tax_liens             42430 non-null  float64\n",
      "dtypes: float64(14), object(10)\n",
      "memory usage: 7.8+ MB\n"
     ]
    }
   ],
   "source": [
    "loans.info()"
   ]
  },
  {
   "cell_type": "code",
   "execution_count": 30,
   "metadata": {
    "scrolled": true
   },
   "outputs": [
    {
     "data": {
      "text/plain": [
       "(42538, 24)"
      ]
     },
     "execution_count": 30,
     "metadata": {},
     "output_type": "execute_result"
    }
   ],
   "source": [
    "loans.shape"
   ]
  },
  {
   "cell_type": "markdown",
   "metadata": {},
   "source": [
    "### Missing Values"
   ]
  },
  {
   "cell_type": "markdown",
   "metadata": {},
   "source": [
    "Let's check the proportions of the missing values:"
   ]
  },
  {
   "cell_type": "code",
   "execution_count": 31,
   "metadata": {
    "scrolled": true
   },
   "outputs": [
    {
     "data": {
      "text/plain": [
       "pub_rec_bankruptcies    1368\n",
       "emp_length              1115\n",
       "tax_liens                108\n",
       "revol_util                93\n",
       "delinq_2yrs               32\n",
       "delinq_amnt               32\n",
       "acc_now_delinq            32\n",
       "total_acc                 32\n",
       "pub_rec                   32\n",
       "open_acc                  32\n",
       "inq_last_6mths            32\n",
       "annual_inc                 7\n",
       "revol_bal                  3\n",
       "loan_amnt                  3\n",
       "term                       3\n",
       "addr_state                 3\n",
       "purpose                    3\n",
       "pymnt_plan                 3\n",
       "loan_status                3\n",
       "verification_status        3\n",
       "home_ownership             3\n",
       "installment                3\n",
       "int_rate                   3\n",
       "dti                        3\n",
       "dtype: int64"
      ]
     },
     "execution_count": 31,
     "metadata": {},
     "output_type": "execute_result"
    }
   ],
   "source": [
    "loans.isnull().sum().sort_values(ascending=False)"
   ]
  },
  {
   "cell_type": "code",
   "execution_count": 32,
   "metadata": {
    "scrolled": true
   },
   "outputs": [
    {
     "name": "stdout",
     "output_type": "stream",
     "text": [
      "                      null_count  null_count_percentage\n",
      "pub_rec_bankruptcies        1368               3.215948\n",
      "emp_length                  1115               2.621186\n",
      "tax_liens                    108               0.253891\n",
      "revol_util                    93               0.218628\n",
      "delinq_2yrs                   32               0.075227\n",
      "delinq_amnt                   32               0.075227\n",
      "acc_now_delinq                32               0.075227\n",
      "total_acc                     32               0.075227\n",
      "pub_rec                       32               0.075227\n",
      "open_acc                      32               0.075227\n",
      "inq_last_6mths                32               0.075227\n",
      "annual_inc                     7               0.016456\n",
      "revol_bal                      3               0.007053\n",
      "loan_amnt                      3               0.007053\n",
      "term                           3               0.007053\n",
      "addr_state                     3               0.007053\n",
      "purpose                        3               0.007053\n",
      "pymnt_plan                     3               0.007053\n",
      "loan_status                    3               0.007053\n",
      "verification_status            3               0.007053\n",
      "home_ownership                 3               0.007053\n",
      "installment                    3               0.007053\n",
      "int_rate                       3               0.007053\n",
      "dti                            3               0.007053\n"
     ]
    }
   ],
   "source": [
    "nulls_count = loans.isnull().sum().sort_values(ascending=False)\n",
    "\n",
    "nulls_count_df = pd.DataFrame(nulls_count, columns=[\"null_count\"])\n",
    "\n",
    "nulls_count_df['null_count_percentage'] = ( nulls_count_df['null_count'] / loans.shape[0] ) * 100\n",
    "\n",
    "print( nulls_count_df )\n"
   ]
  },
  {
   "cell_type": "markdown",
   "metadata": {},
   "source": [
    "Above, we can see that the following two columns contain the highest number of missing values (although they both represent a very small percentage of the total number of rows):\n",
    "\n",
    "- `pub_rec_bankruptcies`\n",
    "\n",
    "\n",
    "- `emp_length`"
   ]
  },
  {
   "cell_type": "markdown",
   "metadata": {},
   "source": [
    "#### > `pub_rec_bankruptcies`:"
   ]
  },
  {
   "cell_type": "code",
   "execution_count": 33,
   "metadata": {},
   "outputs": [
    {
     "data": {
      "text/plain": [
       "0.0    39316\n",
       "1.0     1846\n",
       "NaN     1368\n",
       "2.0        8\n",
       "Name: pub_rec_bankruptcies, dtype: int64"
      ]
     },
     "execution_count": 33,
     "metadata": {},
     "output_type": "execute_result"
    }
   ],
   "source": [
    "loans['pub_rec_bankruptcies'].value_counts(dropna=False)"
   ]
  },
  {
   "cell_type": "code",
   "execution_count": 34,
   "metadata": {},
   "outputs": [
    {
     "data": {
      "text/plain": [
       "0.0    92.425596\n",
       "1.0     4.339649\n",
       "NaN     3.215948\n",
       "2.0     0.018807\n",
       "Name: pub_rec_bankruptcies, dtype: float64"
      ]
     },
     "execution_count": 34,
     "metadata": {},
     "output_type": "execute_result"
    }
   ],
   "source": [
    "loans['pub_rec_bankruptcies'].value_counts(dropna=False, normalize=True) * 100"
   ]
  },
  {
   "cell_type": "markdown",
   "metadata": {},
   "source": [
    "We can see that this column has __very little variability__, 92% of values are in the same category. It probably won't have much predictive value. \n",
    "\n",
    "Let's drop the `pub_rec_bankruptcies` column."
   ]
  },
  {
   "cell_type": "code",
   "execution_count": 35,
   "metadata": {},
   "outputs": [
    {
     "data": {
      "text/plain": [
       "(42538, 24)"
      ]
     },
     "execution_count": 35,
     "metadata": {},
     "output_type": "execute_result"
    }
   ],
   "source": [
    "loans.shape"
   ]
  },
  {
   "cell_type": "code",
   "execution_count": 36,
   "metadata": {},
   "outputs": [],
   "source": [
    "loans.drop( columns=['pub_rec_bankruptcies'], inplace=True )"
   ]
  },
  {
   "cell_type": "code",
   "execution_count": 37,
   "metadata": {},
   "outputs": [
    {
     "data": {
      "text/plain": [
       "(42538, 23)"
      ]
     },
     "execution_count": 37,
     "metadata": {},
     "output_type": "execute_result"
    }
   ],
   "source": [
    "loans.shape"
   ]
  },
  {
   "cell_type": "markdown",
   "metadata": {},
   "source": [
    "#### > `emp_length`:\n",
    "\n",
    "Since this column contains only 2.6% of missing values, I will drop its missing values:"
   ]
  },
  {
   "cell_type": "code",
   "execution_count": 38,
   "metadata": {
    "scrolled": true
   },
   "outputs": [
    {
     "name": "stdout",
     "output_type": "stream",
     "text": [
      "<class 'pandas.core.frame.DataFrame'>\n",
      "Int64Index: 41423 entries, 0 to 42535\n",
      "Data columns (total 23 columns):\n",
      " #   Column               Non-Null Count  Dtype  \n",
      "---  ------               --------------  -----  \n",
      " 0   loan_amnt            41423 non-null  float64\n",
      " 1   term                 41423 non-null  object \n",
      " 2   int_rate             41423 non-null  object \n",
      " 3   installment          41423 non-null  float64\n",
      " 4   emp_length           41423 non-null  object \n",
      " 5   home_ownership       41423 non-null  object \n",
      " 6   annual_inc           41419 non-null  float64\n",
      " 7   verification_status  41423 non-null  object \n",
      " 8   loan_status          41423 non-null  object \n",
      " 9   pymnt_plan           41423 non-null  object \n",
      " 10  purpose              41423 non-null  object \n",
      " 11  addr_state           41423 non-null  object \n",
      " 12  dti                  41423 non-null  float64\n",
      " 13  delinq_2yrs          41394 non-null  float64\n",
      " 14  inq_last_6mths       41394 non-null  float64\n",
      " 15  open_acc             41394 non-null  float64\n",
      " 16  pub_rec              41394 non-null  float64\n",
      " 17  revol_bal            41423 non-null  float64\n",
      " 18  revol_util           41336 non-null  object \n",
      " 19  total_acc            41394 non-null  float64\n",
      " 20  acc_now_delinq       41394 non-null  float64\n",
      " 21  delinq_amnt          41394 non-null  float64\n",
      " 22  tax_liens            41318 non-null  float64\n",
      "dtypes: float64(13), object(10)\n",
      "memory usage: 7.6+ MB\n"
     ]
    }
   ],
   "source": [
    "loans_2 = loans.dropna( subset=['emp_length'] ).copy()\n",
    "\n",
    "loans_2.info()\n"
   ]
  },
  {
   "cell_type": "code",
   "execution_count": 39,
   "metadata": {
    "scrolled": true
   },
   "outputs": [
    {
     "data": {
      "text/plain": [
       "tax_liens              105\n",
       "revol_util              87\n",
       "delinq_amnt             29\n",
       "acc_now_delinq          29\n",
       "total_acc               29\n",
       "pub_rec                 29\n",
       "open_acc                29\n",
       "inq_last_6mths          29\n",
       "delinq_2yrs             29\n",
       "annual_inc               4\n",
       "dti                      0\n",
       "revol_bal                0\n",
       "loan_amnt                0\n",
       "term                     0\n",
       "purpose                  0\n",
       "pymnt_plan               0\n",
       "loan_status              0\n",
       "verification_status      0\n",
       "home_ownership           0\n",
       "emp_length               0\n",
       "installment              0\n",
       "int_rate                 0\n",
       "addr_state               0\n",
       "dtype: int64"
      ]
     },
     "execution_count": 39,
     "metadata": {},
     "output_type": "execute_result"
    }
   ],
   "source": [
    "loans_2.isnull().sum().sort_values(ascending=False)"
   ]
  },
  {
   "cell_type": "markdown",
   "metadata": {},
   "source": [
    "We can see (above) that the remaining number of missing values is insignificant. Hence, let's proceed to drop them:"
   ]
  },
  {
   "cell_type": "code",
   "execution_count": 40,
   "metadata": {},
   "outputs": [
    {
     "data": {
      "text/plain": [
       "(41423, 23)"
      ]
     },
     "execution_count": 40,
     "metadata": {},
     "output_type": "execute_result"
    }
   ],
   "source": [
    "loans_2.shape"
   ]
  },
  {
   "cell_type": "code",
   "execution_count": 41,
   "metadata": {},
   "outputs": [],
   "source": [
    "# By default, the axis parameter is set to \"0\" (which is equivalent to \"index\") which means:\n",
    "# drop rows which contain missing values\n",
    "loans_2.dropna( axis=0, inplace=True )\n"
   ]
  },
  {
   "cell_type": "code",
   "execution_count": 42,
   "metadata": {},
   "outputs": [
    {
     "data": {
      "text/plain": [
       "(41261, 23)"
      ]
     },
     "execution_count": 42,
     "metadata": {},
     "output_type": "execute_result"
    }
   ],
   "source": [
    "loans_2.shape"
   ]
  },
  {
   "cell_type": "code",
   "execution_count": 43,
   "metadata": {
    "scrolled": true
   },
   "outputs": [
    {
     "data": {
      "text/plain": [
       "loan_amnt              0\n",
       "term                   0\n",
       "int_rate               0\n",
       "installment            0\n",
       "emp_length             0\n",
       "home_ownership         0\n",
       "annual_inc             0\n",
       "verification_status    0\n",
       "loan_status            0\n",
       "pymnt_plan             0\n",
       "purpose                0\n",
       "addr_state             0\n",
       "dti                    0\n",
       "delinq_2yrs            0\n",
       "inq_last_6mths         0\n",
       "open_acc               0\n",
       "pub_rec                0\n",
       "revol_bal              0\n",
       "revol_util             0\n",
       "total_acc              0\n",
       "acc_now_delinq         0\n",
       "delinq_amnt            0\n",
       "tax_liens              0\n",
       "dtype: int64"
      ]
     },
     "execution_count": 43,
     "metadata": {},
     "output_type": "execute_result"
    }
   ],
   "source": [
    "loans_2.isnull().sum()"
   ]
  },
  {
   "cell_type": "markdown",
   "metadata": {},
   "source": [
    "### Features (columns) that need to be cleaned up and formatted:\n",
    "\n",
    "- `term`\n",
    "\n",
    "\n",
    "- `emp_length`\n",
    "\n",
    "\n",
    "- `home_ownership`\n",
    "\n",
    "\n",
    "- `int_rate`\n",
    "\n",
    "\n",
    "- `revol_util`"
   ]
  },
  {
   "cell_type": "markdown",
   "metadata": {},
   "source": [
    "#### > `term`:\n",
    "\n",
    "I can see that this column is being considered as _nominal_ (i.e. variable measured on a nominal scale). I will change it to a _ratio_ scale because I realized that this column is quantitative (instead of qualitative) and we can tell the direction and the size of the difference.\n",
    "\n",
    "I will convert this column from string to numeric data type. Values are in months and can be either 36 or 60."
   ]
  },
  {
   "cell_type": "code",
   "execution_count": 44,
   "metadata": {},
   "outputs": [
    {
     "data": {
      "text/plain": [
       "dtype('O')"
      ]
     },
     "execution_count": 44,
     "metadata": {},
     "output_type": "execute_result"
    }
   ],
   "source": [
    "loans_2['term'].dtype"
   ]
  },
  {
   "cell_type": "code",
   "execution_count": 45,
   "metadata": {},
   "outputs": [
    {
     "data": {
      "text/plain": [
       " 36 months    30541\n",
       " 60 months    10720\n",
       "Name: term, dtype: int64"
      ]
     },
     "execution_count": 45,
     "metadata": {},
     "output_type": "execute_result"
    }
   ],
   "source": [
    "loans_2['term'].value_counts(dropna=False)"
   ]
  },
  {
   "cell_type": "code",
   "execution_count": 46,
   "metadata": {},
   "outputs": [],
   "source": [
    "term_dict = {\n",
    "    \" 36 months\": 36,\n",
    "    \" 60 months\": 60\n",
    "}\n",
    "\n",
    "loans_2['term'] = loans_2['term'].map( term_dict )\n"
   ]
  },
  {
   "cell_type": "code",
   "execution_count": 47,
   "metadata": {},
   "outputs": [
    {
     "data": {
      "text/plain": [
       "36    30541\n",
       "60    10720\n",
       "Name: term, dtype: int64"
      ]
     },
     "execution_count": 47,
     "metadata": {},
     "output_type": "execute_result"
    }
   ],
   "source": [
    "loans_2['term'].value_counts(dropna=False)"
   ]
  },
  {
   "cell_type": "code",
   "execution_count": 48,
   "metadata": {},
   "outputs": [
    {
     "data": {
      "text/plain": [
       "dtype('int64')"
      ]
     },
     "execution_count": 48,
     "metadata": {},
     "output_type": "execute_result"
    }
   ],
   "source": [
    "loans_2['term'].dtype"
   ]
  },
  {
   "cell_type": "markdown",
   "metadata": {},
   "source": [
    "#### > `emp_length`:\n",
    "\n",
    "I can see that this column is being considered as _nominal_ (i.e. variable measured on a nominal scale). I will change it to a _ratio_ scale because I realized that this column is quantitative (instead of qualitative) and we can tell the direction and the size of the difference.\n",
    "\n",
    "I will convert this column from string to numeric data type. The column units are _years_."
   ]
  },
  {
   "cell_type": "code",
   "execution_count": 49,
   "metadata": {},
   "outputs": [
    {
     "data": {
      "text/plain": [
       "dtype('O')"
      ]
     },
     "execution_count": 49,
     "metadata": {},
     "output_type": "execute_result"
    }
   ],
   "source": [
    "loans_2['emp_length'].dtype"
   ]
  },
  {
   "cell_type": "code",
   "execution_count": 50,
   "metadata": {},
   "outputs": [
    {
     "data": {
      "text/plain": [
       "10+ years    9357\n",
       "< 1 year     5005\n",
       "2 years      4727\n",
       "3 years      4354\n",
       "4 years      3635\n",
       "1 year       3568\n",
       "5 years      3452\n",
       "6 years      2370\n",
       "7 years      1869\n",
       "8 years      1587\n",
       "9 years      1337\n",
       "Name: emp_length, dtype: int64"
      ]
     },
     "execution_count": 50,
     "metadata": {},
     "output_type": "execute_result"
    }
   ],
   "source": [
    "loans_2['emp_length'].value_counts()"
   ]
  },
  {
   "cell_type": "code",
   "execution_count": 51,
   "metadata": {},
   "outputs": [
    {
     "data": {
      "text/plain": [
       "10+ years    22.677589\n",
       "< 1 year     12.130099\n",
       "2 years      11.456339\n",
       "3 years      10.552338\n",
       "4 years       8.809772\n",
       "1 year        8.647391\n",
       "5 years       8.366254\n",
       "6 years       5.743923\n",
       "7 years       4.529701\n",
       "8 years       3.846247\n",
       "9 years       3.240348\n",
       "Name: emp_length, dtype: float64"
      ]
     },
     "execution_count": 51,
     "metadata": {},
     "output_type": "execute_result"
    }
   ],
   "source": [
    "loans_2['emp_length'].value_counts(normalize=True) * 100"
   ]
  },
  {
   "cell_type": "code",
   "execution_count": 52,
   "metadata": {},
   "outputs": [],
   "source": [
    "emp_length_dict = {\n",
    "    \"10+ years\": 10,\n",
    "    \"9 years\": 9,\n",
    "    \"8 years\": 8,\n",
    "    \"7 years\": 7,\n",
    "    \"6 years\": 6,\n",
    "    \"5 years\": 5,\n",
    "    \"4 years\": 4,\n",
    "    \"3 years\": 3,\n",
    "    \"2 years\": 2,\n",
    "    \"1 year\": 1,\n",
    "    \"< 1 year\": 0.5\n",
    "}\n",
    "\n",
    "loans_2['emp_length'] = loans_2['emp_length'].map( emp_length_dict )\n"
   ]
  },
  {
   "cell_type": "code",
   "execution_count": 53,
   "metadata": {},
   "outputs": [
    {
     "data": {
      "text/plain": [
       "10.0    9357\n",
       "0.5     5005\n",
       "2.0     4727\n",
       "3.0     4354\n",
       "4.0     3635\n",
       "1.0     3568\n",
       "5.0     3452\n",
       "6.0     2370\n",
       "7.0     1869\n",
       "8.0     1587\n",
       "9.0     1337\n",
       "Name: emp_length, dtype: int64"
      ]
     },
     "execution_count": 53,
     "metadata": {},
     "output_type": "execute_result"
    }
   ],
   "source": [
    "loans_2['emp_length'].value_counts()"
   ]
  },
  {
   "cell_type": "code",
   "execution_count": 54,
   "metadata": {},
   "outputs": [
    {
     "data": {
      "text/plain": [
       "dtype('float64')"
      ]
     },
     "execution_count": 54,
     "metadata": {},
     "output_type": "execute_result"
    }
   ],
   "source": [
    "loans_2['emp_length'].dtype"
   ]
  },
  {
   "cell_type": "markdown",
   "metadata": {},
   "source": [
    "#### > `home_ownership`:\n",
    "\n",
    "According to the columns dictionary, the allowed values are: `RENT`, `MORTGAGE`, `OWN`, `OTHER`.\n",
    "\n",
    "I will replace the two `NONE` values with `OTHER`."
   ]
  },
  {
   "cell_type": "code",
   "execution_count": 55,
   "metadata": {},
   "outputs": [
    {
     "data": {
      "text/plain": [
       "RENT        19668\n",
       "MORTGAGE    18444\n",
       "OWN          3013\n",
       "OTHER         134\n",
       "NONE            2\n",
       "Name: home_ownership, dtype: int64"
      ]
     },
     "execution_count": 55,
     "metadata": {},
     "output_type": "execute_result"
    }
   ],
   "source": [
    "loans_2['home_ownership'].value_counts()"
   ]
  },
  {
   "cell_type": "code",
   "execution_count": 56,
   "metadata": {},
   "outputs": [
    {
     "data": {
      "text/plain": [
       "2"
      ]
     },
     "execution_count": 56,
     "metadata": {},
     "output_type": "execute_result"
    }
   ],
   "source": [
    "none_bool = loans_2['home_ownership'] == \"NONE\"\n",
    "\n",
    "none_bool.sum()\n"
   ]
  },
  {
   "cell_type": "code",
   "execution_count": 57,
   "metadata": {},
   "outputs": [
    {
     "data": {
      "text/html": [
       "<div>\n",
       "<style scoped>\n",
       "    .dataframe tbody tr th:only-of-type {\n",
       "        vertical-align: middle;\n",
       "    }\n",
       "\n",
       "    .dataframe tbody tr th {\n",
       "        vertical-align: top;\n",
       "    }\n",
       "\n",
       "    .dataframe thead th {\n",
       "        text-align: right;\n",
       "    }\n",
       "</style>\n",
       "<table border=\"1\" class=\"dataframe\">\n",
       "  <thead>\n",
       "    <tr style=\"text-align: right;\">\n",
       "      <th></th>\n",
       "      <th>loan_amnt</th>\n",
       "      <th>term</th>\n",
       "      <th>int_rate</th>\n",
       "      <th>installment</th>\n",
       "      <th>emp_length</th>\n",
       "      <th>home_ownership</th>\n",
       "      <th>annual_inc</th>\n",
       "      <th>verification_status</th>\n",
       "      <th>loan_status</th>\n",
       "      <th>pymnt_plan</th>\n",
       "      <th>purpose</th>\n",
       "      <th>addr_state</th>\n",
       "      <th>dti</th>\n",
       "      <th>delinq_2yrs</th>\n",
       "      <th>inq_last_6mths</th>\n",
       "      <th>open_acc</th>\n",
       "      <th>pub_rec</th>\n",
       "      <th>revol_bal</th>\n",
       "      <th>revol_util</th>\n",
       "      <th>total_acc</th>\n",
       "      <th>acc_now_delinq</th>\n",
       "      <th>delinq_amnt</th>\n",
       "      <th>tax_liens</th>\n",
       "    </tr>\n",
       "  </thead>\n",
       "  <tbody>\n",
       "    <tr>\n",
       "      <th>39387</th>\n",
       "      <td>10000.0</td>\n",
       "      <td>36</td>\n",
       "      <td>7.75%</td>\n",
       "      <td>312.22</td>\n",
       "      <td>5.0</td>\n",
       "      <td>NONE</td>\n",
       "      <td>22200.0</td>\n",
       "      <td>Not Verified</td>\n",
       "      <td>Fully Paid</td>\n",
       "      <td>n</td>\n",
       "      <td>debt_consolidation</td>\n",
       "      <td>VA</td>\n",
       "      <td>5.24</td>\n",
       "      <td>0.0</td>\n",
       "      <td>0.0</td>\n",
       "      <td>9.0</td>\n",
       "      <td>0.0</td>\n",
       "      <td>4767.0</td>\n",
       "      <td>8.7%</td>\n",
       "      <td>22.0</td>\n",
       "      <td>0.0</td>\n",
       "      <td>0.0</td>\n",
       "      <td>0.0</td>\n",
       "    </tr>\n",
       "    <tr>\n",
       "      <th>42212</th>\n",
       "      <td>15000.0</td>\n",
       "      <td>36</td>\n",
       "      <td>15.65%</td>\n",
       "      <td>524.77</td>\n",
       "      <td>6.0</td>\n",
       "      <td>NONE</td>\n",
       "      <td>72000.0</td>\n",
       "      <td>Not Verified</td>\n",
       "      <td>Does not meet the credit policy. Status:Charge...</td>\n",
       "      <td>n</td>\n",
       "      <td>other</td>\n",
       "      <td>GA</td>\n",
       "      <td>8.73</td>\n",
       "      <td>2.0</td>\n",
       "      <td>3.0</td>\n",
       "      <td>7.0</td>\n",
       "      <td>0.0</td>\n",
       "      <td>3193.0</td>\n",
       "      <td>59.1%</td>\n",
       "      <td>26.0</td>\n",
       "      <td>0.0</td>\n",
       "      <td>0.0</td>\n",
       "      <td>0.0</td>\n",
       "    </tr>\n",
       "  </tbody>\n",
       "</table>\n",
       "</div>"
      ],
      "text/plain": [
       "       loan_amnt  term int_rate  installment  emp_length home_ownership  \\\n",
       "39387    10000.0    36    7.75%       312.22         5.0           NONE   \n",
       "42212    15000.0    36   15.65%       524.77         6.0           NONE   \n",
       "\n",
       "       annual_inc verification_status  \\\n",
       "39387     22200.0        Not Verified   \n",
       "42212     72000.0        Not Verified   \n",
       "\n",
       "                                             loan_status pymnt_plan  \\\n",
       "39387                                         Fully Paid          n   \n",
       "42212  Does not meet the credit policy. Status:Charge...          n   \n",
       "\n",
       "                  purpose addr_state   dti  delinq_2yrs  inq_last_6mths  \\\n",
       "39387  debt_consolidation         VA  5.24          0.0             0.0   \n",
       "42212               other         GA  8.73          2.0             3.0   \n",
       "\n",
       "       open_acc  pub_rec  revol_bal revol_util  total_acc  acc_now_delinq  \\\n",
       "39387       9.0      0.0     4767.0       8.7%       22.0             0.0   \n",
       "42212       7.0      0.0     3193.0      59.1%       26.0             0.0   \n",
       "\n",
       "       delinq_amnt  tax_liens  \n",
       "39387          0.0        0.0  \n",
       "42212          0.0        0.0  "
      ]
     },
     "execution_count": 57,
     "metadata": {},
     "output_type": "execute_result"
    }
   ],
   "source": [
    "loans_2[none_bool]"
   ]
  },
  {
   "cell_type": "code",
   "execution_count": 58,
   "metadata": {},
   "outputs": [
    {
     "name": "stderr",
     "output_type": "stream",
     "text": [
      "C:\\Users\\helen\\Anaconda3\\lib\\site-packages\\pandas\\core\\frame.py:3607: SettingWithCopyWarning: \n",
      "A value is trying to be set on a copy of a slice from a DataFrame.\n",
      "Try using .loc[row_indexer,col_indexer] = value instead\n",
      "\n",
      "See the caveats in the documentation: https://pandas.pydata.org/pandas-docs/stable/user_guide/indexing.html#returning-a-view-versus-a-copy\n",
      "  self._set_item(key, value)\n"
     ]
    }
   ],
   "source": [
    "loans_2[none_bool]['home_ownership'] = \"OTHER\""
   ]
  },
  {
   "cell_type": "code",
   "execution_count": 59,
   "metadata": {},
   "outputs": [
    {
     "data": {
      "text/html": [
       "<div>\n",
       "<style scoped>\n",
       "    .dataframe tbody tr th:only-of-type {\n",
       "        vertical-align: middle;\n",
       "    }\n",
       "\n",
       "    .dataframe tbody tr th {\n",
       "        vertical-align: top;\n",
       "    }\n",
       "\n",
       "    .dataframe thead th {\n",
       "        text-align: right;\n",
       "    }\n",
       "</style>\n",
       "<table border=\"1\" class=\"dataframe\">\n",
       "  <thead>\n",
       "    <tr style=\"text-align: right;\">\n",
       "      <th></th>\n",
       "      <th>loan_amnt</th>\n",
       "      <th>term</th>\n",
       "      <th>int_rate</th>\n",
       "      <th>installment</th>\n",
       "      <th>emp_length</th>\n",
       "      <th>home_ownership</th>\n",
       "      <th>annual_inc</th>\n",
       "      <th>verification_status</th>\n",
       "      <th>loan_status</th>\n",
       "      <th>pymnt_plan</th>\n",
       "      <th>purpose</th>\n",
       "      <th>addr_state</th>\n",
       "      <th>dti</th>\n",
       "      <th>delinq_2yrs</th>\n",
       "      <th>inq_last_6mths</th>\n",
       "      <th>open_acc</th>\n",
       "      <th>pub_rec</th>\n",
       "      <th>revol_bal</th>\n",
       "      <th>revol_util</th>\n",
       "      <th>total_acc</th>\n",
       "      <th>acc_now_delinq</th>\n",
       "      <th>delinq_amnt</th>\n",
       "      <th>tax_liens</th>\n",
       "    </tr>\n",
       "  </thead>\n",
       "  <tbody>\n",
       "    <tr>\n",
       "      <th>39387</th>\n",
       "      <td>10000.0</td>\n",
       "      <td>36</td>\n",
       "      <td>7.75%</td>\n",
       "      <td>312.22</td>\n",
       "      <td>5.0</td>\n",
       "      <td>NONE</td>\n",
       "      <td>22200.0</td>\n",
       "      <td>Not Verified</td>\n",
       "      <td>Fully Paid</td>\n",
       "      <td>n</td>\n",
       "      <td>debt_consolidation</td>\n",
       "      <td>VA</td>\n",
       "      <td>5.24</td>\n",
       "      <td>0.0</td>\n",
       "      <td>0.0</td>\n",
       "      <td>9.0</td>\n",
       "      <td>0.0</td>\n",
       "      <td>4767.0</td>\n",
       "      <td>8.7%</td>\n",
       "      <td>22.0</td>\n",
       "      <td>0.0</td>\n",
       "      <td>0.0</td>\n",
       "      <td>0.0</td>\n",
       "    </tr>\n",
       "    <tr>\n",
       "      <th>42212</th>\n",
       "      <td>15000.0</td>\n",
       "      <td>36</td>\n",
       "      <td>15.65%</td>\n",
       "      <td>524.77</td>\n",
       "      <td>6.0</td>\n",
       "      <td>NONE</td>\n",
       "      <td>72000.0</td>\n",
       "      <td>Not Verified</td>\n",
       "      <td>Does not meet the credit policy. Status:Charge...</td>\n",
       "      <td>n</td>\n",
       "      <td>other</td>\n",
       "      <td>GA</td>\n",
       "      <td>8.73</td>\n",
       "      <td>2.0</td>\n",
       "      <td>3.0</td>\n",
       "      <td>7.0</td>\n",
       "      <td>0.0</td>\n",
       "      <td>3193.0</td>\n",
       "      <td>59.1%</td>\n",
       "      <td>26.0</td>\n",
       "      <td>0.0</td>\n",
       "      <td>0.0</td>\n",
       "      <td>0.0</td>\n",
       "    </tr>\n",
       "  </tbody>\n",
       "</table>\n",
       "</div>"
      ],
      "text/plain": [
       "       loan_amnt  term int_rate  installment  emp_length home_ownership  \\\n",
       "39387    10000.0    36    7.75%       312.22         5.0           NONE   \n",
       "42212    15000.0    36   15.65%       524.77         6.0           NONE   \n",
       "\n",
       "       annual_inc verification_status  \\\n",
       "39387     22200.0        Not Verified   \n",
       "42212     72000.0        Not Verified   \n",
       "\n",
       "                                             loan_status pymnt_plan  \\\n",
       "39387                                         Fully Paid          n   \n",
       "42212  Does not meet the credit policy. Status:Charge...          n   \n",
       "\n",
       "                  purpose addr_state   dti  delinq_2yrs  inq_last_6mths  \\\n",
       "39387  debt_consolidation         VA  5.24          0.0             0.0   \n",
       "42212               other         GA  8.73          2.0             3.0   \n",
       "\n",
       "       open_acc  pub_rec  revol_bal revol_util  total_acc  acc_now_delinq  \\\n",
       "39387       9.0      0.0     4767.0       8.7%       22.0             0.0   \n",
       "42212       7.0      0.0     3193.0      59.1%       26.0             0.0   \n",
       "\n",
       "       delinq_amnt  tax_liens  \n",
       "39387          0.0        0.0  \n",
       "42212          0.0        0.0  "
      ]
     },
     "execution_count": 59,
     "metadata": {},
     "output_type": "execute_result"
    }
   ],
   "source": [
    "loans_2[none_bool]"
   ]
  },
  {
   "cell_type": "code",
   "execution_count": 60,
   "metadata": {},
   "outputs": [
    {
     "data": {
      "text/plain": [
       "Int64Index([39387, 42212], dtype='int64')"
      ]
     },
     "execution_count": 60,
     "metadata": {},
     "output_type": "execute_result"
    }
   ],
   "source": [
    "loans_2[none_bool].index"
   ]
  },
  {
   "cell_type": "code",
   "execution_count": 61,
   "metadata": {},
   "outputs": [],
   "source": [
    "loans_2.loc[ loans_2[none_bool].index, 'home_ownership' ] = \"OTHER\" "
   ]
  },
  {
   "cell_type": "code",
   "execution_count": 62,
   "metadata": {
    "scrolled": true
   },
   "outputs": [
    {
     "data": {
      "text/html": [
       "<div>\n",
       "<style scoped>\n",
       "    .dataframe tbody tr th:only-of-type {\n",
       "        vertical-align: middle;\n",
       "    }\n",
       "\n",
       "    .dataframe tbody tr th {\n",
       "        vertical-align: top;\n",
       "    }\n",
       "\n",
       "    .dataframe thead th {\n",
       "        text-align: right;\n",
       "    }\n",
       "</style>\n",
       "<table border=\"1\" class=\"dataframe\">\n",
       "  <thead>\n",
       "    <tr style=\"text-align: right;\">\n",
       "      <th></th>\n",
       "      <th>loan_amnt</th>\n",
       "      <th>term</th>\n",
       "      <th>int_rate</th>\n",
       "      <th>installment</th>\n",
       "      <th>emp_length</th>\n",
       "      <th>home_ownership</th>\n",
       "      <th>annual_inc</th>\n",
       "      <th>verification_status</th>\n",
       "      <th>loan_status</th>\n",
       "      <th>pymnt_plan</th>\n",
       "      <th>purpose</th>\n",
       "      <th>addr_state</th>\n",
       "      <th>dti</th>\n",
       "      <th>delinq_2yrs</th>\n",
       "      <th>inq_last_6mths</th>\n",
       "      <th>open_acc</th>\n",
       "      <th>pub_rec</th>\n",
       "      <th>revol_bal</th>\n",
       "      <th>revol_util</th>\n",
       "      <th>total_acc</th>\n",
       "      <th>acc_now_delinq</th>\n",
       "      <th>delinq_amnt</th>\n",
       "      <th>tax_liens</th>\n",
       "    </tr>\n",
       "  </thead>\n",
       "  <tbody>\n",
       "    <tr>\n",
       "      <th>39387</th>\n",
       "      <td>10000.0</td>\n",
       "      <td>36</td>\n",
       "      <td>7.75%</td>\n",
       "      <td>312.22</td>\n",
       "      <td>5.0</td>\n",
       "      <td>OTHER</td>\n",
       "      <td>22200.0</td>\n",
       "      <td>Not Verified</td>\n",
       "      <td>Fully Paid</td>\n",
       "      <td>n</td>\n",
       "      <td>debt_consolidation</td>\n",
       "      <td>VA</td>\n",
       "      <td>5.24</td>\n",
       "      <td>0.0</td>\n",
       "      <td>0.0</td>\n",
       "      <td>9.0</td>\n",
       "      <td>0.0</td>\n",
       "      <td>4767.0</td>\n",
       "      <td>8.7%</td>\n",
       "      <td>22.0</td>\n",
       "      <td>0.0</td>\n",
       "      <td>0.0</td>\n",
       "      <td>0.0</td>\n",
       "    </tr>\n",
       "    <tr>\n",
       "      <th>42212</th>\n",
       "      <td>15000.0</td>\n",
       "      <td>36</td>\n",
       "      <td>15.65%</td>\n",
       "      <td>524.77</td>\n",
       "      <td>6.0</td>\n",
       "      <td>OTHER</td>\n",
       "      <td>72000.0</td>\n",
       "      <td>Not Verified</td>\n",
       "      <td>Does not meet the credit policy. Status:Charge...</td>\n",
       "      <td>n</td>\n",
       "      <td>other</td>\n",
       "      <td>GA</td>\n",
       "      <td>8.73</td>\n",
       "      <td>2.0</td>\n",
       "      <td>3.0</td>\n",
       "      <td>7.0</td>\n",
       "      <td>0.0</td>\n",
       "      <td>3193.0</td>\n",
       "      <td>59.1%</td>\n",
       "      <td>26.0</td>\n",
       "      <td>0.0</td>\n",
       "      <td>0.0</td>\n",
       "      <td>0.0</td>\n",
       "    </tr>\n",
       "  </tbody>\n",
       "</table>\n",
       "</div>"
      ],
      "text/plain": [
       "       loan_amnt  term int_rate  installment  emp_length home_ownership  \\\n",
       "39387    10000.0    36    7.75%       312.22         5.0          OTHER   \n",
       "42212    15000.0    36   15.65%       524.77         6.0          OTHER   \n",
       "\n",
       "       annual_inc verification_status  \\\n",
       "39387     22200.0        Not Verified   \n",
       "42212     72000.0        Not Verified   \n",
       "\n",
       "                                             loan_status pymnt_plan  \\\n",
       "39387                                         Fully Paid          n   \n",
       "42212  Does not meet the credit policy. Status:Charge...          n   \n",
       "\n",
       "                  purpose addr_state   dti  delinq_2yrs  inq_last_6mths  \\\n",
       "39387  debt_consolidation         VA  5.24          0.0             0.0   \n",
       "42212               other         GA  8.73          2.0             3.0   \n",
       "\n",
       "       open_acc  pub_rec  revol_bal revol_util  total_acc  acc_now_delinq  \\\n",
       "39387       9.0      0.0     4767.0       8.7%       22.0             0.0   \n",
       "42212       7.0      0.0     3193.0      59.1%       26.0             0.0   \n",
       "\n",
       "       delinq_amnt  tax_liens  \n",
       "39387          0.0        0.0  \n",
       "42212          0.0        0.0  "
      ]
     },
     "execution_count": 62,
     "metadata": {},
     "output_type": "execute_result"
    }
   ],
   "source": [
    "loans_2[none_bool]"
   ]
  },
  {
   "cell_type": "code",
   "execution_count": 63,
   "metadata": {},
   "outputs": [
    {
     "data": {
      "text/plain": [
       "RENT        19668\n",
       "MORTGAGE    18444\n",
       "OWN          3013\n",
       "OTHER         136\n",
       "Name: home_ownership, dtype: int64"
      ]
     },
     "execution_count": 63,
     "metadata": {},
     "output_type": "execute_result"
    }
   ],
   "source": [
    "loans_2['home_ownership'].value_counts()"
   ]
  },
  {
   "cell_type": "markdown",
   "metadata": {},
   "source": [
    "#### > `int_rate` and `revol_util`:\n",
    "\n",
    "For these two columns, I will remove the percentage sign and convert them from string to numeric data type."
   ]
  },
  {
   "cell_type": "code",
   "execution_count": 64,
   "metadata": {
    "scrolled": true
   },
   "outputs": [
    {
     "data": {
      "text/plain": [
       " 10.99%    946\n",
       " 13.49%    818\n",
       " 11.49%    812\n",
       "  7.51%    756\n",
       "  7.88%    715\n",
       "          ... \n",
       " 21.48%      1\n",
       " 17.41%      1\n",
       " 17.44%      1\n",
       " 16.33%      1\n",
       " 22.64%      1\n",
       "Name: int_rate, Length: 394, dtype: int64"
      ]
     },
     "execution_count": 64,
     "metadata": {},
     "output_type": "execute_result"
    }
   ],
   "source": [
    "loans_2['int_rate'].value_counts()"
   ]
  },
  {
   "cell_type": "code",
   "execution_count": 65,
   "metadata": {},
   "outputs": [
    {
     "data": {
      "text/plain": [
       "dtype('O')"
      ]
     },
     "execution_count": 65,
     "metadata": {},
     "output_type": "execute_result"
    }
   ],
   "source": [
    "loans_2['int_rate'].dtype"
   ]
  },
  {
   "cell_type": "code",
   "execution_count": 66,
   "metadata": {},
   "outputs": [
    {
     "data": {
      "text/plain": [
       "0%        1031\n",
       "0.2%        63\n",
       "40.7%       63\n",
       "63%         62\n",
       "66.6%       61\n",
       "          ... \n",
       "21.72%       1\n",
       "21.59%       1\n",
       "39.95%       1\n",
       "0.01%        1\n",
       "105.3%       1\n",
       "Name: revol_util, Length: 1116, dtype: int64"
      ]
     },
     "execution_count": 66,
     "metadata": {},
     "output_type": "execute_result"
    }
   ],
   "source": [
    "loans_2['revol_util'].value_counts()"
   ]
  },
  {
   "cell_type": "code",
   "execution_count": 67,
   "metadata": {},
   "outputs": [
    {
     "data": {
      "text/plain": [
       "dtype('O')"
      ]
     },
     "execution_count": 67,
     "metadata": {},
     "output_type": "execute_result"
    }
   ],
   "source": [
    "loans_2['revol_util'].dtype"
   ]
  },
  {
   "cell_type": "code",
   "execution_count": 68,
   "metadata": {},
   "outputs": [],
   "source": [
    "loans_2['int_rate'] = loans_2['int_rate'].str.rstrip(\"%\").astype(\"float\")\n",
    "\n",
    "loans_2['revol_util'] = loans_2['revol_util'].str.rstrip(\"%\").astype(\"float\")\n"
   ]
  },
  {
   "cell_type": "code",
   "execution_count": 69,
   "metadata": {},
   "outputs": [
    {
     "data": {
      "text/plain": [
       "dtype('float64')"
      ]
     },
     "execution_count": 69,
     "metadata": {},
     "output_type": "execute_result"
    }
   ],
   "source": [
    "loans_2['int_rate'].dtype"
   ]
  },
  {
   "cell_type": "code",
   "execution_count": 70,
   "metadata": {},
   "outputs": [
    {
     "data": {
      "text/plain": [
       "dtype('float64')"
      ]
     },
     "execution_count": 70,
     "metadata": {},
     "output_type": "execute_result"
    }
   ],
   "source": [
    "loans_2['revol_util'].dtype"
   ]
  },
  {
   "cell_type": "markdown",
   "metadata": {},
   "source": [
    "### Target Column"
   ]
  },
  {
   "cell_type": "markdown",
   "metadata": {},
   "source": [
    "Let's use the `loan_status` column as the target column, since it's the only column that directly describes if a loan was paid off on time, had delayed payments, or was defaulted on the borrower."
   ]
  },
  {
   "cell_type": "code",
   "execution_count": 71,
   "metadata": {},
   "outputs": [
    {
     "data": {
      "text/plain": [
       "Fully Paid                                             32258\n",
       "Charged Off                                             5390\n",
       "Does not meet the credit policy. Status:Fully Paid      1906\n",
       "Current                                                  923\n",
       "Does not meet the credit policy. Status:Charged Off      733\n",
       "Late (31-120 days)                                        23\n",
       "In Grace Period                                           18\n",
       "Late (16-30 days)                                          8\n",
       "Default                                                    2\n",
       "Name: loan_status, dtype: int64"
      ]
     },
     "execution_count": 71,
     "metadata": {},
     "output_type": "execute_result"
    }
   ],
   "source": [
    "loans_2['loan_status'].value_counts()"
   ]
  },
  {
   "cell_type": "code",
   "execution_count": 72,
   "metadata": {},
   "outputs": [
    {
     "data": {
      "text/plain": [
       "Fully Paid                                             78.180364\n",
       "Charged Off                                            13.063183\n",
       "Does not meet the credit policy. Status:Fully Paid      4.619374\n",
       "Current                                                 2.236979\n",
       "Does not meet the credit policy. Status:Charged Off     1.776496\n",
       "Late (31-120 days)                                      0.055743\n",
       "In Grace Period                                         0.043625\n",
       "Late (16-30 days)                                       0.019389\n",
       "Default                                                 0.004847\n",
       "Name: loan_status, dtype: float64"
      ]
     },
     "execution_count": 72,
     "metadata": {},
     "output_type": "execute_result"
    }
   ],
   "source": [
    "loans_2['loan_status'].value_counts(normalize=True) * 100"
   ]
  },
  {
   "cell_type": "markdown",
   "metadata": {},
   "source": [
    "There are 9 different possible values for the `loan_status` column:\n",
    "\n",
    "- You can read [here](https://help.lendingclub.com/hc/en-us/articles/215488038-What-do-the-different-Note-statuses-mean-) about most of the different loan statuses.\n",
    "\n",
    "\n",
    "- Explanation found in the [internet](https://www.uxax.org/post/data-cleaning-and-preparation-for-machine-learning) with regard to the two values that start with `Does not meet the credit policy`: \"While the loan was [paid off / charged off], the loan application today would no longer meet the credit policy and wouldn't be approved on to the marketplace.\"\n",
    "\n",
    "__From the investor's perspective, we're interested in trying to predict which loans will be paid off on time and which ones won't be__. Only the `Fully Paid` and `Charged Off` values describe the final outcome of the loan. The other values describe loans that are in progress and where we do not know if the borrower will pay back the loan on time or not. While the `Default` status resembles the `Charged Off` status, according to [Lending Club](https://help.lendingclub.com/hc/en-us/articles/216127747-What-is-the-difference-between-a-loan-that-is-in-default-and-a-loan-that-has-been-charged-off-), loans that are charged off have essentially no chance of being repaid while default ones have a small chance."
   ]
  },
  {
   "cell_type": "markdown",
   "metadata": {},
   "source": [
    "Since we're interested in being able to predict which of these 2 values a loan will fall under, we can treat the problem as a __binary classification__ one. \n",
    "\n",
    "Let's remove all the loans that don't contain either `Fully Paid` and `Charged Off` as the loan's status and then transform the `Fully Paid` values to `1` for the positive case and the `Charged Off` values to `0` for the negative case.\n",
    "\n",
    "Lastly, one thing we need to keep in mind is the __class imbalance__ between the positive and negative cases. While there are 32,257 loans that have been fully paid off, there are only 5,389 that were charged off. \n",
    "\n",
    "- There are about __6 times__ as many loans that were paid off on time (positive case, label of `1`) than those that weren't (negative case, label of `0`).\n",
    "\n",
    "This class imbalance is a common problem in binary classification and during training, the model ends up having a strong bias towards predicting the class with more observations in the training set and will rarely predict the class with less observations. The stronger the imbalance, the more biased the model becomes.\n",
    "\n",
    "Due to its potential to cause issues, we need to keep the class imbalance in mind as we build machine learning models."
   ]
  },
  {
   "cell_type": "code",
   "execution_count": 73,
   "metadata": {},
   "outputs": [
    {
     "data": {
      "text/plain": [
       "(41261, 23)"
      ]
     },
     "execution_count": 73,
     "metadata": {},
     "output_type": "execute_result"
    }
   ],
   "source": [
    "loans_2.shape"
   ]
  },
  {
   "cell_type": "code",
   "execution_count": 74,
   "metadata": {},
   "outputs": [],
   "source": [
    "loan_status_bool = (loans_2['loan_status'] == \"Fully Paid\") | (loans_2['loan_status'] == \"Charged Off\")\n",
    "\n",
    "loans_3 = loans_2[loan_status_bool].copy()\n",
    "\n",
    "\n",
    "status_replace = { \"loan_status\": {\n",
    "                            \"Fully Paid\": 1,\n",
    "                            \"Charged Off\": 0\n",
    "                    } \n",
    "                 }\n",
    "\n",
    "\n",
    "loans_3 = loans_3.replace( status_replace )\n"
   ]
  },
  {
   "cell_type": "code",
   "execution_count": 75,
   "metadata": {
    "scrolled": true
   },
   "outputs": [
    {
     "name": "stdout",
     "output_type": "stream",
     "text": [
      "<class 'pandas.core.frame.DataFrame'>\n",
      "Int64Index: 37648 entries, 0 to 39753\n",
      "Data columns (total 23 columns):\n",
      " #   Column               Non-Null Count  Dtype  \n",
      "---  ------               --------------  -----  \n",
      " 0   loan_amnt            37648 non-null  float64\n",
      " 1   term                 37648 non-null  int64  \n",
      " 2   int_rate             37648 non-null  float64\n",
      " 3   installment          37648 non-null  float64\n",
      " 4   emp_length           37648 non-null  float64\n",
      " 5   home_ownership       37648 non-null  object \n",
      " 6   annual_inc           37648 non-null  float64\n",
      " 7   verification_status  37648 non-null  object \n",
      " 8   loan_status          37648 non-null  int64  \n",
      " 9   pymnt_plan           37648 non-null  object \n",
      " 10  purpose              37648 non-null  object \n",
      " 11  addr_state           37648 non-null  object \n",
      " 12  dti                  37648 non-null  float64\n",
      " 13  delinq_2yrs          37648 non-null  float64\n",
      " 14  inq_last_6mths       37648 non-null  float64\n",
      " 15  open_acc             37648 non-null  float64\n",
      " 16  pub_rec              37648 non-null  float64\n",
      " 17  revol_bal            37648 non-null  float64\n",
      " 18  revol_util           37648 non-null  float64\n",
      " 19  total_acc            37648 non-null  float64\n",
      " 20  acc_now_delinq       37648 non-null  float64\n",
      " 21  delinq_amnt          37648 non-null  float64\n",
      " 22  tax_liens            37648 non-null  float64\n",
      "dtypes: float64(16), int64(2), object(5)\n",
      "memory usage: 6.9+ MB\n"
     ]
    }
   ],
   "source": [
    "loans_3.info()"
   ]
  },
  {
   "cell_type": "code",
   "execution_count": 76,
   "metadata": {},
   "outputs": [
    {
     "data": {
      "text/plain": [
       "(37648, 23)"
      ]
     },
     "execution_count": 76,
     "metadata": {},
     "output_type": "execute_result"
    }
   ],
   "source": [
    "loans_3.shape"
   ]
  },
  {
   "cell_type": "code",
   "execution_count": 77,
   "metadata": {},
   "outputs": [
    {
     "data": {
      "text/plain": [
       "1    32258\n",
       "0     5390\n",
       "Name: loan_status, dtype: int64"
      ]
     },
     "execution_count": 77,
     "metadata": {},
     "output_type": "execute_result"
    }
   ],
   "source": [
    "loans_3['loan_status'].value_counts(dropna=False)"
   ]
  },
  {
   "cell_type": "markdown",
   "metadata": {},
   "source": [
    "### Removing More Single Value Columns"
   ]
  },
  {
   "cell_type": "markdown",
   "metadata": {},
   "source": [
    "By removing all the loans that don't contain either `Fully Paid` and `Charged Off` as the loan's status we ended up with 37,646 rows (we had originally 42,538).\n",
    "\n",
    "Therefore, let's look for any additional columns that contain only one unique value (low variance features) and remove them. These columns won't be useful for the model since they don't add any information to each loan application."
   ]
  },
  {
   "cell_type": "code",
   "execution_count": 78,
   "metadata": {},
   "outputs": [
    {
     "name": "stdout",
     "output_type": "stream",
     "text": [
      "['pymnt_plan', 'acc_now_delinq', 'delinq_amnt', 'tax_liens']\n"
     ]
    }
   ],
   "source": [
    "low_variance_features = []\n",
    "\n",
    "for col in loans_3.columns:\n",
    "    \n",
    "    if len( loans_3[col].unique() ) == 1:\n",
    "        \n",
    "        low_variance_features.append(col)\n",
    "\n",
    "\n",
    "print( low_variance_features )\n"
   ]
  },
  {
   "cell_type": "code",
   "execution_count": 79,
   "metadata": {},
   "outputs": [],
   "source": [
    "loans_3.drop( columns=low_variance_features, inplace=True )\n"
   ]
  },
  {
   "cell_type": "code",
   "execution_count": 80,
   "metadata": {
    "scrolled": true
   },
   "outputs": [
    {
     "name": "stdout",
     "output_type": "stream",
     "text": [
      "<class 'pandas.core.frame.DataFrame'>\n",
      "Int64Index: 37648 entries, 0 to 39753\n",
      "Data columns (total 19 columns):\n",
      " #   Column               Non-Null Count  Dtype  \n",
      "---  ------               --------------  -----  \n",
      " 0   loan_amnt            37648 non-null  float64\n",
      " 1   term                 37648 non-null  int64  \n",
      " 2   int_rate             37648 non-null  float64\n",
      " 3   installment          37648 non-null  float64\n",
      " 4   emp_length           37648 non-null  float64\n",
      " 5   home_ownership       37648 non-null  object \n",
      " 6   annual_inc           37648 non-null  float64\n",
      " 7   verification_status  37648 non-null  object \n",
      " 8   loan_status          37648 non-null  int64  \n",
      " 9   purpose              37648 non-null  object \n",
      " 10  addr_state           37648 non-null  object \n",
      " 11  dti                  37648 non-null  float64\n",
      " 12  delinq_2yrs          37648 non-null  float64\n",
      " 13  inq_last_6mths       37648 non-null  float64\n",
      " 14  open_acc             37648 non-null  float64\n",
      " 15  pub_rec              37648 non-null  float64\n",
      " 16  revol_bal            37648 non-null  float64\n",
      " 17  revol_util           37648 non-null  float64\n",
      " 18  total_acc            37648 non-null  float64\n",
      "dtypes: float64(13), int64(2), object(4)\n",
      "memory usage: 5.7+ MB\n"
     ]
    }
   ],
   "source": [
    "loans_3.info()"
   ]
  },
  {
   "cell_type": "code",
   "execution_count": 81,
   "metadata": {},
   "outputs": [
    {
     "data": {
      "text/plain": [
       "(37648, 19)"
      ]
     },
     "execution_count": 81,
     "metadata": {},
     "output_type": "execute_result"
    }
   ],
   "source": [
    "loans_3.shape"
   ]
  },
  {
   "cell_type": "markdown",
   "metadata": {},
   "source": [
    "### Dummy Variables"
   ]
  },
  {
   "cell_type": "markdown",
   "metadata": {},
   "source": [
    "Let's use dummy variables for columns containing categorical values. Whenever we have more than 2 categories, we need to create more columns to represent the categories."
   ]
  },
  {
   "cell_type": "code",
   "execution_count": 82,
   "metadata": {},
   "outputs": [
    {
     "name": "stdout",
     "output_type": "stream",
     "text": [
      "<class 'pandas.core.frame.DataFrame'>\n",
      "Int64Index: 37648 entries, 0 to 39753\n",
      "Data columns (total 4 columns):\n",
      " #   Column               Non-Null Count  Dtype \n",
      "---  ------               --------------  ----- \n",
      " 0   home_ownership       37648 non-null  object\n",
      " 1   verification_status  37648 non-null  object\n",
      " 2   purpose              37648 non-null  object\n",
      " 3   addr_state           37648 non-null  object\n",
      "dtypes: object(4)\n",
      "memory usage: 1.4+ MB\n"
     ]
    }
   ],
   "source": [
    "object_columns_df = loans_3.select_dtypes( include=['object'] )\n",
    "\n",
    "object_columns_df.info()\n"
   ]
  },
  {
   "cell_type": "code",
   "execution_count": 84,
   "metadata": {
    "scrolled": false
   },
   "outputs": [
    {
     "data": {
      "text/html": [
       "<div>\n",
       "<style scoped>\n",
       "    .dataframe tbody tr th:only-of-type {\n",
       "        vertical-align: middle;\n",
       "    }\n",
       "\n",
       "    .dataframe tbody tr th {\n",
       "        vertical-align: top;\n",
       "    }\n",
       "\n",
       "    .dataframe thead th {\n",
       "        text-align: right;\n",
       "    }\n",
       "</style>\n",
       "<table border=\"1\" class=\"dataframe\">\n",
       "  <thead>\n",
       "    <tr style=\"text-align: right;\">\n",
       "      <th></th>\n",
       "      <th>home_ownership</th>\n",
       "      <th>verification_status</th>\n",
       "      <th>purpose</th>\n",
       "      <th>addr_state</th>\n",
       "    </tr>\n",
       "  </thead>\n",
       "  <tbody>\n",
       "    <tr>\n",
       "      <th>count</th>\n",
       "      <td>37648</td>\n",
       "      <td>37648</td>\n",
       "      <td>37648</td>\n",
       "      <td>37648</td>\n",
       "    </tr>\n",
       "    <tr>\n",
       "      <th>unique</th>\n",
       "      <td>4</td>\n",
       "      <td>3</td>\n",
       "      <td>14</td>\n",
       "      <td>50</td>\n",
       "    </tr>\n",
       "    <tr>\n",
       "      <th>top</th>\n",
       "      <td>RENT</td>\n",
       "      <td>Not Verified</td>\n",
       "      <td>debt_consolidation</td>\n",
       "      <td>CA</td>\n",
       "    </tr>\n",
       "    <tr>\n",
       "      <th>freq</th>\n",
       "      <td>18105</td>\n",
       "      <td>16248</td>\n",
       "      <td>17747</td>\n",
       "      <td>6778</td>\n",
       "    </tr>\n",
       "  </tbody>\n",
       "</table>\n",
       "</div>"
      ],
      "text/plain": [
       "       home_ownership verification_status             purpose addr_state\n",
       "count           37648               37648               37648      37648\n",
       "unique              4                   3                  14         50\n",
       "top              RENT        Not Verified  debt_consolidation         CA\n",
       "freq            18105               16248               17747       6778"
      ]
     },
     "execution_count": 84,
     "metadata": {},
     "output_type": "execute_result"
    }
   ],
   "source": [
    "object_columns_df.describe()"
   ]
  },
  {
   "cell_type": "markdown",
   "metadata": {},
   "source": [
    "### > IMPORTANT NOTE:\n",
    "\n",
    "Since the `addr_state` column contains a __higher__ number of unique values (compared to the other three columns --see above table), I would like to approach the problem in two different ways (by using two different dataframes).\n",
    "\n",
    "1. Option 1: Consider the columns that do not have a high number of unique values: `home_ownership`, `verification_status`, and `purpose`\n",
    "\n",
    "\n",
    "2. Option 2: Consider the columns from Option 1 plus `addr_state`"
   ]
  },
  {
   "cell_type": "markdown",
   "metadata": {},
   "source": [
    "### > Option 1:"
   ]
  },
  {
   "cell_type": "code",
   "execution_count": 85,
   "metadata": {},
   "outputs": [
    {
     "data": {
      "text/plain": [
       "(37648, 19)"
      ]
     },
     "execution_count": 85,
     "metadata": {},
     "output_type": "execute_result"
    }
   ],
   "source": [
    "loans_3.shape\n"
   ]
  },
  {
   "cell_type": "code",
   "execution_count": 86,
   "metadata": {},
   "outputs": [],
   "source": [
    "option_1_columns = [\"home_ownership\", \"verification_status\", \"purpose\"]\n",
    "\n",
    "dummy_df = pd.get_dummies( loans_3[option_1_columns] )\n",
    "\n",
    "loans_opt_1 = pd.concat( [loans_3, dummy_df], axis=1 )\n",
    "\n",
    "loans_opt_1.drop( columns=option_1_columns, inplace=True )\n"
   ]
  },
  {
   "cell_type": "code",
   "execution_count": 87,
   "metadata": {
    "scrolled": true
   },
   "outputs": [
    {
     "name": "stdout",
     "output_type": "stream",
     "text": [
      "<class 'pandas.core.frame.DataFrame'>\n",
      "Int64Index: 37648 entries, 0 to 39753\n",
      "Data columns (total 37 columns):\n",
      " #   Column                               Non-Null Count  Dtype  \n",
      "---  ------                               --------------  -----  \n",
      " 0   loan_amnt                            37648 non-null  float64\n",
      " 1   term                                 37648 non-null  int64  \n",
      " 2   int_rate                             37648 non-null  float64\n",
      " 3   installment                          37648 non-null  float64\n",
      " 4   emp_length                           37648 non-null  float64\n",
      " 5   annual_inc                           37648 non-null  float64\n",
      " 6   loan_status                          37648 non-null  int64  \n",
      " 7   addr_state                           37648 non-null  object \n",
      " 8   dti                                  37648 non-null  float64\n",
      " 9   delinq_2yrs                          37648 non-null  float64\n",
      " 10  inq_last_6mths                       37648 non-null  float64\n",
      " 11  open_acc                             37648 non-null  float64\n",
      " 12  pub_rec                              37648 non-null  float64\n",
      " 13  revol_bal                            37648 non-null  float64\n",
      " 14  revol_util                           37648 non-null  float64\n",
      " 15  total_acc                            37648 non-null  float64\n",
      " 16  home_ownership_MORTGAGE              37648 non-null  uint8  \n",
      " 17  home_ownership_OTHER                 37648 non-null  uint8  \n",
      " 18  home_ownership_OWN                   37648 non-null  uint8  \n",
      " 19  home_ownership_RENT                  37648 non-null  uint8  \n",
      " 20  verification_status_Not Verified     37648 non-null  uint8  \n",
      " 21  verification_status_Source Verified  37648 non-null  uint8  \n",
      " 22  verification_status_Verified         37648 non-null  uint8  \n",
      " 23  purpose_car                          37648 non-null  uint8  \n",
      " 24  purpose_credit_card                  37648 non-null  uint8  \n",
      " 25  purpose_debt_consolidation           37648 non-null  uint8  \n",
      " 26  purpose_educational                  37648 non-null  uint8  \n",
      " 27  purpose_home_improvement             37648 non-null  uint8  \n",
      " 28  purpose_house                        37648 non-null  uint8  \n",
      " 29  purpose_major_purchase               37648 non-null  uint8  \n",
      " 30  purpose_medical                      37648 non-null  uint8  \n",
      " 31  purpose_moving                       37648 non-null  uint8  \n",
      " 32  purpose_other                        37648 non-null  uint8  \n",
      " 33  purpose_renewable_energy             37648 non-null  uint8  \n",
      " 34  purpose_small_business               37648 non-null  uint8  \n",
      " 35  purpose_vacation                     37648 non-null  uint8  \n",
      " 36  purpose_wedding                      37648 non-null  uint8  \n",
      "dtypes: float64(13), int64(2), object(1), uint8(21)\n",
      "memory usage: 5.6+ MB\n"
     ]
    }
   ],
   "source": [
    "loans_opt_1.info()"
   ]
  },
  {
   "cell_type": "code",
   "execution_count": 88,
   "metadata": {},
   "outputs": [
    {
     "data": {
      "text/plain": [
       "(37648, 37)"
      ]
     },
     "execution_count": 88,
     "metadata": {},
     "output_type": "execute_result"
    }
   ],
   "source": [
    "loans_opt_1.shape"
   ]
  },
  {
   "cell_type": "code",
   "execution_count": 90,
   "metadata": {},
   "outputs": [],
   "source": [
    "loans_opt_1.drop( columns=['addr_state'], inplace=True )\n"
   ]
  },
  {
   "cell_type": "code",
   "execution_count": 91,
   "metadata": {},
   "outputs": [
    {
     "data": {
      "text/plain": [
       "(37648, 36)"
      ]
     },
     "execution_count": 91,
     "metadata": {},
     "output_type": "execute_result"
    }
   ],
   "source": [
    "loans_opt_1.shape"
   ]
  },
  {
   "cell_type": "markdown",
   "metadata": {},
   "source": [
    "#### Dummy Variable Trap (DVT)"
   ]
  },
  {
   "cell_type": "code",
   "execution_count": 92,
   "metadata": {},
   "outputs": [],
   "source": [
    "loans_opt_1_dvt = loans_opt_1.copy()\n",
    "\n",
    "loans_opt_1_dvt.drop( columns=['home_ownership_MORTGAGE', 'verification_status_Not Verified', \\\n",
    "                               'purpose_car'], inplace=True )\n"
   ]
  },
  {
   "cell_type": "code",
   "execution_count": 93,
   "metadata": {},
   "outputs": [
    {
     "data": {
      "text/plain": [
       "(37648, 33)"
      ]
     },
     "execution_count": 93,
     "metadata": {},
     "output_type": "execute_result"
    }
   ],
   "source": [
    "loans_opt_1_dvt.shape"
   ]
  },
  {
   "cell_type": "code",
   "execution_count": null,
   "metadata": {},
   "outputs": [],
   "source": []
  },
  {
   "cell_type": "markdown",
   "metadata": {},
   "source": [
    "### > Option 2:"
   ]
  },
  {
   "cell_type": "code",
   "execution_count": 94,
   "metadata": {},
   "outputs": [
    {
     "data": {
      "text/plain": [
       "(37648, 19)"
      ]
     },
     "execution_count": 94,
     "metadata": {},
     "output_type": "execute_result"
    }
   ],
   "source": [
    "loans_3.shape\n"
   ]
  },
  {
   "cell_type": "code",
   "execution_count": 95,
   "metadata": {},
   "outputs": [],
   "source": [
    "option_2_columns = [\"home_ownership\", \"verification_status\", \"purpose\", \"addr_state\"]\n",
    "\n",
    "dummy_df = pd.get_dummies( loans_3[option_2_columns], drop_first=True )\n",
    "\n",
    "loans_opt_2_dvt = pd.concat( [loans_3, dummy_df], axis=1 )\n",
    "\n",
    "loans_opt_2_dvt.drop( columns=option_2_columns, inplace=True )\n"
   ]
  },
  {
   "cell_type": "code",
   "execution_count": 96,
   "metadata": {
    "scrolled": true
   },
   "outputs": [
    {
     "name": "stdout",
     "output_type": "stream",
     "text": [
      "<class 'pandas.core.frame.DataFrame'>\n",
      "Int64Index: 37648 entries, 0 to 39753\n",
      "Data columns (total 82 columns):\n",
      " #   Column                               Non-Null Count  Dtype  \n",
      "---  ------                               --------------  -----  \n",
      " 0   loan_amnt                            37648 non-null  float64\n",
      " 1   term                                 37648 non-null  int64  \n",
      " 2   int_rate                             37648 non-null  float64\n",
      " 3   installment                          37648 non-null  float64\n",
      " 4   emp_length                           37648 non-null  float64\n",
      " 5   annual_inc                           37648 non-null  float64\n",
      " 6   loan_status                          37648 non-null  int64  \n",
      " 7   dti                                  37648 non-null  float64\n",
      " 8   delinq_2yrs                          37648 non-null  float64\n",
      " 9   inq_last_6mths                       37648 non-null  float64\n",
      " 10  open_acc                             37648 non-null  float64\n",
      " 11  pub_rec                              37648 non-null  float64\n",
      " 12  revol_bal                            37648 non-null  float64\n",
      " 13  revol_util                           37648 non-null  float64\n",
      " 14  total_acc                            37648 non-null  float64\n",
      " 15  home_ownership_OTHER                 37648 non-null  uint8  \n",
      " 16  home_ownership_OWN                   37648 non-null  uint8  \n",
      " 17  home_ownership_RENT                  37648 non-null  uint8  \n",
      " 18  verification_status_Source Verified  37648 non-null  uint8  \n",
      " 19  verification_status_Verified         37648 non-null  uint8  \n",
      " 20  purpose_credit_card                  37648 non-null  uint8  \n",
      " 21  purpose_debt_consolidation           37648 non-null  uint8  \n",
      " 22  purpose_educational                  37648 non-null  uint8  \n",
      " 23  purpose_home_improvement             37648 non-null  uint8  \n",
      " 24  purpose_house                        37648 non-null  uint8  \n",
      " 25  purpose_major_purchase               37648 non-null  uint8  \n",
      " 26  purpose_medical                      37648 non-null  uint8  \n",
      " 27  purpose_moving                       37648 non-null  uint8  \n",
      " 28  purpose_other                        37648 non-null  uint8  \n",
      " 29  purpose_renewable_energy             37648 non-null  uint8  \n",
      " 30  purpose_small_business               37648 non-null  uint8  \n",
      " 31  purpose_vacation                     37648 non-null  uint8  \n",
      " 32  purpose_wedding                      37648 non-null  uint8  \n",
      " 33  addr_state_AL                        37648 non-null  uint8  \n",
      " 34  addr_state_AR                        37648 non-null  uint8  \n",
      " 35  addr_state_AZ                        37648 non-null  uint8  \n",
      " 36  addr_state_CA                        37648 non-null  uint8  \n",
      " 37  addr_state_CO                        37648 non-null  uint8  \n",
      " 38  addr_state_CT                        37648 non-null  uint8  \n",
      " 39  addr_state_DC                        37648 non-null  uint8  \n",
      " 40  addr_state_DE                        37648 non-null  uint8  \n",
      " 41  addr_state_FL                        37648 non-null  uint8  \n",
      " 42  addr_state_GA                        37648 non-null  uint8  \n",
      " 43  addr_state_HI                        37648 non-null  uint8  \n",
      " 44  addr_state_IA                        37648 non-null  uint8  \n",
      " 45  addr_state_ID                        37648 non-null  uint8  \n",
      " 46  addr_state_IL                        37648 non-null  uint8  \n",
      " 47  addr_state_IN                        37648 non-null  uint8  \n",
      " 48  addr_state_KS                        37648 non-null  uint8  \n",
      " 49  addr_state_KY                        37648 non-null  uint8  \n",
      " 50  addr_state_LA                        37648 non-null  uint8  \n",
      " 51  addr_state_MA                        37648 non-null  uint8  \n",
      " 52  addr_state_MD                        37648 non-null  uint8  \n",
      " 53  addr_state_ME                        37648 non-null  uint8  \n",
      " 54  addr_state_MI                        37648 non-null  uint8  \n",
      " 55  addr_state_MN                        37648 non-null  uint8  \n",
      " 56  addr_state_MO                        37648 non-null  uint8  \n",
      " 57  addr_state_MS                        37648 non-null  uint8  \n",
      " 58  addr_state_MT                        37648 non-null  uint8  \n",
      " 59  addr_state_NC                        37648 non-null  uint8  \n",
      " 60  addr_state_NE                        37648 non-null  uint8  \n",
      " 61  addr_state_NH                        37648 non-null  uint8  \n",
      " 62  addr_state_NJ                        37648 non-null  uint8  \n",
      " 63  addr_state_NM                        37648 non-null  uint8  \n",
      " 64  addr_state_NV                        37648 non-null  uint8  \n",
      " 65  addr_state_NY                        37648 non-null  uint8  \n",
      " 66  addr_state_OH                        37648 non-null  uint8  \n",
      " 67  addr_state_OK                        37648 non-null  uint8  \n",
      " 68  addr_state_OR                        37648 non-null  uint8  \n",
      " 69  addr_state_PA                        37648 non-null  uint8  \n",
      " 70  addr_state_RI                        37648 non-null  uint8  \n",
      " 71  addr_state_SC                        37648 non-null  uint8  \n",
      " 72  addr_state_SD                        37648 non-null  uint8  \n",
      " 73  addr_state_TN                        37648 non-null  uint8  \n",
      " 74  addr_state_TX                        37648 non-null  uint8  \n",
      " 75  addr_state_UT                        37648 non-null  uint8  \n",
      " 76  addr_state_VA                        37648 non-null  uint8  \n",
      " 77  addr_state_VT                        37648 non-null  uint8  \n",
      " 78  addr_state_WA                        37648 non-null  uint8  \n",
      " 79  addr_state_WI                        37648 non-null  uint8  \n",
      " 80  addr_state_WV                        37648 non-null  uint8  \n",
      " 81  addr_state_WY                        37648 non-null  uint8  \n",
      "dtypes: float64(13), int64(2), uint8(67)\n",
      "memory usage: 7.0 MB\n"
     ]
    }
   ],
   "source": [
    "loans_opt_2_dvt.info()"
   ]
  },
  {
   "cell_type": "code",
   "execution_count": 97,
   "metadata": {},
   "outputs": [
    {
     "data": {
      "text/plain": [
       "(37648, 82)"
      ]
     },
     "execution_count": 97,
     "metadata": {},
     "output_type": "execute_result"
    }
   ],
   "source": [
    "loans_opt_2_dvt.shape"
   ]
  },
  {
   "cell_type": "code",
   "execution_count": null,
   "metadata": {},
   "outputs": [],
   "source": []
  },
  {
   "cell_type": "markdown",
   "metadata": {},
   "source": [
    "### Selecting an Error Metric"
   ]
  },
  {
   "cell_type": "markdown",
   "metadata": {},
   "source": [
    "An error metric will help us figure out when our model is performing well, and when it's performing poorly. Since we will be using a machine learning model to predict whether or not we should fund a loan on the Lending Club platform, our final goal is to make money. \n",
    "\n",
    "- We want to fund enough loans that are paid off on time to compensate for our losses from loans that aren't paid off.\n",
    "\n",
    "An error metric will help us determine if our algorithm will make us money or lose us money."
   ]
  },
  {
   "cell_type": "markdown",
   "metadata": {},
   "source": [
    "In this case, we're primarily concerned with false positives and false negatives. Both of these are different types of misclassifications. \n",
    "\n",
    "- With a __false positive__, we predict that a loan will be paid off on time, but it actually isn't. This costs us money, since we fund loans that lose us money. \n",
    "\n",
    "\n",
    "- With a __false negative__, we predict that a loan won't be paid off on time, but it actually would be paid off on time. This loses us potential money, since we didn't fund a loan that actually would have been paid off.\n",
    "\n",
    "Since we're viewing this problem from the standpoint of a __conservative investor__, we need to treat false positives differently than false negatives. __A conservative investor would want to minimize risk and avoid false positives as much as possible.__ We would be more secure with missing out on opportunities (false negatives) than we would be with funding a risky loan (false positives)."
   ]
  },
  {
   "cell_type": "markdown",
   "metadata": {},
   "source": [
    "We mentioned earlier that there is a significant __class imbalance__ in the `loan_status` column. There are __6 times__ as many loans that were paid off on time (`1`), than loans that weren't paid off on time (`0`). This causes a major issue when we use __accuracy__ as a metric. Due to the class imbalance, a classifier can predict 1 for every row, and still have high accuracy.\n",
    "\n",
    "- Accuracy = number of correct predictions divided by the number of total predictions\n",
    "\n",
    "In this case, we will not use accuracy and instead will use metrics that tell us the number of false positives and false negatives.\n",
    "\n",
    "This means that we should optimize for:\n",
    "\n",
    "- __High__ True Positive Rate (TPR) -- aka Sensitivity or Recall\n",
    "\n",
    "    * The percentage of loans that should be funded that I would fund\n",
    "\n",
    "\n",
    "- __Low__ False Positive Rate (FPR) -- aka Fall-Out\n",
    "\n",
    "    * The percentage of the loans that shouldn't be funded that I would fund"
   ]
  },
  {
   "cell_type": "markdown",
   "metadata": {},
   "source": [
    "### Rescale (Normalize) the Numeric Features\n",
    "\n",
    "Let's rescale (Min-Max Normalization) the values in the numeric columns so they all range from 0 to 1."
   ]
  },
  {
   "cell_type": "code",
   "execution_count": 98,
   "metadata": {
    "scrolled": true
   },
   "outputs": [
    {
     "name": "stdout",
     "output_type": "stream",
     "text": [
      "<class 'pandas.core.frame.DataFrame'>\n",
      "Int64Index: 37648 entries, 0 to 39753\n",
      "Data columns (total 33 columns):\n",
      " #   Column                               Non-Null Count  Dtype  \n",
      "---  ------                               --------------  -----  \n",
      " 0   loan_amnt                            37648 non-null  float64\n",
      " 1   term                                 37648 non-null  int64  \n",
      " 2   int_rate                             37648 non-null  float64\n",
      " 3   installment                          37648 non-null  float64\n",
      " 4   emp_length                           37648 non-null  float64\n",
      " 5   annual_inc                           37648 non-null  float64\n",
      " 6   loan_status                          37648 non-null  int64  \n",
      " 7   dti                                  37648 non-null  float64\n",
      " 8   delinq_2yrs                          37648 non-null  float64\n",
      " 9   inq_last_6mths                       37648 non-null  float64\n",
      " 10  open_acc                             37648 non-null  float64\n",
      " 11  pub_rec                              37648 non-null  float64\n",
      " 12  revol_bal                            37648 non-null  float64\n",
      " 13  revol_util                           37648 non-null  float64\n",
      " 14  total_acc                            37648 non-null  float64\n",
      " 15  home_ownership_OTHER                 37648 non-null  uint8  \n",
      " 16  home_ownership_OWN                   37648 non-null  uint8  \n",
      " 17  home_ownership_RENT                  37648 non-null  uint8  \n",
      " 18  verification_status_Source Verified  37648 non-null  uint8  \n",
      " 19  verification_status_Verified         37648 non-null  uint8  \n",
      " 20  purpose_credit_card                  37648 non-null  uint8  \n",
      " 21  purpose_debt_consolidation           37648 non-null  uint8  \n",
      " 22  purpose_educational                  37648 non-null  uint8  \n",
      " 23  purpose_home_improvement             37648 non-null  uint8  \n",
      " 24  purpose_house                        37648 non-null  uint8  \n",
      " 25  purpose_major_purchase               37648 non-null  uint8  \n",
      " 26  purpose_medical                      37648 non-null  uint8  \n",
      " 27  purpose_moving                       37648 non-null  uint8  \n",
      " 28  purpose_other                        37648 non-null  uint8  \n",
      " 29  purpose_renewable_energy             37648 non-null  uint8  \n",
      " 30  purpose_small_business               37648 non-null  uint8  \n",
      " 31  purpose_vacation                     37648 non-null  uint8  \n",
      " 32  purpose_wedding                      37648 non-null  uint8  \n",
      "dtypes: float64(13), int64(2), uint8(18)\n",
      "memory usage: 5.2 MB\n"
     ]
    }
   ],
   "source": [
    "loans_opt_1_dvt.info()"
   ]
  },
  {
   "cell_type": "code",
   "execution_count": 99,
   "metadata": {},
   "outputs": [
    {
     "data": {
      "text/plain": [
       "Index(['loan_amnt', 'term', 'int_rate', 'installment', 'emp_length',\n",
       "       'annual_inc', 'loan_status', 'dti', 'delinq_2yrs', 'inq_last_6mths',\n",
       "       'open_acc', 'pub_rec', 'revol_bal', 'revol_util', 'total_acc'],\n",
       "      dtype='object')"
      ]
     },
     "execution_count": 99,
     "metadata": {},
     "output_type": "execute_result"
    }
   ],
   "source": [
    "numeric_cols = loans_opt_1_dvt.select_dtypes( include=['int64', 'float64'] ).columns\n",
    "\n",
    "numeric_cols\n"
   ]
  },
  {
   "cell_type": "code",
   "execution_count": 100,
   "metadata": {},
   "outputs": [
    {
     "data": {
      "text/plain": [
       "15"
      ]
     },
     "execution_count": 100,
     "metadata": {},
     "output_type": "execute_result"
    }
   ],
   "source": [
    "len(numeric_cols)"
   ]
  },
  {
   "cell_type": "code",
   "execution_count": 101,
   "metadata": {},
   "outputs": [],
   "source": [
    "numeric_cols = numeric_cols.drop(\"loan_status\")"
   ]
  },
  {
   "cell_type": "code",
   "execution_count": 102,
   "metadata": {},
   "outputs": [
    {
     "data": {
      "text/plain": [
       "14"
      ]
     },
     "execution_count": 102,
     "metadata": {},
     "output_type": "execute_result"
    }
   ],
   "source": [
    "len(numeric_cols)"
   ]
  },
  {
   "cell_type": "code",
   "execution_count": 103,
   "metadata": {},
   "outputs": [
    {
     "data": {
      "text/html": [
       "<div>\n",
       "<style scoped>\n",
       "    .dataframe tbody tr th:only-of-type {\n",
       "        vertical-align: middle;\n",
       "    }\n",
       "\n",
       "    .dataframe tbody tr th {\n",
       "        vertical-align: top;\n",
       "    }\n",
       "\n",
       "    .dataframe thead th {\n",
       "        text-align: right;\n",
       "    }\n",
       "</style>\n",
       "<table border=\"1\" class=\"dataframe\">\n",
       "  <thead>\n",
       "    <tr style=\"text-align: right;\">\n",
       "      <th></th>\n",
       "      <th>loan_amnt</th>\n",
       "      <th>term</th>\n",
       "      <th>int_rate</th>\n",
       "      <th>installment</th>\n",
       "      <th>emp_length</th>\n",
       "      <th>annual_inc</th>\n",
       "      <th>dti</th>\n",
       "      <th>delinq_2yrs</th>\n",
       "      <th>inq_last_6mths</th>\n",
       "      <th>open_acc</th>\n",
       "      <th>pub_rec</th>\n",
       "      <th>revol_bal</th>\n",
       "      <th>revol_util</th>\n",
       "      <th>total_acc</th>\n",
       "    </tr>\n",
       "  </thead>\n",
       "  <tbody>\n",
       "    <tr>\n",
       "      <th>count</th>\n",
       "      <td>37648.000000</td>\n",
       "      <td>37648.000000</td>\n",
       "      <td>37648.000000</td>\n",
       "      <td>37648.000000</td>\n",
       "      <td>37648.000000</td>\n",
       "      <td>3.764800e+04</td>\n",
       "      <td>37648.000000</td>\n",
       "      <td>37648.000000</td>\n",
       "      <td>37648.000000</td>\n",
       "      <td>37648.000000</td>\n",
       "      <td>37648.000000</td>\n",
       "      <td>37648.000000</td>\n",
       "      <td>37648.000000</td>\n",
       "      <td>37648.000000</td>\n",
       "    </tr>\n",
       "    <tr>\n",
       "      <th>mean</th>\n",
       "      <td>11154.745272</td>\n",
       "      <td>42.020399</td>\n",
       "      <td>11.977413</td>\n",
       "      <td>325.148902</td>\n",
       "      <td>5.008500</td>\n",
       "      <td>6.943531e+04</td>\n",
       "      <td>13.297091</td>\n",
       "      <td>0.147073</td>\n",
       "      <td>0.872370</td>\n",
       "      <td>9.307347</td>\n",
       "      <td>0.053761</td>\n",
       "      <td>13384.615889</td>\n",
       "      <td>48.890877</td>\n",
       "      <td>22.109302</td>\n",
       "    </tr>\n",
       "    <tr>\n",
       "      <th>std</th>\n",
       "      <td>7368.660829</td>\n",
       "      <td>10.404194</td>\n",
       "      <td>3.689185</td>\n",
       "      <td>208.872859</td>\n",
       "      <td>3.477349</td>\n",
       "      <td>6.461235e+04</td>\n",
       "      <td>6.660339</td>\n",
       "      <td>0.493231</td>\n",
       "      <td>1.071137</td>\n",
       "      <td>4.395104</td>\n",
       "      <td>0.234668</td>\n",
       "      <td>15887.338884</td>\n",
       "      <td>28.335300</td>\n",
       "      <td>11.406812</td>\n",
       "    </tr>\n",
       "    <tr>\n",
       "      <th>min</th>\n",
       "      <td>500.000000</td>\n",
       "      <td>36.000000</td>\n",
       "      <td>5.420000</td>\n",
       "      <td>15.690000</td>\n",
       "      <td>0.500000</td>\n",
       "      <td>4.000000e+03</td>\n",
       "      <td>0.000000</td>\n",
       "      <td>0.000000</td>\n",
       "      <td>0.000000</td>\n",
       "      <td>2.000000</td>\n",
       "      <td>0.000000</td>\n",
       "      <td>0.000000</td>\n",
       "      <td>0.000000</td>\n",
       "      <td>2.000000</td>\n",
       "    </tr>\n",
       "    <tr>\n",
       "      <th>25%</th>\n",
       "      <td>5500.000000</td>\n",
       "      <td>36.000000</td>\n",
       "      <td>9.070000</td>\n",
       "      <td>167.730000</td>\n",
       "      <td>2.000000</td>\n",
       "      <td>4.100000e+04</td>\n",
       "      <td>8.170000</td>\n",
       "      <td>0.000000</td>\n",
       "      <td>0.000000</td>\n",
       "      <td>6.000000</td>\n",
       "      <td>0.000000</td>\n",
       "      <td>3713.000000</td>\n",
       "      <td>25.500000</td>\n",
       "      <td>14.000000</td>\n",
       "    </tr>\n",
       "    <tr>\n",
       "      <th>50%</th>\n",
       "      <td>10000.000000</td>\n",
       "      <td>36.000000</td>\n",
       "      <td>11.830000</td>\n",
       "      <td>280.910000</td>\n",
       "      <td>4.000000</td>\n",
       "      <td>6.000000e+04</td>\n",
       "      <td>13.390000</td>\n",
       "      <td>0.000000</td>\n",
       "      <td>1.000000</td>\n",
       "      <td>9.000000</td>\n",
       "      <td>0.000000</td>\n",
       "      <td>8869.000000</td>\n",
       "      <td>49.300000</td>\n",
       "      <td>20.000000</td>\n",
       "    </tr>\n",
       "    <tr>\n",
       "      <th>75%</th>\n",
       "      <td>15000.000000</td>\n",
       "      <td>60.000000</td>\n",
       "      <td>14.460000</td>\n",
       "      <td>430.192500</td>\n",
       "      <td>9.000000</td>\n",
       "      <td>8.300000e+04</td>\n",
       "      <td>18.560000</td>\n",
       "      <td>0.000000</td>\n",
       "      <td>1.000000</td>\n",
       "      <td>12.000000</td>\n",
       "      <td>0.000000</td>\n",
       "      <td>17037.000000</td>\n",
       "      <td>72.400000</td>\n",
       "      <td>29.000000</td>\n",
       "    </tr>\n",
       "    <tr>\n",
       "      <th>max</th>\n",
       "      <td>35000.000000</td>\n",
       "      <td>60.000000</td>\n",
       "      <td>24.590000</td>\n",
       "      <td>1305.190000</td>\n",
       "      <td>10.000000</td>\n",
       "      <td>6.000000e+06</td>\n",
       "      <td>29.990000</td>\n",
       "      <td>11.000000</td>\n",
       "      <td>8.000000</td>\n",
       "      <td>44.000000</td>\n",
       "      <td>4.000000</td>\n",
       "      <td>149588.000000</td>\n",
       "      <td>99.900000</td>\n",
       "      <td>90.000000</td>\n",
       "    </tr>\n",
       "  </tbody>\n",
       "</table>\n",
       "</div>"
      ],
      "text/plain": [
       "          loan_amnt          term      int_rate   installment    emp_length  \\\n",
       "count  37648.000000  37648.000000  37648.000000  37648.000000  37648.000000   \n",
       "mean   11154.745272     42.020399     11.977413    325.148902      5.008500   \n",
       "std     7368.660829     10.404194      3.689185    208.872859      3.477349   \n",
       "min      500.000000     36.000000      5.420000     15.690000      0.500000   \n",
       "25%     5500.000000     36.000000      9.070000    167.730000      2.000000   \n",
       "50%    10000.000000     36.000000     11.830000    280.910000      4.000000   \n",
       "75%    15000.000000     60.000000     14.460000    430.192500      9.000000   \n",
       "max    35000.000000     60.000000     24.590000   1305.190000     10.000000   \n",
       "\n",
       "         annual_inc           dti   delinq_2yrs  inq_last_6mths      open_acc  \\\n",
       "count  3.764800e+04  37648.000000  37648.000000    37648.000000  37648.000000   \n",
       "mean   6.943531e+04     13.297091      0.147073        0.872370      9.307347   \n",
       "std    6.461235e+04      6.660339      0.493231        1.071137      4.395104   \n",
       "min    4.000000e+03      0.000000      0.000000        0.000000      2.000000   \n",
       "25%    4.100000e+04      8.170000      0.000000        0.000000      6.000000   \n",
       "50%    6.000000e+04     13.390000      0.000000        1.000000      9.000000   \n",
       "75%    8.300000e+04     18.560000      0.000000        1.000000     12.000000   \n",
       "max    6.000000e+06     29.990000     11.000000        8.000000     44.000000   \n",
       "\n",
       "            pub_rec      revol_bal    revol_util     total_acc  \n",
       "count  37648.000000   37648.000000  37648.000000  37648.000000  \n",
       "mean       0.053761   13384.615889     48.890877     22.109302  \n",
       "std        0.234668   15887.338884     28.335300     11.406812  \n",
       "min        0.000000       0.000000      0.000000      2.000000  \n",
       "25%        0.000000    3713.000000     25.500000     14.000000  \n",
       "50%        0.000000    8869.000000     49.300000     20.000000  \n",
       "75%        0.000000   17037.000000     72.400000     29.000000  \n",
       "max        4.000000  149588.000000     99.900000     90.000000  "
      ]
     },
     "execution_count": 103,
     "metadata": {},
     "output_type": "execute_result"
    }
   ],
   "source": [
    "loans_opt_1_dvt[numeric_cols].describe()"
   ]
  },
  {
   "cell_type": "code",
   "execution_count": 104,
   "metadata": {},
   "outputs": [],
   "source": [
    "loans_opt_1_dvt_norm = loans_opt_1_dvt.copy()\n"
   ]
  },
  {
   "cell_type": "code",
   "execution_count": 105,
   "metadata": {},
   "outputs": [],
   "source": [
    "for col in numeric_cols:\n",
    "    \n",
    "    loans_opt_1_dvt_norm[col] = ( loans_opt_1_dvt[col] - loans_opt_1_dvt[col].min() ) / \\\n",
    "                                ( loans_opt_1_dvt[col].max() - loans_opt_1_dvt[col].min() )\n"
   ]
  },
  {
   "cell_type": "code",
   "execution_count": 106,
   "metadata": {},
   "outputs": [
    {
     "data": {
      "text/html": [
       "<div>\n",
       "<style scoped>\n",
       "    .dataframe tbody tr th:only-of-type {\n",
       "        vertical-align: middle;\n",
       "    }\n",
       "\n",
       "    .dataframe tbody tr th {\n",
       "        vertical-align: top;\n",
       "    }\n",
       "\n",
       "    .dataframe thead th {\n",
       "        text-align: right;\n",
       "    }\n",
       "</style>\n",
       "<table border=\"1\" class=\"dataframe\">\n",
       "  <thead>\n",
       "    <tr style=\"text-align: right;\">\n",
       "      <th></th>\n",
       "      <th>loan_amnt</th>\n",
       "      <th>term</th>\n",
       "      <th>int_rate</th>\n",
       "      <th>installment</th>\n",
       "      <th>emp_length</th>\n",
       "      <th>annual_inc</th>\n",
       "      <th>dti</th>\n",
       "      <th>delinq_2yrs</th>\n",
       "      <th>inq_last_6mths</th>\n",
       "      <th>open_acc</th>\n",
       "      <th>pub_rec</th>\n",
       "      <th>revol_bal</th>\n",
       "      <th>revol_util</th>\n",
       "      <th>total_acc</th>\n",
       "    </tr>\n",
       "  </thead>\n",
       "  <tbody>\n",
       "    <tr>\n",
       "      <th>count</th>\n",
       "      <td>37648.000000</td>\n",
       "      <td>37648.000000</td>\n",
       "      <td>37648.000000</td>\n",
       "      <td>37648.000000</td>\n",
       "      <td>37648.000000</td>\n",
       "      <td>37648.000000</td>\n",
       "      <td>37648.000000</td>\n",
       "      <td>37648.000000</td>\n",
       "      <td>37648.000000</td>\n",
       "      <td>37648.000000</td>\n",
       "      <td>37648.000000</td>\n",
       "      <td>37648.000000</td>\n",
       "      <td>37648.000000</td>\n",
       "      <td>37648.000000</td>\n",
       "    </tr>\n",
       "    <tr>\n",
       "      <th>mean</th>\n",
       "      <td>0.308833</td>\n",
       "      <td>0.250850</td>\n",
       "      <td>0.342066</td>\n",
       "      <td>0.239984</td>\n",
       "      <td>0.474579</td>\n",
       "      <td>0.010913</td>\n",
       "      <td>0.443384</td>\n",
       "      <td>0.013370</td>\n",
       "      <td>0.109046</td>\n",
       "      <td>0.173984</td>\n",
       "      <td>0.013440</td>\n",
       "      <td>0.089477</td>\n",
       "      <td>0.489398</td>\n",
       "      <td>0.228515</td>\n",
       "    </tr>\n",
       "    <tr>\n",
       "      <th>std</th>\n",
       "      <td>0.213584</td>\n",
       "      <td>0.433508</td>\n",
       "      <td>0.192446</td>\n",
       "      <td>0.161980</td>\n",
       "      <td>0.366037</td>\n",
       "      <td>0.010776</td>\n",
       "      <td>0.222085</td>\n",
       "      <td>0.044839</td>\n",
       "      <td>0.133892</td>\n",
       "      <td>0.104645</td>\n",
       "      <td>0.058667</td>\n",
       "      <td>0.106207</td>\n",
       "      <td>0.283637</td>\n",
       "      <td>0.129623</td>\n",
       "    </tr>\n",
       "    <tr>\n",
       "      <th>min</th>\n",
       "      <td>0.000000</td>\n",
       "      <td>0.000000</td>\n",
       "      <td>0.000000</td>\n",
       "      <td>0.000000</td>\n",
       "      <td>0.000000</td>\n",
       "      <td>0.000000</td>\n",
       "      <td>0.000000</td>\n",
       "      <td>0.000000</td>\n",
       "      <td>0.000000</td>\n",
       "      <td>0.000000</td>\n",
       "      <td>0.000000</td>\n",
       "      <td>0.000000</td>\n",
       "      <td>0.000000</td>\n",
       "      <td>0.000000</td>\n",
       "    </tr>\n",
       "    <tr>\n",
       "      <th>25%</th>\n",
       "      <td>0.144928</td>\n",
       "      <td>0.000000</td>\n",
       "      <td>0.190402</td>\n",
       "      <td>0.117906</td>\n",
       "      <td>0.157895</td>\n",
       "      <td>0.006171</td>\n",
       "      <td>0.272424</td>\n",
       "      <td>0.000000</td>\n",
       "      <td>0.000000</td>\n",
       "      <td>0.095238</td>\n",
       "      <td>0.000000</td>\n",
       "      <td>0.024822</td>\n",
       "      <td>0.255255</td>\n",
       "      <td>0.136364</td>\n",
       "    </tr>\n",
       "    <tr>\n",
       "      <th>50%</th>\n",
       "      <td>0.275362</td>\n",
       "      <td>0.000000</td>\n",
       "      <td>0.334377</td>\n",
       "      <td>0.205677</td>\n",
       "      <td>0.368421</td>\n",
       "      <td>0.009340</td>\n",
       "      <td>0.446482</td>\n",
       "      <td>0.000000</td>\n",
       "      <td>0.125000</td>\n",
       "      <td>0.166667</td>\n",
       "      <td>0.000000</td>\n",
       "      <td>0.059290</td>\n",
       "      <td>0.493493</td>\n",
       "      <td>0.204545</td>\n",
       "    </tr>\n",
       "    <tr>\n",
       "      <th>75%</th>\n",
       "      <td>0.420290</td>\n",
       "      <td>1.000000</td>\n",
       "      <td>0.471570</td>\n",
       "      <td>0.321444</td>\n",
       "      <td>0.894737</td>\n",
       "      <td>0.013175</td>\n",
       "      <td>0.618873</td>\n",
       "      <td>0.000000</td>\n",
       "      <td>0.125000</td>\n",
       "      <td>0.238095</td>\n",
       "      <td>0.000000</td>\n",
       "      <td>0.113893</td>\n",
       "      <td>0.724725</td>\n",
       "      <td>0.306818</td>\n",
       "    </tr>\n",
       "    <tr>\n",
       "      <th>max</th>\n",
       "      <td>1.000000</td>\n",
       "      <td>1.000000</td>\n",
       "      <td>1.000000</td>\n",
       "      <td>1.000000</td>\n",
       "      <td>1.000000</td>\n",
       "      <td>1.000000</td>\n",
       "      <td>1.000000</td>\n",
       "      <td>1.000000</td>\n",
       "      <td>1.000000</td>\n",
       "      <td>1.000000</td>\n",
       "      <td>1.000000</td>\n",
       "      <td>1.000000</td>\n",
       "      <td>1.000000</td>\n",
       "      <td>1.000000</td>\n",
       "    </tr>\n",
       "  </tbody>\n",
       "</table>\n",
       "</div>"
      ],
      "text/plain": [
       "          loan_amnt          term      int_rate   installment    emp_length  \\\n",
       "count  37648.000000  37648.000000  37648.000000  37648.000000  37648.000000   \n",
       "mean       0.308833      0.250850      0.342066      0.239984      0.474579   \n",
       "std        0.213584      0.433508      0.192446      0.161980      0.366037   \n",
       "min        0.000000      0.000000      0.000000      0.000000      0.000000   \n",
       "25%        0.144928      0.000000      0.190402      0.117906      0.157895   \n",
       "50%        0.275362      0.000000      0.334377      0.205677      0.368421   \n",
       "75%        0.420290      1.000000      0.471570      0.321444      0.894737   \n",
       "max        1.000000      1.000000      1.000000      1.000000      1.000000   \n",
       "\n",
       "         annual_inc           dti   delinq_2yrs  inq_last_6mths      open_acc  \\\n",
       "count  37648.000000  37648.000000  37648.000000    37648.000000  37648.000000   \n",
       "mean       0.010913      0.443384      0.013370        0.109046      0.173984   \n",
       "std        0.010776      0.222085      0.044839        0.133892      0.104645   \n",
       "min        0.000000      0.000000      0.000000        0.000000      0.000000   \n",
       "25%        0.006171      0.272424      0.000000        0.000000      0.095238   \n",
       "50%        0.009340      0.446482      0.000000        0.125000      0.166667   \n",
       "75%        0.013175      0.618873      0.000000        0.125000      0.238095   \n",
       "max        1.000000      1.000000      1.000000        1.000000      1.000000   \n",
       "\n",
       "            pub_rec     revol_bal    revol_util     total_acc  \n",
       "count  37648.000000  37648.000000  37648.000000  37648.000000  \n",
       "mean       0.013440      0.089477      0.489398      0.228515  \n",
       "std        0.058667      0.106207      0.283637      0.129623  \n",
       "min        0.000000      0.000000      0.000000      0.000000  \n",
       "25%        0.000000      0.024822      0.255255      0.136364  \n",
       "50%        0.000000      0.059290      0.493493      0.204545  \n",
       "75%        0.000000      0.113893      0.724725      0.306818  \n",
       "max        1.000000      1.000000      1.000000      1.000000  "
      ]
     },
     "execution_count": 106,
     "metadata": {},
     "output_type": "execute_result"
    }
   ],
   "source": [
    "loans_opt_1_dvt_norm[numeric_cols].describe()"
   ]
  },
  {
   "cell_type": "code",
   "execution_count": 107,
   "metadata": {
    "scrolled": true
   },
   "outputs": [
    {
     "name": "stdout",
     "output_type": "stream",
     "text": [
      "<class 'pandas.core.frame.DataFrame'>\n",
      "Int64Index: 37648 entries, 0 to 39753\n",
      "Data columns (total 33 columns):\n",
      " #   Column                               Non-Null Count  Dtype  \n",
      "---  ------                               --------------  -----  \n",
      " 0   loan_amnt                            37648 non-null  float64\n",
      " 1   term                                 37648 non-null  float64\n",
      " 2   int_rate                             37648 non-null  float64\n",
      " 3   installment                          37648 non-null  float64\n",
      " 4   emp_length                           37648 non-null  float64\n",
      " 5   annual_inc                           37648 non-null  float64\n",
      " 6   loan_status                          37648 non-null  int64  \n",
      " 7   dti                                  37648 non-null  float64\n",
      " 8   delinq_2yrs                          37648 non-null  float64\n",
      " 9   inq_last_6mths                       37648 non-null  float64\n",
      " 10  open_acc                             37648 non-null  float64\n",
      " 11  pub_rec                              37648 non-null  float64\n",
      " 12  revol_bal                            37648 non-null  float64\n",
      " 13  revol_util                           37648 non-null  float64\n",
      " 14  total_acc                            37648 non-null  float64\n",
      " 15  home_ownership_OTHER                 37648 non-null  uint8  \n",
      " 16  home_ownership_OWN                   37648 non-null  uint8  \n",
      " 17  home_ownership_RENT                  37648 non-null  uint8  \n",
      " 18  verification_status_Source Verified  37648 non-null  uint8  \n",
      " 19  verification_status_Verified         37648 non-null  uint8  \n",
      " 20  purpose_credit_card                  37648 non-null  uint8  \n",
      " 21  purpose_debt_consolidation           37648 non-null  uint8  \n",
      " 22  purpose_educational                  37648 non-null  uint8  \n",
      " 23  purpose_home_improvement             37648 non-null  uint8  \n",
      " 24  purpose_house                        37648 non-null  uint8  \n",
      " 25  purpose_major_purchase               37648 non-null  uint8  \n",
      " 26  purpose_medical                      37648 non-null  uint8  \n",
      " 27  purpose_moving                       37648 non-null  uint8  \n",
      " 28  purpose_other                        37648 non-null  uint8  \n",
      " 29  purpose_renewable_energy             37648 non-null  uint8  \n",
      " 30  purpose_small_business               37648 non-null  uint8  \n",
      " 31  purpose_vacation                     37648 non-null  uint8  \n",
      " 32  purpose_wedding                      37648 non-null  uint8  \n",
      "dtypes: float64(14), int64(1), uint8(18)\n",
      "memory usage: 5.2 MB\n"
     ]
    }
   ],
   "source": [
    "loans_opt_1_dvt_norm.info()"
   ]
  },
  {
   "cell_type": "code",
   "execution_count": 108,
   "metadata": {},
   "outputs": [
    {
     "data": {
      "text/html": [
       "<div>\n",
       "<style scoped>\n",
       "    .dataframe tbody tr th:only-of-type {\n",
       "        vertical-align: middle;\n",
       "    }\n",
       "\n",
       "    .dataframe tbody tr th {\n",
       "        vertical-align: top;\n",
       "    }\n",
       "\n",
       "    .dataframe thead th {\n",
       "        text-align: right;\n",
       "    }\n",
       "</style>\n",
       "<table border=\"1\" class=\"dataframe\">\n",
       "  <thead>\n",
       "    <tr style=\"text-align: right;\">\n",
       "      <th></th>\n",
       "      <th>loan_amnt</th>\n",
       "      <th>term</th>\n",
       "      <th>int_rate</th>\n",
       "      <th>installment</th>\n",
       "      <th>emp_length</th>\n",
       "      <th>annual_inc</th>\n",
       "      <th>loan_status</th>\n",
       "      <th>dti</th>\n",
       "      <th>delinq_2yrs</th>\n",
       "      <th>inq_last_6mths</th>\n",
       "      <th>open_acc</th>\n",
       "      <th>pub_rec</th>\n",
       "      <th>revol_bal</th>\n",
       "      <th>revol_util</th>\n",
       "      <th>total_acc</th>\n",
       "      <th>home_ownership_OTHER</th>\n",
       "      <th>home_ownership_OWN</th>\n",
       "      <th>home_ownership_RENT</th>\n",
       "      <th>verification_status_Source Verified</th>\n",
       "      <th>verification_status_Verified</th>\n",
       "      <th>purpose_credit_card</th>\n",
       "      <th>purpose_debt_consolidation</th>\n",
       "      <th>purpose_educational</th>\n",
       "      <th>purpose_home_improvement</th>\n",
       "      <th>purpose_house</th>\n",
       "      <th>purpose_major_purchase</th>\n",
       "      <th>purpose_medical</th>\n",
       "      <th>purpose_moving</th>\n",
       "      <th>purpose_other</th>\n",
       "      <th>purpose_renewable_energy</th>\n",
       "      <th>purpose_small_business</th>\n",
       "      <th>purpose_vacation</th>\n",
       "      <th>purpose_wedding</th>\n",
       "    </tr>\n",
       "  </thead>\n",
       "  <tbody>\n",
       "    <tr>\n",
       "      <th>12854</th>\n",
       "      <td>12000.0</td>\n",
       "      <td>60</td>\n",
       "      <td>19.29</td>\n",
       "      <td>313.21</td>\n",
       "      <td>4.0</td>\n",
       "      <td>64500.0</td>\n",
       "      <td>1</td>\n",
       "      <td>4.15</td>\n",
       "      <td>0.0</td>\n",
       "      <td>0.0</td>\n",
       "      <td>4.0</td>\n",
       "      <td>0.0</td>\n",
       "      <td>5444.0</td>\n",
       "      <td>82.5</td>\n",
       "      <td>12.0</td>\n",
       "      <td>0</td>\n",
       "      <td>0</td>\n",
       "      <td>0</td>\n",
       "      <td>1</td>\n",
       "      <td>0</td>\n",
       "      <td>0</td>\n",
       "      <td>0</td>\n",
       "      <td>0</td>\n",
       "      <td>0</td>\n",
       "      <td>0</td>\n",
       "      <td>0</td>\n",
       "      <td>0</td>\n",
       "      <td>0</td>\n",
       "      <td>0</td>\n",
       "      <td>0</td>\n",
       "      <td>0</td>\n",
       "      <td>0</td>\n",
       "      <td>0</td>\n",
       "    </tr>\n",
       "    <tr>\n",
       "      <th>19413</th>\n",
       "      <td>7000.0</td>\n",
       "      <td>60</td>\n",
       "      <td>16.77</td>\n",
       "      <td>173.11</td>\n",
       "      <td>0.5</td>\n",
       "      <td>70000.0</td>\n",
       "      <td>0</td>\n",
       "      <td>0.81</td>\n",
       "      <td>0.0</td>\n",
       "      <td>1.0</td>\n",
       "      <td>2.0</td>\n",
       "      <td>0.0</td>\n",
       "      <td>2289.0</td>\n",
       "      <td>45.8</td>\n",
       "      <td>3.0</td>\n",
       "      <td>0</td>\n",
       "      <td>0</td>\n",
       "      <td>1</td>\n",
       "      <td>1</td>\n",
       "      <td>0</td>\n",
       "      <td>0</td>\n",
       "      <td>0</td>\n",
       "      <td>0</td>\n",
       "      <td>0</td>\n",
       "      <td>0</td>\n",
       "      <td>0</td>\n",
       "      <td>0</td>\n",
       "      <td>0</td>\n",
       "      <td>0</td>\n",
       "      <td>0</td>\n",
       "      <td>0</td>\n",
       "      <td>0</td>\n",
       "      <td>1</td>\n",
       "    </tr>\n",
       "    <tr>\n",
       "      <th>34943</th>\n",
       "      <td>10000.0</td>\n",
       "      <td>36</td>\n",
       "      <td>8.94</td>\n",
       "      <td>317.72</td>\n",
       "      <td>1.0</td>\n",
       "      <td>37500.0</td>\n",
       "      <td>1</td>\n",
       "      <td>13.73</td>\n",
       "      <td>0.0</td>\n",
       "      <td>2.0</td>\n",
       "      <td>5.0</td>\n",
       "      <td>0.0</td>\n",
       "      <td>417.0</td>\n",
       "      <td>3.2</td>\n",
       "      <td>28.0</td>\n",
       "      <td>0</td>\n",
       "      <td>0</td>\n",
       "      <td>1</td>\n",
       "      <td>0</td>\n",
       "      <td>0</td>\n",
       "      <td>0</td>\n",
       "      <td>1</td>\n",
       "      <td>0</td>\n",
       "      <td>0</td>\n",
       "      <td>0</td>\n",
       "      <td>0</td>\n",
       "      <td>0</td>\n",
       "      <td>0</td>\n",
       "      <td>0</td>\n",
       "      <td>0</td>\n",
       "      <td>0</td>\n",
       "      <td>0</td>\n",
       "      <td>0</td>\n",
       "    </tr>\n",
       "    <tr>\n",
       "      <th>9357</th>\n",
       "      <td>8000.0</td>\n",
       "      <td>36</td>\n",
       "      <td>16.49</td>\n",
       "      <td>283.20</td>\n",
       "      <td>0.5</td>\n",
       "      <td>40000.0</td>\n",
       "      <td>1</td>\n",
       "      <td>5.52</td>\n",
       "      <td>0.0</td>\n",
       "      <td>0.0</td>\n",
       "      <td>3.0</td>\n",
       "      <td>0.0</td>\n",
       "      <td>7482.0</td>\n",
       "      <td>67.4</td>\n",
       "      <td>9.0</td>\n",
       "      <td>0</td>\n",
       "      <td>0</td>\n",
       "      <td>1</td>\n",
       "      <td>0</td>\n",
       "      <td>0</td>\n",
       "      <td>1</td>\n",
       "      <td>0</td>\n",
       "      <td>0</td>\n",
       "      <td>0</td>\n",
       "      <td>0</td>\n",
       "      <td>0</td>\n",
       "      <td>0</td>\n",
       "      <td>0</td>\n",
       "      <td>0</td>\n",
       "      <td>0</td>\n",
       "      <td>0</td>\n",
       "      <td>0</td>\n",
       "      <td>0</td>\n",
       "    </tr>\n",
       "    <tr>\n",
       "      <th>6791</th>\n",
       "      <td>7000.0</td>\n",
       "      <td>36</td>\n",
       "      <td>13.49</td>\n",
       "      <td>237.52</td>\n",
       "      <td>8.0</td>\n",
       "      <td>90000.0</td>\n",
       "      <td>1</td>\n",
       "      <td>19.63</td>\n",
       "      <td>0.0</td>\n",
       "      <td>2.0</td>\n",
       "      <td>5.0</td>\n",
       "      <td>0.0</td>\n",
       "      <td>23655.0</td>\n",
       "      <td>94.6</td>\n",
       "      <td>23.0</td>\n",
       "      <td>0</td>\n",
       "      <td>0</td>\n",
       "      <td>1</td>\n",
       "      <td>1</td>\n",
       "      <td>0</td>\n",
       "      <td>0</td>\n",
       "      <td>1</td>\n",
       "      <td>0</td>\n",
       "      <td>0</td>\n",
       "      <td>0</td>\n",
       "      <td>0</td>\n",
       "      <td>0</td>\n",
       "      <td>0</td>\n",
       "      <td>0</td>\n",
       "      <td>0</td>\n",
       "      <td>0</td>\n",
       "      <td>0</td>\n",
       "      <td>0</td>\n",
       "    </tr>\n",
       "    <tr>\n",
       "      <th>8842</th>\n",
       "      <td>6000.0</td>\n",
       "      <td>36</td>\n",
       "      <td>15.62</td>\n",
       "      <td>209.82</td>\n",
       "      <td>10.0</td>\n",
       "      <td>77000.0</td>\n",
       "      <td>1</td>\n",
       "      <td>2.10</td>\n",
       "      <td>0.0</td>\n",
       "      <td>0.0</td>\n",
       "      <td>7.0</td>\n",
       "      <td>0.0</td>\n",
       "      <td>5246.0</td>\n",
       "      <td>67.3</td>\n",
       "      <td>10.0</td>\n",
       "      <td>0</td>\n",
       "      <td>0</td>\n",
       "      <td>0</td>\n",
       "      <td>0</td>\n",
       "      <td>1</td>\n",
       "      <td>0</td>\n",
       "      <td>1</td>\n",
       "      <td>0</td>\n",
       "      <td>0</td>\n",
       "      <td>0</td>\n",
       "      <td>0</td>\n",
       "      <td>0</td>\n",
       "      <td>0</td>\n",
       "      <td>0</td>\n",
       "      <td>0</td>\n",
       "      <td>0</td>\n",
       "      <td>0</td>\n",
       "      <td>0</td>\n",
       "    </tr>\n",
       "    <tr>\n",
       "      <th>18433</th>\n",
       "      <td>4000.0</td>\n",
       "      <td>60</td>\n",
       "      <td>16.02</td>\n",
       "      <td>97.32</td>\n",
       "      <td>10.0</td>\n",
       "      <td>19800.0</td>\n",
       "      <td>1</td>\n",
       "      <td>5.45</td>\n",
       "      <td>0.0</td>\n",
       "      <td>1.0</td>\n",
       "      <td>9.0</td>\n",
       "      <td>0.0</td>\n",
       "      <td>4608.0</td>\n",
       "      <td>31.8</td>\n",
       "      <td>10.0</td>\n",
       "      <td>0</td>\n",
       "      <td>0</td>\n",
       "      <td>0</td>\n",
       "      <td>0</td>\n",
       "      <td>0</td>\n",
       "      <td>0</td>\n",
       "      <td>0</td>\n",
       "      <td>0</td>\n",
       "      <td>0</td>\n",
       "      <td>0</td>\n",
       "      <td>0</td>\n",
       "      <td>1</td>\n",
       "      <td>0</td>\n",
       "      <td>0</td>\n",
       "      <td>0</td>\n",
       "      <td>0</td>\n",
       "      <td>0</td>\n",
       "      <td>0</td>\n",
       "    </tr>\n",
       "    <tr>\n",
       "      <th>22519</th>\n",
       "      <td>18000.0</td>\n",
       "      <td>36</td>\n",
       "      <td>5.79</td>\n",
       "      <td>354.83</td>\n",
       "      <td>3.0</td>\n",
       "      <td>80000.0</td>\n",
       "      <td>1</td>\n",
       "      <td>3.19</td>\n",
       "      <td>0.0</td>\n",
       "      <td>0.0</td>\n",
       "      <td>7.0</td>\n",
       "      <td>0.0</td>\n",
       "      <td>5626.0</td>\n",
       "      <td>7.0</td>\n",
       "      <td>12.0</td>\n",
       "      <td>0</td>\n",
       "      <td>0</td>\n",
       "      <td>0</td>\n",
       "      <td>0</td>\n",
       "      <td>1</td>\n",
       "      <td>0</td>\n",
       "      <td>0</td>\n",
       "      <td>0</td>\n",
       "      <td>0</td>\n",
       "      <td>0</td>\n",
       "      <td>1</td>\n",
       "      <td>0</td>\n",
       "      <td>0</td>\n",
       "      <td>0</td>\n",
       "      <td>0</td>\n",
       "      <td>0</td>\n",
       "      <td>0</td>\n",
       "      <td>0</td>\n",
       "    </tr>\n",
       "    <tr>\n",
       "      <th>27307</th>\n",
       "      <td>15000.0</td>\n",
       "      <td>60</td>\n",
       "      <td>16.32</td>\n",
       "      <td>367.33</td>\n",
       "      <td>10.0</td>\n",
       "      <td>70000.0</td>\n",
       "      <td>1</td>\n",
       "      <td>15.74</td>\n",
       "      <td>0.0</td>\n",
       "      <td>3.0</td>\n",
       "      <td>17.0</td>\n",
       "      <td>0.0</td>\n",
       "      <td>19566.0</td>\n",
       "      <td>57.2</td>\n",
       "      <td>39.0</td>\n",
       "      <td>0</td>\n",
       "      <td>0</td>\n",
       "      <td>0</td>\n",
       "      <td>1</td>\n",
       "      <td>0</td>\n",
       "      <td>0</td>\n",
       "      <td>1</td>\n",
       "      <td>0</td>\n",
       "      <td>0</td>\n",
       "      <td>0</td>\n",
       "      <td>0</td>\n",
       "      <td>0</td>\n",
       "      <td>0</td>\n",
       "      <td>0</td>\n",
       "      <td>0</td>\n",
       "      <td>0</td>\n",
       "      <td>0</td>\n",
       "      <td>0</td>\n",
       "    </tr>\n",
       "    <tr>\n",
       "      <th>2386</th>\n",
       "      <td>20000.0</td>\n",
       "      <td>36</td>\n",
       "      <td>10.65</td>\n",
       "      <td>651.47</td>\n",
       "      <td>9.0</td>\n",
       "      <td>65000.0</td>\n",
       "      <td>1</td>\n",
       "      <td>14.36</td>\n",
       "      <td>0.0</td>\n",
       "      <td>0.0</td>\n",
       "      <td>7.0</td>\n",
       "      <td>0.0</td>\n",
       "      <td>20236.0</td>\n",
       "      <td>79.7</td>\n",
       "      <td>10.0</td>\n",
       "      <td>0</td>\n",
       "      <td>0</td>\n",
       "      <td>1</td>\n",
       "      <td>0</td>\n",
       "      <td>1</td>\n",
       "      <td>0</td>\n",
       "      <td>1</td>\n",
       "      <td>0</td>\n",
       "      <td>0</td>\n",
       "      <td>0</td>\n",
       "      <td>0</td>\n",
       "      <td>0</td>\n",
       "      <td>0</td>\n",
       "      <td>0</td>\n",
       "      <td>0</td>\n",
       "      <td>0</td>\n",
       "      <td>0</td>\n",
       "      <td>0</td>\n",
       "    </tr>\n",
       "  </tbody>\n",
       "</table>\n",
       "</div>"
      ],
      "text/plain": [
       "       loan_amnt  term  int_rate  installment  emp_length  annual_inc  \\\n",
       "12854    12000.0    60     19.29       313.21         4.0     64500.0   \n",
       "19413     7000.0    60     16.77       173.11         0.5     70000.0   \n",
       "34943    10000.0    36      8.94       317.72         1.0     37500.0   \n",
       "9357      8000.0    36     16.49       283.20         0.5     40000.0   \n",
       "6791      7000.0    36     13.49       237.52         8.0     90000.0   \n",
       "8842      6000.0    36     15.62       209.82        10.0     77000.0   \n",
       "18433     4000.0    60     16.02        97.32        10.0     19800.0   \n",
       "22519    18000.0    36      5.79       354.83         3.0     80000.0   \n",
       "27307    15000.0    60     16.32       367.33        10.0     70000.0   \n",
       "2386     20000.0    36     10.65       651.47         9.0     65000.0   \n",
       "\n",
       "       loan_status    dti  delinq_2yrs  inq_last_6mths  open_acc  pub_rec  \\\n",
       "12854            1   4.15          0.0             0.0       4.0      0.0   \n",
       "19413            0   0.81          0.0             1.0       2.0      0.0   \n",
       "34943            1  13.73          0.0             2.0       5.0      0.0   \n",
       "9357             1   5.52          0.0             0.0       3.0      0.0   \n",
       "6791             1  19.63          0.0             2.0       5.0      0.0   \n",
       "8842             1   2.10          0.0             0.0       7.0      0.0   \n",
       "18433            1   5.45          0.0             1.0       9.0      0.0   \n",
       "22519            1   3.19          0.0             0.0       7.0      0.0   \n",
       "27307            1  15.74          0.0             3.0      17.0      0.0   \n",
       "2386             1  14.36          0.0             0.0       7.0      0.0   \n",
       "\n",
       "       revol_bal  revol_util  total_acc  home_ownership_OTHER  \\\n",
       "12854     5444.0        82.5       12.0                     0   \n",
       "19413     2289.0        45.8        3.0                     0   \n",
       "34943      417.0         3.2       28.0                     0   \n",
       "9357      7482.0        67.4        9.0                     0   \n",
       "6791     23655.0        94.6       23.0                     0   \n",
       "8842      5246.0        67.3       10.0                     0   \n",
       "18433     4608.0        31.8       10.0                     0   \n",
       "22519     5626.0         7.0       12.0                     0   \n",
       "27307    19566.0        57.2       39.0                     0   \n",
       "2386     20236.0        79.7       10.0                     0   \n",
       "\n",
       "       home_ownership_OWN  home_ownership_RENT  \\\n",
       "12854                   0                    0   \n",
       "19413                   0                    1   \n",
       "34943                   0                    1   \n",
       "9357                    0                    1   \n",
       "6791                    0                    1   \n",
       "8842                    0                    0   \n",
       "18433                   0                    0   \n",
       "22519                   0                    0   \n",
       "27307                   0                    0   \n",
       "2386                    0                    1   \n",
       "\n",
       "       verification_status_Source Verified  verification_status_Verified  \\\n",
       "12854                                    1                             0   \n",
       "19413                                    1                             0   \n",
       "34943                                    0                             0   \n",
       "9357                                     0                             0   \n",
       "6791                                     1                             0   \n",
       "8842                                     0                             1   \n",
       "18433                                    0                             0   \n",
       "22519                                    0                             1   \n",
       "27307                                    1                             0   \n",
       "2386                                     0                             1   \n",
       "\n",
       "       purpose_credit_card  purpose_debt_consolidation  purpose_educational  \\\n",
       "12854                    0                           0                    0   \n",
       "19413                    0                           0                    0   \n",
       "34943                    0                           1                    0   \n",
       "9357                     1                           0                    0   \n",
       "6791                     0                           1                    0   \n",
       "8842                     0                           1                    0   \n",
       "18433                    0                           0                    0   \n",
       "22519                    0                           0                    0   \n",
       "27307                    0                           1                    0   \n",
       "2386                     0                           1                    0   \n",
       "\n",
       "       purpose_home_improvement  purpose_house  purpose_major_purchase  \\\n",
       "12854                         0              0                       0   \n",
       "19413                         0              0                       0   \n",
       "34943                         0              0                       0   \n",
       "9357                          0              0                       0   \n",
       "6791                          0              0                       0   \n",
       "8842                          0              0                       0   \n",
       "18433                         0              0                       0   \n",
       "22519                         0              0                       1   \n",
       "27307                         0              0                       0   \n",
       "2386                          0              0                       0   \n",
       "\n",
       "       purpose_medical  purpose_moving  purpose_other  \\\n",
       "12854                0               0              0   \n",
       "19413                0               0              0   \n",
       "34943                0               0              0   \n",
       "9357                 0               0              0   \n",
       "6791                 0               0              0   \n",
       "8842                 0               0              0   \n",
       "18433                1               0              0   \n",
       "22519                0               0              0   \n",
       "27307                0               0              0   \n",
       "2386                 0               0              0   \n",
       "\n",
       "       purpose_renewable_energy  purpose_small_business  purpose_vacation  \\\n",
       "12854                         0                       0                 0   \n",
       "19413                         0                       0                 0   \n",
       "34943                         0                       0                 0   \n",
       "9357                          0                       0                 0   \n",
       "6791                          0                       0                 0   \n",
       "8842                          0                       0                 0   \n",
       "18433                         0                       0                 0   \n",
       "22519                         0                       0                 0   \n",
       "27307                         0                       0                 0   \n",
       "2386                          0                       0                 0   \n",
       "\n",
       "       purpose_wedding  \n",
       "12854                0  \n",
       "19413                1  \n",
       "34943                0  \n",
       "9357                 0  \n",
       "6791                 0  \n",
       "8842                 0  \n",
       "18433                0  \n",
       "22519                0  \n",
       "27307                0  \n",
       "2386                 0  "
      ]
     },
     "execution_count": 108,
     "metadata": {},
     "output_type": "execute_result"
    }
   ],
   "source": [
    "loans_opt_1_dvt.sample(10)"
   ]
  },
  {
   "cell_type": "markdown",
   "metadata": {},
   "source": [
    "### Logistic Regression"
   ]
  },
  {
   "cell_type": "markdown",
   "metadata": {},
   "source": [
    "A good first algorithm to apply to binary classification problems is logistic regression, for the following reasons:\n",
    "\n",
    "- it's quick to train and we can iterate more quickly,\n",
    "\n",
    "\n",
    "- it's less prone to overfitting than more complex models like decision trees,\n",
    "\n",
    "\n",
    "- it's easy to interpret."
   ]
  },
  {
   "cell_type": "code",
   "execution_count": 109,
   "metadata": {},
   "outputs": [
    {
     "data": {
      "text/plain": [
       "(37648, 33)"
      ]
     },
     "execution_count": 109,
     "metadata": {},
     "output_type": "execute_result"
    }
   ],
   "source": [
    "loans_opt_1_dvt_norm.shape"
   ]
  },
  {
   "cell_type": "code",
   "execution_count": 110,
   "metadata": {},
   "outputs": [
    {
     "name": "stdout",
     "output_type": "stream",
     "text": [
      "32\n"
     ]
    }
   ],
   "source": [
    "cols = loans_opt_1_dvt_norm.columns\n",
    "\n",
    "train_cols = cols.drop(\"loan_status\")\n",
    "\n",
    "print( len(train_cols) )\n"
   ]
  },
  {
   "cell_type": "code",
   "execution_count": 111,
   "metadata": {},
   "outputs": [],
   "source": [
    "features = loans_opt_1_dvt_norm[train_cols]\n",
    "\n",
    "target = loans_opt_1_dvt_norm[\"loan_status\"]\n"
   ]
  },
  {
   "cell_type": "code",
   "execution_count": 112,
   "metadata": {},
   "outputs": [
    {
     "data": {
      "text/plain": [
       "LogisticRegression()"
      ]
     },
     "execution_count": 112,
     "metadata": {},
     "output_type": "execute_result"
    }
   ],
   "source": [
    "from sklearn.linear_model import LogisticRegression\n",
    "\n",
    "lr = LogisticRegression()\n",
    "\n",
    "lr\n"
   ]
  },
  {
   "cell_type": "code",
   "execution_count": 113,
   "metadata": {},
   "outputs": [
    {
     "data": {
      "text/plain": [
       "{'assume_finite': False,\n",
       " 'working_memory': 1024,\n",
       " 'print_changed_only': True,\n",
       " 'display': 'text'}"
      ]
     },
     "execution_count": 113,
     "metadata": {},
     "output_type": "execute_result"
    }
   ],
   "source": [
    "from sklearn import get_config\n",
    "\n",
    "get_config()\n"
   ]
  },
  {
   "cell_type": "code",
   "execution_count": 114,
   "metadata": {},
   "outputs": [],
   "source": [
    "from sklearn import set_config\n",
    "\n",
    "set_config( print_changed_only=False )\n"
   ]
  },
  {
   "cell_type": "code",
   "execution_count": 115,
   "metadata": {
    "scrolled": true
   },
   "outputs": [
    {
     "data": {
      "text/plain": [
       "{'assume_finite': False,\n",
       " 'working_memory': 1024,\n",
       " 'print_changed_only': False,\n",
       " 'display': 'text'}"
      ]
     },
     "execution_count": 115,
     "metadata": {},
     "output_type": "execute_result"
    }
   ],
   "source": [
    "get_config()"
   ]
  },
  {
   "cell_type": "code",
   "execution_count": 116,
   "metadata": {},
   "outputs": [
    {
     "data": {
      "text/plain": [
       "LogisticRegression(C=1.0, class_weight=None, dual=False, fit_intercept=True,\n",
       "                   intercept_scaling=1, l1_ratio=None, max_iter=100,\n",
       "                   multi_class='auto', n_jobs=None, penalty='l2',\n",
       "                   random_state=None, solver='lbfgs', tol=0.0001, verbose=0,\n",
       "                   warm_start=False)"
      ]
     },
     "execution_count": 116,
     "metadata": {},
     "output_type": "execute_result"
    }
   ],
   "source": [
    "lr"
   ]
  },
  {
   "cell_type": "markdown",
   "metadata": {},
   "source": [
    "#### > 10 Folds (k-fold cross validation)"
   ]
  },
  {
   "cell_type": "code",
   "execution_count": 117,
   "metadata": {
    "scrolled": true
   },
   "outputs": [
    {
     "data": {
      "text/plain": [
       "(37648,)"
      ]
     },
     "execution_count": 117,
     "metadata": {},
     "output_type": "execute_result"
    }
   ],
   "source": [
    "from sklearn.model_selection import cross_val_predict\n",
    "\n",
    "lr = LogisticRegression( solver='liblinear' )\n",
    "\n",
    "\n",
    "predictions = cross_val_predict( lr, features, target, cv=10 )\n",
    "\n",
    "\n",
    "predictions = pd.Series( predictions, index=loans_opt_1_dvt.index )\n",
    "\n",
    "predictions.shape\n"
   ]
  },
  {
   "cell_type": "markdown",
   "metadata": {},
   "source": [
    "### *** Functions:"
   ]
  },
  {
   "cell_type": "code",
   "execution_count": 118,
   "metadata": {},
   "outputs": [],
   "source": [
    "def compute_confusion_matrix( df, predictions, target ):\n",
    "    \n",
    "    # False positives.\n",
    "    fp_filter = (predictions == 1) & (df[target] == 0)\n",
    "\n",
    "    fp = len(predictions[fp_filter])\n",
    "\n",
    "    print(\"> False Positives:\", fp, \"\\n\")\n",
    "\n",
    "\n",
    "    # True positives.\n",
    "    tp_filter = (predictions == 1) & (df[target] == 1)\n",
    "\n",
    "    tp = len(predictions[tp_filter])\n",
    "\n",
    "    print(\"> True Positives:\", tp, \"\\n\")\n",
    "\n",
    "\n",
    "    # False negatives.\n",
    "    fn_filter = (predictions == 0) & (df[target] == 1)\n",
    "\n",
    "    fn = len(predictions[fn_filter])\n",
    "\n",
    "    print(\"> False Negatives:\", fn, \"\\n\")\n",
    "\n",
    "\n",
    "    # True negatives\n",
    "    tn_filter = (predictions == 0) & (df[target] == 0)\n",
    "\n",
    "    tn = len(predictions[tn_filter])\n",
    "\n",
    "    print(\"> True Negatives:\", tn, \"\\n\")\n",
    "    \n",
    "    \n",
    "    return tp, tn, fp, fn\n",
    "\n"
   ]
  },
  {
   "cell_type": "code",
   "execution_count": 119,
   "metadata": {},
   "outputs": [],
   "source": [
    "def compute_tpr( tp, fn ):\n",
    "    \n",
    "    # Rates\n",
    "    tpr = tp / (tp + fn)\n",
    "\n",
    "    print(\"True Positive Rate:\", tpr, \"\\n\")\n",
    "\n"
   ]
  },
  {
   "cell_type": "code",
   "execution_count": 120,
   "metadata": {},
   "outputs": [],
   "source": [
    "def compute_fpr( fp, tn ):\n",
    "    \n",
    "    fpr = fp / (fp + tn)\n",
    "\n",
    "    print(\"False Positive Rate:\", fpr, \"\\n\")\n",
    "\n"
   ]
  },
  {
   "cell_type": "code",
   "execution_count": 121,
   "metadata": {},
   "outputs": [],
   "source": [
    "def compute_precision( tp, fp ):\n",
    "    \n",
    "    precision = tp / (tp + fp)\n",
    "\n",
    "    print(\"Precision:\", precision, \"\\n\")\n",
    "\n"
   ]
  },
  {
   "cell_type": "code",
   "execution_count": 122,
   "metadata": {},
   "outputs": [],
   "source": [
    "def compute_net_profit( df, predictions, target ):\n",
    "    \n",
    "    # True positives\n",
    "    tp_filter = (predictions == 1) & (df[target] == 1)\n",
    "    \n",
    "    earnings = df[tp_filter]['loan_amnt'] * ( df[tp_filter]['int_rate'] / 100 )\n",
    "\n",
    "    print( \"Earnings: {amount:,.0f} \\n\".format( amount=earnings.sum() ) )\n",
    "\n",
    "\n",
    "    # False positives\n",
    "    fp_filter = (predictions == 1) & (df[target] == 0)\n",
    "\n",
    "    losses = df[fp_filter]['loan_amnt']\n",
    "\n",
    "    print( \"Losses: {amount:,.0f} \\n\".format( amount=losses.sum() ) )\n",
    "    \n",
    "    \n",
    "    net_profit = earnings.sum() - losses.sum()\n",
    "    \n",
    "    print( \"Net profit: {amount:,.0f}\".format( amount=net_profit ) )\n",
    "\n"
   ]
  },
  {
   "cell_type": "code",
   "execution_count": 123,
   "metadata": {
    "scrolled": true
   },
   "outputs": [
    {
     "name": "stdout",
     "output_type": "stream",
     "text": [
      "> False Positives: 5309 \n",
      "\n",
      "> True Positives: 32167 \n",
      "\n",
      "> False Negatives: 91 \n",
      "\n",
      "> True Negatives: 81 \n",
      "\n"
     ]
    }
   ],
   "source": [
    "tp, tn, fp, fn = compute_confusion_matrix( loans_opt_1_dvt, predictions, \"loan_status\" )\n"
   ]
  },
  {
   "cell_type": "code",
   "execution_count": 124,
   "metadata": {},
   "outputs": [
    {
     "name": "stdout",
     "output_type": "stream",
     "text": [
      "True Positive Rate: 0.9971789943579887 \n",
      "\n",
      "False Positive Rate: 0.9849721706864564 \n",
      "\n",
      "Precision: 0.8583360017077596 \n",
      "\n"
     ]
    }
   ],
   "source": [
    "compute_tpr( tp, fn )\n",
    "\n",
    "compute_fpr( fp, tn )\n",
    "\n",
    "compute_precision( tp, fp )\n"
   ]
  },
  {
   "cell_type": "code",
   "execution_count": 125,
   "metadata": {
    "scrolled": true
   },
   "outputs": [
    {
     "name": "stdout",
     "output_type": "stream",
     "text": [
      "Earnings: 43,342,900 \n",
      "\n",
      "Losses: 64,612,000 \n",
      "\n",
      "Net profit: -21,269,100\n"
     ]
    }
   ],
   "source": [
    "compute_net_profit( loans_opt_1_dvt, predictions, \"loan_status\" )\n"
   ]
  },
  {
   "cell_type": "markdown",
   "metadata": {},
   "source": [
    "Currently, the classifier is not accounting for the imbalance in the classes.\n",
    "\n",
    "Next, Let's tell the classifier to penalize misclassifications of the less prevalent class more than the other class."
   ]
  },
  {
   "cell_type": "markdown",
   "metadata": {},
   "source": [
    "### Penalizing the Classifier"
   ]
  },
  {
   "cell_type": "markdown",
   "metadata": {},
   "source": [
    "#### > `class_weight` = `balanced`\n",
    "\n",
    "By setting the `class_weight` parameter to `balanced` (when creating the LogisticRegression instance) we are telling scikit-learn to penalize the misclassification of the minority class during the training process. The penalty means that the logistic regression classifier pays more attention to correctly classifying rows where `loan_status` is `0`. This lowers accuracy when `loan_status` is `1`, but increases accuracy when `loan_status` is `0`.\n",
    "\n",
    "__The penalty is set to be inversely proportional to the class frequencies.__ This would mean that for the classifier, correctly classifying a row where `loan_status` is `0` is __6 times__ more important than correctly classifying a row where `loan_status` is `1`."
   ]
  },
  {
   "cell_type": "code",
   "execution_count": 126,
   "metadata": {},
   "outputs": [
    {
     "data": {
      "text/plain": [
       "(37648,)"
      ]
     },
     "execution_count": 126,
     "metadata": {},
     "output_type": "execute_result"
    }
   ],
   "source": [
    "lr = LogisticRegression( solver='liblinear', class_weight=\"balanced\" )\n",
    "\n",
    "\n",
    "predictions = cross_val_predict( lr, features, target, cv=10 )\n",
    "\n",
    "\n",
    "predictions = pd.Series( predictions, index=loans_opt_1_dvt.index )\n",
    "\n",
    "predictions.shape\n"
   ]
  },
  {
   "cell_type": "code",
   "execution_count": 127,
   "metadata": {},
   "outputs": [
    {
     "name": "stdout",
     "output_type": "stream",
     "text": [
      "> False Positives: 2081 \n",
      "\n",
      "> True Positives: 21457 \n",
      "\n",
      "> False Negatives: 10801 \n",
      "\n",
      "> True Negatives: 3309 \n",
      "\n"
     ]
    }
   ],
   "source": [
    "tp, tn, fp, fn = compute_confusion_matrix( loans_opt_1_dvt, predictions, \"loan_status\" )\n"
   ]
  },
  {
   "cell_type": "code",
   "execution_count": 128,
   "metadata": {
    "scrolled": true
   },
   "outputs": [
    {
     "name": "stdout",
     "output_type": "stream",
     "text": [
      "True Positive Rate: 0.6651683303366607 \n",
      "\n",
      "False Positive Rate: 0.3860853432282004 \n",
      "\n",
      "Precision: 0.911589769734047 \n",
      "\n"
     ]
    }
   ],
   "source": [
    "compute_tpr( tp, fn )\n",
    "\n",
    "compute_fpr( fp, tn )\n",
    "\n",
    "compute_precision( tp, fp )\n"
   ]
  },
  {
   "cell_type": "code",
   "execution_count": 129,
   "metadata": {
    "scrolled": false
   },
   "outputs": [
    {
     "name": "stdout",
     "output_type": "stream",
     "text": [
      "Earnings: 22,539,342 \n",
      "\n",
      "Losses: 21,391,750 \n",
      "\n",
      "Net profit: 1,147,592\n"
     ]
    }
   ],
   "source": [
    "compute_net_profit( loans_opt_1_dvt, predictions, \"loan_status\" )\n"
   ]
  },
  {
   "cell_type": "markdown",
   "metadata": {},
   "source": [
    "#### > `class_weight` = Harsher Penalty\n",
    "\n",
    "We can try to lower the false positive rate (FPR) further by assigning a harsher (higher) penalty for misclassifying the negative class."
   ]
  },
  {
   "cell_type": "markdown",
   "metadata": {},
   "source": [
    "#### Penalty = 7:"
   ]
  },
  {
   "cell_type": "code",
   "execution_count": 130,
   "metadata": {},
   "outputs": [
    {
     "data": {
      "text/plain": [
       "(37648,)"
      ]
     },
     "execution_count": 130,
     "metadata": {},
     "output_type": "execute_result"
    }
   ],
   "source": [
    "penalty = {\n",
    "    0: 7,\n",
    "    1: 1\n",
    "}\n",
    "\n",
    "\n",
    "lr = LogisticRegression( solver='liblinear', class_weight=penalty )\n",
    "\n",
    "\n",
    "predictions = cross_val_predict( lr, features, target, cv=10 )\n",
    "\n",
    "\n",
    "predictions = pd.Series( predictions, index=loans_opt_1_dvt.index )\n",
    "\n",
    "predictions.shape\n"
   ]
  },
  {
   "cell_type": "code",
   "execution_count": 131,
   "metadata": {},
   "outputs": [
    {
     "name": "stdout",
     "output_type": "stream",
     "text": [
      "> False Positives: 1651 \n",
      "\n",
      "> True Positives: 18897 \n",
      "\n",
      "> False Negatives: 13361 \n",
      "\n",
      "> True Negatives: 3739 \n",
      "\n"
     ]
    }
   ],
   "source": [
    "tp, tn, fp, fn = compute_confusion_matrix( loans_opt_1_dvt, predictions, \"loan_status\" )\n"
   ]
  },
  {
   "cell_type": "code",
   "execution_count": 132,
   "metadata": {},
   "outputs": [
    {
     "name": "stdout",
     "output_type": "stream",
     "text": [
      "True Positive Rate: 0.5858081716163432 \n",
      "\n",
      "False Positive Rate: 0.30630797773654916 \n",
      "\n",
      "Precision: 0.9196515475958731 \n",
      "\n"
     ]
    }
   ],
   "source": [
    "compute_tpr( tp, fn )\n",
    "\n",
    "compute_fpr( fp, tn )\n",
    "\n",
    "compute_precision( tp, fp )\n"
   ]
  },
  {
   "cell_type": "code",
   "execution_count": 133,
   "metadata": {
    "scrolled": false
   },
   "outputs": [
    {
     "name": "stdout",
     "output_type": "stream",
     "text": [
      "Earnings: 19,094,751 \n",
      "\n",
      "Losses: 16,893,100 \n",
      "\n",
      "Net profit: 2,201,651\n"
     ]
    }
   ],
   "source": [
    "compute_net_profit( loans_opt_1_dvt, predictions, \"loan_status\" )\n"
   ]
  },
  {
   "cell_type": "markdown",
   "metadata": {},
   "source": [
    "#### Penalty = 8:"
   ]
  },
  {
   "cell_type": "code",
   "execution_count": 134,
   "metadata": {},
   "outputs": [
    {
     "data": {
      "text/plain": [
       "(37648,)"
      ]
     },
     "execution_count": 134,
     "metadata": {},
     "output_type": "execute_result"
    }
   ],
   "source": [
    "penalty = {\n",
    "    0: 8,\n",
    "    1: 1\n",
    "}\n",
    "\n",
    "\n",
    "lr = LogisticRegression( solver='liblinear', class_weight=penalty )\n",
    "\n",
    "\n",
    "predictions = cross_val_predict( lr, features, target, cv=10 )\n",
    "\n",
    "\n",
    "predictions = pd.Series( predictions, index=loans_opt_1_dvt.index )\n",
    "\n",
    "predictions.shape\n"
   ]
  },
  {
   "cell_type": "code",
   "execution_count": 135,
   "metadata": {},
   "outputs": [
    {
     "name": "stdout",
     "output_type": "stream",
     "text": [
      "> False Positives: 1314 \n",
      "\n",
      "> True Positives: 16683 \n",
      "\n",
      "> False Negatives: 15575 \n",
      "\n",
      "> True Negatives: 4076 \n",
      "\n"
     ]
    }
   ],
   "source": [
    "tp, tn, fp, fn = compute_confusion_matrix( loans_opt_1_dvt, predictions, \"loan_status\" )\n"
   ]
  },
  {
   "cell_type": "code",
   "execution_count": 136,
   "metadata": {},
   "outputs": [
    {
     "name": "stdout",
     "output_type": "stream",
     "text": [
      "True Positive Rate: 0.5171740343480687 \n",
      "\n",
      "False Positive Rate: 0.2437847866419295 \n",
      "\n",
      "Precision: 0.9269878313052176 \n",
      "\n"
     ]
    }
   ],
   "source": [
    "compute_tpr( tp, fn )\n",
    "\n",
    "compute_fpr( fp, tn )\n",
    "\n",
    "compute_precision( tp, fp )\n"
   ]
  },
  {
   "cell_type": "code",
   "execution_count": 137,
   "metadata": {},
   "outputs": [
    {
     "name": "stdout",
     "output_type": "stream",
     "text": [
      "Earnings: 16,255,095 \n",
      "\n",
      "Losses: 13,451,975 \n",
      "\n",
      "Net profit: 2,803,120\n"
     ]
    }
   ],
   "source": [
    "compute_net_profit( loans_opt_1_dvt, predictions, \"loan_status\" )\n"
   ]
  },
  {
   "cell_type": "markdown",
   "metadata": {},
   "source": [
    "#### Penalty = 9:"
   ]
  },
  {
   "cell_type": "code",
   "execution_count": 138,
   "metadata": {},
   "outputs": [
    {
     "data": {
      "text/plain": [
       "(37648,)"
      ]
     },
     "execution_count": 138,
     "metadata": {},
     "output_type": "execute_result"
    }
   ],
   "source": [
    "penalty = {\n",
    "    0: 9,\n",
    "    1: 1\n",
    "}\n",
    "\n",
    "\n",
    "lr = LogisticRegression( solver='liblinear', class_weight=penalty )\n",
    "\n",
    "\n",
    "predictions = cross_val_predict( lr, features, target, cv=10 )\n",
    "\n",
    "\n",
    "predictions = pd.Series( predictions, index=loans_opt_1_dvt.index )\n",
    "\n",
    "predictions.shape\n"
   ]
  },
  {
   "cell_type": "code",
   "execution_count": 139,
   "metadata": {},
   "outputs": [
    {
     "name": "stdout",
     "output_type": "stream",
     "text": [
      "> False Positives: 1048 \n",
      "\n",
      "> True Positives: 14610 \n",
      "\n",
      "> False Negatives: 17648 \n",
      "\n",
      "> True Negatives: 4342 \n",
      "\n"
     ]
    }
   ],
   "source": [
    "tp, tn, fp, fn = compute_confusion_matrix( loans_opt_1_dvt, predictions, \"loan_status\" )\n"
   ]
  },
  {
   "cell_type": "code",
   "execution_count": 140,
   "metadata": {},
   "outputs": [
    {
     "name": "stdout",
     "output_type": "stream",
     "text": [
      "True Positive Rate: 0.45291090582181165 \n",
      "\n",
      "False Positive Rate: 0.19443413729128015 \n",
      "\n",
      "Precision: 0.9330693575169242 \n",
      "\n"
     ]
    }
   ],
   "source": [
    "compute_tpr( tp, fn )\n",
    "\n",
    "compute_fpr( fp, tn )\n",
    "\n",
    "compute_precision( tp, fp )\n"
   ]
  },
  {
   "cell_type": "code",
   "execution_count": 141,
   "metadata": {
    "scrolled": true
   },
   "outputs": [
    {
     "name": "stdout",
     "output_type": "stream",
     "text": [
      "Earnings: 13,714,765 \n",
      "\n",
      "Losses: 10,519,725 \n",
      "\n",
      "Net profit: 3,195,040\n"
     ]
    }
   ],
   "source": [
    "compute_net_profit( loans_opt_1_dvt, predictions, \"loan_status\" )\n"
   ]
  },
  {
   "cell_type": "markdown",
   "metadata": {},
   "source": [
    "#### Penalty = 10:"
   ]
  },
  {
   "cell_type": "code",
   "execution_count": 142,
   "metadata": {},
   "outputs": [
    {
     "data": {
      "text/plain": [
       "(37648,)"
      ]
     },
     "execution_count": 142,
     "metadata": {},
     "output_type": "execute_result"
    }
   ],
   "source": [
    "penalty = {\n",
    "    0: 10,\n",
    "    1: 1\n",
    "}\n",
    "\n",
    "\n",
    "lr = LogisticRegression( solver='liblinear', class_weight=penalty )\n",
    "\n",
    "\n",
    "predictions = cross_val_predict( lr, features, target, cv=10 )\n",
    "\n",
    "\n",
    "predictions = pd.Series( predictions, index=loans_opt_1_dvt.index )\n",
    "\n",
    "predictions.shape\n"
   ]
  },
  {
   "cell_type": "code",
   "execution_count": 143,
   "metadata": {},
   "outputs": [
    {
     "name": "stdout",
     "output_type": "stream",
     "text": [
      "> False Positives: 844 \n",
      "\n",
      "> True Positives: 12875 \n",
      "\n",
      "> False Negatives: 19383 \n",
      "\n",
      "> True Negatives: 4546 \n",
      "\n"
     ]
    }
   ],
   "source": [
    "tp, tn, fp, fn = compute_confusion_matrix( loans_opt_1_dvt, predictions, \"loan_status\" )\n"
   ]
  },
  {
   "cell_type": "code",
   "execution_count": 144,
   "metadata": {},
   "outputs": [
    {
     "name": "stdout",
     "output_type": "stream",
     "text": [
      "True Positive Rate: 0.3991257982515965 \n",
      "\n",
      "False Positive Rate: 0.15658627087198515 \n",
      "\n",
      "Precision: 0.9384794810117355 \n",
      "\n"
     ]
    }
   ],
   "source": [
    "compute_tpr( tp, fn )\n",
    "\n",
    "compute_fpr( fp, tn )\n",
    "\n",
    "compute_precision( tp, fp )\n"
   ]
  },
  {
   "cell_type": "code",
   "execution_count": 145,
   "metadata": {
    "scrolled": false
   },
   "outputs": [
    {
     "name": "stdout",
     "output_type": "stream",
     "text": [
      "Earnings: 11,664,087 \n",
      "\n",
      "Losses: 8,403,275 \n",
      "\n",
      "Net profit: 3,260,812\n"
     ]
    }
   ],
   "source": [
    "compute_net_profit( loans_opt_1_dvt, predictions, \"loan_status\" )\n"
   ]
  },
  {
   "cell_type": "markdown",
   "metadata": {},
   "source": [
    "#### Penalty = 11:"
   ]
  },
  {
   "cell_type": "code",
   "execution_count": 146,
   "metadata": {},
   "outputs": [
    {
     "data": {
      "text/plain": [
       "(37648,)"
      ]
     },
     "execution_count": 146,
     "metadata": {},
     "output_type": "execute_result"
    }
   ],
   "source": [
    "penalty = {\n",
    "    0: 11,\n",
    "    1: 1\n",
    "}\n",
    "\n",
    "\n",
    "lr = LogisticRegression( solver='liblinear', class_weight=penalty )\n",
    "\n",
    "\n",
    "predictions = cross_val_predict( lr, features, target, cv=10 )\n",
    "\n",
    "\n",
    "predictions = pd.Series( predictions, index=loans_opt_1_dvt.index )\n",
    "\n",
    "predictions.shape\n"
   ]
  },
  {
   "cell_type": "code",
   "execution_count": 147,
   "metadata": {},
   "outputs": [
    {
     "name": "stdout",
     "output_type": "stream",
     "text": [
      "> False Positives: 692 \n",
      "\n",
      "> True Positives: 11362 \n",
      "\n",
      "> False Negatives: 20896 \n",
      "\n",
      "> True Negatives: 4698 \n",
      "\n"
     ]
    }
   ],
   "source": [
    "tp, tn, fp, fn = compute_confusion_matrix( loans_opt_1_dvt, predictions, \"loan_status\" )\n"
   ]
  },
  {
   "cell_type": "code",
   "execution_count": 148,
   "metadata": {},
   "outputs": [
    {
     "name": "stdout",
     "output_type": "stream",
     "text": [
      "True Positive Rate: 0.3522227044454089 \n",
      "\n",
      "False Positive Rate: 0.12838589981447124 \n",
      "\n",
      "Precision: 0.9425916708146673 \n",
      "\n"
     ]
    }
   ],
   "source": [
    "compute_tpr( tp, fn )\n",
    "\n",
    "compute_fpr( fp, tn )\n",
    "\n",
    "compute_precision( tp, fp )\n"
   ]
  },
  {
   "cell_type": "code",
   "execution_count": 149,
   "metadata": {},
   "outputs": [
    {
     "name": "stdout",
     "output_type": "stream",
     "text": [
      "Earnings: 9,952,435 \n",
      "\n",
      "Losses: 6,992,925 \n",
      "\n",
      "Net profit: 2,959,510\n"
     ]
    }
   ],
   "source": [
    "compute_net_profit( loans_opt_1_dvt, predictions, \"loan_status\" )\n"
   ]
  },
  {
   "cell_type": "markdown",
   "metadata": {},
   "source": [
    "#### Penalty = 12:"
   ]
  },
  {
   "cell_type": "code",
   "execution_count": 150,
   "metadata": {},
   "outputs": [
    {
     "data": {
      "text/plain": [
       "(37648,)"
      ]
     },
     "execution_count": 150,
     "metadata": {},
     "output_type": "execute_result"
    }
   ],
   "source": [
    "penalty = {\n",
    "    0: 12,\n",
    "    1: 1\n",
    "}\n",
    "\n",
    "\n",
    "lr = LogisticRegression( solver='liblinear', class_weight=penalty )\n",
    "\n",
    "\n",
    "predictions = cross_val_predict( lr, features, target, cv=10 )\n",
    "\n",
    "\n",
    "predictions = pd.Series( predictions, index=loans_opt_1_dvt.index )\n",
    "\n",
    "predictions.shape\n"
   ]
  },
  {
   "cell_type": "code",
   "execution_count": 151,
   "metadata": {},
   "outputs": [
    {
     "name": "stdout",
     "output_type": "stream",
     "text": [
      "> False Positives: 562 \n",
      "\n",
      "> True Positives: 9994 \n",
      "\n",
      "> False Negatives: 22264 \n",
      "\n",
      "> True Negatives: 4828 \n",
      "\n"
     ]
    }
   ],
   "source": [
    "tp, tn, fp, fn = compute_confusion_matrix( loans_opt_1_dvt, predictions, \"loan_status\" )\n"
   ]
  },
  {
   "cell_type": "code",
   "execution_count": 152,
   "metadata": {},
   "outputs": [
    {
     "name": "stdout",
     "output_type": "stream",
     "text": [
      "True Positive Rate: 0.3098146196292393 \n",
      "\n",
      "False Positive Rate: 0.10426716141001856 \n",
      "\n",
      "Precision: 0.9467601364153089 \n",
      "\n"
     ]
    }
   ],
   "source": [
    "compute_tpr( tp, fn )\n",
    "\n",
    "compute_fpr( fp, tn )\n",
    "\n",
    "compute_precision( tp, fp )\n"
   ]
  },
  {
   "cell_type": "code",
   "execution_count": 153,
   "metadata": {
    "scrolled": true
   },
   "outputs": [
    {
     "name": "stdout",
     "output_type": "stream",
     "text": [
      "Earnings: 8,533,708 \n",
      "\n",
      "Losses: 5,626,275 \n",
      "\n",
      "Net profit: 2,907,433\n"
     ]
    }
   ],
   "source": [
    "compute_net_profit( loans_opt_1_dvt, predictions, \"loan_status\" )\n"
   ]
  },
  {
   "cell_type": "markdown",
   "metadata": {},
   "source": [
    "#### Penalty = 15:"
   ]
  },
  {
   "cell_type": "code",
   "execution_count": 154,
   "metadata": {},
   "outputs": [
    {
     "data": {
      "text/plain": [
       "(37648,)"
      ]
     },
     "execution_count": 154,
     "metadata": {},
     "output_type": "execute_result"
    }
   ],
   "source": [
    "penalty = {\n",
    "    0: 15,\n",
    "    1: 1\n",
    "}\n",
    "\n",
    "\n",
    "lr = LogisticRegression( solver='liblinear', class_weight=penalty )\n",
    "\n",
    "\n",
    "predictions = cross_val_predict( lr, features, target, cv=10 )\n",
    "\n",
    "\n",
    "predictions = pd.Series( predictions, index=loans_opt_1_dvt.index )\n",
    "\n",
    "predictions.shape\n"
   ]
  },
  {
   "cell_type": "code",
   "execution_count": 155,
   "metadata": {},
   "outputs": [
    {
     "name": "stdout",
     "output_type": "stream",
     "text": [
      "> False Positives: 322 \n",
      "\n",
      "> True Positives: 6801 \n",
      "\n",
      "> False Negatives: 25457 \n",
      "\n",
      "> True Negatives: 5068 \n",
      "\n"
     ]
    }
   ],
   "source": [
    "tp, tn, fp, fn = compute_confusion_matrix( loans_opt_1_dvt, predictions, \"loan_status\" )\n"
   ]
  },
  {
   "cell_type": "code",
   "execution_count": 156,
   "metadata": {},
   "outputs": [
    {
     "name": "stdout",
     "output_type": "stream",
     "text": [
      "True Positive Rate: 0.21083142166284333 \n",
      "\n",
      "False Positive Rate: 0.05974025974025974 \n",
      "\n",
      "Precision: 0.9547943282324863 \n",
      "\n"
     ]
    }
   ],
   "source": [
    "compute_tpr( tp, fn )\n",
    "\n",
    "compute_fpr( fp, tn )\n",
    "\n",
    "compute_precision( tp, fp )\n"
   ]
  },
  {
   "cell_type": "code",
   "execution_count": 157,
   "metadata": {
    "scrolled": true
   },
   "outputs": [
    {
     "name": "stdout",
     "output_type": "stream",
     "text": [
      "Earnings: 5,372,989 \n",
      "\n",
      "Losses: 3,280,625 \n",
      "\n",
      "Net profit: 2,092,364\n"
     ]
    }
   ],
   "source": [
    "compute_net_profit( loans_opt_1_dvt, predictions, \"loan_status\" )\n"
   ]
  },
  {
   "cell_type": "markdown",
   "metadata": {},
   "source": [
    "### Summary of the above results:\n",
    "- Logistic Regression model\n",
    "- solver = 'liblinear'\n",
    "- K-Fold Cross Validation, k = 10"
   ]
  },
  {
   "cell_type": "markdown",
   "metadata": {},
   "source": [
    "#### First:\n",
    "(Ignoring the profit information)"
   ]
  },
  {
   "cell_type": "markdown",
   "metadata": {},
   "source": [
    "|     Penalty     | TPR (Recall) % | FPR (Fall-out) % | Precision % |\n",
    "|:---------------:|:--------------:|:----------------:|:-----------:|\n",
    "| Balanced (5.89) |      66.52     |       38.61      |    91.16    |\n",
    "|        7        |      58.58     |       30.63      |    91.96    |\n",
    "|        8        |      51.72     |       24.38      |    92.70    |\n",
    "|        9        |      45.29     |       19.44      |    93.31    |\n",
    "|        10       |      39.91     |       15.66      |    93.85    |\n",
    "|        11       |      35.22     |       12.84      |    94.26    |\n",
    "|        12       |      30.98     |       10.43      |    94.68    |\n",
    "|        15       |      21.08     |       5.97       |    95.48    |"
   ]
  },
  {
   "cell_type": "markdown",
   "metadata": {},
   "source": [
    "Initially, we can see that assigning manual penalties lowered the false positive rate, and thus lowered our risk. Note that this comes at the expense of true positive rate. While we have fewer false positives, we're also missing opportunities to fund more loans and potentially make more money. Given that we're approaching this as a conservative investor, this strategy makes sense, but it's worth keeping in mind the tradeoffs."
   ]
  },
  {
   "cell_type": "markdown",
   "metadata": {},
   "source": [
    "#### Second:"
   ]
  },
  {
   "cell_type": "markdown",
   "metadata": {},
   "source": [
    "|     Penalty     | TPR (Recall) % | FPR (Fall-out) % | Precision % | Earnings (USD) | Losses (USD) | Net Profit (USD) |\n",
    "|:---------------:|:--------------:|:----------------:|:-----------:|:--------------:|:------------:|:----------------:|\n",
    "| Balanced (5.89) |      66.52     |       38.61      |    91.16    |   22,539,342   |  21,391,750  |     1,147,592    |\n",
    "|        7        |      58.58     |       30.63      |    91.96    |   19,094,751   |  16,893,100  |     2,201,651    |\n",
    "|        8        |      51.72     |       24.38      |    92.70    |   16,255,095   |  13,451,975  |     2,803,120    |\n",
    "|        9        |      45.29     |       19.44      |    93.31    |   13,714,765   |  10,519,725  |     3,195,040    |\n",
    "|        10       |      39.91     |       15.66      |    93.85    |   11,664,087   |   8,403,275  |     3,260,812    |\n",
    "|        11       |      35.22     |       12.84      |    94.26    |    9,952,435   |   6,992,925  |     2,959,510    |\n",
    "|        12       |      30.98     |       10.43      |    94.68    |    8,533,708   |   5,626,275  |     2,907,433    |\n",
    "|        15       |      21.08     |       5.97       |    95.48    |    5,372,989   |   3,280,625  |     2,092,364    |"
   ]
  },
  {
   "cell_type": "markdown",
   "metadata": {},
   "source": [
    "If we append the __profit__ information to the table (in addition to the recall, fall-out, and precision data), we can have a better understanding of the situation.\n",
    "\n",
    "For instance, here I would choose the model with `penalty = 9`"
   ]
  },
  {
   "cell_type": "markdown",
   "metadata": {},
   "source": [
    "### > Option 2:"
   ]
  },
  {
   "cell_type": "code",
   "execution_count": 158,
   "metadata": {},
   "outputs": [],
   "source": [
    "def rescale ( df, target ):\n",
    "    # Min-Max normalization\n",
    "    \n",
    "    numeric_cols = df.select_dtypes( include=['int64', 'float64'] ).columns\n",
    "    \n",
    "    numeric_cols = numeric_cols.drop(target)\n",
    "    \n",
    "    df_norm = df.copy()\n",
    "    \n",
    "    for col in numeric_cols:\n",
    "        \n",
    "        df_norm[col] = ( df[col] - df[col].min() ) / ( df[col].max() - df[col].min() )\n",
    "        \n",
    "    return df_norm\n"
   ]
  },
  {
   "cell_type": "code",
   "execution_count": 159,
   "metadata": {},
   "outputs": [],
   "source": [
    "loans_opt_2_dvt_norm = rescale( loans_opt_2_dvt, \"loan_status\" )\n"
   ]
  },
  {
   "cell_type": "code",
   "execution_count": 160,
   "metadata": {},
   "outputs": [
    {
     "data": {
      "text/plain": [
       "(37648, 82)"
      ]
     },
     "execution_count": 160,
     "metadata": {},
     "output_type": "execute_result"
    }
   ],
   "source": [
    "loans_opt_2_dvt_norm.shape"
   ]
  },
  {
   "cell_type": "code",
   "execution_count": 161,
   "metadata": {},
   "outputs": [
    {
     "name": "stdout",
     "output_type": "stream",
     "text": [
      "81\n"
     ]
    }
   ],
   "source": [
    "cols = loans_opt_2_dvt_norm.columns\n",
    "\n",
    "train_cols = cols.drop(\"loan_status\")\n",
    "\n",
    "print( len(train_cols) )\n"
   ]
  },
  {
   "cell_type": "code",
   "execution_count": 162,
   "metadata": {},
   "outputs": [],
   "source": [
    "features_opt_2 = loans_opt_2_dvt_norm[train_cols]\n",
    "\n",
    "target_opt_2 = loans_opt_2_dvt_norm[\"loan_status\"]\n"
   ]
  },
  {
   "cell_type": "code",
   "execution_count": 163,
   "metadata": {},
   "outputs": [
    {
     "data": {
      "text/plain": [
       "(37648,)"
      ]
     },
     "execution_count": 163,
     "metadata": {},
     "output_type": "execute_result"
    }
   ],
   "source": [
    "penalty = {\n",
    "    0: 9,\n",
    "    1: 1\n",
    "}\n",
    "\n",
    "\n",
    "lr = LogisticRegression( solver='liblinear', class_weight=penalty )\n",
    "\n",
    "\n",
    "predictions = cross_val_predict( lr, features_opt_2, target_opt_2, cv=10 )\n",
    "\n",
    "\n",
    "predictions = pd.Series( predictions, index=loans_opt_2_dvt.index )\n",
    "\n",
    "predictions.shape\n"
   ]
  },
  {
   "cell_type": "code",
   "execution_count": 164,
   "metadata": {},
   "outputs": [
    {
     "name": "stdout",
     "output_type": "stream",
     "text": [
      "> False Positives: 1055 \n",
      "\n",
      "> True Positives: 15004 \n",
      "\n",
      "> False Negatives: 17254 \n",
      "\n",
      "> True Negatives: 4335 \n",
      "\n"
     ]
    }
   ],
   "source": [
    "tp, tn, fp, fn = compute_confusion_matrix( loans_opt_2_dvt, predictions, \"loan_status\" )\n"
   ]
  },
  {
   "cell_type": "code",
   "execution_count": 165,
   "metadata": {},
   "outputs": [
    {
     "name": "stdout",
     "output_type": "stream",
     "text": [
      "True Positive Rate: 0.4651249302498605 \n",
      "\n",
      "False Positive Rate: 0.19573283858998144 \n",
      "\n",
      "Precision: 0.9343047512298399 \n",
      "\n"
     ]
    }
   ],
   "source": [
    "compute_tpr( tp, fn )\n",
    "\n",
    "compute_fpr( fp, tn )\n",
    "\n",
    "compute_precision( tp, fp )\n"
   ]
  },
  {
   "cell_type": "code",
   "execution_count": 166,
   "metadata": {
    "scrolled": false
   },
   "outputs": [
    {
     "name": "stdout",
     "output_type": "stream",
     "text": [
      "Earnings: 14,342,589 \n",
      "\n",
      "Losses: 10,700,125 \n",
      "\n",
      "Net profit: 3,642,464\n"
     ]
    }
   ],
   "source": [
    "compute_net_profit( loans_opt_2_dvt, predictions, \"loan_status\" )"
   ]
  },
  {
   "cell_type": "markdown",
   "metadata": {},
   "source": [
    "### Important Note (conclusion):\n",
    "\n",
    "We obtain a __higher net profit__ by taking into account the `addr_state` column (which is a categorical feature with 50 unique values).\n",
    "\n",
    "* __Option 1__ dataframe contains 3 categorical features: \"home_ownership\", \"verification_status\", \"purpose\"\n",
    "     * Net profit: 3,195,040\n",
    "\n",
    "\n",
    "* __Option 2__ dataframe contains 4 categorical features: \"home_ownership\", \"verification_status\", \"purpose\", \"addr_state\"\n",
    "     * Net profit: 3,642,464  (above cell)\n"
   ]
  },
  {
   "cell_type": "markdown",
   "metadata": {},
   "source": [
    "### Feature Selection > Wrapper Method > Recursive Feature Elimination with Cross-Validation (RFECV)"
   ]
  },
  {
   "cell_type": "markdown",
   "metadata": {},
   "source": [
    "### > Option 1:"
   ]
  },
  {
   "cell_type": "code",
   "execution_count": 167,
   "metadata": {
    "scrolled": true
   },
   "outputs": [
    {
     "data": {
      "text/plain": [
       "(37648, 33)"
      ]
     },
     "execution_count": 167,
     "metadata": {},
     "output_type": "execute_result"
    }
   ],
   "source": [
    "loans_opt_1_dvt_norm.shape"
   ]
  },
  {
   "cell_type": "code",
   "execution_count": 168,
   "metadata": {},
   "outputs": [
    {
     "name": "stdout",
     "output_type": "stream",
     "text": [
      "32\n"
     ]
    }
   ],
   "source": [
    "cols = loans_opt_1_dvt_norm.columns\n",
    "\n",
    "train_cols = cols.drop(\"loan_status\")\n",
    "\n",
    "print( len(train_cols) )\n"
   ]
  },
  {
   "cell_type": "code",
   "execution_count": 169,
   "metadata": {},
   "outputs": [
    {
     "data": {
      "text/plain": [
       "Index(['loan_amnt', 'term', 'int_rate', 'installment', 'emp_length',\n",
       "       'annual_inc', 'dti', 'delinq_2yrs', 'inq_last_6mths', 'open_acc',\n",
       "       'pub_rec', 'revol_bal', 'revol_util', 'total_acc',\n",
       "       'home_ownership_OTHER', 'home_ownership_OWN', 'home_ownership_RENT',\n",
       "       'verification_status_Source Verified', 'verification_status_Verified',\n",
       "       'purpose_credit_card', 'purpose_debt_consolidation',\n",
       "       'purpose_educational', 'purpose_home_improvement', 'purpose_house',\n",
       "       'purpose_major_purchase', 'purpose_medical', 'purpose_moving',\n",
       "       'purpose_other', 'purpose_renewable_energy', 'purpose_small_business',\n",
       "       'purpose_vacation', 'purpose_wedding'],\n",
       "      dtype='object')"
      ]
     },
     "execution_count": 169,
     "metadata": {},
     "output_type": "execute_result"
    }
   ],
   "source": [
    "train_cols"
   ]
  },
  {
   "cell_type": "code",
   "execution_count": 170,
   "metadata": {},
   "outputs": [],
   "source": [
    "features = loans_opt_1_dvt_norm[train_cols]\n",
    "\n",
    "target = loans_opt_1_dvt_norm[\"loan_status\"]\n"
   ]
  },
  {
   "cell_type": "markdown",
   "metadata": {},
   "source": [
    "#### Penalty = 9:"
   ]
  },
  {
   "cell_type": "code",
   "execution_count": 171,
   "metadata": {},
   "outputs": [
    {
     "name": "stdout",
     "output_type": "stream",
     "text": [
      "[ True  True  True  True  True  True  True  True  True  True  True  True\n",
      "  True  True  True  True  True  True  True  True  True  True  True  True\n",
      " False  True  True  True  True  True  True  True]\n",
      "<class 'numpy.ndarray'>\n"
     ]
    }
   ],
   "source": [
    "from sklearn.feature_selection import RFECV\n",
    "\n",
    "penalty = {\n",
    "    0: 9,\n",
    "    1: 1\n",
    "}\n",
    "\n",
    "\n",
    "lr = LogisticRegression( solver='liblinear', class_weight=penalty )\n",
    "\n",
    "\n",
    "selector = RFECV( lr, cv=10 )\n",
    "\n",
    "selector.fit( features, target )\n",
    "\n",
    "\n",
    "# The mask of selected features\n",
    "print( selector.support_ )\n",
    "\n",
    "print( type(selector.support_) )\n"
   ]
  },
  {
   "cell_type": "code",
   "execution_count": 172,
   "metadata": {},
   "outputs": [
    {
     "name": "stdout",
     "output_type": "stream",
     "text": [
      "Index(['loan_amnt', 'term', 'int_rate', 'installment', 'emp_length',\n",
      "       'annual_inc', 'dti', 'delinq_2yrs', 'inq_last_6mths', 'open_acc',\n",
      "       'pub_rec', 'revol_bal', 'revol_util', 'total_acc',\n",
      "       'home_ownership_OTHER', 'home_ownership_OWN', 'home_ownership_RENT',\n",
      "       'verification_status_Source Verified', 'verification_status_Verified',\n",
      "       'purpose_credit_card', 'purpose_debt_consolidation',\n",
      "       'purpose_educational', 'purpose_home_improvement', 'purpose_house',\n",
      "       'purpose_medical', 'purpose_moving', 'purpose_other',\n",
      "       'purpose_renewable_energy', 'purpose_small_business',\n",
      "       'purpose_vacation', 'purpose_wedding'],\n",
      "      dtype='object')\n"
     ]
    }
   ],
   "source": [
    "optimized_columns = features.columns[selector.support_]\n",
    "\n",
    "print(optimized_columns)\n"
   ]
  },
  {
   "cell_type": "code",
   "execution_count": 173,
   "metadata": {},
   "outputs": [
    {
     "data": {
      "text/plain": [
       "31"
      ]
     },
     "execution_count": 173,
     "metadata": {},
     "output_type": "execute_result"
    }
   ],
   "source": [
    "len(optimized_columns)"
   ]
  },
  {
   "cell_type": "code",
   "execution_count": 174,
   "metadata": {},
   "outputs": [],
   "source": [
    "features_lr_rfecv_p9 = loans_opt_1_dvt_norm[optimized_columns]\n"
   ]
  },
  {
   "cell_type": "code",
   "execution_count": 175,
   "metadata": {},
   "outputs": [
    {
     "data": {
      "text/plain": [
       "(37648,)"
      ]
     },
     "execution_count": 175,
     "metadata": {},
     "output_type": "execute_result"
    }
   ],
   "source": [
    "predictions = cross_val_predict( lr, features_lr_rfecv_p9, target, cv=10 )\n",
    "\n",
    "\n",
    "predictions = pd.Series( predictions, index=loans_opt_1_dvt.index )\n",
    "\n",
    "predictions.shape\n"
   ]
  },
  {
   "cell_type": "code",
   "execution_count": 176,
   "metadata": {},
   "outputs": [
    {
     "name": "stdout",
     "output_type": "stream",
     "text": [
      "> False Positives: 1046 \n",
      "\n",
      "> True Positives: 14610 \n",
      "\n",
      "> False Negatives: 17648 \n",
      "\n",
      "> True Negatives: 4344 \n",
      "\n"
     ]
    }
   ],
   "source": [
    "tp, tn, fp, fn = compute_confusion_matrix( loans_opt_1_dvt, predictions, \"loan_status\" )\n"
   ]
  },
  {
   "cell_type": "code",
   "execution_count": 177,
   "metadata": {},
   "outputs": [
    {
     "name": "stdout",
     "output_type": "stream",
     "text": [
      "True Positive Rate: 0.45291090582181165 \n",
      "\n",
      "False Positive Rate: 0.1940630797773655 \n",
      "\n",
      "Precision: 0.9331885539090444 \n",
      "\n"
     ]
    }
   ],
   "source": [
    "compute_tpr( tp, fn )\n",
    "\n",
    "compute_fpr( fp, tn )\n",
    "\n",
    "compute_precision( tp, fp )\n"
   ]
  },
  {
   "cell_type": "code",
   "execution_count": 178,
   "metadata": {},
   "outputs": [
    {
     "name": "stdout",
     "output_type": "stream",
     "text": [
      "Earnings: 13,719,841 \n",
      "\n",
      "Losses: 10,488,225 \n",
      "\n",
      "Net profit: 3,231,616\n"
     ]
    }
   ],
   "source": [
    "compute_net_profit( loans_opt_1_dvt, predictions, \"loan_status\" )\n"
   ]
  },
  {
   "cell_type": "markdown",
   "metadata": {},
   "source": [
    "Therefore, by implementing RFECV, we can observe a net profit increase of 36,576 USD.\n",
    "\n",
    "The net profit without RFECV was: 3,195,040"
   ]
  },
  {
   "cell_type": "markdown",
   "metadata": {},
   "source": [
    "### > Option 2:"
   ]
  },
  {
   "cell_type": "code",
   "execution_count": 179,
   "metadata": {
    "scrolled": true
   },
   "outputs": [
    {
     "name": "stdout",
     "output_type": "stream",
     "text": [
      "[ True  True  True  True False  True  True  True  True  True  True  True\n",
      "  True  True  True False False False False  True  True  True False  True\n",
      " False  True  True  True  True  True  True  True  True  True False False\n",
      "  True  True  True  True  True False False  True  True  True  True  True\n",
      "  True  True  True False  True  True False False  True  True False  True\n",
      " False False  True  True  True  True  True False  True False  True  True\n",
      " False  True False  True  True False  True  True  True]\n",
      "<class 'numpy.ndarray'>\n"
     ]
    }
   ],
   "source": [
    "penalty = {\n",
    "    0: 9,\n",
    "    1: 1\n",
    "}\n",
    "\n",
    "\n",
    "lr = LogisticRegression( solver='liblinear', class_weight=penalty )\n",
    "\n",
    "\n",
    "selector = RFECV( lr, cv=10 )\n",
    "\n",
    "selector.fit( features_opt_2, target_opt_2 )\n",
    "\n",
    "\n",
    "# The mask of selected features\n",
    "print( selector.support_ )\n",
    "\n",
    "print( type(selector.support_) )\n"
   ]
  },
  {
   "cell_type": "code",
   "execution_count": 181,
   "metadata": {},
   "outputs": [
    {
     "name": "stdout",
     "output_type": "stream",
     "text": [
      "Index(['loan_amnt', 'term', 'int_rate', 'installment', 'annual_inc', 'dti',\n",
      "       'delinq_2yrs', 'inq_last_6mths', 'open_acc', 'pub_rec', 'revol_bal',\n",
      "       'revol_util', 'total_acc', 'home_ownership_OTHER',\n",
      "       'purpose_credit_card', 'purpose_debt_consolidation',\n",
      "       'purpose_educational', 'purpose_house', 'purpose_medical',\n",
      "       'purpose_moving', 'purpose_other', 'purpose_renewable_energy',\n",
      "       'purpose_small_business', 'purpose_vacation', 'purpose_wedding',\n",
      "       'addr_state_AL', 'addr_state_AR', 'addr_state_CO', 'addr_state_CT',\n",
      "       'addr_state_DC', 'addr_state_DE', 'addr_state_FL', 'addr_state_IA',\n",
      "       'addr_state_ID', 'addr_state_IL', 'addr_state_IN', 'addr_state_KS',\n",
      "       'addr_state_KY', 'addr_state_LA', 'addr_state_MA', 'addr_state_ME',\n",
      "       'addr_state_MI', 'addr_state_MS', 'addr_state_MT', 'addr_state_NE',\n",
      "       'addr_state_NM', 'addr_state_NV', 'addr_state_NY', 'addr_state_OH',\n",
      "       'addr_state_OK', 'addr_state_PA', 'addr_state_SC', 'addr_state_SD',\n",
      "       'addr_state_TX', 'addr_state_VA', 'addr_state_VT', 'addr_state_WI',\n",
      "       'addr_state_WV', 'addr_state_WY'],\n",
      "      dtype='object')\n"
     ]
    }
   ],
   "source": [
    "optimized_columns = features_opt_2.columns[selector.support_]\n",
    "\n",
    "print(optimized_columns)\n"
   ]
  },
  {
   "cell_type": "code",
   "execution_count": 182,
   "metadata": {},
   "outputs": [
    {
     "data": {
      "text/plain": [
       "59"
      ]
     },
     "execution_count": 182,
     "metadata": {},
     "output_type": "execute_result"
    }
   ],
   "source": [
    "len(optimized_columns)"
   ]
  },
  {
   "cell_type": "code",
   "execution_count": 183,
   "metadata": {},
   "outputs": [],
   "source": [
    "features_lr_rfecv_p9_option2 = loans_opt_2_dvt_norm[optimized_columns]"
   ]
  },
  {
   "cell_type": "code",
   "execution_count": 184,
   "metadata": {},
   "outputs": [
    {
     "data": {
      "text/plain": [
       "(37648,)"
      ]
     },
     "execution_count": 184,
     "metadata": {},
     "output_type": "execute_result"
    }
   ],
   "source": [
    "predictions = cross_val_predict( lr, features_lr_rfecv_p9_option2, target_opt_2, cv=10 )\n",
    "\n",
    "\n",
    "predictions = pd.Series( predictions, index=loans_opt_2_dvt.index )\n",
    "\n",
    "predictions.shape\n"
   ]
  },
  {
   "cell_type": "code",
   "execution_count": 185,
   "metadata": {},
   "outputs": [
    {
     "name": "stdout",
     "output_type": "stream",
     "text": [
      "> False Positives: 1044 \n",
      "\n",
      "> True Positives: 14945 \n",
      "\n",
      "> False Negatives: 17313 \n",
      "\n",
      "> True Negatives: 4346 \n",
      "\n"
     ]
    }
   ],
   "source": [
    "tp, tn, fp, fn = compute_confusion_matrix( loans_opt_2_dvt, predictions, \"loan_status\" )\n"
   ]
  },
  {
   "cell_type": "code",
   "execution_count": 186,
   "metadata": {},
   "outputs": [
    {
     "name": "stdout",
     "output_type": "stream",
     "text": [
      "True Positive Rate: 0.4632959265918532 \n",
      "\n",
      "False Positive Rate: 0.19369202226345084 \n",
      "\n",
      "Precision: 0.9347051097629621 \n",
      "\n"
     ]
    }
   ],
   "source": [
    "compute_tpr( tp, fn )\n",
    "\n",
    "compute_fpr( fp, tn )\n",
    "\n",
    "compute_precision( tp, fp )\n"
   ]
  },
  {
   "cell_type": "code",
   "execution_count": 187,
   "metadata": {
    "scrolled": true
   },
   "outputs": [
    {
     "name": "stdout",
     "output_type": "stream",
     "text": [
      "Earnings: 14,280,652 \n",
      "\n",
      "Losses: 10,575,925 \n",
      "\n",
      "Net profit: 3,704,727\n"
     ]
    }
   ],
   "source": [
    "compute_net_profit( loans_opt_2_dvt, predictions, \"loan_status\" )"
   ]
  },
  {
   "cell_type": "markdown",
   "metadata": {},
   "source": [
    "Therefore, by implementing RFECV, we can observe a net profit increase of 62,263 USD.\n",
    "\n",
    "The net profit without RFECV was: 3,642,464"
   ]
  },
  {
   "cell_type": "markdown",
   "metadata": {},
   "source": [
    "### Feature Selection > Embedded Method > Lasso"
   ]
  },
  {
   "cell_type": "markdown",
   "metadata": {},
   "source": [
    "### > Option 1:"
   ]
  },
  {
   "cell_type": "code",
   "execution_count": 188,
   "metadata": {},
   "outputs": [
    {
     "data": {
      "text/plain": [
       "LassoCV(alphas=None, copy_X=True, cv=10, eps=0.001, fit_intercept=True,\n",
       "        max_iter=1000, n_alphas=100, n_jobs=None, normalize=True,\n",
       "        positive=False, precompute='auto', random_state=1, selection='cyclic',\n",
       "        tol=0.0001, verbose=False)"
      ]
     },
     "execution_count": 188,
     "metadata": {},
     "output_type": "execute_result"
    }
   ],
   "source": [
    "from sklearn.linear_model import LassoCV\n",
    "\n",
    "lasso = LassoCV( cv=10, random_state=1, normalize=True )\n",
    "\n",
    "lasso.fit( features, target )\n"
   ]
  },
  {
   "cell_type": "code",
   "execution_count": 189,
   "metadata": {},
   "outputs": [
    {
     "data": {
      "text/plain": [
       "3.8011663066142993e-06"
      ]
     },
     "execution_count": 189,
     "metadata": {},
     "output_type": "execute_result"
    }
   ],
   "source": [
    "lasso.alpha_\n"
   ]
  },
  {
   "cell_type": "code",
   "execution_count": 190,
   "metadata": {},
   "outputs": [
    {
     "name": "stdout",
     "output_type": "stream",
     "text": [
      "[ 0.         -0.08665047 -0.238538    0.0045721  -0.01206376  1.38856506\n",
      " -0.01855131  0.         -0.12354711 -0.01565017 -0.17399669  0.\n",
      " -0.04049273  0.04271279 -0.04766076 -0.00589546 -0.00985589  0.\n",
      "  0.          0.02059078 -0.00560205 -0.04238091  0.         -0.01368933\n",
      "  0.00534164 -0.02126141 -0.02338471 -0.03003323 -0.05340624 -0.11917444\n",
      " -0.02380453  0.02146655]\n",
      "<class 'numpy.ndarray'>\n"
     ]
    }
   ],
   "source": [
    "model_coef = lasso.coef_\n",
    "\n",
    "print( model_coef )\n",
    "\n",
    "print( type(model_coef) )\n"
   ]
  },
  {
   "cell_type": "code",
   "execution_count": 191,
   "metadata": {},
   "outputs": [
    {
     "data": {
      "text/plain": [
       "(32,)"
      ]
     },
     "execution_count": 191,
     "metadata": {},
     "output_type": "execute_result"
    }
   ],
   "source": [
    "model_coef.shape"
   ]
  },
  {
   "cell_type": "code",
   "execution_count": 192,
   "metadata": {
    "scrolled": true
   },
   "outputs": [
    {
     "data": {
      "text/plain": [
       "loan_amnt                              0.000000\n",
       "term                                  -0.086650\n",
       "int_rate                              -0.238538\n",
       "installment                            0.004572\n",
       "emp_length                            -0.012064\n",
       "annual_inc                             1.388565\n",
       "dti                                   -0.018551\n",
       "delinq_2yrs                            0.000000\n",
       "inq_last_6mths                        -0.123547\n",
       "open_acc                              -0.015650\n",
       "pub_rec                               -0.173997\n",
       "revol_bal                              0.000000\n",
       "revol_util                            -0.040493\n",
       "total_acc                              0.042713\n",
       "home_ownership_OTHER                  -0.047661\n",
       "home_ownership_OWN                    -0.005895\n",
       "home_ownership_RENT                   -0.009856\n",
       "verification_status_Source Verified    0.000000\n",
       "verification_status_Verified           0.000000\n",
       "purpose_credit_card                    0.020591\n",
       "purpose_debt_consolidation            -0.005602\n",
       "purpose_educational                   -0.042381\n",
       "purpose_home_improvement               0.000000\n",
       "purpose_house                         -0.013689\n",
       "purpose_major_purchase                 0.005342\n",
       "purpose_medical                       -0.021261\n",
       "purpose_moving                        -0.023385\n",
       "purpose_other                         -0.030033\n",
       "purpose_renewable_energy              -0.053406\n",
       "purpose_small_business                -0.119174\n",
       "purpose_vacation                      -0.023805\n",
       "purpose_wedding                        0.021467\n",
       "dtype: float64"
      ]
     },
     "execution_count": 192,
     "metadata": {},
     "output_type": "execute_result"
    }
   ],
   "source": [
    "model_coef_s = pd.Series( model_coef, index=features.columns )\n",
    "\n",
    "model_coef_s\n"
   ]
  },
  {
   "cell_type": "code",
   "execution_count": 193,
   "metadata": {
    "scrolled": true
   },
   "outputs": [
    {
     "data": {
      "text/plain": [
       "int_rate                              -0.238538\n",
       "pub_rec                               -0.173997\n",
       "inq_last_6mths                        -0.123547\n",
       "purpose_small_business                -0.119174\n",
       "term                                  -0.086650\n",
       "purpose_renewable_energy              -0.053406\n",
       "home_ownership_OTHER                  -0.047661\n",
       "purpose_educational                   -0.042381\n",
       "revol_util                            -0.040493\n",
       "purpose_other                         -0.030033\n",
       "purpose_vacation                      -0.023805\n",
       "purpose_moving                        -0.023385\n",
       "purpose_medical                       -0.021261\n",
       "dti                                   -0.018551\n",
       "open_acc                              -0.015650\n",
       "purpose_house                         -0.013689\n",
       "emp_length                            -0.012064\n",
       "home_ownership_RENT                   -0.009856\n",
       "home_ownership_OWN                    -0.005895\n",
       "purpose_debt_consolidation            -0.005602\n",
       "purpose_home_improvement               0.000000\n",
       "loan_amnt                              0.000000\n",
       "verification_status_Verified           0.000000\n",
       "verification_status_Source Verified    0.000000\n",
       "revol_bal                              0.000000\n",
       "delinq_2yrs                            0.000000\n",
       "installment                            0.004572\n",
       "purpose_major_purchase                 0.005342\n",
       "purpose_credit_card                    0.020591\n",
       "purpose_wedding                        0.021467\n",
       "total_acc                              0.042713\n",
       "annual_inc                             1.388565\n",
       "dtype: float64"
      ]
     },
     "execution_count": 193,
     "metadata": {},
     "output_type": "execute_result"
    }
   ],
   "source": [
    "model_coef_s.sort_values()\n"
   ]
  },
  {
   "cell_type": "code",
   "execution_count": 194,
   "metadata": {
    "scrolled": true
   },
   "outputs": [
    {
     "name": "stdout",
     "output_type": "stream",
     "text": [
      "term                         -0.086650\n",
      "int_rate                     -0.238538\n",
      "installment                   0.004572\n",
      "emp_length                   -0.012064\n",
      "annual_inc                    1.388565\n",
      "dti                          -0.018551\n",
      "inq_last_6mths               -0.123547\n",
      "open_acc                     -0.015650\n",
      "pub_rec                      -0.173997\n",
      "revol_util                   -0.040493\n",
      "total_acc                     0.042713\n",
      "home_ownership_OTHER         -0.047661\n",
      "home_ownership_OWN           -0.005895\n",
      "home_ownership_RENT          -0.009856\n",
      "purpose_credit_card           0.020591\n",
      "purpose_debt_consolidation   -0.005602\n",
      "purpose_educational          -0.042381\n",
      "purpose_house                -0.013689\n",
      "purpose_major_purchase        0.005342\n",
      "purpose_medical              -0.021261\n",
      "purpose_moving               -0.023385\n",
      "purpose_other                -0.030033\n",
      "purpose_renewable_energy     -0.053406\n",
      "purpose_small_business       -0.119174\n",
      "purpose_vacation             -0.023805\n",
      "purpose_wedding               0.021467\n",
      "dtype: float64\n",
      "<class 'pandas.core.series.Series'>\n"
     ]
    }
   ],
   "source": [
    "optimized_columns_bool = model_coef_s != 0\n",
    "\n",
    "optimized_columns_s = model_coef_s[optimized_columns_bool]\n",
    "\n",
    "print( optimized_columns_s )\n",
    "\n",
    "print( type( optimized_columns_s ) )\n"
   ]
  },
  {
   "cell_type": "code",
   "execution_count": 195,
   "metadata": {},
   "outputs": [
    {
     "data": {
      "text/plain": [
       "26"
      ]
     },
     "execution_count": 195,
     "metadata": {},
     "output_type": "execute_result"
    }
   ],
   "source": [
    "len( optimized_columns_s )"
   ]
  },
  {
   "cell_type": "code",
   "execution_count": 196,
   "metadata": {},
   "outputs": [
    {
     "data": {
      "text/plain": [
       "Index(['term', 'int_rate', 'installment', 'emp_length', 'annual_inc', 'dti',\n",
       "       'inq_last_6mths', 'open_acc', 'pub_rec', 'revol_util', 'total_acc',\n",
       "       'home_ownership_OTHER', 'home_ownership_OWN', 'home_ownership_RENT',\n",
       "       'purpose_credit_card', 'purpose_debt_consolidation',\n",
       "       'purpose_educational', 'purpose_house', 'purpose_major_purchase',\n",
       "       'purpose_medical', 'purpose_moving', 'purpose_other',\n",
       "       'purpose_renewable_energy', 'purpose_small_business',\n",
       "       'purpose_vacation', 'purpose_wedding'],\n",
       "      dtype='object')"
      ]
     },
     "execution_count": 196,
     "metadata": {},
     "output_type": "execute_result"
    }
   ],
   "source": [
    "optimized_columns_s.index"
   ]
  },
  {
   "cell_type": "code",
   "execution_count": 197,
   "metadata": {},
   "outputs": [],
   "source": [
    "features_lasso = loans_opt_1_dvt_norm[optimized_columns_s.index]\n"
   ]
  },
  {
   "cell_type": "code",
   "execution_count": 198,
   "metadata": {
    "scrolled": true
   },
   "outputs": [
    {
     "name": "stdout",
     "output_type": "stream",
     "text": [
      "<class 'pandas.core.frame.DataFrame'>\n",
      "Int64Index: 37648 entries, 0 to 39753\n",
      "Data columns (total 26 columns):\n",
      " #   Column                      Non-Null Count  Dtype  \n",
      "---  ------                      --------------  -----  \n",
      " 0   term                        37648 non-null  float64\n",
      " 1   int_rate                    37648 non-null  float64\n",
      " 2   installment                 37648 non-null  float64\n",
      " 3   emp_length                  37648 non-null  float64\n",
      " 4   annual_inc                  37648 non-null  float64\n",
      " 5   dti                         37648 non-null  float64\n",
      " 6   inq_last_6mths              37648 non-null  float64\n",
      " 7   open_acc                    37648 non-null  float64\n",
      " 8   pub_rec                     37648 non-null  float64\n",
      " 9   revol_util                  37648 non-null  float64\n",
      " 10  total_acc                   37648 non-null  float64\n",
      " 11  home_ownership_OTHER        37648 non-null  uint8  \n",
      " 12  home_ownership_OWN          37648 non-null  uint8  \n",
      " 13  home_ownership_RENT         37648 non-null  uint8  \n",
      " 14  purpose_credit_card         37648 non-null  uint8  \n",
      " 15  purpose_debt_consolidation  37648 non-null  uint8  \n",
      " 16  purpose_educational         37648 non-null  uint8  \n",
      " 17  purpose_house               37648 non-null  uint8  \n",
      " 18  purpose_major_purchase      37648 non-null  uint8  \n",
      " 19  purpose_medical             37648 non-null  uint8  \n",
      " 20  purpose_moving              37648 non-null  uint8  \n",
      " 21  purpose_other               37648 non-null  uint8  \n",
      " 22  purpose_renewable_energy    37648 non-null  uint8  \n",
      " 23  purpose_small_business      37648 non-null  uint8  \n",
      " 24  purpose_vacation            37648 non-null  uint8  \n",
      " 25  purpose_wedding             37648 non-null  uint8  \n",
      "dtypes: float64(11), uint8(15)\n",
      "memory usage: 4.0 MB\n"
     ]
    }
   ],
   "source": [
    "features_lasso.info()"
   ]
  },
  {
   "cell_type": "code",
   "execution_count": 199,
   "metadata": {},
   "outputs": [
    {
     "data": {
      "text/plain": [
       "(37648,)"
      ]
     },
     "execution_count": 199,
     "metadata": {},
     "output_type": "execute_result"
    }
   ],
   "source": [
    "penalty = {\n",
    "    0: 9,\n",
    "    1: 1\n",
    "}\n",
    "\n",
    "\n",
    "lr = LogisticRegression( solver='liblinear', class_weight=penalty )\n",
    "\n",
    "\n",
    "predictions = cross_val_predict( lr, features_lasso, target, cv=10 )\n",
    "\n",
    "\n",
    "predictions = pd.Series( predictions, index=loans_opt_1_dvt.index )\n",
    "\n",
    "predictions.shape\n"
   ]
  },
  {
   "cell_type": "code",
   "execution_count": 200,
   "metadata": {},
   "outputs": [
    {
     "name": "stdout",
     "output_type": "stream",
     "text": [
      "> False Positives: 1034 \n",
      "\n",
      "> True Positives: 14567 \n",
      "\n",
      "> False Negatives: 17691 \n",
      "\n",
      "> True Negatives: 4356 \n",
      "\n"
     ]
    }
   ],
   "source": [
    "tp, tn, fp, fn = compute_confusion_matrix( loans_opt_1_dvt, predictions, \"loan_status\" )\n"
   ]
  },
  {
   "cell_type": "code",
   "execution_count": 201,
   "metadata": {},
   "outputs": [
    {
     "name": "stdout",
     "output_type": "stream",
     "text": [
      "True Positive Rate: 0.4515779031558063 \n",
      "\n",
      "False Positive Rate: 0.19183673469387755 \n",
      "\n",
      "Precision: 0.9337221972950452 \n",
      "\n"
     ]
    }
   ],
   "source": [
    "compute_tpr( tp, fn )\n",
    "\n",
    "compute_fpr( fp, tn )\n",
    "\n",
    "compute_precision( tp, fp )\n"
   ]
  },
  {
   "cell_type": "code",
   "execution_count": 202,
   "metadata": {},
   "outputs": [
    {
     "name": "stdout",
     "output_type": "stream",
     "text": [
      "Earnings: 13,658,641 \n",
      "\n",
      "Losses: 10,283,550 \n",
      "\n",
      "Net profit: 3,375,091\n"
     ]
    }
   ],
   "source": [
    "compute_net_profit( loans_opt_1_dvt, predictions, \"loan_status\" )\n"
   ]
  },
  {
   "cell_type": "markdown",
   "metadata": {},
   "source": [
    "### Summary (option 1):\n",
    "\n",
    "* Net profit without RFECV and Lasso (32 features): 3,195,040\n",
    "\n",
    "\n",
    "* Net profit with RFECV (31 features): 3,231,616\n",
    "\n",
    "\n",
    "* Net profit with Lasso (26 features, above cell): 3,375,091"
   ]
  },
  {
   "cell_type": "markdown",
   "metadata": {},
   "source": [
    "### > Option 2:"
   ]
  },
  {
   "cell_type": "code",
   "execution_count": 203,
   "metadata": {},
   "outputs": [
    {
     "data": {
      "text/plain": [
       "LassoCV(alphas=None, copy_X=True, cv=10, eps=0.001, fit_intercept=True,\n",
       "        max_iter=1000, n_alphas=100, n_jobs=None, normalize=True,\n",
       "        positive=False, precompute='auto', random_state=1, selection='cyclic',\n",
       "        tol=0.0001, verbose=False)"
      ]
     },
     "execution_count": 203,
     "metadata": {},
     "output_type": "execute_result"
    }
   ],
   "source": [
    "lasso = LassoCV( cv=10, random_state=1, normalize=True )\n",
    "\n",
    "lasso.fit( features_opt_2, target_opt_2 )\n"
   ]
  },
  {
   "cell_type": "code",
   "execution_count": 204,
   "metadata": {},
   "outputs": [
    {
     "data": {
      "text/plain": [
       "7.63742879148775e-06"
      ]
     },
     "execution_count": 204,
     "metadata": {},
     "output_type": "execute_result"
    }
   ],
   "source": [
    "lasso.alpha_\n"
   ]
  },
  {
   "cell_type": "code",
   "execution_count": 205,
   "metadata": {
    "scrolled": true
   },
   "outputs": [
    {
     "name": "stdout",
     "output_type": "stream",
     "text": [
      "[ 0.00000000e+00 -8.45176049e-02 -2.39848070e-01  1.31014142e-04\n",
      " -8.03608599e-03  1.38667658e+00 -1.80228043e-02  0.00000000e+00\n",
      " -1.23530025e-01 -0.00000000e+00 -1.66517483e-01  0.00000000e+00\n",
      " -3.68896832e-02  2.53116816e-02 -3.18044156e-02 -2.48394849e-03\n",
      " -6.38716066e-03  0.00000000e+00  0.00000000e+00  2.39822678e-02\n",
      " -0.00000000e+00 -2.91138907e-02  2.57934839e-03 -0.00000000e+00\n",
      "  7.10030791e-03 -1.02236469e-02 -1.22480760e-02 -2.30863076e-02\n",
      " -3.33295162e-02 -1.09330660e-01 -1.05730822e-02  2.14502913e-02\n",
      "  2.46334030e-03  8.62186156e-03  0.00000000e+00 -2.12380897e-02\n",
      "  1.79102475e-03  0.00000000e+00  2.74580342e-02  1.64504684e-02\n",
      " -3.85352610e-02 -1.45917539e-02 -1.67246195e-03  0.00000000e+00\n",
      " -0.00000000e+00  0.00000000e+00  2.94788032e-02  1.70842795e-02\n",
      " -0.00000000e+00  0.00000000e+00  0.00000000e+00 -4.78881586e-03\n",
      "  0.00000000e+00  0.00000000e+00 -0.00000000e+00 -1.63757142e-02\n",
      "  0.00000000e+00  0.00000000e+00 -0.00000000e+00 -3.55389107e-01\n",
      " -0.00000000e+00 -1.19616820e-02 -1.65408942e-02 -5.65770550e-02\n",
      "  0.00000000e+00  9.13693575e-03  0.00000000e+00 -9.87276454e-03\n",
      "  8.21910403e-03  0.00000000e+00 -0.00000000e+00 -1.31007763e-02\n",
      " -0.00000000e+00  9.65789707e-03 -9.65838555e-04  8.01106727e-04\n",
      "  0.00000000e+00 -0.00000000e+00  0.00000000e+00  0.00000000e+00\n",
      "  6.83946722e-02]\n",
      "<class 'numpy.ndarray'>\n"
     ]
    }
   ],
   "source": [
    "model_coef = lasso.coef_\n",
    "\n",
    "print( model_coef )\n",
    "\n",
    "print( type(model_coef) )\n"
   ]
  },
  {
   "cell_type": "code",
   "execution_count": 206,
   "metadata": {},
   "outputs": [
    {
     "data": {
      "text/plain": [
       "(81,)"
      ]
     },
     "execution_count": 206,
     "metadata": {},
     "output_type": "execute_result"
    }
   ],
   "source": [
    "model_coef.shape"
   ]
  },
  {
   "cell_type": "code",
   "execution_count": 208,
   "metadata": {},
   "outputs": [
    {
     "data": {
      "text/plain": [
       "loan_amnt        0.000000\n",
       "term            -0.084518\n",
       "int_rate        -0.239848\n",
       "installment      0.000131\n",
       "emp_length      -0.008036\n",
       "                   ...   \n",
       "addr_state_VT    0.000000\n",
       "addr_state_WA   -0.000000\n",
       "addr_state_WI    0.000000\n",
       "addr_state_WV    0.000000\n",
       "addr_state_WY    0.068395\n",
       "Length: 81, dtype: float64"
      ]
     },
     "execution_count": 208,
     "metadata": {},
     "output_type": "execute_result"
    }
   ],
   "source": [
    "model_coef_s = pd.Series( model_coef, index=features_opt_2.columns )\n",
    "\n",
    "model_coef_s\n"
   ]
  },
  {
   "cell_type": "code",
   "execution_count": 209,
   "metadata": {},
   "outputs": [
    {
     "name": "stdout",
     "output_type": "stream",
     "text": [
      "<class 'pandas.core.series.Series'>\n"
     ]
    },
    {
     "data": {
      "text/plain": [
       "49"
      ]
     },
     "execution_count": 209,
     "metadata": {},
     "output_type": "execute_result"
    }
   ],
   "source": [
    "optimized_columns_bool = model_coef_s != 0\n",
    "\n",
    "optimized_columns_s = model_coef_s[optimized_columns_bool]\n",
    "\n",
    "print( type( optimized_columns_s ) )\n",
    "\n",
    "len( optimized_columns_s )\n"
   ]
  },
  {
   "cell_type": "code",
   "execution_count": 210,
   "metadata": {},
   "outputs": [
    {
     "data": {
      "text/plain": [
       "Index(['term', 'int_rate', 'installment', 'emp_length', 'annual_inc', 'dti',\n",
       "       'inq_last_6mths', 'pub_rec', 'revol_util', 'total_acc',\n",
       "       'home_ownership_OTHER', 'home_ownership_OWN', 'home_ownership_RENT',\n",
       "       'purpose_credit_card', 'purpose_educational',\n",
       "       'purpose_home_improvement', 'purpose_major_purchase', 'purpose_medical',\n",
       "       'purpose_moving', 'purpose_other', 'purpose_renewable_energy',\n",
       "       'purpose_small_business', 'purpose_vacation', 'purpose_wedding',\n",
       "       'addr_state_AL', 'addr_state_AR', 'addr_state_CA', 'addr_state_CO',\n",
       "       'addr_state_DC', 'addr_state_DE', 'addr_state_FL', 'addr_state_GA',\n",
       "       'addr_state_HI', 'addr_state_IN', 'addr_state_KS', 'addr_state_MD',\n",
       "       'addr_state_MO', 'addr_state_NE', 'addr_state_NJ', 'addr_state_NM',\n",
       "       'addr_state_NV', 'addr_state_OH', 'addr_state_OR', 'addr_state_PA',\n",
       "       'addr_state_SD', 'addr_state_TX', 'addr_state_UT', 'addr_state_VA',\n",
       "       'addr_state_WY'],\n",
       "      dtype='object')"
      ]
     },
     "execution_count": 210,
     "metadata": {},
     "output_type": "execute_result"
    }
   ],
   "source": [
    "optimized_columns_s.index"
   ]
  },
  {
   "cell_type": "code",
   "execution_count": 211,
   "metadata": {},
   "outputs": [],
   "source": [
    "features_lasso_option2 = loans_opt_2_dvt_norm[optimized_columns_s.index]\n"
   ]
  },
  {
   "cell_type": "code",
   "execution_count": 213,
   "metadata": {
    "scrolled": true
   },
   "outputs": [
    {
     "data": {
      "text/plain": [
       "(37648, 49)"
      ]
     },
     "execution_count": 213,
     "metadata": {},
     "output_type": "execute_result"
    }
   ],
   "source": [
    "features_lasso_option2.shape"
   ]
  },
  {
   "cell_type": "code",
   "execution_count": 214,
   "metadata": {},
   "outputs": [
    {
     "data": {
      "text/plain": [
       "(37648,)"
      ]
     },
     "execution_count": 214,
     "metadata": {},
     "output_type": "execute_result"
    }
   ],
   "source": [
    "penalty = {\n",
    "    0: 9,\n",
    "    1: 1\n",
    "}\n",
    "\n",
    "\n",
    "lr = LogisticRegression( solver='liblinear', class_weight=penalty )\n",
    "\n",
    "\n",
    "predictions = cross_val_predict( lr, features_lasso_option2, target_opt_2, cv=10 )\n",
    "\n",
    "\n",
    "predictions = pd.Series( predictions, index=loans_opt_2_dvt.index )\n",
    "\n",
    "predictions.shape\n"
   ]
  },
  {
   "cell_type": "code",
   "execution_count": 215,
   "metadata": {},
   "outputs": [
    {
     "name": "stdout",
     "output_type": "stream",
     "text": [
      "> False Positives: 1035 \n",
      "\n",
      "> True Positives: 14995 \n",
      "\n",
      "> False Negatives: 17263 \n",
      "\n",
      "> True Negatives: 4355 \n",
      "\n"
     ]
    }
   ],
   "source": [
    "tp, tn, fp, fn = compute_confusion_matrix( loans_opt_2_dvt, predictions, \"loan_status\" )\n"
   ]
  },
  {
   "cell_type": "code",
   "execution_count": 216,
   "metadata": {},
   "outputs": [
    {
     "name": "stdout",
     "output_type": "stream",
     "text": [
      "True Positive Rate: 0.4648459296918594 \n",
      "\n",
      "False Positive Rate: 0.19202226345083487 \n",
      "\n",
      "Precision: 0.9354335620711166 \n",
      "\n"
     ]
    }
   ],
   "source": [
    "compute_tpr( tp, fn )\n",
    "\n",
    "compute_fpr( fp, tn )\n",
    "\n",
    "compute_precision( tp, fp )\n"
   ]
  },
  {
   "cell_type": "code",
   "execution_count": 217,
   "metadata": {},
   "outputs": [
    {
     "name": "stdout",
     "output_type": "stream",
     "text": [
      "Earnings: 14,297,963 \n",
      "\n",
      "Losses: 10,496,750 \n",
      "\n",
      "Net profit: 3,801,213\n"
     ]
    }
   ],
   "source": [
    "compute_net_profit( loans_opt_2_dvt, predictions, \"loan_status\" )\n"
   ]
  },
  {
   "cell_type": "markdown",
   "metadata": {},
   "source": [
    "### Summary (option 2):\n",
    "\n",
    "* Net profit without RFECV and Lasso (81 features): 3,642,464\n",
    "\n",
    "\n",
    "* Net profit with RFECV (59 features): 3,704,727\n",
    "\n",
    "\n",
    "* Net profit with Lasso (49 features, above cell): 3,801,213"
   ]
  },
  {
   "cell_type": "markdown",
   "metadata": {},
   "source": [
    "### Random Forest"
   ]
  },
  {
   "cell_type": "markdown",
   "metadata": {},
   "source": [
    "Let's try a more complex algorithm, random forest. Random forests are able to work with nonlinear data and learn complex conditionals. Logistic regressions are only able to work with linear data. Training a random forest algorithm may enable more accuracy due to columns that correlate nonlinearly with `loan_status`."
   ]
  },
  {
   "cell_type": "markdown",
   "metadata": {},
   "source": [
    "### > Option 1:"
   ]
  },
  {
   "cell_type": "markdown",
   "metadata": {},
   "source": [
    "#### > `class_weight` = `balanced`"
   ]
  },
  {
   "cell_type": "code",
   "execution_count": 226,
   "metadata": {},
   "outputs": [
    {
     "name": "stdout",
     "output_type": "stream",
     "text": [
      "RandomForestClassifier(bootstrap=True, ccp_alpha=0.0, class_weight='balanced',\n",
      "                       criterion='gini', max_depth=None, max_features='auto',\n",
      "                       max_leaf_nodes=None, max_samples=None,\n",
      "                       min_impurity_decrease=0.0, min_impurity_split=None,\n",
      "                       min_samples_leaf=1, min_samples_split=2,\n",
      "                       min_weight_fraction_leaf=0.0, n_estimators=10,\n",
      "                       n_jobs=None, oob_score=False, random_state=1, verbose=0,\n",
      "                       warm_start=False)\n"
     ]
    }
   ],
   "source": [
    "from sklearn.ensemble import RandomForestClassifier\n",
    "\n",
    "rf = RandomForestClassifier( n_estimators=10, random_state=1, class_weight=\"balanced\" )\n",
    "\n",
    "\n",
    "predictions = cross_val_predict( rf, features, target, cv=10 )\n",
    "\n",
    "\n",
    "predictions = pd.Series( predictions, index=loans_opt_1_dvt.index )\n",
    "\n",
    "\n",
    "print(rf)\n"
   ]
  },
  {
   "cell_type": "code",
   "execution_count": 227,
   "metadata": {},
   "outputs": [
    {
     "name": "stdout",
     "output_type": "stream",
     "text": [
      "> False Positives: 4978 \n",
      "\n",
      "> True Positives: 31405 \n",
      "\n",
      "> False Negatives: 853 \n",
      "\n",
      "> True Negatives: 412 \n",
      "\n"
     ]
    }
   ],
   "source": [
    "tp, tn, fp, fn = compute_confusion_matrix( loans_opt_1_dvt, predictions, \"loan_status\" )\n"
   ]
  },
  {
   "cell_type": "code",
   "execution_count": 228,
   "metadata": {
    "scrolled": true
   },
   "outputs": [
    {
     "name": "stdout",
     "output_type": "stream",
     "text": [
      "True Positive Rate: 0.9735569471138942 \n",
      "\n",
      "False Positive Rate: 0.9235621521335807 \n",
      "\n",
      "Precision: 0.8631778577907264 \n",
      "\n"
     ]
    }
   ],
   "source": [
    "compute_tpr( tp, fn )\n",
    "\n",
    "compute_fpr( fp, tn )\n",
    "\n",
    "compute_precision( tp, fp )\n"
   ]
  },
  {
   "cell_type": "code",
   "execution_count": 229,
   "metadata": {},
   "outputs": [
    {
     "name": "stdout",
     "output_type": "stream",
     "text": [
      "Earnings: 41,622,875 \n",
      "\n",
      "Losses: 59,760,825 \n",
      "\n",
      "Net profit: -18,137,950\n"
     ]
    }
   ],
   "source": [
    "compute_net_profit( loans_opt_1_dvt, predictions, \"loan_status\" )\n"
   ]
  },
  {
   "cell_type": "markdown",
   "metadata": {},
   "source": [
    "#### Parameters' Tweaking:\n",
    "\n",
    "_min_samples_leaf_ = 5\n",
    "\n",
    "_min_samples_split_ = 5\n",
    "\n",
    "_max_depth_ = 15"
   ]
  },
  {
   "cell_type": "code",
   "execution_count": 230,
   "metadata": {},
   "outputs": [
    {
     "name": "stdout",
     "output_type": "stream",
     "text": [
      "RandomForestClassifier(bootstrap=True, ccp_alpha=0.0, class_weight='balanced',\n",
      "                       criterion='gini', max_depth=15, max_features='auto',\n",
      "                       max_leaf_nodes=None, max_samples=None,\n",
      "                       min_impurity_decrease=0.0, min_impurity_split=None,\n",
      "                       min_samples_leaf=5, min_samples_split=5,\n",
      "                       min_weight_fraction_leaf=0.0, n_estimators=10,\n",
      "                       n_jobs=None, oob_score=False, random_state=1, verbose=0,\n",
      "                       warm_start=False)\n"
     ]
    }
   ],
   "source": [
    "rf = RandomForestClassifier( n_estimators=10, random_state=1, class_weight=\"balanced\", \\\n",
    "                               min_samples_leaf=5, min_samples_split=5, max_depth=15 )\n",
    "\n",
    "\n",
    "predictions = cross_val_predict( rf, features, target, cv=10 )\n",
    "\n",
    "\n",
    "predictions = pd.Series( predictions, index=loans_opt_1_dvt.index )\n",
    "\n",
    "\n",
    "print(rf)\n"
   ]
  },
  {
   "cell_type": "code",
   "execution_count": 231,
   "metadata": {},
   "outputs": [
    {
     "name": "stdout",
     "output_type": "stream",
     "text": [
      "> False Positives: 3489 \n",
      "\n",
      "> True Positives: 26938 \n",
      "\n",
      "> False Negatives: 5320 \n",
      "\n",
      "> True Negatives: 1901 \n",
      "\n"
     ]
    }
   ],
   "source": [
    "tp, tn, fp, fn = compute_confusion_matrix( loans_opt_1_dvt, predictions, \"loan_status\" )\n"
   ]
  },
  {
   "cell_type": "code",
   "execution_count": 232,
   "metadata": {},
   "outputs": [
    {
     "name": "stdout",
     "output_type": "stream",
     "text": [
      "True Positive Rate: 0.8350796701593404 \n",
      "\n",
      "False Positive Rate: 0.6473098330241187 \n",
      "\n",
      "Precision: 0.8853321063529103 \n",
      "\n"
     ]
    }
   ],
   "source": [
    "compute_tpr( tp, fn )\n",
    "\n",
    "compute_fpr( fp, tn )\n",
    "\n",
    "compute_precision( tp, fp )\n"
   ]
  },
  {
   "cell_type": "code",
   "execution_count": 233,
   "metadata": {},
   "outputs": [
    {
     "name": "stdout",
     "output_type": "stream",
     "text": [
      "Earnings: 32,666,832 \n",
      "\n",
      "Losses: 39,162,000 \n",
      "\n",
      "Net profit: -6,495,168\n"
     ]
    }
   ],
   "source": [
    "compute_net_profit( loans_opt_1_dvt, predictions, \"loan_status\" )\n"
   ]
  },
  {
   "cell_type": "markdown",
   "metadata": {},
   "source": [
    "#### > `class_weight` = Harsher Penalty"
   ]
  },
  {
   "cell_type": "markdown",
   "metadata": {},
   "source": [
    "#### Penalty = 9:"
   ]
  },
  {
   "cell_type": "code",
   "execution_count": 238,
   "metadata": {},
   "outputs": [
    {
     "name": "stdout",
     "output_type": "stream",
     "text": [
      "RandomForestClassifier(bootstrap=True, ccp_alpha=0.0, class_weight={0: 9, 1: 1},\n",
      "                       criterion='gini', max_depth=15, max_features='auto',\n",
      "                       max_leaf_nodes=None, max_samples=None,\n",
      "                       min_impurity_decrease=0.0, min_impurity_split=None,\n",
      "                       min_samples_leaf=5, min_samples_split=5,\n",
      "                       min_weight_fraction_leaf=0.0, n_estimators=10,\n",
      "                       n_jobs=None, oob_score=False, random_state=1, verbose=0,\n",
      "                       warm_start=False)\n"
     ]
    }
   ],
   "source": [
    "penalty = {\n",
    "    0: 9,\n",
    "    1: 1\n",
    "}\n",
    "\n",
    "\n",
    "rf = RandomForestClassifier( n_estimators=10, random_state=1, class_weight=penalty, \\\n",
    "                               min_samples_leaf=5, min_samples_split=5, max_depth=15 )\n",
    "\n",
    "\n",
    "predictions = cross_val_predict( rf, features, target, cv=10 )\n",
    "\n",
    "\n",
    "predictions = pd.Series( predictions, index=loans_opt_1_dvt.index )\n",
    "\n",
    "\n",
    "print(rf)\n"
   ]
  },
  {
   "cell_type": "code",
   "execution_count": 239,
   "metadata": {},
   "outputs": [
    {
     "name": "stdout",
     "output_type": "stream",
     "text": [
      "> False Positives: 2766 \n",
      "\n",
      "> True Positives: 23383 \n",
      "\n",
      "> False Negatives: 8875 \n",
      "\n",
      "> True Negatives: 2624 \n",
      "\n"
     ]
    }
   ],
   "source": [
    "tp, tn, fp, fn = compute_confusion_matrix( loans_opt_1_dvt, predictions, \"loan_status\" )\n"
   ]
  },
  {
   "cell_type": "code",
   "execution_count": 240,
   "metadata": {},
   "outputs": [
    {
     "name": "stdout",
     "output_type": "stream",
     "text": [
      "True Positive Rate: 0.7248744497488995 \n",
      "\n",
      "False Positive Rate: 0.5131725417439703 \n",
      "\n",
      "Precision: 0.894221576350912 \n",
      "\n"
     ]
    }
   ],
   "source": [
    "compute_tpr( tp, fn )\n",
    "\n",
    "compute_fpr( fp, tn )\n",
    "\n",
    "compute_precision( tp, fp )\n"
   ]
  },
  {
   "cell_type": "code",
   "execution_count": 241,
   "metadata": {},
   "outputs": [
    {
     "name": "stdout",
     "output_type": "stream",
     "text": [
      "Earnings: 27,376,031 \n",
      "\n",
      "Losses: 30,914,025 \n",
      "\n",
      "Net profit: -3,537,994\n"
     ]
    }
   ],
   "source": [
    "compute_net_profit( loans_opt_1_dvt, predictions, \"loan_status\" )\n"
   ]
  },
  {
   "cell_type": "markdown",
   "metadata": {},
   "source": [
    "#### Parameters' Tweaking:\n",
    "\n",
    "_min_samples_leaf_ = __15__\n",
    "\n",
    "_min_samples_split_ = 5\n",
    "\n",
    "_max_depth_ = 15"
   ]
  },
  {
   "cell_type": "code",
   "execution_count": 242,
   "metadata": {},
   "outputs": [
    {
     "name": "stdout",
     "output_type": "stream",
     "text": [
      "RandomForestClassifier(bootstrap=True, ccp_alpha=0.0, class_weight={0: 9, 1: 1},\n",
      "                       criterion='gini', max_depth=15, max_features='auto',\n",
      "                       max_leaf_nodes=None, max_samples=None,\n",
      "                       min_impurity_decrease=0.0, min_impurity_split=None,\n",
      "                       min_samples_leaf=15, min_samples_split=5,\n",
      "                       min_weight_fraction_leaf=0.0, n_estimators=10,\n",
      "                       n_jobs=None, oob_score=False, random_state=1, verbose=0,\n",
      "                       warm_start=False)\n"
     ]
    }
   ],
   "source": [
    "penalty = {\n",
    "    0: 9,\n",
    "    1: 1\n",
    "}\n",
    "\n",
    "\n",
    "rf = RandomForestClassifier( n_estimators=10, random_state=1, class_weight=penalty, \\\n",
    "                               min_samples_leaf=15, min_samples_split=5, max_depth=15 )\n",
    "\n",
    "\n",
    "predictions = cross_val_predict( rf, features, target, cv=10 )\n",
    "\n",
    "\n",
    "predictions = pd.Series( predictions, index=loans_opt_1_dvt.index )\n",
    "\n",
    "\n",
    "print(rf)\n"
   ]
  },
  {
   "cell_type": "code",
   "execution_count": 243,
   "metadata": {},
   "outputs": [
    {
     "name": "stdout",
     "output_type": "stream",
     "text": [
      "> False Positives: 2003 \n",
      "\n",
      "> True Positives: 20019 \n",
      "\n",
      "> False Negatives: 12239 \n",
      "\n",
      "> True Negatives: 3387 \n",
      "\n"
     ]
    }
   ],
   "source": [
    "tp, tn, fp, fn = compute_confusion_matrix( loans_opt_1_dvt, predictions, \"loan_status\" )\n"
   ]
  },
  {
   "cell_type": "code",
   "execution_count": 244,
   "metadata": {},
   "outputs": [
    {
     "name": "stdout",
     "output_type": "stream",
     "text": [
      "True Positive Rate: 0.6205902411804823 \n",
      "\n",
      "False Positive Rate: 0.37161410018552876 \n",
      "\n",
      "Precision: 0.9090454999545908 \n",
      "\n"
     ]
    }
   ],
   "source": [
    "compute_tpr( tp, fn )\n",
    "\n",
    "compute_fpr( fp, tn )\n",
    "\n",
    "compute_precision( tp, fp )\n"
   ]
  },
  {
   "cell_type": "code",
   "execution_count": 245,
   "metadata": {
    "scrolled": true
   },
   "outputs": [
    {
     "name": "stdout",
     "output_type": "stream",
     "text": [
      "Earnings: 21,599,000 \n",
      "\n",
      "Losses: 21,544,475 \n",
      "\n",
      "Net profit: 54,525\n"
     ]
    }
   ],
   "source": [
    "compute_net_profit( loans_opt_1_dvt, predictions, \"loan_status\" )\n"
   ]
  },
  {
   "cell_type": "markdown",
   "metadata": {},
   "source": [
    "Next, let's see what happens when we increase the penalty."
   ]
  },
  {
   "cell_type": "markdown",
   "metadata": {},
   "source": [
    "#### Penalty = 10:"
   ]
  },
  {
   "cell_type": "code",
   "execution_count": 246,
   "metadata": {},
   "outputs": [
    {
     "name": "stdout",
     "output_type": "stream",
     "text": [
      "RandomForestClassifier(bootstrap=True, ccp_alpha=0.0,\n",
      "                       class_weight={0: 10, 1: 1}, criterion='gini',\n",
      "                       max_depth=15, max_features='auto', max_leaf_nodes=None,\n",
      "                       max_samples=None, min_impurity_decrease=0.0,\n",
      "                       min_impurity_split=None, min_samples_leaf=15,\n",
      "                       min_samples_split=5, min_weight_fraction_leaf=0.0,\n",
      "                       n_estimators=10, n_jobs=None, oob_score=False,\n",
      "                       random_state=1, verbose=0, warm_start=False)\n"
     ]
    }
   ],
   "source": [
    "penalty = {\n",
    "    0: 10,\n",
    "    1: 1\n",
    "}\n",
    "\n",
    "\n",
    "rf = RandomForestClassifier( n_estimators=10, random_state=1, class_weight=penalty, \\\n",
    "                               min_samples_leaf=15, min_samples_split=5, max_depth=15 )\n",
    "\n",
    "\n",
    "predictions = cross_val_predict( rf, features, target, cv=10 )\n",
    "\n",
    "\n",
    "predictions = pd.Series( predictions, index=loans_opt_1_dvt.index )\n",
    "\n",
    "\n",
    "print(rf)\n"
   ]
  },
  {
   "cell_type": "code",
   "execution_count": 247,
   "metadata": {},
   "outputs": [
    {
     "name": "stdout",
     "output_type": "stream",
     "text": [
      "> False Positives: 1788 \n",
      "\n",
      "> True Positives: 18793 \n",
      "\n",
      "> False Negatives: 13465 \n",
      "\n",
      "> True Negatives: 3602 \n",
      "\n"
     ]
    }
   ],
   "source": [
    "tp, tn, fp, fn = compute_confusion_matrix( loans_opt_1_dvt, predictions, \"loan_status\" )\n"
   ]
  },
  {
   "cell_type": "code",
   "execution_count": 248,
   "metadata": {},
   "outputs": [
    {
     "name": "stdout",
     "output_type": "stream",
     "text": [
      "True Positive Rate: 0.5825841651683303 \n",
      "\n",
      "False Positive Rate: 0.33172541743970313 \n",
      "\n",
      "Precision: 0.913123754919586 \n",
      "\n"
     ]
    }
   ],
   "source": [
    "compute_tpr( tp, fn )\n",
    "\n",
    "compute_fpr( fp, tn )\n",
    "\n",
    "compute_precision( tp, fp )\n"
   ]
  },
  {
   "cell_type": "code",
   "execution_count": 249,
   "metadata": {},
   "outputs": [
    {
     "name": "stdout",
     "output_type": "stream",
     "text": [
      "Earnings: 19,979,322 \n",
      "\n",
      "Losses: 19,603,375 \n",
      "\n",
      "Net profit: 375,947\n"
     ]
    }
   ],
   "source": [
    "compute_net_profit( loans_opt_1_dvt, predictions, \"loan_status\" )\n"
   ]
  },
  {
   "cell_type": "markdown",
   "metadata": {},
   "source": [
    "#### Parameters' Tweaking:\n",
    "\n",
    "_min_samples_leaf_ = 15\n",
    "\n",
    "_min_samples_split_ = 5\n",
    "\n",
    "_max_depth_ = __10__"
   ]
  },
  {
   "cell_type": "code",
   "execution_count": 250,
   "metadata": {},
   "outputs": [
    {
     "name": "stdout",
     "output_type": "stream",
     "text": [
      "RandomForestClassifier(bootstrap=True, ccp_alpha=0.0,\n",
      "                       class_weight={0: 10, 1: 1}, criterion='gini',\n",
      "                       max_depth=10, max_features='auto', max_leaf_nodes=None,\n",
      "                       max_samples=None, min_impurity_decrease=0.0,\n",
      "                       min_impurity_split=None, min_samples_leaf=15,\n",
      "                       min_samples_split=5, min_weight_fraction_leaf=0.0,\n",
      "                       n_estimators=10, n_jobs=None, oob_score=False,\n",
      "                       random_state=1, verbose=0, warm_start=False)\n"
     ]
    }
   ],
   "source": [
    "penalty = {\n",
    "    0: 10,\n",
    "    1: 1\n",
    "}\n",
    "\n",
    "\n",
    "rf = RandomForestClassifier( n_estimators=10, random_state=1, class_weight=penalty, \\\n",
    "                               min_samples_leaf=15, min_samples_split=5, max_depth=10 )\n",
    "\n",
    "\n",
    "predictions = cross_val_predict( rf, features, target, cv=10 )\n",
    "\n",
    "\n",
    "predictions = pd.Series( predictions, index=loans_opt_1_dvt.index )\n",
    "\n",
    "\n",
    "print(rf)\n"
   ]
  },
  {
   "cell_type": "code",
   "execution_count": 251,
   "metadata": {},
   "outputs": [
    {
     "name": "stdout",
     "output_type": "stream",
     "text": [
      "> False Positives: 1109 \n",
      "\n",
      "> True Positives: 14303 \n",
      "\n",
      "> False Negatives: 17955 \n",
      "\n",
      "> True Negatives: 4281 \n",
      "\n"
     ]
    }
   ],
   "source": [
    "tp, tn, fp, fn = compute_confusion_matrix( loans_opt_1_dvt, predictions, \"loan_status\" )\n"
   ]
  },
  {
   "cell_type": "code",
   "execution_count": 252,
   "metadata": {},
   "outputs": [
    {
     "name": "stdout",
     "output_type": "stream",
     "text": [
      "True Positive Rate: 0.4433938867877736 \n",
      "\n",
      "False Positive Rate: 0.20575139146567717 \n",
      "\n",
      "Precision: 0.9280430833117052 \n",
      "\n"
     ]
    }
   ],
   "source": [
    "compute_tpr( tp, fn )\n",
    "\n",
    "compute_fpr( fp, tn )\n",
    "\n",
    "compute_precision( tp, fp )\n"
   ]
  },
  {
   "cell_type": "code",
   "execution_count": 253,
   "metadata": {},
   "outputs": [
    {
     "name": "stdout",
     "output_type": "stream",
     "text": [
      "Earnings: 13,929,520 \n",
      "\n",
      "Losses: 12,195,750 \n",
      "\n",
      "Net profit: 1,733,770\n"
     ]
    }
   ],
   "source": [
    "compute_net_profit( loans_opt_1_dvt, predictions, \"loan_status\" )\n"
   ]
  },
  {
   "cell_type": "markdown",
   "metadata": {},
   "source": [
    "#### Parameters' Tweaking:\n",
    "\n",
    "_min_samples_leaf_ = 15\n",
    "\n",
    "_min_samples_split_ = 5\n",
    "\n",
    "_max_depth_ = __5__"
   ]
  },
  {
   "cell_type": "code",
   "execution_count": 254,
   "metadata": {},
   "outputs": [
    {
     "name": "stdout",
     "output_type": "stream",
     "text": [
      "RandomForestClassifier(bootstrap=True, ccp_alpha=0.0,\n",
      "                       class_weight={0: 10, 1: 1}, criterion='gini',\n",
      "                       max_depth=5, max_features='auto', max_leaf_nodes=None,\n",
      "                       max_samples=None, min_impurity_decrease=0.0,\n",
      "                       min_impurity_split=None, min_samples_leaf=15,\n",
      "                       min_samples_split=5, min_weight_fraction_leaf=0.0,\n",
      "                       n_estimators=10, n_jobs=None, oob_score=False,\n",
      "                       random_state=1, verbose=0, warm_start=False)\n"
     ]
    }
   ],
   "source": [
    "penalty = {\n",
    "    0: 10,\n",
    "    1: 1\n",
    "}\n",
    "\n",
    "\n",
    "rf = RandomForestClassifier( n_estimators=10, random_state=1, class_weight=penalty, \\\n",
    "                               min_samples_leaf=15, min_samples_split=5, max_depth=5 )\n",
    "\n",
    "\n",
    "predictions = cross_val_predict( rf, features, target, cv=10 )\n",
    "\n",
    "\n",
    "predictions = pd.Series( predictions, index=loans_opt_1_dvt.index )\n",
    "\n",
    "\n",
    "print(rf)\n"
   ]
  },
  {
   "cell_type": "code",
   "execution_count": 255,
   "metadata": {},
   "outputs": [
    {
     "name": "stdout",
     "output_type": "stream",
     "text": [
      "> False Positives: 415 \n",
      "\n",
      "> True Positives: 7992 \n",
      "\n",
      "> False Negatives: 24266 \n",
      "\n",
      "> True Negatives: 4975 \n",
      "\n"
     ]
    }
   ],
   "source": [
    "tp, tn, fp, fn = compute_confusion_matrix( loans_opt_1_dvt, predictions, \"loan_status\" )\n"
   ]
  },
  {
   "cell_type": "code",
   "execution_count": 256,
   "metadata": {},
   "outputs": [
    {
     "name": "stdout",
     "output_type": "stream",
     "text": [
      "True Positive Rate: 0.247752495504991 \n",
      "\n",
      "False Positive Rate: 0.07699443413729128 \n",
      "\n",
      "Precision: 0.9506363744498633 \n",
      "\n"
     ]
    }
   ],
   "source": [
    "compute_tpr( tp, fn )\n",
    "\n",
    "compute_fpr( fp, tn )\n",
    "\n",
    "compute_precision( tp, fp )\n"
   ]
  },
  {
   "cell_type": "code",
   "execution_count": 257,
   "metadata": {
    "scrolled": true
   },
   "outputs": [
    {
     "name": "stdout",
     "output_type": "stream",
     "text": [
      "Earnings: 6,084,760 \n",
      "\n",
      "Losses: 4,095,675 \n",
      "\n",
      "Net profit: 1,989,085\n"
     ]
    }
   ],
   "source": [
    "compute_net_profit( loans_opt_1_dvt, predictions, \"loan_status\" )\n"
   ]
  },
  {
   "cell_type": "markdown",
   "metadata": {},
   "source": [
    "This is the highest net profit observed so far for random forest (see above cell)."
   ]
  },
  {
   "cell_type": "markdown",
   "metadata": {},
   "source": [
    "#### Penalty = 11:"
   ]
  },
  {
   "cell_type": "code",
   "execution_count": 262,
   "metadata": {},
   "outputs": [
    {
     "name": "stdout",
     "output_type": "stream",
     "text": [
      "RandomForestClassifier(bootstrap=True, ccp_alpha=0.0,\n",
      "                       class_weight={0: 11, 1: 1}, criterion='gini',\n",
      "                       max_depth=5, max_features='auto', max_leaf_nodes=None,\n",
      "                       max_samples=None, min_impurity_decrease=0.0,\n",
      "                       min_impurity_split=None, min_samples_leaf=15,\n",
      "                       min_samples_split=5, min_weight_fraction_leaf=0.0,\n",
      "                       n_estimators=10, n_jobs=None, oob_score=False,\n",
      "                       random_state=1, verbose=0, warm_start=False)\n"
     ]
    }
   ],
   "source": [
    "penalty = {\n",
    "    0: 11,\n",
    "    1: 1\n",
    "}\n",
    "\n",
    "\n",
    "rf = RandomForestClassifier( n_estimators=10, random_state=1, class_weight=penalty, \\\n",
    "                               min_samples_leaf=15, min_samples_split=5, max_depth=5 )\n",
    "\n",
    "\n",
    "predictions = cross_val_predict( rf, features, target, cv=10 )\n",
    "\n",
    "\n",
    "predictions = pd.Series( predictions, index=loans_opt_1_dvt.index )\n",
    "\n",
    "\n",
    "print(rf)\n"
   ]
  },
  {
   "cell_type": "code",
   "execution_count": 263,
   "metadata": {},
   "outputs": [
    {
     "name": "stdout",
     "output_type": "stream",
     "text": [
      "> False Positives: 303 \n",
      "\n",
      "> True Positives: 6443 \n",
      "\n",
      "> False Negatives: 25815 \n",
      "\n",
      "> True Negatives: 5087 \n",
      "\n"
     ]
    }
   ],
   "source": [
    "tp, tn, fp, fn = compute_confusion_matrix( loans_opt_1_dvt, predictions, \"loan_status\" )\n"
   ]
  },
  {
   "cell_type": "code",
   "execution_count": 264,
   "metadata": {},
   "outputs": [
    {
     "name": "stdout",
     "output_type": "stream",
     "text": [
      "True Positive Rate: 0.19973339946679894 \n",
      "\n",
      "False Positive Rate: 0.056215213358070504 \n",
      "\n",
      "Precision: 0.9550844945152683 \n",
      "\n"
     ]
    }
   ],
   "source": [
    "compute_tpr( tp, fn )\n",
    "\n",
    "compute_fpr( fp, tn )\n",
    "\n",
    "compute_precision( tp, fp )\n"
   ]
  },
  {
   "cell_type": "code",
   "execution_count": 265,
   "metadata": {
    "scrolled": true
   },
   "outputs": [
    {
     "name": "stdout",
     "output_type": "stream",
     "text": [
      "Earnings: 4,644,553 \n",
      "\n",
      "Losses: 2,952,200 \n",
      "\n",
      "Net profit: 1,692,353\n"
     ]
    }
   ],
   "source": [
    "compute_net_profit( loans_opt_1_dvt, predictions, \"loan_status\" )\n"
   ]
  },
  {
   "cell_type": "markdown",
   "metadata": {},
   "source": [
    "By increasing the penalty from `10` to `11` we observe a decrease in the net profit from 1,989,085 to 1,692,353 USD."
   ]
  },
  {
   "cell_type": "markdown",
   "metadata": {},
   "source": [
    "### Important Note (conclusion):\n",
    "\n",
    "Overall, the random forest model does not perform better than the logistic regression one.\n",
    "\n",
    "The highest __net profit__ that resulted from a random forest model (using option 1 dataframe) was:  1,989,085 USD\n",
    "\n",
    "* The logistic regression model (without RFECV and Lasso) had a net profit of 3,195,040 USD"
   ]
  },
  {
   "cell_type": "markdown",
   "metadata": {},
   "source": [
    "### > Option 2:"
   ]
  },
  {
   "cell_type": "code",
   "execution_count": 266,
   "metadata": {},
   "outputs": [
    {
     "name": "stdout",
     "output_type": "stream",
     "text": [
      "RandomForestClassifier(bootstrap=True, ccp_alpha=0.0,\n",
      "                       class_weight={0: 10, 1: 1}, criterion='gini',\n",
      "                       max_depth=5, max_features='auto', max_leaf_nodes=None,\n",
      "                       max_samples=None, min_impurity_decrease=0.0,\n",
      "                       min_impurity_split=None, min_samples_leaf=15,\n",
      "                       min_samples_split=5, min_weight_fraction_leaf=0.0,\n",
      "                       n_estimators=10, n_jobs=None, oob_score=False,\n",
      "                       random_state=1, verbose=0, warm_start=False)\n"
     ]
    }
   ],
   "source": [
    "penalty = {\n",
    "    0: 10,\n",
    "    1: 1\n",
    "}\n",
    "\n",
    "\n",
    "rf = RandomForestClassifier( n_estimators=10, random_state=1, class_weight=penalty, \\\n",
    "                               min_samples_leaf=15, min_samples_split=5, max_depth=5 )\n",
    "\n",
    "\n",
    "predictions = cross_val_predict( rf, features_opt_2, target_opt_2, cv=10 )\n",
    "\n",
    "\n",
    "predictions = pd.Series( predictions, index=loans_opt_2_dvt.index )\n",
    "\n",
    "\n",
    "print(rf)\n"
   ]
  },
  {
   "cell_type": "code",
   "execution_count": 267,
   "metadata": {},
   "outputs": [
    {
     "name": "stdout",
     "output_type": "stream",
     "text": [
      "> False Positives: 378 \n",
      "\n",
      "> True Positives: 7506 \n",
      "\n",
      "> False Negatives: 24752 \n",
      "\n",
      "> True Negatives: 5012 \n",
      "\n"
     ]
    }
   ],
   "source": [
    "tp, tn, fp, fn = compute_confusion_matrix( loans_opt_2_dvt, predictions, \"loan_status\" )\n"
   ]
  },
  {
   "cell_type": "code",
   "execution_count": 268,
   "metadata": {},
   "outputs": [
    {
     "name": "stdout",
     "output_type": "stream",
     "text": [
      "True Positive Rate: 0.23268646537293075 \n",
      "\n",
      "False Positive Rate: 0.07012987012987013 \n",
      "\n",
      "Precision: 0.952054794520548 \n",
      "\n"
     ]
    }
   ],
   "source": [
    "compute_tpr( tp, fn )\n",
    "\n",
    "compute_fpr( fp, tn )\n",
    "\n",
    "compute_precision( tp, fp )\n"
   ]
  },
  {
   "cell_type": "code",
   "execution_count": 269,
   "metadata": {
    "scrolled": false
   },
   "outputs": [
    {
     "name": "stdout",
     "output_type": "stream",
     "text": [
      "Earnings: 5,508,053 \n",
      "\n",
      "Losses: 3,553,800 \n",
      "\n",
      "Net profit: 1,954,253\n"
     ]
    }
   ],
   "source": [
    "compute_net_profit( loans_opt_2_dvt, predictions, \"loan_status\" )\n"
   ]
  },
  {
   "cell_type": "markdown",
   "metadata": {},
   "source": [
    "In logistic regression, we observed an improvement when using the option 2 dataframe instead of the option 1 one.\n",
    "\n",
    "Here, in random forest, we do not see that improvement.\n",
    "\n",
    "* Option 1 net profit: 1,989,085\n",
    "\n",
    "* Option 2 net profit (above cell): 1,954,253"
   ]
  },
  {
   "cell_type": "markdown",
   "metadata": {},
   "source": [
    "### Feature Selection > Embedded Method: Tree-based Feature Importance"
   ]
  },
  {
   "cell_type": "markdown",
   "metadata": {},
   "source": [
    "### > Option 1:"
   ]
  },
  {
   "cell_type": "code",
   "execution_count": 270,
   "metadata": {
    "scrolled": true
   },
   "outputs": [
    {
     "data": {
      "text/plain": [
       "(37648, 33)"
      ]
     },
     "execution_count": 270,
     "metadata": {},
     "output_type": "execute_result"
    }
   ],
   "source": [
    "loans_opt_1_dvt_norm.shape"
   ]
  },
  {
   "cell_type": "code",
   "execution_count": 271,
   "metadata": {},
   "outputs": [
    {
     "name": "stdout",
     "output_type": "stream",
     "text": [
      "32\n"
     ]
    }
   ],
   "source": [
    "cols = loans_opt_1_dvt_norm.columns\n",
    "\n",
    "train_cols = cols.drop(\"loan_status\")\n",
    "\n",
    "print( len(train_cols) )\n"
   ]
  },
  {
   "cell_type": "code",
   "execution_count": 272,
   "metadata": {},
   "outputs": [],
   "source": [
    "features = loans_opt_1_dvt_norm[train_cols]\n",
    "\n",
    "target = loans_opt_1_dvt_norm[\"loan_status\"]\n"
   ]
  },
  {
   "cell_type": "code",
   "execution_count": 273,
   "metadata": {},
   "outputs": [],
   "source": [
    "penalty = {\n",
    "    0: 10,\n",
    "    1: 1\n",
    "}\n",
    "\n",
    "\n",
    "rf = RandomForestClassifier( n_estimators=10, random_state=1, class_weight=penalty, \\\n",
    "                               min_samples_leaf=15, min_samples_split=5, max_depth=5 )\n",
    "\n",
    "\n",
    "#predictions = cross_val_predict( rf, features, target, cv=10 )\n",
    "\n",
    "\n",
    "#predictions = pd.Series( predictions, index=loans_opt_1_dvt.index )\n",
    "\n",
    "\n",
    "#print(rf)\n"
   ]
  },
  {
   "cell_type": "code",
   "execution_count": 274,
   "metadata": {},
   "outputs": [
    {
     "data": {
      "text/plain": [
       "RandomForestClassifier(bootstrap=True, ccp_alpha=0.0,\n",
       "                       class_weight={0: 10, 1: 1}, criterion='gini',\n",
       "                       max_depth=5, max_features='auto', max_leaf_nodes=None,\n",
       "                       max_samples=None, min_impurity_decrease=0.0,\n",
       "                       min_impurity_split=None, min_samples_leaf=15,\n",
       "                       min_samples_split=5, min_weight_fraction_leaf=0.0,\n",
       "                       n_estimators=10, n_jobs=None, oob_score=False,\n",
       "                       random_state=1, verbose=0, warm_start=False)"
      ]
     },
     "execution_count": 274,
     "metadata": {},
     "output_type": "execute_result"
    }
   ],
   "source": [
    "rf.fit( features, target )"
   ]
  },
  {
   "cell_type": "code",
   "execution_count": 275,
   "metadata": {},
   "outputs": [
    {
     "data": {
      "text/plain": [
       "array([0.01070125, 0.18081234, 0.3203591 , 0.02469845, 0.00514965,\n",
       "       0.08208532, 0.02135957, 0.00098966, 0.03835151, 0.00776183,\n",
       "       0.02227139, 0.02115207, 0.16541329, 0.01075991, 0.        ,\n",
       "       0.        , 0.00197621, 0.00148356, 0.00067443, 0.01416398,\n",
       "       0.        , 0.        , 0.        , 0.        , 0.00399401,\n",
       "       0.        , 0.        , 0.00141012, 0.        , 0.06152383,\n",
       "       0.        , 0.00290853])"
      ]
     },
     "execution_count": 275,
     "metadata": {},
     "output_type": "execute_result"
    }
   ],
   "source": [
    "rf.feature_importances_"
   ]
  },
  {
   "cell_type": "code",
   "execution_count": 276,
   "metadata": {},
   "outputs": [],
   "source": [
    "features_scores = pd.Series( rf.feature_importances_, index=features.columns )"
   ]
  },
  {
   "cell_type": "code",
   "execution_count": 278,
   "metadata": {
    "scrolled": true
   },
   "outputs": [
    {
     "data": {
      "text/plain": [
       "home_ownership_OWN                     0.000000\n",
       "purpose_renewable_energy               0.000000\n",
       "purpose_moving                         0.000000\n",
       "purpose_medical                        0.000000\n",
       "purpose_house                          0.000000\n",
       "purpose_home_improvement               0.000000\n",
       "purpose_educational                    0.000000\n",
       "purpose_debt_consolidation             0.000000\n",
       "purpose_vacation                       0.000000\n",
       "home_ownership_OTHER                   0.000000\n",
       "verification_status_Verified           0.000674\n",
       "delinq_2yrs                            0.000990\n",
       "purpose_other                          0.001410\n",
       "verification_status_Source Verified    0.001484\n",
       "home_ownership_RENT                    0.001976\n",
       "purpose_wedding                        0.002909\n",
       "purpose_major_purchase                 0.003994\n",
       "emp_length                             0.005150\n",
       "open_acc                               0.007762\n",
       "loan_amnt                              0.010701\n",
       "total_acc                              0.010760\n",
       "purpose_credit_card                    0.014164\n",
       "revol_bal                              0.021152\n",
       "dti                                    0.021360\n",
       "pub_rec                                0.022271\n",
       "installment                            0.024698\n",
       "inq_last_6mths                         0.038352\n",
       "purpose_small_business                 0.061524\n",
       "annual_inc                             0.082085\n",
       "revol_util                             0.165413\n",
       "term                                   0.180812\n",
       "int_rate                               0.320359\n",
       "dtype: float64"
      ]
     },
     "execution_count": 278,
     "metadata": {},
     "output_type": "execute_result"
    }
   ],
   "source": [
    "features_scores.sort_values()"
   ]
  },
  {
   "cell_type": "code",
   "execution_count": 279,
   "metadata": {
    "scrolled": true
   },
   "outputs": [
    {
     "name": "stdout",
     "output_type": "stream",
     "text": [
      "loan_amnt                              0.010701\n",
      "term                                   0.180812\n",
      "int_rate                               0.320359\n",
      "installment                            0.024698\n",
      "emp_length                             0.005150\n",
      "annual_inc                             0.082085\n",
      "dti                                    0.021360\n",
      "delinq_2yrs                            0.000990\n",
      "inq_last_6mths                         0.038352\n",
      "open_acc                               0.007762\n",
      "pub_rec                                0.022271\n",
      "revol_bal                              0.021152\n",
      "revol_util                             0.165413\n",
      "total_acc                              0.010760\n",
      "home_ownership_RENT                    0.001976\n",
      "verification_status_Source Verified    0.001484\n",
      "verification_status_Verified           0.000674\n",
      "purpose_credit_card                    0.014164\n",
      "purpose_major_purchase                 0.003994\n",
      "purpose_other                          0.001410\n",
      "purpose_small_business                 0.061524\n",
      "purpose_wedding                        0.002909\n",
      "dtype: float64\n",
      "<class 'pandas.core.series.Series'>\n"
     ]
    }
   ],
   "source": [
    "optimized_columns_bool = features_scores != 0\n",
    "\n",
    "optimized_columns_s = features_scores[optimized_columns_bool]\n",
    "\n",
    "print( optimized_columns_s )\n",
    "\n",
    "print( type( optimized_columns_s ) )\n"
   ]
  },
  {
   "cell_type": "code",
   "execution_count": 280,
   "metadata": {},
   "outputs": [
    {
     "data": {
      "text/plain": [
       "22"
      ]
     },
     "execution_count": 280,
     "metadata": {},
     "output_type": "execute_result"
    }
   ],
   "source": [
    "len( optimized_columns_s )\n"
   ]
  },
  {
   "cell_type": "code",
   "execution_count": 281,
   "metadata": {},
   "outputs": [
    {
     "data": {
      "text/plain": [
       "Index(['loan_amnt', 'term', 'int_rate', 'installment', 'emp_length',\n",
       "       'annual_inc', 'dti', 'delinq_2yrs', 'inq_last_6mths', 'open_acc',\n",
       "       'pub_rec', 'revol_bal', 'revol_util', 'total_acc',\n",
       "       'home_ownership_RENT', 'verification_status_Source Verified',\n",
       "       'verification_status_Verified', 'purpose_credit_card',\n",
       "       'purpose_major_purchase', 'purpose_other', 'purpose_small_business',\n",
       "       'purpose_wedding'],\n",
       "      dtype='object')"
      ]
     },
     "execution_count": 281,
     "metadata": {},
     "output_type": "execute_result"
    }
   ],
   "source": [
    "optimized_columns_s.index\n"
   ]
  },
  {
   "cell_type": "code",
   "execution_count": 282,
   "metadata": {},
   "outputs": [],
   "source": [
    "features_tree_based = loans_opt_1_dvt_norm[optimized_columns_s.index]\n"
   ]
  },
  {
   "cell_type": "code",
   "execution_count": 283,
   "metadata": {
    "scrolled": true
   },
   "outputs": [
    {
     "data": {
      "text/plain": [
       "(37648, 22)"
      ]
     },
     "execution_count": 283,
     "metadata": {},
     "output_type": "execute_result"
    }
   ],
   "source": [
    "features_tree_based.shape\n"
   ]
  },
  {
   "cell_type": "code",
   "execution_count": 284,
   "metadata": {},
   "outputs": [
    {
     "name": "stdout",
     "output_type": "stream",
     "text": [
      "RandomForestClassifier(bootstrap=True, ccp_alpha=0.0,\n",
      "                       class_weight={0: 10, 1: 1}, criterion='gini',\n",
      "                       max_depth=5, max_features='auto', max_leaf_nodes=None,\n",
      "                       max_samples=None, min_impurity_decrease=0.0,\n",
      "                       min_impurity_split=None, min_samples_leaf=15,\n",
      "                       min_samples_split=5, min_weight_fraction_leaf=0.0,\n",
      "                       n_estimators=10, n_jobs=None, oob_score=False,\n",
      "                       random_state=1, verbose=0, warm_start=False)\n"
     ]
    }
   ],
   "source": [
    "predictions = cross_val_predict( rf, features_tree_based, target, cv=10 )\n",
    "\n",
    "\n",
    "predictions = pd.Series( predictions, index=loans_opt_1_dvt.index )\n",
    "\n",
    "\n",
    "print(rf)\n"
   ]
  },
  {
   "cell_type": "code",
   "execution_count": 285,
   "metadata": {},
   "outputs": [
    {
     "name": "stdout",
     "output_type": "stream",
     "text": [
      "> False Positives: 528 \n",
      "\n",
      "> True Positives: 9081 \n",
      "\n",
      "> False Negatives: 23177 \n",
      "\n",
      "> True Negatives: 4862 \n",
      "\n"
     ]
    }
   ],
   "source": [
    "tp, tn, fp, fn = compute_confusion_matrix( loans_opt_1_dvt, predictions, \"loan_status\" )"
   ]
  },
  {
   "cell_type": "code",
   "execution_count": 286,
   "metadata": {},
   "outputs": [
    {
     "name": "stdout",
     "output_type": "stream",
     "text": [
      "True Positive Rate: 0.281511563023126 \n",
      "\n",
      "False Positive Rate: 0.09795918367346938 \n",
      "\n",
      "Precision: 0.9450515142054324 \n",
      "\n"
     ]
    }
   ],
   "source": [
    "compute_tpr( tp, fn )\n",
    "\n",
    "compute_fpr( fp, tn )\n",
    "\n",
    "compute_precision( tp, fp )\n"
   ]
  },
  {
   "cell_type": "code",
   "execution_count": 287,
   "metadata": {},
   "outputs": [
    {
     "name": "stdout",
     "output_type": "stream",
     "text": [
      "Earnings: 7,139,491 \n",
      "\n",
      "Losses: 5,378,100 \n",
      "\n",
      "Net profit: 1,761,391\n"
     ]
    }
   ],
   "source": [
    "compute_net_profit( loans_opt_1_dvt, predictions, \"loan_status\" )"
   ]
  },
  {
   "cell_type": "markdown",
   "metadata": {},
   "source": [
    "We can observe a decrease of 227,694 USD.\n",
    "\n",
    "The net profit without _tree-based feature importance_ (option 1) was: 1,989,085"
   ]
  },
  {
   "cell_type": "markdown",
   "metadata": {},
   "source": [
    "### > Option 2:"
   ]
  },
  {
   "cell_type": "code",
   "execution_count": 288,
   "metadata": {},
   "outputs": [
    {
     "data": {
      "text/plain": [
       "RandomForestClassifier(bootstrap=True, ccp_alpha=0.0,\n",
       "                       class_weight={0: 10, 1: 1}, criterion='gini',\n",
       "                       max_depth=5, max_features='auto', max_leaf_nodes=None,\n",
       "                       max_samples=None, min_impurity_decrease=0.0,\n",
       "                       min_impurity_split=None, min_samples_leaf=15,\n",
       "                       min_samples_split=5, min_weight_fraction_leaf=0.0,\n",
       "                       n_estimators=10, n_jobs=None, oob_score=False,\n",
       "                       random_state=1, verbose=0, warm_start=False)"
      ]
     },
     "execution_count": 288,
     "metadata": {},
     "output_type": "execute_result"
    }
   ],
   "source": [
    "rf.fit( features_opt_2, target_opt_2 )\n"
   ]
  },
  {
   "cell_type": "code",
   "execution_count": 289,
   "metadata": {
    "scrolled": true
   },
   "outputs": [
    {
     "data": {
      "text/plain": [
       "array([2.74013044e-02, 1.98191624e-01, 3.22708613e-01, 2.04099392e-02,\n",
       "       5.39224120e-03, 6.55160811e-02, 1.27196893e-02, 6.53547046e-04,\n",
       "       7.10899737e-02, 5.02789416e-03, 1.12684242e-02, 2.39200659e-02,\n",
       "       9.92559614e-02, 2.48610267e-02, 8.19501838e-04, 8.26993996e-04,\n",
       "       4.61969180e-03, 6.41671494e-04, 1.11862393e-02, 1.79137041e-02,\n",
       "       8.94247978e-04, 2.22513529e-04, 2.68773693e-03, 0.00000000e+00,\n",
       "       8.23050873e-03, 6.89627862e-04, 0.00000000e+00, 1.14025322e-03,\n",
       "       0.00000000e+00, 3.06635081e-02, 0.00000000e+00, 3.43292271e-04,\n",
       "       0.00000000e+00, 9.24461414e-05, 0.00000000e+00, 1.70215499e-03,\n",
       "       1.94419120e-03, 5.78433641e-04, 4.99456781e-03, 0.00000000e+00,\n",
       "       7.85293008e-03, 3.64386720e-04, 0.00000000e+00, 0.00000000e+00,\n",
       "       0.00000000e+00, 0.00000000e+00, 0.00000000e+00, 0.00000000e+00,\n",
       "       0.00000000e+00, 8.82313141e-04, 2.38247009e-04, 0.00000000e+00,\n",
       "       0.00000000e+00, 0.00000000e+00, 0.00000000e+00, 0.00000000e+00,\n",
       "       0.00000000e+00, 0.00000000e+00, 0.00000000e+00, 0.00000000e+00,\n",
       "       0.00000000e+00, 1.70211476e-03, 0.00000000e+00, 6.05227782e-04,\n",
       "       1.76700014e-03, 0.00000000e+00, 0.00000000e+00, 0.00000000e+00,\n",
       "       1.20188631e-03, 0.00000000e+00, 1.28264513e-03, 0.00000000e+00,\n",
       "       0.00000000e+00, 1.79151019e-03, 0.00000000e+00, 9.68703869e-05,\n",
       "       0.00000000e+00, 2.38262943e-04, 0.00000000e+00, 1.29566004e-04,\n",
       "       3.23936873e-03])"
      ]
     },
     "execution_count": 289,
     "metadata": {},
     "output_type": "execute_result"
    }
   ],
   "source": [
    "rf.feature_importances_\n"
   ]
  },
  {
   "cell_type": "code",
   "execution_count": 290,
   "metadata": {},
   "outputs": [],
   "source": [
    "features_scores = pd.Series( rf.feature_importances_, index=features_opt_2.columns )\n"
   ]
  },
  {
   "cell_type": "code",
   "execution_count": 291,
   "metadata": {},
   "outputs": [
    {
     "data": {
      "text/plain": [
       "loan_amnt        0.027401\n",
       "term             0.198192\n",
       "int_rate         0.322709\n",
       "installment      0.020410\n",
       "emp_length       0.005392\n",
       "                   ...   \n",
       "addr_state_VT    0.000000\n",
       "addr_state_WA    0.000238\n",
       "addr_state_WI    0.000000\n",
       "addr_state_WV    0.000130\n",
       "addr_state_WY    0.003239\n",
       "Length: 81, dtype: float64"
      ]
     },
     "execution_count": 291,
     "metadata": {},
     "output_type": "execute_result"
    }
   ],
   "source": [
    "features_scores\n"
   ]
  },
  {
   "cell_type": "code",
   "execution_count": 292,
   "metadata": {},
   "outputs": [
    {
     "data": {
      "text/plain": [
       "addr_state_AL               0.000000\n",
       "purpose_moving              0.000000\n",
       "addr_state_MN               0.000000\n",
       "purpose_renewable_energy    0.000000\n",
       "addr_state_OH               0.000000\n",
       "                              ...   \n",
       "annual_inc                  0.065516\n",
       "inq_last_6mths              0.071090\n",
       "revol_util                  0.099256\n",
       "term                        0.198192\n",
       "int_rate                    0.322709\n",
       "Length: 81, dtype: float64"
      ]
     },
     "execution_count": 292,
     "metadata": {},
     "output_type": "execute_result"
    }
   ],
   "source": [
    "features_scores.sort_values()\n"
   ]
  },
  {
   "cell_type": "code",
   "execution_count": 293,
   "metadata": {
    "scrolled": true
   },
   "outputs": [
    {
     "name": "stdout",
     "output_type": "stream",
     "text": [
      "loan_amnt                              0.027401\n",
      "term                                   0.198192\n",
      "int_rate                               0.322709\n",
      "installment                            0.020410\n",
      "emp_length                             0.005392\n",
      "annual_inc                             0.065516\n",
      "dti                                    0.012720\n",
      "delinq_2yrs                            0.000654\n",
      "inq_last_6mths                         0.071090\n",
      "open_acc                               0.005028\n",
      "pub_rec                                0.011268\n",
      "revol_bal                              0.023920\n",
      "revol_util                             0.099256\n",
      "total_acc                              0.024861\n",
      "home_ownership_OTHER                   0.000820\n",
      "home_ownership_OWN                     0.000827\n",
      "home_ownership_RENT                    0.004620\n",
      "verification_status_Source Verified    0.000642\n",
      "verification_status_Verified           0.011186\n",
      "purpose_credit_card                    0.017914\n",
      "purpose_debt_consolidation             0.000894\n",
      "purpose_educational                    0.000223\n",
      "purpose_home_improvement               0.002688\n",
      "purpose_major_purchase                 0.008231\n",
      "purpose_medical                        0.000690\n",
      "purpose_other                          0.001140\n",
      "purpose_small_business                 0.030664\n",
      "purpose_wedding                        0.000343\n",
      "addr_state_AR                          0.000092\n",
      "addr_state_CA                          0.001702\n",
      "addr_state_CO                          0.001944\n",
      "addr_state_CT                          0.000578\n",
      "addr_state_DC                          0.004995\n",
      "addr_state_FL                          0.007853\n",
      "addr_state_GA                          0.000364\n",
      "addr_state_LA                          0.000882\n",
      "addr_state_MA                          0.000238\n",
      "addr_state_NJ                          0.001702\n",
      "addr_state_NV                          0.000605\n",
      "addr_state_NY                          0.001767\n",
      "addr_state_PA                          0.001202\n",
      "addr_state_SC                          0.001283\n",
      "addr_state_TX                          0.001792\n",
      "addr_state_VA                          0.000097\n",
      "addr_state_WA                          0.000238\n",
      "addr_state_WV                          0.000130\n",
      "addr_state_WY                          0.003239\n",
      "dtype: float64\n",
      "<class 'pandas.core.series.Series'>\n"
     ]
    }
   ],
   "source": [
    "optimized_columns_bool = features_scores != 0\n",
    "\n",
    "optimized_columns_s = features_scores[optimized_columns_bool]\n",
    "\n",
    "print( optimized_columns_s )\n",
    "\n",
    "print( type( optimized_columns_s ) )\n"
   ]
  },
  {
   "cell_type": "code",
   "execution_count": 294,
   "metadata": {},
   "outputs": [
    {
     "data": {
      "text/plain": [
       "47"
      ]
     },
     "execution_count": 294,
     "metadata": {},
     "output_type": "execute_result"
    }
   ],
   "source": [
    "len( optimized_columns_s )\n"
   ]
  },
  {
   "cell_type": "code",
   "execution_count": 295,
   "metadata": {},
   "outputs": [],
   "source": [
    "features_tree_based_option2 = loans_opt_2_dvt_norm[optimized_columns_s.index]\n"
   ]
  },
  {
   "cell_type": "code",
   "execution_count": 296,
   "metadata": {},
   "outputs": [
    {
     "data": {
      "text/plain": [
       "(37648, 47)"
      ]
     },
     "execution_count": 296,
     "metadata": {},
     "output_type": "execute_result"
    }
   ],
   "source": [
    "features_tree_based_option2.shape\n"
   ]
  },
  {
   "cell_type": "code",
   "execution_count": 297,
   "metadata": {},
   "outputs": [
    {
     "name": "stdout",
     "output_type": "stream",
     "text": [
      "RandomForestClassifier(bootstrap=True, ccp_alpha=0.0,\n",
      "                       class_weight={0: 10, 1: 1}, criterion='gini',\n",
      "                       max_depth=5, max_features='auto', max_leaf_nodes=None,\n",
      "                       max_samples=None, min_impurity_decrease=0.0,\n",
      "                       min_impurity_split=None, min_samples_leaf=15,\n",
      "                       min_samples_split=5, min_weight_fraction_leaf=0.0,\n",
      "                       n_estimators=10, n_jobs=None, oob_score=False,\n",
      "                       random_state=1, verbose=0, warm_start=False)\n"
     ]
    }
   ],
   "source": [
    "predictions = cross_val_predict( rf, features_tree_based_option2, target_opt_2, cv=10 )\n",
    "\n",
    "\n",
    "predictions = pd.Series( predictions, index=loans_opt_2_dvt.index )\n",
    "\n",
    "\n",
    "print(rf)\n"
   ]
  },
  {
   "cell_type": "code",
   "execution_count": 299,
   "metadata": {},
   "outputs": [
    {
     "name": "stdout",
     "output_type": "stream",
     "text": [
      "> False Positives: 456 \n",
      "\n",
      "> True Positives: 8087 \n",
      "\n",
      "> False Negatives: 24171 \n",
      "\n",
      "> True Negatives: 4934 \n",
      "\n"
     ]
    }
   ],
   "source": [
    "tp, tn, fp, fn = compute_confusion_matrix( loans_opt_2_dvt, predictions, \"loan_status\" )\n"
   ]
  },
  {
   "cell_type": "code",
   "execution_count": 300,
   "metadata": {},
   "outputs": [
    {
     "name": "stdout",
     "output_type": "stream",
     "text": [
      "True Positive Rate: 0.2506975013950028 \n",
      "\n",
      "False Positive Rate: 0.08460111317254175 \n",
      "\n",
      "Precision: 0.9466229661711343 \n",
      "\n"
     ]
    }
   ],
   "source": [
    "compute_tpr( tp, fn )\n",
    "\n",
    "compute_fpr( fp, tn )\n",
    "\n",
    "compute_precision( tp, fp )\n"
   ]
  },
  {
   "cell_type": "code",
   "execution_count": 301,
   "metadata": {
    "scrolled": true
   },
   "outputs": [
    {
     "name": "stdout",
     "output_type": "stream",
     "text": [
      "Earnings: 5,784,023 \n",
      "\n",
      "Losses: 4,288,750 \n",
      "\n",
      "Net profit: 1,495,273\n"
     ]
    }
   ],
   "source": [
    "compute_net_profit( loans_opt_2_dvt, predictions, \"loan_status\" )\n"
   ]
  },
  {
   "cell_type": "markdown",
   "metadata": {},
   "source": [
    "We can observe a decrease of 458,980 USD.\n",
    "\n",
    "The net profit without _tree-based feature importance_ (option 2) was: 1,954,253\n",
    "\n",
    "### Conclusion:\n",
    "\n",
    "The logistic regression algorithm performs better than the random forest one."
   ]
  },
  {
   "cell_type": "markdown",
   "metadata": {},
   "source": [
    "## Under-sampling"
   ]
  },
  {
   "cell_type": "code",
   "execution_count": 302,
   "metadata": {
    "scrolled": true
   },
   "outputs": [
    {
     "data": {
      "text/plain": [
       "1    32258\n",
       "0     5390\n",
       "Name: loan_status, dtype: int64"
      ]
     },
     "execution_count": 302,
     "metadata": {},
     "output_type": "execute_result"
    }
   ],
   "source": [
    "loans_opt_1_dvt['loan_status'].value_counts(dropna=False)"
   ]
  },
  {
   "cell_type": "code",
   "execution_count": 303,
   "metadata": {
    "scrolled": true
   },
   "outputs": [
    {
     "data": {
      "text/plain": [
       "(32258, 33)"
      ]
     },
     "execution_count": 303,
     "metadata": {},
     "output_type": "execute_result"
    }
   ],
   "source": [
    "paid_loans_bool = loans_opt_1_dvt['loan_status'] == 1\n",
    "\n",
    "paid_loans = loans_opt_1_dvt[paid_loans_bool].copy()\n",
    "\n",
    "paid_loans.shape\n"
   ]
  },
  {
   "cell_type": "code",
   "execution_count": 304,
   "metadata": {},
   "outputs": [
    {
     "data": {
      "text/plain": [
       "(5390, 33)"
      ]
     },
     "execution_count": 304,
     "metadata": {},
     "output_type": "execute_result"
    }
   ],
   "source": [
    "non_paid_loans_bool = loans_opt_1_dvt['loan_status'] == 0\n",
    "\n",
    "non_paid_loans = loans_opt_1_dvt[non_paid_loans_bool].copy()\n",
    "\n",
    "non_paid_loans.shape\n"
   ]
  },
  {
   "cell_type": "code",
   "execution_count": 305,
   "metadata": {},
   "outputs": [
    {
     "data": {
      "text/plain": [
       "(5390, 33)"
      ]
     },
     "execution_count": 305,
     "metadata": {},
     "output_type": "execute_result"
    }
   ],
   "source": [
    "paid_loans_sample = paid_loans.sample( non_paid_loans.shape[0], random_state=1 )\n",
    "\n",
    "paid_loans_sample.shape\n"
   ]
  },
  {
   "cell_type": "code",
   "execution_count": 306,
   "metadata": {},
   "outputs": [
    {
     "data": {
      "text/html": [
       "<div>\n",
       "<style scoped>\n",
       "    .dataframe tbody tr th:only-of-type {\n",
       "        vertical-align: middle;\n",
       "    }\n",
       "\n",
       "    .dataframe tbody tr th {\n",
       "        vertical-align: top;\n",
       "    }\n",
       "\n",
       "    .dataframe thead th {\n",
       "        text-align: right;\n",
       "    }\n",
       "</style>\n",
       "<table border=\"1\" class=\"dataframe\">\n",
       "  <thead>\n",
       "    <tr style=\"text-align: right;\">\n",
       "      <th></th>\n",
       "      <th>loan_amnt</th>\n",
       "      <th>term</th>\n",
       "      <th>int_rate</th>\n",
       "      <th>installment</th>\n",
       "      <th>emp_length</th>\n",
       "      <th>annual_inc</th>\n",
       "      <th>loan_status</th>\n",
       "      <th>dti</th>\n",
       "      <th>delinq_2yrs</th>\n",
       "      <th>inq_last_6mths</th>\n",
       "      <th>open_acc</th>\n",
       "      <th>pub_rec</th>\n",
       "      <th>revol_bal</th>\n",
       "      <th>revol_util</th>\n",
       "      <th>total_acc</th>\n",
       "      <th>home_ownership_OTHER</th>\n",
       "      <th>home_ownership_OWN</th>\n",
       "      <th>home_ownership_RENT</th>\n",
       "      <th>verification_status_Source Verified</th>\n",
       "      <th>verification_status_Verified</th>\n",
       "      <th>purpose_credit_card</th>\n",
       "      <th>purpose_debt_consolidation</th>\n",
       "      <th>purpose_educational</th>\n",
       "      <th>purpose_home_improvement</th>\n",
       "      <th>purpose_house</th>\n",
       "      <th>purpose_major_purchase</th>\n",
       "      <th>purpose_medical</th>\n",
       "      <th>purpose_moving</th>\n",
       "      <th>purpose_other</th>\n",
       "      <th>purpose_renewable_energy</th>\n",
       "      <th>purpose_small_business</th>\n",
       "      <th>purpose_vacation</th>\n",
       "      <th>purpose_wedding</th>\n",
       "    </tr>\n",
       "  </thead>\n",
       "  <tbody>\n",
       "    <tr>\n",
       "      <th>12842</th>\n",
       "      <td>12000.0</td>\n",
       "      <td>36</td>\n",
       "      <td>10.99</td>\n",
       "      <td>392.81</td>\n",
       "      <td>6.0</td>\n",
       "      <td>72000.0</td>\n",
       "      <td>1</td>\n",
       "      <td>2.97</td>\n",
       "      <td>0.0</td>\n",
       "      <td>0.0</td>\n",
       "      <td>4.0</td>\n",
       "      <td>0.0</td>\n",
       "      <td>6375.0</td>\n",
       "      <td>35.4</td>\n",
       "      <td>9.0</td>\n",
       "      <td>0</td>\n",
       "      <td>0</td>\n",
       "      <td>1</td>\n",
       "      <td>1</td>\n",
       "      <td>0</td>\n",
       "      <td>0</td>\n",
       "      <td>0</td>\n",
       "      <td>0</td>\n",
       "      <td>0</td>\n",
       "      <td>0</td>\n",
       "      <td>0</td>\n",
       "      <td>0</td>\n",
       "      <td>0</td>\n",
       "      <td>1</td>\n",
       "      <td>0</td>\n",
       "      <td>0</td>\n",
       "      <td>0</td>\n",
       "      <td>0</td>\n",
       "    </tr>\n",
       "    <tr>\n",
       "      <th>14952</th>\n",
       "      <td>22000.0</td>\n",
       "      <td>60</td>\n",
       "      <td>13.49</td>\n",
       "      <td>506.11</td>\n",
       "      <td>5.0</td>\n",
       "      <td>150000.0</td>\n",
       "      <td>1</td>\n",
       "      <td>12.14</td>\n",
       "      <td>0.0</td>\n",
       "      <td>0.0</td>\n",
       "      <td>14.0</td>\n",
       "      <td>0.0</td>\n",
       "      <td>38064.0</td>\n",
       "      <td>59.0</td>\n",
       "      <td>36.0</td>\n",
       "      <td>0</td>\n",
       "      <td>0</td>\n",
       "      <td>1</td>\n",
       "      <td>1</td>\n",
       "      <td>0</td>\n",
       "      <td>0</td>\n",
       "      <td>1</td>\n",
       "      <td>0</td>\n",
       "      <td>0</td>\n",
       "      <td>0</td>\n",
       "      <td>0</td>\n",
       "      <td>0</td>\n",
       "      <td>0</td>\n",
       "      <td>0</td>\n",
       "      <td>0</td>\n",
       "      <td>0</td>\n",
       "      <td>0</td>\n",
       "      <td>0</td>\n",
       "    </tr>\n",
       "    <tr>\n",
       "      <th>9698</th>\n",
       "      <td>32500.0</td>\n",
       "      <td>36</td>\n",
       "      <td>9.99</td>\n",
       "      <td>911.42</td>\n",
       "      <td>6.0</td>\n",
       "      <td>65000.0</td>\n",
       "      <td>1</td>\n",
       "      <td>19.51</td>\n",
       "      <td>0.0</td>\n",
       "      <td>0.0</td>\n",
       "      <td>8.0</td>\n",
       "      <td>0.0</td>\n",
       "      <td>2524.0</td>\n",
       "      <td>18.7</td>\n",
       "      <td>28.0</td>\n",
       "      <td>0</td>\n",
       "      <td>0</td>\n",
       "      <td>1</td>\n",
       "      <td>0</td>\n",
       "      <td>1</td>\n",
       "      <td>0</td>\n",
       "      <td>1</td>\n",
       "      <td>0</td>\n",
       "      <td>0</td>\n",
       "      <td>0</td>\n",
       "      <td>0</td>\n",
       "      <td>0</td>\n",
       "      <td>0</td>\n",
       "      <td>0</td>\n",
       "      <td>0</td>\n",
       "      <td>0</td>\n",
       "      <td>0</td>\n",
       "      <td>0</td>\n",
       "    </tr>\n",
       "    <tr>\n",
       "      <th>36020</th>\n",
       "      <td>6000.0</td>\n",
       "      <td>36</td>\n",
       "      <td>17.58</td>\n",
       "      <td>215.66</td>\n",
       "      <td>2.0</td>\n",
       "      <td>48000.0</td>\n",
       "      <td>1</td>\n",
       "      <td>5.03</td>\n",
       "      <td>0.0</td>\n",
       "      <td>0.0</td>\n",
       "      <td>4.0</td>\n",
       "      <td>0.0</td>\n",
       "      <td>3881.0</td>\n",
       "      <td>55.4</td>\n",
       "      <td>6.0</td>\n",
       "      <td>0</td>\n",
       "      <td>0</td>\n",
       "      <td>1</td>\n",
       "      <td>0</td>\n",
       "      <td>0</td>\n",
       "      <td>0</td>\n",
       "      <td>0</td>\n",
       "      <td>0</td>\n",
       "      <td>0</td>\n",
       "      <td>0</td>\n",
       "      <td>0</td>\n",
       "      <td>0</td>\n",
       "      <td>0</td>\n",
       "      <td>0</td>\n",
       "      <td>0</td>\n",
       "      <td>1</td>\n",
       "      <td>0</td>\n",
       "      <td>0</td>\n",
       "    </tr>\n",
       "    <tr>\n",
       "      <th>24108</th>\n",
       "      <td>3900.0</td>\n",
       "      <td>36</td>\n",
       "      <td>10.36</td>\n",
       "      <td>126.51</td>\n",
       "      <td>0.5</td>\n",
       "      <td>37584.0</td>\n",
       "      <td>1</td>\n",
       "      <td>11.08</td>\n",
       "      <td>0.0</td>\n",
       "      <td>3.0</td>\n",
       "      <td>8.0</td>\n",
       "      <td>0.0</td>\n",
       "      <td>5369.0</td>\n",
       "      <td>40.7</td>\n",
       "      <td>10.0</td>\n",
       "      <td>0</td>\n",
       "      <td>0</td>\n",
       "      <td>1</td>\n",
       "      <td>0</td>\n",
       "      <td>0</td>\n",
       "      <td>0</td>\n",
       "      <td>0</td>\n",
       "      <td>0</td>\n",
       "      <td>0</td>\n",
       "      <td>0</td>\n",
       "      <td>0</td>\n",
       "      <td>0</td>\n",
       "      <td>0</td>\n",
       "      <td>1</td>\n",
       "      <td>0</td>\n",
       "      <td>0</td>\n",
       "      <td>0</td>\n",
       "      <td>0</td>\n",
       "    </tr>\n",
       "  </tbody>\n",
       "</table>\n",
       "</div>"
      ],
      "text/plain": [
       "       loan_amnt  term  int_rate  installment  emp_length  annual_inc  \\\n",
       "12842    12000.0    36     10.99       392.81         6.0     72000.0   \n",
       "14952    22000.0    60     13.49       506.11         5.0    150000.0   \n",
       "9698     32500.0    36      9.99       911.42         6.0     65000.0   \n",
       "36020     6000.0    36     17.58       215.66         2.0     48000.0   \n",
       "24108     3900.0    36     10.36       126.51         0.5     37584.0   \n",
       "\n",
       "       loan_status    dti  delinq_2yrs  inq_last_6mths  open_acc  pub_rec  \\\n",
       "12842            1   2.97          0.0             0.0       4.0      0.0   \n",
       "14952            1  12.14          0.0             0.0      14.0      0.0   \n",
       "9698             1  19.51          0.0             0.0       8.0      0.0   \n",
       "36020            1   5.03          0.0             0.0       4.0      0.0   \n",
       "24108            1  11.08          0.0             3.0       8.0      0.0   \n",
       "\n",
       "       revol_bal  revol_util  total_acc  home_ownership_OTHER  \\\n",
       "12842     6375.0        35.4        9.0                     0   \n",
       "14952    38064.0        59.0       36.0                     0   \n",
       "9698      2524.0        18.7       28.0                     0   \n",
       "36020     3881.0        55.4        6.0                     0   \n",
       "24108     5369.0        40.7       10.0                     0   \n",
       "\n",
       "       home_ownership_OWN  home_ownership_RENT  \\\n",
       "12842                   0                    1   \n",
       "14952                   0                    1   \n",
       "9698                    0                    1   \n",
       "36020                   0                    1   \n",
       "24108                   0                    1   \n",
       "\n",
       "       verification_status_Source Verified  verification_status_Verified  \\\n",
       "12842                                    1                             0   \n",
       "14952                                    1                             0   \n",
       "9698                                     0                             1   \n",
       "36020                                    0                             0   \n",
       "24108                                    0                             0   \n",
       "\n",
       "       purpose_credit_card  purpose_debt_consolidation  purpose_educational  \\\n",
       "12842                    0                           0                    0   \n",
       "14952                    0                           1                    0   \n",
       "9698                     0                           1                    0   \n",
       "36020                    0                           0                    0   \n",
       "24108                    0                           0                    0   \n",
       "\n",
       "       purpose_home_improvement  purpose_house  purpose_major_purchase  \\\n",
       "12842                         0              0                       0   \n",
       "14952                         0              0                       0   \n",
       "9698                          0              0                       0   \n",
       "36020                         0              0                       0   \n",
       "24108                         0              0                       0   \n",
       "\n",
       "       purpose_medical  purpose_moving  purpose_other  \\\n",
       "12842                0               0              1   \n",
       "14952                0               0              0   \n",
       "9698                 0               0              0   \n",
       "36020                0               0              0   \n",
       "24108                0               0              1   \n",
       "\n",
       "       purpose_renewable_energy  purpose_small_business  purpose_vacation  \\\n",
       "12842                         0                       0                 0   \n",
       "14952                         0                       0                 0   \n",
       "9698                          0                       0                 0   \n",
       "36020                         0                       1                 0   \n",
       "24108                         0                       0                 0   \n",
       "\n",
       "       purpose_wedding  \n",
       "12842                0  \n",
       "14952                0  \n",
       "9698                 0  \n",
       "36020                0  \n",
       "24108                0  "
      ]
     },
     "execution_count": 306,
     "metadata": {},
     "output_type": "execute_result"
    }
   ],
   "source": [
    "paid_loans_sample.head()"
   ]
  },
  {
   "cell_type": "code",
   "execution_count": 307,
   "metadata": {
    "scrolled": true
   },
   "outputs": [
    {
     "name": "stdout",
     "output_type": "stream",
     "text": [
      "<class 'pandas.core.frame.DataFrame'>\n",
      "Int64Index: 10780 entries, 12842 to 39747\n",
      "Data columns (total 33 columns):\n",
      " #   Column                               Non-Null Count  Dtype  \n",
      "---  ------                               --------------  -----  \n",
      " 0   loan_amnt                            10780 non-null  float64\n",
      " 1   term                                 10780 non-null  int64  \n",
      " 2   int_rate                             10780 non-null  float64\n",
      " 3   installment                          10780 non-null  float64\n",
      " 4   emp_length                           10780 non-null  float64\n",
      " 5   annual_inc                           10780 non-null  float64\n",
      " 6   loan_status                          10780 non-null  int64  \n",
      " 7   dti                                  10780 non-null  float64\n",
      " 8   delinq_2yrs                          10780 non-null  float64\n",
      " 9   inq_last_6mths                       10780 non-null  float64\n",
      " 10  open_acc                             10780 non-null  float64\n",
      " 11  pub_rec                              10780 non-null  float64\n",
      " 12  revol_bal                            10780 non-null  float64\n",
      " 13  revol_util                           10780 non-null  float64\n",
      " 14  total_acc                            10780 non-null  float64\n",
      " 15  home_ownership_OTHER                 10780 non-null  uint8  \n",
      " 16  home_ownership_OWN                   10780 non-null  uint8  \n",
      " 17  home_ownership_RENT                  10780 non-null  uint8  \n",
      " 18  verification_status_Source Verified  10780 non-null  uint8  \n",
      " 19  verification_status_Verified         10780 non-null  uint8  \n",
      " 20  purpose_credit_card                  10780 non-null  uint8  \n",
      " 21  purpose_debt_consolidation           10780 non-null  uint8  \n",
      " 22  purpose_educational                  10780 non-null  uint8  \n",
      " 23  purpose_home_improvement             10780 non-null  uint8  \n",
      " 24  purpose_house                        10780 non-null  uint8  \n",
      " 25  purpose_major_purchase               10780 non-null  uint8  \n",
      " 26  purpose_medical                      10780 non-null  uint8  \n",
      " 27  purpose_moving                       10780 non-null  uint8  \n",
      " 28  purpose_other                        10780 non-null  uint8  \n",
      " 29  purpose_renewable_energy             10780 non-null  uint8  \n",
      " 30  purpose_small_business               10780 non-null  uint8  \n",
      " 31  purpose_vacation                     10780 non-null  uint8  \n",
      " 32  purpose_wedding                      10780 non-null  uint8  \n",
      "dtypes: float64(13), int64(2), uint8(18)\n",
      "memory usage: 1.5 MB\n"
     ]
    }
   ],
   "source": [
    "under_sampling_df = pd.concat( [paid_loans_sample, non_paid_loans], axis=0 )\n",
    "\n",
    "under_sampling_df.info()\n"
   ]
  },
  {
   "cell_type": "code",
   "execution_count": 308,
   "metadata": {
    "scrolled": true
   },
   "outputs": [
    {
     "data": {
      "text/plain": [
       "1    5390\n",
       "0    5390\n",
       "Name: loan_status, dtype: int64"
      ]
     },
     "execution_count": 308,
     "metadata": {},
     "output_type": "execute_result"
    }
   ],
   "source": [
    "under_sampling_df['loan_status'].value_counts(dropna=False)\n"
   ]
  },
  {
   "cell_type": "code",
   "execution_count": 310,
   "metadata": {
    "scrolled": true
   },
   "outputs": [
    {
     "data": {
      "text/html": [
       "<div>\n",
       "<style scoped>\n",
       "    .dataframe tbody tr th:only-of-type {\n",
       "        vertical-align: middle;\n",
       "    }\n",
       "\n",
       "    .dataframe tbody tr th {\n",
       "        vertical-align: top;\n",
       "    }\n",
       "\n",
       "    .dataframe thead th {\n",
       "        text-align: right;\n",
       "    }\n",
       "</style>\n",
       "<table border=\"1\" class=\"dataframe\">\n",
       "  <thead>\n",
       "    <tr style=\"text-align: right;\">\n",
       "      <th></th>\n",
       "      <th>loan_amnt</th>\n",
       "      <th>term</th>\n",
       "      <th>int_rate</th>\n",
       "      <th>installment</th>\n",
       "      <th>emp_length</th>\n",
       "      <th>annual_inc</th>\n",
       "      <th>loan_status</th>\n",
       "      <th>dti</th>\n",
       "      <th>delinq_2yrs</th>\n",
       "      <th>inq_last_6mths</th>\n",
       "      <th>open_acc</th>\n",
       "      <th>pub_rec</th>\n",
       "      <th>revol_bal</th>\n",
       "      <th>revol_util</th>\n",
       "      <th>total_acc</th>\n",
       "      <th>home_ownership_OTHER</th>\n",
       "      <th>home_ownership_OWN</th>\n",
       "      <th>home_ownership_RENT</th>\n",
       "      <th>verification_status_Source Verified</th>\n",
       "      <th>verification_status_Verified</th>\n",
       "      <th>purpose_credit_card</th>\n",
       "      <th>purpose_debt_consolidation</th>\n",
       "      <th>purpose_educational</th>\n",
       "      <th>purpose_home_improvement</th>\n",
       "      <th>purpose_house</th>\n",
       "      <th>purpose_major_purchase</th>\n",
       "      <th>purpose_medical</th>\n",
       "      <th>purpose_moving</th>\n",
       "      <th>purpose_other</th>\n",
       "      <th>purpose_renewable_energy</th>\n",
       "      <th>purpose_small_business</th>\n",
       "      <th>purpose_vacation</th>\n",
       "      <th>purpose_wedding</th>\n",
       "    </tr>\n",
       "  </thead>\n",
       "  <tbody>\n",
       "    <tr>\n",
       "      <th>10577</th>\n",
       "      <td>3000.0</td>\n",
       "      <td>36</td>\n",
       "      <td>6.99</td>\n",
       "      <td>92.62</td>\n",
       "      <td>7.0</td>\n",
       "      <td>32000.00</td>\n",
       "      <td>1</td>\n",
       "      <td>16.99</td>\n",
       "      <td>0.0</td>\n",
       "      <td>1.0</td>\n",
       "      <td>12.0</td>\n",
       "      <td>0.0</td>\n",
       "      <td>10958.0</td>\n",
       "      <td>31.1</td>\n",
       "      <td>20.0</td>\n",
       "      <td>0</td>\n",
       "      <td>0</td>\n",
       "      <td>1</td>\n",
       "      <td>1</td>\n",
       "      <td>0</td>\n",
       "      <td>1</td>\n",
       "      <td>0</td>\n",
       "      <td>0</td>\n",
       "      <td>0</td>\n",
       "      <td>0</td>\n",
       "      <td>0</td>\n",
       "      <td>0</td>\n",
       "      <td>0</td>\n",
       "      <td>0</td>\n",
       "      <td>0</td>\n",
       "      <td>0</td>\n",
       "      <td>0</td>\n",
       "      <td>0</td>\n",
       "    </tr>\n",
       "    <tr>\n",
       "      <th>6187</th>\n",
       "      <td>10000.0</td>\n",
       "      <td>36</td>\n",
       "      <td>12.42</td>\n",
       "      <td>334.16</td>\n",
       "      <td>10.0</td>\n",
       "      <td>34000.00</td>\n",
       "      <td>1</td>\n",
       "      <td>9.04</td>\n",
       "      <td>1.0</td>\n",
       "      <td>3.0</td>\n",
       "      <td>11.0</td>\n",
       "      <td>0.0</td>\n",
       "      <td>3377.0</td>\n",
       "      <td>42.2</td>\n",
       "      <td>29.0</td>\n",
       "      <td>0</td>\n",
       "      <td>0</td>\n",
       "      <td>0</td>\n",
       "      <td>0</td>\n",
       "      <td>1</td>\n",
       "      <td>0</td>\n",
       "      <td>0</td>\n",
       "      <td>0</td>\n",
       "      <td>0</td>\n",
       "      <td>0</td>\n",
       "      <td>0</td>\n",
       "      <td>0</td>\n",
       "      <td>0</td>\n",
       "      <td>1</td>\n",
       "      <td>0</td>\n",
       "      <td>0</td>\n",
       "      <td>0</td>\n",
       "      <td>0</td>\n",
       "    </tr>\n",
       "    <tr>\n",
       "      <th>34736</th>\n",
       "      <td>24000.0</td>\n",
       "      <td>36</td>\n",
       "      <td>12.53</td>\n",
       "      <td>803.20</td>\n",
       "      <td>10.0</td>\n",
       "      <td>55059.49</td>\n",
       "      <td>1</td>\n",
       "      <td>21.55</td>\n",
       "      <td>0.0</td>\n",
       "      <td>0.0</td>\n",
       "      <td>15.0</td>\n",
       "      <td>0.0</td>\n",
       "      <td>21216.0</td>\n",
       "      <td>64.1</td>\n",
       "      <td>32.0</td>\n",
       "      <td>0</td>\n",
       "      <td>0</td>\n",
       "      <td>1</td>\n",
       "      <td>0</td>\n",
       "      <td>1</td>\n",
       "      <td>0</td>\n",
       "      <td>1</td>\n",
       "      <td>0</td>\n",
       "      <td>0</td>\n",
       "      <td>0</td>\n",
       "      <td>0</td>\n",
       "      <td>0</td>\n",
       "      <td>0</td>\n",
       "      <td>0</td>\n",
       "      <td>0</td>\n",
       "      <td>0</td>\n",
       "      <td>0</td>\n",
       "      <td>0</td>\n",
       "    </tr>\n",
       "    <tr>\n",
       "      <th>1</th>\n",
       "      <td>2500.0</td>\n",
       "      <td>60</td>\n",
       "      <td>15.27</td>\n",
       "      <td>59.83</td>\n",
       "      <td>0.5</td>\n",
       "      <td>30000.00</td>\n",
       "      <td>0</td>\n",
       "      <td>1.00</td>\n",
       "      <td>0.0</td>\n",
       "      <td>5.0</td>\n",
       "      <td>3.0</td>\n",
       "      <td>0.0</td>\n",
       "      <td>1687.0</td>\n",
       "      <td>9.4</td>\n",
       "      <td>4.0</td>\n",
       "      <td>0</td>\n",
       "      <td>0</td>\n",
       "      <td>1</td>\n",
       "      <td>1</td>\n",
       "      <td>0</td>\n",
       "      <td>0</td>\n",
       "      <td>0</td>\n",
       "      <td>0</td>\n",
       "      <td>0</td>\n",
       "      <td>0</td>\n",
       "      <td>0</td>\n",
       "      <td>0</td>\n",
       "      <td>0</td>\n",
       "      <td>0</td>\n",
       "      <td>0</td>\n",
       "      <td>0</td>\n",
       "      <td>0</td>\n",
       "      <td>0</td>\n",
       "    </tr>\n",
       "    <tr>\n",
       "      <th>8</th>\n",
       "      <td>5600.0</td>\n",
       "      <td>60</td>\n",
       "      <td>21.28</td>\n",
       "      <td>152.39</td>\n",
       "      <td>4.0</td>\n",
       "      <td>40000.00</td>\n",
       "      <td>0</td>\n",
       "      <td>5.55</td>\n",
       "      <td>0.0</td>\n",
       "      <td>2.0</td>\n",
       "      <td>11.0</td>\n",
       "      <td>0.0</td>\n",
       "      <td>5210.0</td>\n",
       "      <td>32.6</td>\n",
       "      <td>13.0</td>\n",
       "      <td>0</td>\n",
       "      <td>1</td>\n",
       "      <td>0</td>\n",
       "      <td>1</td>\n",
       "      <td>0</td>\n",
       "      <td>0</td>\n",
       "      <td>0</td>\n",
       "      <td>0</td>\n",
       "      <td>0</td>\n",
       "      <td>0</td>\n",
       "      <td>0</td>\n",
       "      <td>0</td>\n",
       "      <td>0</td>\n",
       "      <td>0</td>\n",
       "      <td>0</td>\n",
       "      <td>1</td>\n",
       "      <td>0</td>\n",
       "      <td>0</td>\n",
       "    </tr>\n",
       "    <tr>\n",
       "      <th>9</th>\n",
       "      <td>5375.0</td>\n",
       "      <td>60</td>\n",
       "      <td>12.69</td>\n",
       "      <td>121.45</td>\n",
       "      <td>0.5</td>\n",
       "      <td>15000.00</td>\n",
       "      <td>0</td>\n",
       "      <td>18.08</td>\n",
       "      <td>0.0</td>\n",
       "      <td>0.0</td>\n",
       "      <td>2.0</td>\n",
       "      <td>0.0</td>\n",
       "      <td>9279.0</td>\n",
       "      <td>36.5</td>\n",
       "      <td>3.0</td>\n",
       "      <td>0</td>\n",
       "      <td>0</td>\n",
       "      <td>1</td>\n",
       "      <td>0</td>\n",
       "      <td>1</td>\n",
       "      <td>0</td>\n",
       "      <td>0</td>\n",
       "      <td>0</td>\n",
       "      <td>0</td>\n",
       "      <td>0</td>\n",
       "      <td>0</td>\n",
       "      <td>0</td>\n",
       "      <td>0</td>\n",
       "      <td>1</td>\n",
       "      <td>0</td>\n",
       "      <td>0</td>\n",
       "      <td>0</td>\n",
       "      <td>0</td>\n",
       "    </tr>\n",
       "  </tbody>\n",
       "</table>\n",
       "</div>"
      ],
      "text/plain": [
       "       loan_amnt  term  int_rate  installment  emp_length  annual_inc  \\\n",
       "10577     3000.0    36      6.99        92.62         7.0    32000.00   \n",
       "6187     10000.0    36     12.42       334.16        10.0    34000.00   \n",
       "34736    24000.0    36     12.53       803.20        10.0    55059.49   \n",
       "1         2500.0    60     15.27        59.83         0.5    30000.00   \n",
       "8         5600.0    60     21.28       152.39         4.0    40000.00   \n",
       "9         5375.0    60     12.69       121.45         0.5    15000.00   \n",
       "\n",
       "       loan_status    dti  delinq_2yrs  inq_last_6mths  open_acc  pub_rec  \\\n",
       "10577            1  16.99          0.0             1.0      12.0      0.0   \n",
       "6187             1   9.04          1.0             3.0      11.0      0.0   \n",
       "34736            1  21.55          0.0             0.0      15.0      0.0   \n",
       "1                0   1.00          0.0             5.0       3.0      0.0   \n",
       "8                0   5.55          0.0             2.0      11.0      0.0   \n",
       "9                0  18.08          0.0             0.0       2.0      0.0   \n",
       "\n",
       "       revol_bal  revol_util  total_acc  home_ownership_OTHER  \\\n",
       "10577    10958.0        31.1       20.0                     0   \n",
       "6187      3377.0        42.2       29.0                     0   \n",
       "34736    21216.0        64.1       32.0                     0   \n",
       "1         1687.0         9.4        4.0                     0   \n",
       "8         5210.0        32.6       13.0                     0   \n",
       "9         9279.0        36.5        3.0                     0   \n",
       "\n",
       "       home_ownership_OWN  home_ownership_RENT  \\\n",
       "10577                   0                    1   \n",
       "6187                    0                    0   \n",
       "34736                   0                    1   \n",
       "1                       0                    1   \n",
       "8                       1                    0   \n",
       "9                       0                    1   \n",
       "\n",
       "       verification_status_Source Verified  verification_status_Verified  \\\n",
       "10577                                    1                             0   \n",
       "6187                                     0                             1   \n",
       "34736                                    0                             1   \n",
       "1                                        1                             0   \n",
       "8                                        1                             0   \n",
       "9                                        0                             1   \n",
       "\n",
       "       purpose_credit_card  purpose_debt_consolidation  purpose_educational  \\\n",
       "10577                    1                           0                    0   \n",
       "6187                     0                           0                    0   \n",
       "34736                    0                           1                    0   \n",
       "1                        0                           0                    0   \n",
       "8                        0                           0                    0   \n",
       "9                        0                           0                    0   \n",
       "\n",
       "       purpose_home_improvement  purpose_house  purpose_major_purchase  \\\n",
       "10577                         0              0                       0   \n",
       "6187                          0              0                       0   \n",
       "34736                         0              0                       0   \n",
       "1                             0              0                       0   \n",
       "8                             0              0                       0   \n",
       "9                             0              0                       0   \n",
       "\n",
       "       purpose_medical  purpose_moving  purpose_other  \\\n",
       "10577                0               0              0   \n",
       "6187                 0               0              1   \n",
       "34736                0               0              0   \n",
       "1                    0               0              0   \n",
       "8                    0               0              0   \n",
       "9                    0               0              1   \n",
       "\n",
       "       purpose_renewable_energy  purpose_small_business  purpose_vacation  \\\n",
       "10577                         0                       0                 0   \n",
       "6187                          0                       0                 0   \n",
       "34736                         0                       0                 0   \n",
       "1                             0                       0                 0   \n",
       "8                             0                       1                 0   \n",
       "9                             0                       0                 0   \n",
       "\n",
       "       purpose_wedding  \n",
       "10577                0  \n",
       "6187                 0  \n",
       "34736                0  \n",
       "1                    0  \n",
       "8                    0  \n",
       "9                    0  "
      ]
     },
     "execution_count": 310,
     "metadata": {},
     "output_type": "execute_result"
    }
   ],
   "source": [
    "under_sampling_df.iloc[ 5387:5393, : ]"
   ]
  },
  {
   "cell_type": "markdown",
   "metadata": {},
   "source": [
    "### Rescale (Normalize) the Numeric Features"
   ]
  },
  {
   "cell_type": "code",
   "execution_count": 311,
   "metadata": {},
   "outputs": [],
   "source": [
    "under_sampling_df_norm = rescale( under_sampling_df, \"loan_status\" )\n"
   ]
  },
  {
   "cell_type": "code",
   "execution_count": 312,
   "metadata": {},
   "outputs": [
    {
     "data": {
      "text/html": [
       "<div>\n",
       "<style scoped>\n",
       "    .dataframe tbody tr th:only-of-type {\n",
       "        vertical-align: middle;\n",
       "    }\n",
       "\n",
       "    .dataframe tbody tr th {\n",
       "        vertical-align: top;\n",
       "    }\n",
       "\n",
       "    .dataframe thead th {\n",
       "        text-align: right;\n",
       "    }\n",
       "</style>\n",
       "<table border=\"1\" class=\"dataframe\">\n",
       "  <thead>\n",
       "    <tr style=\"text-align: right;\">\n",
       "      <th></th>\n",
       "      <th>loan_amnt</th>\n",
       "      <th>term</th>\n",
       "      <th>int_rate</th>\n",
       "      <th>installment</th>\n",
       "      <th>emp_length</th>\n",
       "      <th>annual_inc</th>\n",
       "      <th>dti</th>\n",
       "      <th>delinq_2yrs</th>\n",
       "      <th>inq_last_6mths</th>\n",
       "      <th>open_acc</th>\n",
       "      <th>pub_rec</th>\n",
       "      <th>revol_bal</th>\n",
       "      <th>revol_util</th>\n",
       "      <th>total_acc</th>\n",
       "    </tr>\n",
       "  </thead>\n",
       "  <tbody>\n",
       "    <tr>\n",
       "      <th>count</th>\n",
       "      <td>10780.00000</td>\n",
       "      <td>10780.000000</td>\n",
       "      <td>10780.000000</td>\n",
       "      <td>10780.000000</td>\n",
       "      <td>10780.000000</td>\n",
       "      <td>1.078000e+04</td>\n",
       "      <td>10780.000000</td>\n",
       "      <td>10780.000000</td>\n",
       "      <td>10780.000000</td>\n",
       "      <td>10780.000000</td>\n",
       "      <td>10780.000000</td>\n",
       "      <td>10780.000000</td>\n",
       "      <td>10780.000000</td>\n",
       "      <td>10780.000000</td>\n",
       "    </tr>\n",
       "    <tr>\n",
       "      <th>mean</th>\n",
       "      <td>11690.93692</td>\n",
       "      <td>43.836735</td>\n",
       "      <td>12.766668</td>\n",
       "      <td>333.166860</td>\n",
       "      <td>5.091883</td>\n",
       "      <td>6.706623e+04</td>\n",
       "      <td>13.631961</td>\n",
       "      <td>0.156586</td>\n",
       "      <td>0.957978</td>\n",
       "      <td>9.288312</td>\n",
       "      <td>0.065770</td>\n",
       "      <td>13595.031540</td>\n",
       "      <td>51.902303</td>\n",
       "      <td>21.915584</td>\n",
       "    </tr>\n",
       "    <tr>\n",
       "      <th>std</th>\n",
       "      <td>7742.12232</td>\n",
       "      <td>11.255175</td>\n",
       "      <td>3.792091</td>\n",
       "      <td>213.243724</td>\n",
       "      <td>3.509721</td>\n",
       "      <td>5.268391e+04</td>\n",
       "      <td>6.642469</td>\n",
       "      <td>0.515434</td>\n",
       "      <td>1.117877</td>\n",
       "      <td>4.415349</td>\n",
       "      <td>0.256716</td>\n",
       "      <td>15711.918046</td>\n",
       "      <td>28.333195</td>\n",
       "      <td>11.440303</td>\n",
       "    </tr>\n",
       "    <tr>\n",
       "      <th>min</th>\n",
       "      <td>500.00000</td>\n",
       "      <td>36.000000</td>\n",
       "      <td>5.420000</td>\n",
       "      <td>16.470000</td>\n",
       "      <td>0.500000</td>\n",
       "      <td>4.080000e+03</td>\n",
       "      <td>0.000000</td>\n",
       "      <td>0.000000</td>\n",
       "      <td>0.000000</td>\n",
       "      <td>2.000000</td>\n",
       "      <td>0.000000</td>\n",
       "      <td>0.000000</td>\n",
       "      <td>0.000000</td>\n",
       "      <td>2.000000</td>\n",
       "    </tr>\n",
       "    <tr>\n",
       "      <th>25%</th>\n",
       "      <td>5875.00000</td>\n",
       "      <td>36.000000</td>\n",
       "      <td>10.250000</td>\n",
       "      <td>170.870000</td>\n",
       "      <td>2.000000</td>\n",
       "      <td>4.000000e+04</td>\n",
       "      <td>8.577500</td>\n",
       "      <td>0.000000</td>\n",
       "      <td>0.000000</td>\n",
       "      <td>6.000000</td>\n",
       "      <td>0.000000</td>\n",
       "      <td>3918.250000</td>\n",
       "      <td>29.100000</td>\n",
       "      <td>13.000000</td>\n",
       "    </tr>\n",
       "    <tr>\n",
       "      <th>50%</th>\n",
       "      <td>10000.00000</td>\n",
       "      <td>36.000000</td>\n",
       "      <td>12.690000</td>\n",
       "      <td>289.505000</td>\n",
       "      <td>4.000000</td>\n",
       "      <td>5.696400e+04</td>\n",
       "      <td>13.825000</td>\n",
       "      <td>0.000000</td>\n",
       "      <td>1.000000</td>\n",
       "      <td>9.000000</td>\n",
       "      <td>0.000000</td>\n",
       "      <td>9179.000000</td>\n",
       "      <td>53.800000</td>\n",
       "      <td>20.000000</td>\n",
       "    </tr>\n",
       "    <tr>\n",
       "      <th>75%</th>\n",
       "      <td>15600.00000</td>\n",
       "      <td>60.000000</td>\n",
       "      <td>15.310000</td>\n",
       "      <td>447.342500</td>\n",
       "      <td>9.000000</td>\n",
       "      <td>8.000000e+04</td>\n",
       "      <td>18.930000</td>\n",
       "      <td>0.000000</td>\n",
       "      <td>2.000000</td>\n",
       "      <td>12.000000</td>\n",
       "      <td>0.000000</td>\n",
       "      <td>17306.000000</td>\n",
       "      <td>75.800000</td>\n",
       "      <td>29.000000</td>\n",
       "    </tr>\n",
       "    <tr>\n",
       "      <th>max</th>\n",
       "      <td>35000.00000</td>\n",
       "      <td>60.000000</td>\n",
       "      <td>24.400000</td>\n",
       "      <td>1305.190000</td>\n",
       "      <td>10.000000</td>\n",
       "      <td>1.900000e+06</td>\n",
       "      <td>29.920000</td>\n",
       "      <td>8.000000</td>\n",
       "      <td>8.000000</td>\n",
       "      <td>38.000000</td>\n",
       "      <td>3.000000</td>\n",
       "      <td>149527.000000</td>\n",
       "      <td>99.900000</td>\n",
       "      <td>90.000000</td>\n",
       "    </tr>\n",
       "  </tbody>\n",
       "</table>\n",
       "</div>"
      ],
      "text/plain": [
       "         loan_amnt          term      int_rate   installment    emp_length  \\\n",
       "count  10780.00000  10780.000000  10780.000000  10780.000000  10780.000000   \n",
       "mean   11690.93692     43.836735     12.766668    333.166860      5.091883   \n",
       "std     7742.12232     11.255175      3.792091    213.243724      3.509721   \n",
       "min      500.00000     36.000000      5.420000     16.470000      0.500000   \n",
       "25%     5875.00000     36.000000     10.250000    170.870000      2.000000   \n",
       "50%    10000.00000     36.000000     12.690000    289.505000      4.000000   \n",
       "75%    15600.00000     60.000000     15.310000    447.342500      9.000000   \n",
       "max    35000.00000     60.000000     24.400000   1305.190000     10.000000   \n",
       "\n",
       "         annual_inc           dti   delinq_2yrs  inq_last_6mths      open_acc  \\\n",
       "count  1.078000e+04  10780.000000  10780.000000    10780.000000  10780.000000   \n",
       "mean   6.706623e+04     13.631961      0.156586        0.957978      9.288312   \n",
       "std    5.268391e+04      6.642469      0.515434        1.117877      4.415349   \n",
       "min    4.080000e+03      0.000000      0.000000        0.000000      2.000000   \n",
       "25%    4.000000e+04      8.577500      0.000000        0.000000      6.000000   \n",
       "50%    5.696400e+04     13.825000      0.000000        1.000000      9.000000   \n",
       "75%    8.000000e+04     18.930000      0.000000        2.000000     12.000000   \n",
       "max    1.900000e+06     29.920000      8.000000        8.000000     38.000000   \n",
       "\n",
       "            pub_rec      revol_bal    revol_util     total_acc  \n",
       "count  10780.000000   10780.000000  10780.000000  10780.000000  \n",
       "mean       0.065770   13595.031540     51.902303     21.915584  \n",
       "std        0.256716   15711.918046     28.333195     11.440303  \n",
       "min        0.000000       0.000000      0.000000      2.000000  \n",
       "25%        0.000000    3918.250000     29.100000     13.000000  \n",
       "50%        0.000000    9179.000000     53.800000     20.000000  \n",
       "75%        0.000000   17306.000000     75.800000     29.000000  \n",
       "max        3.000000  149527.000000     99.900000     90.000000  "
      ]
     },
     "execution_count": 312,
     "metadata": {},
     "output_type": "execute_result"
    }
   ],
   "source": [
    "under_sampling_df[numeric_cols].describe()"
   ]
  },
  {
   "cell_type": "code",
   "execution_count": 313,
   "metadata": {
    "scrolled": true
   },
   "outputs": [
    {
     "data": {
      "text/html": [
       "<div>\n",
       "<style scoped>\n",
       "    .dataframe tbody tr th:only-of-type {\n",
       "        vertical-align: middle;\n",
       "    }\n",
       "\n",
       "    .dataframe tbody tr th {\n",
       "        vertical-align: top;\n",
       "    }\n",
       "\n",
       "    .dataframe thead th {\n",
       "        text-align: right;\n",
       "    }\n",
       "</style>\n",
       "<table border=\"1\" class=\"dataframe\">\n",
       "  <thead>\n",
       "    <tr style=\"text-align: right;\">\n",
       "      <th></th>\n",
       "      <th>loan_amnt</th>\n",
       "      <th>term</th>\n",
       "      <th>int_rate</th>\n",
       "      <th>installment</th>\n",
       "      <th>emp_length</th>\n",
       "      <th>annual_inc</th>\n",
       "      <th>dti</th>\n",
       "      <th>delinq_2yrs</th>\n",
       "      <th>inq_last_6mths</th>\n",
       "      <th>open_acc</th>\n",
       "      <th>pub_rec</th>\n",
       "      <th>revol_bal</th>\n",
       "      <th>revol_util</th>\n",
       "      <th>total_acc</th>\n",
       "    </tr>\n",
       "  </thead>\n",
       "  <tbody>\n",
       "    <tr>\n",
       "      <th>count</th>\n",
       "      <td>10780.000000</td>\n",
       "      <td>10780.000000</td>\n",
       "      <td>10780.000000</td>\n",
       "      <td>10780.000000</td>\n",
       "      <td>10780.000000</td>\n",
       "      <td>10780.000000</td>\n",
       "      <td>10780.000000</td>\n",
       "      <td>10780.000000</td>\n",
       "      <td>10780.000000</td>\n",
       "      <td>10780.000000</td>\n",
       "      <td>10780.000000</td>\n",
       "      <td>10780.000000</td>\n",
       "      <td>10780.000000</td>\n",
       "      <td>10780.000000</td>\n",
       "    </tr>\n",
       "    <tr>\n",
       "      <th>mean</th>\n",
       "      <td>0.324375</td>\n",
       "      <td>0.326531</td>\n",
       "      <td>0.387074</td>\n",
       "      <td>0.245745</td>\n",
       "      <td>0.483356</td>\n",
       "      <td>0.033222</td>\n",
       "      <td>0.455614</td>\n",
       "      <td>0.019573</td>\n",
       "      <td>0.119747</td>\n",
       "      <td>0.202453</td>\n",
       "      <td>0.021923</td>\n",
       "      <td>0.090920</td>\n",
       "      <td>0.519543</td>\n",
       "      <td>0.226313</td>\n",
       "    </tr>\n",
       "    <tr>\n",
       "      <th>std</th>\n",
       "      <td>0.224409</td>\n",
       "      <td>0.468966</td>\n",
       "      <td>0.199794</td>\n",
       "      <td>0.165469</td>\n",
       "      <td>0.369444</td>\n",
       "      <td>0.027788</td>\n",
       "      <td>0.222008</td>\n",
       "      <td>0.064429</td>\n",
       "      <td>0.139735</td>\n",
       "      <td>0.122649</td>\n",
       "      <td>0.085572</td>\n",
       "      <td>0.105077</td>\n",
       "      <td>0.283616</td>\n",
       "      <td>0.130003</td>\n",
       "    </tr>\n",
       "    <tr>\n",
       "      <th>min</th>\n",
       "      <td>0.000000</td>\n",
       "      <td>0.000000</td>\n",
       "      <td>0.000000</td>\n",
       "      <td>0.000000</td>\n",
       "      <td>0.000000</td>\n",
       "      <td>0.000000</td>\n",
       "      <td>0.000000</td>\n",
       "      <td>0.000000</td>\n",
       "      <td>0.000000</td>\n",
       "      <td>0.000000</td>\n",
       "      <td>0.000000</td>\n",
       "      <td>0.000000</td>\n",
       "      <td>0.000000</td>\n",
       "      <td>0.000000</td>\n",
       "    </tr>\n",
       "    <tr>\n",
       "      <th>25%</th>\n",
       "      <td>0.155797</td>\n",
       "      <td>0.000000</td>\n",
       "      <td>0.254478</td>\n",
       "      <td>0.119809</td>\n",
       "      <td>0.157895</td>\n",
       "      <td>0.018946</td>\n",
       "      <td>0.286681</td>\n",
       "      <td>0.000000</td>\n",
       "      <td>0.000000</td>\n",
       "      <td>0.111111</td>\n",
       "      <td>0.000000</td>\n",
       "      <td>0.026204</td>\n",
       "      <td>0.291291</td>\n",
       "      <td>0.125000</td>\n",
       "    </tr>\n",
       "    <tr>\n",
       "      <th>50%</th>\n",
       "      <td>0.275362</td>\n",
       "      <td>0.000000</td>\n",
       "      <td>0.383035</td>\n",
       "      <td>0.211865</td>\n",
       "      <td>0.368421</td>\n",
       "      <td>0.027894</td>\n",
       "      <td>0.462066</td>\n",
       "      <td>0.000000</td>\n",
       "      <td>0.125000</td>\n",
       "      <td>0.194444</td>\n",
       "      <td>0.000000</td>\n",
       "      <td>0.061387</td>\n",
       "      <td>0.538539</td>\n",
       "      <td>0.204545</td>\n",
       "    </tr>\n",
       "    <tr>\n",
       "      <th>75%</th>\n",
       "      <td>0.437681</td>\n",
       "      <td>1.000000</td>\n",
       "      <td>0.521075</td>\n",
       "      <td>0.334341</td>\n",
       "      <td>0.894737</td>\n",
       "      <td>0.040044</td>\n",
       "      <td>0.632687</td>\n",
       "      <td>0.000000</td>\n",
       "      <td>0.250000</td>\n",
       "      <td>0.277778</td>\n",
       "      <td>0.000000</td>\n",
       "      <td>0.115738</td>\n",
       "      <td>0.758759</td>\n",
       "      <td>0.306818</td>\n",
       "    </tr>\n",
       "    <tr>\n",
       "      <th>max</th>\n",
       "      <td>1.000000</td>\n",
       "      <td>1.000000</td>\n",
       "      <td>1.000000</td>\n",
       "      <td>1.000000</td>\n",
       "      <td>1.000000</td>\n",
       "      <td>1.000000</td>\n",
       "      <td>1.000000</td>\n",
       "      <td>1.000000</td>\n",
       "      <td>1.000000</td>\n",
       "      <td>1.000000</td>\n",
       "      <td>1.000000</td>\n",
       "      <td>1.000000</td>\n",
       "      <td>1.000000</td>\n",
       "      <td>1.000000</td>\n",
       "    </tr>\n",
       "  </tbody>\n",
       "</table>\n",
       "</div>"
      ],
      "text/plain": [
       "          loan_amnt          term      int_rate   installment    emp_length  \\\n",
       "count  10780.000000  10780.000000  10780.000000  10780.000000  10780.000000   \n",
       "mean       0.324375      0.326531      0.387074      0.245745      0.483356   \n",
       "std        0.224409      0.468966      0.199794      0.165469      0.369444   \n",
       "min        0.000000      0.000000      0.000000      0.000000      0.000000   \n",
       "25%        0.155797      0.000000      0.254478      0.119809      0.157895   \n",
       "50%        0.275362      0.000000      0.383035      0.211865      0.368421   \n",
       "75%        0.437681      1.000000      0.521075      0.334341      0.894737   \n",
       "max        1.000000      1.000000      1.000000      1.000000      1.000000   \n",
       "\n",
       "         annual_inc           dti   delinq_2yrs  inq_last_6mths      open_acc  \\\n",
       "count  10780.000000  10780.000000  10780.000000    10780.000000  10780.000000   \n",
       "mean       0.033222      0.455614      0.019573        0.119747      0.202453   \n",
       "std        0.027788      0.222008      0.064429        0.139735      0.122649   \n",
       "min        0.000000      0.000000      0.000000        0.000000      0.000000   \n",
       "25%        0.018946      0.286681      0.000000        0.000000      0.111111   \n",
       "50%        0.027894      0.462066      0.000000        0.125000      0.194444   \n",
       "75%        0.040044      0.632687      0.000000        0.250000      0.277778   \n",
       "max        1.000000      1.000000      1.000000        1.000000      1.000000   \n",
       "\n",
       "            pub_rec     revol_bal    revol_util     total_acc  \n",
       "count  10780.000000  10780.000000  10780.000000  10780.000000  \n",
       "mean       0.021923      0.090920      0.519543      0.226313  \n",
       "std        0.085572      0.105077      0.283616      0.130003  \n",
       "min        0.000000      0.000000      0.000000      0.000000  \n",
       "25%        0.000000      0.026204      0.291291      0.125000  \n",
       "50%        0.000000      0.061387      0.538539      0.204545  \n",
       "75%        0.000000      0.115738      0.758759      0.306818  \n",
       "max        1.000000      1.000000      1.000000      1.000000  "
      ]
     },
     "execution_count": 313,
     "metadata": {},
     "output_type": "execute_result"
    }
   ],
   "source": [
    "under_sampling_df_norm[numeric_cols].describe()"
   ]
  },
  {
   "cell_type": "code",
   "execution_count": 314,
   "metadata": {},
   "outputs": [
    {
     "data": {
      "text/plain": [
       "(10780, 33)"
      ]
     },
     "execution_count": 314,
     "metadata": {},
     "output_type": "execute_result"
    }
   ],
   "source": [
    "under_sampling_df_norm.shape"
   ]
  },
  {
   "cell_type": "markdown",
   "metadata": {},
   "source": [
    "### Logistic Regression"
   ]
  },
  {
   "cell_type": "code",
   "execution_count": 315,
   "metadata": {},
   "outputs": [
    {
     "name": "stdout",
     "output_type": "stream",
     "text": [
      "32\n"
     ]
    }
   ],
   "source": [
    "cols = under_sampling_df_norm.columns\n",
    "\n",
    "train_cols = cols.drop(\"loan_status\")\n",
    "\n",
    "print( len(train_cols) )\n"
   ]
  },
  {
   "cell_type": "code",
   "execution_count": 316,
   "metadata": {},
   "outputs": [],
   "source": [
    "features = under_sampling_df_norm[train_cols]\n",
    "\n",
    "target = under_sampling_df_norm[\"loan_status\"]\n"
   ]
  },
  {
   "cell_type": "code",
   "execution_count": 317,
   "metadata": {},
   "outputs": [
    {
     "data": {
      "text/plain": [
       "(10780,)"
      ]
     },
     "execution_count": 317,
     "metadata": {},
     "output_type": "execute_result"
    }
   ],
   "source": [
    "lr = LogisticRegression( solver='liblinear' )\n",
    "\n",
    "\n",
    "predictions = cross_val_predict( lr, features, target, cv=10 )\n",
    "\n",
    "\n",
    "predictions = pd.Series( predictions, index=under_sampling_df.index )\n",
    "\n",
    "predictions.shape\n"
   ]
  },
  {
   "cell_type": "code",
   "execution_count": 318,
   "metadata": {
    "scrolled": true
   },
   "outputs": [
    {
     "name": "stdout",
     "output_type": "stream",
     "text": [
      "> False Positives: 2222 \n",
      "\n",
      "> True Positives: 3554 \n",
      "\n",
      "> False Negatives: 1836 \n",
      "\n",
      "> True Negatives: 3168 \n",
      "\n"
     ]
    }
   ],
   "source": [
    "tp, tn, fp, fn = compute_confusion_matrix( under_sampling_df, predictions, \"loan_status\" )"
   ]
  },
  {
   "cell_type": "code",
   "execution_count": 319,
   "metadata": {
    "scrolled": false
   },
   "outputs": [
    {
     "name": "stdout",
     "output_type": "stream",
     "text": [
      "True Positive Rate: 0.6593692022263451 \n",
      "\n",
      "False Positive Rate: 0.4122448979591837 \n",
      "\n",
      "Precision: 0.6153047091412742 \n",
      "\n"
     ]
    }
   ],
   "source": [
    "compute_tpr( tp, fn )\n",
    "\n",
    "compute_fpr( fp, tn )\n",
    "\n",
    "compute_precision( tp, fp )\n"
   ]
  },
  {
   "cell_type": "code",
   "execution_count": 320,
   "metadata": {},
   "outputs": [
    {
     "name": "stdout",
     "output_type": "stream",
     "text": [
      "Earnings: 3,822,355 \n",
      "\n",
      "Losses: 23,082,100 \n",
      "\n",
      "Net profit: -19,259,745\n"
     ]
    }
   ],
   "source": [
    "compute_net_profit( under_sampling_df, predictions, \"loan_status\" )\n"
   ]
  },
  {
   "cell_type": "markdown",
   "metadata": {},
   "source": [
    "### Important Note (conclusion):\n",
    "\n",
    "This logistic regression model (which implemented _under-sampling_ ) performed much worse than any of the ones that did __not__ implement _under-sampling_. Hence, I do not recommend to neglect the 26,868 observations that were ignored in _under-sampling_."
   ]
  },
  {
   "cell_type": "markdown",
   "metadata": {},
   "source": [
    "## Conclusion"
   ]
  },
  {
   "cell_type": "markdown",
   "metadata": {},
   "source": [
    "The __logistic regression__ algorithm performed better than the random forest one."
   ]
  },
  {
   "cell_type": "markdown",
   "metadata": {},
   "source": [
    "|      Algorithm      |    Feature Selection   | Number of Features | TPR (Recall) % | FPR (Fall-out) % | Precision % | Net Profit (USD) |\n",
    "|:-------------------:|:----------------------:|:------------------:|:--------------:|:----------------:|:-----------:|:----------------:|\n",
    "| Logistic Regression | Basic Filter Methods * |         81         |      46.51     |       19.57      |    93.43    |     3,642,464    |\n",
    "| Logistic Regression |          RFECV         |         59         |      46.33     |       19.37      |    93.47    |     3,704,727    |\n",
    "| Logistic Regression |          Lasso         |         49         |      46.48     |       19.20      |    93.54    |     3,801,213    |\n",
    "|    Random Forest    | Basic Filter Methods * |         81         |      23.27     |       7.01       |    95.20    |     1,954,253    |\n",
    "|    Random Forest    |  feature_importances_  |         47         |      25.07     |       8.46       |    94.66    |     1,495,273    |"
   ]
  },
  {
   "cell_type": "markdown",
   "metadata": {},
   "source": [
    "\\* For example: remove constant and quasi-constant features"
   ]
  },
  {
   "cell_type": "code",
   "execution_count": null,
   "metadata": {},
   "outputs": [],
   "source": []
  },
  {
   "cell_type": "code",
   "execution_count": null,
   "metadata": {},
   "outputs": [],
   "source": []
  },
  {
   "cell_type": "code",
   "execution_count": null,
   "metadata": {},
   "outputs": [],
   "source": []
  }
 ],
 "metadata": {
  "kernelspec": {
   "display_name": "Python 3",
   "language": "python",
   "name": "python3"
  },
  "language_info": {
   "codemirror_mode": {
    "name": "ipython",
    "version": 3
   },
   "file_extension": ".py",
   "mimetype": "text/x-python",
   "name": "python",
   "nbconvert_exporter": "python",
   "pygments_lexer": "ipython3",
   "version": "3.7.4"
  }
 },
 "nbformat": 4,
 "nbformat_minor": 2
}

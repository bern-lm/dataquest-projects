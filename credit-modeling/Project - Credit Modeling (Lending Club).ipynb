{
 "cells": [
  {
   "cell_type": "markdown",
   "metadata": {},
   "source": [
    "# Project - Credit Modeling (Lending Club)"
   ]
  },
  {
   "cell_type": "markdown",
   "metadata": {},
   "source": [
    "Credit modeling focuses on modeling a borrower's [credit risk](https://en.wikipedia.org/wiki/Credit_risk). Credit has played a key role in the economy for centuries and some form of credit has existed since the beginning of commerce. \n",
    "\n",
    "We'll be working with financial lending data from [Lending Club](https://www.lendingclub.com/). Lending Club is a marketplace for personal loans that pairs borrowers who are seeking a loan with investors looking to lend money and make a return.\n",
    "\n",
    "Each borrower completes a comprehensive application, providing their past financial history, the reason for the loan, and more. Lending Club evaluates each borrower's credit score using past historical data and their own data science process to assign an interest rate to the borrower. The interest rate is the percentage in addition to the requested loan amount that the borrower has to pay back. Lending Club also tries to verify all the information the borrower provides but it can't verify all of the information (usually for regulation reasons)."
   ]
  },
  {
   "cell_type": "markdown",
   "metadata": {},
   "source": [
    "A higher interest rate means that the borrower is a risk and more unlikely to pay back the loan. While a lower interest rate means that the borrower has a good credit history and is more likely to pay back the loan. The interest rates range from 5.32% to 30.99% and each borrower is given a [grade](https://www.lendingclub.com/investing/investor-education/interest-rates-and-fees) according to the interest rate they were assigned. If the borrower accepts the interest rate, then the loan is listed on the Lending Club marketplace.\n",
    "\n",
    "Investors are primarily interested in receiving a return on their investments. Approved loans are listed on the Lending Club website, where qualified investors can browse recently approved loans, the borrower's credit score, the purpose for the loan, and other information from the application. Once they're ready to back a loan, they select the amount of money they want to fund. Once a loan's requested amount is fully funded, the borrower receives the money they requested minus the [origination fee](https://help.lendingclub.com/hc/en-us/articles/214463677-Rates-and-fees-for-personal-loans) that Lending Club charges."
   ]
  },
  {
   "cell_type": "markdown",
   "metadata": {},
   "source": [
    "The borrower will make monthly payments back to Lending Club either over 36 months or over 60 months. Lending Club redistributes these payments to the investors. This means that investors don't have to wait until the full amount is paid off before they see a return in money. If a loan is fully paid off on time, the investors make a return which corresponds to the interest rate the borrower had to pay in addition to the requested amount. Many loans aren't completely paid off on time and some borrowers [default](https://help.lendingclub.com/hc/en-us/articles/215488038-What-do-the-different-Note-statuses-mean-) on the loan.\n",
    "\n",
    "__Project's Objective:__\n",
    "- __Build a machine learning model that can accurately predict if a borrower will pay off their loan on time or not.__\n",
    "\n",
    "Most investors use a portfolio strategy to invest small amounts in many loans, with healthy mixes of low, medium, and interest loans. __In this project, we'll focus on the mindset of a conservative investor who only wants to invest in the loans that have a good chance of being paid off on time.__ To do that, we'll need to first understand the features in the dataset and then experiment with building machine learning models that reliably predict if a loan will be paid off or not."
   ]
  },
  {
   "cell_type": "markdown",
   "metadata": {},
   "source": [
    "### Introduction to the Data"
   ]
  },
  {
   "cell_type": "markdown",
   "metadata": {},
   "source": [
    "I will use the dataset and data dictionary (`LoanStats.html`) provided by Dataquest. The latter downloaded it from the Lending Club website.\n",
    "\n",
    "The dataset contains approved loans data from 2007 to 2011.\n",
    "\n",
    "Before we can start doing machine learning, we need to define what features we want to use and which column represents the target column we want to predict. Let's start by reading and exploring the dataset."
   ]
  },
  {
   "cell_type": "code",
   "execution_count": 1,
   "metadata": {
    "scrolled": true
   },
   "outputs": [
    {
     "name": "stdout",
     "output_type": "stream",
     "text": [
      "<class 'pandas.core.frame.DataFrame'>\n",
      "RangeIndex: 42538 entries, 0 to 42537\n",
      "Data columns (total 52 columns):\n",
      " #   Column                      Non-Null Count  Dtype  \n",
      "---  ------                      --------------  -----  \n",
      " 0   id                          42538 non-null  object \n",
      " 1   member_id                   42535 non-null  float64\n",
      " 2   loan_amnt                   42535 non-null  float64\n",
      " 3   funded_amnt                 42535 non-null  float64\n",
      " 4   funded_amnt_inv             42535 non-null  float64\n",
      " 5   term                        42535 non-null  object \n",
      " 6   int_rate                    42535 non-null  object \n",
      " 7   installment                 42535 non-null  float64\n",
      " 8   grade                       42535 non-null  object \n",
      " 9   sub_grade                   42535 non-null  object \n",
      " 10  emp_title                   39909 non-null  object \n",
      " 11  emp_length                  41423 non-null  object \n",
      " 12  home_ownership              42535 non-null  object \n",
      " 13  annual_inc                  42531 non-null  float64\n",
      " 14  verification_status         42535 non-null  object \n",
      " 15  issue_d                     42535 non-null  object \n",
      " 16  loan_status                 42535 non-null  object \n",
      " 17  pymnt_plan                  42535 non-null  object \n",
      " 18  purpose                     42535 non-null  object \n",
      " 19  title                       42522 non-null  object \n",
      " 20  zip_code                    42535 non-null  object \n",
      " 21  addr_state                  42535 non-null  object \n",
      " 22  dti                         42535 non-null  float64\n",
      " 23  delinq_2yrs                 42506 non-null  float64\n",
      " 24  earliest_cr_line            42506 non-null  object \n",
      " 25  inq_last_6mths              42506 non-null  float64\n",
      " 26  open_acc                    42506 non-null  float64\n",
      " 27  pub_rec                     42506 non-null  float64\n",
      " 28  revol_bal                   42535 non-null  float64\n",
      " 29  revol_util                  42445 non-null  object \n",
      " 30  total_acc                   42506 non-null  float64\n",
      " 31  initial_list_status         42535 non-null  object \n",
      " 32  out_prncp                   42535 non-null  float64\n",
      " 33  out_prncp_inv               42535 non-null  float64\n",
      " 34  total_pymnt                 42535 non-null  float64\n",
      " 35  total_pymnt_inv             42535 non-null  float64\n",
      " 36  total_rec_prncp             42535 non-null  float64\n",
      " 37  total_rec_int               42535 non-null  float64\n",
      " 38  total_rec_late_fee          42535 non-null  float64\n",
      " 39  recoveries                  42535 non-null  float64\n",
      " 40  collection_recovery_fee     42535 non-null  float64\n",
      " 41  last_pymnt_d                42452 non-null  object \n",
      " 42  last_pymnt_amnt             42535 non-null  float64\n",
      " 43  last_credit_pull_d          42531 non-null  object \n",
      " 44  collections_12_mths_ex_med  42390 non-null  float64\n",
      " 45  policy_code                 42535 non-null  float64\n",
      " 46  application_type            42535 non-null  object \n",
      " 47  acc_now_delinq              42506 non-null  float64\n",
      " 48  chargeoff_within_12_mths    42390 non-null  float64\n",
      " 49  delinq_amnt                 42506 non-null  float64\n",
      " 50  pub_rec_bankruptcies        41170 non-null  float64\n",
      " 51  tax_liens                   42430 non-null  float64\n",
      "dtypes: float64(30), object(22)\n",
      "memory usage: 16.9+ MB\n"
     ]
    }
   ],
   "source": [
    "import pandas as pd\n",
    "\n",
    "loans = pd.read_csv(\"loans_2007.csv\", low_memory=False)\n",
    "\n",
    "loans.info()\n"
   ]
  },
  {
   "cell_type": "code",
   "execution_count": 2,
   "metadata": {
    "scrolled": true
   },
   "outputs": [
    {
     "data": {
      "text/plain": [
       "id                               0\n",
       "addr_state                       3\n",
       "dti                              3\n",
       "application_type                 3\n",
       "policy_code                      3\n",
       "last_pymnt_amnt                  3\n",
       "collection_recovery_fee          3\n",
       "zip_code                         3\n",
       "revol_bal                        3\n",
       "total_rec_late_fee               3\n",
       "initial_list_status              3\n",
       "out_prncp                        3\n",
       "out_prncp_inv                    3\n",
       "total_pymnt                      3\n",
       "total_pymnt_inv                  3\n",
       "recoveries                       3\n",
       "total_rec_prncp                  3\n",
       "purpose                          3\n",
       "loan_status                      3\n",
       "member_id                        3\n",
       "loan_amnt                        3\n",
       "funded_amnt                      3\n",
       "funded_amnt_inv                  3\n",
       "term                             3\n",
       "int_rate                         3\n",
       "installment                      3\n",
       "grade                            3\n",
       "sub_grade                        3\n",
       "home_ownership                   3\n",
       "verification_status              3\n",
       "issue_d                          3\n",
       "pymnt_plan                       3\n",
       "total_rec_int                    3\n",
       "last_credit_pull_d               7\n",
       "annual_inc                       7\n",
       "title                           16\n",
       "delinq_amnt                     32\n",
       "acc_now_delinq                  32\n",
       "inq_last_6mths                  32\n",
       "pub_rec                         32\n",
       "open_acc                        32\n",
       "earliest_cr_line                32\n",
       "delinq_2yrs                     32\n",
       "total_acc                       32\n",
       "last_pymnt_d                    86\n",
       "revol_util                      93\n",
       "tax_liens                      108\n",
       "collections_12_mths_ex_med     148\n",
       "chargeoff_within_12_mths       148\n",
       "emp_length                    1115\n",
       "pub_rec_bankruptcies          1368\n",
       "emp_title                     2629\n",
       "dtype: int64"
      ]
     },
     "execution_count": 2,
     "metadata": {},
     "output_type": "execute_result"
    }
   ],
   "source": [
    "loans.isnull().sum().sort_values()"
   ]
  },
  {
   "cell_type": "code",
   "execution_count": 3,
   "metadata": {
    "scrolled": true
   },
   "outputs": [
    {
     "name": "stdout",
     "output_type": "stream",
     "text": [
      "                            null_count  null_count_percentage\n",
      "id                                   0               0.000000\n",
      "addr_state                           3               0.007053\n",
      "dti                                  3               0.007053\n",
      "application_type                     3               0.007053\n",
      "policy_code                          3               0.007053\n",
      "last_pymnt_amnt                      3               0.007053\n",
      "collection_recovery_fee              3               0.007053\n",
      "zip_code                             3               0.007053\n",
      "revol_bal                            3               0.007053\n",
      "total_rec_late_fee                   3               0.007053\n",
      "initial_list_status                  3               0.007053\n",
      "out_prncp                            3               0.007053\n",
      "out_prncp_inv                        3               0.007053\n",
      "total_pymnt                          3               0.007053\n",
      "total_pymnt_inv                      3               0.007053\n",
      "recoveries                           3               0.007053\n",
      "total_rec_prncp                      3               0.007053\n",
      "purpose                              3               0.007053\n",
      "loan_status                          3               0.007053\n",
      "member_id                            3               0.007053\n",
      "loan_amnt                            3               0.007053\n",
      "funded_amnt                          3               0.007053\n",
      "funded_amnt_inv                      3               0.007053\n",
      "term                                 3               0.007053\n",
      "int_rate                             3               0.007053\n",
      "installment                          3               0.007053\n",
      "grade                                3               0.007053\n",
      "sub_grade                            3               0.007053\n",
      "home_ownership                       3               0.007053\n",
      "verification_status                  3               0.007053\n",
      "issue_d                              3               0.007053\n",
      "pymnt_plan                           3               0.007053\n",
      "total_rec_int                        3               0.007053\n",
      "last_credit_pull_d                   7               0.016456\n",
      "annual_inc                           7               0.016456\n",
      "title                               16               0.037613\n",
      "delinq_amnt                         32               0.075227\n",
      "acc_now_delinq                      32               0.075227\n",
      "inq_last_6mths                      32               0.075227\n",
      "pub_rec                             32               0.075227\n",
      "open_acc                            32               0.075227\n",
      "earliest_cr_line                    32               0.075227\n",
      "delinq_2yrs                         32               0.075227\n",
      "total_acc                           32               0.075227\n",
      "last_pymnt_d                        86               0.202172\n",
      "revol_util                          93               0.218628\n",
      "tax_liens                          108               0.253891\n",
      "collections_12_mths_ex_med         148               0.347924\n",
      "chargeoff_within_12_mths           148               0.347924\n",
      "emp_length                        1115               2.621186\n",
      "pub_rec_bankruptcies              1368               3.215948\n",
      "emp_title                         2629               6.180356\n"
     ]
    }
   ],
   "source": [
    "nulls_count = loans.isnull().sum().sort_values()\n",
    "\n",
    "nulls_count_df = pd.DataFrame(nulls_count, columns=[\"null_count\"])\n",
    "\n",
    "nulls_count_df['null_count_percentage'] = ( nulls_count_df['null_count'] / loans.shape[0] ) * 100\n",
    "\n",
    "print( nulls_count_df )\n"
   ]
  },
  {
   "cell_type": "code",
   "execution_count": 4,
   "metadata": {},
   "outputs": [
    {
     "name": "stdout",
     "output_type": "stream",
     "text": [
      "0\n"
     ]
    }
   ],
   "source": [
    "dup_bool = loans.duplicated()\n",
    "\n",
    "print( sum(dup_bool) )\n"
   ]
  },
  {
   "cell_type": "code",
   "execution_count": 5,
   "metadata": {},
   "outputs": [
    {
     "data": {
      "text/html": [
       "<div>\n",
       "<style scoped>\n",
       "    .dataframe tbody tr th:only-of-type {\n",
       "        vertical-align: middle;\n",
       "    }\n",
       "\n",
       "    .dataframe tbody tr th {\n",
       "        vertical-align: top;\n",
       "    }\n",
       "\n",
       "    .dataframe thead th {\n",
       "        text-align: right;\n",
       "    }\n",
       "</style>\n",
       "<table border=\"1\" class=\"dataframe\">\n",
       "  <thead>\n",
       "    <tr style=\"text-align: right;\">\n",
       "      <th></th>\n",
       "      <th>id</th>\n",
       "      <th>member_id</th>\n",
       "      <th>loan_amnt</th>\n",
       "      <th>funded_amnt</th>\n",
       "      <th>funded_amnt_inv</th>\n",
       "      <th>term</th>\n",
       "      <th>int_rate</th>\n",
       "      <th>installment</th>\n",
       "      <th>grade</th>\n",
       "      <th>sub_grade</th>\n",
       "      <th>emp_title</th>\n",
       "      <th>emp_length</th>\n",
       "      <th>home_ownership</th>\n",
       "      <th>annual_inc</th>\n",
       "      <th>verification_status</th>\n",
       "      <th>issue_d</th>\n",
       "      <th>loan_status</th>\n",
       "      <th>pymnt_plan</th>\n",
       "      <th>purpose</th>\n",
       "      <th>title</th>\n",
       "      <th>zip_code</th>\n",
       "      <th>addr_state</th>\n",
       "      <th>dti</th>\n",
       "      <th>delinq_2yrs</th>\n",
       "      <th>earliest_cr_line</th>\n",
       "      <th>inq_last_6mths</th>\n",
       "      <th>open_acc</th>\n",
       "      <th>pub_rec</th>\n",
       "      <th>revol_bal</th>\n",
       "      <th>revol_util</th>\n",
       "      <th>total_acc</th>\n",
       "      <th>initial_list_status</th>\n",
       "      <th>out_prncp</th>\n",
       "      <th>out_prncp_inv</th>\n",
       "      <th>total_pymnt</th>\n",
       "      <th>total_pymnt_inv</th>\n",
       "      <th>total_rec_prncp</th>\n",
       "      <th>total_rec_int</th>\n",
       "      <th>total_rec_late_fee</th>\n",
       "      <th>recoveries</th>\n",
       "      <th>collection_recovery_fee</th>\n",
       "      <th>last_pymnt_d</th>\n",
       "      <th>last_pymnt_amnt</th>\n",
       "      <th>last_credit_pull_d</th>\n",
       "      <th>collections_12_mths_ex_med</th>\n",
       "      <th>policy_code</th>\n",
       "      <th>application_type</th>\n",
       "      <th>acc_now_delinq</th>\n",
       "      <th>chargeoff_within_12_mths</th>\n",
       "      <th>delinq_amnt</th>\n",
       "      <th>pub_rec_bankruptcies</th>\n",
       "      <th>tax_liens</th>\n",
       "    </tr>\n",
       "  </thead>\n",
       "  <tbody>\n",
       "    <tr>\n",
       "      <th>0</th>\n",
       "      <td>1077501</td>\n",
       "      <td>1296599.0</td>\n",
       "      <td>5000.0</td>\n",
       "      <td>5000.0</td>\n",
       "      <td>4975.0</td>\n",
       "      <td>36 months</td>\n",
       "      <td>10.65%</td>\n",
       "      <td>162.87</td>\n",
       "      <td>B</td>\n",
       "      <td>B2</td>\n",
       "      <td>NaN</td>\n",
       "      <td>10+ years</td>\n",
       "      <td>RENT</td>\n",
       "      <td>24000.0</td>\n",
       "      <td>Verified</td>\n",
       "      <td>Dec-2011</td>\n",
       "      <td>Fully Paid</td>\n",
       "      <td>n</td>\n",
       "      <td>credit_card</td>\n",
       "      <td>Computer</td>\n",
       "      <td>860xx</td>\n",
       "      <td>AZ</td>\n",
       "      <td>27.65</td>\n",
       "      <td>0.0</td>\n",
       "      <td>Jan-1985</td>\n",
       "      <td>1.0</td>\n",
       "      <td>3.0</td>\n",
       "      <td>0.0</td>\n",
       "      <td>13648.0</td>\n",
       "      <td>83.7%</td>\n",
       "      <td>9.0</td>\n",
       "      <td>f</td>\n",
       "      <td>0.00</td>\n",
       "      <td>0.00</td>\n",
       "      <td>5863.155187</td>\n",
       "      <td>5833.84</td>\n",
       "      <td>5000.00</td>\n",
       "      <td>863.16</td>\n",
       "      <td>0.00</td>\n",
       "      <td>0.00</td>\n",
       "      <td>0.00</td>\n",
       "      <td>Jan-2015</td>\n",
       "      <td>171.62</td>\n",
       "      <td>Jun-2016</td>\n",
       "      <td>0.0</td>\n",
       "      <td>1.0</td>\n",
       "      <td>INDIVIDUAL</td>\n",
       "      <td>0.0</td>\n",
       "      <td>0.0</td>\n",
       "      <td>0.0</td>\n",
       "      <td>0.0</td>\n",
       "      <td>0.0</td>\n",
       "    </tr>\n",
       "    <tr>\n",
       "      <th>1</th>\n",
       "      <td>1077430</td>\n",
       "      <td>1314167.0</td>\n",
       "      <td>2500.0</td>\n",
       "      <td>2500.0</td>\n",
       "      <td>2500.0</td>\n",
       "      <td>60 months</td>\n",
       "      <td>15.27%</td>\n",
       "      <td>59.83</td>\n",
       "      <td>C</td>\n",
       "      <td>C4</td>\n",
       "      <td>Ryder</td>\n",
       "      <td>&lt; 1 year</td>\n",
       "      <td>RENT</td>\n",
       "      <td>30000.0</td>\n",
       "      <td>Source Verified</td>\n",
       "      <td>Dec-2011</td>\n",
       "      <td>Charged Off</td>\n",
       "      <td>n</td>\n",
       "      <td>car</td>\n",
       "      <td>bike</td>\n",
       "      <td>309xx</td>\n",
       "      <td>GA</td>\n",
       "      <td>1.00</td>\n",
       "      <td>0.0</td>\n",
       "      <td>Apr-1999</td>\n",
       "      <td>5.0</td>\n",
       "      <td>3.0</td>\n",
       "      <td>0.0</td>\n",
       "      <td>1687.0</td>\n",
       "      <td>9.4%</td>\n",
       "      <td>4.0</td>\n",
       "      <td>f</td>\n",
       "      <td>0.00</td>\n",
       "      <td>0.00</td>\n",
       "      <td>1008.710000</td>\n",
       "      <td>1008.71</td>\n",
       "      <td>456.46</td>\n",
       "      <td>435.17</td>\n",
       "      <td>0.00</td>\n",
       "      <td>117.08</td>\n",
       "      <td>1.11</td>\n",
       "      <td>Apr-2013</td>\n",
       "      <td>119.66</td>\n",
       "      <td>Sep-2013</td>\n",
       "      <td>0.0</td>\n",
       "      <td>1.0</td>\n",
       "      <td>INDIVIDUAL</td>\n",
       "      <td>0.0</td>\n",
       "      <td>0.0</td>\n",
       "      <td>0.0</td>\n",
       "      <td>0.0</td>\n",
       "      <td>0.0</td>\n",
       "    </tr>\n",
       "    <tr>\n",
       "      <th>2</th>\n",
       "      <td>1077175</td>\n",
       "      <td>1313524.0</td>\n",
       "      <td>2400.0</td>\n",
       "      <td>2400.0</td>\n",
       "      <td>2400.0</td>\n",
       "      <td>36 months</td>\n",
       "      <td>15.96%</td>\n",
       "      <td>84.33</td>\n",
       "      <td>C</td>\n",
       "      <td>C5</td>\n",
       "      <td>NaN</td>\n",
       "      <td>10+ years</td>\n",
       "      <td>RENT</td>\n",
       "      <td>12252.0</td>\n",
       "      <td>Not Verified</td>\n",
       "      <td>Dec-2011</td>\n",
       "      <td>Fully Paid</td>\n",
       "      <td>n</td>\n",
       "      <td>small_business</td>\n",
       "      <td>real estate business</td>\n",
       "      <td>606xx</td>\n",
       "      <td>IL</td>\n",
       "      <td>8.72</td>\n",
       "      <td>0.0</td>\n",
       "      <td>Nov-2001</td>\n",
       "      <td>2.0</td>\n",
       "      <td>2.0</td>\n",
       "      <td>0.0</td>\n",
       "      <td>2956.0</td>\n",
       "      <td>98.5%</td>\n",
       "      <td>10.0</td>\n",
       "      <td>f</td>\n",
       "      <td>0.00</td>\n",
       "      <td>0.00</td>\n",
       "      <td>3005.666844</td>\n",
       "      <td>3005.67</td>\n",
       "      <td>2400.00</td>\n",
       "      <td>605.67</td>\n",
       "      <td>0.00</td>\n",
       "      <td>0.00</td>\n",
       "      <td>0.00</td>\n",
       "      <td>Jun-2014</td>\n",
       "      <td>649.91</td>\n",
       "      <td>Jun-2016</td>\n",
       "      <td>0.0</td>\n",
       "      <td>1.0</td>\n",
       "      <td>INDIVIDUAL</td>\n",
       "      <td>0.0</td>\n",
       "      <td>0.0</td>\n",
       "      <td>0.0</td>\n",
       "      <td>0.0</td>\n",
       "      <td>0.0</td>\n",
       "    </tr>\n",
       "    <tr>\n",
       "      <th>3</th>\n",
       "      <td>1076863</td>\n",
       "      <td>1277178.0</td>\n",
       "      <td>10000.0</td>\n",
       "      <td>10000.0</td>\n",
       "      <td>10000.0</td>\n",
       "      <td>36 months</td>\n",
       "      <td>13.49%</td>\n",
       "      <td>339.31</td>\n",
       "      <td>C</td>\n",
       "      <td>C1</td>\n",
       "      <td>AIR RESOURCES BOARD</td>\n",
       "      <td>10+ years</td>\n",
       "      <td>RENT</td>\n",
       "      <td>49200.0</td>\n",
       "      <td>Source Verified</td>\n",
       "      <td>Dec-2011</td>\n",
       "      <td>Fully Paid</td>\n",
       "      <td>n</td>\n",
       "      <td>other</td>\n",
       "      <td>personel</td>\n",
       "      <td>917xx</td>\n",
       "      <td>CA</td>\n",
       "      <td>20.00</td>\n",
       "      <td>0.0</td>\n",
       "      <td>Feb-1996</td>\n",
       "      <td>1.0</td>\n",
       "      <td>10.0</td>\n",
       "      <td>0.0</td>\n",
       "      <td>5598.0</td>\n",
       "      <td>21%</td>\n",
       "      <td>37.0</td>\n",
       "      <td>f</td>\n",
       "      <td>0.00</td>\n",
       "      <td>0.00</td>\n",
       "      <td>12231.890000</td>\n",
       "      <td>12231.89</td>\n",
       "      <td>10000.00</td>\n",
       "      <td>2214.92</td>\n",
       "      <td>16.97</td>\n",
       "      <td>0.00</td>\n",
       "      <td>0.00</td>\n",
       "      <td>Jan-2015</td>\n",
       "      <td>357.48</td>\n",
       "      <td>Apr-2016</td>\n",
       "      <td>0.0</td>\n",
       "      <td>1.0</td>\n",
       "      <td>INDIVIDUAL</td>\n",
       "      <td>0.0</td>\n",
       "      <td>0.0</td>\n",
       "      <td>0.0</td>\n",
       "      <td>0.0</td>\n",
       "      <td>0.0</td>\n",
       "    </tr>\n",
       "    <tr>\n",
       "      <th>4</th>\n",
       "      <td>1075358</td>\n",
       "      <td>1311748.0</td>\n",
       "      <td>3000.0</td>\n",
       "      <td>3000.0</td>\n",
       "      <td>3000.0</td>\n",
       "      <td>60 months</td>\n",
       "      <td>12.69%</td>\n",
       "      <td>67.79</td>\n",
       "      <td>B</td>\n",
       "      <td>B5</td>\n",
       "      <td>University Medical Group</td>\n",
       "      <td>1 year</td>\n",
       "      <td>RENT</td>\n",
       "      <td>80000.0</td>\n",
       "      <td>Source Verified</td>\n",
       "      <td>Dec-2011</td>\n",
       "      <td>Current</td>\n",
       "      <td>n</td>\n",
       "      <td>other</td>\n",
       "      <td>Personal</td>\n",
       "      <td>972xx</td>\n",
       "      <td>OR</td>\n",
       "      <td>17.94</td>\n",
       "      <td>0.0</td>\n",
       "      <td>Jan-1996</td>\n",
       "      <td>0.0</td>\n",
       "      <td>15.0</td>\n",
       "      <td>0.0</td>\n",
       "      <td>27783.0</td>\n",
       "      <td>53.9%</td>\n",
       "      <td>38.0</td>\n",
       "      <td>f</td>\n",
       "      <td>461.73</td>\n",
       "      <td>461.73</td>\n",
       "      <td>3581.120000</td>\n",
       "      <td>3581.12</td>\n",
       "      <td>2538.27</td>\n",
       "      <td>1042.85</td>\n",
       "      <td>0.00</td>\n",
       "      <td>0.00</td>\n",
       "      <td>0.00</td>\n",
       "      <td>Jun-2016</td>\n",
       "      <td>67.79</td>\n",
       "      <td>Jun-2016</td>\n",
       "      <td>0.0</td>\n",
       "      <td>1.0</td>\n",
       "      <td>INDIVIDUAL</td>\n",
       "      <td>0.0</td>\n",
       "      <td>0.0</td>\n",
       "      <td>0.0</td>\n",
       "      <td>0.0</td>\n",
       "      <td>0.0</td>\n",
       "    </tr>\n",
       "  </tbody>\n",
       "</table>\n",
       "</div>"
      ],
      "text/plain": [
       "        id  member_id  loan_amnt  funded_amnt  funded_amnt_inv        term  \\\n",
       "0  1077501  1296599.0     5000.0       5000.0           4975.0   36 months   \n",
       "1  1077430  1314167.0     2500.0       2500.0           2500.0   60 months   \n",
       "2  1077175  1313524.0     2400.0       2400.0           2400.0   36 months   \n",
       "3  1076863  1277178.0    10000.0      10000.0          10000.0   36 months   \n",
       "4  1075358  1311748.0     3000.0       3000.0           3000.0   60 months   \n",
       "\n",
       "  int_rate  installment grade sub_grade                 emp_title emp_length  \\\n",
       "0   10.65%       162.87     B        B2                       NaN  10+ years   \n",
       "1   15.27%        59.83     C        C4                     Ryder   < 1 year   \n",
       "2   15.96%        84.33     C        C5                       NaN  10+ years   \n",
       "3   13.49%       339.31     C        C1       AIR RESOURCES BOARD  10+ years   \n",
       "4   12.69%        67.79     B        B5  University Medical Group     1 year   \n",
       "\n",
       "  home_ownership  annual_inc verification_status   issue_d  loan_status  \\\n",
       "0           RENT     24000.0            Verified  Dec-2011   Fully Paid   \n",
       "1           RENT     30000.0     Source Verified  Dec-2011  Charged Off   \n",
       "2           RENT     12252.0        Not Verified  Dec-2011   Fully Paid   \n",
       "3           RENT     49200.0     Source Verified  Dec-2011   Fully Paid   \n",
       "4           RENT     80000.0     Source Verified  Dec-2011      Current   \n",
       "\n",
       "  pymnt_plan         purpose                 title zip_code addr_state    dti  \\\n",
       "0          n     credit_card              Computer    860xx         AZ  27.65   \n",
       "1          n             car                  bike    309xx         GA   1.00   \n",
       "2          n  small_business  real estate business    606xx         IL   8.72   \n",
       "3          n           other              personel    917xx         CA  20.00   \n",
       "4          n           other              Personal    972xx         OR  17.94   \n",
       "\n",
       "   delinq_2yrs earliest_cr_line  inq_last_6mths  open_acc  pub_rec  revol_bal  \\\n",
       "0          0.0         Jan-1985             1.0       3.0      0.0    13648.0   \n",
       "1          0.0         Apr-1999             5.0       3.0      0.0     1687.0   \n",
       "2          0.0         Nov-2001             2.0       2.0      0.0     2956.0   \n",
       "3          0.0         Feb-1996             1.0      10.0      0.0     5598.0   \n",
       "4          0.0         Jan-1996             0.0      15.0      0.0    27783.0   \n",
       "\n",
       "  revol_util  total_acc initial_list_status  out_prncp  out_prncp_inv  \\\n",
       "0      83.7%        9.0                   f       0.00           0.00   \n",
       "1       9.4%        4.0                   f       0.00           0.00   \n",
       "2      98.5%       10.0                   f       0.00           0.00   \n",
       "3        21%       37.0                   f       0.00           0.00   \n",
       "4      53.9%       38.0                   f     461.73         461.73   \n",
       "\n",
       "    total_pymnt  total_pymnt_inv  total_rec_prncp  total_rec_int  \\\n",
       "0   5863.155187          5833.84          5000.00         863.16   \n",
       "1   1008.710000          1008.71           456.46         435.17   \n",
       "2   3005.666844          3005.67          2400.00         605.67   \n",
       "3  12231.890000         12231.89         10000.00        2214.92   \n",
       "4   3581.120000          3581.12          2538.27        1042.85   \n",
       "\n",
       "   total_rec_late_fee  recoveries  collection_recovery_fee last_pymnt_d  \\\n",
       "0                0.00        0.00                     0.00     Jan-2015   \n",
       "1                0.00      117.08                     1.11     Apr-2013   \n",
       "2                0.00        0.00                     0.00     Jun-2014   \n",
       "3               16.97        0.00                     0.00     Jan-2015   \n",
       "4                0.00        0.00                     0.00     Jun-2016   \n",
       "\n",
       "   last_pymnt_amnt last_credit_pull_d  collections_12_mths_ex_med  \\\n",
       "0           171.62           Jun-2016                         0.0   \n",
       "1           119.66           Sep-2013                         0.0   \n",
       "2           649.91           Jun-2016                         0.0   \n",
       "3           357.48           Apr-2016                         0.0   \n",
       "4            67.79           Jun-2016                         0.0   \n",
       "\n",
       "   policy_code application_type  acc_now_delinq  chargeoff_within_12_mths  \\\n",
       "0          1.0       INDIVIDUAL             0.0                       0.0   \n",
       "1          1.0       INDIVIDUAL             0.0                       0.0   \n",
       "2          1.0       INDIVIDUAL             0.0                       0.0   \n",
       "3          1.0       INDIVIDUAL             0.0                       0.0   \n",
       "4          1.0       INDIVIDUAL             0.0                       0.0   \n",
       "\n",
       "   delinq_amnt  pub_rec_bankruptcies  tax_liens  \n",
       "0          0.0                   0.0        0.0  \n",
       "1          0.0                   0.0        0.0  \n",
       "2          0.0                   0.0        0.0  \n",
       "3          0.0                   0.0        0.0  \n",
       "4          0.0                   0.0        0.0  "
      ]
     },
     "execution_count": 5,
     "metadata": {},
     "output_type": "execute_result"
    }
   ],
   "source": [
    "pd.options.display.max_columns = 100  # Avoid having displayed truncated output\n",
    "\n",
    "loans.head()\n"
   ]
  },
  {
   "cell_type": "markdown",
   "metadata": {},
   "source": [
    "### Now,\n",
    "Let's analyze each feature (column) and determine if it:\n",
    "\n",
    "- discloses/leaks information from the future (after the loan has already been funded)\n",
    "\n",
    "\n",
    "- requires more data or a lot of processing to turn it into a useful feature\n",
    "\n",
    "\n",
    "- contains redundant information\n",
    "\n",
    "\n",
    "- needs to be cleaned up and formatted\n",
    "\n",
    "Keep in mind that we need to select one of the features as the __target column__."
   ]
  },
  {
   "cell_type": "code",
   "execution_count": 6,
   "metadata": {
    "scrolled": true
   },
   "outputs": [
    {
     "name": "stdout",
     "output_type": "stream",
     "text": [
      "0 >>> id ( 42538 , object )\n",
      "\t Some values are:\n",
      "\t'1077501', '1077430', '1077175', '1076863', '1075358', '1075269', '1069639', '1072053', '1071795', '1071570',  \n",
      "\n",
      "\n",
      "1 >>> member_id ( 42536 , float64 )\n",
      "\t Some values are:\n",
      "\t'1296599.0', '1314167.0', '1313524.0', '1277178.0', '1311748.0', '1311441.0', '1304742.0', '1288686.0', '1306957.0', '1306721.0',  \n",
      "\n",
      "\n",
      "2 >>> loan_amnt ( 899 , float64 )\n",
      "\t Some values are:\n",
      "\t'5000.0', '2500.0', '2400.0', '10000.0', '3000.0', '7000.0', '5600.0', '5375.0', '6500.0', '12000.0',  \n",
      "\n",
      "\n",
      "3 >>> funded_amnt ( 1052 , float64 )\n",
      "\t Some values are:\n",
      "\t'5000.0', '2500.0', '2400.0', '10000.0', '3000.0', '7000.0', '5600.0', '5375.0', '6500.0', '12000.0',  \n",
      "\n",
      "\n",
      "4 >>> funded_amnt_inv ( 9247 , float64 )\n",
      "\t Some values are:\n",
      "\t'4975.0', '2500.0', '2400.0', '10000.0', '3000.0', '5000.0', '7000.0', '5600.0', '5350.0', '6500.0',  \n",
      "\n",
      "\n",
      "5 >>> term ( 3 , object )\n",
      "\t [' 36 months' ' 60 months' nan] \n",
      "\n",
      "\n",
      "6 >>> int_rate ( 395 , object )\n",
      "\t Some values are:\n",
      "\t' 10.65%', ' 15.27%', ' 15.96%', ' 13.49%', ' 12.69%', '  7.90%', ' 18.64%', ' 21.28%', ' 14.65%', '  9.91%',  \n",
      "\n",
      "\n",
      "7 >>> installment ( 16460 , float64 )\n",
      "\t Some values are:\n",
      "\t'162.87', '59.83', '84.33', '339.31', '67.79', '156.46', '170.08', '109.43', '152.39', '121.45',  \n",
      "\n",
      "\n",
      "8 >>> grade ( 8 , object )\n",
      "\t ['B' 'C' 'A' 'E' 'F' 'D' 'G' nan] \n",
      "\n",
      "\n",
      "9 >>> sub_grade ( 36 , object )\n",
      "\t Some values are:\n",
      "\t'B2', 'C4', 'C5', 'C1', 'B5', 'A4', 'E1', 'F2', 'C3', 'B1',  \n",
      "\n",
      "\n",
      "10 >>> emp_title ( 30659 , object )\n",
      "\t Some values are:\n",
      "\t'nan', 'Ryder', 'AIR RESOURCES BOARD', 'University Medical Group', 'Veolia Transportaton', 'Southern Star Photography', 'MKC Accounting ', 'Starbucks', 'Southwest Rural metro', 'UCLA',  \n",
      "\n",
      "\n",
      "11 >>> emp_length ( 12 , object )\n",
      "\t ['10+ years' '< 1 year' '1 year' '3 years' '8 years' '9 years' '4 years'\n",
      " '5 years' '6 years' '2 years' '7 years' nan] \n",
      "\n",
      "\n",
      "12 >>> home_ownership ( 6 , object )\n",
      "\t ['RENT' 'OWN' 'MORTGAGE' 'OTHER' 'NONE' nan] \n",
      "\n",
      "\n",
      "13 >>> annual_inc ( 5598 , float64 )\n",
      "\t Some values are:\n",
      "\t'24000.0', '30000.0', '12252.0', '49200.0', '80000.0', '36000.0', '47004.0', '48000.0', '40000.0', '15000.0',  \n",
      "\n",
      "\n",
      "14 >>> verification_status ( 4 , object )\n",
      "\t ['Verified' 'Source Verified' 'Not Verified' nan] \n",
      "\n",
      "\n",
      "15 >>> issue_d ( 56 , object )\n",
      "\t Some values are:\n",
      "\t'Dec-2011', 'Nov-2011', 'Oct-2011', 'Sep-2011', 'Aug-2011', 'Jul-2011', 'Jun-2011', 'May-2011', 'Apr-2011', 'Mar-2011',  \n",
      "\n",
      "\n",
      "16 >>> loan_status ( 10 , object )\n",
      "\t ['Fully Paid' 'Charged Off' 'Current' 'In Grace Period'\n",
      " 'Late (31-120 days)' 'Late (16-30 days)' 'Default' nan\n",
      " 'Does not meet the credit policy. Status:Fully Paid'\n",
      " 'Does not meet the credit policy. Status:Charged Off'] \n",
      "\n",
      "\n",
      "17 >>> pymnt_plan ( 3 , object )\n",
      "\t ['n' 'y' nan] \n",
      "\n",
      "\n",
      "18 >>> purpose ( 15 , object )\n",
      "\t ['credit_card' 'car' 'small_business' 'other' 'wedding'\n",
      " 'debt_consolidation' 'home_improvement' 'major_purchase' 'medical'\n",
      " 'moving' 'vacation' 'house' 'renewable_energy' 'educational' nan] \n",
      "\n",
      "\n",
      "19 >>> title ( 21265 , object )\n",
      "\t Some values are:\n",
      "\t'Computer', 'bike', 'real estate business', 'personel', 'Personal', 'My wedding loan I promise to pay back', 'Loan', 'Car Downpayment', 'Expand Business & Buy Debt Portfolio', 'Building my credit history.',  \n",
      "\n",
      "\n",
      "20 >>> zip_code ( 838 , object )\n",
      "\t Some values are:\n",
      "\t'860xx', '309xx', '606xx', '917xx', '972xx', '852xx', '280xx', '900xx', '958xx', '774xx',  \n",
      "\n",
      "\n",
      "21 >>> addr_state ( 51 , object )\n",
      "\t Some values are:\n",
      "\t'AZ', 'GA', 'IL', 'CA', 'OR', 'NC', 'TX', 'VA', 'MO', 'CT',  \n",
      "\n",
      "\n",
      "22 >>> dti ( 2895 , float64 )\n",
      "\t Some values are:\n",
      "\t'27.65', '1.0', '8.72', '20.0', '17.94', '11.2', '23.51', '5.35', '5.55', '18.08',  \n",
      "\n",
      "\n",
      "23 >>> delinq_2yrs ( 13 , float64 )\n",
      "\t [ 0.  2.  3.  1.  4.  6.  5.  8.  7.  9. 11. nan 13.] \n",
      "\n",
      "\n",
      "24 >>> earliest_cr_line ( 531 , object )\n",
      "\t Some values are:\n",
      "\t'Jan-1985', 'Apr-1999', 'Nov-2001', 'Feb-1996', 'Jan-1996', 'Nov-2004', 'Jul-2005', 'Jan-2007', 'Apr-2004', 'Sep-2004',  \n",
      "\n",
      "\n",
      "25 >>> inq_last_6mths ( 29 , float64 )\n",
      "\t Some values are:\n",
      "\t'1.0', '5.0', '2.0', '0.0', '3.0', '4.0', '6.0', '7.0', '8.0', 'nan',  \n",
      "\n",
      "\n",
      "26 >>> open_acc ( 45 , float64 )\n",
      "\t Some values are:\n",
      "\t'3.0', '2.0', '10.0', '15.0', '9.0', '7.0', '4.0', '11.0', '14.0', '12.0',  \n",
      "\n",
      "\n",
      "27 >>> pub_rec ( 7 , float64 )\n",
      "\t [ 0.  1.  2.  3.  4. nan  5.] \n",
      "\n",
      "\n",
      "28 >>> revol_bal ( 22710 , float64 )\n",
      "\t Some values are:\n",
      "\t'13648.0', '1687.0', '2956.0', '5598.0', '27783.0', '7963.0', '17726.0', '8221.0', '5210.0', '9279.0',  \n",
      "\n",
      "\n",
      "29 >>> revol_util ( 1120 , object )\n",
      "\t Some values are:\n",
      "\t'83.7%', '9.4%', '98.5%', '21%', '53.9%', '28.3%', '85.6%', '87.5%', '32.6%', '36.5%',  \n",
      "\n",
      "\n",
      "30 >>> total_acc ( 84 , float64 )\n",
      "\t Some values are:\n",
      "\t'9.0', '4.0', '10.0', '37.0', '38.0', '12.0', '11.0', '13.0', '3.0', '23.0',  \n",
      "\n",
      "\n",
      "31 >>> initial_list_status ( 2 , object )\n",
      "\t ['f' nan] \n",
      "\n",
      "\n",
      "32 >>> out_prncp ( 1014 , float64 )\n",
      "\t Some values are:\n",
      "\t'0.0', '461.73', '1630.46', '1921.77', '2325.15', '2760.06', '917.36', '2291.06', '2722.54', '1647.78',  \n",
      "\n",
      "\n",
      "33 >>> out_prncp_inv ( 1013 , float64 )\n",
      "\t Some values are:\n",
      "\t'0.0', '461.73', '1626.34', '1917.9', '2320.96', '2755.54', '917.36', '2291.06', '2718.84', '1647.78',  \n",
      "\n",
      "\n",
      "34 >>> total_pymnt ( 42392 , float64 )\n",
      "\t Some values are:\n",
      "\t'5863.1551866952', '1008.71', '3005.6668441393', '12231.890000000902', '3581.12', '5632.209999999401', '10137.840007529006', '3939.1352939056974', '646.02', '1476.19',  \n",
      "\n",
      "\n",
      "35 >>> total_pymnt_inv ( 40129 , float64 )\n",
      "\t Some values are:\n",
      "\t'5833.84', '1008.71', '3005.67', '12231.89', '3581.12', '5632.21', '10137.84', '3939.14', '646.02', '1469.34',  \n",
      "\n",
      "\n",
      "36 >>> total_rec_prncp ( 8643 , float64 )\n",
      "\t Some values are:\n",
      "\t'5000.0', '456.46', '2400.0', '10000.0', '2538.27', '7000.0', '3000.0', '162.02', '673.48', '6500.0',  \n",
      "\n",
      "\n",
      "37 >>> total_rec_int ( 37607 , float64 )\n",
      "\t Some values are:\n",
      "\t'863.16', '435.17', '605.67', '2214.92', '1042.85', '632.21', '3137.84', '939.14', '294.94', '533.42',  \n",
      "\n",
      "\n",
      "38 >>> total_rec_late_fee ( 2282 , float64 )\n",
      "\t Some values are:\n",
      "\t'0.0', '16.97', '15.0000000305', '24.17', '15.000000000014', '1.0', '23.80000006407', '30.0000000001', '36.24699818069', '28.76',  \n",
      "\n",
      "\n",
      "39 >>> recoveries ( 4511 , float64 )\n",
      "\t Some values are:\n",
      "\t'0.0', '117.08', '189.06', '269.29', '444.3', '645.1', '269.31', '260.96', '107.0', '222.81',  \n",
      "\n",
      "\n",
      "40 >>> collection_recovery_fee ( 2837 , float64 )\n",
      "\t Some values are:\n",
      "\t'0.0', '1.11', '2.09', '2.52', '4.16', '6.3145', '2.57', '2.3', '1.07', '36.3708',  \n",
      "\n",
      "\n",
      "41 >>> last_pymnt_d ( 104 , object )\n",
      "\t Some values are:\n",
      "\t'Jan-2015', 'Apr-2013', 'Jun-2014', 'Jun-2016', 'May-2016', 'Apr-2012', 'Nov-2012', 'Jun-2013', 'Sep-2013', 'Jul-2012',  \n",
      "\n",
      "\n",
      "42 >>> last_pymnt_amnt ( 37025 , float64 )\n",
      "\t Some values are:\n",
      "\t'171.62', '119.66', '649.91', '357.48', '67.79', '161.03', '1313.76', '111.34', '152.39', '121.45',  \n",
      "\n",
      "\n",
      "43 >>> last_credit_pull_d ( 109 , object )\n",
      "\t Some values are:\n",
      "\t'Jun-2016', 'Sep-2013', 'Apr-2016', 'Jan-2016', 'May-2016', 'Dec-2014', 'Aug-2012', 'Mar-2013', 'Dec-2015', 'Aug-2013',  \n",
      "\n",
      "\n",
      "44 >>> collections_12_mths_ex_med ( 2 , float64 )\n",
      "\t [ 0. nan] \n",
      "\n",
      "\n",
      "45 >>> policy_code ( 2 , float64 )\n",
      "\t [ 1. nan] \n",
      "\n",
      "\n",
      "46 >>> application_type ( 2 , object )\n",
      "\t ['INDIVIDUAL' nan] \n",
      "\n",
      "\n",
      "47 >>> acc_now_delinq ( 3 , float64 )\n",
      "\t [ 0. nan  1.] \n",
      "\n",
      "\n",
      "48 >>> chargeoff_within_12_mths ( 2 , float64 )\n",
      "\t [ 0. nan] \n",
      "\n",
      "\n",
      "49 >>> delinq_amnt ( 4 , float64 )\n",
      "\t [   0.   nan   27. 6053.] \n",
      "\n",
      "\n",
      "50 >>> pub_rec_bankruptcies ( 4 , float64 )\n",
      "\t [ 0.  1.  2. nan] \n",
      "\n",
      "\n",
      "51 >>> tax_liens ( 3 , float64 )\n",
      "\t [ 0. nan  1.] \n",
      "\n",
      "\n"
     ]
    }
   ],
   "source": [
    "i = 0\n",
    "for col in loans.columns:\n",
    "    \n",
    "    unique_values = loans[col].unique()\n",
    "    unique_cnt = len(unique_values)\n",
    "    \n",
    "    print( i, \">>>\", col, \"(\", unique_cnt, \",\", loans[col].dtype, \")\" )\n",
    "    \n",
    "    i += 1\n",
    "    \n",
    "    if unique_cnt < 20:\n",
    "        print( \"\\t\", unique_values, \"\\n\\n\" )\n",
    "        \n",
    "    else:\n",
    "        j = 1\n",
    "        print( \"\\t Some values are:\" )\n",
    "        string = \"\\t\"\n",
    "        for val in unique_values:\n",
    "            string += \"'{}', \".format(val)\n",
    "            j += 1\n",
    "            if j == 11:\n",
    "                print( string, \"\\n\\n\" )\n",
    "                break\n",
    "\n"
   ]
  },
  {
   "cell_type": "markdown",
   "metadata": {},
   "source": [
    "### Features (Columns) Removal"
   ]
  },
  {
   "cell_type": "markdown",
   "metadata": {},
   "source": [
    "I will remove the following features (columns) because they don't affect a borrower's ability to pay back a loan:\n",
    "\n",
    "- `id`\n",
    "\n",
    "\n",
    "- `member_id`"
   ]
  },
  {
   "cell_type": "markdown",
   "metadata": {},
   "source": [
    "I will remove the following features because they contain only __1__ unique value (low variance feature). This means that the column isn't informative and isn't going to help the model to make better predictions.\n",
    "\n",
    "- `initial_list_status`\n",
    "\n",
    "\n",
    "- `collections_12_mths_ex_med`\n",
    "\n",
    "\n",
    "- `policy_code`\n",
    "\n",
    "\n",
    "- `application_type`\n",
    "\n",
    "\n",
    "- `chargeoff_within_12_mths`"
   ]
  },
  {
   "cell_type": "markdown",
   "metadata": {},
   "source": [
    "I will remove the following features because they require more data or a lot of processing to turn them into useful features:\n",
    "\n",
    "- `emp_title`\n",
    "\n",
    "\n",
    "- `title`"
   ]
  },
  {
   "cell_type": "markdown",
   "metadata": {},
   "source": [
    "#### > `emp_title`:\n",
    "As we can see below, this column contains a very large number of unique values (30,658 which represent the 72% of the column values) and has data quality issues since some of the values are repeated with slight modifications (e.g. `USAF`, `US Air Force`, `United States Air Force`; `JP Morgan Chase`, `JPMorgan Chase`; `US Army`, `U.S. Army`)."
   ]
  },
  {
   "cell_type": "code",
   "execution_count": 7,
   "metadata": {
    "scrolled": true
   },
   "outputs": [
    {
     "data": {
      "text/plain": [
       "count       39909\n",
       "unique      30658\n",
       "top       US Army\n",
       "freq          139\n",
       "Name: emp_title, dtype: object"
      ]
     },
     "execution_count": 7,
     "metadata": {},
     "output_type": "execute_result"
    }
   ],
   "source": [
    "loans['emp_title'].describe()"
   ]
  },
  {
   "cell_type": "code",
   "execution_count": 8,
   "metadata": {},
   "outputs": [
    {
     "data": {
      "text/plain": [
       "(42538, 52)"
      ]
     },
     "execution_count": 8,
     "metadata": {},
     "output_type": "execute_result"
    }
   ],
   "source": [
    "loans.shape"
   ]
  },
  {
   "cell_type": "code",
   "execution_count": 9,
   "metadata": {},
   "outputs": [
    {
     "data": {
      "text/plain": [
       "NaN                                 2629\n",
       "US Army                              139\n",
       "Bank of America                      115\n",
       "IBM                                   72\n",
       "Kaiser Permanente                     61\n",
       "                                    ... \n",
       "Regional Elite Airlines Services       1\n",
       "Mass General Medical Group             1\n",
       "Kontera                                1\n",
       "Southeast Georgia Health ystem         1\n",
       "Homemaker                              1\n",
       "Name: emp_title, Length: 30659, dtype: int64"
      ]
     },
     "execution_count": 9,
     "metadata": {},
     "output_type": "execute_result"
    }
   ],
   "source": [
    "loans['emp_title'].value_counts(dropna=False)"
   ]
  },
  {
   "cell_type": "code",
   "execution_count": 10,
   "metadata": {},
   "outputs": [
    {
     "data": {
      "text/plain": [
       "NaN                                 6.180356\n",
       "US Army                             0.326767\n",
       "Bank of America                     0.270347\n",
       "IBM                                 0.169260\n",
       "Kaiser Permanente                   0.143401\n",
       "                                      ...   \n",
       "Regional Elite Airlines Services    0.002351\n",
       "Mass General Medical Group          0.002351\n",
       "Kontera                             0.002351\n",
       "Southeast Georgia Health ystem      0.002351\n",
       "Homemaker                           0.002351\n",
       "Name: emp_title, Length: 30659, dtype: float64"
      ]
     },
     "execution_count": 10,
     "metadata": {},
     "output_type": "execute_result"
    }
   ],
   "source": [
    "loans['emp_title'].value_counts(dropna=False, normalize=True) * 100"
   ]
  },
  {
   "cell_type": "code",
   "execution_count": 11,
   "metadata": {
    "scrolled": true
   },
   "outputs": [
    {
     "data": {
      "text/plain": [
       "NaN                        2629\n",
       "US Army                     139\n",
       "Bank of America             115\n",
       "IBM                          72\n",
       "Kaiser Permanente            61\n",
       "AT&T                         61\n",
       "UPS                          58\n",
       "Wells Fargo                  57\n",
       "USAF                         56\n",
       "US Air Force                 55\n",
       "Self Employed                49\n",
       "United States Air Force      48\n",
       "Walmart                      47\n",
       "Lockheed Martin              46\n",
       "State of California          45\n",
       "Verizon Wireless             43\n",
       "U.S. Army                    42\n",
       "Walgreens                    41\n",
       "USPS                         41\n",
       "US ARMY                      40\n",
       "Self                         39\n",
       "Best Buy                     38\n",
       "JPMorgan Chase               38\n",
       "Target                       38\n",
       "JP Morgan Chase              38\n",
       "Name: emp_title, dtype: int64"
      ]
     },
     "execution_count": 11,
     "metadata": {},
     "output_type": "execute_result"
    }
   ],
   "source": [
    "loans['emp_title'].value_counts(dropna=False).head(25)"
   ]
  },
  {
   "cell_type": "markdown",
   "metadata": {},
   "source": [
    "#### > `title`:\n",
    "As we can see below, this column contains a large number of unique values (21,264 which represent the 50% of the column values) and has data quality issues since some of the values are repeated with slight modifications (e.g. `Debt Consolidation`, `Debt Consolidation Loan`, `debt consolidation`, `debt_consolidation`).\n",
    "\n",
    "Also, the `title` and `purpose` columns contain very similar information. The `purpose` column only contains 15 unique values. Therefore, I will remove the `title` column and keep the `purpose` column."
   ]
  },
  {
   "cell_type": "code",
   "execution_count": 12,
   "metadata": {
    "scrolled": true
   },
   "outputs": [
    {
     "data": {
      "text/plain": [
       "count                  42522\n",
       "unique                 21264\n",
       "top       Debt Consolidation\n",
       "freq                    2259\n",
       "Name: title, dtype: object"
      ]
     },
     "execution_count": 12,
     "metadata": {},
     "output_type": "execute_result"
    }
   ],
   "source": [
    "loans['title'].describe()"
   ]
  },
  {
   "cell_type": "code",
   "execution_count": 13,
   "metadata": {},
   "outputs": [
    {
     "data": {
      "text/plain": [
       "16"
      ]
     },
     "execution_count": 13,
     "metadata": {},
     "output_type": "execute_result"
    }
   ],
   "source": [
    "loans['title'].isnull().sum()"
   ]
  },
  {
   "cell_type": "code",
   "execution_count": 14,
   "metadata": {},
   "outputs": [
    {
     "data": {
      "text/plain": [
       "Debt Consolidation                  2259\n",
       "Debt Consolidation Loan             1760\n",
       "Personal Loan                        708\n",
       "Consolidation                        547\n",
       "debt consolidation                   532\n",
       "                                    ... \n",
       "CitiCard PayOff                        1\n",
       "Taxes Loan                             1\n",
       "Blazing in 5 years                     1\n",
       "I was scammed and now recovering       1\n",
       "Aroundthehouse                         1\n",
       "Name: title, Length: 21265, dtype: int64"
      ]
     },
     "execution_count": 14,
     "metadata": {},
     "output_type": "execute_result"
    }
   ],
   "source": [
    "loans['title'].value_counts(dropna=False)"
   ]
  },
  {
   "cell_type": "code",
   "execution_count": 15,
   "metadata": {},
   "outputs": [
    {
     "data": {
      "text/plain": [
       "Debt Consolidation                  5.310546\n",
       "Debt Consolidation Loan             4.137477\n",
       "Personal Loan                       1.664394\n",
       "Consolidation                       1.285909\n",
       "debt consolidation                  1.250646\n",
       "                                      ...   \n",
       "CitiCard PayOff                     0.002351\n",
       "Taxes Loan                          0.002351\n",
       "Blazing in 5 years                  0.002351\n",
       "I was scammed and now recovering    0.002351\n",
       "Aroundthehouse                      0.002351\n",
       "Name: title, Length: 21265, dtype: float64"
      ]
     },
     "execution_count": 15,
     "metadata": {},
     "output_type": "execute_result"
    }
   ],
   "source": [
    "loans['title'].value_counts(dropna=False, normalize=True) * 100"
   ]
  },
  {
   "cell_type": "code",
   "execution_count": 16,
   "metadata": {
    "scrolled": true
   },
   "outputs": [
    {
     "data": {
      "text/plain": [
       "Debt Consolidation                2259\n",
       "Debt Consolidation Loan           1760\n",
       "Personal Loan                      708\n",
       "Consolidation                      547\n",
       "debt consolidation                 532\n",
       "Home Improvement                   373\n",
       "Credit Card Consolidation          370\n",
       "Debt consolidation                 347\n",
       "Small Business Loan                333\n",
       "Personal                           330\n",
       "Credit Card Loan                   323\n",
       "personal loan                      266\n",
       "Consolidation Loan                 264\n",
       "Home Improvement Loan              255\n",
       "personal                           247\n",
       "Loan                               218\n",
       "consolidation                      217\n",
       "Wedding Loan                       217\n",
       "Car Loan                           206\n",
       "Other Loan                         192\n",
       "Credit Card Payoff                 164\n",
       "Wedding                            160\n",
       "Credit Card Refinance              147\n",
       "Major Purchase Loan                146\n",
       "Consolidate                        141\n",
       "Medical                            124\n",
       "Credit Card                        124\n",
       "home improvement                   117\n",
       "My Loan                             96\n",
       "Credit Cards                        95\n",
       "loan                                90\n",
       "Debt                                89\n",
       "Business Loan                       88\n",
       "Freedom                             81\n",
       "Personal loan                       80\n",
       "consolidate                         80\n",
       "Moving Loan                         78\n",
       "debt_consolidation                  68\n",
       "Debt Consolidation                  67\n",
       "Motorcycle                          66\n",
       "Home improvement                    66\n",
       "Major Purchase                      66\n",
       "Debt Loan                           64\n",
       "Consolidate Debt                    64\n",
       "Medical Loan                        64\n",
       "Credit Card Debt Consolidation      63\n",
       "Engagement Ring                     60\n",
       "Other                               59\n",
       "DEBT CONSOLIDATION                  59\n",
       "debt consolidation loan             59\n",
       "Name: title, dtype: int64"
      ]
     },
     "execution_count": 16,
     "metadata": {},
     "output_type": "execute_result"
    }
   ],
   "source": [
    "loans['title'].value_counts(dropna=False).head(50)"
   ]
  },
  {
   "cell_type": "code",
   "execution_count": 17,
   "metadata": {},
   "outputs": [
    {
     "data": {
      "text/plain": [
       "array(['credit_card', 'car', 'small_business', 'other', 'wedding',\n",
       "       'debt_consolidation', 'home_improvement', 'major_purchase',\n",
       "       'medical', 'moving', 'vacation', 'house', 'renewable_energy',\n",
       "       'educational', nan], dtype=object)"
      ]
     },
     "execution_count": 17,
     "metadata": {},
     "output_type": "execute_result"
    }
   ],
   "source": [
    "loans['purpose'].unique()"
   ]
  },
  {
   "cell_type": "markdown",
   "metadata": {},
   "source": [
    "I will remove the following features because they leak information from the future, meaning that they're describing aspects of the loan after it's already been fully funded and started to be paid off by the borrower.\n",
    "\n",
    "- `funded_amt`, `funded_amnt_inv`, `issue_d`, `out_prncp`, `out_prncp_inv`, `total_pymnt`, `total_pymnt_inv`, `total_rec_prncp`, `total_rec_int`, `total_rec_late_fee`, `recoveries`, `collection_recovery_fee`, `last_pymnt_d`, `last_pymnt_amnt`"
   ]
  },
  {
   "cell_type": "markdown",
   "metadata": {},
   "source": [
    "I will remove the following features because they contain redundant information.\n",
    "\n",
    "- `grade`\n",
    "\n",
    "\n",
    "- `sub_grade`\n",
    "\n",
    "\n",
    "- `zip_code`"
   ]
  },
  {
   "cell_type": "markdown",
   "metadata": {},
   "source": [
    "#### > `grade` and `sub_grade`:\n",
    "These two columns are based on the borrower's interest rate (`int_rate` column). I prefer to use `int_rate` which contains continuous values than `grade` and `sub_grade` which values are categorical. Continuous values are better suited for machine learning.\n",
    "\n",
    "> \"Continuous values are better suited for machine learning\":\n",
    "No es completamente cierto. Depende del modelo que vas a utilizar\n"
   ]
  },
  {
   "cell_type": "markdown",
   "metadata": {},
   "source": [
    "*** Pending"
   ]
  },
  {
   "cell_type": "code",
   "execution_count": 18,
   "metadata": {
    "scrolled": true
   },
   "outputs": [
    {
     "data": {
      "text/html": [
       "<div>\n",
       "<style scoped>\n",
       "    .dataframe tbody tr th:only-of-type {\n",
       "        vertical-align: middle;\n",
       "    }\n",
       "\n",
       "    .dataframe tbody tr th {\n",
       "        vertical-align: top;\n",
       "    }\n",
       "\n",
       "    .dataframe thead th {\n",
       "        text-align: right;\n",
       "    }\n",
       "</style>\n",
       "<table border=\"1\" class=\"dataframe\">\n",
       "  <thead>\n",
       "    <tr style=\"text-align: right;\">\n",
       "      <th></th>\n",
       "      <th>grade</th>\n",
       "      <th>sub_grade</th>\n",
       "      <th>int_rate</th>\n",
       "    </tr>\n",
       "  </thead>\n",
       "  <tbody>\n",
       "    <tr>\n",
       "      <th>36922</th>\n",
       "      <td>A</td>\n",
       "      <td>A3</td>\n",
       "      <td>8.00%</td>\n",
       "    </tr>\n",
       "    <tr>\n",
       "      <th>19092</th>\n",
       "      <td>A</td>\n",
       "      <td>A3</td>\n",
       "      <td>6.92%</td>\n",
       "    </tr>\n",
       "    <tr>\n",
       "      <th>26307</th>\n",
       "      <td>A</td>\n",
       "      <td>A3</td>\n",
       "      <td>7.14%</td>\n",
       "    </tr>\n",
       "    <tr>\n",
       "      <th>4566</th>\n",
       "      <td>A</td>\n",
       "      <td>A4</td>\n",
       "      <td>7.90%</td>\n",
       "    </tr>\n",
       "    <tr>\n",
       "      <th>7050</th>\n",
       "      <td>A</td>\n",
       "      <td>A4</td>\n",
       "      <td>7.90%</td>\n",
       "    </tr>\n",
       "    <tr>\n",
       "      <th>15292</th>\n",
       "      <td>A</td>\n",
       "      <td>A5</td>\n",
       "      <td>8.49%</td>\n",
       "    </tr>\n",
       "    <tr>\n",
       "      <th>3958</th>\n",
       "      <td>B</td>\n",
       "      <td>B1</td>\n",
       "      <td>9.91%</td>\n",
       "    </tr>\n",
       "    <tr>\n",
       "      <th>6652</th>\n",
       "      <td>B</td>\n",
       "      <td>B2</td>\n",
       "      <td>10.65%</td>\n",
       "    </tr>\n",
       "    <tr>\n",
       "      <th>18326</th>\n",
       "      <td>B</td>\n",
       "      <td>B2</td>\n",
       "      <td>10.00%</td>\n",
       "    </tr>\n",
       "    <tr>\n",
       "      <th>3641</th>\n",
       "      <td>B</td>\n",
       "      <td>B2</td>\n",
       "      <td>10.65%</td>\n",
       "    </tr>\n",
       "    <tr>\n",
       "      <th>33749</th>\n",
       "      <td>B</td>\n",
       "      <td>B3</td>\n",
       "      <td>11.83%</td>\n",
       "    </tr>\n",
       "    <tr>\n",
       "      <th>21084</th>\n",
       "      <td>B</td>\n",
       "      <td>B3</td>\n",
       "      <td>10.37%</td>\n",
       "    </tr>\n",
       "    <tr>\n",
       "      <th>38870</th>\n",
       "      <td>B</td>\n",
       "      <td>B5</td>\n",
       "      <td>10.71%</td>\n",
       "    </tr>\n",
       "    <tr>\n",
       "      <th>28817</th>\n",
       "      <td>B</td>\n",
       "      <td>B5</td>\n",
       "      <td>11.86%</td>\n",
       "    </tr>\n",
       "    <tr>\n",
       "      <th>33783</th>\n",
       "      <td>C</td>\n",
       "      <td>C1</td>\n",
       "      <td>12.87%</td>\n",
       "    </tr>\n",
       "    <tr>\n",
       "      <th>12328</th>\n",
       "      <td>C</td>\n",
       "      <td>C2</td>\n",
       "      <td>13.49%</td>\n",
       "    </tr>\n",
       "    <tr>\n",
       "      <th>12625</th>\n",
       "      <td>C</td>\n",
       "      <td>C2</td>\n",
       "      <td>13.49%</td>\n",
       "    </tr>\n",
       "    <tr>\n",
       "      <th>22331</th>\n",
       "      <td>C</td>\n",
       "      <td>C3</td>\n",
       "      <td>12.98%</td>\n",
       "    </tr>\n",
       "    <tr>\n",
       "      <th>24475</th>\n",
       "      <td>C</td>\n",
       "      <td>C5</td>\n",
       "      <td>13.72%</td>\n",
       "    </tr>\n",
       "    <tr>\n",
       "      <th>32982</th>\n",
       "      <td>D</td>\n",
       "      <td>D2</td>\n",
       "      <td>14.96%</td>\n",
       "    </tr>\n",
       "    <tr>\n",
       "      <th>40916</th>\n",
       "      <td>D</td>\n",
       "      <td>D2</td>\n",
       "      <td>14.96%</td>\n",
       "    </tr>\n",
       "    <tr>\n",
       "      <th>35927</th>\n",
       "      <td>D</td>\n",
       "      <td>D3</td>\n",
       "      <td>14.74%</td>\n",
       "    </tr>\n",
       "    <tr>\n",
       "      <th>20386</th>\n",
       "      <td>D</td>\n",
       "      <td>D3</td>\n",
       "      <td>15.28%</td>\n",
       "    </tr>\n",
       "    <tr>\n",
       "      <th>2348</th>\n",
       "      <td>E</td>\n",
       "      <td>E1</td>\n",
       "      <td>18.64%</td>\n",
       "    </tr>\n",
       "    <tr>\n",
       "      <th>33409</th>\n",
       "      <td>E</td>\n",
       "      <td>E2</td>\n",
       "      <td>16.70%</td>\n",
       "    </tr>\n",
       "    <tr>\n",
       "      <th>21165</th>\n",
       "      <td>E</td>\n",
       "      <td>E2</td>\n",
       "      <td>16.32%</td>\n",
       "    </tr>\n",
       "    <tr>\n",
       "      <th>3333</th>\n",
       "      <td>E</td>\n",
       "      <td>E4</td>\n",
       "      <td>19.91%</td>\n",
       "    </tr>\n",
       "    <tr>\n",
       "      <th>17742</th>\n",
       "      <td>F</td>\n",
       "      <td>F1</td>\n",
       "      <td>18.25%</td>\n",
       "    </tr>\n",
       "    <tr>\n",
       "      <th>20066</th>\n",
       "      <td>F</td>\n",
       "      <td>F5</td>\n",
       "      <td>19.74%</td>\n",
       "    </tr>\n",
       "    <tr>\n",
       "      <th>22992</th>\n",
       "      <td>G</td>\n",
       "      <td>G3</td>\n",
       "      <td>20.40%</td>\n",
       "    </tr>\n",
       "  </tbody>\n",
       "</table>\n",
       "</div>"
      ],
      "text/plain": [
       "      grade sub_grade int_rate\n",
       "36922     A        A3    8.00%\n",
       "19092     A        A3    6.92%\n",
       "26307     A        A3    7.14%\n",
       "4566      A        A4    7.90%\n",
       "7050      A        A4    7.90%\n",
       "15292     A        A5    8.49%\n",
       "3958      B        B1    9.91%\n",
       "6652      B        B2   10.65%\n",
       "18326     B        B2   10.00%\n",
       "3641      B        B2   10.65%\n",
       "33749     B        B3   11.83%\n",
       "21084     B        B3   10.37%\n",
       "38870     B        B5   10.71%\n",
       "28817     B        B5   11.86%\n",
       "33783     C        C1   12.87%\n",
       "12328     C        C2   13.49%\n",
       "12625     C        C2   13.49%\n",
       "22331     C        C3   12.98%\n",
       "24475     C        C5   13.72%\n",
       "32982     D        D2   14.96%\n",
       "40916     D        D2   14.96%\n",
       "35927     D        D3   14.74%\n",
       "20386     D        D3   15.28%\n",
       "2348      E        E1   18.64%\n",
       "33409     E        E2   16.70%\n",
       "21165     E        E2   16.32%\n",
       "3333      E        E4   19.91%\n",
       "17742     F        F1   18.25%\n",
       "20066     F        F5   19.74%\n",
       "22992     G        G3   20.40%"
      ]
     },
     "execution_count": 18,
     "metadata": {},
     "output_type": "execute_result"
    }
   ],
   "source": [
    "loans[['grade', 'sub_grade', 'int_rate']].sample(30).sort_values( by=['grade', 'sub_grade'] )"
   ]
  },
  {
   "cell_type": "code",
   "execution_count": 19,
   "metadata": {
    "scrolled": true
   },
   "outputs": [
    {
     "name": "stdout",
     "output_type": "stream",
     "text": [
      "<class 'pandas.core.frame.DataFrame'>\n",
      "RangeIndex: 42538 entries, 0 to 42537\n",
      "Data columns (total 3 columns):\n",
      " #   Column     Non-Null Count  Dtype \n",
      "---  ------     --------------  ----- \n",
      " 0   grade      42535 non-null  object\n",
      " 1   sub_grade  42535 non-null  object\n",
      " 2   int_rate   42535 non-null  object\n",
      "dtypes: object(3)\n",
      "memory usage: 997.1+ KB\n"
     ]
    }
   ],
   "source": [
    "tmp_1 = loans[['grade', 'sub_grade', 'int_rate']].copy()\n",
    "\n",
    "tmp_1.info()\n"
   ]
  },
  {
   "cell_type": "code",
   "execution_count": 20,
   "metadata": {},
   "outputs": [],
   "source": [
    "tmp_1['int_rate'] = tmp_1['int_rate'].str.rstrip(\"%\").astype(\"float\")\n"
   ]
  },
  {
   "cell_type": "code",
   "execution_count": 21,
   "metadata": {},
   "outputs": [
    {
     "name": "stdout",
     "output_type": "stream",
     "text": [
      "<class 'pandas.core.frame.DataFrame'>\n",
      "RangeIndex: 42538 entries, 0 to 42537\n",
      "Data columns (total 3 columns):\n",
      " #   Column     Non-Null Count  Dtype  \n",
      "---  ------     --------------  -----  \n",
      " 0   grade      42535 non-null  object \n",
      " 1   sub_grade  42535 non-null  object \n",
      " 2   int_rate   42535 non-null  float64\n",
      "dtypes: float64(1), object(2)\n",
      "memory usage: 997.1+ KB\n"
     ]
    }
   ],
   "source": [
    "tmp_1.info()"
   ]
  },
  {
   "cell_type": "code",
   "execution_count": 22,
   "metadata": {},
   "outputs": [
    {
     "data": {
      "text/plain": [
       "array(['B', 'C', 'A', 'E', 'F', 'D', 'G', nan], dtype=object)"
      ]
     },
     "execution_count": 22,
     "metadata": {},
     "output_type": "execute_result"
    }
   ],
   "source": [
    "tmp_1['grade'].unique()"
   ]
  },
  {
   "cell_type": "code",
   "execution_count": 23,
   "metadata": {},
   "outputs": [
    {
     "data": {
      "text/plain": [
       "A      10183\n",
       "B      12389\n",
       "C       8740\n",
       "D       6016\n",
       "E       3394\n",
       "F       1301\n",
       "G        512\n",
       "NaN        3\n",
       "Name: grade, dtype: int64"
      ]
     },
     "execution_count": 23,
     "metadata": {},
     "output_type": "execute_result"
    }
   ],
   "source": [
    "tmp_1['grade'].value_counts(dropna=False).sort_index()"
   ]
  },
  {
   "cell_type": "code",
   "execution_count": 24,
   "metadata": {
    "scrolled": true
   },
   "outputs": [
    {
     "name": "stdout",
     "output_type": "stream",
     "text": [
      ">> Grade: A\n",
      " - Sub-grades: ['A4' 'A1' 'A3' 'A5' 'A2']\n",
      " - Interest Rate info:\n",
      " count    10183.000000\n",
      "mean         7.342708\n",
      "std          1.032999\n",
      "min          5.420000\n",
      "25%          6.620000\n",
      "50%          7.490000\n",
      "75%          7.900000\n",
      "max          9.630000\n",
      "Name: int_rate, dtype: float64 \n",
      "\n",
      ">> Grade: B\n",
      " - Sub-grades: ['B2' 'B5' 'B1' 'B3' 'B4']\n",
      " - Interest Rate info:\n",
      " count    12389.000000\n",
      "mean        11.014209\n",
      "std          0.905096\n",
      "min          6.000000\n",
      "25%         10.370000\n",
      "50%         10.990000\n",
      "75%         11.710000\n",
      "max         12.690000\n",
      "Name: int_rate, dtype: float64 \n",
      "\n",
      ">> Grade: C\n",
      " - Sub-grades: ['C4' 'C5' 'C1' 'C3' 'C2']\n",
      " - Interest Rate info:\n",
      " count    8740.000000\n",
      "mean       13.499889\n",
      "std         0.972367\n",
      "min         6.000000\n",
      "25%        12.990000\n",
      "50%        13.490000\n",
      "75%        13.990000\n",
      "max        16.110000\n",
      "Name: int_rate, dtype: float64 \n",
      "\n",
      ">> Grade: D\n",
      " - Sub-grades: ['D1' 'D2' 'D5' 'D3' 'D4']\n",
      " - Interest Rate info:\n",
      " count    6016.000000\n",
      "mean       15.577149\n",
      "std         1.242256\n",
      "min         6.000000\n",
      "25%        14.840000\n",
      "50%        15.580000\n",
      "75%        16.320000\n",
      "max        18.490000\n",
      "Name: int_rate, dtype: float64 \n",
      "\n",
      ">> Grade: E\n",
      " - Sub-grades: ['E1' 'E4' 'E3' 'E5' 'E2']\n",
      " - Interest Rate info:\n",
      " count    3394.000000\n",
      "mean       17.376768\n",
      "std         1.595556\n",
      "min         6.000000\n",
      "25%        16.450000\n",
      "50%        17.190000\n",
      "75%        18.640000\n",
      "max        20.990000\n",
      "Name: int_rate, dtype: float64 \n",
      "\n",
      ">> Grade: F\n",
      " - Sub-grades: ['F2' 'F3' 'F4' 'F1' 'F5']\n",
      " - Interest Rate info:\n",
      " count    1301.000000\n",
      "mean       19.265304\n",
      "std         1.781800\n",
      "min        15.010000\n",
      "25%        18.250000\n",
      "50%        19.040000\n",
      "75%        20.890000\n",
      "max        22.940000\n",
      "Name: int_rate, dtype: float64 \n",
      "\n",
      ">> Grade: G\n",
      " - Sub-grades: ['G4' 'G3' 'G2' 'G1' 'G5']\n",
      " - Interest Rate info:\n",
      " count    512.000000\n",
      "mean      20.451250\n",
      "std        1.828966\n",
      "min       16.590000\n",
      "25%       19.160000\n",
      "50%       20.480000\n",
      "75%       21.640000\n",
      "max       24.590000\n",
      "Name: int_rate, dtype: float64 \n",
      "\n"
     ]
    }
   ],
   "source": [
    "import numpy as np\n",
    "\n",
    "grades = list( tmp_1['grade'].unique() )\n",
    "\n",
    "grades.remove(np.nan)\n",
    "\n",
    "grades.sort()\n",
    "\n",
    "\n",
    "for grade in grades:\n",
    "    \n",
    "    grade_bool = tmp_1['grade'] == grade\n",
    "    \n",
    "    print( \">> Grade:\", grade )\n",
    "    \n",
    "    print( \" - Sub-grades:\", tmp_1[grade_bool]['sub_grade'].unique() )\n",
    "    \n",
    "    print( \" - Interest Rate info:\\n\", tmp_1[grade_bool]['int_rate'].describe(), \"\\n\" )\n"
   ]
  },
  {
   "cell_type": "code",
   "execution_count": 100,
   "metadata": {},
   "outputs": [
    {
     "data": {
      "image/png": "[encoded data removed]",
      "text/plain": [
       "<Figure size 720x432 with 1 Axes>"
      ]
     },
     "metadata": {
      "needs_background": "light"
     },
     "output_type": "display_data"
    }
   ],
   "source": [
    "import matplotlib.pyplot as plt\n",
    "import seaborn as sns\n",
    "\n",
    "fig, ax = plt.subplots(figsize=(10,6))\n",
    "\n",
    "sns.boxplot( ax = ax, x = 'grade', y = 'int_rate', data = tmp_1, \\\n",
    "             order=['A', 'B', 'C', 'D', 'E', 'F', 'G'] )\n",
    "\n",
    "\n",
    "plt.title('Interest Rate per Grade\\n(Distributions)', fontsize = 16)\n",
    "\n",
    "plt.ylabel('Interest Rate (%)')\n",
    "\n",
    "plt.xlabel('Grade')\n",
    "\n",
    "plt.show()\n"
   ]
  },
  {
   "cell_type": "markdown",
   "metadata": {},
   "source": [
    "#### > `zip_code`:\n",
    "This column is redundant with the `addr_state` column since only the first 3 digits of the 5-digit zip code are visible which can only be used to identify the state the borrower lives in."
   ]
  },
  {
   "cell_type": "code",
   "execution_count": 26,
   "metadata": {},
   "outputs": [
    {
     "data": {
      "text/plain": [
       "0    860xx\n",
       "1    309xx\n",
       "2    606xx\n",
       "3    917xx\n",
       "4    972xx\n",
       "Name: zip_code, dtype: object"
      ]
     },
     "execution_count": 26,
     "metadata": {},
     "output_type": "execute_result"
    }
   ],
   "source": [
    "loans['zip_code'].head()"
   ]
  },
  {
   "cell_type": "code",
   "execution_count": 27,
   "metadata": {},
   "outputs": [
    {
     "data": {
      "text/plain": [
       "0    AZ\n",
       "1    GA\n",
       "2    IL\n",
       "3    CA\n",
       "4    OR\n",
       "Name: addr_state, dtype: object"
      ]
     },
     "execution_count": 27,
     "metadata": {},
     "output_type": "execute_result"
    }
   ],
   "source": [
    "loans['addr_state'].head()"
   ]
  },
  {
   "cell_type": "markdown",
   "metadata": {},
   "source": [
    "Let's proceed to drop the columns:"
   ]
  },
  {
   "cell_type": "code",
   "execution_count": 28,
   "metadata": {},
   "outputs": [],
   "source": [
    "loans.drop( columns=[\"id\", \"member_id\", \"initial_list_status\", \"collections_12_mths_ex_med\", \\\n",
    "                     \"policy_code\", \"application_type\", \"chargeoff_within_12_mths\", \\\n",
    "                     \"emp_title\", \"title\", \"funded_amnt\", \"funded_amnt_inv\", \"issue_d\", \\\n",
    "                     \"out_prncp\", \"out_prncp_inv\", \"total_pymnt\", \"total_pymnt_inv\", \\\n",
    "                     \"total_rec_prncp\", \"total_rec_int\", \"total_rec_late_fee\", \"recoveries\", \\\n",
    "                     \"collection_recovery_fee\", \"last_pymnt_d\", \"last_pymnt_amnt\", \"grade\", \\\n",
    "                     \"sub_grade\", \"zip_code\"], inplace=True )\n"
   ]
  },
  {
   "cell_type": "code",
   "execution_count": 29,
   "metadata": {
    "scrolled": false
   },
   "outputs": [
    {
     "name": "stdout",
     "output_type": "stream",
     "text": [
      "<class 'pandas.core.frame.DataFrame'>\n",
      "RangeIndex: 42538 entries, 0 to 42537\n",
      "Data columns (total 26 columns):\n",
      " #   Column                Non-Null Count  Dtype  \n",
      "---  ------                --------------  -----  \n",
      " 0   loan_amnt             42535 non-null  float64\n",
      " 1   term                  42535 non-null  object \n",
      " 2   int_rate              42535 non-null  object \n",
      " 3   installment           42535 non-null  float64\n",
      " 4   emp_length            41423 non-null  object \n",
      " 5   home_ownership        42535 non-null  object \n",
      " 6   annual_inc            42531 non-null  float64\n",
      " 7   verification_status   42535 non-null  object \n",
      " 8   loan_status           42535 non-null  object \n",
      " 9   pymnt_plan            42535 non-null  object \n",
      " 10  purpose               42535 non-null  object \n",
      " 11  addr_state            42535 non-null  object \n",
      " 12  dti                   42535 non-null  float64\n",
      " 13  delinq_2yrs           42506 non-null  float64\n",
      " 14  earliest_cr_line      42506 non-null  object \n",
      " 15  inq_last_6mths        42506 non-null  float64\n",
      " 16  open_acc              42506 non-null  float64\n",
      " 17  pub_rec               42506 non-null  float64\n",
      " 18  revol_bal             42535 non-null  float64\n",
      " 19  revol_util            42445 non-null  object \n",
      " 20  total_acc             42506 non-null  float64\n",
      " 21  last_credit_pull_d    42531 non-null  object \n",
      " 22  acc_now_delinq        42506 non-null  float64\n",
      " 23  delinq_amnt           42506 non-null  float64\n",
      " 24  pub_rec_bankruptcies  41170 non-null  float64\n",
      " 25  tax_liens             42430 non-null  float64\n",
      "dtypes: float64(14), object(12)\n",
      "memory usage: 8.4+ MB\n"
     ]
    }
   ],
   "source": [
    "loans.info()"
   ]
  },
  {
   "cell_type": "code",
   "execution_count": 30,
   "metadata": {
    "scrolled": true
   },
   "outputs": [
    {
     "data": {
      "text/plain": [
       "(42538, 26)"
      ]
     },
     "execution_count": 30,
     "metadata": {},
     "output_type": "execute_result"
    }
   ],
   "source": [
    "loans.shape"
   ]
  },
  {
   "cell_type": "markdown",
   "metadata": {},
   "source": [
    "### Missing Values"
   ]
  },
  {
   "cell_type": "markdown",
   "metadata": {},
   "source": [
    "Let's check the proportions of the missing values:"
   ]
  },
  {
   "cell_type": "code",
   "execution_count": 31,
   "metadata": {
    "scrolled": true
   },
   "outputs": [
    {
     "data": {
      "text/plain": [
       "pub_rec_bankruptcies    1368\n",
       "emp_length              1115\n",
       "tax_liens                108\n",
       "revol_util                93\n",
       "earliest_cr_line          32\n",
       "delinq_amnt               32\n",
       "acc_now_delinq            32\n",
       "total_acc                 32\n",
       "pub_rec                   32\n",
       "open_acc                  32\n",
       "inq_last_6mths            32\n",
       "delinq_2yrs               32\n",
       "annual_inc                 7\n",
       "last_credit_pull_d         7\n",
       "dti                        3\n",
       "term                       3\n",
       "addr_state                 3\n",
       "purpose                    3\n",
       "pymnt_plan                 3\n",
       "loan_status                3\n",
       "revol_bal                  3\n",
       "verification_status        3\n",
       "home_ownership             3\n",
       "installment                3\n",
       "int_rate                   3\n",
       "loan_amnt                  3\n",
       "dtype: int64"
      ]
     },
     "execution_count": 31,
     "metadata": {},
     "output_type": "execute_result"
    }
   ],
   "source": [
    "loans.isnull().sum().sort_values(ascending=False)"
   ]
  },
  {
   "cell_type": "code",
   "execution_count": 32,
   "metadata": {
    "scrolled": true
   },
   "outputs": [
    {
     "name": "stdout",
     "output_type": "stream",
     "text": [
      "                      null_count  null_count_percentage\n",
      "pub_rec_bankruptcies        1368               3.215948\n",
      "emp_length                  1115               2.621186\n",
      "tax_liens                    108               0.253891\n",
      "revol_util                    93               0.218628\n",
      "earliest_cr_line              32               0.075227\n",
      "delinq_amnt                   32               0.075227\n",
      "acc_now_delinq                32               0.075227\n",
      "total_acc                     32               0.075227\n",
      "pub_rec                       32               0.075227\n",
      "open_acc                      32               0.075227\n",
      "inq_last_6mths                32               0.075227\n",
      "delinq_2yrs                   32               0.075227\n",
      "annual_inc                     7               0.016456\n",
      "last_credit_pull_d             7               0.016456\n",
      "dti                            3               0.007053\n",
      "term                           3               0.007053\n",
      "addr_state                     3               0.007053\n",
      "purpose                        3               0.007053\n",
      "pymnt_plan                     3               0.007053\n",
      "loan_status                    3               0.007053\n",
      "revol_bal                      3               0.007053\n",
      "verification_status            3               0.007053\n",
      "home_ownership                 3               0.007053\n",
      "installment                    3               0.007053\n",
      "int_rate                       3               0.007053\n",
      "loan_amnt                      3               0.007053\n"
     ]
    }
   ],
   "source": [
    "nulls_count = loans.isnull().sum().sort_values(ascending=False)\n",
    "\n",
    "nulls_count_df = pd.DataFrame(nulls_count, columns=[\"null_count\"])\n",
    "\n",
    "nulls_count_df['null_count_percentage'] = ( nulls_count_df['null_count'] / loans.shape[0] ) * 100\n",
    "\n",
    "print( nulls_count_df )\n"
   ]
  },
  {
   "cell_type": "markdown",
   "metadata": {},
   "source": [
    "Above, we can see that the following two columns contain the highest number of missing values (although they both represent a very small percentage of the total number of rows):\n",
    "\n",
    "- `pub_rec_bankruptcies`\n",
    "\n",
    "\n",
    "- `emp_length`"
   ]
  },
  {
   "cell_type": "markdown",
   "metadata": {},
   "source": [
    "#### > `pub_rec_bankruptcies`:"
   ]
  },
  {
   "cell_type": "code",
   "execution_count": 33,
   "metadata": {},
   "outputs": [
    {
     "data": {
      "text/plain": [
       "0.0    39316\n",
       "1.0     1846\n",
       "NaN     1368\n",
       "2.0        8\n",
       "Name: pub_rec_bankruptcies, dtype: int64"
      ]
     },
     "execution_count": 33,
     "metadata": {},
     "output_type": "execute_result"
    }
   ],
   "source": [
    "loans['pub_rec_bankruptcies'].value_counts(dropna=False)"
   ]
  },
  {
   "cell_type": "code",
   "execution_count": 34,
   "metadata": {},
   "outputs": [
    {
     "data": {
      "text/plain": [
       "0.0    92.425596\n",
       "1.0     4.339649\n",
       "NaN     3.215948\n",
       "2.0     0.018807\n",
       "Name: pub_rec_bankruptcies, dtype: float64"
      ]
     },
     "execution_count": 34,
     "metadata": {},
     "output_type": "execute_result"
    }
   ],
   "source": [
    "loans['pub_rec_bankruptcies'].value_counts(dropna=False, normalize=True) * 100"
   ]
  },
  {
   "cell_type": "markdown",
   "metadata": {},
   "source": [
    "We can see that this column has __very little variability__, 92% of values are in the same category. It probably won't have much predictive value. \n",
    "\n",
    "Let's drop the `pub_rec_bankruptcies` column."
   ]
  },
  {
   "cell_type": "code",
   "execution_count": 35,
   "metadata": {},
   "outputs": [
    {
     "data": {
      "text/plain": [
       "(42538, 26)"
      ]
     },
     "execution_count": 35,
     "metadata": {},
     "output_type": "execute_result"
    }
   ],
   "source": [
    "loans.shape"
   ]
  },
  {
   "cell_type": "code",
   "execution_count": 36,
   "metadata": {},
   "outputs": [],
   "source": [
    "loans.drop( columns=['pub_rec_bankruptcies'], inplace=True )"
   ]
  },
  {
   "cell_type": "code",
   "execution_count": 37,
   "metadata": {},
   "outputs": [
    {
     "data": {
      "text/plain": [
       "(42538, 25)"
      ]
     },
     "execution_count": 37,
     "metadata": {},
     "output_type": "execute_result"
    }
   ],
   "source": [
    "loans.shape"
   ]
  },
  {
   "cell_type": "markdown",
   "metadata": {},
   "source": [
    "#### > `emp_length`:\n",
    "\n",
    "Since this column contains only 2.6% of missing values, I will drop its missing values:"
   ]
  },
  {
   "cell_type": "code",
   "execution_count": 38,
   "metadata": {
    "scrolled": true
   },
   "outputs": [
    {
     "name": "stdout",
     "output_type": "stream",
     "text": [
      "<class 'pandas.core.frame.DataFrame'>\n",
      "Int64Index: 41423 entries, 0 to 42535\n",
      "Data columns (total 25 columns):\n",
      " #   Column               Non-Null Count  Dtype  \n",
      "---  ------               --------------  -----  \n",
      " 0   loan_amnt            41423 non-null  float64\n",
      " 1   term                 41423 non-null  object \n",
      " 2   int_rate             41423 non-null  object \n",
      " 3   installment          41423 non-null  float64\n",
      " 4   emp_length           41423 non-null  object \n",
      " 5   home_ownership       41423 non-null  object \n",
      " 6   annual_inc           41419 non-null  float64\n",
      " 7   verification_status  41423 non-null  object \n",
      " 8   loan_status          41423 non-null  object \n",
      " 9   pymnt_plan           41423 non-null  object \n",
      " 10  purpose              41423 non-null  object \n",
      " 11  addr_state           41423 non-null  object \n",
      " 12  dti                  41423 non-null  float64\n",
      " 13  delinq_2yrs          41394 non-null  float64\n",
      " 14  earliest_cr_line     41394 non-null  object \n",
      " 15  inq_last_6mths       41394 non-null  float64\n",
      " 16  open_acc             41394 non-null  float64\n",
      " 17  pub_rec              41394 non-null  float64\n",
      " 18  revol_bal            41423 non-null  float64\n",
      " 19  revol_util           41336 non-null  object \n",
      " 20  total_acc            41394 non-null  float64\n",
      " 21  last_credit_pull_d   41419 non-null  object \n",
      " 22  acc_now_delinq       41394 non-null  float64\n",
      " 23  delinq_amnt          41394 non-null  float64\n",
      " 24  tax_liens            41318 non-null  float64\n",
      "dtypes: float64(13), object(12)\n",
      "memory usage: 8.2+ MB\n"
     ]
    }
   ],
   "source": [
    "loans_2 = loans.dropna( subset=['emp_length'] ).copy()\n",
    "\n",
    "loans_2.info()\n"
   ]
  },
  {
   "cell_type": "code",
   "execution_count": 39,
   "metadata": {
    "scrolled": true
   },
   "outputs": [
    {
     "data": {
      "text/plain": [
       "tax_liens              105\n",
       "revol_util              87\n",
       "delinq_2yrs             29\n",
       "delinq_amnt             29\n",
       "acc_now_delinq          29\n",
       "total_acc               29\n",
       "pub_rec                 29\n",
       "open_acc                29\n",
       "inq_last_6mths          29\n",
       "earliest_cr_line        29\n",
       "last_credit_pull_d       4\n",
       "annual_inc               4\n",
       "revol_bal                0\n",
       "loan_amnt                0\n",
       "term                     0\n",
       "addr_state               0\n",
       "purpose                  0\n",
       "pymnt_plan               0\n",
       "loan_status              0\n",
       "verification_status      0\n",
       "home_ownership           0\n",
       "emp_length               0\n",
       "installment              0\n",
       "int_rate                 0\n",
       "dti                      0\n",
       "dtype: int64"
      ]
     },
     "execution_count": 39,
     "metadata": {},
     "output_type": "execute_result"
    }
   ],
   "source": [
    "loans_2.isnull().sum().sort_values(ascending=False)"
   ]
  },
  {
   "cell_type": "markdown",
   "metadata": {},
   "source": [
    "We can see (above) that the remaining number of missing values is insignificant. Hence, let's proceed to drop them:"
   ]
  },
  {
   "cell_type": "code",
   "execution_count": 40,
   "metadata": {},
   "outputs": [
    {
     "data": {
      "text/plain": [
       "(41423, 25)"
      ]
     },
     "execution_count": 40,
     "metadata": {},
     "output_type": "execute_result"
    }
   ],
   "source": [
    "loans_2.shape"
   ]
  },
  {
   "cell_type": "code",
   "execution_count": 41,
   "metadata": {},
   "outputs": [],
   "source": [
    "# By default, the axis parameter is set to \"0\" (which is equivalent to \"index\") which means:\n",
    "# drop rows which contain missing values\n",
    "loans_2.dropna( axis=0, inplace=True )\n"
   ]
  },
  {
   "cell_type": "code",
   "execution_count": 42,
   "metadata": {},
   "outputs": [
    {
     "data": {
      "text/plain": [
       "(41259, 25)"
      ]
     },
     "execution_count": 42,
     "metadata": {},
     "output_type": "execute_result"
    }
   ],
   "source": [
    "loans_2.shape"
   ]
  },
  {
   "cell_type": "code",
   "execution_count": 43,
   "metadata": {
    "scrolled": true
   },
   "outputs": [
    {
     "data": {
      "text/plain": [
       "loan_amnt              0\n",
       "term                   0\n",
       "int_rate               0\n",
       "installment            0\n",
       "emp_length             0\n",
       "home_ownership         0\n",
       "annual_inc             0\n",
       "verification_status    0\n",
       "loan_status            0\n",
       "pymnt_plan             0\n",
       "purpose                0\n",
       "addr_state             0\n",
       "dti                    0\n",
       "delinq_2yrs            0\n",
       "earliest_cr_line       0\n",
       "inq_last_6mths         0\n",
       "open_acc               0\n",
       "pub_rec                0\n",
       "revol_bal              0\n",
       "revol_util             0\n",
       "total_acc              0\n",
       "last_credit_pull_d     0\n",
       "acc_now_delinq         0\n",
       "delinq_amnt            0\n",
       "tax_liens              0\n",
       "dtype: int64"
      ]
     },
     "execution_count": 43,
     "metadata": {},
     "output_type": "execute_result"
    }
   ],
   "source": [
    "loans_2.isnull().sum()"
   ]
  },
  {
   "cell_type": "markdown",
   "metadata": {},
   "source": [
    "### Features (columns) that need to be cleaned up and formatted:\n",
    "\n",
    "- `term`\n",
    "\n",
    "\n",
    "- `emp_length`\n",
    "\n",
    "\n",
    "- `home_ownership`\n",
    "\n",
    "\n",
    "- `int_rate`\n",
    "\n",
    "\n",
    "- `revol_util`"
   ]
  },
  {
   "cell_type": "markdown",
   "metadata": {},
   "source": [
    "#### > `term`:\n",
    "\n",
    "I can see that this column is being considered as _nominal_ (i.e. variable measured on a nominal scale). I will change it to a _ratio_ scale because I realized that this column is quantitative (instead of qualitative) and we can tell the direction and the size of the difference.\n",
    "\n",
    "I will convert this column from string to numeric data type. Values are in months and can be either 36 or 60."
   ]
  },
  {
   "cell_type": "code",
   "execution_count": 44,
   "metadata": {},
   "outputs": [
    {
     "data": {
      "text/plain": [
       "dtype('O')"
      ]
     },
     "execution_count": 44,
     "metadata": {},
     "output_type": "execute_result"
    }
   ],
   "source": [
    "loans_2['term'].dtype"
   ]
  },
  {
   "cell_type": "code",
   "execution_count": 45,
   "metadata": {},
   "outputs": [
    {
     "data": {
      "text/plain": [
       " 36 months    30539\n",
       " 60 months    10720\n",
       "Name: term, dtype: int64"
      ]
     },
     "execution_count": 45,
     "metadata": {},
     "output_type": "execute_result"
    }
   ],
   "source": [
    "loans_2['term'].value_counts(dropna=False)"
   ]
  },
  {
   "cell_type": "code",
   "execution_count": 46,
   "metadata": {},
   "outputs": [],
   "source": [
    "term_dict = {\n",
    "    \" 36 months\": 36,\n",
    "    \" 60 months\": 60\n",
    "}\n",
    "\n",
    "loans_2['term'] = loans_2['term'].map( term_dict )\n"
   ]
  },
  {
   "cell_type": "code",
   "execution_count": 47,
   "metadata": {},
   "outputs": [
    {
     "data": {
      "text/plain": [
       "36    30539\n",
       "60    10720\n",
       "Name: term, dtype: int64"
      ]
     },
     "execution_count": 47,
     "metadata": {},
     "output_type": "execute_result"
    }
   ],
   "source": [
    "loans_2['term'].value_counts(dropna=False)"
   ]
  },
  {
   "cell_type": "code",
   "execution_count": 48,
   "metadata": {},
   "outputs": [
    {
     "data": {
      "text/plain": [
       "dtype('int64')"
      ]
     },
     "execution_count": 48,
     "metadata": {},
     "output_type": "execute_result"
    }
   ],
   "source": [
    "loans_2['term'].dtype"
   ]
  },
  {
   "cell_type": "markdown",
   "metadata": {},
   "source": [
    "#### > `emp_length`:\n",
    "\n",
    "I can see that this column is being considered as _nominal_ (i.e. variable measured on a nominal scale). I will change it to a _ratio_ scale because I realized that this column is quantitative (instead of qualitative) and we can tell the direction and the size of the difference.\n",
    "\n",
    "I will convert this column from string to numeric data type. The column units are _years_."
   ]
  },
  {
   "cell_type": "code",
   "execution_count": 49,
   "metadata": {},
   "outputs": [
    {
     "data": {
      "text/plain": [
       "dtype('O')"
      ]
     },
     "execution_count": 49,
     "metadata": {},
     "output_type": "execute_result"
    }
   ],
   "source": [
    "loans_2['emp_length'].dtype"
   ]
  },
  {
   "cell_type": "code",
   "execution_count": 50,
   "metadata": {},
   "outputs": [
    {
     "data": {
      "text/plain": [
       "10+ years    9357\n",
       "< 1 year     5004\n",
       "2 years      4727\n",
       "3 years      4354\n",
       "4 years      3635\n",
       "1 year       3568\n",
       "5 years      3451\n",
       "6 years      2370\n",
       "7 years      1869\n",
       "8 years      1587\n",
       "9 years      1337\n",
       "Name: emp_length, dtype: int64"
      ]
     },
     "execution_count": 50,
     "metadata": {},
     "output_type": "execute_result"
    }
   ],
   "source": [
    "loans_2['emp_length'].value_counts()"
   ]
  },
  {
   "cell_type": "code",
   "execution_count": 51,
   "metadata": {},
   "outputs": [
    {
     "data": {
      "text/plain": [
       "10+ years    22.678688\n",
       "< 1 year     12.128263\n",
       "2 years      11.456894\n",
       "3 years      10.552849\n",
       "4 years       8.810199\n",
       "1 year        8.647810\n",
       "5 years       8.364236\n",
       "6 years       5.744201\n",
       "7 years       4.529921\n",
       "8 years       3.846434\n",
       "9 years       3.240505\n",
       "Name: emp_length, dtype: float64"
      ]
     },
     "execution_count": 51,
     "metadata": {},
     "output_type": "execute_result"
    }
   ],
   "source": [
    "loans_2['emp_length'].value_counts(normalize=True) * 100"
   ]
  },
  {
   "cell_type": "code",
   "execution_count": 52,
   "metadata": {},
   "outputs": [],
   "source": [
    "emp_length_dict = {\n",
    "    \"10+ years\": 10,\n",
    "    \"9 years\": 9,\n",
    "    \"8 years\": 8,\n",
    "    \"7 years\": 7,\n",
    "    \"6 years\": 6,\n",
    "    \"5 years\": 5,\n",
    "    \"4 years\": 4,\n",
    "    \"3 years\": 3,\n",
    "    \"2 years\": 2,\n",
    "    \"1 year\": 1,\n",
    "    \"< 1 year\": 0.5\n",
    "}\n",
    "\n",
    "loans_2['emp_length'] = loans_2['emp_length'].map( emp_length_dict )\n"
   ]
  },
  {
   "cell_type": "code",
   "execution_count": 53,
   "metadata": {},
   "outputs": [
    {
     "data": {
      "text/plain": [
       "10.0    9357\n",
       "0.5     5004\n",
       "2.0     4727\n",
       "3.0     4354\n",
       "4.0     3635\n",
       "1.0     3568\n",
       "5.0     3451\n",
       "6.0     2370\n",
       "7.0     1869\n",
       "8.0     1587\n",
       "9.0     1337\n",
       "Name: emp_length, dtype: int64"
      ]
     },
     "execution_count": 53,
     "metadata": {},
     "output_type": "execute_result"
    }
   ],
   "source": [
    "loans_2['emp_length'].value_counts()"
   ]
  },
  {
   "cell_type": "code",
   "execution_count": 54,
   "metadata": {},
   "outputs": [
    {
     "data": {
      "text/plain": [
       "dtype('float64')"
      ]
     },
     "execution_count": 54,
     "metadata": {},
     "output_type": "execute_result"
    }
   ],
   "source": [
    "loans_2['emp_length'].dtype"
   ]
  },
  {
   "cell_type": "markdown",
   "metadata": {},
   "source": [
    "#### > `home_ownership`:\n",
    "\n",
    "According to the columns dictionary, the allowed values are: `RENT`, `MORTGAGE`, `OWN`, `OTHER`.\n",
    "\n",
    "I will replace the two `NONE` values with `OTHER`."
   ]
  },
  {
   "cell_type": "code",
   "execution_count": 55,
   "metadata": {},
   "outputs": [
    {
     "data": {
      "text/plain": [
       "RENT        19667\n",
       "MORTGAGE    18443\n",
       "OWN          3013\n",
       "OTHER         134\n",
       "NONE            2\n",
       "Name: home_ownership, dtype: int64"
      ]
     },
     "execution_count": 55,
     "metadata": {},
     "output_type": "execute_result"
    }
   ],
   "source": [
    "loans_2['home_ownership'].value_counts()"
   ]
  },
  {
   "cell_type": "code",
   "execution_count": 56,
   "metadata": {},
   "outputs": [
    {
     "data": {
      "text/plain": [
       "2"
      ]
     },
     "execution_count": 56,
     "metadata": {},
     "output_type": "execute_result"
    }
   ],
   "source": [
    "none_bool = loans_2['home_ownership'] == \"NONE\"\n",
    "\n",
    "none_bool.sum()\n"
   ]
  },
  {
   "cell_type": "code",
   "execution_count": 57,
   "metadata": {},
   "outputs": [
    {
     "data": {
      "text/html": [
       "<div>\n",
       "<style scoped>\n",
       "    .dataframe tbody tr th:only-of-type {\n",
       "        vertical-align: middle;\n",
       "    }\n",
       "\n",
       "    .dataframe tbody tr th {\n",
       "        vertical-align: top;\n",
       "    }\n",
       "\n",
       "    .dataframe thead th {\n",
       "        text-align: right;\n",
       "    }\n",
       "</style>\n",
       "<table border=\"1\" class=\"dataframe\">\n",
       "  <thead>\n",
       "    <tr style=\"text-align: right;\">\n",
       "      <th></th>\n",
       "      <th>loan_amnt</th>\n",
       "      <th>term</th>\n",
       "      <th>int_rate</th>\n",
       "      <th>installment</th>\n",
       "      <th>emp_length</th>\n",
       "      <th>home_ownership</th>\n",
       "      <th>annual_inc</th>\n",
       "      <th>verification_status</th>\n",
       "      <th>loan_status</th>\n",
       "      <th>pymnt_plan</th>\n",
       "      <th>purpose</th>\n",
       "      <th>addr_state</th>\n",
       "      <th>dti</th>\n",
       "      <th>delinq_2yrs</th>\n",
       "      <th>earliest_cr_line</th>\n",
       "      <th>inq_last_6mths</th>\n",
       "      <th>open_acc</th>\n",
       "      <th>pub_rec</th>\n",
       "      <th>revol_bal</th>\n",
       "      <th>revol_util</th>\n",
       "      <th>total_acc</th>\n",
       "      <th>last_credit_pull_d</th>\n",
       "      <th>acc_now_delinq</th>\n",
       "      <th>delinq_amnt</th>\n",
       "      <th>tax_liens</th>\n",
       "    </tr>\n",
       "  </thead>\n",
       "  <tbody>\n",
       "    <tr>\n",
       "      <th>39387</th>\n",
       "      <td>10000.0</td>\n",
       "      <td>36</td>\n",
       "      <td>7.75%</td>\n",
       "      <td>312.22</td>\n",
       "      <td>5.0</td>\n",
       "      <td>NONE</td>\n",
       "      <td>22200.0</td>\n",
       "      <td>Not Verified</td>\n",
       "      <td>Fully Paid</td>\n",
       "      <td>n</td>\n",
       "      <td>debt_consolidation</td>\n",
       "      <td>VA</td>\n",
       "      <td>5.24</td>\n",
       "      <td>0.0</td>\n",
       "      <td>Apr-1994</td>\n",
       "      <td>0.0</td>\n",
       "      <td>9.0</td>\n",
       "      <td>0.0</td>\n",
       "      <td>4767.0</td>\n",
       "      <td>8.7%</td>\n",
       "      <td>22.0</td>\n",
       "      <td>Jan-2011</td>\n",
       "      <td>0.0</td>\n",
       "      <td>0.0</td>\n",
       "      <td>0.0</td>\n",
       "    </tr>\n",
       "    <tr>\n",
       "      <th>42212</th>\n",
       "      <td>15000.0</td>\n",
       "      <td>36</td>\n",
       "      <td>15.65%</td>\n",
       "      <td>524.77</td>\n",
       "      <td>6.0</td>\n",
       "      <td>NONE</td>\n",
       "      <td>72000.0</td>\n",
       "      <td>Not Verified</td>\n",
       "      <td>Does not meet the credit policy. Status:Charge...</td>\n",
       "      <td>n</td>\n",
       "      <td>other</td>\n",
       "      <td>GA</td>\n",
       "      <td>8.73</td>\n",
       "      <td>2.0</td>\n",
       "      <td>May-1996</td>\n",
       "      <td>3.0</td>\n",
       "      <td>7.0</td>\n",
       "      <td>0.0</td>\n",
       "      <td>3193.0</td>\n",
       "      <td>59.1%</td>\n",
       "      <td>26.0</td>\n",
       "      <td>Jan-2009</td>\n",
       "      <td>0.0</td>\n",
       "      <td>0.0</td>\n",
       "      <td>0.0</td>\n",
       "    </tr>\n",
       "  </tbody>\n",
       "</table>\n",
       "</div>"
      ],
      "text/plain": [
       "       loan_amnt  term int_rate  installment  emp_length home_ownership  \\\n",
       "39387    10000.0    36    7.75%       312.22         5.0           NONE   \n",
       "42212    15000.0    36   15.65%       524.77         6.0           NONE   \n",
       "\n",
       "       annual_inc verification_status  \\\n",
       "39387     22200.0        Not Verified   \n",
       "42212     72000.0        Not Verified   \n",
       "\n",
       "                                             loan_status pymnt_plan  \\\n",
       "39387                                         Fully Paid          n   \n",
       "42212  Does not meet the credit policy. Status:Charge...          n   \n",
       "\n",
       "                  purpose addr_state   dti  delinq_2yrs earliest_cr_line  \\\n",
       "39387  debt_consolidation         VA  5.24          0.0         Apr-1994   \n",
       "42212               other         GA  8.73          2.0         May-1996   \n",
       "\n",
       "       inq_last_6mths  open_acc  pub_rec  revol_bal revol_util  total_acc  \\\n",
       "39387             0.0       9.0      0.0     4767.0       8.7%       22.0   \n",
       "42212             3.0       7.0      0.0     3193.0      59.1%       26.0   \n",
       "\n",
       "      last_credit_pull_d  acc_now_delinq  delinq_amnt  tax_liens  \n",
       "39387           Jan-2011             0.0          0.0        0.0  \n",
       "42212           Jan-2009             0.0          0.0        0.0  "
      ]
     },
     "execution_count": 57,
     "metadata": {},
     "output_type": "execute_result"
    }
   ],
   "source": [
    "loans_2[none_bool]"
   ]
  },
  {
   "cell_type": "code",
   "execution_count": 58,
   "metadata": {},
   "outputs": [
    {
     "name": "stderr",
     "output_type": "stream",
     "text": [
      "C:\\Users\\helen\\Anaconda3\\lib\\site-packages\\pandas\\core\\frame.py:3607: SettingWithCopyWarning: \n",
      "A value is trying to be set on a copy of a slice from a DataFrame.\n",
      "Try using .loc[row_indexer,col_indexer] = value instead\n",
      "\n",
      "See the caveats in the documentation: https://pandas.pydata.org/pandas-docs/stable/user_guide/indexing.html#returning-a-view-versus-a-copy\n",
      "  self._set_item(key, value)\n"
     ]
    }
   ],
   "source": [
    "loans_2[none_bool]['home_ownership'] = \"OTHER\""
   ]
  },
  {
   "cell_type": "code",
   "execution_count": 59,
   "metadata": {},
   "outputs": [
    {
     "data": {
      "text/html": [
       "<div>\n",
       "<style scoped>\n",
       "    .dataframe tbody tr th:only-of-type {\n",
       "        vertical-align: middle;\n",
       "    }\n",
       "\n",
       "    .dataframe tbody tr th {\n",
       "        vertical-align: top;\n",
       "    }\n",
       "\n",
       "    .dataframe thead th {\n",
       "        text-align: right;\n",
       "    }\n",
       "</style>\n",
       "<table border=\"1\" class=\"dataframe\">\n",
       "  <thead>\n",
       "    <tr style=\"text-align: right;\">\n",
       "      <th></th>\n",
       "      <th>loan_amnt</th>\n",
       "      <th>term</th>\n",
       "      <th>int_rate</th>\n",
       "      <th>installment</th>\n",
       "      <th>emp_length</th>\n",
       "      <th>home_ownership</th>\n",
       "      <th>annual_inc</th>\n",
       "      <th>verification_status</th>\n",
       "      <th>loan_status</th>\n",
       "      <th>pymnt_plan</th>\n",
       "      <th>purpose</th>\n",
       "      <th>addr_state</th>\n",
       "      <th>dti</th>\n",
       "      <th>delinq_2yrs</th>\n",
       "      <th>earliest_cr_line</th>\n",
       "      <th>inq_last_6mths</th>\n",
       "      <th>open_acc</th>\n",
       "      <th>pub_rec</th>\n",
       "      <th>revol_bal</th>\n",
       "      <th>revol_util</th>\n",
       "      <th>total_acc</th>\n",
       "      <th>last_credit_pull_d</th>\n",
       "      <th>acc_now_delinq</th>\n",
       "      <th>delinq_amnt</th>\n",
       "      <th>tax_liens</th>\n",
       "    </tr>\n",
       "  </thead>\n",
       "  <tbody>\n",
       "    <tr>\n",
       "      <th>39387</th>\n",
       "      <td>10000.0</td>\n",
       "      <td>36</td>\n",
       "      <td>7.75%</td>\n",
       "      <td>312.22</td>\n",
       "      <td>5.0</td>\n",
       "      <td>NONE</td>\n",
       "      <td>22200.0</td>\n",
       "      <td>Not Verified</td>\n",
       "      <td>Fully Paid</td>\n",
       "      <td>n</td>\n",
       "      <td>debt_consolidation</td>\n",
       "      <td>VA</td>\n",
       "      <td>5.24</td>\n",
       "      <td>0.0</td>\n",
       "      <td>Apr-1994</td>\n",
       "      <td>0.0</td>\n",
       "      <td>9.0</td>\n",
       "      <td>0.0</td>\n",
       "      <td>4767.0</td>\n",
       "      <td>8.7%</td>\n",
       "      <td>22.0</td>\n",
       "      <td>Jan-2011</td>\n",
       "      <td>0.0</td>\n",
       "      <td>0.0</td>\n",
       "      <td>0.0</td>\n",
       "    </tr>\n",
       "    <tr>\n",
       "      <th>42212</th>\n",
       "      <td>15000.0</td>\n",
       "      <td>36</td>\n",
       "      <td>15.65%</td>\n",
       "      <td>524.77</td>\n",
       "      <td>6.0</td>\n",
       "      <td>NONE</td>\n",
       "      <td>72000.0</td>\n",
       "      <td>Not Verified</td>\n",
       "      <td>Does not meet the credit policy. Status:Charge...</td>\n",
       "      <td>n</td>\n",
       "      <td>other</td>\n",
       "      <td>GA</td>\n",
       "      <td>8.73</td>\n",
       "      <td>2.0</td>\n",
       "      <td>May-1996</td>\n",
       "      <td>3.0</td>\n",
       "      <td>7.0</td>\n",
       "      <td>0.0</td>\n",
       "      <td>3193.0</td>\n",
       "      <td>59.1%</td>\n",
       "      <td>26.0</td>\n",
       "      <td>Jan-2009</td>\n",
       "      <td>0.0</td>\n",
       "      <td>0.0</td>\n",
       "      <td>0.0</td>\n",
       "    </tr>\n",
       "  </tbody>\n",
       "</table>\n",
       "</div>"
      ],
      "text/plain": [
       "       loan_amnt  term int_rate  installment  emp_length home_ownership  \\\n",
       "39387    10000.0    36    7.75%       312.22         5.0           NONE   \n",
       "42212    15000.0    36   15.65%       524.77         6.0           NONE   \n",
       "\n",
       "       annual_inc verification_status  \\\n",
       "39387     22200.0        Not Verified   \n",
       "42212     72000.0        Not Verified   \n",
       "\n",
       "                                             loan_status pymnt_plan  \\\n",
       "39387                                         Fully Paid          n   \n",
       "42212  Does not meet the credit policy. Status:Charge...          n   \n",
       "\n",
       "                  purpose addr_state   dti  delinq_2yrs earliest_cr_line  \\\n",
       "39387  debt_consolidation         VA  5.24          0.0         Apr-1994   \n",
       "42212               other         GA  8.73          2.0         May-1996   \n",
       "\n",
       "       inq_last_6mths  open_acc  pub_rec  revol_bal revol_util  total_acc  \\\n",
       "39387             0.0       9.0      0.0     4767.0       8.7%       22.0   \n",
       "42212             3.0       7.0      0.0     3193.0      59.1%       26.0   \n",
       "\n",
       "      last_credit_pull_d  acc_now_delinq  delinq_amnt  tax_liens  \n",
       "39387           Jan-2011             0.0          0.0        0.0  \n",
       "42212           Jan-2009             0.0          0.0        0.0  "
      ]
     },
     "execution_count": 59,
     "metadata": {},
     "output_type": "execute_result"
    }
   ],
   "source": [
    "loans_2[none_bool]"
   ]
  },
  {
   "cell_type": "code",
   "execution_count": 60,
   "metadata": {},
   "outputs": [
    {
     "data": {
      "text/plain": [
       "Int64Index([39387, 42212], dtype='int64')"
      ]
     },
     "execution_count": 60,
     "metadata": {},
     "output_type": "execute_result"
    }
   ],
   "source": [
    "loans_2[none_bool].index"
   ]
  },
  {
   "cell_type": "code",
   "execution_count": 61,
   "metadata": {},
   "outputs": [],
   "source": [
    "loans_2.loc[ loans_2[none_bool].index, 'home_ownership' ] = \"OTHER\" "
   ]
  },
  {
   "cell_type": "code",
   "execution_count": 62,
   "metadata": {
    "scrolled": true
   },
   "outputs": [
    {
     "data": {
      "text/html": [
       "<div>\n",
       "<style scoped>\n",
       "    .dataframe tbody tr th:only-of-type {\n",
       "        vertical-align: middle;\n",
       "    }\n",
       "\n",
       "    .dataframe tbody tr th {\n",
       "        vertical-align: top;\n",
       "    }\n",
       "\n",
       "    .dataframe thead th {\n",
       "        text-align: right;\n",
       "    }\n",
       "</style>\n",
       "<table border=\"1\" class=\"dataframe\">\n",
       "  <thead>\n",
       "    <tr style=\"text-align: right;\">\n",
       "      <th></th>\n",
       "      <th>loan_amnt</th>\n",
       "      <th>term</th>\n",
       "      <th>int_rate</th>\n",
       "      <th>installment</th>\n",
       "      <th>emp_length</th>\n",
       "      <th>home_ownership</th>\n",
       "      <th>annual_inc</th>\n",
       "      <th>verification_status</th>\n",
       "      <th>loan_status</th>\n",
       "      <th>pymnt_plan</th>\n",
       "      <th>purpose</th>\n",
       "      <th>addr_state</th>\n",
       "      <th>dti</th>\n",
       "      <th>delinq_2yrs</th>\n",
       "      <th>earliest_cr_line</th>\n",
       "      <th>inq_last_6mths</th>\n",
       "      <th>open_acc</th>\n",
       "      <th>pub_rec</th>\n",
       "      <th>revol_bal</th>\n",
       "      <th>revol_util</th>\n",
       "      <th>total_acc</th>\n",
       "      <th>last_credit_pull_d</th>\n",
       "      <th>acc_now_delinq</th>\n",
       "      <th>delinq_amnt</th>\n",
       "      <th>tax_liens</th>\n",
       "    </tr>\n",
       "  </thead>\n",
       "  <tbody>\n",
       "    <tr>\n",
       "      <th>39387</th>\n",
       "      <td>10000.0</td>\n",
       "      <td>36</td>\n",
       "      <td>7.75%</td>\n",
       "      <td>312.22</td>\n",
       "      <td>5.0</td>\n",
       "      <td>OTHER</td>\n",
       "      <td>22200.0</td>\n",
       "      <td>Not Verified</td>\n",
       "      <td>Fully Paid</td>\n",
       "      <td>n</td>\n",
       "      <td>debt_consolidation</td>\n",
       "      <td>VA</td>\n",
       "      <td>5.24</td>\n",
       "      <td>0.0</td>\n",
       "      <td>Apr-1994</td>\n",
       "      <td>0.0</td>\n",
       "      <td>9.0</td>\n",
       "      <td>0.0</td>\n",
       "      <td>4767.0</td>\n",
       "      <td>8.7%</td>\n",
       "      <td>22.0</td>\n",
       "      <td>Jan-2011</td>\n",
       "      <td>0.0</td>\n",
       "      <td>0.0</td>\n",
       "      <td>0.0</td>\n",
       "    </tr>\n",
       "    <tr>\n",
       "      <th>42212</th>\n",
       "      <td>15000.0</td>\n",
       "      <td>36</td>\n",
       "      <td>15.65%</td>\n",
       "      <td>524.77</td>\n",
       "      <td>6.0</td>\n",
       "      <td>OTHER</td>\n",
       "      <td>72000.0</td>\n",
       "      <td>Not Verified</td>\n",
       "      <td>Does not meet the credit policy. Status:Charge...</td>\n",
       "      <td>n</td>\n",
       "      <td>other</td>\n",
       "      <td>GA</td>\n",
       "      <td>8.73</td>\n",
       "      <td>2.0</td>\n",
       "      <td>May-1996</td>\n",
       "      <td>3.0</td>\n",
       "      <td>7.0</td>\n",
       "      <td>0.0</td>\n",
       "      <td>3193.0</td>\n",
       "      <td>59.1%</td>\n",
       "      <td>26.0</td>\n",
       "      <td>Jan-2009</td>\n",
       "      <td>0.0</td>\n",
       "      <td>0.0</td>\n",
       "      <td>0.0</td>\n",
       "    </tr>\n",
       "  </tbody>\n",
       "</table>\n",
       "</div>"
      ],
      "text/plain": [
       "       loan_amnt  term int_rate  installment  emp_length home_ownership  \\\n",
       "39387    10000.0    36    7.75%       312.22         5.0          OTHER   \n",
       "42212    15000.0    36   15.65%       524.77         6.0          OTHER   \n",
       "\n",
       "       annual_inc verification_status  \\\n",
       "39387     22200.0        Not Verified   \n",
       "42212     72000.0        Not Verified   \n",
       "\n",
       "                                             loan_status pymnt_plan  \\\n",
       "39387                                         Fully Paid          n   \n",
       "42212  Does not meet the credit policy. Status:Charge...          n   \n",
       "\n",
       "                  purpose addr_state   dti  delinq_2yrs earliest_cr_line  \\\n",
       "39387  debt_consolidation         VA  5.24          0.0         Apr-1994   \n",
       "42212               other         GA  8.73          2.0         May-1996   \n",
       "\n",
       "       inq_last_6mths  open_acc  pub_rec  revol_bal revol_util  total_acc  \\\n",
       "39387             0.0       9.0      0.0     4767.0       8.7%       22.0   \n",
       "42212             3.0       7.0      0.0     3193.0      59.1%       26.0   \n",
       "\n",
       "      last_credit_pull_d  acc_now_delinq  delinq_amnt  tax_liens  \n",
       "39387           Jan-2011             0.0          0.0        0.0  \n",
       "42212           Jan-2009             0.0          0.0        0.0  "
      ]
     },
     "execution_count": 62,
     "metadata": {},
     "output_type": "execute_result"
    }
   ],
   "source": [
    "loans_2[none_bool]"
   ]
  },
  {
   "cell_type": "code",
   "execution_count": 63,
   "metadata": {},
   "outputs": [
    {
     "data": {
      "text/plain": [
       "RENT        19667\n",
       "MORTGAGE    18443\n",
       "OWN          3013\n",
       "OTHER         136\n",
       "Name: home_ownership, dtype: int64"
      ]
     },
     "execution_count": 63,
     "metadata": {},
     "output_type": "execute_result"
    }
   ],
   "source": [
    "loans_2['home_ownership'].value_counts()"
   ]
  },
  {
   "cell_type": "markdown",
   "metadata": {},
   "source": [
    "#### > `int_rate` and `revol_util`:\n",
    "\n",
    "For these two columns, I will remove the percentage sign and convert them from string to numeric data type."
   ]
  },
  {
   "cell_type": "code",
   "execution_count": 64,
   "metadata": {
    "scrolled": true
   },
   "outputs": [
    {
     "data": {
      "text/plain": [
       " 10.99%    946\n",
       " 13.49%    818\n",
       " 11.49%    812\n",
       "  7.51%    756\n",
       "  7.88%    715\n",
       "          ... \n",
       " 21.48%      1\n",
       " 17.41%      1\n",
       " 17.44%      1\n",
       " 16.33%      1\n",
       " 22.64%      1\n",
       "Name: int_rate, Length: 394, dtype: int64"
      ]
     },
     "execution_count": 64,
     "metadata": {},
     "output_type": "execute_result"
    }
   ],
   "source": [
    "loans_2['int_rate'].value_counts()"
   ]
  },
  {
   "cell_type": "code",
   "execution_count": 65,
   "metadata": {},
   "outputs": [
    {
     "data": {
      "text/plain": [
       "dtype('O')"
      ]
     },
     "execution_count": 65,
     "metadata": {},
     "output_type": "execute_result"
    }
   ],
   "source": [
    "loans_2['int_rate'].dtype"
   ]
  },
  {
   "cell_type": "code",
   "execution_count": 66,
   "metadata": {},
   "outputs": [
    {
     "data": {
      "text/plain": [
       "0%        1031\n",
       "0.2%        63\n",
       "40.7%       63\n",
       "63%         62\n",
       "66.6%       61\n",
       "          ... \n",
       "21.72%       1\n",
       "21.59%       1\n",
       "39.95%       1\n",
       "0.01%        1\n",
       "105.3%       1\n",
       "Name: revol_util, Length: 1116, dtype: int64"
      ]
     },
     "execution_count": 66,
     "metadata": {},
     "output_type": "execute_result"
    }
   ],
   "source": [
    "loans_2['revol_util'].value_counts()"
   ]
  },
  {
   "cell_type": "code",
   "execution_count": 67,
   "metadata": {},
   "outputs": [
    {
     "data": {
      "text/plain": [
       "dtype('O')"
      ]
     },
     "execution_count": 67,
     "metadata": {},
     "output_type": "execute_result"
    }
   ],
   "source": [
    "loans_2['revol_util'].dtype"
   ]
  },
  {
   "cell_type": "code",
   "execution_count": 68,
   "metadata": {},
   "outputs": [],
   "source": [
    "loans_2['int_rate'] = loans_2['int_rate'].str.rstrip(\"%\").astype(\"float\")\n",
    "\n",
    "loans_2['revol_util'] = loans_2['revol_util'].str.rstrip(\"%\").astype(\"float\")\n"
   ]
  },
  {
   "cell_type": "code",
   "execution_count": 69,
   "metadata": {},
   "outputs": [
    {
     "data": {
      "text/plain": [
       "dtype('float64')"
      ]
     },
     "execution_count": 69,
     "metadata": {},
     "output_type": "execute_result"
    }
   ],
   "source": [
    "loans_2['int_rate'].dtype"
   ]
  },
  {
   "cell_type": "code",
   "execution_count": 70,
   "metadata": {},
   "outputs": [
    {
     "data": {
      "text/plain": [
       "dtype('float64')"
      ]
     },
     "execution_count": 70,
     "metadata": {},
     "output_type": "execute_result"
    }
   ],
   "source": [
    "loans_2['revol_util'].dtype"
   ]
  },
  {
   "cell_type": "markdown",
   "metadata": {},
   "source": [
    "### Target Column"
   ]
  },
  {
   "cell_type": "markdown",
   "metadata": {},
   "source": [
    "Let's use the `loan_status` column as the target column, since it's the only column that directly describes if a loan was paid off on time, had delayed payments, or was defaulted on the borrower."
   ]
  },
  {
   "cell_type": "code",
   "execution_count": 71,
   "metadata": {},
   "outputs": [
    {
     "data": {
      "text/plain": [
       "Fully Paid                                             32257\n",
       "Charged Off                                             5389\n",
       "Does not meet the credit policy. Status:Fully Paid      1906\n",
       "Current                                                  923\n",
       "Does not meet the credit policy. Status:Charged Off      733\n",
       "Late (31-120 days)                                        23\n",
       "In Grace Period                                           18\n",
       "Late (16-30 days)                                          8\n",
       "Default                                                    2\n",
       "Name: loan_status, dtype: int64"
      ]
     },
     "execution_count": 71,
     "metadata": {},
     "output_type": "execute_result"
    }
   ],
   "source": [
    "loans_2['loan_status'].value_counts()"
   ]
  },
  {
   "cell_type": "code",
   "execution_count": 72,
   "metadata": {},
   "outputs": [
    {
     "data": {
      "text/plain": [
       "Fully Paid                                             78.181730\n",
       "Charged Off                                            13.061393\n",
       "Does not meet the credit policy. Status:Fully Paid      4.619598\n",
       "Current                                                 2.237088\n",
       "Does not meet the credit policy. Status:Charged Off     1.776582\n",
       "Late (31-120 days)                                      0.055745\n",
       "In Grace Period                                         0.043627\n",
       "Late (16-30 days)                                       0.019390\n",
       "Default                                                 0.004847\n",
       "Name: loan_status, dtype: float64"
      ]
     },
     "execution_count": 72,
     "metadata": {},
     "output_type": "execute_result"
    }
   ],
   "source": [
    "loans_2['loan_status'].value_counts(normalize=True) * 100"
   ]
  },
  {
   "cell_type": "markdown",
   "metadata": {},
   "source": [
    "There are 9 different possible values for the `loan_status` column:\n",
    "\n",
    "- You can read [here](https://help.lendingclub.com/hc/en-us/articles/215488038-What-do-the-different-Note-statuses-mean-) about most of the different loan statuses.\n",
    "\n",
    "\n",
    "- Explanation found in the [internet](https://www.uxax.org/post/data-cleaning-and-preparation-for-machine-learning) with regard to the two values that start with `Does not meet the credit policy`: \"While the loan was [paid off / charged off], the loan application today would no longer meet the credit policy and wouldn't be approved on to the marketplace.\"\n",
    "\n",
    "__From the investor's perspective, we're interested in trying to predict which loans will be paid off on time and which ones won't be__. Only the `Fully Paid` and `Charged Off` values describe the final outcome of the loan. The other values describe loans that are in progress and where we do not know if the borrower will pay back the loan on time or not. While the `Default` status resembles the `Charged Off` status, according to [Lending Club](https://help.lendingclub.com/hc/en-us/articles/216127747-What-is-the-difference-between-a-loan-that-is-in-default-and-a-loan-that-has-been-charged-off-), loans that are charged off have essentially no chance of being repaid while default ones have a small chance."
   ]
  },
  {
   "cell_type": "markdown",
   "metadata": {},
   "source": [
    "Since we're interested in being able to predict which of these 2 values a loan will fall under, we can treat the problem as a __binary classification__ one. \n",
    "\n",
    "Let's remove all the loans that don't contain either `Fully Paid` and `Charged Off` as the loan's status and then transform the `Fully Paid` values to `1` for the positive case and the `Charged Off` values to `0` for the negative case.\n",
    "\n",
    "Lastly, one thing we need to keep in mind is the __class imbalance__ between the positive and negative cases. While there are 32,257 loans that have been fully paid off, there are only 5,389 that were charged off. \n",
    "\n",
    "- There are about __6 times__ as many loans that were paid off on time (positive case, label of `1`) than those that weren't (negative case, label of `0`).\n",
    "\n",
    "This class imbalance is a common problem in binary classification and during training, the model ends up having a strong bias towards predicting the class with more observations in the training set and will rarely predict the class with less observations. The stronger the imbalance, the more biased the model becomes.\n",
    "\n",
    "Due to its potential to cause issues, we need to keep the class imbalance in mind as we build machine learning models."
   ]
  },
  {
   "cell_type": "code",
   "execution_count": 73,
   "metadata": {},
   "outputs": [
    {
     "data": {
      "text/plain": [
       "(41259, 25)"
      ]
     },
     "execution_count": 73,
     "metadata": {},
     "output_type": "execute_result"
    }
   ],
   "source": [
    "loans_2.shape"
   ]
  },
  {
   "cell_type": "code",
   "execution_count": 74,
   "metadata": {},
   "outputs": [],
   "source": [
    "loan_status_bool = (loans_2['loan_status'] == \"Fully Paid\") | (loans_2['loan_status'] == \"Charged Off\")\n",
    "\n",
    "loans_3 = loans_2[loan_status_bool].copy()\n",
    "\n",
    "\n",
    "status_replace = { \"loan_status\": {\n",
    "                            \"Fully Paid\": 1,\n",
    "                            \"Charged Off\": 0\n",
    "                    } \n",
    "                 }\n",
    "\n",
    "\n",
    "loans_3 = loans_3.replace( status_replace )\n"
   ]
  },
  {
   "cell_type": "code",
   "execution_count": 75,
   "metadata": {
    "scrolled": true
   },
   "outputs": [
    {
     "name": "stdout",
     "output_type": "stream",
     "text": [
      "<class 'pandas.core.frame.DataFrame'>\n",
      "Int64Index: 37646 entries, 0 to 39753\n",
      "Data columns (total 25 columns):\n",
      " #   Column               Non-Null Count  Dtype  \n",
      "---  ------               --------------  -----  \n",
      " 0   loan_amnt            37646 non-null  float64\n",
      " 1   term                 37646 non-null  int64  \n",
      " 2   int_rate             37646 non-null  float64\n",
      " 3   installment          37646 non-null  float64\n",
      " 4   emp_length           37646 non-null  float64\n",
      " 5   home_ownership       37646 non-null  object \n",
      " 6   annual_inc           37646 non-null  float64\n",
      " 7   verification_status  37646 non-null  object \n",
      " 8   loan_status          37646 non-null  int64  \n",
      " 9   pymnt_plan           37646 non-null  object \n",
      " 10  purpose              37646 non-null  object \n",
      " 11  addr_state           37646 non-null  object \n",
      " 12  dti                  37646 non-null  float64\n",
      " 13  delinq_2yrs          37646 non-null  float64\n",
      " 14  earliest_cr_line     37646 non-null  object \n",
      " 15  inq_last_6mths       37646 non-null  float64\n",
      " 16  open_acc             37646 non-null  float64\n",
      " 17  pub_rec              37646 non-null  float64\n",
      " 18  revol_bal            37646 non-null  float64\n",
      " 19  revol_util           37646 non-null  float64\n",
      " 20  total_acc            37646 non-null  float64\n",
      " 21  last_credit_pull_d   37646 non-null  object \n",
      " 22  acc_now_delinq       37646 non-null  float64\n",
      " 23  delinq_amnt          37646 non-null  float64\n",
      " 24  tax_liens            37646 non-null  float64\n",
      "dtypes: float64(16), int64(2), object(7)\n",
      "memory usage: 7.5+ MB\n"
     ]
    }
   ],
   "source": [
    "loans_3.info()"
   ]
  },
  {
   "cell_type": "code",
   "execution_count": 76,
   "metadata": {},
   "outputs": [
    {
     "data": {
      "text/plain": [
       "(37646, 25)"
      ]
     },
     "execution_count": 76,
     "metadata": {},
     "output_type": "execute_result"
    }
   ],
   "source": [
    "loans_3.shape"
   ]
  },
  {
   "cell_type": "code",
   "execution_count": 77,
   "metadata": {},
   "outputs": [
    {
     "data": {
      "text/plain": [
       "1    32257\n",
       "0     5389\n",
       "Name: loan_status, dtype: int64"
      ]
     },
     "execution_count": 77,
     "metadata": {},
     "output_type": "execute_result"
    }
   ],
   "source": [
    "loans_3['loan_status'].value_counts(dropna=False)"
   ]
  },
  {
   "cell_type": "markdown",
   "metadata": {},
   "source": [
    "### Removing More Single Value Columns"
   ]
  },
  {
   "cell_type": "markdown",
   "metadata": {},
   "source": [
    "By removing all the loans that don't contain either `Fully Paid` and `Charged Off` as the loan's status we ended up with 37,646 rows (we had originally 42,538).\n",
    "\n",
    "Therefore, let's look for any additional columns that contain only one unique value (low variance features) and remove them. These columns won't be useful for the model since they don't add any information to each loan application."
   ]
  },
  {
   "cell_type": "code",
   "execution_count": 78,
   "metadata": {},
   "outputs": [
    {
     "name": "stdout",
     "output_type": "stream",
     "text": [
      "['pymnt_plan', 'acc_now_delinq', 'delinq_amnt', 'tax_liens']\n"
     ]
    }
   ],
   "source": [
    "low_variance_features = []\n",
    "\n",
    "for col in loans_3.columns:\n",
    "    \n",
    "    if len( loans_3[col].unique() ) == 1:\n",
    "        \n",
    "        low_variance_features.append(col)\n",
    "\n",
    "\n",
    "print( low_variance_features )\n"
   ]
  },
  {
   "cell_type": "code",
   "execution_count": 79,
   "metadata": {},
   "outputs": [],
   "source": [
    "loans_3.drop( columns=low_variance_features, inplace=True )\n"
   ]
  },
  {
   "cell_type": "code",
   "execution_count": 80,
   "metadata": {
    "scrolled": true
   },
   "outputs": [
    {
     "name": "stdout",
     "output_type": "stream",
     "text": [
      "<class 'pandas.core.frame.DataFrame'>\n",
      "Int64Index: 37646 entries, 0 to 39753\n",
      "Data columns (total 21 columns):\n",
      " #   Column               Non-Null Count  Dtype  \n",
      "---  ------               --------------  -----  \n",
      " 0   loan_amnt            37646 non-null  float64\n",
      " 1   term                 37646 non-null  int64  \n",
      " 2   int_rate             37646 non-null  float64\n",
      " 3   installment          37646 non-null  float64\n",
      " 4   emp_length           37646 non-null  float64\n",
      " 5   home_ownership       37646 non-null  object \n",
      " 6   annual_inc           37646 non-null  float64\n",
      " 7   verification_status  37646 non-null  object \n",
      " 8   loan_status          37646 non-null  int64  \n",
      " 9   purpose              37646 non-null  object \n",
      " 10  addr_state           37646 non-null  object \n",
      " 11  dti                  37646 non-null  float64\n",
      " 12  delinq_2yrs          37646 non-null  float64\n",
      " 13  earliest_cr_line     37646 non-null  object \n",
      " 14  inq_last_6mths       37646 non-null  float64\n",
      " 15  open_acc             37646 non-null  float64\n",
      " 16  pub_rec              37646 non-null  float64\n",
      " 17  revol_bal            37646 non-null  float64\n",
      " 18  revol_util           37646 non-null  float64\n",
      " 19  total_acc            37646 non-null  float64\n",
      " 20  last_credit_pull_d   37646 non-null  object \n",
      "dtypes: float64(13), int64(2), object(6)\n",
      "memory usage: 6.3+ MB\n"
     ]
    }
   ],
   "source": [
    "loans_3.info()"
   ]
  },
  {
   "cell_type": "code",
   "execution_count": 81,
   "metadata": {},
   "outputs": [
    {
     "data": {
      "text/plain": [
       "(37646, 21)"
      ]
     },
     "execution_count": 81,
     "metadata": {},
     "output_type": "execute_result"
    }
   ],
   "source": [
    "loans_3.shape"
   ]
  },
  {
   "cell_type": "markdown",
   "metadata": {},
   "source": [
    "### Dummy Variables"
   ]
  },
  {
   "cell_type": "markdown",
   "metadata": {},
   "source": [
    "Let's use dummy variables for columns containing categorical values. Whenever we have more than 2 categories, we need to create more columns to represent the categories."
   ]
  },
  {
   "cell_type": "code",
   "execution_count": 82,
   "metadata": {},
   "outputs": [
    {
     "name": "stdout",
     "output_type": "stream",
     "text": [
      "<class 'pandas.core.frame.DataFrame'>\n",
      "Int64Index: 37646 entries, 0 to 39753\n",
      "Data columns (total 6 columns):\n",
      " #   Column               Non-Null Count  Dtype \n",
      "---  ------               --------------  ----- \n",
      " 0   home_ownership       37646 non-null  object\n",
      " 1   verification_status  37646 non-null  object\n",
      " 2   purpose              37646 non-null  object\n",
      " 3   addr_state           37646 non-null  object\n",
      " 4   earliest_cr_line     37646 non-null  object\n",
      " 5   last_credit_pull_d   37646 non-null  object\n",
      "dtypes: object(6)\n",
      "memory usage: 2.0+ MB\n"
     ]
    }
   ],
   "source": [
    "object_columns_df = loans_3.select_dtypes( include=['object'] )\n",
    "\n",
    "object_columns_df.info()\n"
   ]
  },
  {
   "cell_type": "code",
   "execution_count": 83,
   "metadata": {},
   "outputs": [
    {
     "data": {
      "text/html": [
       "<div>\n",
       "<style scoped>\n",
       "    .dataframe tbody tr th:only-of-type {\n",
       "        vertical-align: middle;\n",
       "    }\n",
       "\n",
       "    .dataframe tbody tr th {\n",
       "        vertical-align: top;\n",
       "    }\n",
       "\n",
       "    .dataframe thead th {\n",
       "        text-align: right;\n",
       "    }\n",
       "</style>\n",
       "<table border=\"1\" class=\"dataframe\">\n",
       "  <thead>\n",
       "    <tr style=\"text-align: right;\">\n",
       "      <th></th>\n",
       "      <th>home_ownership</th>\n",
       "      <th>verification_status</th>\n",
       "      <th>purpose</th>\n",
       "      <th>addr_state</th>\n",
       "      <th>earliest_cr_line</th>\n",
       "      <th>last_credit_pull_d</th>\n",
       "    </tr>\n",
       "  </thead>\n",
       "  <tbody>\n",
       "    <tr>\n",
       "      <th>count</th>\n",
       "      <td>37646</td>\n",
       "      <td>37646</td>\n",
       "      <td>37646</td>\n",
       "      <td>37646</td>\n",
       "      <td>37646</td>\n",
       "      <td>37646</td>\n",
       "    </tr>\n",
       "    <tr>\n",
       "      <th>unique</th>\n",
       "      <td>4</td>\n",
       "      <td>3</td>\n",
       "      <td>14</td>\n",
       "      <td>50</td>\n",
       "      <td>514</td>\n",
       "      <td>104</td>\n",
       "    </tr>\n",
       "    <tr>\n",
       "      <th>top</th>\n",
       "      <td>RENT</td>\n",
       "      <td>Not Verified</td>\n",
       "      <td>debt_consolidation</td>\n",
       "      <td>CA</td>\n",
       "      <td>Oct-1999</td>\n",
       "      <td>Jun-2016</td>\n",
       "    </tr>\n",
       "    <tr>\n",
       "      <th>freq</th>\n",
       "      <td>18104</td>\n",
       "      <td>16246</td>\n",
       "      <td>17747</td>\n",
       "      <td>6776</td>\n",
       "      <td>355</td>\n",
       "      <td>10474</td>\n",
       "    </tr>\n",
       "  </tbody>\n",
       "</table>\n",
       "</div>"
      ],
      "text/plain": [
       "       home_ownership verification_status             purpose addr_state  \\\n",
       "count           37646               37646               37646      37646   \n",
       "unique              4                   3                  14         50   \n",
       "top              RENT        Not Verified  debt_consolidation         CA   \n",
       "freq            18104               16246               17747       6776   \n",
       "\n",
       "       earliest_cr_line last_credit_pull_d  \n",
       "count             37646              37646  \n",
       "unique              514                104  \n",
       "top            Oct-1999           Jun-2016  \n",
       "freq                355              10474  "
      ]
     },
     "execution_count": 83,
     "metadata": {},
     "output_type": "execute_result"
    }
   ],
   "source": [
    "object_columns_df.describe()"
   ]
  },
  {
   "cell_type": "markdown",
   "metadata": {},
   "source": [
    "### > IMPORTANT NOTE:\n",
    "\n",
    "Given the __high__ number of unique values of columns `addr_state`, `earliest_cr_line` and `last_credit_pull_d` (see above table), I would like to approach the problem in three different ways (by using three different dataframes).\n",
    "\n",
    "1. Option 1: Consider the columns that do not have a high number of unique values: `home_ownership`, `verification_status`, and `purpose`\n",
    "\n",
    "\n",
    "2. Option 2: Consider the columns from Option 1 plus the `addr_state`\n",
    "\n",
    "\n",
    "3. Option 3: Consider all six columns"
   ]
  },
  {
   "cell_type": "markdown",
   "metadata": {},
   "source": [
    "### > Option 1:"
   ]
  },
  {
   "cell_type": "code",
   "execution_count": 84,
   "metadata": {},
   "outputs": [
    {
     "data": {
      "text/plain": [
       "(37646, 21)"
      ]
     },
     "execution_count": 84,
     "metadata": {},
     "output_type": "execute_result"
    }
   ],
   "source": [
    "loans_3.shape\n"
   ]
  },
  {
   "cell_type": "code",
   "execution_count": 85,
   "metadata": {},
   "outputs": [],
   "source": [
    "option_1_columns = [\"home_ownership\", \"verification_status\", \"purpose\"]\n",
    "\n",
    "dummy_df = pd.get_dummies( loans_3[option_1_columns] )\n",
    "\n",
    "loans_opt_1 = pd.concat( [loans_3, dummy_df], axis=1 )\n",
    "\n",
    "loans_opt_1.drop( columns=option_1_columns, inplace=True )\n"
   ]
  },
  {
   "cell_type": "code",
   "execution_count": 86,
   "metadata": {
    "scrolled": true
   },
   "outputs": [
    {
     "name": "stdout",
     "output_type": "stream",
     "text": [
      "<class 'pandas.core.frame.DataFrame'>\n",
      "Int64Index: 37646 entries, 0 to 39753\n",
      "Data columns (total 39 columns):\n",
      " #   Column                               Non-Null Count  Dtype  \n",
      "---  ------                               --------------  -----  \n",
      " 0   loan_amnt                            37646 non-null  float64\n",
      " 1   term                                 37646 non-null  int64  \n",
      " 2   int_rate                             37646 non-null  float64\n",
      " 3   installment                          37646 non-null  float64\n",
      " 4   emp_length                           37646 non-null  float64\n",
      " 5   annual_inc                           37646 non-null  float64\n",
      " 6   loan_status                          37646 non-null  int64  \n",
      " 7   addr_state                           37646 non-null  object \n",
      " 8   dti                                  37646 non-null  float64\n",
      " 9   delinq_2yrs                          37646 non-null  float64\n",
      " 10  earliest_cr_line                     37646 non-null  object \n",
      " 11  inq_last_6mths                       37646 non-null  float64\n",
      " 12  open_acc                             37646 non-null  float64\n",
      " 13  pub_rec                              37646 non-null  float64\n",
      " 14  revol_bal                            37646 non-null  float64\n",
      " 15  revol_util                           37646 non-null  float64\n",
      " 16  total_acc                            37646 non-null  float64\n",
      " 17  last_credit_pull_d                   37646 non-null  object \n",
      " 18  home_ownership_MORTGAGE              37646 non-null  uint8  \n",
      " 19  home_ownership_OTHER                 37646 non-null  uint8  \n",
      " 20  home_ownership_OWN                   37646 non-null  uint8  \n",
      " 21  home_ownership_RENT                  37646 non-null  uint8  \n",
      " 22  verification_status_Not Verified     37646 non-null  uint8  \n",
      " 23  verification_status_Source Verified  37646 non-null  uint8  \n",
      " 24  verification_status_Verified         37646 non-null  uint8  \n",
      " 25  purpose_car                          37646 non-null  uint8  \n",
      " 26  purpose_credit_card                  37646 non-null  uint8  \n",
      " 27  purpose_debt_consolidation           37646 non-null  uint8  \n",
      " 28  purpose_educational                  37646 non-null  uint8  \n",
      " 29  purpose_home_improvement             37646 non-null  uint8  \n",
      " 30  purpose_house                        37646 non-null  uint8  \n",
      " 31  purpose_major_purchase               37646 non-null  uint8  \n",
      " 32  purpose_medical                      37646 non-null  uint8  \n",
      " 33  purpose_moving                       37646 non-null  uint8  \n",
      " 34  purpose_other                        37646 non-null  uint8  \n",
      " 35  purpose_renewable_energy             37646 non-null  uint8  \n",
      " 36  purpose_small_business               37646 non-null  uint8  \n",
      " 37  purpose_vacation                     37646 non-null  uint8  \n",
      " 38  purpose_wedding                      37646 non-null  uint8  \n",
      "dtypes: float64(13), int64(2), object(3), uint8(21)\n",
      "memory usage: 6.2+ MB\n"
     ]
    }
   ],
   "source": [
    "loans_opt_1.info()"
   ]
  },
  {
   "cell_type": "code",
   "execution_count": 87,
   "metadata": {},
   "outputs": [
    {
     "data": {
      "text/plain": [
       "(37646, 39)"
      ]
     },
     "execution_count": 87,
     "metadata": {},
     "output_type": "execute_result"
    }
   ],
   "source": [
    "loans_opt_1.shape"
   ]
  },
  {
   "cell_type": "code",
   "execution_count": 88,
   "metadata": {},
   "outputs": [],
   "source": [
    "loans_opt_1.drop( columns=['addr_state', 'earliest_cr_line', 'last_credit_pull_d'], inplace=True )\n"
   ]
  },
  {
   "cell_type": "code",
   "execution_count": 89,
   "metadata": {},
   "outputs": [
    {
     "data": {
      "text/plain": [
       "(37646, 36)"
      ]
     },
     "execution_count": 89,
     "metadata": {},
     "output_type": "execute_result"
    }
   ],
   "source": [
    "loans_opt_1.shape"
   ]
  },
  {
   "cell_type": "markdown",
   "metadata": {},
   "source": [
    "*** Dummy Variable Trap"
   ]
  },
  {
   "cell_type": "code",
   "execution_count": 90,
   "metadata": {},
   "outputs": [],
   "source": [
    "loans_opt_1_dvt = loans_opt_1.copy()\n",
    "\n",
    "loans_opt_1_dvt.drop( columns=['home_ownership_MORTGAGE', 'verification_status_Not Verified', \\\n",
    "                               'purpose_car'], inplace=True )\n"
   ]
  },
  {
   "cell_type": "code",
   "execution_count": 91,
   "metadata": {},
   "outputs": [
    {
     "data": {
      "text/plain": [
       "(37646, 33)"
      ]
     },
     "execution_count": 91,
     "metadata": {},
     "output_type": "execute_result"
    }
   ],
   "source": [
    "loans_opt_1_dvt.shape"
   ]
  },
  {
   "cell_type": "code",
   "execution_count": null,
   "metadata": {},
   "outputs": [],
   "source": []
  },
  {
   "cell_type": "markdown",
   "metadata": {},
   "source": [
    "### > Option 2:"
   ]
  },
  {
   "cell_type": "code",
   "execution_count": 92,
   "metadata": {},
   "outputs": [
    {
     "data": {
      "text/plain": [
       "(37646, 21)"
      ]
     },
     "execution_count": 92,
     "metadata": {},
     "output_type": "execute_result"
    }
   ],
   "source": [
    "loans_3.shape\n"
   ]
  },
  {
   "cell_type": "code",
   "execution_count": 93,
   "metadata": {},
   "outputs": [],
   "source": [
    "option_2_columns = [\"home_ownership\", \"verification_status\", \"purpose\", \"addr_state\"]\n",
    "\n",
    "dummy_df = pd.get_dummies( loans_3[option_2_columns] )\n",
    "\n",
    "loans_opt_2 = pd.concat( [loans_3, dummy_df], axis=1 )\n",
    "\n",
    "loans_opt_2.drop( columns=option_2_columns, inplace=True )\n"
   ]
  },
  {
   "cell_type": "code",
   "execution_count": 94,
   "metadata": {
    "scrolled": true
   },
   "outputs": [
    {
     "name": "stdout",
     "output_type": "stream",
     "text": [
      "<class 'pandas.core.frame.DataFrame'>\n",
      "Int64Index: 37646 entries, 0 to 39753\n",
      "Data columns (total 88 columns):\n",
      " #   Column                               Non-Null Count  Dtype  \n",
      "---  ------                               --------------  -----  \n",
      " 0   loan_amnt                            37646 non-null  float64\n",
      " 1   term                                 37646 non-null  int64  \n",
      " 2   int_rate                             37646 non-null  float64\n",
      " 3   installment                          37646 non-null  float64\n",
      " 4   emp_length                           37646 non-null  float64\n",
      " 5   annual_inc                           37646 non-null  float64\n",
      " 6   loan_status                          37646 non-null  int64  \n",
      " 7   dti                                  37646 non-null  float64\n",
      " 8   delinq_2yrs                          37646 non-null  float64\n",
      " 9   earliest_cr_line                     37646 non-null  object \n",
      " 10  inq_last_6mths                       37646 non-null  float64\n",
      " 11  open_acc                             37646 non-null  float64\n",
      " 12  pub_rec                              37646 non-null  float64\n",
      " 13  revol_bal                            37646 non-null  float64\n",
      " 14  revol_util                           37646 non-null  float64\n",
      " 15  total_acc                            37646 non-null  float64\n",
      " 16  last_credit_pull_d                   37646 non-null  object \n",
      " 17  home_ownership_MORTGAGE              37646 non-null  uint8  \n",
      " 18  home_ownership_OTHER                 37646 non-null  uint8  \n",
      " 19  home_ownership_OWN                   37646 non-null  uint8  \n",
      " 20  home_ownership_RENT                  37646 non-null  uint8  \n",
      " 21  verification_status_Not Verified     37646 non-null  uint8  \n",
      " 22  verification_status_Source Verified  37646 non-null  uint8  \n",
      " 23  verification_status_Verified         37646 non-null  uint8  \n",
      " 24  purpose_car                          37646 non-null  uint8  \n",
      " 25  purpose_credit_card                  37646 non-null  uint8  \n",
      " 26  purpose_debt_consolidation           37646 non-null  uint8  \n",
      " 27  purpose_educational                  37646 non-null  uint8  \n",
      " 28  purpose_home_improvement             37646 non-null  uint8  \n",
      " 29  purpose_house                        37646 non-null  uint8  \n",
      " 30  purpose_major_purchase               37646 non-null  uint8  \n",
      " 31  purpose_medical                      37646 non-null  uint8  \n",
      " 32  purpose_moving                       37646 non-null  uint8  \n",
      " 33  purpose_other                        37646 non-null  uint8  \n",
      " 34  purpose_renewable_energy             37646 non-null  uint8  \n",
      " 35  purpose_small_business               37646 non-null  uint8  \n",
      " 36  purpose_vacation                     37646 non-null  uint8  \n",
      " 37  purpose_wedding                      37646 non-null  uint8  \n",
      " 38  addr_state_AK                        37646 non-null  uint8  \n",
      " 39  addr_state_AL                        37646 non-null  uint8  \n",
      " 40  addr_state_AR                        37646 non-null  uint8  \n",
      " 41  addr_state_AZ                        37646 non-null  uint8  \n",
      " 42  addr_state_CA                        37646 non-null  uint8  \n",
      " 43  addr_state_CO                        37646 non-null  uint8  \n",
      " 44  addr_state_CT                        37646 non-null  uint8  \n",
      " 45  addr_state_DC                        37646 non-null  uint8  \n",
      " 46  addr_state_DE                        37646 non-null  uint8  \n",
      " 47  addr_state_FL                        37646 non-null  uint8  \n",
      " 48  addr_state_GA                        37646 non-null  uint8  \n",
      " 49  addr_state_HI                        37646 non-null  uint8  \n",
      " 50  addr_state_IA                        37646 non-null  uint8  \n",
      " 51  addr_state_ID                        37646 non-null  uint8  \n",
      " 52  addr_state_IL                        37646 non-null  uint8  \n",
      " 53  addr_state_IN                        37646 non-null  uint8  \n",
      " 54  addr_state_KS                        37646 non-null  uint8  \n",
      " 55  addr_state_KY                        37646 non-null  uint8  \n",
      " 56  addr_state_LA                        37646 non-null  uint8  \n",
      " 57  addr_state_MA                        37646 non-null  uint8  \n",
      " 58  addr_state_MD                        37646 non-null  uint8  \n",
      " 59  addr_state_ME                        37646 non-null  uint8  \n",
      " 60  addr_state_MI                        37646 non-null  uint8  \n",
      " 61  addr_state_MN                        37646 non-null  uint8  \n",
      " 62  addr_state_MO                        37646 non-null  uint8  \n",
      " 63  addr_state_MS                        37646 non-null  uint8  \n",
      " 64  addr_state_MT                        37646 non-null  uint8  \n",
      " 65  addr_state_NC                        37646 non-null  uint8  \n",
      " 66  addr_state_NE                        37646 non-null  uint8  \n",
      " 67  addr_state_NH                        37646 non-null  uint8  \n",
      " 68  addr_state_NJ                        37646 non-null  uint8  \n",
      " 69  addr_state_NM                        37646 non-null  uint8  \n",
      " 70  addr_state_NV                        37646 non-null  uint8  \n",
      " 71  addr_state_NY                        37646 non-null  uint8  \n",
      " 72  addr_state_OH                        37646 non-null  uint8  \n",
      " 73  addr_state_OK                        37646 non-null  uint8  \n",
      " 74  addr_state_OR                        37646 non-null  uint8  \n",
      " 75  addr_state_PA                        37646 non-null  uint8  \n",
      " 76  addr_state_RI                        37646 non-null  uint8  \n",
      " 77  addr_state_SC                        37646 non-null  uint8  \n",
      " 78  addr_state_SD                        37646 non-null  uint8  \n",
      " 79  addr_state_TN                        37646 non-null  uint8  \n",
      " 80  addr_state_TX                        37646 non-null  uint8  \n",
      " 81  addr_state_UT                        37646 non-null  uint8  \n",
      " 82  addr_state_VA                        37646 non-null  uint8  \n",
      " 83  addr_state_VT                        37646 non-null  uint8  \n",
      " 84  addr_state_WA                        37646 non-null  uint8  \n",
      " 85  addr_state_WI                        37646 non-null  uint8  \n",
      " 86  addr_state_WV                        37646 non-null  uint8  \n",
      " 87  addr_state_WY                        37646 non-null  uint8  \n",
      "dtypes: float64(13), int64(2), object(2), uint8(71)\n",
      "memory usage: 7.7+ MB\n"
     ]
    }
   ],
   "source": [
    "loans_opt_2.info()"
   ]
  },
  {
   "cell_type": "code",
   "execution_count": 95,
   "metadata": {},
   "outputs": [
    {
     "data": {
      "text/plain": [
       "(37646, 88)"
      ]
     },
     "execution_count": 95,
     "metadata": {},
     "output_type": "execute_result"
    }
   ],
   "source": [
    "loans_opt_2.shape"
   ]
  },
  {
   "cell_type": "code",
   "execution_count": 96,
   "metadata": {},
   "outputs": [],
   "source": [
    "loans_opt_2.drop( columns=['earliest_cr_line', 'last_credit_pull_d'], inplace=True )\n"
   ]
  },
  {
   "cell_type": "code",
   "execution_count": 97,
   "metadata": {},
   "outputs": [
    {
     "data": {
      "text/plain": [
       "(37646, 86)"
      ]
     },
     "execution_count": 97,
     "metadata": {},
     "output_type": "execute_result"
    }
   ],
   "source": [
    "loans_opt_2.shape"
   ]
  },
  {
   "cell_type": "markdown",
   "metadata": {},
   "source": [
    "*** Dummy Variable Trap"
   ]
  },
  {
   "cell_type": "code",
   "execution_count": 98,
   "metadata": {},
   "outputs": [],
   "source": [
    "loans_opt_2_dvt = loans_opt_2.copy()\n",
    "\n",
    "loans_opt_2_dvt.drop( columns=['home_ownership_MORTGAGE', 'verification_status_Not Verified', \\\n",
    "                               'purpose_car', 'addr_state_AZ'], inplace=True )\n"
   ]
  },
  {
   "cell_type": "code",
   "execution_count": 99,
   "metadata": {},
   "outputs": [
    {
     "data": {
      "text/plain": [
       "(37646, 82)"
      ]
     },
     "execution_count": 99,
     "metadata": {},
     "output_type": "execute_result"
    }
   ],
   "source": [
    "loans_opt_2_dvt.shape"
   ]
  },
  {
   "cell_type": "code",
   "execution_count": null,
   "metadata": {},
   "outputs": [],
   "source": []
  },
  {
   "cell_type": "markdown",
   "metadata": {},
   "source": [
    "### > Option 3:"
   ]
  },
  {
   "cell_type": "code",
   "execution_count": null,
   "metadata": {},
   "outputs": [],
   "source": []
  },
  {
   "cell_type": "code",
   "execution_count": null,
   "metadata": {},
   "outputs": [],
   "source": []
  },
  {
   "cell_type": "code",
   "execution_count": null,
   "metadata": {},
   "outputs": [],
   "source": []
  },
  {
   "cell_type": "markdown",
   "metadata": {},
   "source": [
    "### Finding Correlated Features"
   ]
  },
  {
   "cell_type": "markdown",
   "metadata": {},
   "source": [
    "Let's look for potential __collinearity__ between the features.\n",
    "\n",
    "__Collinearity__ is when 2 feature columns are highly correlated and stand the risk of duplicating information. If we have 2 features that convey the same information using 2 different measures or metrics, we don't need to keep both.\n",
    "\n",
    "The effect of collinearity is that your model will __overfit__ - you may get great results on your test data set, but then the model performs worse on unseen data."
   ]
  },
  {
   "cell_type": "markdown",
   "metadata": {},
   "source": [
    "### > Option 1:"
   ]
  },
  {
   "cell_type": "code",
   "execution_count": 90,
   "metadata": {},
   "outputs": [
    {
     "data": {
      "text/plain": [
       "(37646, 36)"
      ]
     },
     "execution_count": 90,
     "metadata": {},
     "output_type": "execute_result"
    }
   ],
   "source": [
    "loans_opt_1.shape"
   ]
  },
  {
   "cell_type": "code",
   "execution_count": 91,
   "metadata": {},
   "outputs": [
    {
     "name": "stdout",
     "output_type": "stream",
     "text": [
      "35\n"
     ]
    }
   ],
   "source": [
    "cols = loans_opt_1.columns\n",
    "\n",
    "corr_cols = cols.drop(\"loan_status\")\n",
    "\n",
    "print( len(corr_cols) )\n"
   ]
  },
  {
   "cell_type": "code",
   "execution_count": 92,
   "metadata": {},
   "outputs": [
    {
     "name": "stdout",
     "output_type": "stream",
     "text": [
      "(35, 35)\n",
      "<class 'pandas.core.frame.DataFrame'>\n"
     ]
    }
   ],
   "source": [
    "correlations_matrix = loans_opt_1[corr_cols].corr()\n",
    "\n",
    "print( correlations_matrix.shape )\n",
    "\n",
    "print( type(correlations_matrix) )\n"
   ]
  },
  {
   "cell_type": "code",
   "execution_count": 93,
   "metadata": {
    "scrolled": true
   },
   "outputs": [
    {
     "data": {
      "text/html": [
       "<div>\n",
       "<style scoped>\n",
       "    .dataframe tbody tr th:only-of-type {\n",
       "        vertical-align: middle;\n",
       "    }\n",
       "\n",
       "    .dataframe tbody tr th {\n",
       "        vertical-align: top;\n",
       "    }\n",
       "\n",
       "    .dataframe thead th {\n",
       "        text-align: right;\n",
       "    }\n",
       "</style>\n",
       "<table border=\"1\" class=\"dataframe\">\n",
       "  <thead>\n",
       "    <tr style=\"text-align: right;\">\n",
       "      <th></th>\n",
       "      <th>loan_amnt</th>\n",
       "      <th>term</th>\n",
       "      <th>int_rate</th>\n",
       "      <th>installment</th>\n",
       "      <th>emp_length</th>\n",
       "      <th>annual_inc</th>\n",
       "      <th>dti</th>\n",
       "      <th>delinq_2yrs</th>\n",
       "      <th>inq_last_6mths</th>\n",
       "      <th>open_acc</th>\n",
       "      <th>pub_rec</th>\n",
       "      <th>revol_bal</th>\n",
       "      <th>revol_util</th>\n",
       "      <th>total_acc</th>\n",
       "      <th>home_ownership_MORTGAGE</th>\n",
       "      <th>home_ownership_OTHER</th>\n",
       "      <th>home_ownership_OWN</th>\n",
       "      <th>home_ownership_RENT</th>\n",
       "      <th>verification_status_Not Verified</th>\n",
       "      <th>verification_status_Source Verified</th>\n",
       "      <th>verification_status_Verified</th>\n",
       "      <th>purpose_car</th>\n",
       "      <th>purpose_credit_card</th>\n",
       "      <th>purpose_debt_consolidation</th>\n",
       "      <th>purpose_educational</th>\n",
       "      <th>purpose_home_improvement</th>\n",
       "      <th>purpose_house</th>\n",
       "      <th>purpose_major_purchase</th>\n",
       "      <th>purpose_medical</th>\n",
       "      <th>purpose_moving</th>\n",
       "      <th>purpose_other</th>\n",
       "      <th>purpose_renewable_energy</th>\n",
       "      <th>purpose_small_business</th>\n",
       "      <th>purpose_vacation</th>\n",
       "      <th>purpose_wedding</th>\n",
       "    </tr>\n",
       "  </thead>\n",
       "  <tbody>\n",
       "    <tr>\n",
       "      <td>loan_amnt</td>\n",
       "      <td>1.000000</td>\n",
       "      <td>0.346154</td>\n",
       "      <td>0.301807</td>\n",
       "      <td>0.931122</td>\n",
       "      <td>0.148600</td>\n",
       "      <td>0.267418</td>\n",
       "      <td>0.061205</td>\n",
       "      <td>-0.033329</td>\n",
       "      <td>0.012551</td>\n",
       "      <td>0.174050</td>\n",
       "      <td>-0.046713</td>\n",
       "      <td>0.313479</td>\n",
       "      <td>0.062923</td>\n",
       "      <td>0.255133</td>\n",
       "      <td>0.171600</td>\n",
       "      <td>-0.002964</td>\n",
       "      <td>-0.031283</td>\n",
       "      <td>-0.153937</td>\n",
       "      <td>-0.318449</td>\n",
       "      <td>-0.088840</td>\n",
       "      <td>0.422746</td>\n",
       "      <td>-0.118958</td>\n",
       "      <td>0.026490</td>\n",
       "      <td>0.185099</td>\n",
       "      <td>-0.052688</td>\n",
       "      <td>0.010613</td>\n",
       "      <td>0.023254</td>\n",
       "      <td>-0.099772</td>\n",
       "      <td>-0.053635</td>\n",
       "      <td>-0.074732</td>\n",
       "      <td>-0.140114</td>\n",
       "      <td>-0.016429</td>\n",
       "      <td>0.067931</td>\n",
       "      <td>-0.073237</td>\n",
       "      <td>-0.028647</td>\n",
       "    </tr>\n",
       "    <tr>\n",
       "      <td>term</td>\n",
       "      <td>0.346154</td>\n",
       "      <td>1.000000</td>\n",
       "      <td>0.443560</td>\n",
       "      <td>0.087638</td>\n",
       "      <td>0.104346</td>\n",
       "      <td>0.043547</td>\n",
       "      <td>0.077837</td>\n",
       "      <td>0.006953</td>\n",
       "      <td>0.046402</td>\n",
       "      <td>0.045875</td>\n",
       "      <td>0.012077</td>\n",
       "      <td>0.066251</td>\n",
       "      <td>0.066183</td>\n",
       "      <td>0.094966</td>\n",
       "      <td>0.102525</td>\n",
       "      <td>-0.028203</td>\n",
       "      <td>-0.011759</td>\n",
       "      <td>-0.092915</td>\n",
       "      <td>-0.237226</td>\n",
       "      <td>0.047508</td>\n",
       "      <td>0.208457</td>\n",
       "      <td>0.044760</td>\n",
       "      <td>-0.054350</td>\n",
       "      <td>0.057316</td>\n",
       "      <td>-0.043439</td>\n",
       "      <td>0.022431</td>\n",
       "      <td>0.012010</td>\n",
       "      <td>-0.026741</td>\n",
       "      <td>-0.007177</td>\n",
       "      <td>-0.022565</td>\n",
       "      <td>-0.045691</td>\n",
       "      <td>0.001742</td>\n",
       "      <td>0.024829</td>\n",
       "      <td>-0.022345</td>\n",
       "      <td>-0.011847</td>\n",
       "    </tr>\n",
       "    <tr>\n",
       "      <td>int_rate</td>\n",
       "      <td>0.301807</td>\n",
       "      <td>0.443560</td>\n",
       "      <td>1.000000</td>\n",
       "      <td>0.276114</td>\n",
       "      <td>0.000347</td>\n",
       "      <td>0.047923</td>\n",
       "      <td>0.111427</td>\n",
       "      <td>0.158571</td>\n",
       "      <td>0.132681</td>\n",
       "      <td>0.009839</td>\n",
       "      <td>0.099551</td>\n",
       "      <td>0.096640</td>\n",
       "      <td>0.465153</td>\n",
       "      <td>-0.043636</td>\n",
       "      <td>-0.062609</td>\n",
       "      <td>-0.000039</td>\n",
       "      <td>-0.012279</td>\n",
       "      <td>0.068669</td>\n",
       "      <td>-0.182371</td>\n",
       "      <td>0.009598</td>\n",
       "      <td>0.185468</td>\n",
       "      <td>-0.078810</td>\n",
       "      <td>-0.032676</td>\n",
       "      <td>0.115396</td>\n",
       "      <td>-0.007512</td>\n",
       "      <td>-0.049931</td>\n",
       "      <td>0.009716</td>\n",
       "      <td>-0.075266</td>\n",
       "      <td>-0.017040</td>\n",
       "      <td>-0.013686</td>\n",
       "      <td>-0.018822</td>\n",
       "      <td>-0.006366</td>\n",
       "      <td>0.059114</td>\n",
       "      <td>-0.029124</td>\n",
       "      <td>-0.007076</td>\n",
       "    </tr>\n",
       "    <tr>\n",
       "      <td>installment</td>\n",
       "      <td>0.931122</td>\n",
       "      <td>0.087638</td>\n",
       "      <td>0.276114</td>\n",
       "      <td>1.000000</td>\n",
       "      <td>0.121287</td>\n",
       "      <td>0.265845</td>\n",
       "      <td>0.050197</td>\n",
       "      <td>-0.021125</td>\n",
       "      <td>0.011017</td>\n",
       "      <td>0.169511</td>\n",
       "      <td>-0.042488</td>\n",
       "      <td>0.309229</td>\n",
       "      <td>0.092300</td>\n",
       "      <td>0.228722</td>\n",
       "      <td>0.135136</td>\n",
       "      <td>0.003692</td>\n",
       "      <td>-0.028385</td>\n",
       "      <td>-0.119877</td>\n",
       "      <td>-0.267627</td>\n",
       "      <td>-0.098457</td>\n",
       "      <td>0.377562</td>\n",
       "      <td>-0.128387</td>\n",
       "      <td>0.042533</td>\n",
       "      <td>0.186543</td>\n",
       "      <td>-0.045319</td>\n",
       "      <td>-0.004170</td>\n",
       "      <td>0.021360</td>\n",
       "      <td>-0.103244</td>\n",
       "      <td>-0.056492</td>\n",
       "      <td>-0.075387</td>\n",
       "      <td>-0.137736</td>\n",
       "      <td>-0.016734</td>\n",
       "      <td>0.063075</td>\n",
       "      <td>-0.073322</td>\n",
       "      <td>-0.024300</td>\n",
       "    </tr>\n",
       "    <tr>\n",
       "      <td>emp_length</td>\n",
       "      <td>0.148600</td>\n",
       "      <td>0.104346</td>\n",
       "      <td>0.000347</td>\n",
       "      <td>0.121287</td>\n",
       "      <td>1.000000</td>\n",
       "      <td>0.111521</td>\n",
       "      <td>0.049212</td>\n",
       "      <td>0.015840</td>\n",
       "      <td>0.010137</td>\n",
       "      <td>0.096567</td>\n",
       "      <td>0.064015</td>\n",
       "      <td>0.151136</td>\n",
       "      <td>0.009516</td>\n",
       "      <td>0.207983</td>\n",
       "      <td>0.246345</td>\n",
       "      <td>-0.013537</td>\n",
       "      <td>0.025772</td>\n",
       "      <td>-0.257012</td>\n",
       "      <td>-0.056157</td>\n",
       "      <td>-0.048956</td>\n",
       "      <td>0.105723</td>\n",
       "      <td>-0.003704</td>\n",
       "      <td>-0.006498</td>\n",
       "      <td>0.020384</td>\n",
       "      <td>-0.035785</td>\n",
       "      <td>0.069584</td>\n",
       "      <td>-0.003206</td>\n",
       "      <td>-0.015866</td>\n",
       "      <td>0.004519</td>\n",
       "      <td>-0.043716</td>\n",
       "      <td>-0.017277</td>\n",
       "      <td>0.013728</td>\n",
       "      <td>-0.019769</td>\n",
       "      <td>0.015971</td>\n",
       "      <td>-0.043054</td>\n",
       "    </tr>\n",
       "    <tr>\n",
       "      <td>annual_inc</td>\n",
       "      <td>0.267418</td>\n",
       "      <td>0.043547</td>\n",
       "      <td>0.047923</td>\n",
       "      <td>0.265845</td>\n",
       "      <td>0.111521</td>\n",
       "      <td>1.000000</td>\n",
       "      <td>-0.123451</td>\n",
       "      <td>0.021000</td>\n",
       "      <td>0.036478</td>\n",
       "      <td>0.154716</td>\n",
       "      <td>-0.014466</td>\n",
       "      <td>0.277161</td>\n",
       "      <td>0.015729</td>\n",
       "      <td>0.233699</td>\n",
       "      <td>0.194779</td>\n",
       "      <td>0.001277</td>\n",
       "      <td>-0.039003</td>\n",
       "      <td>-0.173374</td>\n",
       "      <td>-0.106706</td>\n",
       "      <td>-0.007400</td>\n",
       "      <td>0.120707</td>\n",
       "      <td>-0.020716</td>\n",
       "      <td>0.009052</td>\n",
       "      <td>-0.026989</td>\n",
       "      <td>-0.021253</td>\n",
       "      <td>0.093487</td>\n",
       "      <td>0.012137</td>\n",
       "      <td>-0.009459</td>\n",
       "      <td>-0.001717</td>\n",
       "      <td>-0.012400</td>\n",
       "      <td>-0.029386</td>\n",
       "      <td>0.008493</td>\n",
       "      <td>0.021525</td>\n",
       "      <td>-0.013061</td>\n",
       "      <td>-0.002550</td>\n",
       "    </tr>\n",
       "    <tr>\n",
       "      <td>dti</td>\n",
       "      <td>0.061205</td>\n",
       "      <td>0.077837</td>\n",
       "      <td>0.111427</td>\n",
       "      <td>0.050197</td>\n",
       "      <td>0.049212</td>\n",
       "      <td>-0.123451</td>\n",
       "      <td>1.000000</td>\n",
       "      <td>-0.034680</td>\n",
       "      <td>0.000044</td>\n",
       "      <td>0.289505</td>\n",
       "      <td>-0.004958</td>\n",
       "      <td>0.227776</td>\n",
       "      <td>0.278467</td>\n",
       "      <td>0.230213</td>\n",
       "      <td>-0.022557</td>\n",
       "      <td>-0.014650</td>\n",
       "      <td>-0.003568</td>\n",
       "      <td>0.025778</td>\n",
       "      <td>-0.034006</td>\n",
       "      <td>-0.057144</td>\n",
       "      <td>0.089773</td>\n",
       "      <td>-0.065162</td>\n",
       "      <td>0.075836</td>\n",
       "      <td>0.162540</td>\n",
       "      <td>-0.027049</td>\n",
       "      <td>-0.093651</td>\n",
       "      <td>-0.038396</td>\n",
       "      <td>-0.091922</td>\n",
       "      <td>-0.020700</td>\n",
       "      <td>-0.030292</td>\n",
       "      <td>-0.050980</td>\n",
       "      <td>-0.010755</td>\n",
       "      <td>-0.072063</td>\n",
       "      <td>-0.016618</td>\n",
       "      <td>-0.023539</td>\n",
       "    </tr>\n",
       "    <tr>\n",
       "      <td>delinq_2yrs</td>\n",
       "      <td>-0.033329</td>\n",
       "      <td>0.006953</td>\n",
       "      <td>0.158571</td>\n",
       "      <td>-0.021125</td>\n",
       "      <td>0.015840</td>\n",
       "      <td>0.021000</td>\n",
       "      <td>-0.034680</td>\n",
       "      <td>1.000000</td>\n",
       "      <td>0.008526</td>\n",
       "      <td>0.010797</td>\n",
       "      <td>0.010398</td>\n",
       "      <td>-0.055172</td>\n",
       "      <td>-0.042346</td>\n",
       "      <td>0.066487</td>\n",
       "      <td>0.015305</td>\n",
       "      <td>0.017776</td>\n",
       "      <td>0.005946</td>\n",
       "      <td>-0.020129</td>\n",
       "      <td>-0.007119</td>\n",
       "      <td>0.004897</td>\n",
       "      <td>0.003005</td>\n",
       "      <td>0.002346</td>\n",
       "      <td>-0.031823</td>\n",
       "      <td>-0.023869</td>\n",
       "      <td>0.000660</td>\n",
       "      <td>0.017211</td>\n",
       "      <td>0.004896</td>\n",
       "      <td>0.010947</td>\n",
       "      <td>0.016748</td>\n",
       "      <td>0.004914</td>\n",
       "      <td>0.021620</td>\n",
       "      <td>-0.000891</td>\n",
       "      <td>0.013326</td>\n",
       "      <td>0.005706</td>\n",
       "      <td>0.013728</td>\n",
       "    </tr>\n",
       "    <tr>\n",
       "      <td>inq_last_6mths</td>\n",
       "      <td>0.012551</td>\n",
       "      <td>0.046402</td>\n",
       "      <td>0.132681</td>\n",
       "      <td>0.011017</td>\n",
       "      <td>0.010137</td>\n",
       "      <td>0.036478</td>\n",
       "      <td>0.000044</td>\n",
       "      <td>0.008526</td>\n",
       "      <td>1.000000</td>\n",
       "      <td>0.093764</td>\n",
       "      <td>0.023595</td>\n",
       "      <td>-0.021181</td>\n",
       "      <td>-0.069816</td>\n",
       "      <td>0.113882</td>\n",
       "      <td>0.078795</td>\n",
       "      <td>0.009969</td>\n",
       "      <td>0.005326</td>\n",
       "      <td>-0.082132</td>\n",
       "      <td>-0.009756</td>\n",
       "      <td>-0.005721</td>\n",
       "      <td>0.015760</td>\n",
       "      <td>0.001951</td>\n",
       "      <td>-0.044334</td>\n",
       "      <td>-0.040454</td>\n",
       "      <td>0.021285</td>\n",
       "      <td>0.061940</td>\n",
       "      <td>0.058323</td>\n",
       "      <td>-0.005429</td>\n",
       "      <td>0.006559</td>\n",
       "      <td>0.003369</td>\n",
       "      <td>0.011000</td>\n",
       "      <td>-0.006462</td>\n",
       "      <td>0.041492</td>\n",
       "      <td>-0.002299</td>\n",
       "      <td>-0.003237</td>\n",
       "    </tr>\n",
       "    <tr>\n",
       "      <td>open_acc</td>\n",
       "      <td>0.174050</td>\n",
       "      <td>0.045875</td>\n",
       "      <td>0.009839</td>\n",
       "      <td>0.169511</td>\n",
       "      <td>0.096567</td>\n",
       "      <td>0.154716</td>\n",
       "      <td>0.289505</td>\n",
       "      <td>0.010797</td>\n",
       "      <td>0.093764</td>\n",
       "      <td>1.000000</td>\n",
       "      <td>0.002203</td>\n",
       "      <td>0.286744</td>\n",
       "      <td>-0.087724</td>\n",
       "      <td>0.686078</td>\n",
       "      <td>0.202082</td>\n",
       "      <td>-0.003795</td>\n",
       "      <td>-0.017034</td>\n",
       "      <td>-0.191609</td>\n",
       "      <td>-0.054320</td>\n",
       "      <td>-0.042469</td>\n",
       "      <td>0.097690</td>\n",
       "      <td>-0.032839</td>\n",
       "      <td>0.046602</td>\n",
       "      <td>0.081338</td>\n",
       "      <td>-0.007064</td>\n",
       "      <td>0.009240</td>\n",
       "      <td>-0.017208</td>\n",
       "      <td>-0.059782</td>\n",
       "      <td>-0.007000</td>\n",
       "      <td>-0.029615</td>\n",
       "      <td>-0.068279</td>\n",
       "      <td>-0.003743</td>\n",
       "      <td>-0.032070</td>\n",
       "      <td>-0.017760</td>\n",
       "      <td>-0.019524</td>\n",
       "    </tr>\n",
       "    <tr>\n",
       "      <td>pub_rec</td>\n",
       "      <td>-0.046713</td>\n",
       "      <td>0.012077</td>\n",
       "      <td>0.099551</td>\n",
       "      <td>-0.042488</td>\n",
       "      <td>0.064015</td>\n",
       "      <td>-0.014466</td>\n",
       "      <td>-0.004958</td>\n",
       "      <td>0.010398</td>\n",
       "      <td>0.023595</td>\n",
       "      <td>0.002203</td>\n",
       "      <td>1.000000</td>\n",
       "      <td>-0.058916</td>\n",
       "      <td>0.058679</td>\n",
       "      <td>-0.020007</td>\n",
       "      <td>0.031848</td>\n",
       "      <td>-0.004946</td>\n",
       "      <td>-0.008748</td>\n",
       "      <td>-0.026585</td>\n",
       "      <td>0.014981</td>\n",
       "      <td>-0.007551</td>\n",
       "      <td>-0.008903</td>\n",
       "      <td>0.002087</td>\n",
       "      <td>0.001178</td>\n",
       "      <td>0.006769</td>\n",
       "      <td>-0.004713</td>\n",
       "      <td>0.010071</td>\n",
       "      <td>-0.000101</td>\n",
       "      <td>-0.014377</td>\n",
       "      <td>0.017128</td>\n",
       "      <td>-0.008129</td>\n",
       "      <td>-0.013431</td>\n",
       "      <td>-0.002390</td>\n",
       "      <td>0.003658</td>\n",
       "      <td>0.011147</td>\n",
       "      <td>-0.013406</td>\n",
       "    </tr>\n",
       "    <tr>\n",
       "      <td>revol_bal</td>\n",
       "      <td>0.313479</td>\n",
       "      <td>0.066251</td>\n",
       "      <td>0.096640</td>\n",
       "      <td>0.309229</td>\n",
       "      <td>0.151136</td>\n",
       "      <td>0.277161</td>\n",
       "      <td>0.227776</td>\n",
       "      <td>-0.055172</td>\n",
       "      <td>-0.021181</td>\n",
       "      <td>0.286744</td>\n",
       "      <td>-0.058916</td>\n",
       "      <td>1.000000</td>\n",
       "      <td>0.303770</td>\n",
       "      <td>0.313187</td>\n",
       "      <td>0.213697</td>\n",
       "      <td>-0.004070</td>\n",
       "      <td>-0.030816</td>\n",
       "      <td>-0.195920</td>\n",
       "      <td>-0.096869</td>\n",
       "      <td>-0.071940</td>\n",
       "      <td>0.170658</td>\n",
       "      <td>-0.033237</td>\n",
       "      <td>0.099274</td>\n",
       "      <td>0.072834</td>\n",
       "      <td>-0.020833</td>\n",
       "      <td>-0.020103</td>\n",
       "      <td>-0.023905</td>\n",
       "      <td>-0.069599</td>\n",
       "      <td>-0.025831</td>\n",
       "      <td>-0.044740</td>\n",
       "      <td>-0.059614</td>\n",
       "      <td>-0.004015</td>\n",
       "      <td>-0.005595</td>\n",
       "      <td>-0.033615</td>\n",
       "      <td>-0.044575</td>\n",
       "    </tr>\n",
       "    <tr>\n",
       "      <td>revol_util</td>\n",
       "      <td>0.062923</td>\n",
       "      <td>0.066183</td>\n",
       "      <td>0.465153</td>\n",
       "      <td>0.092300</td>\n",
       "      <td>0.009516</td>\n",
       "      <td>0.015729</td>\n",
       "      <td>0.278467</td>\n",
       "      <td>-0.042346</td>\n",
       "      <td>-0.069816</td>\n",
       "      <td>-0.087724</td>\n",
       "      <td>0.058679</td>\n",
       "      <td>0.303770</td>\n",
       "      <td>1.000000</td>\n",
       "      <td>-0.067759</td>\n",
       "      <td>-0.069483</td>\n",
       "      <td>-0.010719</td>\n",
       "      <td>-0.046647</td>\n",
       "      <td>0.094561</td>\n",
       "      <td>-0.057787</td>\n",
       "      <td>0.012733</td>\n",
       "      <td>0.049692</td>\n",
       "      <td>-0.086408</td>\n",
       "      <td>0.105376</td>\n",
       "      <td>0.170883</td>\n",
       "      <td>-0.031202</td>\n",
       "      <td>-0.124378</td>\n",
       "      <td>-0.045272</td>\n",
       "      <td>-0.113078</td>\n",
       "      <td>-0.030547</td>\n",
       "      <td>-0.019468</td>\n",
       "      <td>-0.037722</td>\n",
       "      <td>-0.001641</td>\n",
       "      <td>-0.061779</td>\n",
       "      <td>-0.022894</td>\n",
       "      <td>-0.036676</td>\n",
       "    </tr>\n",
       "    <tr>\n",
       "      <td>total_acc</td>\n",
       "      <td>0.255133</td>\n",
       "      <td>0.094966</td>\n",
       "      <td>-0.043636</td>\n",
       "      <td>0.228722</td>\n",
       "      <td>0.207983</td>\n",
       "      <td>0.233699</td>\n",
       "      <td>0.230213</td>\n",
       "      <td>0.066487</td>\n",
       "      <td>0.113882</td>\n",
       "      <td>0.686078</td>\n",
       "      <td>-0.020007</td>\n",
       "      <td>0.313187</td>\n",
       "      <td>-0.067759</td>\n",
       "      <td>1.000000</td>\n",
       "      <td>0.326466</td>\n",
       "      <td>-0.001681</td>\n",
       "      <td>-0.027166</td>\n",
       "      <td>-0.310182</td>\n",
       "      <td>-0.075831</td>\n",
       "      <td>-0.062431</td>\n",
       "      <td>0.139320</td>\n",
       "      <td>-0.025463</td>\n",
       "      <td>0.030198</td>\n",
       "      <td>0.061931</td>\n",
       "      <td>-0.027822</td>\n",
       "      <td>0.052036</td>\n",
       "      <td>-0.008043</td>\n",
       "      <td>-0.048023</td>\n",
       "      <td>-0.004837</td>\n",
       "      <td>-0.033357</td>\n",
       "      <td>-0.065491</td>\n",
       "      <td>0.004047</td>\n",
       "      <td>-0.019042</td>\n",
       "      <td>-0.008756</td>\n",
       "      <td>-0.043999</td>\n",
       "    </tr>\n",
       "    <tr>\n",
       "      <td>home_ownership_MORTGAGE</td>\n",
       "      <td>0.171600</td>\n",
       "      <td>0.102525</td>\n",
       "      <td>-0.062609</td>\n",
       "      <td>0.135136</td>\n",
       "      <td>0.246345</td>\n",
       "      <td>0.194779</td>\n",
       "      <td>-0.022557</td>\n",
       "      <td>0.015305</td>\n",
       "      <td>0.078795</td>\n",
       "      <td>0.202082</td>\n",
       "      <td>0.031848</td>\n",
       "      <td>0.213697</td>\n",
       "      <td>-0.069483</td>\n",
       "      <td>0.326466</td>\n",
       "      <td>1.000000</td>\n",
       "      <td>-0.045310</td>\n",
       "      <td>-0.251481</td>\n",
       "      <td>-0.858043</td>\n",
       "      <td>-0.049222</td>\n",
       "      <td>-0.053390</td>\n",
       "      <td>0.102482</td>\n",
       "      <td>0.018547</td>\n",
       "      <td>-0.000351</td>\n",
       "      <td>-0.052230</td>\n",
       "      <td>-0.028996</td>\n",
       "      <td>0.204205</td>\n",
       "      <td>-0.015049</td>\n",
       "      <td>-0.010012</td>\n",
       "      <td>-0.000834</td>\n",
       "      <td>-0.062782</td>\n",
       "      <td>-0.052751</td>\n",
       "      <td>0.010047</td>\n",
       "      <td>0.030803</td>\n",
       "      <td>-0.015810</td>\n",
       "      <td>-0.043251</td>\n",
       "    </tr>\n",
       "    <tr>\n",
       "      <td>home_ownership_OTHER</td>\n",
       "      <td>-0.002964</td>\n",
       "      <td>-0.028203</td>\n",
       "      <td>-0.000039</td>\n",
       "      <td>0.003692</td>\n",
       "      <td>-0.013537</td>\n",
       "      <td>0.001277</td>\n",
       "      <td>-0.014650</td>\n",
       "      <td>0.017776</td>\n",
       "      <td>0.009969</td>\n",
       "      <td>-0.003795</td>\n",
       "      <td>-0.004946</td>\n",
       "      <td>-0.004070</td>\n",
       "      <td>-0.010719</td>\n",
       "      <td>-0.001681</td>\n",
       "      <td>-0.045310</td>\n",
       "      <td>1.000000</td>\n",
       "      <td>-0.014338</td>\n",
       "      <td>-0.048920</td>\n",
       "      <td>0.009669</td>\n",
       "      <td>-0.017570</td>\n",
       "      <td>0.006144</td>\n",
       "      <td>-0.004776</td>\n",
       "      <td>-0.002535</td>\n",
       "      <td>-0.004962</td>\n",
       "      <td>0.012693</td>\n",
       "      <td>-0.004431</td>\n",
       "      <td>0.000462</td>\n",
       "      <td>0.001444</td>\n",
       "      <td>0.005259</td>\n",
       "      <td>-0.001831</td>\n",
       "      <td>0.004301</td>\n",
       "      <td>0.007956</td>\n",
       "      <td>0.014014</td>\n",
       "      <td>-0.004895</td>\n",
       "      <td>-0.004626</td>\n",
       "    </tr>\n",
       "    <tr>\n",
       "      <td>home_ownership_OWN</td>\n",
       "      <td>-0.031283</td>\n",
       "      <td>-0.011759</td>\n",
       "      <td>-0.012279</td>\n",
       "      <td>-0.028385</td>\n",
       "      <td>0.025772</td>\n",
       "      <td>-0.039003</td>\n",
       "      <td>-0.003568</td>\n",
       "      <td>0.005946</td>\n",
       "      <td>0.005326</td>\n",
       "      <td>-0.017034</td>\n",
       "      <td>-0.008748</td>\n",
       "      <td>-0.030816</td>\n",
       "      <td>-0.046647</td>\n",
       "      <td>-0.027166</td>\n",
       "      <td>-0.251481</td>\n",
       "      <td>-0.014338</td>\n",
       "      <td>1.000000</td>\n",
       "      <td>-0.271520</td>\n",
       "      <td>0.032728</td>\n",
       "      <td>0.001550</td>\n",
       "      <td>-0.036348</td>\n",
       "      <td>0.014459</td>\n",
       "      <td>-0.032405</td>\n",
       "      <td>-0.019588</td>\n",
       "      <td>-0.005605</td>\n",
       "      <td>0.037358</td>\n",
       "      <td>0.002979</td>\n",
       "      <td>0.029954</td>\n",
       "      <td>0.006778</td>\n",
       "      <td>-0.012372</td>\n",
       "      <td>0.021039</td>\n",
       "      <td>0.000145</td>\n",
       "      <td>-0.013886</td>\n",
       "      <td>0.002658</td>\n",
       "      <td>-0.010240</td>\n",
       "    </tr>\n",
       "    <tr>\n",
       "      <td>home_ownership_RENT</td>\n",
       "      <td>-0.153937</td>\n",
       "      <td>-0.092915</td>\n",
       "      <td>0.068669</td>\n",
       "      <td>-0.119877</td>\n",
       "      <td>-0.257012</td>\n",
       "      <td>-0.173374</td>\n",
       "      <td>0.025778</td>\n",
       "      <td>-0.020129</td>\n",
       "      <td>-0.082132</td>\n",
       "      <td>-0.191609</td>\n",
       "      <td>-0.026585</td>\n",
       "      <td>-0.195920</td>\n",
       "      <td>0.094561</td>\n",
       "      <td>-0.310182</td>\n",
       "      <td>-0.858043</td>\n",
       "      <td>-0.048920</td>\n",
       "      <td>-0.271520</td>\n",
       "      <td>1.000000</td>\n",
       "      <td>0.030837</td>\n",
       "      <td>0.054051</td>\n",
       "      <td>-0.083497</td>\n",
       "      <td>-0.025516</td>\n",
       "      <td>0.017553</td>\n",
       "      <td>0.062673</td>\n",
       "      <td>0.030470</td>\n",
       "      <td>-0.222102</td>\n",
       "      <td>0.013356</td>\n",
       "      <td>-0.005858</td>\n",
       "      <td>-0.003249</td>\n",
       "      <td>0.069072</td>\n",
       "      <td>0.041003</td>\n",
       "      <td>-0.010871</td>\n",
       "      <td>-0.024782</td>\n",
       "      <td>0.014824</td>\n",
       "      <td>0.048824</td>\n",
       "    </tr>\n",
       "    <tr>\n",
       "      <td>verification_status_Not Verified</td>\n",
       "      <td>-0.318449</td>\n",
       "      <td>-0.237226</td>\n",
       "      <td>-0.182371</td>\n",
       "      <td>-0.267627</td>\n",
       "      <td>-0.056157</td>\n",
       "      <td>-0.106706</td>\n",
       "      <td>-0.034006</td>\n",
       "      <td>-0.007119</td>\n",
       "      <td>-0.009756</td>\n",
       "      <td>-0.054320</td>\n",
       "      <td>0.014981</td>\n",
       "      <td>-0.096869</td>\n",
       "      <td>-0.057787</td>\n",
       "      <td>-0.075831</td>\n",
       "      <td>-0.049222</td>\n",
       "      <td>0.009669</td>\n",
       "      <td>0.032728</td>\n",
       "      <td>0.030837</td>\n",
       "      <td>1.000000</td>\n",
       "      <td>-0.507694</td>\n",
       "      <td>-0.590831</td>\n",
       "      <td>0.036504</td>\n",
       "      <td>0.012270</td>\n",
       "      <td>-0.061203</td>\n",
       "      <td>0.049312</td>\n",
       "      <td>-0.009030</td>\n",
       "      <td>-0.010654</td>\n",
       "      <td>0.023607</td>\n",
       "      <td>0.004240</td>\n",
       "      <td>-0.001689</td>\n",
       "      <td>0.064222</td>\n",
       "      <td>-0.009205</td>\n",
       "      <td>-0.026622</td>\n",
       "      <td>0.006005</td>\n",
       "      <td>-0.007413</td>\n",
       "    </tr>\n",
       "    <tr>\n",
       "      <td>verification_status_Source Verified</td>\n",
       "      <td>-0.088840</td>\n",
       "      <td>0.047508</td>\n",
       "      <td>0.009598</td>\n",
       "      <td>-0.098457</td>\n",
       "      <td>-0.048956</td>\n",
       "      <td>-0.007400</td>\n",
       "      <td>-0.057144</td>\n",
       "      <td>0.004897</td>\n",
       "      <td>-0.005721</td>\n",
       "      <td>-0.042469</td>\n",
       "      <td>-0.007551</td>\n",
       "      <td>-0.071940</td>\n",
       "      <td>0.012733</td>\n",
       "      <td>-0.062431</td>\n",
       "      <td>-0.053390</td>\n",
       "      <td>-0.017570</td>\n",
       "      <td>0.001550</td>\n",
       "      <td>0.054051</td>\n",
       "      <td>-0.507694</td>\n",
       "      <td>1.000000</td>\n",
       "      <td>-0.395123</td>\n",
       "      <td>0.022840</td>\n",
       "      <td>-0.014924</td>\n",
       "      <td>-0.010064</td>\n",
       "      <td>-0.031713</td>\n",
       "      <td>-0.003539</td>\n",
       "      <td>0.003803</td>\n",
       "      <td>0.014894</td>\n",
       "      <td>0.016337</td>\n",
       "      <td>0.027123</td>\n",
       "      <td>-0.014110</td>\n",
       "      <td>0.016120</td>\n",
       "      <td>-0.003498</td>\n",
       "      <td>0.012991</td>\n",
       "      <td>0.020540</td>\n",
       "    </tr>\n",
       "    <tr>\n",
       "      <td>verification_status_Verified</td>\n",
       "      <td>0.422746</td>\n",
       "      <td>0.208457</td>\n",
       "      <td>0.185468</td>\n",
       "      <td>0.377562</td>\n",
       "      <td>0.105723</td>\n",
       "      <td>0.120707</td>\n",
       "      <td>0.089773</td>\n",
       "      <td>0.003005</td>\n",
       "      <td>0.015760</td>\n",
       "      <td>0.097690</td>\n",
       "      <td>-0.008903</td>\n",
       "      <td>0.170658</td>\n",
       "      <td>0.049692</td>\n",
       "      <td>0.139320</td>\n",
       "      <td>0.102482</td>\n",
       "      <td>0.006144</td>\n",
       "      <td>-0.036348</td>\n",
       "      <td>-0.083497</td>\n",
       "      <td>-0.590831</td>\n",
       "      <td>-0.395123</td>\n",
       "      <td>1.000000</td>\n",
       "      <td>-0.060312</td>\n",
       "      <td>0.000892</td>\n",
       "      <td>0.074683</td>\n",
       "      <td>-0.022882</td>\n",
       "      <td>0.012943</td>\n",
       "      <td>0.007798</td>\n",
       "      <td>-0.039119</td>\n",
       "      <td>-0.019819</td>\n",
       "      <td>-0.023598</td>\n",
       "      <td>-0.055264</td>\n",
       "      <td>-0.005281</td>\n",
       "      <td>0.031662</td>\n",
       "      <td>-0.018568</td>\n",
       "      <td>-0.011330</td>\n",
       "    </tr>\n",
       "    <tr>\n",
       "      <td>purpose_car</td>\n",
       "      <td>-0.118958</td>\n",
       "      <td>0.044760</td>\n",
       "      <td>-0.078810</td>\n",
       "      <td>-0.128387</td>\n",
       "      <td>-0.003704</td>\n",
       "      <td>-0.020716</td>\n",
       "      <td>-0.065162</td>\n",
       "      <td>0.002346</td>\n",
       "      <td>0.001951</td>\n",
       "      <td>-0.032839</td>\n",
       "      <td>0.002087</td>\n",
       "      <td>-0.033237</td>\n",
       "      <td>-0.086408</td>\n",
       "      <td>-0.025463</td>\n",
       "      <td>0.018547</td>\n",
       "      <td>-0.004776</td>\n",
       "      <td>0.014459</td>\n",
       "      <td>-0.025516</td>\n",
       "      <td>0.036504</td>\n",
       "      <td>0.022840</td>\n",
       "      <td>-0.060312</td>\n",
       "      <td>1.000000</td>\n",
       "      <td>-0.077682</td>\n",
       "      <td>-0.189626</td>\n",
       "      <td>-0.018356</td>\n",
       "      <td>-0.056941</td>\n",
       "      <td>-0.019591</td>\n",
       "      <td>-0.048608</td>\n",
       "      <td>-0.026719</td>\n",
       "      <td>-0.024472</td>\n",
       "      <td>-0.066371</td>\n",
       "      <td>-0.010046</td>\n",
       "      <td>-0.043881</td>\n",
       "      <td>-0.019339</td>\n",
       "      <td>-0.031709</td>\n",
       "    </tr>\n",
       "    <tr>\n",
       "      <td>purpose_credit_card</td>\n",
       "      <td>0.026490</td>\n",
       "      <td>-0.054350</td>\n",
       "      <td>-0.032676</td>\n",
       "      <td>0.042533</td>\n",
       "      <td>-0.006498</td>\n",
       "      <td>0.009052</td>\n",
       "      <td>0.075836</td>\n",
       "      <td>-0.031823</td>\n",
       "      <td>-0.044334</td>\n",
       "      <td>0.046602</td>\n",
       "      <td>0.001178</td>\n",
       "      <td>0.099274</td>\n",
       "      <td>0.105376</td>\n",
       "      <td>0.030198</td>\n",
       "      <td>-0.000351</td>\n",
       "      <td>-0.002535</td>\n",
       "      <td>-0.032405</td>\n",
       "      <td>0.017553</td>\n",
       "      <td>0.012270</td>\n",
       "      <td>-0.014924</td>\n",
       "      <td>0.000892</td>\n",
       "      <td>-0.077682</td>\n",
       "      <td>1.000000</td>\n",
       "      <td>-0.365356</td>\n",
       "      <td>-0.035367</td>\n",
       "      <td>-0.109708</td>\n",
       "      <td>-0.037747</td>\n",
       "      <td>-0.093654</td>\n",
       "      <td>-0.051480</td>\n",
       "      <td>-0.047151</td>\n",
       "      <td>-0.127878</td>\n",
       "      <td>-0.019356</td>\n",
       "      <td>-0.084547</td>\n",
       "      <td>-0.037261</td>\n",
       "      <td>-0.061095</td>\n",
       "    </tr>\n",
       "    <tr>\n",
       "      <td>purpose_debt_consolidation</td>\n",
       "      <td>0.185099</td>\n",
       "      <td>0.057316</td>\n",
       "      <td>0.115396</td>\n",
       "      <td>0.186543</td>\n",
       "      <td>0.020384</td>\n",
       "      <td>-0.026989</td>\n",
       "      <td>0.162540</td>\n",
       "      <td>-0.023869</td>\n",
       "      <td>-0.040454</td>\n",
       "      <td>0.081338</td>\n",
       "      <td>0.006769</td>\n",
       "      <td>0.072834</td>\n",
       "      <td>0.170883</td>\n",
       "      <td>0.061931</td>\n",
       "      <td>-0.052230</td>\n",
       "      <td>-0.004962</td>\n",
       "      <td>-0.019588</td>\n",
       "      <td>0.062673</td>\n",
       "      <td>-0.061203</td>\n",
       "      <td>-0.010064</td>\n",
       "      <td>0.074683</td>\n",
       "      <td>-0.189626</td>\n",
       "      <td>-0.365356</td>\n",
       "      <td>1.000000</td>\n",
       "      <td>-0.086332</td>\n",
       "      <td>-0.267804</td>\n",
       "      <td>-0.092142</td>\n",
       "      <td>-0.228614</td>\n",
       "      <td>-0.125666</td>\n",
       "      <td>-0.115097</td>\n",
       "      <td>-0.312157</td>\n",
       "      <td>-0.047249</td>\n",
       "      <td>-0.206384</td>\n",
       "      <td>-0.090956</td>\n",
       "      <td>-0.149137</td>\n",
       "    </tr>\n",
       "    <tr>\n",
       "      <td>purpose_educational</td>\n",
       "      <td>-0.052688</td>\n",
       "      <td>-0.043439</td>\n",
       "      <td>-0.007512</td>\n",
       "      <td>-0.045319</td>\n",
       "      <td>-0.035785</td>\n",
       "      <td>-0.021253</td>\n",
       "      <td>-0.027049</td>\n",
       "      <td>0.000660</td>\n",
       "      <td>0.021285</td>\n",
       "      <td>-0.007064</td>\n",
       "      <td>-0.004713</td>\n",
       "      <td>-0.020833</td>\n",
       "      <td>-0.031202</td>\n",
       "      <td>-0.027822</td>\n",
       "      <td>-0.028996</td>\n",
       "      <td>0.012693</td>\n",
       "      <td>-0.005605</td>\n",
       "      <td>0.030470</td>\n",
       "      <td>0.049312</td>\n",
       "      <td>-0.031713</td>\n",
       "      <td>-0.022882</td>\n",
       "      <td>-0.018356</td>\n",
       "      <td>-0.035367</td>\n",
       "      <td>-0.086332</td>\n",
       "      <td>1.000000</td>\n",
       "      <td>-0.025924</td>\n",
       "      <td>-0.008919</td>\n",
       "      <td>-0.022130</td>\n",
       "      <td>-0.012165</td>\n",
       "      <td>-0.011141</td>\n",
       "      <td>-0.030217</td>\n",
       "      <td>-0.004574</td>\n",
       "      <td>-0.019978</td>\n",
       "      <td>-0.008805</td>\n",
       "      <td>-0.014437</td>\n",
       "    </tr>\n",
       "    <tr>\n",
       "      <td>purpose_home_improvement</td>\n",
       "      <td>0.010613</td>\n",
       "      <td>0.022431</td>\n",
       "      <td>-0.049931</td>\n",
       "      <td>-0.004170</td>\n",
       "      <td>0.069584</td>\n",
       "      <td>0.093487</td>\n",
       "      <td>-0.093651</td>\n",
       "      <td>0.017211</td>\n",
       "      <td>0.061940</td>\n",
       "      <td>0.009240</td>\n",
       "      <td>0.010071</td>\n",
       "      <td>-0.020103</td>\n",
       "      <td>-0.124378</td>\n",
       "      <td>0.052036</td>\n",
       "      <td>0.204205</td>\n",
       "      <td>-0.004431</td>\n",
       "      <td>0.037358</td>\n",
       "      <td>-0.222102</td>\n",
       "      <td>-0.009030</td>\n",
       "      <td>-0.003539</td>\n",
       "      <td>0.012943</td>\n",
       "      <td>-0.056941</td>\n",
       "      <td>-0.109708</td>\n",
       "      <td>-0.267804</td>\n",
       "      <td>-0.025924</td>\n",
       "      <td>1.000000</td>\n",
       "      <td>-0.027668</td>\n",
       "      <td>-0.068648</td>\n",
       "      <td>-0.037735</td>\n",
       "      <td>-0.034561</td>\n",
       "      <td>-0.093734</td>\n",
       "      <td>-0.014188</td>\n",
       "      <td>-0.061973</td>\n",
       "      <td>-0.027312</td>\n",
       "      <td>-0.044782</td>\n",
       "    </tr>\n",
       "    <tr>\n",
       "      <td>purpose_house</td>\n",
       "      <td>0.023254</td>\n",
       "      <td>0.012010</td>\n",
       "      <td>0.009716</td>\n",
       "      <td>0.021360</td>\n",
       "      <td>-0.003206</td>\n",
       "      <td>0.012137</td>\n",
       "      <td>-0.038396</td>\n",
       "      <td>0.004896</td>\n",
       "      <td>0.058323</td>\n",
       "      <td>-0.017208</td>\n",
       "      <td>-0.000101</td>\n",
       "      <td>-0.023905</td>\n",
       "      <td>-0.045272</td>\n",
       "      <td>-0.008043</td>\n",
       "      <td>-0.015049</td>\n",
       "      <td>0.000462</td>\n",
       "      <td>0.002979</td>\n",
       "      <td>0.013356</td>\n",
       "      <td>-0.010654</td>\n",
       "      <td>0.003803</td>\n",
       "      <td>0.007798</td>\n",
       "      <td>-0.019591</td>\n",
       "      <td>-0.037747</td>\n",
       "      <td>-0.092142</td>\n",
       "      <td>-0.008919</td>\n",
       "      <td>-0.027668</td>\n",
       "      <td>1.000000</td>\n",
       "      <td>-0.023619</td>\n",
       "      <td>-0.012983</td>\n",
       "      <td>-0.011891</td>\n",
       "      <td>-0.032251</td>\n",
       "      <td>-0.004882</td>\n",
       "      <td>-0.021323</td>\n",
       "      <td>-0.009397</td>\n",
       "      <td>-0.015408</td>\n",
       "    </tr>\n",
       "    <tr>\n",
       "      <td>purpose_major_purchase</td>\n",
       "      <td>-0.099772</td>\n",
       "      <td>-0.026741</td>\n",
       "      <td>-0.075266</td>\n",
       "      <td>-0.103244</td>\n",
       "      <td>-0.015866</td>\n",
       "      <td>-0.009459</td>\n",
       "      <td>-0.091922</td>\n",
       "      <td>0.010947</td>\n",
       "      <td>-0.005429</td>\n",
       "      <td>-0.059782</td>\n",
       "      <td>-0.014377</td>\n",
       "      <td>-0.069599</td>\n",
       "      <td>-0.113078</td>\n",
       "      <td>-0.048023</td>\n",
       "      <td>-0.010012</td>\n",
       "      <td>0.001444</td>\n",
       "      <td>0.029954</td>\n",
       "      <td>-0.005858</td>\n",
       "      <td>0.023607</td>\n",
       "      <td>0.014894</td>\n",
       "      <td>-0.039119</td>\n",
       "      <td>-0.048608</td>\n",
       "      <td>-0.093654</td>\n",
       "      <td>-0.228614</td>\n",
       "      <td>-0.022130</td>\n",
       "      <td>-0.068648</td>\n",
       "      <td>-0.023619</td>\n",
       "      <td>1.000000</td>\n",
       "      <td>-0.032213</td>\n",
       "      <td>-0.029504</td>\n",
       "      <td>-0.080017</td>\n",
       "      <td>-0.012112</td>\n",
       "      <td>-0.052904</td>\n",
       "      <td>-0.023315</td>\n",
       "      <td>-0.038229</td>\n",
       "    </tr>\n",
       "    <tr>\n",
       "      <td>purpose_medical</td>\n",
       "      <td>-0.053635</td>\n",
       "      <td>-0.007177</td>\n",
       "      <td>-0.017040</td>\n",
       "      <td>-0.056492</td>\n",
       "      <td>0.004519</td>\n",
       "      <td>-0.001717</td>\n",
       "      <td>-0.020700</td>\n",
       "      <td>0.016748</td>\n",
       "      <td>0.006559</td>\n",
       "      <td>-0.007000</td>\n",
       "      <td>0.017128</td>\n",
       "      <td>-0.025831</td>\n",
       "      <td>-0.030547</td>\n",
       "      <td>-0.004837</td>\n",
       "      <td>-0.000834</td>\n",
       "      <td>0.005259</td>\n",
       "      <td>0.006778</td>\n",
       "      <td>-0.003249</td>\n",
       "      <td>0.004240</td>\n",
       "      <td>0.016337</td>\n",
       "      <td>-0.019819</td>\n",
       "      <td>-0.026719</td>\n",
       "      <td>-0.051480</td>\n",
       "      <td>-0.125666</td>\n",
       "      <td>-0.012165</td>\n",
       "      <td>-0.037735</td>\n",
       "      <td>-0.012983</td>\n",
       "      <td>-0.032213</td>\n",
       "      <td>1.000000</td>\n",
       "      <td>-0.016218</td>\n",
       "      <td>-0.043984</td>\n",
       "      <td>-0.006658</td>\n",
       "      <td>-0.029081</td>\n",
       "      <td>-0.012816</td>\n",
       "      <td>-0.021014</td>\n",
       "    </tr>\n",
       "    <tr>\n",
       "      <td>purpose_moving</td>\n",
       "      <td>-0.074732</td>\n",
       "      <td>-0.022565</td>\n",
       "      <td>-0.013686</td>\n",
       "      <td>-0.075387</td>\n",
       "      <td>-0.043716</td>\n",
       "      <td>-0.012400</td>\n",
       "      <td>-0.030292</td>\n",
       "      <td>0.004914</td>\n",
       "      <td>0.003369</td>\n",
       "      <td>-0.029615</td>\n",
       "      <td>-0.008129</td>\n",
       "      <td>-0.044740</td>\n",
       "      <td>-0.019468</td>\n",
       "      <td>-0.033357</td>\n",
       "      <td>-0.062782</td>\n",
       "      <td>-0.001831</td>\n",
       "      <td>-0.012372</td>\n",
       "      <td>0.069072</td>\n",
       "      <td>-0.001689</td>\n",
       "      <td>0.027123</td>\n",
       "      <td>-0.023598</td>\n",
       "      <td>-0.024472</td>\n",
       "      <td>-0.047151</td>\n",
       "      <td>-0.115097</td>\n",
       "      <td>-0.011141</td>\n",
       "      <td>-0.034561</td>\n",
       "      <td>-0.011891</td>\n",
       "      <td>-0.029504</td>\n",
       "      <td>-0.016218</td>\n",
       "      <td>1.000000</td>\n",
       "      <td>-0.040285</td>\n",
       "      <td>-0.006098</td>\n",
       "      <td>-0.026635</td>\n",
       "      <td>-0.011738</td>\n",
       "      <td>-0.019247</td>\n",
       "    </tr>\n",
       "    <tr>\n",
       "      <td>purpose_other</td>\n",
       "      <td>-0.140114</td>\n",
       "      <td>-0.045691</td>\n",
       "      <td>-0.018822</td>\n",
       "      <td>-0.137736</td>\n",
       "      <td>-0.017277</td>\n",
       "      <td>-0.029386</td>\n",
       "      <td>-0.050980</td>\n",
       "      <td>0.021620</td>\n",
       "      <td>0.011000</td>\n",
       "      <td>-0.068279</td>\n",
       "      <td>-0.013431</td>\n",
       "      <td>-0.059614</td>\n",
       "      <td>-0.037722</td>\n",
       "      <td>-0.065491</td>\n",
       "      <td>-0.052751</td>\n",
       "      <td>0.004301</td>\n",
       "      <td>0.021039</td>\n",
       "      <td>0.041003</td>\n",
       "      <td>0.064222</td>\n",
       "      <td>-0.014110</td>\n",
       "      <td>-0.055264</td>\n",
       "      <td>-0.066371</td>\n",
       "      <td>-0.127878</td>\n",
       "      <td>-0.312157</td>\n",
       "      <td>-0.030217</td>\n",
       "      <td>-0.093734</td>\n",
       "      <td>-0.032251</td>\n",
       "      <td>-0.080017</td>\n",
       "      <td>-0.043984</td>\n",
       "      <td>-0.040285</td>\n",
       "      <td>1.000000</td>\n",
       "      <td>-0.016538</td>\n",
       "      <td>-0.072237</td>\n",
       "      <td>-0.031835</td>\n",
       "      <td>-0.052199</td>\n",
       "    </tr>\n",
       "    <tr>\n",
       "      <td>purpose_renewable_energy</td>\n",
       "      <td>-0.016429</td>\n",
       "      <td>0.001742</td>\n",
       "      <td>-0.006366</td>\n",
       "      <td>-0.016734</td>\n",
       "      <td>0.013728</td>\n",
       "      <td>0.008493</td>\n",
       "      <td>-0.010755</td>\n",
       "      <td>-0.000891</td>\n",
       "      <td>-0.006462</td>\n",
       "      <td>-0.003743</td>\n",
       "      <td>-0.002390</td>\n",
       "      <td>-0.004015</td>\n",
       "      <td>-0.001641</td>\n",
       "      <td>0.004047</td>\n",
       "      <td>0.010047</td>\n",
       "      <td>0.007956</td>\n",
       "      <td>0.000145</td>\n",
       "      <td>-0.010871</td>\n",
       "      <td>-0.009205</td>\n",
       "      <td>0.016120</td>\n",
       "      <td>-0.005281</td>\n",
       "      <td>-0.010046</td>\n",
       "      <td>-0.019356</td>\n",
       "      <td>-0.047249</td>\n",
       "      <td>-0.004574</td>\n",
       "      <td>-0.014188</td>\n",
       "      <td>-0.004882</td>\n",
       "      <td>-0.012112</td>\n",
       "      <td>-0.006658</td>\n",
       "      <td>-0.006098</td>\n",
       "      <td>-0.016538</td>\n",
       "      <td>1.000000</td>\n",
       "      <td>-0.010934</td>\n",
       "      <td>-0.004819</td>\n",
       "      <td>-0.007901</td>\n",
       "    </tr>\n",
       "    <tr>\n",
       "      <td>purpose_small_business</td>\n",
       "      <td>0.067931</td>\n",
       "      <td>0.024829</td>\n",
       "      <td>0.059114</td>\n",
       "      <td>0.063075</td>\n",
       "      <td>-0.019769</td>\n",
       "      <td>0.021525</td>\n",
       "      <td>-0.072063</td>\n",
       "      <td>0.013326</td>\n",
       "      <td>0.041492</td>\n",
       "      <td>-0.032070</td>\n",
       "      <td>0.003658</td>\n",
       "      <td>-0.005595</td>\n",
       "      <td>-0.061779</td>\n",
       "      <td>-0.019042</td>\n",
       "      <td>0.030803</td>\n",
       "      <td>0.014014</td>\n",
       "      <td>-0.013886</td>\n",
       "      <td>-0.024782</td>\n",
       "      <td>-0.026622</td>\n",
       "      <td>-0.003498</td>\n",
       "      <td>0.031662</td>\n",
       "      <td>-0.043881</td>\n",
       "      <td>-0.084547</td>\n",
       "      <td>-0.206384</td>\n",
       "      <td>-0.019978</td>\n",
       "      <td>-0.061973</td>\n",
       "      <td>-0.021323</td>\n",
       "      <td>-0.052904</td>\n",
       "      <td>-0.029081</td>\n",
       "      <td>-0.026635</td>\n",
       "      <td>-0.072237</td>\n",
       "      <td>-0.010934</td>\n",
       "      <td>1.000000</td>\n",
       "      <td>-0.021048</td>\n",
       "      <td>-0.034512</td>\n",
       "    </tr>\n",
       "    <tr>\n",
       "      <td>purpose_vacation</td>\n",
       "      <td>-0.073237</td>\n",
       "      <td>-0.022345</td>\n",
       "      <td>-0.029124</td>\n",
       "      <td>-0.073322</td>\n",
       "      <td>0.015971</td>\n",
       "      <td>-0.013061</td>\n",
       "      <td>-0.016618</td>\n",
       "      <td>0.005706</td>\n",
       "      <td>-0.002299</td>\n",
       "      <td>-0.017760</td>\n",
       "      <td>0.011147</td>\n",
       "      <td>-0.033615</td>\n",
       "      <td>-0.022894</td>\n",
       "      <td>-0.008756</td>\n",
       "      <td>-0.015810</td>\n",
       "      <td>-0.004895</td>\n",
       "      <td>0.002658</td>\n",
       "      <td>0.014824</td>\n",
       "      <td>0.006005</td>\n",
       "      <td>0.012991</td>\n",
       "      <td>-0.018568</td>\n",
       "      <td>-0.019339</td>\n",
       "      <td>-0.037261</td>\n",
       "      <td>-0.090956</td>\n",
       "      <td>-0.008805</td>\n",
       "      <td>-0.027312</td>\n",
       "      <td>-0.009397</td>\n",
       "      <td>-0.023315</td>\n",
       "      <td>-0.012816</td>\n",
       "      <td>-0.011738</td>\n",
       "      <td>-0.031835</td>\n",
       "      <td>-0.004819</td>\n",
       "      <td>-0.021048</td>\n",
       "      <td>1.000000</td>\n",
       "      <td>-0.015210</td>\n",
       "    </tr>\n",
       "    <tr>\n",
       "      <td>purpose_wedding</td>\n",
       "      <td>-0.028647</td>\n",
       "      <td>-0.011847</td>\n",
       "      <td>-0.007076</td>\n",
       "      <td>-0.024300</td>\n",
       "      <td>-0.043054</td>\n",
       "      <td>-0.002550</td>\n",
       "      <td>-0.023539</td>\n",
       "      <td>0.013728</td>\n",
       "      <td>-0.003237</td>\n",
       "      <td>-0.019524</td>\n",
       "      <td>-0.013406</td>\n",
       "      <td>-0.044575</td>\n",
       "      <td>-0.036676</td>\n",
       "      <td>-0.043999</td>\n",
       "      <td>-0.043251</td>\n",
       "      <td>-0.004626</td>\n",
       "      <td>-0.010240</td>\n",
       "      <td>0.048824</td>\n",
       "      <td>-0.007413</td>\n",
       "      <td>0.020540</td>\n",
       "      <td>-0.011330</td>\n",
       "      <td>-0.031709</td>\n",
       "      <td>-0.061095</td>\n",
       "      <td>-0.149137</td>\n",
       "      <td>-0.014437</td>\n",
       "      <td>-0.044782</td>\n",
       "      <td>-0.015408</td>\n",
       "      <td>-0.038229</td>\n",
       "      <td>-0.021014</td>\n",
       "      <td>-0.019247</td>\n",
       "      <td>-0.052199</td>\n",
       "      <td>-0.007901</td>\n",
       "      <td>-0.034512</td>\n",
       "      <td>-0.015210</td>\n",
       "      <td>1.000000</td>\n",
       "    </tr>\n",
       "  </tbody>\n",
       "</table>\n",
       "</div>"
      ],
      "text/plain": [
       "                                     loan_amnt      term  int_rate  \\\n",
       "loan_amnt                             1.000000  0.346154  0.301807   \n",
       "term                                  0.346154  1.000000  0.443560   \n",
       "int_rate                              0.301807  0.443560  1.000000   \n",
       "installment                           0.931122  0.087638  0.276114   \n",
       "emp_length                            0.148600  0.104346  0.000347   \n",
       "annual_inc                            0.267418  0.043547  0.047923   \n",
       "dti                                   0.061205  0.077837  0.111427   \n",
       "delinq_2yrs                          -0.033329  0.006953  0.158571   \n",
       "inq_last_6mths                        0.012551  0.046402  0.132681   \n",
       "open_acc                              0.174050  0.045875  0.009839   \n",
       "pub_rec                              -0.046713  0.012077  0.099551   \n",
       "revol_bal                             0.313479  0.066251  0.096640   \n",
       "revol_util                            0.062923  0.066183  0.465153   \n",
       "total_acc                             0.255133  0.094966 -0.043636   \n",
       "home_ownership_MORTGAGE               0.171600  0.102525 -0.062609   \n",
       "home_ownership_OTHER                 -0.002964 -0.028203 -0.000039   \n",
       "home_ownership_OWN                   -0.031283 -0.011759 -0.012279   \n",
       "home_ownership_RENT                  -0.153937 -0.092915  0.068669   \n",
       "verification_status_Not Verified     -0.318449 -0.237226 -0.182371   \n",
       "verification_status_Source Verified  -0.088840  0.047508  0.009598   \n",
       "verification_status_Verified          0.422746  0.208457  0.185468   \n",
       "purpose_car                          -0.118958  0.044760 -0.078810   \n",
       "purpose_credit_card                   0.026490 -0.054350 -0.032676   \n",
       "purpose_debt_consolidation            0.185099  0.057316  0.115396   \n",
       "purpose_educational                  -0.052688 -0.043439 -0.007512   \n",
       "purpose_home_improvement              0.010613  0.022431 -0.049931   \n",
       "purpose_house                         0.023254  0.012010  0.009716   \n",
       "purpose_major_purchase               -0.099772 -0.026741 -0.075266   \n",
       "purpose_medical                      -0.053635 -0.007177 -0.017040   \n",
       "purpose_moving                       -0.074732 -0.022565 -0.013686   \n",
       "purpose_other                        -0.140114 -0.045691 -0.018822   \n",
       "purpose_renewable_energy             -0.016429  0.001742 -0.006366   \n",
       "purpose_small_business                0.067931  0.024829  0.059114   \n",
       "purpose_vacation                     -0.073237 -0.022345 -0.029124   \n",
       "purpose_wedding                      -0.028647 -0.011847 -0.007076   \n",
       "\n",
       "                                     installment  emp_length  annual_inc  \\\n",
       "loan_amnt                               0.931122    0.148600    0.267418   \n",
       "term                                    0.087638    0.104346    0.043547   \n",
       "int_rate                                0.276114    0.000347    0.047923   \n",
       "installment                             1.000000    0.121287    0.265845   \n",
       "emp_length                              0.121287    1.000000    0.111521   \n",
       "annual_inc                              0.265845    0.111521    1.000000   \n",
       "dti                                     0.050197    0.049212   -0.123451   \n",
       "delinq_2yrs                            -0.021125    0.015840    0.021000   \n",
       "inq_last_6mths                          0.011017    0.010137    0.036478   \n",
       "open_acc                                0.169511    0.096567    0.154716   \n",
       "pub_rec                                -0.042488    0.064015   -0.014466   \n",
       "revol_bal                               0.309229    0.151136    0.277161   \n",
       "revol_util                              0.092300    0.009516    0.015729   \n",
       "total_acc                               0.228722    0.207983    0.233699   \n",
       "home_ownership_MORTGAGE                 0.135136    0.246345    0.194779   \n",
       "home_ownership_OTHER                    0.003692   -0.013537    0.001277   \n",
       "home_ownership_OWN                     -0.028385    0.025772   -0.039003   \n",
       "home_ownership_RENT                    -0.119877   -0.257012   -0.173374   \n",
       "verification_status_Not Verified       -0.267627   -0.056157   -0.106706   \n",
       "verification_status_Source Verified    -0.098457   -0.048956   -0.007400   \n",
       "verification_status_Verified            0.377562    0.105723    0.120707   \n",
       "purpose_car                            -0.128387   -0.003704   -0.020716   \n",
       "purpose_credit_card                     0.042533   -0.006498    0.009052   \n",
       "purpose_debt_consolidation              0.186543    0.020384   -0.026989   \n",
       "purpose_educational                    -0.045319   -0.035785   -0.021253   \n",
       "purpose_home_improvement               -0.004170    0.069584    0.093487   \n",
       "purpose_house                           0.021360   -0.003206    0.012137   \n",
       "purpose_major_purchase                 -0.103244   -0.015866   -0.009459   \n",
       "purpose_medical                        -0.056492    0.004519   -0.001717   \n",
       "purpose_moving                         -0.075387   -0.043716   -0.012400   \n",
       "purpose_other                          -0.137736   -0.017277   -0.029386   \n",
       "purpose_renewable_energy               -0.016734    0.013728    0.008493   \n",
       "purpose_small_business                  0.063075   -0.019769    0.021525   \n",
       "purpose_vacation                       -0.073322    0.015971   -0.013061   \n",
       "purpose_wedding                        -0.024300   -0.043054   -0.002550   \n",
       "\n",
       "                                          dti  delinq_2yrs  inq_last_6mths  \\\n",
       "loan_amnt                            0.061205    -0.033329        0.012551   \n",
       "term                                 0.077837     0.006953        0.046402   \n",
       "int_rate                             0.111427     0.158571        0.132681   \n",
       "installment                          0.050197    -0.021125        0.011017   \n",
       "emp_length                           0.049212     0.015840        0.010137   \n",
       "annual_inc                          -0.123451     0.021000        0.036478   \n",
       "dti                                  1.000000    -0.034680        0.000044   \n",
       "delinq_2yrs                         -0.034680     1.000000        0.008526   \n",
       "inq_last_6mths                       0.000044     0.008526        1.000000   \n",
       "open_acc                             0.289505     0.010797        0.093764   \n",
       "pub_rec                             -0.004958     0.010398        0.023595   \n",
       "revol_bal                            0.227776    -0.055172       -0.021181   \n",
       "revol_util                           0.278467    -0.042346       -0.069816   \n",
       "total_acc                            0.230213     0.066487        0.113882   \n",
       "home_ownership_MORTGAGE             -0.022557     0.015305        0.078795   \n",
       "home_ownership_OTHER                -0.014650     0.017776        0.009969   \n",
       "home_ownership_OWN                  -0.003568     0.005946        0.005326   \n",
       "home_ownership_RENT                  0.025778    -0.020129       -0.082132   \n",
       "verification_status_Not Verified    -0.034006    -0.007119       -0.009756   \n",
       "verification_status_Source Verified -0.057144     0.004897       -0.005721   \n",
       "verification_status_Verified         0.089773     0.003005        0.015760   \n",
       "purpose_car                         -0.065162     0.002346        0.001951   \n",
       "purpose_credit_card                  0.075836    -0.031823       -0.044334   \n",
       "purpose_debt_consolidation           0.162540    -0.023869       -0.040454   \n",
       "purpose_educational                 -0.027049     0.000660        0.021285   \n",
       "purpose_home_improvement            -0.093651     0.017211        0.061940   \n",
       "purpose_house                       -0.038396     0.004896        0.058323   \n",
       "purpose_major_purchase              -0.091922     0.010947       -0.005429   \n",
       "purpose_medical                     -0.020700     0.016748        0.006559   \n",
       "purpose_moving                      -0.030292     0.004914        0.003369   \n",
       "purpose_other                       -0.050980     0.021620        0.011000   \n",
       "purpose_renewable_energy            -0.010755    -0.000891       -0.006462   \n",
       "purpose_small_business              -0.072063     0.013326        0.041492   \n",
       "purpose_vacation                    -0.016618     0.005706       -0.002299   \n",
       "purpose_wedding                     -0.023539     0.013728       -0.003237   \n",
       "\n",
       "                                     open_acc   pub_rec  revol_bal  \\\n",
       "loan_amnt                            0.174050 -0.046713   0.313479   \n",
       "term                                 0.045875  0.012077   0.066251   \n",
       "int_rate                             0.009839  0.099551   0.096640   \n",
       "installment                          0.169511 -0.042488   0.309229   \n",
       "emp_length                           0.096567  0.064015   0.151136   \n",
       "annual_inc                           0.154716 -0.014466   0.277161   \n",
       "dti                                  0.289505 -0.004958   0.227776   \n",
       "delinq_2yrs                          0.010797  0.010398  -0.055172   \n",
       "inq_last_6mths                       0.093764  0.023595  -0.021181   \n",
       "open_acc                             1.000000  0.002203   0.286744   \n",
       "pub_rec                              0.002203  1.000000  -0.058916   \n",
       "revol_bal                            0.286744 -0.058916   1.000000   \n",
       "revol_util                          -0.087724  0.058679   0.303770   \n",
       "total_acc                            0.686078 -0.020007   0.313187   \n",
       "home_ownership_MORTGAGE              0.202082  0.031848   0.213697   \n",
       "home_ownership_OTHER                -0.003795 -0.004946  -0.004070   \n",
       "home_ownership_OWN                  -0.017034 -0.008748  -0.030816   \n",
       "home_ownership_RENT                 -0.191609 -0.026585  -0.195920   \n",
       "verification_status_Not Verified    -0.054320  0.014981  -0.096869   \n",
       "verification_status_Source Verified -0.042469 -0.007551  -0.071940   \n",
       "verification_status_Verified         0.097690 -0.008903   0.170658   \n",
       "purpose_car                         -0.032839  0.002087  -0.033237   \n",
       "purpose_credit_card                  0.046602  0.001178   0.099274   \n",
       "purpose_debt_consolidation           0.081338  0.006769   0.072834   \n",
       "purpose_educational                 -0.007064 -0.004713  -0.020833   \n",
       "purpose_home_improvement             0.009240  0.010071  -0.020103   \n",
       "purpose_house                       -0.017208 -0.000101  -0.023905   \n",
       "purpose_major_purchase              -0.059782 -0.014377  -0.069599   \n",
       "purpose_medical                     -0.007000  0.017128  -0.025831   \n",
       "purpose_moving                      -0.029615 -0.008129  -0.044740   \n",
       "purpose_other                       -0.068279 -0.013431  -0.059614   \n",
       "purpose_renewable_energy            -0.003743 -0.002390  -0.004015   \n",
       "purpose_small_business              -0.032070  0.003658  -0.005595   \n",
       "purpose_vacation                    -0.017760  0.011147  -0.033615   \n",
       "purpose_wedding                     -0.019524 -0.013406  -0.044575   \n",
       "\n",
       "                                     revol_util  total_acc  \\\n",
       "loan_amnt                              0.062923   0.255133   \n",
       "term                                   0.066183   0.094966   \n",
       "int_rate                               0.465153  -0.043636   \n",
       "installment                            0.092300   0.228722   \n",
       "emp_length                             0.009516   0.207983   \n",
       "annual_inc                             0.015729   0.233699   \n",
       "dti                                    0.278467   0.230213   \n",
       "delinq_2yrs                           -0.042346   0.066487   \n",
       "inq_last_6mths                        -0.069816   0.113882   \n",
       "open_acc                              -0.087724   0.686078   \n",
       "pub_rec                                0.058679  -0.020007   \n",
       "revol_bal                              0.303770   0.313187   \n",
       "revol_util                             1.000000  -0.067759   \n",
       "total_acc                             -0.067759   1.000000   \n",
       "home_ownership_MORTGAGE               -0.069483   0.326466   \n",
       "home_ownership_OTHER                  -0.010719  -0.001681   \n",
       "home_ownership_OWN                    -0.046647  -0.027166   \n",
       "home_ownership_RENT                    0.094561  -0.310182   \n",
       "verification_status_Not Verified      -0.057787  -0.075831   \n",
       "verification_status_Source Verified    0.012733  -0.062431   \n",
       "verification_status_Verified           0.049692   0.139320   \n",
       "purpose_car                           -0.086408  -0.025463   \n",
       "purpose_credit_card                    0.105376   0.030198   \n",
       "purpose_debt_consolidation             0.170883   0.061931   \n",
       "purpose_educational                   -0.031202  -0.027822   \n",
       "purpose_home_improvement              -0.124378   0.052036   \n",
       "purpose_house                         -0.045272  -0.008043   \n",
       "purpose_major_purchase                -0.113078  -0.048023   \n",
       "purpose_medical                       -0.030547  -0.004837   \n",
       "purpose_moving                        -0.019468  -0.033357   \n",
       "purpose_other                         -0.037722  -0.065491   \n",
       "purpose_renewable_energy              -0.001641   0.004047   \n",
       "purpose_small_business                -0.061779  -0.019042   \n",
       "purpose_vacation                      -0.022894  -0.008756   \n",
       "purpose_wedding                       -0.036676  -0.043999   \n",
       "\n",
       "                                     home_ownership_MORTGAGE  \\\n",
       "loan_amnt                                           0.171600   \n",
       "term                                                0.102525   \n",
       "int_rate                                           -0.062609   \n",
       "installment                                         0.135136   \n",
       "emp_length                                          0.246345   \n",
       "annual_inc                                          0.194779   \n",
       "dti                                                -0.022557   \n",
       "delinq_2yrs                                         0.015305   \n",
       "inq_last_6mths                                      0.078795   \n",
       "open_acc                                            0.202082   \n",
       "pub_rec                                             0.031848   \n",
       "revol_bal                                           0.213697   \n",
       "revol_util                                         -0.069483   \n",
       "total_acc                                           0.326466   \n",
       "home_ownership_MORTGAGE                             1.000000   \n",
       "home_ownership_OTHER                               -0.045310   \n",
       "home_ownership_OWN                                 -0.251481   \n",
       "home_ownership_RENT                                -0.858043   \n",
       "verification_status_Not Verified                   -0.049222   \n",
       "verification_status_Source Verified                -0.053390   \n",
       "verification_status_Verified                        0.102482   \n",
       "purpose_car                                         0.018547   \n",
       "purpose_credit_card                                -0.000351   \n",
       "purpose_debt_consolidation                         -0.052230   \n",
       "purpose_educational                                -0.028996   \n",
       "purpose_home_improvement                            0.204205   \n",
       "purpose_house                                      -0.015049   \n",
       "purpose_major_purchase                             -0.010012   \n",
       "purpose_medical                                    -0.000834   \n",
       "purpose_moving                                     -0.062782   \n",
       "purpose_other                                      -0.052751   \n",
       "purpose_renewable_energy                            0.010047   \n",
       "purpose_small_business                              0.030803   \n",
       "purpose_vacation                                   -0.015810   \n",
       "purpose_wedding                                    -0.043251   \n",
       "\n",
       "                                     home_ownership_OTHER  home_ownership_OWN  \\\n",
       "loan_amnt                                       -0.002964           -0.031283   \n",
       "term                                            -0.028203           -0.011759   \n",
       "int_rate                                        -0.000039           -0.012279   \n",
       "installment                                      0.003692           -0.028385   \n",
       "emp_length                                      -0.013537            0.025772   \n",
       "annual_inc                                       0.001277           -0.039003   \n",
       "dti                                             -0.014650           -0.003568   \n",
       "delinq_2yrs                                      0.017776            0.005946   \n",
       "inq_last_6mths                                   0.009969            0.005326   \n",
       "open_acc                                        -0.003795           -0.017034   \n",
       "pub_rec                                         -0.004946           -0.008748   \n",
       "revol_bal                                       -0.004070           -0.030816   \n",
       "revol_util                                      -0.010719           -0.046647   \n",
       "total_acc                                       -0.001681           -0.027166   \n",
       "home_ownership_MORTGAGE                         -0.045310           -0.251481   \n",
       "home_ownership_OTHER                             1.000000           -0.014338   \n",
       "home_ownership_OWN                              -0.014338            1.000000   \n",
       "home_ownership_RENT                             -0.048920           -0.271520   \n",
       "verification_status_Not Verified                 0.009669            0.032728   \n",
       "verification_status_Source Verified             -0.017570            0.001550   \n",
       "verification_status_Verified                     0.006144           -0.036348   \n",
       "purpose_car                                     -0.004776            0.014459   \n",
       "purpose_credit_card                             -0.002535           -0.032405   \n",
       "purpose_debt_consolidation                      -0.004962           -0.019588   \n",
       "purpose_educational                              0.012693           -0.005605   \n",
       "purpose_home_improvement                        -0.004431            0.037358   \n",
       "purpose_house                                    0.000462            0.002979   \n",
       "purpose_major_purchase                           0.001444            0.029954   \n",
       "purpose_medical                                  0.005259            0.006778   \n",
       "purpose_moving                                  -0.001831           -0.012372   \n",
       "purpose_other                                    0.004301            0.021039   \n",
       "purpose_renewable_energy                         0.007956            0.000145   \n",
       "purpose_small_business                           0.014014           -0.013886   \n",
       "purpose_vacation                                -0.004895            0.002658   \n",
       "purpose_wedding                                 -0.004626           -0.010240   \n",
       "\n",
       "                                     home_ownership_RENT  \\\n",
       "loan_amnt                                      -0.153937   \n",
       "term                                           -0.092915   \n",
       "int_rate                                        0.068669   \n",
       "installment                                    -0.119877   \n",
       "emp_length                                     -0.257012   \n",
       "annual_inc                                     -0.173374   \n",
       "dti                                             0.025778   \n",
       "delinq_2yrs                                    -0.020129   \n",
       "inq_last_6mths                                 -0.082132   \n",
       "open_acc                                       -0.191609   \n",
       "pub_rec                                        -0.026585   \n",
       "revol_bal                                      -0.195920   \n",
       "revol_util                                      0.094561   \n",
       "total_acc                                      -0.310182   \n",
       "home_ownership_MORTGAGE                        -0.858043   \n",
       "home_ownership_OTHER                           -0.048920   \n",
       "home_ownership_OWN                             -0.271520   \n",
       "home_ownership_RENT                             1.000000   \n",
       "verification_status_Not Verified                0.030837   \n",
       "verification_status_Source Verified             0.054051   \n",
       "verification_status_Verified                   -0.083497   \n",
       "purpose_car                                    -0.025516   \n",
       "purpose_credit_card                             0.017553   \n",
       "purpose_debt_consolidation                      0.062673   \n",
       "purpose_educational                             0.030470   \n",
       "purpose_home_improvement                       -0.222102   \n",
       "purpose_house                                   0.013356   \n",
       "purpose_major_purchase                         -0.005858   \n",
       "purpose_medical                                -0.003249   \n",
       "purpose_moving                                  0.069072   \n",
       "purpose_other                                   0.041003   \n",
       "purpose_renewable_energy                       -0.010871   \n",
       "purpose_small_business                         -0.024782   \n",
       "purpose_vacation                                0.014824   \n",
       "purpose_wedding                                 0.048824   \n",
       "\n",
       "                                     verification_status_Not Verified  \\\n",
       "loan_amnt                                                   -0.318449   \n",
       "term                                                        -0.237226   \n",
       "int_rate                                                    -0.182371   \n",
       "installment                                                 -0.267627   \n",
       "emp_length                                                  -0.056157   \n",
       "annual_inc                                                  -0.106706   \n",
       "dti                                                         -0.034006   \n",
       "delinq_2yrs                                                 -0.007119   \n",
       "inq_last_6mths                                              -0.009756   \n",
       "open_acc                                                    -0.054320   \n",
       "pub_rec                                                      0.014981   \n",
       "revol_bal                                                   -0.096869   \n",
       "revol_util                                                  -0.057787   \n",
       "total_acc                                                   -0.075831   \n",
       "home_ownership_MORTGAGE                                     -0.049222   \n",
       "home_ownership_OTHER                                         0.009669   \n",
       "home_ownership_OWN                                           0.032728   \n",
       "home_ownership_RENT                                          0.030837   \n",
       "verification_status_Not Verified                             1.000000   \n",
       "verification_status_Source Verified                         -0.507694   \n",
       "verification_status_Verified                                -0.590831   \n",
       "purpose_car                                                  0.036504   \n",
       "purpose_credit_card                                          0.012270   \n",
       "purpose_debt_consolidation                                  -0.061203   \n",
       "purpose_educational                                          0.049312   \n",
       "purpose_home_improvement                                    -0.009030   \n",
       "purpose_house                                               -0.010654   \n",
       "purpose_major_purchase                                       0.023607   \n",
       "purpose_medical                                              0.004240   \n",
       "purpose_moving                                              -0.001689   \n",
       "purpose_other                                                0.064222   \n",
       "purpose_renewable_energy                                    -0.009205   \n",
       "purpose_small_business                                      -0.026622   \n",
       "purpose_vacation                                             0.006005   \n",
       "purpose_wedding                                             -0.007413   \n",
       "\n",
       "                                     verification_status_Source Verified  \\\n",
       "loan_amnt                                                      -0.088840   \n",
       "term                                                            0.047508   \n",
       "int_rate                                                        0.009598   \n",
       "installment                                                    -0.098457   \n",
       "emp_length                                                     -0.048956   \n",
       "annual_inc                                                     -0.007400   \n",
       "dti                                                            -0.057144   \n",
       "delinq_2yrs                                                     0.004897   \n",
       "inq_last_6mths                                                 -0.005721   \n",
       "open_acc                                                       -0.042469   \n",
       "pub_rec                                                        -0.007551   \n",
       "revol_bal                                                      -0.071940   \n",
       "revol_util                                                      0.012733   \n",
       "total_acc                                                      -0.062431   \n",
       "home_ownership_MORTGAGE                                        -0.053390   \n",
       "home_ownership_OTHER                                           -0.017570   \n",
       "home_ownership_OWN                                              0.001550   \n",
       "home_ownership_RENT                                             0.054051   \n",
       "verification_status_Not Verified                               -0.507694   \n",
       "verification_status_Source Verified                             1.000000   \n",
       "verification_status_Verified                                   -0.395123   \n",
       "purpose_car                                                     0.022840   \n",
       "purpose_credit_card                                            -0.014924   \n",
       "purpose_debt_consolidation                                     -0.010064   \n",
       "purpose_educational                                            -0.031713   \n",
       "purpose_home_improvement                                       -0.003539   \n",
       "purpose_house                                                   0.003803   \n",
       "purpose_major_purchase                                          0.014894   \n",
       "purpose_medical                                                 0.016337   \n",
       "purpose_moving                                                  0.027123   \n",
       "purpose_other                                                  -0.014110   \n",
       "purpose_renewable_energy                                        0.016120   \n",
       "purpose_small_business                                         -0.003498   \n",
       "purpose_vacation                                                0.012991   \n",
       "purpose_wedding                                                 0.020540   \n",
       "\n",
       "                                     verification_status_Verified  \\\n",
       "loan_amnt                                                0.422746   \n",
       "term                                                     0.208457   \n",
       "int_rate                                                 0.185468   \n",
       "installment                                              0.377562   \n",
       "emp_length                                               0.105723   \n",
       "annual_inc                                               0.120707   \n",
       "dti                                                      0.089773   \n",
       "delinq_2yrs                                              0.003005   \n",
       "inq_last_6mths                                           0.015760   \n",
       "open_acc                                                 0.097690   \n",
       "pub_rec                                                 -0.008903   \n",
       "revol_bal                                                0.170658   \n",
       "revol_util                                               0.049692   \n",
       "total_acc                                                0.139320   \n",
       "home_ownership_MORTGAGE                                  0.102482   \n",
       "home_ownership_OTHER                                     0.006144   \n",
       "home_ownership_OWN                                      -0.036348   \n",
       "home_ownership_RENT                                     -0.083497   \n",
       "verification_status_Not Verified                        -0.590831   \n",
       "verification_status_Source Verified                     -0.395123   \n",
       "verification_status_Verified                             1.000000   \n",
       "purpose_car                                             -0.060312   \n",
       "purpose_credit_card                                      0.000892   \n",
       "purpose_debt_consolidation                               0.074683   \n",
       "purpose_educational                                     -0.022882   \n",
       "purpose_home_improvement                                 0.012943   \n",
       "purpose_house                                            0.007798   \n",
       "purpose_major_purchase                                  -0.039119   \n",
       "purpose_medical                                         -0.019819   \n",
       "purpose_moving                                          -0.023598   \n",
       "purpose_other                                           -0.055264   \n",
       "purpose_renewable_energy                                -0.005281   \n",
       "purpose_small_business                                   0.031662   \n",
       "purpose_vacation                                        -0.018568   \n",
       "purpose_wedding                                         -0.011330   \n",
       "\n",
       "                                     purpose_car  purpose_credit_card  \\\n",
       "loan_amnt                              -0.118958             0.026490   \n",
       "term                                    0.044760            -0.054350   \n",
       "int_rate                               -0.078810            -0.032676   \n",
       "installment                            -0.128387             0.042533   \n",
       "emp_length                             -0.003704            -0.006498   \n",
       "annual_inc                             -0.020716             0.009052   \n",
       "dti                                    -0.065162             0.075836   \n",
       "delinq_2yrs                             0.002346            -0.031823   \n",
       "inq_last_6mths                          0.001951            -0.044334   \n",
       "open_acc                               -0.032839             0.046602   \n",
       "pub_rec                                 0.002087             0.001178   \n",
       "revol_bal                              -0.033237             0.099274   \n",
       "revol_util                             -0.086408             0.105376   \n",
       "total_acc                              -0.025463             0.030198   \n",
       "home_ownership_MORTGAGE                 0.018547            -0.000351   \n",
       "home_ownership_OTHER                   -0.004776            -0.002535   \n",
       "home_ownership_OWN                      0.014459            -0.032405   \n",
       "home_ownership_RENT                    -0.025516             0.017553   \n",
       "verification_status_Not Verified        0.036504             0.012270   \n",
       "verification_status_Source Verified     0.022840            -0.014924   \n",
       "verification_status_Verified           -0.060312             0.000892   \n",
       "purpose_car                             1.000000            -0.077682   \n",
       "purpose_credit_card                    -0.077682             1.000000   \n",
       "purpose_debt_consolidation             -0.189626            -0.365356   \n",
       "purpose_educational                    -0.018356            -0.035367   \n",
       "purpose_home_improvement               -0.056941            -0.109708   \n",
       "purpose_house                          -0.019591            -0.037747   \n",
       "purpose_major_purchase                 -0.048608            -0.093654   \n",
       "purpose_medical                        -0.026719            -0.051480   \n",
       "purpose_moving                         -0.024472            -0.047151   \n",
       "purpose_other                          -0.066371            -0.127878   \n",
       "purpose_renewable_energy               -0.010046            -0.019356   \n",
       "purpose_small_business                 -0.043881            -0.084547   \n",
       "purpose_vacation                       -0.019339            -0.037261   \n",
       "purpose_wedding                        -0.031709            -0.061095   \n",
       "\n",
       "                                     purpose_debt_consolidation  \\\n",
       "loan_amnt                                              0.185099   \n",
       "term                                                   0.057316   \n",
       "int_rate                                               0.115396   \n",
       "installment                                            0.186543   \n",
       "emp_length                                             0.020384   \n",
       "annual_inc                                            -0.026989   \n",
       "dti                                                    0.162540   \n",
       "delinq_2yrs                                           -0.023869   \n",
       "inq_last_6mths                                        -0.040454   \n",
       "open_acc                                               0.081338   \n",
       "pub_rec                                                0.006769   \n",
       "revol_bal                                              0.072834   \n",
       "revol_util                                             0.170883   \n",
       "total_acc                                              0.061931   \n",
       "home_ownership_MORTGAGE                               -0.052230   \n",
       "home_ownership_OTHER                                  -0.004962   \n",
       "home_ownership_OWN                                    -0.019588   \n",
       "home_ownership_RENT                                    0.062673   \n",
       "verification_status_Not Verified                      -0.061203   \n",
       "verification_status_Source Verified                   -0.010064   \n",
       "verification_status_Verified                           0.074683   \n",
       "purpose_car                                           -0.189626   \n",
       "purpose_credit_card                                   -0.365356   \n",
       "purpose_debt_consolidation                             1.000000   \n",
       "purpose_educational                                   -0.086332   \n",
       "purpose_home_improvement                              -0.267804   \n",
       "purpose_house                                         -0.092142   \n",
       "purpose_major_purchase                                -0.228614   \n",
       "purpose_medical                                       -0.125666   \n",
       "purpose_moving                                        -0.115097   \n",
       "purpose_other                                         -0.312157   \n",
       "purpose_renewable_energy                              -0.047249   \n",
       "purpose_small_business                                -0.206384   \n",
       "purpose_vacation                                      -0.090956   \n",
       "purpose_wedding                                       -0.149137   \n",
       "\n",
       "                                     purpose_educational  \\\n",
       "loan_amnt                                      -0.052688   \n",
       "term                                           -0.043439   \n",
       "int_rate                                       -0.007512   \n",
       "installment                                    -0.045319   \n",
       "emp_length                                     -0.035785   \n",
       "annual_inc                                     -0.021253   \n",
       "dti                                            -0.027049   \n",
       "delinq_2yrs                                     0.000660   \n",
       "inq_last_6mths                                  0.021285   \n",
       "open_acc                                       -0.007064   \n",
       "pub_rec                                        -0.004713   \n",
       "revol_bal                                      -0.020833   \n",
       "revol_util                                     -0.031202   \n",
       "total_acc                                      -0.027822   \n",
       "home_ownership_MORTGAGE                        -0.028996   \n",
       "home_ownership_OTHER                            0.012693   \n",
       "home_ownership_OWN                             -0.005605   \n",
       "home_ownership_RENT                             0.030470   \n",
       "verification_status_Not Verified                0.049312   \n",
       "verification_status_Source Verified            -0.031713   \n",
       "verification_status_Verified                   -0.022882   \n",
       "purpose_car                                    -0.018356   \n",
       "purpose_credit_card                            -0.035367   \n",
       "purpose_debt_consolidation                     -0.086332   \n",
       "purpose_educational                             1.000000   \n",
       "purpose_home_improvement                       -0.025924   \n",
       "purpose_house                                  -0.008919   \n",
       "purpose_major_purchase                         -0.022130   \n",
       "purpose_medical                                -0.012165   \n",
       "purpose_moving                                 -0.011141   \n",
       "purpose_other                                  -0.030217   \n",
       "purpose_renewable_energy                       -0.004574   \n",
       "purpose_small_business                         -0.019978   \n",
       "purpose_vacation                               -0.008805   \n",
       "purpose_wedding                                -0.014437   \n",
       "\n",
       "                                     purpose_home_improvement  purpose_house  \\\n",
       "loan_amnt                                            0.010613       0.023254   \n",
       "term                                                 0.022431       0.012010   \n",
       "int_rate                                            -0.049931       0.009716   \n",
       "installment                                         -0.004170       0.021360   \n",
       "emp_length                                           0.069584      -0.003206   \n",
       "annual_inc                                           0.093487       0.012137   \n",
       "dti                                                 -0.093651      -0.038396   \n",
       "delinq_2yrs                                          0.017211       0.004896   \n",
       "inq_last_6mths                                       0.061940       0.058323   \n",
       "open_acc                                             0.009240      -0.017208   \n",
       "pub_rec                                              0.010071      -0.000101   \n",
       "revol_bal                                           -0.020103      -0.023905   \n",
       "revol_util                                          -0.124378      -0.045272   \n",
       "total_acc                                            0.052036      -0.008043   \n",
       "home_ownership_MORTGAGE                              0.204205      -0.015049   \n",
       "home_ownership_OTHER                                -0.004431       0.000462   \n",
       "home_ownership_OWN                                   0.037358       0.002979   \n",
       "home_ownership_RENT                                 -0.222102       0.013356   \n",
       "verification_status_Not Verified                    -0.009030      -0.010654   \n",
       "verification_status_Source Verified                 -0.003539       0.003803   \n",
       "verification_status_Verified                         0.012943       0.007798   \n",
       "purpose_car                                         -0.056941      -0.019591   \n",
       "purpose_credit_card                                 -0.109708      -0.037747   \n",
       "purpose_debt_consolidation                          -0.267804      -0.092142   \n",
       "purpose_educational                                 -0.025924      -0.008919   \n",
       "purpose_home_improvement                             1.000000      -0.027668   \n",
       "purpose_house                                       -0.027668       1.000000   \n",
       "purpose_major_purchase                              -0.068648      -0.023619   \n",
       "purpose_medical                                     -0.037735      -0.012983   \n",
       "purpose_moving                                      -0.034561      -0.011891   \n",
       "purpose_other                                       -0.093734      -0.032251   \n",
       "purpose_renewable_energy                            -0.014188      -0.004882   \n",
       "purpose_small_business                              -0.061973      -0.021323   \n",
       "purpose_vacation                                    -0.027312      -0.009397   \n",
       "purpose_wedding                                     -0.044782      -0.015408   \n",
       "\n",
       "                                     purpose_major_purchase  purpose_medical  \\\n",
       "loan_amnt                                         -0.099772        -0.053635   \n",
       "term                                              -0.026741        -0.007177   \n",
       "int_rate                                          -0.075266        -0.017040   \n",
       "installment                                       -0.103244        -0.056492   \n",
       "emp_length                                        -0.015866         0.004519   \n",
       "annual_inc                                        -0.009459        -0.001717   \n",
       "dti                                               -0.091922        -0.020700   \n",
       "delinq_2yrs                                        0.010947         0.016748   \n",
       "inq_last_6mths                                    -0.005429         0.006559   \n",
       "open_acc                                          -0.059782        -0.007000   \n",
       "pub_rec                                           -0.014377         0.017128   \n",
       "revol_bal                                         -0.069599        -0.025831   \n",
       "revol_util                                        -0.113078        -0.030547   \n",
       "total_acc                                         -0.048023        -0.004837   \n",
       "home_ownership_MORTGAGE                           -0.010012        -0.000834   \n",
       "home_ownership_OTHER                               0.001444         0.005259   \n",
       "home_ownership_OWN                                 0.029954         0.006778   \n",
       "home_ownership_RENT                               -0.005858        -0.003249   \n",
       "verification_status_Not Verified                   0.023607         0.004240   \n",
       "verification_status_Source Verified                0.014894         0.016337   \n",
       "verification_status_Verified                      -0.039119        -0.019819   \n",
       "purpose_car                                       -0.048608        -0.026719   \n",
       "purpose_credit_card                               -0.093654        -0.051480   \n",
       "purpose_debt_consolidation                        -0.228614        -0.125666   \n",
       "purpose_educational                               -0.022130        -0.012165   \n",
       "purpose_home_improvement                          -0.068648        -0.037735   \n",
       "purpose_house                                     -0.023619        -0.012983   \n",
       "purpose_major_purchase                             1.000000        -0.032213   \n",
       "purpose_medical                                   -0.032213         1.000000   \n",
       "purpose_moving                                    -0.029504        -0.016218   \n",
       "purpose_other                                     -0.080017        -0.043984   \n",
       "purpose_renewable_energy                          -0.012112        -0.006658   \n",
       "purpose_small_business                            -0.052904        -0.029081   \n",
       "purpose_vacation                                  -0.023315        -0.012816   \n",
       "purpose_wedding                                   -0.038229        -0.021014   \n",
       "\n",
       "                                     purpose_moving  purpose_other  \\\n",
       "loan_amnt                                 -0.074732      -0.140114   \n",
       "term                                      -0.022565      -0.045691   \n",
       "int_rate                                  -0.013686      -0.018822   \n",
       "installment                               -0.075387      -0.137736   \n",
       "emp_length                                -0.043716      -0.017277   \n",
       "annual_inc                                -0.012400      -0.029386   \n",
       "dti                                       -0.030292      -0.050980   \n",
       "delinq_2yrs                                0.004914       0.021620   \n",
       "inq_last_6mths                             0.003369       0.011000   \n",
       "open_acc                                  -0.029615      -0.068279   \n",
       "pub_rec                                   -0.008129      -0.013431   \n",
       "revol_bal                                 -0.044740      -0.059614   \n",
       "revol_util                                -0.019468      -0.037722   \n",
       "total_acc                                 -0.033357      -0.065491   \n",
       "home_ownership_MORTGAGE                   -0.062782      -0.052751   \n",
       "home_ownership_OTHER                      -0.001831       0.004301   \n",
       "home_ownership_OWN                        -0.012372       0.021039   \n",
       "home_ownership_RENT                        0.069072       0.041003   \n",
       "verification_status_Not Verified          -0.001689       0.064222   \n",
       "verification_status_Source Verified        0.027123      -0.014110   \n",
       "verification_status_Verified              -0.023598      -0.055264   \n",
       "purpose_car                               -0.024472      -0.066371   \n",
       "purpose_credit_card                       -0.047151      -0.127878   \n",
       "purpose_debt_consolidation                -0.115097      -0.312157   \n",
       "purpose_educational                       -0.011141      -0.030217   \n",
       "purpose_home_improvement                  -0.034561      -0.093734   \n",
       "purpose_house                             -0.011891      -0.032251   \n",
       "purpose_major_purchase                    -0.029504      -0.080017   \n",
       "purpose_medical                           -0.016218      -0.043984   \n",
       "purpose_moving                             1.000000      -0.040285   \n",
       "purpose_other                             -0.040285       1.000000   \n",
       "purpose_renewable_energy                  -0.006098      -0.016538   \n",
       "purpose_small_business                    -0.026635      -0.072237   \n",
       "purpose_vacation                          -0.011738      -0.031835   \n",
       "purpose_wedding                           -0.019247      -0.052199   \n",
       "\n",
       "                                     purpose_renewable_energy  \\\n",
       "loan_amnt                                           -0.016429   \n",
       "term                                                 0.001742   \n",
       "int_rate                                            -0.006366   \n",
       "installment                                         -0.016734   \n",
       "emp_length                                           0.013728   \n",
       "annual_inc                                           0.008493   \n",
       "dti                                                 -0.010755   \n",
       "delinq_2yrs                                         -0.000891   \n",
       "inq_last_6mths                                      -0.006462   \n",
       "open_acc                                            -0.003743   \n",
       "pub_rec                                             -0.002390   \n",
       "revol_bal                                           -0.004015   \n",
       "revol_util                                          -0.001641   \n",
       "total_acc                                            0.004047   \n",
       "home_ownership_MORTGAGE                              0.010047   \n",
       "home_ownership_OTHER                                 0.007956   \n",
       "home_ownership_OWN                                   0.000145   \n",
       "home_ownership_RENT                                 -0.010871   \n",
       "verification_status_Not Verified                    -0.009205   \n",
       "verification_status_Source Verified                  0.016120   \n",
       "verification_status_Verified                        -0.005281   \n",
       "purpose_car                                         -0.010046   \n",
       "purpose_credit_card                                 -0.019356   \n",
       "purpose_debt_consolidation                          -0.047249   \n",
       "purpose_educational                                 -0.004574   \n",
       "purpose_home_improvement                            -0.014188   \n",
       "purpose_house                                       -0.004882   \n",
       "purpose_major_purchase                              -0.012112   \n",
       "purpose_medical                                     -0.006658   \n",
       "purpose_moving                                      -0.006098   \n",
       "purpose_other                                       -0.016538   \n",
       "purpose_renewable_energy                             1.000000   \n",
       "purpose_small_business                              -0.010934   \n",
       "purpose_vacation                                    -0.004819   \n",
       "purpose_wedding                                     -0.007901   \n",
       "\n",
       "                                     purpose_small_business  purpose_vacation  \\\n",
       "loan_amnt                                          0.067931         -0.073237   \n",
       "term                                               0.024829         -0.022345   \n",
       "int_rate                                           0.059114         -0.029124   \n",
       "installment                                        0.063075         -0.073322   \n",
       "emp_length                                        -0.019769          0.015971   \n",
       "annual_inc                                         0.021525         -0.013061   \n",
       "dti                                               -0.072063         -0.016618   \n",
       "delinq_2yrs                                        0.013326          0.005706   \n",
       "inq_last_6mths                                     0.041492         -0.002299   \n",
       "open_acc                                          -0.032070         -0.017760   \n",
       "pub_rec                                            0.003658          0.011147   \n",
       "revol_bal                                         -0.005595         -0.033615   \n",
       "revol_util                                        -0.061779         -0.022894   \n",
       "total_acc                                         -0.019042         -0.008756   \n",
       "home_ownership_MORTGAGE                            0.030803         -0.015810   \n",
       "home_ownership_OTHER                               0.014014         -0.004895   \n",
       "home_ownership_OWN                                -0.013886          0.002658   \n",
       "home_ownership_RENT                               -0.024782          0.014824   \n",
       "verification_status_Not Verified                  -0.026622          0.006005   \n",
       "verification_status_Source Verified               -0.003498          0.012991   \n",
       "verification_status_Verified                       0.031662         -0.018568   \n",
       "purpose_car                                       -0.043881         -0.019339   \n",
       "purpose_credit_card                               -0.084547         -0.037261   \n",
       "purpose_debt_consolidation                        -0.206384         -0.090956   \n",
       "purpose_educational                               -0.019978         -0.008805   \n",
       "purpose_home_improvement                          -0.061973         -0.027312   \n",
       "purpose_house                                     -0.021323         -0.009397   \n",
       "purpose_major_purchase                            -0.052904         -0.023315   \n",
       "purpose_medical                                   -0.029081         -0.012816   \n",
       "purpose_moving                                    -0.026635         -0.011738   \n",
       "purpose_other                                     -0.072237         -0.031835   \n",
       "purpose_renewable_energy                          -0.010934         -0.004819   \n",
       "purpose_small_business                             1.000000         -0.021048   \n",
       "purpose_vacation                                  -0.021048          1.000000   \n",
       "purpose_wedding                                   -0.034512         -0.015210   \n",
       "\n",
       "                                     purpose_wedding  \n",
       "loan_amnt                                  -0.028647  \n",
       "term                                       -0.011847  \n",
       "int_rate                                   -0.007076  \n",
       "installment                                -0.024300  \n",
       "emp_length                                 -0.043054  \n",
       "annual_inc                                 -0.002550  \n",
       "dti                                        -0.023539  \n",
       "delinq_2yrs                                 0.013728  \n",
       "inq_last_6mths                             -0.003237  \n",
       "open_acc                                   -0.019524  \n",
       "pub_rec                                    -0.013406  \n",
       "revol_bal                                  -0.044575  \n",
       "revol_util                                 -0.036676  \n",
       "total_acc                                  -0.043999  \n",
       "home_ownership_MORTGAGE                    -0.043251  \n",
       "home_ownership_OTHER                       -0.004626  \n",
       "home_ownership_OWN                         -0.010240  \n",
       "home_ownership_RENT                         0.048824  \n",
       "verification_status_Not Verified           -0.007413  \n",
       "verification_status_Source Verified         0.020540  \n",
       "verification_status_Verified               -0.011330  \n",
       "purpose_car                                -0.031709  \n",
       "purpose_credit_card                        -0.061095  \n",
       "purpose_debt_consolidation                 -0.149137  \n",
       "purpose_educational                        -0.014437  \n",
       "purpose_home_improvement                   -0.044782  \n",
       "purpose_house                              -0.015408  \n",
       "purpose_major_purchase                     -0.038229  \n",
       "purpose_medical                            -0.021014  \n",
       "purpose_moving                             -0.019247  \n",
       "purpose_other                              -0.052199  \n",
       "purpose_renewable_energy                   -0.007901  \n",
       "purpose_small_business                     -0.034512  \n",
       "purpose_vacation                           -0.015210  \n",
       "purpose_wedding                             1.000000  "
      ]
     },
     "execution_count": 93,
     "metadata": {},
     "output_type": "execute_result"
    }
   ],
   "source": [
    "correlations_matrix"
   ]
  },
  {
   "cell_type": "code",
   "execution_count": 94,
   "metadata": {},
   "outputs": [],
   "source": [
    "import numpy as np\n",
    "import matplotlib.pyplot as plt\n",
    "import seaborn as sns\n",
    "\n",
    "def plot_correlation_heatmap(df):\n",
    "    \n",
    "    corr = df.corr()\n",
    "    \n",
    "    sns.set(style=\"white\")\n",
    "    \n",
    "    mask = np.zeros_like(corr, dtype=np.bool)\n",
    "    \n",
    "    mask[np.triu_indices_from(mask)] = True\n",
    "\n",
    "    \n",
    "    #f, ax = plt.subplots(figsize=(11, 9))\n",
    "    f, ax = plt.subplots(figsize=(12, 10))\n",
    "    \n",
    "    cmap = sns.diverging_palette(220, 10, as_cmap=True)\n",
    "\n",
    "\n",
    "    sns.heatmap(corr, mask=mask, cmap=cmap, vmax=.3, center=0, square=True, linewidths=.5, \n",
    "                cbar_kws={\"shrink\": .5})\n",
    "    \n",
    "    plt.show()\n"
   ]
  },
  {
   "cell_type": "code",
   "execution_count": 95,
   "metadata": {
    "scrolled": false
   },
   "outputs": [
    {
     "data": {
      "image/png": "[encoded data removed]",
      "text/plain": [
       "<Figure size 864x720 with 2 Axes>"
      ]
     },
     "metadata": {},
     "output_type": "display_data"
    }
   ],
   "source": [
    "plot_correlation_heatmap( correlations_matrix )\n"
   ]
  },
  {
   "cell_type": "markdown",
   "metadata": {},
   "source": [
    "### > Option 1 (DVT):"
   ]
  },
  {
   "cell_type": "code",
   "execution_count": 96,
   "metadata": {},
   "outputs": [
    {
     "data": {
      "text/plain": [
       "(37646, 33)"
      ]
     },
     "execution_count": 96,
     "metadata": {},
     "output_type": "execute_result"
    }
   ],
   "source": [
    "loans_opt_1_dvt.shape"
   ]
  },
  {
   "cell_type": "code",
   "execution_count": 97,
   "metadata": {},
   "outputs": [
    {
     "name": "stdout",
     "output_type": "stream",
     "text": [
      "32\n"
     ]
    }
   ],
   "source": [
    "cols = loans_opt_1_dvt.columns\n",
    "\n",
    "corr_cols = cols.drop(\"loan_status\")\n",
    "\n",
    "print( len(corr_cols) )\n"
   ]
  },
  {
   "cell_type": "code",
   "execution_count": 98,
   "metadata": {},
   "outputs": [
    {
     "name": "stdout",
     "output_type": "stream",
     "text": [
      "(32, 32)\n"
     ]
    }
   ],
   "source": [
    "correlations_matrix = loans_opt_1_dvt[corr_cols].corr()\n",
    "\n",
    "print( correlations_matrix.shape )\n"
   ]
  },
  {
   "cell_type": "code",
   "execution_count": 99,
   "metadata": {},
   "outputs": [
    {
     "data": {
      "image/png": "[encoded data removed]",
      "text/plain": [
       "<Figure size 864x720 with 2 Axes>"
      ]
     },
     "metadata": {},
     "output_type": "display_data"
    }
   ],
   "source": [
    "plot_correlation_heatmap( correlations_matrix )\n"
   ]
  },
  {
   "cell_type": "code",
   "execution_count": 100,
   "metadata": {
    "scrolled": true
   },
   "outputs": [
    {
     "data": {
      "text/plain": [
       "total_acc                             -0.310182\n",
       "home_ownership_OWN                    -0.271520\n",
       "emp_length                            -0.257012\n",
       "purpose_home_improvement              -0.222102\n",
       "revol_bal                             -0.195920\n",
       "open_acc                              -0.191609\n",
       "annual_inc                            -0.173374\n",
       "loan_amnt                             -0.153937\n",
       "installment                           -0.119877\n",
       "term                                  -0.092915\n",
       "verification_status_Verified          -0.083497\n",
       "inq_last_6mths                        -0.082132\n",
       "home_ownership_OTHER                  -0.048920\n",
       "pub_rec                               -0.026585\n",
       "purpose_small_business                -0.024782\n",
       "delinq_2yrs                           -0.020129\n",
       "purpose_renewable_energy              -0.010871\n",
       "purpose_major_purchase                -0.005858\n",
       "purpose_medical                       -0.003249\n",
       "purpose_house                          0.013356\n",
       "purpose_vacation                       0.014824\n",
       "purpose_credit_card                    0.017553\n",
       "dti                                    0.025778\n",
       "purpose_educational                    0.030470\n",
       "purpose_other                          0.041003\n",
       "purpose_wedding                        0.048824\n",
       "verification_status_Source Verified    0.054051\n",
       "purpose_debt_consolidation             0.062673\n",
       "int_rate                               0.068669\n",
       "purpose_moving                         0.069072\n",
       "revol_util                             0.094561\n",
       "home_ownership_RENT                    1.000000\n",
       "Name: home_ownership_RENT, dtype: float64"
      ]
     },
     "execution_count": 100,
     "metadata": {},
     "output_type": "execute_result"
    }
   ],
   "source": [
    "correlations_matrix['home_ownership_RENT'].sort_values()"
   ]
  },
  {
   "cell_type": "code",
   "execution_count": 101,
   "metadata": {
    "scrolled": true
   },
   "outputs": [
    {
     "data": {
      "text/plain": [
       "verification_status_Source Verified   -0.395123\n",
       "home_ownership_RENT                   -0.083497\n",
       "purpose_other                         -0.055264\n",
       "purpose_major_purchase                -0.039119\n",
       "home_ownership_OWN                    -0.036348\n",
       "purpose_moving                        -0.023598\n",
       "purpose_educational                   -0.022882\n",
       "purpose_medical                       -0.019819\n",
       "purpose_vacation                      -0.018568\n",
       "purpose_wedding                       -0.011330\n",
       "pub_rec                               -0.008903\n",
       "purpose_renewable_energy              -0.005281\n",
       "purpose_credit_card                    0.000892\n",
       "delinq_2yrs                            0.003005\n",
       "home_ownership_OTHER                   0.006144\n",
       "purpose_house                          0.007798\n",
       "purpose_home_improvement               0.012943\n",
       "inq_last_6mths                         0.015760\n",
       "purpose_small_business                 0.031662\n",
       "revol_util                             0.049692\n",
       "purpose_debt_consolidation             0.074683\n",
       "dti                                    0.089773\n",
       "open_acc                               0.097690\n",
       "emp_length                             0.105723\n",
       "annual_inc                             0.120707\n",
       "total_acc                              0.139320\n",
       "revol_bal                              0.170658\n",
       "int_rate                               0.185468\n",
       "term                                   0.208457\n",
       "installment                            0.377562\n",
       "loan_amnt                              0.422746\n",
       "verification_status_Verified           1.000000\n",
       "Name: verification_status_Verified, dtype: float64"
      ]
     },
     "execution_count": 101,
     "metadata": {},
     "output_type": "execute_result"
    }
   ],
   "source": [
    "correlations_matrix['verification_status_Verified'].sort_values()"
   ]
  },
  {
   "cell_type": "code",
   "execution_count": null,
   "metadata": {},
   "outputs": [],
   "source": []
  },
  {
   "cell_type": "code",
   "execution_count": null,
   "metadata": {},
   "outputs": [],
   "source": []
  },
  {
   "cell_type": "markdown",
   "metadata": {},
   "source": [
    "### Selecting an Error Metric"
   ]
  },
  {
   "cell_type": "markdown",
   "metadata": {},
   "source": [
    "An error metric will help us figure out when our model is performing well, and when it's performing poorly. Since we will be using a machine learning model to predict whether or not we should fund a loan on the Lending Club platform, our final goal is to make money. \n",
    "\n",
    "- We want to fund enough loans that are paid off on time to compensate for our losses from loans that aren't paid off.\n",
    "\n",
    "An error metric will help us determine if our algorithm will make us money or lose us money."
   ]
  },
  {
   "cell_type": "markdown",
   "metadata": {},
   "source": [
    "In this case, we're primarily concerned with false positives and false negatives. Both of these are different types of misclassifications. \n",
    "\n",
    "- With a __false positive__, we predict that a loan will be paid off on time, but it actually isn't. This costs us money, since we fund loans that lose us money. \n",
    "\n",
    "\n",
    "- With a __false negative__, we predict that a loan won't be paid off on time, but it actually would be paid off on time. This loses us potential money, since we didn't fund a loan that actually would have been paid off.\n",
    "\n",
    "Since we're viewing this problem from the standpoint of a __conservative investor__, we need to treat false positives differently than false negatives. __A conservative investor would want to minimize risk and avoid false positives as much as possible.__ We would be more secure with missing out on opportunities (false negatives) than we would be with funding a risky loan (false positives)."
   ]
  },
  {
   "cell_type": "markdown",
   "metadata": {},
   "source": [
    "We mentioned earlier that there is a significant __class imbalance__ in the `loan_status` column. There are __6 times__ as many loans that were paid off on time (`1`), than loans that weren't paid off on time (`0`). This causes a major issue when we use __accuracy__ as a metric. Due to the class imbalance, a classifier can predict 1 for every row, and still have high accuracy.\n",
    "\n",
    "- Accuracy = number of correct predictions divided by the number of total predictions\n",
    "\n",
    "In this case, we will not use accuracy and instead will use metrics that tell us the number of false positives and false negatives.\n",
    "\n",
    "This means that we should optimize for:\n",
    "\n",
    "- __High__ True Positive Rate (TPR) -- aka Sensitivity or Recall\n",
    "\n",
    "    * The percentage of loans that should be funded that I would fund\n",
    "\n",
    "\n",
    "- __Low__ False Positive Rate (FPR) -- aka Fall-Out\n",
    "\n",
    "    * The percentage of the loans that shouldn't be funded that I would fund"
   ]
  },
  {
   "cell_type": "markdown",
   "metadata": {},
   "source": [
    "### Logistic Regression"
   ]
  },
  {
   "cell_type": "markdown",
   "metadata": {},
   "source": [
    "A good first algorithm to apply to binary classification problems is logistic regression, for the following reasons:\n",
    "\n",
    "- it's quick to train and we can iterate more quickly,\n",
    "\n",
    "\n",
    "- it's less prone to overfitting than more complex models like decision trees,\n",
    "\n",
    "\n",
    "- it's easy to interpret."
   ]
  },
  {
   "cell_type": "code",
   "execution_count": 101,
   "metadata": {},
   "outputs": [
    {
     "data": {
      "text/plain": [
       "(37646, 33)"
      ]
     },
     "execution_count": 101,
     "metadata": {},
     "output_type": "execute_result"
    }
   ],
   "source": [
    "loans_opt_1_dvt.shape"
   ]
  },
  {
   "cell_type": "code",
   "execution_count": 102,
   "metadata": {},
   "outputs": [
    {
     "name": "stdout",
     "output_type": "stream",
     "text": [
      "32\n"
     ]
    }
   ],
   "source": [
    "cols = loans_opt_1_dvt.columns\n",
    "\n",
    "train_cols = cols.drop(\"loan_status\")\n",
    "\n",
    "print( len(train_cols) )\n"
   ]
  },
  {
   "cell_type": "code",
   "execution_count": 103,
   "metadata": {},
   "outputs": [],
   "source": [
    "features = loans_opt_1_dvt[train_cols]\n",
    "\n",
    "target = loans_opt_1_dvt[\"loan_status\"]\n"
   ]
  },
  {
   "cell_type": "code",
   "execution_count": 104,
   "metadata": {},
   "outputs": [
    {
     "data": {
      "text/plain": [
       "LogisticRegression()"
      ]
     },
     "execution_count": 104,
     "metadata": {},
     "output_type": "execute_result"
    }
   ],
   "source": [
    "from sklearn.linear_model import LogisticRegression\n",
    "\n",
    "lr = LogisticRegression()\n",
    "\n",
    "lr\n"
   ]
  },
  {
   "cell_type": "code",
   "execution_count": 105,
   "metadata": {},
   "outputs": [
    {
     "data": {
      "text/plain": [
       "{'assume_finite': False,\n",
       " 'working_memory': 1024,\n",
       " 'print_changed_only': True,\n",
       " 'display': 'text'}"
      ]
     },
     "execution_count": 105,
     "metadata": {},
     "output_type": "execute_result"
    }
   ],
   "source": [
    "from sklearn import get_config\n",
    "\n",
    "get_config()\n"
   ]
  },
  {
   "cell_type": "code",
   "execution_count": 106,
   "metadata": {},
   "outputs": [],
   "source": [
    "from sklearn import set_config\n",
    "\n",
    "set_config( print_changed_only=False )\n"
   ]
  },
  {
   "cell_type": "code",
   "execution_count": 107,
   "metadata": {},
   "outputs": [
    {
     "data": {
      "text/plain": [
       "{'assume_finite': False,\n",
       " 'working_memory': 1024,\n",
       " 'print_changed_only': False,\n",
       " 'display': 'text'}"
      ]
     },
     "execution_count": 107,
     "metadata": {},
     "output_type": "execute_result"
    }
   ],
   "source": [
    "get_config()"
   ]
  },
  {
   "cell_type": "code",
   "execution_count": 108,
   "metadata": {},
   "outputs": [
    {
     "data": {
      "text/plain": [
       "LogisticRegression(C=1.0, class_weight=None, dual=False, fit_intercept=True,\n",
       "                   intercept_scaling=1, l1_ratio=None, max_iter=100,\n",
       "                   multi_class='auto', n_jobs=None, penalty='l2',\n",
       "                   random_state=None, solver='lbfgs', tol=0.0001, verbose=0,\n",
       "                   warm_start=False)"
      ]
     },
     "execution_count": 108,
     "metadata": {},
     "output_type": "execute_result"
    }
   ],
   "source": [
    "lr"
   ]
  },
  {
   "cell_type": "markdown",
   "metadata": {},
   "source": [
    "#### > 3 Folds (k-fold cross validation)"
   ]
  },
  {
   "cell_type": "code",
   "execution_count": 109,
   "metadata": {
    "scrolled": true
   },
   "outputs": [
    {
     "name": "stderr",
     "output_type": "stream",
     "text": [
      "C:\\Users\\helen\\Anaconda3\\lib\\site-packages\\sklearn\\linear_model\\_logistic.py:765: ConvergenceWarning: lbfgs failed to converge (status=1):\n",
      "STOP: TOTAL NO. of ITERATIONS REACHED LIMIT.\n",
      "\n",
      "Increase the number of iterations (max_iter) or scale the data as shown in:\n",
      "    https://scikit-learn.org/stable/modules/preprocessing.html\n",
      "Please also refer to the documentation for alternative solver options:\n",
      "    https://scikit-learn.org/stable/modules/linear_model.html#logistic-regression\n",
      "  extra_warning_msg=_LOGISTIC_SOLVER_CONVERGENCE_MSG)\n",
      "C:\\Users\\helen\\Anaconda3\\lib\\site-packages\\sklearn\\linear_model\\_logistic.py:765: ConvergenceWarning: lbfgs failed to converge (status=1):\n",
      "STOP: TOTAL NO. of ITERATIONS REACHED LIMIT.\n",
      "\n",
      "Increase the number of iterations (max_iter) or scale the data as shown in:\n",
      "    https://scikit-learn.org/stable/modules/preprocessing.html\n",
      "Please also refer to the documentation for alternative solver options:\n",
      "    https://scikit-learn.org/stable/modules/linear_model.html#logistic-regression\n",
      "  extra_warning_msg=_LOGISTIC_SOLVER_CONVERGENCE_MSG)\n"
     ]
    },
    {
     "name": "stdout",
     "output_type": "stream",
     "text": [
      "<class 'numpy.ndarray'>\n",
      "37646\n"
     ]
    },
    {
     "name": "stderr",
     "output_type": "stream",
     "text": [
      "C:\\Users\\helen\\Anaconda3\\lib\\site-packages\\sklearn\\linear_model\\_logistic.py:765: ConvergenceWarning: lbfgs failed to converge (status=1):\n",
      "STOP: TOTAL NO. of ITERATIONS REACHED LIMIT.\n",
      "\n",
      "Increase the number of iterations (max_iter) or scale the data as shown in:\n",
      "    https://scikit-learn.org/stable/modules/preprocessing.html\n",
      "Please also refer to the documentation for alternative solver options:\n",
      "    https://scikit-learn.org/stable/modules/linear_model.html#logistic-regression\n",
      "  extra_warning_msg=_LOGISTIC_SOLVER_CONVERGENCE_MSG)\n"
     ]
    }
   ],
   "source": [
    "from sklearn.model_selection import cross_val_predict\n",
    "\n",
    "predictions = cross_val_predict( lr, features, target, cv=3 )\n",
    "\n",
    "\n",
    "print( type(predictions) )\n",
    "print( predictions.size )\n"
   ]
  },
  {
   "cell_type": "code",
   "execution_count": 110,
   "metadata": {},
   "outputs": [
    {
     "data": {
      "text/plain": [
       "LogisticRegression(C=1.0, class_weight=None, dual=False, fit_intercept=True,\n",
       "                   intercept_scaling=1, l1_ratio=None, max_iter=100,\n",
       "                   multi_class='auto', n_jobs=None, penalty='l2',\n",
       "                   random_state=None, solver='liblinear', tol=0.0001, verbose=0,\n",
       "                   warm_start=False)"
      ]
     },
     "execution_count": 110,
     "metadata": {},
     "output_type": "execute_result"
    }
   ],
   "source": [
    "lr = LogisticRegression( solver='liblinear' )\n",
    "\n",
    "lr\n"
   ]
  },
  {
   "cell_type": "code",
   "execution_count": 111,
   "metadata": {},
   "outputs": [
    {
     "name": "stdout",
     "output_type": "stream",
     "text": [
      "<class 'numpy.ndarray'>\n",
      "37646\n"
     ]
    }
   ],
   "source": [
    "predictions = cross_val_predict( lr, features, target, cv=3 )\n",
    "\n",
    "\n",
    "print( type(predictions) )\n",
    "print( predictions.size )\n"
   ]
  },
  {
   "cell_type": "code",
   "execution_count": 112,
   "metadata": {},
   "outputs": [
    {
     "data": {
      "text/plain": [
       "(37646,)"
      ]
     },
     "execution_count": 112,
     "metadata": {},
     "output_type": "execute_result"
    }
   ],
   "source": [
    "predictions = pd.Series( predictions, index=loans_opt_1_dvt.index )\n",
    "\n",
    "predictions.shape\n"
   ]
  },
  {
   "cell_type": "markdown",
   "metadata": {},
   "source": [
    "### *** Functions:"
   ]
  },
  {
   "cell_type": "code",
   "execution_count": 113,
   "metadata": {},
   "outputs": [],
   "source": [
    "def compute_confusion_matrix( df, predictions, target ):\n",
    "    \n",
    "    # False positives.\n",
    "    fp_filter = (predictions == 1) & (df[target] == 0)\n",
    "\n",
    "    fp = len(predictions[fp_filter])\n",
    "\n",
    "    print(\"> False Positives:\", fp, \"\\n\")\n",
    "\n",
    "\n",
    "    # True positives.\n",
    "    tp_filter = (predictions == 1) & (df[target] == 1)\n",
    "\n",
    "    tp = len(predictions[tp_filter])\n",
    "\n",
    "    print(\"> True Positives:\", tp, \"\\n\")\n",
    "\n",
    "\n",
    "    # False negatives.\n",
    "    fn_filter = (predictions == 0) & (df[target] == 1)\n",
    "\n",
    "    fn = len(predictions[fn_filter])\n",
    "\n",
    "    print(\"> False Negatives:\", fn, \"\\n\")\n",
    "\n",
    "\n",
    "    # True negatives\n",
    "    tn_filter = (predictions == 0) & (df[target] == 0)\n",
    "\n",
    "    tn = len(predictions[tn_filter])\n",
    "\n",
    "    print(\"> True Negatives:\", tn, \"\\n\")\n",
    "    \n",
    "    \n",
    "    return tp, tn, fp, fn\n",
    "\n"
   ]
  },
  {
   "cell_type": "code",
   "execution_count": 114,
   "metadata": {},
   "outputs": [],
   "source": [
    "def compute_tpr( tp, fn ):\n",
    "    \n",
    "    # Rates\n",
    "    tpr = tp / (tp + fn)\n",
    "\n",
    "    print(\"True Positive Rate:\", tpr, \"\\n\")\n",
    "\n"
   ]
  },
  {
   "cell_type": "code",
   "execution_count": 115,
   "metadata": {},
   "outputs": [],
   "source": [
    "def compute_fpr( fp, tn ):\n",
    "    \n",
    "    fpr = fp / (fp + tn)\n",
    "\n",
    "    print(\"False Positive Rate:\", fpr, \"\\n\")\n",
    "\n"
   ]
  },
  {
   "cell_type": "code",
   "execution_count": 116,
   "metadata": {},
   "outputs": [],
   "source": [
    "def compute_precision( tp, fp ):\n",
    "    \n",
    "    precision = tp / (tp + fp)\n",
    "\n",
    "    print(\"Precision:\", precision, \"\\n\")\n",
    "\n"
   ]
  },
  {
   "cell_type": "code",
   "execution_count": 117,
   "metadata": {},
   "outputs": [
    {
     "name": "stdout",
     "output_type": "stream",
     "text": [
      "> False Positives: 5347 \n",
      "\n",
      "> True Positives: 32166 \n",
      "\n",
      "> False Negatives: 91 \n",
      "\n",
      "> True Negatives: 42 \n",
      "\n"
     ]
    }
   ],
   "source": [
    "tp, tn, fp, fn = compute_confusion_matrix( loans_opt_1_dvt, predictions, \"loan_status\" )\n"
   ]
  },
  {
   "cell_type": "code",
   "execution_count": 118,
   "metadata": {},
   "outputs": [
    {
     "name": "stdout",
     "output_type": "stream",
     "text": [
      "True Positive Rate: 0.9971789069039279 \n",
      "\n",
      "False Positive Rate: 0.9922063462609019 \n",
      "\n",
      "Precision: 0.8574627462479674 \n",
      "\n"
     ]
    }
   ],
   "source": [
    "compute_tpr( tp, fn )\n",
    "\n",
    "compute_fpr( fp, tn )\n",
    "\n",
    "compute_precision( tp, fp )\n"
   ]
  },
  {
   "cell_type": "markdown",
   "metadata": {},
   "source": [
    "Currently, the classifier is not accounting for the imbalance in the classes.\n",
    "\n",
    "Next, Let's tell the classifier to penalize misclassifications of the less prevalent class more than the other class."
   ]
  },
  {
   "cell_type": "markdown",
   "metadata": {},
   "source": [
    "### Penalizing the Classifier"
   ]
  },
  {
   "cell_type": "markdown",
   "metadata": {},
   "source": [
    "#### > `class_weight` = `balanced`\n",
    "\n",
    "By setting the `class_weight` parameter to `balanced` (when creating the LogisticRegression instance) we are telling scikit-learn to penalize the misclassification of the minority class during the training process. The penalty means that the logistic regression classifier pays more attention to correctly classifying rows where `loan_status` is `0`. This lowers accuracy when `loan_status` is `1`, but increases accuracy when `loan_status` is `0`.\n",
    "\n",
    "__The penalty is set to be inversely proportional to the class frequencies.__ This would mean that for the classifier, correctly classifying a row where `loan_status` is `0` is __6 times__ more important than correctly classifying a row where `loan_status` is `1`."
   ]
  },
  {
   "cell_type": "code",
   "execution_count": 119,
   "metadata": {
    "scrolled": true
   },
   "outputs": [
    {
     "data": {
      "text/plain": [
       "(37646,)"
      ]
     },
     "execution_count": 119,
     "metadata": {},
     "output_type": "execute_result"
    }
   ],
   "source": [
    "lr = LogisticRegression( solver='liblinear', class_weight=\"balanced\" )\n",
    "\n",
    "\n",
    "predictions = cross_val_predict( lr, features, target, cv=3 )\n",
    "\n",
    "\n",
    "predictions = pd.Series( predictions, index=loans_opt_1_dvt.index )\n",
    "\n",
    "predictions.shape\n"
   ]
  },
  {
   "cell_type": "code",
   "execution_count": 120,
   "metadata": {},
   "outputs": [
    {
     "name": "stdout",
     "output_type": "stream",
     "text": [
      "> False Positives: 1881 \n",
      "\n",
      "> True Positives: 20362 \n",
      "\n",
      "> False Negatives: 11895 \n",
      "\n",
      "> True Negatives: 3508 \n",
      "\n"
     ]
    }
   ],
   "source": [
    "tp, tn, fp, fn = compute_confusion_matrix( loans_opt_1_dvt, predictions, \"loan_status\" )\n"
   ]
  },
  {
   "cell_type": "code",
   "execution_count": 121,
   "metadata": {},
   "outputs": [
    {
     "name": "stdout",
     "output_type": "stream",
     "text": [
      "True Positive Rate: 0.6312428310134235 \n",
      "\n",
      "False Positive Rate: 0.34904434960103914 \n",
      "\n",
      "Precision: 0.9154340691453491 \n",
      "\n"
     ]
    }
   ],
   "source": [
    "compute_tpr( tp, fn )\n",
    "\n",
    "compute_fpr( fp, tn )\n",
    "\n",
    "compute_precision( tp, fp )\n"
   ]
  },
  {
   "cell_type": "markdown",
   "metadata": {},
   "source": [
    "### Number of Folds (cross validation) = 5"
   ]
  },
  {
   "cell_type": "code",
   "execution_count": 122,
   "metadata": {},
   "outputs": [
    {
     "data": {
      "text/plain": [
       "(37646,)"
      ]
     },
     "execution_count": 122,
     "metadata": {},
     "output_type": "execute_result"
    }
   ],
   "source": [
    "lr = LogisticRegression( solver='liblinear', class_weight=\"balanced\" )\n",
    "\n",
    "\n",
    "predictions = cross_val_predict( lr, features, target, cv=5 )\n",
    "\n",
    "\n",
    "predictions = pd.Series( predictions, index=loans_opt_1_dvt.index )\n",
    "\n",
    "predictions.shape\n"
   ]
  },
  {
   "cell_type": "code",
   "execution_count": 123,
   "metadata": {},
   "outputs": [
    {
     "name": "stdout",
     "output_type": "stream",
     "text": [
      "> False Positives: 1873 \n",
      "\n",
      "> True Positives: 20169 \n",
      "\n",
      "> False Negatives: 12088 \n",
      "\n",
      "> True Negatives: 3516 \n",
      "\n"
     ]
    }
   ],
   "source": [
    "tp, tn, fp, fn = compute_confusion_matrix( loans_opt_1_dvt, predictions, \"loan_status\" )\n"
   ]
  },
  {
   "cell_type": "code",
   "execution_count": 124,
   "metadata": {},
   "outputs": [
    {
     "name": "stdout",
     "output_type": "stream",
     "text": [
      "True Positive Rate: 0.6252596335679077 \n",
      "\n",
      "False Positive Rate: 0.3475598441269252 \n",
      "\n",
      "Precision: 0.9150258597223483 \n",
      "\n"
     ]
    }
   ],
   "source": [
    "compute_tpr( tp, fn )\n",
    "\n",
    "compute_fpr( fp, tn )\n",
    "\n",
    "compute_precision( tp, fp )\n"
   ]
  },
  {
   "cell_type": "markdown",
   "metadata": {},
   "source": [
    "### Number of Folds (cross validation) = 10"
   ]
  },
  {
   "cell_type": "code",
   "execution_count": 125,
   "metadata": {},
   "outputs": [
    {
     "data": {
      "text/plain": [
       "(37646,)"
      ]
     },
     "execution_count": 125,
     "metadata": {},
     "output_type": "execute_result"
    }
   ],
   "source": [
    "lr = LogisticRegression( solver='liblinear', class_weight=\"balanced\" )\n",
    "\n",
    "\n",
    "predictions = cross_val_predict( lr, features, target, cv=10 )\n",
    "\n",
    "\n",
    "predictions = pd.Series( predictions, index=loans_opt_1_dvt.index )\n",
    "\n",
    "predictions.shape\n"
   ]
  },
  {
   "cell_type": "code",
   "execution_count": 126,
   "metadata": {},
   "outputs": [
    {
     "name": "stdout",
     "output_type": "stream",
     "text": [
      "> False Positives: 1895 \n",
      "\n",
      "> True Positives: 20384 \n",
      "\n",
      "> False Negatives: 11873 \n",
      "\n",
      "> True Negatives: 3494 \n",
      "\n"
     ]
    }
   ],
   "source": [
    "tp, tn, fp, fn = compute_confusion_matrix( loans_opt_1_dvt, predictions, \"loan_status\" )\n"
   ]
  },
  {
   "cell_type": "code",
   "execution_count": 127,
   "metadata": {},
   "outputs": [
    {
     "name": "stdout",
     "output_type": "stream",
     "text": [
      "True Positive Rate: 0.6319248535201661 \n",
      "\n",
      "False Positive Rate: 0.35164223418073853 \n",
      "\n",
      "Precision: 0.914942322366354 \n",
      "\n"
     ]
    }
   ],
   "source": [
    "compute_tpr( tp, fn )\n",
    "\n",
    "compute_fpr( fp, tn )\n",
    "\n",
    "compute_precision( tp, fp )\n"
   ]
  },
  {
   "cell_type": "markdown",
   "metadata": {},
   "source": [
    "### solver = 'lbfgs'"
   ]
  },
  {
   "cell_type": "code",
   "execution_count": 128,
   "metadata": {
    "scrolled": true
   },
   "outputs": [
    {
     "name": "stderr",
     "output_type": "stream",
     "text": [
      "C:\\Users\\helen\\Anaconda3\\lib\\site-packages\\sklearn\\linear_model\\_logistic.py:765: ConvergenceWarning: lbfgs failed to converge (status=1):\n",
      "STOP: TOTAL NO. of ITERATIONS REACHED LIMIT.\n",
      "\n",
      "Increase the number of iterations (max_iter) or scale the data as shown in:\n",
      "    https://scikit-learn.org/stable/modules/preprocessing.html\n",
      "Please also refer to the documentation for alternative solver options:\n",
      "    https://scikit-learn.org/stable/modules/linear_model.html#logistic-regression\n",
      "  extra_warning_msg=_LOGISTIC_SOLVER_CONVERGENCE_MSG)\n",
      "C:\\Users\\helen\\Anaconda3\\lib\\site-packages\\sklearn\\linear_model\\_logistic.py:765: ConvergenceWarning: lbfgs failed to converge (status=1):\n",
      "STOP: TOTAL NO. of ITERATIONS REACHED LIMIT.\n",
      "\n",
      "Increase the number of iterations (max_iter) or scale the data as shown in:\n",
      "    https://scikit-learn.org/stable/modules/preprocessing.html\n",
      "Please also refer to the documentation for alternative solver options:\n",
      "    https://scikit-learn.org/stable/modules/linear_model.html#logistic-regression\n",
      "  extra_warning_msg=_LOGISTIC_SOLVER_CONVERGENCE_MSG)\n",
      "C:\\Users\\helen\\Anaconda3\\lib\\site-packages\\sklearn\\linear_model\\_logistic.py:765: ConvergenceWarning: lbfgs failed to converge (status=1):\n",
      "STOP: TOTAL NO. of ITERATIONS REACHED LIMIT.\n",
      "\n",
      "Increase the number of iterations (max_iter) or scale the data as shown in:\n",
      "    https://scikit-learn.org/stable/modules/preprocessing.html\n",
      "Please also refer to the documentation for alternative solver options:\n",
      "    https://scikit-learn.org/stable/modules/linear_model.html#logistic-regression\n",
      "  extra_warning_msg=_LOGISTIC_SOLVER_CONVERGENCE_MSG)\n",
      "C:\\Users\\helen\\Anaconda3\\lib\\site-packages\\sklearn\\linear_model\\_logistic.py:765: ConvergenceWarning: lbfgs failed to converge (status=1):\n",
      "STOP: TOTAL NO. of ITERATIONS REACHED LIMIT.\n",
      "\n",
      "Increase the number of iterations (max_iter) or scale the data as shown in:\n",
      "    https://scikit-learn.org/stable/modules/preprocessing.html\n",
      "Please also refer to the documentation for alternative solver options:\n",
      "    https://scikit-learn.org/stable/modules/linear_model.html#logistic-regression\n",
      "  extra_warning_msg=_LOGISTIC_SOLVER_CONVERGENCE_MSG)\n",
      "C:\\Users\\helen\\Anaconda3\\lib\\site-packages\\sklearn\\linear_model\\_logistic.py:765: ConvergenceWarning: lbfgs failed to converge (status=1):\n",
      "STOP: TOTAL NO. of ITERATIONS REACHED LIMIT.\n",
      "\n",
      "Increase the number of iterations (max_iter) or scale the data as shown in:\n",
      "    https://scikit-learn.org/stable/modules/preprocessing.html\n",
      "Please also refer to the documentation for alternative solver options:\n",
      "    https://scikit-learn.org/stable/modules/linear_model.html#logistic-regression\n",
      "  extra_warning_msg=_LOGISTIC_SOLVER_CONVERGENCE_MSG)\n"
     ]
    },
    {
     "data": {
      "text/plain": [
       "(37646,)"
      ]
     },
     "execution_count": 128,
     "metadata": {},
     "output_type": "execute_result"
    }
   ],
   "source": [
    "lr = LogisticRegression( class_weight=\"balanced\" )\n",
    "\n",
    "\n",
    "predictions = cross_val_predict( lr, features, target, cv=10 )\n",
    "\n",
    "\n",
    "predictions = pd.Series( predictions, index=loans_opt_1_dvt.index )\n",
    "\n",
    "predictions.shape\n"
   ]
  },
  {
   "cell_type": "code",
   "execution_count": 129,
   "metadata": {},
   "outputs": [
    {
     "data": {
      "text/plain": [
       "LogisticRegression(C=1.0, class_weight='balanced', dual=False,\n",
       "                   fit_intercept=True, intercept_scaling=1, l1_ratio=None,\n",
       "                   max_iter=100, multi_class='auto', n_jobs=None, penalty='l2',\n",
       "                   random_state=None, solver='lbfgs', tol=0.0001, verbose=0,\n",
       "                   warm_start=False)"
      ]
     },
     "execution_count": 129,
     "metadata": {},
     "output_type": "execute_result"
    }
   ],
   "source": [
    "lr"
   ]
  },
  {
   "cell_type": "code",
   "execution_count": 130,
   "metadata": {},
   "outputs": [
    {
     "name": "stdout",
     "output_type": "stream",
     "text": [
      "> False Positives: 1855 \n",
      "\n",
      "> True Positives: 17222 \n",
      "\n",
      "> False Negatives: 15035 \n",
      "\n",
      "> True Negatives: 3534 \n",
      "\n"
     ]
    }
   ],
   "source": [
    "tp, tn, fp, fn = compute_confusion_matrix( loans_opt_1_dvt, predictions, \"loan_status\" )\n"
   ]
  },
  {
   "cell_type": "code",
   "execution_count": 131,
   "metadata": {},
   "outputs": [
    {
     "name": "stdout",
     "output_type": "stream",
     "text": [
      "True Positive Rate: 0.5338996186874166 \n",
      "\n",
      "False Positive Rate: 0.34421970681016884 \n",
      "\n",
      "Precision: 0.902762488860932 \n",
      "\n"
     ]
    }
   ],
   "source": [
    "compute_tpr( tp, fn )\n",
    "\n",
    "compute_fpr( fp, tn )\n",
    "\n",
    "compute_precision( tp, fp )\n"
   ]
  },
  {
   "cell_type": "markdown",
   "metadata": {},
   "source": [
    "The `liblinear` solver (algorithm to use in the optimization problem) performs/responds better than the `lbfgs`."
   ]
  },
  {
   "cell_type": "markdown",
   "metadata": {},
   "source": [
    "#### > `class_weight` = Harsher Penalty\n",
    "\n",
    "We can try to lower the false positive rate (FPR) further by assigning a harsher (higher) penalty for misclassifying the negative class."
   ]
  },
  {
   "cell_type": "markdown",
   "metadata": {},
   "source": [
    "#### Penalty = 7:"
   ]
  },
  {
   "cell_type": "code",
   "execution_count": 138,
   "metadata": {},
   "outputs": [
    {
     "data": {
      "text/plain": [
       "(37646,)"
      ]
     },
     "execution_count": 138,
     "metadata": {},
     "output_type": "execute_result"
    }
   ],
   "source": [
    "penalty = {\n",
    "    0: 7,\n",
    "    1: 1\n",
    "}\n",
    "\n",
    "\n",
    "lr = LogisticRegression( solver='liblinear', class_weight=penalty )\n",
    "\n",
    "\n",
    "predictions = cross_val_predict( lr, features, target, cv=10 )\n",
    "\n",
    "\n",
    "predictions = pd.Series( predictions, index=loans_opt_1_dvt.index )\n",
    "\n",
    "predictions.shape\n"
   ]
  },
  {
   "cell_type": "code",
   "execution_count": 139,
   "metadata": {},
   "outputs": [
    {
     "name": "stdout",
     "output_type": "stream",
     "text": [
      "> False Positives: 1537 \n",
      "\n",
      "> True Positives: 18349 \n",
      "\n",
      "> False Negatives: 13908 \n",
      "\n",
      "> True Negatives: 3852 \n",
      "\n"
     ]
    }
   ],
   "source": [
    "tp, tn, fp, fn = compute_confusion_matrix( loans_opt_1_dvt, predictions, \"loan_status\" )\n"
   ]
  },
  {
   "cell_type": "code",
   "execution_count": 140,
   "metadata": {},
   "outputs": [
    {
     "name": "stdout",
     "output_type": "stream",
     "text": [
      "True Positive Rate: 0.5688377716464643 \n",
      "\n",
      "False Positive Rate: 0.2852106142141399 \n",
      "\n",
      "Precision: 0.92270944382983 \n",
      "\n"
     ]
    }
   ],
   "source": [
    "compute_tpr( tp, fn )\n",
    "\n",
    "compute_fpr( fp, tn )\n",
    "\n",
    "compute_precision( tp, fp )\n"
   ]
  },
  {
   "cell_type": "markdown",
   "metadata": {},
   "source": [
    "#### Penalty = 8:"
   ]
  },
  {
   "cell_type": "code",
   "execution_count": 141,
   "metadata": {},
   "outputs": [
    {
     "data": {
      "text/plain": [
       "(37646,)"
      ]
     },
     "execution_count": 141,
     "metadata": {},
     "output_type": "execute_result"
    }
   ],
   "source": [
    "penalty = {\n",
    "    0: 8,\n",
    "    1: 1\n",
    "}\n",
    "\n",
    "\n",
    "lr = LogisticRegression( solver='liblinear', class_weight=penalty )\n",
    "\n",
    "\n",
    "predictions = cross_val_predict( lr, features, target, cv=10 )\n",
    "\n",
    "\n",
    "predictions = pd.Series( predictions, index=loans_opt_1_dvt.index )\n",
    "\n",
    "predictions.shape\n"
   ]
  },
  {
   "cell_type": "code",
   "execution_count": 142,
   "metadata": {},
   "outputs": [
    {
     "name": "stdout",
     "output_type": "stream",
     "text": [
      "> False Positives: 1008 \n",
      "\n",
      "> True Positives: 13148 \n",
      "\n",
      "> False Negatives: 19109 \n",
      "\n",
      "> True Negatives: 4381 \n",
      "\n"
     ]
    }
   ],
   "source": [
    "tp, tn, fp, fn = compute_confusion_matrix( loans_opt_1_dvt, predictions, \"loan_status\" )\n"
   ]
  },
  {
   "cell_type": "code",
   "execution_count": 143,
   "metadata": {},
   "outputs": [
    {
     "name": "stdout",
     "output_type": "stream",
     "text": [
      "True Positive Rate: 0.40760145084787797 \n",
      "\n",
      "False Positive Rate: 0.18704768973835592 \n",
      "\n",
      "Precision: 0.9287934444758407 \n",
      "\n"
     ]
    }
   ],
   "source": [
    "compute_tpr( tp, fn )\n",
    "\n",
    "compute_fpr( fp, tn )\n",
    "\n",
    "compute_precision( tp, fp )\n"
   ]
  },
  {
   "cell_type": "markdown",
   "metadata": {},
   "source": [
    "#### Penalty = 9:"
   ]
  },
  {
   "cell_type": "code",
   "execution_count": 144,
   "metadata": {},
   "outputs": [
    {
     "data": {
      "text/plain": [
       "(37646,)"
      ]
     },
     "execution_count": 144,
     "metadata": {},
     "output_type": "execute_result"
    }
   ],
   "source": [
    "penalty = {\n",
    "    0: 9,\n",
    "    1: 1\n",
    "}\n",
    "\n",
    "\n",
    "lr = LogisticRegression( solver='liblinear', class_weight=penalty )\n",
    "\n",
    "\n",
    "predictions = cross_val_predict( lr, features, target, cv=10 )\n",
    "\n",
    "\n",
    "predictions = pd.Series( predictions, index=loans_opt_1_dvt.index )\n",
    "\n",
    "predictions.shape\n"
   ]
  },
  {
   "cell_type": "code",
   "execution_count": 145,
   "metadata": {},
   "outputs": [
    {
     "name": "stdout",
     "output_type": "stream",
     "text": [
      "> False Positives: 751 \n",
      "\n",
      "> True Positives: 10854 \n",
      "\n",
      "> False Negatives: 21403 \n",
      "\n",
      "> True Negatives: 4638 \n",
      "\n"
     ]
    }
   ],
   "source": [
    "tp, tn, fp, fn = compute_confusion_matrix( loans_opt_1_dvt, predictions, \"loan_status\" )\n"
   ]
  },
  {
   "cell_type": "code",
   "execution_count": 146,
   "metadata": {},
   "outputs": [
    {
     "name": "stdout",
     "output_type": "stream",
     "text": [
      "True Positive Rate: 0.3364851040084323 \n",
      "\n",
      "False Positive Rate: 0.13935795138244572 \n",
      "\n",
      "Precision: 0.9352865144334339 \n",
      "\n"
     ]
    }
   ],
   "source": [
    "compute_tpr( tp, fn )\n",
    "\n",
    "compute_fpr( fp, tn )\n",
    "\n",
    "compute_precision( tp, fp )\n"
   ]
  },
  {
   "cell_type": "markdown",
   "metadata": {},
   "source": [
    "#### Penalty = 10:"
   ]
  },
  {
   "cell_type": "code",
   "execution_count": 147,
   "metadata": {},
   "outputs": [
    {
     "data": {
      "text/plain": [
       "(37646,)"
      ]
     },
     "execution_count": 147,
     "metadata": {},
     "output_type": "execute_result"
    }
   ],
   "source": [
    "penalty = {\n",
    "    0: 10,\n",
    "    1: 1\n",
    "}\n",
    "\n",
    "\n",
    "lr = LogisticRegression( solver='liblinear', class_weight=penalty )\n",
    "\n",
    "\n",
    "predictions = cross_val_predict( lr, features, target, cv=10 )\n",
    "\n",
    "\n",
    "predictions = pd.Series( predictions, index=loans_opt_1_dvt.index )\n",
    "\n",
    "predictions.shape\n"
   ]
  },
  {
   "cell_type": "code",
   "execution_count": 148,
   "metadata": {},
   "outputs": [
    {
     "name": "stdout",
     "output_type": "stream",
     "text": [
      "> False Positives: 526 \n",
      "\n",
      "> True Positives: 8796 \n",
      "\n",
      "> False Negatives: 23461 \n",
      "\n",
      "> True Negatives: 4863 \n",
      "\n"
     ]
    }
   ],
   "source": [
    "tp, tn, fp, fn = compute_confusion_matrix( loans_opt_1_dvt, predictions, \"loan_status\" )\n"
   ]
  },
  {
   "cell_type": "code",
   "execution_count": 149,
   "metadata": {},
   "outputs": [
    {
     "name": "stdout",
     "output_type": "stream",
     "text": [
      "True Positive Rate: 0.272684998604954 \n",
      "\n",
      "False Positive Rate: 0.09760623492299128 \n",
      "\n",
      "Precision: 0.9435743402703283 \n",
      "\n"
     ]
    }
   ],
   "source": [
    "compute_tpr( tp, fn )\n",
    "\n",
    "compute_fpr( fp, tn )\n",
    "\n",
    "compute_precision( tp, fp )\n"
   ]
  },
  {
   "cell_type": "markdown",
   "metadata": {},
   "source": [
    "#### Penalty = 11:"
   ]
  },
  {
   "cell_type": "code",
   "execution_count": 150,
   "metadata": {},
   "outputs": [
    {
     "data": {
      "text/plain": [
       "(37646,)"
      ]
     },
     "execution_count": 150,
     "metadata": {},
     "output_type": "execute_result"
    }
   ],
   "source": [
    "penalty = {\n",
    "    0: 11,\n",
    "    1: 1\n",
    "}\n",
    "\n",
    "\n",
    "lr = LogisticRegression( solver='liblinear', class_weight=penalty )\n",
    "\n",
    "\n",
    "predictions = cross_val_predict( lr, features, target, cv=10 )\n",
    "\n",
    "\n",
    "predictions = pd.Series( predictions, index=loans_opt_1_dvt.index )\n",
    "\n",
    "predictions.shape\n"
   ]
  },
  {
   "cell_type": "code",
   "execution_count": 151,
   "metadata": {},
   "outputs": [
    {
     "name": "stdout",
     "output_type": "stream",
     "text": [
      "> False Positives: 394 \n",
      "\n",
      "> True Positives: 7095 \n",
      "\n",
      "> False Negatives: 25162 \n",
      "\n",
      "> True Negatives: 4995 \n",
      "\n"
     ]
    }
   ],
   "source": [
    "tp, tn, fp, fn = compute_confusion_matrix( loans_opt_1_dvt, predictions, \"loan_status\" )\n"
   ]
  },
  {
   "cell_type": "code",
   "execution_count": 152,
   "metadata": {},
   "outputs": [
    {
     "name": "stdout",
     "output_type": "stream",
     "text": [
      "True Positive Rate: 0.219952258424528 \n",
      "\n",
      "False Positive Rate: 0.07311189460011133 \n",
      "\n",
      "Precision: 0.9473895046067565 \n",
      "\n"
     ]
    }
   ],
   "source": [
    "compute_tpr( tp, fn )\n",
    "\n",
    "compute_fpr( fp, tn )\n",
    "\n",
    "compute_precision( tp, fp )\n"
   ]
  },
  {
   "cell_type": "markdown",
   "metadata": {},
   "source": [
    "#### Penalty = 12:"
   ]
  },
  {
   "cell_type": "code",
   "execution_count": 153,
   "metadata": {},
   "outputs": [
    {
     "data": {
      "text/plain": [
       "(37646,)"
      ]
     },
     "execution_count": 153,
     "metadata": {},
     "output_type": "execute_result"
    }
   ],
   "source": [
    "penalty = {\n",
    "    0: 12,\n",
    "    1: 1\n",
    "}\n",
    "\n",
    "\n",
    "lr = LogisticRegression( solver='liblinear', class_weight=penalty )\n",
    "\n",
    "\n",
    "predictions = cross_val_predict( lr, features, target, cv=10 )\n",
    "\n",
    "\n",
    "predictions = pd.Series( predictions, index=loans_opt_1_dvt.index )\n",
    "\n",
    "predictions.shape\n"
   ]
  },
  {
   "cell_type": "code",
   "execution_count": 154,
   "metadata": {},
   "outputs": [
    {
     "name": "stdout",
     "output_type": "stream",
     "text": [
      "> False Positives: 244 \n",
      "\n",
      "> True Positives: 5105 \n",
      "\n",
      "> False Negatives: 27152 \n",
      "\n",
      "> True Negatives: 5145 \n",
      "\n"
     ]
    }
   ],
   "source": [
    "tp, tn, fp, fn = compute_confusion_matrix( loans_opt_1_dvt, predictions, \"loan_status\" )\n"
   ]
  },
  {
   "cell_type": "code",
   "execution_count": 155,
   "metadata": {},
   "outputs": [
    {
     "name": "stdout",
     "output_type": "stream",
     "text": [
      "True Positive Rate: 0.15826022258734537 \n",
      "\n",
      "False Positive Rate: 0.04527741696047504 \n",
      "\n",
      "Precision: 0.9543839970087867 \n",
      "\n"
     ]
    }
   ],
   "source": [
    "compute_tpr( tp, fn )\n",
    "\n",
    "compute_fpr( fp, tn )\n",
    "\n",
    "compute_precision( tp, fp )\n"
   ]
  },
  {
   "cell_type": "markdown",
   "metadata": {},
   "source": [
    "#### Penalty = 15:"
   ]
  },
  {
   "cell_type": "code",
   "execution_count": 156,
   "metadata": {},
   "outputs": [
    {
     "data": {
      "text/plain": [
       "(37646,)"
      ]
     },
     "execution_count": 156,
     "metadata": {},
     "output_type": "execute_result"
    }
   ],
   "source": [
    "penalty = {\n",
    "    0: 15,\n",
    "    1: 1\n",
    "}\n",
    "\n",
    "\n",
    "lr = LogisticRegression( solver='liblinear', class_weight=penalty )\n",
    "\n",
    "\n",
    "predictions = cross_val_predict( lr, features, target, cv=10 )\n",
    "\n",
    "\n",
    "predictions = pd.Series( predictions, index=loans_opt_1_dvt.index )\n",
    "\n",
    "predictions.shape\n"
   ]
  },
  {
   "cell_type": "code",
   "execution_count": 157,
   "metadata": {},
   "outputs": [
    {
     "name": "stdout",
     "output_type": "stream",
     "text": [
      "> False Positives: 61 \n",
      "\n",
      "> True Positives: 1224 \n",
      "\n",
      "> False Negatives: 31033 \n",
      "\n",
      "> True Negatives: 5328 \n",
      "\n"
     ]
    }
   ],
   "source": [
    "tp, tn, fp, fn = compute_confusion_matrix( loans_opt_1_dvt, predictions, \"loan_status\" )\n"
   ]
  },
  {
   "cell_type": "code",
   "execution_count": 158,
   "metadata": {},
   "outputs": [
    {
     "name": "stdout",
     "output_type": "stream",
     "text": [
      "True Positive Rate: 0.03794525219332238 \n",
      "\n",
      "False Positive Rate: 0.01131935424011876 \n",
      "\n",
      "Precision: 0.9525291828793774 \n",
      "\n"
     ]
    }
   ],
   "source": [
    "compute_tpr( tp, fn )\n",
    "\n",
    "compute_fpr( fp, tn )\n",
    "\n",
    "compute_precision( tp, fp )\n"
   ]
  },
  {
   "cell_type": "markdown",
   "metadata": {},
   "source": [
    "### Summary of the above results:\n",
    "- Logistic Regression model\n",
    "- solver = 'liblinear'\n",
    "- K-Fold Cross Validation, k = 10"
   ]
  },
  {
   "cell_type": "markdown",
   "metadata": {},
   "source": [
    "|     Penalty     | TPR (Recall) % | FPR (Fall-out) % | Precision % |\n",
    "|:---------------:|:--------------:|:----------------:|:-----------:|\n",
    "| Balanced (5.89) |      63.20     |       35.16      |    91.50    |\n",
    "|        7        |      56.88     |       28.52      |    92.27    |\n",
    "|        8        |      40.76     |       18.70      |    92.88    |\n",
    "|        9        |      33.65     |       13.93      |    93.53    |\n",
    "|        10       |      27.27     |       9.76       |    94.36    |\n",
    "|        11       |       22       |       7.31       |    94.74    |\n",
    "|        12       |      15.82     |       4.53       |    95.44    |\n",
    "|        15       |      3.79      |       1.13       |    95.25    |"
   ]
  },
  {
   "cell_type": "markdown",
   "metadata": {},
   "source": [
    "We can see that assigning manual penalties lowered the false positive rate, and thus lowered our risk. Note that this comes at the expense of true positive rate. While we have fewer false positives, we're also missing opportunities to fund more loans and potentially make more money. Given that we're approaching this as a conservative investor, this strategy makes sense, but it's worth keeping in mind the tradeoffs."
   ]
  },
  {
   "cell_type": "markdown",
   "metadata": {},
   "source": [
    "### Random Forests"
   ]
  },
  {
   "cell_type": "markdown",
   "metadata": {},
   "source": [
    "Let's try a more complex algorithm, random forest. Random forests are able to work with nonlinear data and learn complex conditionals. Logistic regressions are only able to work with linear data. Training a random forest algorithm may enable more accuracy due to columns that correlate nonlinearly with `loan_status`."
   ]
  },
  {
   "cell_type": "markdown",
   "metadata": {},
   "source": [
    "#### > `class_weight` = `balanced`"
   ]
  },
  {
   "cell_type": "code",
   "execution_count": 159,
   "metadata": {},
   "outputs": [
    {
     "name": "stdout",
     "output_type": "stream",
     "text": [
      "RandomForestClassifier(bootstrap=True, ccp_alpha=0.0, class_weight='balanced',\n",
      "                       criterion='gini', max_depth=None, max_features='auto',\n",
      "                       max_leaf_nodes=None, max_samples=None,\n",
      "                       min_impurity_decrease=0.0, min_impurity_split=None,\n",
      "                       min_samples_leaf=1, min_samples_split=2,\n",
      "                       min_weight_fraction_leaf=0.0, n_estimators=100,\n",
      "                       n_jobs=None, oob_score=False, random_state=1, verbose=0,\n",
      "                       warm_start=False)\n"
     ]
    }
   ],
   "source": [
    "from sklearn.ensemble import RandomForestClassifier\n",
    "\n",
    "rf = RandomForestClassifier( n_estimators=100, random_state=1, class_weight=\"balanced\" )\n",
    "\n",
    "\n",
    "predictions = cross_val_predict( rf, features, target, cv=10 )\n",
    "\n",
    "\n",
    "predictions = pd.Series( predictions, index=loans_opt_1_dvt.index )\n",
    "\n",
    "\n",
    "print(rf)\n"
   ]
  },
  {
   "cell_type": "code",
   "execution_count": 160,
   "metadata": {},
   "outputs": [
    {
     "name": "stdout",
     "output_type": "stream",
     "text": [
      "> False Positives: 5350 \n",
      "\n",
      "> True Positives: 32212 \n",
      "\n",
      "> False Negatives: 45 \n",
      "\n",
      "> True Negatives: 39 \n",
      "\n"
     ]
    }
   ],
   "source": [
    "tp, tn, fp, fn = compute_confusion_matrix( loans_opt_1_dvt, predictions, \"loan_status\" )\n"
   ]
  },
  {
   "cell_type": "code",
   "execution_count": 161,
   "metadata": {},
   "outputs": [
    {
     "name": "stdout",
     "output_type": "stream",
     "text": [
      "True Positive Rate: 0.9986049539634808 \n",
      "\n",
      "False Positive Rate: 0.9927630358136945 \n",
      "\n",
      "Precision: 0.8575688195516745 \n",
      "\n"
     ]
    }
   ],
   "source": [
    "compute_tpr( tp, fn )\n",
    "\n",
    "compute_fpr( fp, tn )\n",
    "\n",
    "compute_precision( tp, fp )\n"
   ]
  },
  {
   "cell_type": "markdown",
   "metadata": {},
   "source": [
    "#### Parameters' Tweaking:\n",
    "\n",
    "_min_samples_leaf_ (default=1) = 5\n",
    "\n",
    "_min_samples_split_ (default=2) = 5"
   ]
  },
  {
   "cell_type": "code",
   "execution_count": 162,
   "metadata": {},
   "outputs": [
    {
     "name": "stdout",
     "output_type": "stream",
     "text": [
      "RandomForestClassifier(bootstrap=True, ccp_alpha=0.0, class_weight='balanced',\n",
      "                       criterion='gini', max_depth=None, max_features='auto',\n",
      "                       max_leaf_nodes=None, max_samples=None,\n",
      "                       min_impurity_decrease=0.0, min_impurity_split=None,\n",
      "                       min_samples_leaf=5, min_samples_split=5,\n",
      "                       min_weight_fraction_leaf=0.0, n_estimators=100,\n",
      "                       n_jobs=None, oob_score=False, random_state=1, verbose=0,\n",
      "                       warm_start=False)\n"
     ]
    }
   ],
   "source": [
    "rf = RandomForestClassifier( n_estimators=100, random_state=1, class_weight=\"balanced\", \\\n",
    "                               min_samples_leaf=5, min_samples_split=5 )\n",
    "\n",
    "\n",
    "predictions = cross_val_predict( rf, features, target, cv=10 )\n",
    "\n",
    "\n",
    "predictions = pd.Series( predictions, index=loans_opt_1_dvt.index )\n",
    "\n",
    "\n",
    "print(rf)\n"
   ]
  },
  {
   "cell_type": "code",
   "execution_count": 163,
   "metadata": {},
   "outputs": [
    {
     "name": "stdout",
     "output_type": "stream",
     "text": [
      "> False Positives: 4303 \n",
      "\n",
      "> True Positives: 30168 \n",
      "\n",
      "> False Negatives: 2089 \n",
      "\n",
      "> True Negatives: 1086 \n",
      "\n"
     ]
    }
   ],
   "source": [
    "tp, tn, fp, fn = compute_confusion_matrix( loans_opt_1_dvt, predictions, \"loan_status\" )\n"
   ]
  },
  {
   "cell_type": "code",
   "execution_count": 164,
   "metadata": {
    "scrolled": true
   },
   "outputs": [
    {
     "name": "stdout",
     "output_type": "stream",
     "text": [
      "True Positive Rate: 0.9352388628824752 \n",
      "\n",
      "False Positive Rate: 0.7984783818890332 \n",
      "\n",
      "Precision: 0.8751704331176932 \n",
      "\n"
     ]
    }
   ],
   "source": [
    "compute_tpr( tp, fn )\n",
    "\n",
    "compute_fpr( fp, tn )\n",
    "\n",
    "compute_precision( tp, fp )\n"
   ]
  },
  {
   "cell_type": "markdown",
   "metadata": {},
   "source": [
    "#### Parameters' Tweaking:\n",
    "\n",
    "_max_depth_ (default=None) = 15"
   ]
  },
  {
   "cell_type": "code",
   "execution_count": 165,
   "metadata": {},
   "outputs": [
    {
     "name": "stdout",
     "output_type": "stream",
     "text": [
      "RandomForestClassifier(bootstrap=True, ccp_alpha=0.0, class_weight='balanced',\n",
      "                       criterion='gini', max_depth=15, max_features='auto',\n",
      "                       max_leaf_nodes=None, max_samples=None,\n",
      "                       min_impurity_decrease=0.0, min_impurity_split=None,\n",
      "                       min_samples_leaf=5, min_samples_split=5,\n",
      "                       min_weight_fraction_leaf=0.0, n_estimators=100,\n",
      "                       n_jobs=None, oob_score=False, random_state=1, verbose=0,\n",
      "                       warm_start=False)\n"
     ]
    }
   ],
   "source": [
    "rf = RandomForestClassifier( n_estimators=100, random_state=1, class_weight=\"balanced\", \\\n",
    "                               min_samples_leaf=5, min_samples_split=5, max_depth=15 )\n",
    "\n",
    "\n",
    "predictions = cross_val_predict( rf, features, target, cv=10 )\n",
    "\n",
    "\n",
    "predictions = pd.Series( predictions, index=loans_opt_1_dvt.index )\n",
    "\n",
    "\n",
    "print(rf)\n"
   ]
  },
  {
   "cell_type": "code",
   "execution_count": 166,
   "metadata": {},
   "outputs": [
    {
     "name": "stdout",
     "output_type": "stream",
     "text": [
      "> False Positives: 3562 \n",
      "\n",
      "> True Positives: 27973 \n",
      "\n",
      "> False Negatives: 4284 \n",
      "\n",
      "> True Negatives: 1827 \n",
      "\n"
     ]
    }
   ],
   "source": [
    "tp, tn, fp, fn = compute_confusion_matrix( loans_opt_1_dvt, predictions, \"loan_status\" )\n"
   ]
  },
  {
   "cell_type": "code",
   "execution_count": 167,
   "metadata": {},
   "outputs": [
    {
     "name": "stdout",
     "output_type": "stream",
     "text": [
      "True Positive Rate: 0.8671916173233717 \n",
      "\n",
      "False Positive Rate: 0.6609760623492299 \n",
      "\n",
      "Precision: 0.8870461392104011 \n",
      "\n"
     ]
    }
   ],
   "source": [
    "compute_tpr( tp, fn )\n",
    "\n",
    "compute_fpr( fp, tn )\n",
    "\n",
    "compute_precision( tp, fp )\n"
   ]
  },
  {
   "cell_type": "markdown",
   "metadata": {},
   "source": [
    "#### > `n_estimators` = `10`"
   ]
  },
  {
   "cell_type": "code",
   "execution_count": 168,
   "metadata": {},
   "outputs": [
    {
     "name": "stdout",
     "output_type": "stream",
     "text": [
      "RandomForestClassifier(bootstrap=True, ccp_alpha=0.0, class_weight='balanced',\n",
      "                       criterion='gini', max_depth=None, max_features='auto',\n",
      "                       max_leaf_nodes=None, max_samples=None,\n",
      "                       min_impurity_decrease=0.0, min_impurity_split=None,\n",
      "                       min_samples_leaf=1, min_samples_split=2,\n",
      "                       min_weight_fraction_leaf=0.0, n_estimators=10,\n",
      "                       n_jobs=None, oob_score=False, random_state=1, verbose=0,\n",
      "                       warm_start=False)\n"
     ]
    }
   ],
   "source": [
    "rf = RandomForestClassifier( n_estimators=10, random_state=1, class_weight=\"balanced\" )\n",
    "\n",
    "\n",
    "predictions = cross_val_predict( rf, features, target, cv=10 )\n",
    "\n",
    "\n",
    "predictions = pd.Series( predictions, index=loans_opt_1_dvt.index )\n",
    "\n",
    "\n",
    "print(rf)\n"
   ]
  },
  {
   "cell_type": "code",
   "execution_count": 169,
   "metadata": {},
   "outputs": [
    {
     "name": "stdout",
     "output_type": "stream",
     "text": [
      "> False Positives: 5040 \n",
      "\n",
      "> True Positives: 31395 \n",
      "\n",
      "> False Negatives: 862 \n",
      "\n",
      "> True Negatives: 349 \n",
      "\n"
     ]
    }
   ],
   "source": [
    "tp, tn, fp, fn = compute_confusion_matrix( loans_opt_1_dvt, predictions, \"loan_status\" )\n"
   ]
  },
  {
   "cell_type": "code",
   "execution_count": 170,
   "metadata": {
    "scrolled": true
   },
   "outputs": [
    {
     "name": "stdout",
     "output_type": "stream",
     "text": [
      "True Positive Rate: 0.9732771181448988 \n",
      "\n",
      "False Positive Rate: 0.9352384486917795 \n",
      "\n",
      "Precision: 0.861671469740634 \n",
      "\n"
     ]
    }
   ],
   "source": [
    "compute_tpr( tp, fn )\n",
    "\n",
    "compute_fpr( fp, tn )\n",
    "\n",
    "compute_precision( tp, fp )\n"
   ]
  },
  {
   "cell_type": "markdown",
   "metadata": {},
   "source": [
    "#### Parameters' Tweaking:\n",
    "\n",
    "_min_samples_leaf_ = 5\n",
    "\n",
    "_min_samples_split_ = 5\n",
    "\n",
    "_max_depth_ = 15"
   ]
  },
  {
   "cell_type": "code",
   "execution_count": 171,
   "metadata": {},
   "outputs": [
    {
     "name": "stdout",
     "output_type": "stream",
     "text": [
      "RandomForestClassifier(bootstrap=True, ccp_alpha=0.0, class_weight='balanced',\n",
      "                       criterion='gini', max_depth=15, max_features='auto',\n",
      "                       max_leaf_nodes=None, max_samples=None,\n",
      "                       min_impurity_decrease=0.0, min_impurity_split=None,\n",
      "                       min_samples_leaf=5, min_samples_split=5,\n",
      "                       min_weight_fraction_leaf=0.0, n_estimators=10,\n",
      "                       n_jobs=None, oob_score=False, random_state=1, verbose=0,\n",
      "                       warm_start=False)\n"
     ]
    }
   ],
   "source": [
    "rf = RandomForestClassifier( n_estimators=10, random_state=1, class_weight=\"balanced\", \\\n",
    "                               min_samples_leaf=5, min_samples_split=5, max_depth=15 )\n",
    "\n",
    "\n",
    "predictions = cross_val_predict( rf, features, target, cv=10 )\n",
    "\n",
    "\n",
    "predictions = pd.Series( predictions, index=loans_opt_1_dvt.index )\n",
    "\n",
    "\n",
    "print(rf)\n"
   ]
  },
  {
   "cell_type": "code",
   "execution_count": 172,
   "metadata": {},
   "outputs": [
    {
     "name": "stdout",
     "output_type": "stream",
     "text": [
      "> False Positives: 3437 \n",
      "\n",
      "> True Positives: 26873 \n",
      "\n",
      "> False Negatives: 5384 \n",
      "\n",
      "> True Negatives: 1952 \n",
      "\n"
     ]
    }
   ],
   "source": [
    "tp, tn, fp, fn = compute_confusion_matrix( loans_opt_1_dvt, predictions, \"loan_status\" )\n"
   ]
  },
  {
   "cell_type": "code",
   "execution_count": 173,
   "metadata": {},
   "outputs": [
    {
     "name": "stdout",
     "output_type": "stream",
     "text": [
      "True Positive Rate: 0.8330904919862355 \n",
      "\n",
      "False Positive Rate: 0.6377806643161996 \n",
      "\n",
      "Precision: 0.8866050808314088 \n",
      "\n"
     ]
    }
   ],
   "source": [
    "compute_tpr( tp, fn )\n",
    "\n",
    "compute_fpr( fp, tn )\n",
    "\n",
    "compute_precision( tp, fp )\n"
   ]
  },
  {
   "cell_type": "markdown",
   "metadata": {},
   "source": [
    "#### > `class_weight` = Harsher Penalty"
   ]
  },
  {
   "cell_type": "markdown",
   "metadata": {},
   "source": [
    "#### Penalty = 10:"
   ]
  },
  {
   "cell_type": "code",
   "execution_count": 174,
   "metadata": {},
   "outputs": [
    {
     "name": "stdout",
     "output_type": "stream",
     "text": [
      "RandomForestClassifier(bootstrap=True, ccp_alpha=0.0,\n",
      "                       class_weight={0: 10, 1: 1}, criterion='gini',\n",
      "                       max_depth=None, max_features='auto', max_leaf_nodes=None,\n",
      "                       max_samples=None, min_impurity_decrease=0.0,\n",
      "                       min_impurity_split=None, min_samples_leaf=1,\n",
      "                       min_samples_split=2, min_weight_fraction_leaf=0.0,\n",
      "                       n_estimators=10, n_jobs=None, oob_score=False,\n",
      "                       random_state=1, verbose=0, warm_start=False)\n"
     ]
    }
   ],
   "source": [
    "penalty = {\n",
    "    0: 10,\n",
    "    1: 1\n",
    "}\n",
    "\n",
    "\n",
    "rf = RandomForestClassifier( n_estimators=10, random_state=1, class_weight=penalty )\n",
    "\n",
    "\n",
    "predictions = cross_val_predict( rf, features, target, cv=10 )\n",
    "\n",
    "\n",
    "predictions = pd.Series( predictions, index=loans_opt_1_dvt.index )\n",
    "\n",
    "\n",
    "print(rf)\n"
   ]
  },
  {
   "cell_type": "code",
   "execution_count": 175,
   "metadata": {},
   "outputs": [
    {
     "name": "stdout",
     "output_type": "stream",
     "text": [
      "> False Positives: 5025 \n",
      "\n",
      "> True Positives: 31391 \n",
      "\n",
      "> False Negatives: 866 \n",
      "\n",
      "> True Negatives: 364 \n",
      "\n"
     ]
    }
   ],
   "source": [
    "tp, tn, fp, fn = compute_confusion_matrix( loans_opt_1_dvt, predictions, \"loan_status\" )\n"
   ]
  },
  {
   "cell_type": "code",
   "execution_count": 176,
   "metadata": {
    "scrolled": true
   },
   "outputs": [
    {
     "name": "stdout",
     "output_type": "stream",
     "text": [
      "True Positive Rate: 0.9731531140527637 \n",
      "\n",
      "False Positive Rate: 0.932455000927816 \n",
      "\n",
      "Precision: 0.8620112038664324 \n",
      "\n"
     ]
    }
   ],
   "source": [
    "compute_tpr( tp, fn )\n",
    "\n",
    "compute_fpr( fp, tn )\n",
    "\n",
    "compute_precision( tp, fp )\n"
   ]
  },
  {
   "cell_type": "markdown",
   "metadata": {},
   "source": [
    "#### Parameters' Tweaking:\n",
    "\n",
    "_min_samples_leaf_ = 5\n",
    "\n",
    "_min_samples_split_ = 5\n",
    "\n",
    "_max_depth_ = 15"
   ]
  },
  {
   "cell_type": "code",
   "execution_count": 177,
   "metadata": {},
   "outputs": [
    {
     "name": "stdout",
     "output_type": "stream",
     "text": [
      "RandomForestClassifier(bootstrap=True, ccp_alpha=0.0,\n",
      "                       class_weight={0: 10, 1: 1}, criterion='gini',\n",
      "                       max_depth=15, max_features='auto', max_leaf_nodes=None,\n",
      "                       max_samples=None, min_impurity_decrease=0.0,\n",
      "                       min_impurity_split=None, min_samples_leaf=5,\n",
      "                       min_samples_split=5, min_weight_fraction_leaf=0.0,\n",
      "                       n_estimators=10, n_jobs=None, oob_score=False,\n",
      "                       random_state=1, verbose=0, warm_start=False)\n"
     ]
    }
   ],
   "source": [
    "penalty = {\n",
    "    0: 10,\n",
    "    1: 1\n",
    "}\n",
    "\n",
    "\n",
    "rf = RandomForestClassifier( n_estimators=10, random_state=1, class_weight=penalty, \\\n",
    "                               min_samples_leaf=5, min_samples_split=5, max_depth=15 )\n",
    "\n",
    "\n",
    "predictions = cross_val_predict( rf, features, target, cv=10 )\n",
    "\n",
    "\n",
    "predictions = pd.Series( predictions, index=loans_opt_1_dvt.index )\n",
    "\n",
    "\n",
    "print(rf)\n"
   ]
  },
  {
   "cell_type": "code",
   "execution_count": 178,
   "metadata": {},
   "outputs": [
    {
     "name": "stdout",
     "output_type": "stream",
     "text": [
      "> False Positives: 2517 \n",
      "\n",
      "> True Positives: 22246 \n",
      "\n",
      "> False Negatives: 10011 \n",
      "\n",
      "> True Negatives: 2872 \n",
      "\n"
     ]
    }
   ],
   "source": [
    "tp, tn, fp, fn = compute_confusion_matrix( loans_opt_1_dvt, predictions, \"loan_status\" )\n"
   ]
  },
  {
   "cell_type": "code",
   "execution_count": 179,
   "metadata": {},
   "outputs": [
    {
     "name": "stdout",
     "output_type": "stream",
     "text": [
      "True Positive Rate: 0.6896487584090275 \n",
      "\n",
      "False Positive Rate: 0.46706253479309706 \n",
      "\n",
      "Precision: 0.8983564188507047 \n",
      "\n"
     ]
    }
   ],
   "source": [
    "compute_tpr( tp, fn )\n",
    "\n",
    "compute_fpr( fp, tn )\n",
    "\n",
    "compute_precision( tp, fp )\n"
   ]
  },
  {
   "cell_type": "markdown",
   "metadata": {},
   "source": [
    "#### Parameters' Tweaking:\n",
    "\n",
    "_min_samples_leaf_ = __10__\n",
    "\n",
    "_min_samples_split_ = 5\n",
    "\n",
    "_max_depth_ = 15"
   ]
  },
  {
   "cell_type": "code",
   "execution_count": 180,
   "metadata": {},
   "outputs": [
    {
     "name": "stdout",
     "output_type": "stream",
     "text": [
      "RandomForestClassifier(bootstrap=True, ccp_alpha=0.0,\n",
      "                       class_weight={0: 10, 1: 1}, criterion='gini',\n",
      "                       max_depth=15, max_features='auto', max_leaf_nodes=None,\n",
      "                       max_samples=None, min_impurity_decrease=0.0,\n",
      "                       min_impurity_split=None, min_samples_leaf=10,\n",
      "                       min_samples_split=5, min_weight_fraction_leaf=0.0,\n",
      "                       n_estimators=10, n_jobs=None, oob_score=False,\n",
      "                       random_state=1, verbose=0, warm_start=False)\n"
     ]
    }
   ],
   "source": [
    "penalty = {\n",
    "    0: 10,\n",
    "    1: 1\n",
    "}\n",
    "\n",
    "\n",
    "rf = RandomForestClassifier( n_estimators=10, random_state=1, class_weight=penalty, \\\n",
    "                               min_samples_leaf=10, min_samples_split=5, max_depth=15 )\n",
    "\n",
    "\n",
    "predictions = cross_val_predict( rf, features, target, cv=10 )\n",
    "\n",
    "\n",
    "predictions = pd.Series( predictions, index=loans_opt_1_dvt.index )\n",
    "\n",
    "\n",
    "print(rf)\n"
   ]
  },
  {
   "cell_type": "code",
   "execution_count": 181,
   "metadata": {},
   "outputs": [
    {
     "name": "stdout",
     "output_type": "stream",
     "text": [
      "> False Positives: 2107 \n",
      "\n",
      "> True Positives: 20338 \n",
      "\n",
      "> False Negatives: 11919 \n",
      "\n",
      "> True Negatives: 3282 \n",
      "\n"
     ]
    }
   ],
   "source": [
    "tp, tn, fp, fn = compute_confusion_matrix( loans_opt_1_dvt, predictions, \"loan_status\" )\n"
   ]
  },
  {
   "cell_type": "code",
   "execution_count": 182,
   "metadata": {},
   "outputs": [
    {
     "name": "stdout",
     "output_type": "stream",
     "text": [
      "True Positive Rate: 0.6304988064606132 \n",
      "\n",
      "False Positive Rate: 0.3909816292447578 \n",
      "\n",
      "Precision: 0.9061260859879706 \n",
      "\n"
     ]
    }
   ],
   "source": [
    "compute_tpr( tp, fn )\n",
    "\n",
    "compute_fpr( fp, tn )\n",
    "\n",
    "compute_precision( tp, fp )\n"
   ]
  },
  {
   "cell_type": "markdown",
   "metadata": {},
   "source": [
    "#### Parameters' Tweaking:\n",
    "\n",
    "_min_samples_leaf_ = 10\n",
    "\n",
    "_min_samples_split_ = __10__\n",
    "\n",
    "_max_depth_ = 15\n",
    "\n",
    "Outcome: no improvement"
   ]
  },
  {
   "cell_type": "code",
   "execution_count": 183,
   "metadata": {},
   "outputs": [
    {
     "name": "stdout",
     "output_type": "stream",
     "text": [
      "RandomForestClassifier(bootstrap=True, ccp_alpha=0.0,\n",
      "                       class_weight={0: 10, 1: 1}, criterion='gini',\n",
      "                       max_depth=15, max_features='auto', max_leaf_nodes=None,\n",
      "                       max_samples=None, min_impurity_decrease=0.0,\n",
      "                       min_impurity_split=None, min_samples_leaf=10,\n",
      "                       min_samples_split=10, min_weight_fraction_leaf=0.0,\n",
      "                       n_estimators=10, n_jobs=None, oob_score=False,\n",
      "                       random_state=1, verbose=0, warm_start=False)\n"
     ]
    }
   ],
   "source": [
    "penalty = {\n",
    "    0: 10,\n",
    "    1: 1\n",
    "}\n",
    "\n",
    "\n",
    "rf = RandomForestClassifier( n_estimators=10, random_state=1, class_weight=penalty, \\\n",
    "                               min_samples_leaf=10, min_samples_split=10, max_depth=15 )\n",
    "\n",
    "\n",
    "predictions = cross_val_predict( rf, features, target, cv=10 )\n",
    "\n",
    "\n",
    "predictions = pd.Series( predictions, index=loans_opt_1_dvt.index )\n",
    "\n",
    "\n",
    "print(rf)\n"
   ]
  },
  {
   "cell_type": "code",
   "execution_count": 184,
   "metadata": {},
   "outputs": [
    {
     "name": "stdout",
     "output_type": "stream",
     "text": [
      "> False Positives: 2107 \n",
      "\n",
      "> True Positives: 20338 \n",
      "\n",
      "> False Negatives: 11919 \n",
      "\n",
      "> True Negatives: 3282 \n",
      "\n"
     ]
    }
   ],
   "source": [
    "tp, tn, fp, fn = compute_confusion_matrix( loans_opt_1_dvt, predictions, \"loan_status\" )\n"
   ]
  },
  {
   "cell_type": "code",
   "execution_count": 185,
   "metadata": {},
   "outputs": [
    {
     "name": "stdout",
     "output_type": "stream",
     "text": [
      "True Positive Rate: 0.6304988064606132 \n",
      "\n",
      "False Positive Rate: 0.3909816292447578 \n",
      "\n",
      "Precision: 0.9061260859879706 \n",
      "\n"
     ]
    }
   ],
   "source": [
    "compute_tpr( tp, fn )\n",
    "\n",
    "compute_fpr( fp, tn )\n",
    "\n",
    "compute_precision( tp, fp )\n"
   ]
  },
  {
   "cell_type": "markdown",
   "metadata": {},
   "source": [
    "#### Parameters' Tweaking:\n",
    "\n",
    "_min_samples_leaf_ = __15__\n",
    "\n",
    "_min_samples_split_ = 5\n",
    "\n",
    "_max_depth_ = 15"
   ]
  },
  {
   "cell_type": "code",
   "execution_count": 186,
   "metadata": {},
   "outputs": [
    {
     "name": "stdout",
     "output_type": "stream",
     "text": [
      "RandomForestClassifier(bootstrap=True, ccp_alpha=0.0,\n",
      "                       class_weight={0: 10, 1: 1}, criterion='gini',\n",
      "                       max_depth=15, max_features='auto', max_leaf_nodes=None,\n",
      "                       max_samples=None, min_impurity_decrease=0.0,\n",
      "                       min_impurity_split=None, min_samples_leaf=15,\n",
      "                       min_samples_split=5, min_weight_fraction_leaf=0.0,\n",
      "                       n_estimators=10, n_jobs=None, oob_score=False,\n",
      "                       random_state=1, verbose=0, warm_start=False)\n"
     ]
    }
   ],
   "source": [
    "penalty = {\n",
    "    0: 10,\n",
    "    1: 1\n",
    "}\n",
    "\n",
    "\n",
    "rf = RandomForestClassifier( n_estimators=10, random_state=1, class_weight=penalty, \\\n",
    "                               min_samples_leaf=15, min_samples_split=5, max_depth=15 )\n",
    "\n",
    "\n",
    "predictions = cross_val_predict( rf, features, target, cv=10 )\n",
    "\n",
    "\n",
    "predictions = pd.Series( predictions, index=loans_opt_1_dvt.index )\n",
    "\n",
    "\n",
    "print(rf)\n"
   ]
  },
  {
   "cell_type": "code",
   "execution_count": 187,
   "metadata": {},
   "outputs": [
    {
     "name": "stdout",
     "output_type": "stream",
     "text": [
      "> False Positives: 1765 \n",
      "\n",
      "> True Positives: 18666 \n",
      "\n",
      "> False Negatives: 13591 \n",
      "\n",
      "> True Negatives: 3624 \n",
      "\n"
     ]
    }
   ],
   "source": [
    "tp, tn, fp, fn = compute_confusion_matrix( loans_opt_1_dvt, predictions, \"loan_status\" )\n"
   ]
  },
  {
   "cell_type": "code",
   "execution_count": 188,
   "metadata": {},
   "outputs": [
    {
     "name": "stdout",
     "output_type": "stream",
     "text": [
      "True Positive Rate: 0.5786650959481663 \n",
      "\n",
      "False Positive Rate: 0.32751902022638707 \n",
      "\n",
      "Precision: 0.9136116685429005 \n",
      "\n"
     ]
    }
   ],
   "source": [
    "compute_tpr( tp, fn )\n",
    "\n",
    "compute_fpr( fp, tn )\n",
    "\n",
    "compute_precision( tp, fp )\n"
   ]
  },
  {
   "cell_type": "markdown",
   "metadata": {},
   "source": [
    "#### Parameters' Tweaking:\n",
    "\n",
    "_min_samples_leaf_ = 15\n",
    "\n",
    "_min_samples_split_ = 5\n",
    "\n",
    "_max_depth_ = __10__"
   ]
  },
  {
   "cell_type": "code",
   "execution_count": 189,
   "metadata": {},
   "outputs": [
    {
     "name": "stdout",
     "output_type": "stream",
     "text": [
      "RandomForestClassifier(bootstrap=True, ccp_alpha=0.0,\n",
      "                       class_weight={0: 10, 1: 1}, criterion='gini',\n",
      "                       max_depth=10, max_features='auto', max_leaf_nodes=None,\n",
      "                       max_samples=None, min_impurity_decrease=0.0,\n",
      "                       min_impurity_split=None, min_samples_leaf=15,\n",
      "                       min_samples_split=5, min_weight_fraction_leaf=0.0,\n",
      "                       n_estimators=10, n_jobs=None, oob_score=False,\n",
      "                       random_state=1, verbose=0, warm_start=False)\n"
     ]
    }
   ],
   "source": [
    "penalty = {\n",
    "    0: 10,\n",
    "    1: 1\n",
    "}\n",
    "\n",
    "\n",
    "rf = RandomForestClassifier( n_estimators=10, random_state=1, class_weight=penalty, \\\n",
    "                               min_samples_leaf=15, min_samples_split=5, max_depth=10 )\n",
    "\n",
    "\n",
    "predictions = cross_val_predict( rf, features, target, cv=10 )\n",
    "\n",
    "\n",
    "predictions = pd.Series( predictions, index=loans_opt_1_dvt.index )\n",
    "\n",
    "\n",
    "print(rf)\n"
   ]
  },
  {
   "cell_type": "code",
   "execution_count": 190,
   "metadata": {},
   "outputs": [
    {
     "name": "stdout",
     "output_type": "stream",
     "text": [
      "> False Positives: 1114 \n",
      "\n",
      "> True Positives: 14130 \n",
      "\n",
      "> False Negatives: 18127 \n",
      "\n",
      "> True Negatives: 4275 \n",
      "\n"
     ]
    }
   ],
   "source": [
    "tp, tn, fp, fn = compute_confusion_matrix( loans_opt_1_dvt, predictions, \"loan_status\" )\n"
   ]
  },
  {
   "cell_type": "code",
   "execution_count": 191,
   "metadata": {},
   "outputs": [
    {
     "name": "stdout",
     "output_type": "stream",
     "text": [
      "True Positive Rate: 0.4380444554670304 \n",
      "\n",
      "False Positive Rate: 0.20671738727036557 \n",
      "\n",
      "Precision: 0.9269220676987667 \n",
      "\n"
     ]
    }
   ],
   "source": [
    "compute_tpr( tp, fn )\n",
    "\n",
    "compute_fpr( fp, tn )\n",
    "\n",
    "compute_precision( tp, fp )\n"
   ]
  },
  {
   "cell_type": "markdown",
   "metadata": {},
   "source": [
    "#### Parameters' Tweaking:\n",
    "\n",
    "_min_samples_leaf_ = 15\n",
    "\n",
    "_min_samples_split_ = 5\n",
    "\n",
    "_max_depth_ = __5__"
   ]
  },
  {
   "cell_type": "code",
   "execution_count": 192,
   "metadata": {},
   "outputs": [
    {
     "name": "stdout",
     "output_type": "stream",
     "text": [
      "RandomForestClassifier(bootstrap=True, ccp_alpha=0.0,\n",
      "                       class_weight={0: 10, 1: 1}, criterion='gini',\n",
      "                       max_depth=5, max_features='auto', max_leaf_nodes=None,\n",
      "                       max_samples=None, min_impurity_decrease=0.0,\n",
      "                       min_impurity_split=None, min_samples_leaf=15,\n",
      "                       min_samples_split=5, min_weight_fraction_leaf=0.0,\n",
      "                       n_estimators=10, n_jobs=None, oob_score=False,\n",
      "                       random_state=1, verbose=0, warm_start=False)\n"
     ]
    }
   ],
   "source": [
    "penalty = {\n",
    "    0: 10,\n",
    "    1: 1\n",
    "}\n",
    "\n",
    "\n",
    "rf = RandomForestClassifier( n_estimators=10, random_state=1, class_weight=penalty, \\\n",
    "                               min_samples_leaf=15, min_samples_split=5, max_depth=5 )\n",
    "\n",
    "\n",
    "predictions = cross_val_predict( rf, features, target, cv=10 )\n",
    "\n",
    "\n",
    "predictions = pd.Series( predictions, index=loans_opt_1_dvt.index )\n",
    "\n",
    "\n",
    "print(rf)\n"
   ]
  },
  {
   "cell_type": "code",
   "execution_count": 193,
   "metadata": {},
   "outputs": [
    {
     "name": "stdout",
     "output_type": "stream",
     "text": [
      "> False Positives: 433 \n",
      "\n",
      "> True Positives: 8059 \n",
      "\n",
      "> False Negatives: 24198 \n",
      "\n",
      "> True Negatives: 4956 \n",
      "\n"
     ]
    }
   ],
   "source": [
    "tp, tn, fp, fn = compute_confusion_matrix( loans_opt_1_dvt, predictions, \"loan_status\" )\n"
   ]
  },
  {
   "cell_type": "code",
   "execution_count": 194,
   "metadata": {},
   "outputs": [
    {
     "name": "stdout",
     "output_type": "stream",
     "text": [
      "True Positive Rate: 0.24983724462907275 \n",
      "\n",
      "False Positive Rate: 0.08034885878641677 \n",
      "\n",
      "Precision: 0.9490108337258596 \n",
      "\n"
     ]
    }
   ],
   "source": [
    "compute_tpr( tp, fn )\n",
    "\n",
    "compute_fpr( fp, tn )\n",
    "\n",
    "compute_precision( tp, fp )\n"
   ]
  },
  {
   "cell_type": "markdown",
   "metadata": {},
   "source": [
    "#### Penalty = 15:"
   ]
  },
  {
   "cell_type": "code",
   "execution_count": 195,
   "metadata": {},
   "outputs": [
    {
     "name": "stdout",
     "output_type": "stream",
     "text": [
      "RandomForestClassifier(bootstrap=True, ccp_alpha=0.0,\n",
      "                       class_weight={0: 15, 1: 1}, criterion='gini',\n",
      "                       max_depth=None, max_features='auto', max_leaf_nodes=None,\n",
      "                       max_samples=None, min_impurity_decrease=0.0,\n",
      "                       min_impurity_split=None, min_samples_leaf=1,\n",
      "                       min_samples_split=2, min_weight_fraction_leaf=0.0,\n",
      "                       n_estimators=10, n_jobs=None, oob_score=False,\n",
      "                       random_state=1, verbose=0, warm_start=False)\n"
     ]
    }
   ],
   "source": [
    "penalty = {\n",
    "    0: 15,\n",
    "    1: 1\n",
    "}\n",
    "\n",
    "\n",
    "rf = RandomForestClassifier( n_estimators=10, random_state=1, class_weight=penalty )\n",
    "\n",
    "\n",
    "predictions = cross_val_predict( rf, features, target, cv=10 )\n",
    "\n",
    "\n",
    "predictions = pd.Series( predictions, index=loans_opt_1_dvt.index )\n",
    "\n",
    "\n",
    "print(rf)\n"
   ]
  },
  {
   "cell_type": "code",
   "execution_count": 196,
   "metadata": {},
   "outputs": [
    {
     "name": "stdout",
     "output_type": "stream",
     "text": [
      "> False Positives: 5048 \n",
      "\n",
      "> True Positives: 31445 \n",
      "\n",
      "> False Negatives: 812 \n",
      "\n",
      "> True Negatives: 341 \n",
      "\n"
     ]
    }
   ],
   "source": [
    "tp, tn, fp, fn = compute_confusion_matrix( loans_opt_1_dvt, predictions, \"loan_status\" )\n"
   ]
  },
  {
   "cell_type": "code",
   "execution_count": 197,
   "metadata": {},
   "outputs": [
    {
     "name": "stdout",
     "output_type": "stream",
     "text": [
      "True Positive Rate: 0.9748271692965867 \n",
      "\n",
      "False Positive Rate: 0.9367229541658935 \n",
      "\n",
      "Precision: 0.8616721014989176 \n",
      "\n"
     ]
    }
   ],
   "source": [
    "compute_tpr( tp, fn )\n",
    "\n",
    "compute_fpr( fp, tn )\n",
    "\n",
    "compute_precision( tp, fp )\n"
   ]
  },
  {
   "cell_type": "markdown",
   "metadata": {},
   "source": [
    "#### Parameters' Tweaking:\n",
    "\n",
    "_min_samples_leaf_ = 15\n",
    "\n",
    "_min_samples_split_ = 5\n",
    "\n",
    "_max_depth_ = 5"
   ]
  },
  {
   "cell_type": "code",
   "execution_count": 198,
   "metadata": {},
   "outputs": [
    {
     "name": "stdout",
     "output_type": "stream",
     "text": [
      "RandomForestClassifier(bootstrap=True, ccp_alpha=0.0,\n",
      "                       class_weight={0: 15, 1: 1}, criterion='gini',\n",
      "                       max_depth=5, max_features='auto', max_leaf_nodes=None,\n",
      "                       max_samples=None, min_impurity_decrease=0.0,\n",
      "                       min_impurity_split=None, min_samples_leaf=15,\n",
      "                       min_samples_split=5, min_weight_fraction_leaf=0.0,\n",
      "                       n_estimators=10, n_jobs=None, oob_score=False,\n",
      "                       random_state=1, verbose=0, warm_start=False)\n"
     ]
    }
   ],
   "source": [
    "penalty = {\n",
    "    0: 15,\n",
    "    1: 1\n",
    "}\n",
    "\n",
    "\n",
    "rf = RandomForestClassifier( n_estimators=10, random_state=1, class_weight=penalty, \\\n",
    "                               min_samples_leaf=15, min_samples_split=5, max_depth=5 )\n",
    "\n",
    "\n",
    "predictions = cross_val_predict( rf, features, target, cv=10 )\n",
    "\n",
    "\n",
    "predictions = pd.Series( predictions, index=loans_opt_1_dvt.index )\n",
    "\n",
    "\n",
    "print(rf)\n"
   ]
  },
  {
   "cell_type": "code",
   "execution_count": 199,
   "metadata": {},
   "outputs": [
    {
     "name": "stdout",
     "output_type": "stream",
     "text": [
      "> False Positives: 90 \n",
      "\n",
      "> True Positives: 2793 \n",
      "\n",
      "> False Negatives: 29464 \n",
      "\n",
      "> True Negatives: 5299 \n",
      "\n"
     ]
    }
   ],
   "source": [
    "tp, tn, fp, fn = compute_confusion_matrix( loans_opt_1_dvt, predictions, \"loan_status\" )\n"
   ]
  },
  {
   "cell_type": "code",
   "execution_count": 200,
   "metadata": {},
   "outputs": [
    {
     "name": "stdout",
     "output_type": "stream",
     "text": [
      "True Positive Rate: 0.086585857333292 \n",
      "\n",
      "False Positive Rate: 0.01670068658378178 \n",
      "\n",
      "Precision: 0.9687825182101977 \n",
      "\n"
     ]
    }
   ],
   "source": [
    "compute_tpr( tp, fn )\n",
    "\n",
    "compute_fpr( fp, tn )\n",
    "\n",
    "compute_precision( tp, fp )\n"
   ]
  },
  {
   "cell_type": "markdown",
   "metadata": {},
   "source": [
    "### Important Note (conclusion):\n",
    "\n",
    "Overall, the random forest model does not perform better than the logistic regression one."
   ]
  },
  {
   "cell_type": "markdown",
   "metadata": {},
   "source": [
    "## Under-sampling"
   ]
  },
  {
   "cell_type": "code",
   "execution_count": 201,
   "metadata": {},
   "outputs": [
    {
     "data": {
      "text/plain": [
       "1    32257\n",
       "0     5389\n",
       "Name: loan_status, dtype: int64"
      ]
     },
     "execution_count": 201,
     "metadata": {},
     "output_type": "execute_result"
    }
   ],
   "source": [
    "loans_opt_1_dvt['loan_status'].value_counts(dropna=False)"
   ]
  },
  {
   "cell_type": "code",
   "execution_count": 202,
   "metadata": {
    "scrolled": true
   },
   "outputs": [
    {
     "data": {
      "text/plain": [
       "(32257, 33)"
      ]
     },
     "execution_count": 202,
     "metadata": {},
     "output_type": "execute_result"
    }
   ],
   "source": [
    "paid_loans_bool = loans_opt_1_dvt['loan_status'] == 1\n",
    "\n",
    "paid_loans = loans_opt_1_dvt[paid_loans_bool].copy()\n",
    "\n",
    "paid_loans.shape\n"
   ]
  },
  {
   "cell_type": "code",
   "execution_count": 203,
   "metadata": {},
   "outputs": [
    {
     "data": {
      "text/plain": [
       "(5389, 33)"
      ]
     },
     "execution_count": 203,
     "metadata": {},
     "output_type": "execute_result"
    }
   ],
   "source": [
    "non_paid_loans_bool = loans_opt_1_dvt['loan_status'] == 0\n",
    "\n",
    "non_paid_loans = loans_opt_1_dvt[non_paid_loans_bool].copy()\n",
    "\n",
    "non_paid_loans.shape\n"
   ]
  },
  {
   "cell_type": "code",
   "execution_count": 204,
   "metadata": {},
   "outputs": [
    {
     "data": {
      "text/plain": [
       "(5389, 33)"
      ]
     },
     "execution_count": 204,
     "metadata": {},
     "output_type": "execute_result"
    }
   ],
   "source": [
    "paid_loans_sample = paid_loans.sample( non_paid_loans.shape[0], random_state=1 )\n",
    "\n",
    "paid_loans_sample.shape\n"
   ]
  },
  {
   "cell_type": "code",
   "execution_count": 205,
   "metadata": {},
   "outputs": [
    {
     "data": {
      "text/html": [
       "<div>\n",
       "<style scoped>\n",
       "    .dataframe tbody tr th:only-of-type {\n",
       "        vertical-align: middle;\n",
       "    }\n",
       "\n",
       "    .dataframe tbody tr th {\n",
       "        vertical-align: top;\n",
       "    }\n",
       "\n",
       "    .dataframe thead th {\n",
       "        text-align: right;\n",
       "    }\n",
       "</style>\n",
       "<table border=\"1\" class=\"dataframe\">\n",
       "  <thead>\n",
       "    <tr style=\"text-align: right;\">\n",
       "      <th></th>\n",
       "      <th>loan_amnt</th>\n",
       "      <th>term</th>\n",
       "      <th>int_rate</th>\n",
       "      <th>installment</th>\n",
       "      <th>emp_length</th>\n",
       "      <th>annual_inc</th>\n",
       "      <th>loan_status</th>\n",
       "      <th>dti</th>\n",
       "      <th>delinq_2yrs</th>\n",
       "      <th>inq_last_6mths</th>\n",
       "      <th>open_acc</th>\n",
       "      <th>pub_rec</th>\n",
       "      <th>revol_bal</th>\n",
       "      <th>revol_util</th>\n",
       "      <th>total_acc</th>\n",
       "      <th>home_ownership_OTHER</th>\n",
       "      <th>home_ownership_OWN</th>\n",
       "      <th>home_ownership_RENT</th>\n",
       "      <th>verification_status_Source Verified</th>\n",
       "      <th>verification_status_Verified</th>\n",
       "      <th>purpose_credit_card</th>\n",
       "      <th>purpose_debt_consolidation</th>\n",
       "      <th>purpose_educational</th>\n",
       "      <th>purpose_home_improvement</th>\n",
       "      <th>purpose_house</th>\n",
       "      <th>purpose_major_purchase</th>\n",
       "      <th>purpose_medical</th>\n",
       "      <th>purpose_moving</th>\n",
       "      <th>purpose_other</th>\n",
       "      <th>purpose_renewable_energy</th>\n",
       "      <th>purpose_small_business</th>\n",
       "      <th>purpose_vacation</th>\n",
       "      <th>purpose_wedding</th>\n",
       "    </tr>\n",
       "  </thead>\n",
       "  <tbody>\n",
       "    <tr>\n",
       "      <th>12842</th>\n",
       "      <td>12000.0</td>\n",
       "      <td>36</td>\n",
       "      <td>10.99</td>\n",
       "      <td>392.81</td>\n",
       "      <td>6.0</td>\n",
       "      <td>72000.0</td>\n",
       "      <td>1</td>\n",
       "      <td>2.97</td>\n",
       "      <td>0.0</td>\n",
       "      <td>0.0</td>\n",
       "      <td>4.0</td>\n",
       "      <td>0.0</td>\n",
       "      <td>6375.0</td>\n",
       "      <td>35.4</td>\n",
       "      <td>9.0</td>\n",
       "      <td>0</td>\n",
       "      <td>0</td>\n",
       "      <td>1</td>\n",
       "      <td>1</td>\n",
       "      <td>0</td>\n",
       "      <td>0</td>\n",
       "      <td>0</td>\n",
       "      <td>0</td>\n",
       "      <td>0</td>\n",
       "      <td>0</td>\n",
       "      <td>0</td>\n",
       "      <td>0</td>\n",
       "      <td>0</td>\n",
       "      <td>1</td>\n",
       "      <td>0</td>\n",
       "      <td>0</td>\n",
       "      <td>0</td>\n",
       "      <td>0</td>\n",
       "    </tr>\n",
       "    <tr>\n",
       "      <th>14952</th>\n",
       "      <td>22000.0</td>\n",
       "      <td>60</td>\n",
       "      <td>13.49</td>\n",
       "      <td>506.11</td>\n",
       "      <td>5.0</td>\n",
       "      <td>150000.0</td>\n",
       "      <td>1</td>\n",
       "      <td>12.14</td>\n",
       "      <td>0.0</td>\n",
       "      <td>0.0</td>\n",
       "      <td>14.0</td>\n",
       "      <td>0.0</td>\n",
       "      <td>38064.0</td>\n",
       "      <td>59.0</td>\n",
       "      <td>36.0</td>\n",
       "      <td>0</td>\n",
       "      <td>0</td>\n",
       "      <td>1</td>\n",
       "      <td>1</td>\n",
       "      <td>0</td>\n",
       "      <td>0</td>\n",
       "      <td>1</td>\n",
       "      <td>0</td>\n",
       "      <td>0</td>\n",
       "      <td>0</td>\n",
       "      <td>0</td>\n",
       "      <td>0</td>\n",
       "      <td>0</td>\n",
       "      <td>0</td>\n",
       "      <td>0</td>\n",
       "      <td>0</td>\n",
       "      <td>0</td>\n",
       "      <td>0</td>\n",
       "    </tr>\n",
       "    <tr>\n",
       "      <th>9698</th>\n",
       "      <td>32500.0</td>\n",
       "      <td>36</td>\n",
       "      <td>9.99</td>\n",
       "      <td>911.42</td>\n",
       "      <td>6.0</td>\n",
       "      <td>65000.0</td>\n",
       "      <td>1</td>\n",
       "      <td>19.51</td>\n",
       "      <td>0.0</td>\n",
       "      <td>0.0</td>\n",
       "      <td>8.0</td>\n",
       "      <td>0.0</td>\n",
       "      <td>2524.0</td>\n",
       "      <td>18.7</td>\n",
       "      <td>28.0</td>\n",
       "      <td>0</td>\n",
       "      <td>0</td>\n",
       "      <td>1</td>\n",
       "      <td>0</td>\n",
       "      <td>1</td>\n",
       "      <td>0</td>\n",
       "      <td>1</td>\n",
       "      <td>0</td>\n",
       "      <td>0</td>\n",
       "      <td>0</td>\n",
       "      <td>0</td>\n",
       "      <td>0</td>\n",
       "      <td>0</td>\n",
       "      <td>0</td>\n",
       "      <td>0</td>\n",
       "      <td>0</td>\n",
       "      <td>0</td>\n",
       "      <td>0</td>\n",
       "    </tr>\n",
       "    <tr>\n",
       "      <th>28788</th>\n",
       "      <td>10000.0</td>\n",
       "      <td>36</td>\n",
       "      <td>13.61</td>\n",
       "      <td>339.89</td>\n",
       "      <td>10.0</td>\n",
       "      <td>91000.0</td>\n",
       "      <td>1</td>\n",
       "      <td>15.93</td>\n",
       "      <td>0.0</td>\n",
       "      <td>0.0</td>\n",
       "      <td>10.0</td>\n",
       "      <td>0.0</td>\n",
       "      <td>10116.0</td>\n",
       "      <td>88.6</td>\n",
       "      <td>28.0</td>\n",
       "      <td>0</td>\n",
       "      <td>0</td>\n",
       "      <td>0</td>\n",
       "      <td>0</td>\n",
       "      <td>0</td>\n",
       "      <td>0</td>\n",
       "      <td>1</td>\n",
       "      <td>0</td>\n",
       "      <td>0</td>\n",
       "      <td>0</td>\n",
       "      <td>0</td>\n",
       "      <td>0</td>\n",
       "      <td>0</td>\n",
       "      <td>0</td>\n",
       "      <td>0</td>\n",
       "      <td>0</td>\n",
       "      <td>0</td>\n",
       "      <td>0</td>\n",
       "    </tr>\n",
       "    <tr>\n",
       "      <th>23326</th>\n",
       "      <td>4500.0</td>\n",
       "      <td>60</td>\n",
       "      <td>12.61</td>\n",
       "      <td>101.50</td>\n",
       "      <td>7.0</td>\n",
       "      <td>40000.0</td>\n",
       "      <td>1</td>\n",
       "      <td>23.25</td>\n",
       "      <td>0.0</td>\n",
       "      <td>2.0</td>\n",
       "      <td>8.0</td>\n",
       "      <td>1.0</td>\n",
       "      <td>4109.0</td>\n",
       "      <td>32.9</td>\n",
       "      <td>22.0</td>\n",
       "      <td>0</td>\n",
       "      <td>0</td>\n",
       "      <td>1</td>\n",
       "      <td>1</td>\n",
       "      <td>0</td>\n",
       "      <td>0</td>\n",
       "      <td>1</td>\n",
       "      <td>0</td>\n",
       "      <td>0</td>\n",
       "      <td>0</td>\n",
       "      <td>0</td>\n",
       "      <td>0</td>\n",
       "      <td>0</td>\n",
       "      <td>0</td>\n",
       "      <td>0</td>\n",
       "      <td>0</td>\n",
       "      <td>0</td>\n",
       "      <td>0</td>\n",
       "    </tr>\n",
       "  </tbody>\n",
       "</table>\n",
       "</div>"
      ],
      "text/plain": [
       "       loan_amnt  term  int_rate  installment  emp_length  annual_inc  \\\n",
       "12842    12000.0    36     10.99       392.81         6.0     72000.0   \n",
       "14952    22000.0    60     13.49       506.11         5.0    150000.0   \n",
       "9698     32500.0    36      9.99       911.42         6.0     65000.0   \n",
       "28788    10000.0    36     13.61       339.89        10.0     91000.0   \n",
       "23326     4500.0    60     12.61       101.50         7.0     40000.0   \n",
       "\n",
       "       loan_status    dti  delinq_2yrs  inq_last_6mths  open_acc  pub_rec  \\\n",
       "12842            1   2.97          0.0             0.0       4.0      0.0   \n",
       "14952            1  12.14          0.0             0.0      14.0      0.0   \n",
       "9698             1  19.51          0.0             0.0       8.0      0.0   \n",
       "28788            1  15.93          0.0             0.0      10.0      0.0   \n",
       "23326            1  23.25          0.0             2.0       8.0      1.0   \n",
       "\n",
       "       revol_bal  revol_util  total_acc  home_ownership_OTHER  \\\n",
       "12842     6375.0        35.4        9.0                     0   \n",
       "14952    38064.0        59.0       36.0                     0   \n",
       "9698      2524.0        18.7       28.0                     0   \n",
       "28788    10116.0        88.6       28.0                     0   \n",
       "23326     4109.0        32.9       22.0                     0   \n",
       "\n",
       "       home_ownership_OWN  home_ownership_RENT  \\\n",
       "12842                   0                    1   \n",
       "14952                   0                    1   \n",
       "9698                    0                    1   \n",
       "28788                   0                    0   \n",
       "23326                   0                    1   \n",
       "\n",
       "       verification_status_Source Verified  verification_status_Verified  \\\n",
       "12842                                    1                             0   \n",
       "14952                                    1                             0   \n",
       "9698                                     0                             1   \n",
       "28788                                    0                             0   \n",
       "23326                                    1                             0   \n",
       "\n",
       "       purpose_credit_card  purpose_debt_consolidation  purpose_educational  \\\n",
       "12842                    0                           0                    0   \n",
       "14952                    0                           1                    0   \n",
       "9698                     0                           1                    0   \n",
       "28788                    0                           1                    0   \n",
       "23326                    0                           1                    0   \n",
       "\n",
       "       purpose_home_improvement  purpose_house  purpose_major_purchase  \\\n",
       "12842                         0              0                       0   \n",
       "14952                         0              0                       0   \n",
       "9698                          0              0                       0   \n",
       "28788                         0              0                       0   \n",
       "23326                         0              0                       0   \n",
       "\n",
       "       purpose_medical  purpose_moving  purpose_other  \\\n",
       "12842                0               0              1   \n",
       "14952                0               0              0   \n",
       "9698                 0               0              0   \n",
       "28788                0               0              0   \n",
       "23326                0               0              0   \n",
       "\n",
       "       purpose_renewable_energy  purpose_small_business  purpose_vacation  \\\n",
       "12842                         0                       0                 0   \n",
       "14952                         0                       0                 0   \n",
       "9698                          0                       0                 0   \n",
       "28788                         0                       0                 0   \n",
       "23326                         0                       0                 0   \n",
       "\n",
       "       purpose_wedding  \n",
       "12842                0  \n",
       "14952                0  \n",
       "9698                 0  \n",
       "28788                0  \n",
       "23326                0  "
      ]
     },
     "execution_count": 205,
     "metadata": {},
     "output_type": "execute_result"
    }
   ],
   "source": [
    "paid_loans_sample.head()"
   ]
  },
  {
   "cell_type": "code",
   "execution_count": 206,
   "metadata": {
    "scrolled": true
   },
   "outputs": [
    {
     "name": "stdout",
     "output_type": "stream",
     "text": [
      "<class 'pandas.core.frame.DataFrame'>\n",
      "Int64Index: 10778 entries, 12842 to 39747\n",
      "Data columns (total 33 columns):\n",
      " #   Column                               Non-Null Count  Dtype  \n",
      "---  ------                               --------------  -----  \n",
      " 0   loan_amnt                            10778 non-null  float64\n",
      " 1   term                                 10778 non-null  int64  \n",
      " 2   int_rate                             10778 non-null  float64\n",
      " 3   installment                          10778 non-null  float64\n",
      " 4   emp_length                           10778 non-null  float64\n",
      " 5   annual_inc                           10778 non-null  float64\n",
      " 6   loan_status                          10778 non-null  int64  \n",
      " 7   dti                                  10778 non-null  float64\n",
      " 8   delinq_2yrs                          10778 non-null  float64\n",
      " 9   inq_last_6mths                       10778 non-null  float64\n",
      " 10  open_acc                             10778 non-null  float64\n",
      " 11  pub_rec                              10778 non-null  float64\n",
      " 12  revol_bal                            10778 non-null  float64\n",
      " 13  revol_util                           10778 non-null  float64\n",
      " 14  total_acc                            10778 non-null  float64\n",
      " 15  home_ownership_OTHER                 10778 non-null  uint8  \n",
      " 16  home_ownership_OWN                   10778 non-null  uint8  \n",
      " 17  home_ownership_RENT                  10778 non-null  uint8  \n",
      " 18  verification_status_Source Verified  10778 non-null  uint8  \n",
      " 19  verification_status_Verified         10778 non-null  uint8  \n",
      " 20  purpose_credit_card                  10778 non-null  uint8  \n",
      " 21  purpose_debt_consolidation           10778 non-null  uint8  \n",
      " 22  purpose_educational                  10778 non-null  uint8  \n",
      " 23  purpose_home_improvement             10778 non-null  uint8  \n",
      " 24  purpose_house                        10778 non-null  uint8  \n",
      " 25  purpose_major_purchase               10778 non-null  uint8  \n",
      " 26  purpose_medical                      10778 non-null  uint8  \n",
      " 27  purpose_moving                       10778 non-null  uint8  \n",
      " 28  purpose_other                        10778 non-null  uint8  \n",
      " 29  purpose_renewable_energy             10778 non-null  uint8  \n",
      " 30  purpose_small_business               10778 non-null  uint8  \n",
      " 31  purpose_vacation                     10778 non-null  uint8  \n",
      " 32  purpose_wedding                      10778 non-null  uint8  \n",
      "dtypes: float64(13), int64(2), uint8(18)\n",
      "memory usage: 1.5 MB\n"
     ]
    }
   ],
   "source": [
    "under_sampling_df = pd.concat( [paid_loans_sample, non_paid_loans], axis=0 )\n",
    "\n",
    "under_sampling_df.info()\n"
   ]
  },
  {
   "cell_type": "code",
   "execution_count": 207,
   "metadata": {
    "scrolled": true
   },
   "outputs": [
    {
     "data": {
      "text/plain": [
       "1    5389\n",
       "0    5389\n",
       "Name: loan_status, dtype: int64"
      ]
     },
     "execution_count": 207,
     "metadata": {},
     "output_type": "execute_result"
    }
   ],
   "source": [
    "under_sampling_df['loan_status'].value_counts(dropna=False)\n"
   ]
  },
  {
   "cell_type": "code",
   "execution_count": 208,
   "metadata": {
    "scrolled": true
   },
   "outputs": [
    {
     "data": {
      "text/html": [
       "<div>\n",
       "<style scoped>\n",
       "    .dataframe tbody tr th:only-of-type {\n",
       "        vertical-align: middle;\n",
       "    }\n",
       "\n",
       "    .dataframe tbody tr th {\n",
       "        vertical-align: top;\n",
       "    }\n",
       "\n",
       "    .dataframe thead th {\n",
       "        text-align: right;\n",
       "    }\n",
       "</style>\n",
       "<table border=\"1\" class=\"dataframe\">\n",
       "  <thead>\n",
       "    <tr style=\"text-align: right;\">\n",
       "      <th></th>\n",
       "      <th>loan_amnt</th>\n",
       "      <th>term</th>\n",
       "      <th>int_rate</th>\n",
       "      <th>installment</th>\n",
       "      <th>emp_length</th>\n",
       "      <th>annual_inc</th>\n",
       "      <th>loan_status</th>\n",
       "      <th>dti</th>\n",
       "      <th>delinq_2yrs</th>\n",
       "      <th>inq_last_6mths</th>\n",
       "      <th>open_acc</th>\n",
       "      <th>pub_rec</th>\n",
       "      <th>revol_bal</th>\n",
       "      <th>revol_util</th>\n",
       "      <th>total_acc</th>\n",
       "      <th>home_ownership_OTHER</th>\n",
       "      <th>home_ownership_OWN</th>\n",
       "      <th>home_ownership_RENT</th>\n",
       "      <th>verification_status_Source Verified</th>\n",
       "      <th>verification_status_Verified</th>\n",
       "      <th>purpose_credit_card</th>\n",
       "      <th>purpose_debt_consolidation</th>\n",
       "      <th>purpose_educational</th>\n",
       "      <th>purpose_home_improvement</th>\n",
       "      <th>purpose_house</th>\n",
       "      <th>purpose_major_purchase</th>\n",
       "      <th>purpose_medical</th>\n",
       "      <th>purpose_moving</th>\n",
       "      <th>purpose_other</th>\n",
       "      <th>purpose_renewable_energy</th>\n",
       "      <th>purpose_small_business</th>\n",
       "      <th>purpose_vacation</th>\n",
       "      <th>purpose_wedding</th>\n",
       "    </tr>\n",
       "  </thead>\n",
       "  <tbody>\n",
       "    <tr>\n",
       "      <th>34251</th>\n",
       "      <td>11500.0</td>\n",
       "      <td>36</td>\n",
       "      <td>13.92</td>\n",
       "      <td>392.58</td>\n",
       "      <td>6.0</td>\n",
       "      <td>65000.0</td>\n",
       "      <td>1</td>\n",
       "      <td>14.88</td>\n",
       "      <td>0.0</td>\n",
       "      <td>1.0</td>\n",
       "      <td>5.0</td>\n",
       "      <td>0.0</td>\n",
       "      <td>10104.0</td>\n",
       "      <td>80.8</td>\n",
       "      <td>19.0</td>\n",
       "      <td>0</td>\n",
       "      <td>0</td>\n",
       "      <td>0</td>\n",
       "      <td>0</td>\n",
       "      <td>0</td>\n",
       "      <td>1</td>\n",
       "      <td>0</td>\n",
       "      <td>0</td>\n",
       "      <td>0</td>\n",
       "      <td>0</td>\n",
       "      <td>0</td>\n",
       "      <td>0</td>\n",
       "      <td>0</td>\n",
       "      <td>0</td>\n",
       "      <td>0</td>\n",
       "      <td>0</td>\n",
       "      <td>0</td>\n",
       "      <td>0</td>\n",
       "    </tr>\n",
       "    <tr>\n",
       "      <th>10577</th>\n",
       "      <td>3000.0</td>\n",
       "      <td>36</td>\n",
       "      <td>6.99</td>\n",
       "      <td>92.62</td>\n",
       "      <td>7.0</td>\n",
       "      <td>32000.0</td>\n",
       "      <td>1</td>\n",
       "      <td>16.99</td>\n",
       "      <td>0.0</td>\n",
       "      <td>1.0</td>\n",
       "      <td>12.0</td>\n",
       "      <td>0.0</td>\n",
       "      <td>10958.0</td>\n",
       "      <td>31.1</td>\n",
       "      <td>20.0</td>\n",
       "      <td>0</td>\n",
       "      <td>0</td>\n",
       "      <td>1</td>\n",
       "      <td>1</td>\n",
       "      <td>0</td>\n",
       "      <td>1</td>\n",
       "      <td>0</td>\n",
       "      <td>0</td>\n",
       "      <td>0</td>\n",
       "      <td>0</td>\n",
       "      <td>0</td>\n",
       "      <td>0</td>\n",
       "      <td>0</td>\n",
       "      <td>0</td>\n",
       "      <td>0</td>\n",
       "      <td>0</td>\n",
       "      <td>0</td>\n",
       "      <td>0</td>\n",
       "    </tr>\n",
       "    <tr>\n",
       "      <th>6187</th>\n",
       "      <td>10000.0</td>\n",
       "      <td>36</td>\n",
       "      <td>12.42</td>\n",
       "      <td>334.16</td>\n",
       "      <td>10.0</td>\n",
       "      <td>34000.0</td>\n",
       "      <td>1</td>\n",
       "      <td>9.04</td>\n",
       "      <td>1.0</td>\n",
       "      <td>3.0</td>\n",
       "      <td>11.0</td>\n",
       "      <td>0.0</td>\n",
       "      <td>3377.0</td>\n",
       "      <td>42.2</td>\n",
       "      <td>29.0</td>\n",
       "      <td>0</td>\n",
       "      <td>0</td>\n",
       "      <td>0</td>\n",
       "      <td>0</td>\n",
       "      <td>1</td>\n",
       "      <td>0</td>\n",
       "      <td>0</td>\n",
       "      <td>0</td>\n",
       "      <td>0</td>\n",
       "      <td>0</td>\n",
       "      <td>0</td>\n",
       "      <td>0</td>\n",
       "      <td>0</td>\n",
       "      <td>1</td>\n",
       "      <td>0</td>\n",
       "      <td>0</td>\n",
       "      <td>0</td>\n",
       "      <td>0</td>\n",
       "    </tr>\n",
       "    <tr>\n",
       "      <th>1</th>\n",
       "      <td>2500.0</td>\n",
       "      <td>60</td>\n",
       "      <td>15.27</td>\n",
       "      <td>59.83</td>\n",
       "      <td>0.5</td>\n",
       "      <td>30000.0</td>\n",
       "      <td>0</td>\n",
       "      <td>1.00</td>\n",
       "      <td>0.0</td>\n",
       "      <td>5.0</td>\n",
       "      <td>3.0</td>\n",
       "      <td>0.0</td>\n",
       "      <td>1687.0</td>\n",
       "      <td>9.4</td>\n",
       "      <td>4.0</td>\n",
       "      <td>0</td>\n",
       "      <td>0</td>\n",
       "      <td>1</td>\n",
       "      <td>1</td>\n",
       "      <td>0</td>\n",
       "      <td>0</td>\n",
       "      <td>0</td>\n",
       "      <td>0</td>\n",
       "      <td>0</td>\n",
       "      <td>0</td>\n",
       "      <td>0</td>\n",
       "      <td>0</td>\n",
       "      <td>0</td>\n",
       "      <td>0</td>\n",
       "      <td>0</td>\n",
       "      <td>0</td>\n",
       "      <td>0</td>\n",
       "      <td>0</td>\n",
       "    </tr>\n",
       "    <tr>\n",
       "      <th>8</th>\n",
       "      <td>5600.0</td>\n",
       "      <td>60</td>\n",
       "      <td>21.28</td>\n",
       "      <td>152.39</td>\n",
       "      <td>4.0</td>\n",
       "      <td>40000.0</td>\n",
       "      <td>0</td>\n",
       "      <td>5.55</td>\n",
       "      <td>0.0</td>\n",
       "      <td>2.0</td>\n",
       "      <td>11.0</td>\n",
       "      <td>0.0</td>\n",
       "      <td>5210.0</td>\n",
       "      <td>32.6</td>\n",
       "      <td>13.0</td>\n",
       "      <td>0</td>\n",
       "      <td>1</td>\n",
       "      <td>0</td>\n",
       "      <td>1</td>\n",
       "      <td>0</td>\n",
       "      <td>0</td>\n",
       "      <td>0</td>\n",
       "      <td>0</td>\n",
       "      <td>0</td>\n",
       "      <td>0</td>\n",
       "      <td>0</td>\n",
       "      <td>0</td>\n",
       "      <td>0</td>\n",
       "      <td>0</td>\n",
       "      <td>0</td>\n",
       "      <td>1</td>\n",
       "      <td>0</td>\n",
       "      <td>0</td>\n",
       "    </tr>\n",
       "    <tr>\n",
       "      <th>9</th>\n",
       "      <td>5375.0</td>\n",
       "      <td>60</td>\n",
       "      <td>12.69</td>\n",
       "      <td>121.45</td>\n",
       "      <td>0.5</td>\n",
       "      <td>15000.0</td>\n",
       "      <td>0</td>\n",
       "      <td>18.08</td>\n",
       "      <td>0.0</td>\n",
       "      <td>0.0</td>\n",
       "      <td>2.0</td>\n",
       "      <td>0.0</td>\n",
       "      <td>9279.0</td>\n",
       "      <td>36.5</td>\n",
       "      <td>3.0</td>\n",
       "      <td>0</td>\n",
       "      <td>0</td>\n",
       "      <td>1</td>\n",
       "      <td>0</td>\n",
       "      <td>1</td>\n",
       "      <td>0</td>\n",
       "      <td>0</td>\n",
       "      <td>0</td>\n",
       "      <td>0</td>\n",
       "      <td>0</td>\n",
       "      <td>0</td>\n",
       "      <td>0</td>\n",
       "      <td>0</td>\n",
       "      <td>1</td>\n",
       "      <td>0</td>\n",
       "      <td>0</td>\n",
       "      <td>0</td>\n",
       "      <td>0</td>\n",
       "    </tr>\n",
       "  </tbody>\n",
       "</table>\n",
       "</div>"
      ],
      "text/plain": [
       "       loan_amnt  term  int_rate  installment  emp_length  annual_inc  \\\n",
       "34251    11500.0    36     13.92       392.58         6.0     65000.0   \n",
       "10577     3000.0    36      6.99        92.62         7.0     32000.0   \n",
       "6187     10000.0    36     12.42       334.16        10.0     34000.0   \n",
       "1         2500.0    60     15.27        59.83         0.5     30000.0   \n",
       "8         5600.0    60     21.28       152.39         4.0     40000.0   \n",
       "9         5375.0    60     12.69       121.45         0.5     15000.0   \n",
       "\n",
       "       loan_status    dti  delinq_2yrs  inq_last_6mths  open_acc  pub_rec  \\\n",
       "34251            1  14.88          0.0             1.0       5.0      0.0   \n",
       "10577            1  16.99          0.0             1.0      12.0      0.0   \n",
       "6187             1   9.04          1.0             3.0      11.0      0.0   \n",
       "1                0   1.00          0.0             5.0       3.0      0.0   \n",
       "8                0   5.55          0.0             2.0      11.0      0.0   \n",
       "9                0  18.08          0.0             0.0       2.0      0.0   \n",
       "\n",
       "       revol_bal  revol_util  total_acc  home_ownership_OTHER  \\\n",
       "34251    10104.0        80.8       19.0                     0   \n",
       "10577    10958.0        31.1       20.0                     0   \n",
       "6187      3377.0        42.2       29.0                     0   \n",
       "1         1687.0         9.4        4.0                     0   \n",
       "8         5210.0        32.6       13.0                     0   \n",
       "9         9279.0        36.5        3.0                     0   \n",
       "\n",
       "       home_ownership_OWN  home_ownership_RENT  \\\n",
       "34251                   0                    0   \n",
       "10577                   0                    1   \n",
       "6187                    0                    0   \n",
       "1                       0                    1   \n",
       "8                       1                    0   \n",
       "9                       0                    1   \n",
       "\n",
       "       verification_status_Source Verified  verification_status_Verified  \\\n",
       "34251                                    0                             0   \n",
       "10577                                    1                             0   \n",
       "6187                                     0                             1   \n",
       "1                                        1                             0   \n",
       "8                                        1                             0   \n",
       "9                                        0                             1   \n",
       "\n",
       "       purpose_credit_card  purpose_debt_consolidation  purpose_educational  \\\n",
       "34251                    1                           0                    0   \n",
       "10577                    1                           0                    0   \n",
       "6187                     0                           0                    0   \n",
       "1                        0                           0                    0   \n",
       "8                        0                           0                    0   \n",
       "9                        0                           0                    0   \n",
       "\n",
       "       purpose_home_improvement  purpose_house  purpose_major_purchase  \\\n",
       "34251                         0              0                       0   \n",
       "10577                         0              0                       0   \n",
       "6187                          0              0                       0   \n",
       "1                             0              0                       0   \n",
       "8                             0              0                       0   \n",
       "9                             0              0                       0   \n",
       "\n",
       "       purpose_medical  purpose_moving  purpose_other  \\\n",
       "34251                0               0              0   \n",
       "10577                0               0              0   \n",
       "6187                 0               0              1   \n",
       "1                    0               0              0   \n",
       "8                    0               0              0   \n",
       "9                    0               0              1   \n",
       "\n",
       "       purpose_renewable_energy  purpose_small_business  purpose_vacation  \\\n",
       "34251                         0                       0                 0   \n",
       "10577                         0                       0                 0   \n",
       "6187                          0                       0                 0   \n",
       "1                             0                       0                 0   \n",
       "8                             0                       1                 0   \n",
       "9                             0                       0                 0   \n",
       "\n",
       "       purpose_wedding  \n",
       "34251                0  \n",
       "10577                0  \n",
       "6187                 0  \n",
       "1                    0  \n",
       "8                    0  \n",
       "9                    0  "
      ]
     },
     "execution_count": 208,
     "metadata": {},
     "output_type": "execute_result"
    }
   ],
   "source": [
    "under_sampling_df.iloc[ 5386:5392, : ]"
   ]
  },
  {
   "cell_type": "code",
   "execution_count": 209,
   "metadata": {},
   "outputs": [
    {
     "data": {
      "text/html": [
       "<div>\n",
       "<style scoped>\n",
       "    .dataframe tbody tr th:only-of-type {\n",
       "        vertical-align: middle;\n",
       "    }\n",
       "\n",
       "    .dataframe tbody tr th {\n",
       "        vertical-align: top;\n",
       "    }\n",
       "\n",
       "    .dataframe thead th {\n",
       "        text-align: right;\n",
       "    }\n",
       "</style>\n",
       "<table border=\"1\" class=\"dataframe\">\n",
       "  <thead>\n",
       "    <tr style=\"text-align: right;\">\n",
       "      <th></th>\n",
       "      <th>loan_amnt</th>\n",
       "      <th>term</th>\n",
       "      <th>int_rate</th>\n",
       "      <th>installment</th>\n",
       "      <th>emp_length</th>\n",
       "      <th>annual_inc</th>\n",
       "      <th>loan_status</th>\n",
       "      <th>dti</th>\n",
       "      <th>delinq_2yrs</th>\n",
       "      <th>inq_last_6mths</th>\n",
       "      <th>open_acc</th>\n",
       "      <th>pub_rec</th>\n",
       "      <th>revol_bal</th>\n",
       "      <th>revol_util</th>\n",
       "      <th>total_acc</th>\n",
       "      <th>home_ownership_OTHER</th>\n",
       "      <th>home_ownership_OWN</th>\n",
       "      <th>home_ownership_RENT</th>\n",
       "      <th>verification_status_Source Verified</th>\n",
       "      <th>verification_status_Verified</th>\n",
       "      <th>purpose_credit_card</th>\n",
       "      <th>purpose_debt_consolidation</th>\n",
       "      <th>purpose_educational</th>\n",
       "      <th>purpose_home_improvement</th>\n",
       "      <th>purpose_house</th>\n",
       "      <th>purpose_major_purchase</th>\n",
       "      <th>purpose_medical</th>\n",
       "      <th>purpose_moving</th>\n",
       "      <th>purpose_other</th>\n",
       "      <th>purpose_renewable_energy</th>\n",
       "      <th>purpose_small_business</th>\n",
       "      <th>purpose_vacation</th>\n",
       "      <th>purpose_wedding</th>\n",
       "    </tr>\n",
       "  </thead>\n",
       "  <tbody>\n",
       "    <tr>\n",
       "      <th>12842</th>\n",
       "      <td>12000.0</td>\n",
       "      <td>36</td>\n",
       "      <td>10.99</td>\n",
       "      <td>392.81</td>\n",
       "      <td>6.0</td>\n",
       "      <td>72000.0</td>\n",
       "      <td>1</td>\n",
       "      <td>2.97</td>\n",
       "      <td>0.0</td>\n",
       "      <td>0.0</td>\n",
       "      <td>4.0</td>\n",
       "      <td>0.0</td>\n",
       "      <td>6375.0</td>\n",
       "      <td>35.4</td>\n",
       "      <td>9.0</td>\n",
       "      <td>0</td>\n",
       "      <td>0</td>\n",
       "      <td>1</td>\n",
       "      <td>1</td>\n",
       "      <td>0</td>\n",
       "      <td>0</td>\n",
       "      <td>0</td>\n",
       "      <td>0</td>\n",
       "      <td>0</td>\n",
       "      <td>0</td>\n",
       "      <td>0</td>\n",
       "      <td>0</td>\n",
       "      <td>0</td>\n",
       "      <td>1</td>\n",
       "      <td>0</td>\n",
       "      <td>0</td>\n",
       "      <td>0</td>\n",
       "      <td>0</td>\n",
       "    </tr>\n",
       "    <tr>\n",
       "      <th>14952</th>\n",
       "      <td>22000.0</td>\n",
       "      <td>60</td>\n",
       "      <td>13.49</td>\n",
       "      <td>506.11</td>\n",
       "      <td>5.0</td>\n",
       "      <td>150000.0</td>\n",
       "      <td>1</td>\n",
       "      <td>12.14</td>\n",
       "      <td>0.0</td>\n",
       "      <td>0.0</td>\n",
       "      <td>14.0</td>\n",
       "      <td>0.0</td>\n",
       "      <td>38064.0</td>\n",
       "      <td>59.0</td>\n",
       "      <td>36.0</td>\n",
       "      <td>0</td>\n",
       "      <td>0</td>\n",
       "      <td>1</td>\n",
       "      <td>1</td>\n",
       "      <td>0</td>\n",
       "      <td>0</td>\n",
       "      <td>1</td>\n",
       "      <td>0</td>\n",
       "      <td>0</td>\n",
       "      <td>0</td>\n",
       "      <td>0</td>\n",
       "      <td>0</td>\n",
       "      <td>0</td>\n",
       "      <td>0</td>\n",
       "      <td>0</td>\n",
       "      <td>0</td>\n",
       "      <td>0</td>\n",
       "      <td>0</td>\n",
       "    </tr>\n",
       "    <tr>\n",
       "      <th>9698</th>\n",
       "      <td>32500.0</td>\n",
       "      <td>36</td>\n",
       "      <td>9.99</td>\n",
       "      <td>911.42</td>\n",
       "      <td>6.0</td>\n",
       "      <td>65000.0</td>\n",
       "      <td>1</td>\n",
       "      <td>19.51</td>\n",
       "      <td>0.0</td>\n",
       "      <td>0.0</td>\n",
       "      <td>8.0</td>\n",
       "      <td>0.0</td>\n",
       "      <td>2524.0</td>\n",
       "      <td>18.7</td>\n",
       "      <td>28.0</td>\n",
       "      <td>0</td>\n",
       "      <td>0</td>\n",
       "      <td>1</td>\n",
       "      <td>0</td>\n",
       "      <td>1</td>\n",
       "      <td>0</td>\n",
       "      <td>1</td>\n",
       "      <td>0</td>\n",
       "      <td>0</td>\n",
       "      <td>0</td>\n",
       "      <td>0</td>\n",
       "      <td>0</td>\n",
       "      <td>0</td>\n",
       "      <td>0</td>\n",
       "      <td>0</td>\n",
       "      <td>0</td>\n",
       "      <td>0</td>\n",
       "      <td>0</td>\n",
       "    </tr>\n",
       "    <tr>\n",
       "      <th>28788</th>\n",
       "      <td>10000.0</td>\n",
       "      <td>36</td>\n",
       "      <td>13.61</td>\n",
       "      <td>339.89</td>\n",
       "      <td>10.0</td>\n",
       "      <td>91000.0</td>\n",
       "      <td>1</td>\n",
       "      <td>15.93</td>\n",
       "      <td>0.0</td>\n",
       "      <td>0.0</td>\n",
       "      <td>10.0</td>\n",
       "      <td>0.0</td>\n",
       "      <td>10116.0</td>\n",
       "      <td>88.6</td>\n",
       "      <td>28.0</td>\n",
       "      <td>0</td>\n",
       "      <td>0</td>\n",
       "      <td>0</td>\n",
       "      <td>0</td>\n",
       "      <td>0</td>\n",
       "      <td>0</td>\n",
       "      <td>1</td>\n",
       "      <td>0</td>\n",
       "      <td>0</td>\n",
       "      <td>0</td>\n",
       "      <td>0</td>\n",
       "      <td>0</td>\n",
       "      <td>0</td>\n",
       "      <td>0</td>\n",
       "      <td>0</td>\n",
       "      <td>0</td>\n",
       "      <td>0</td>\n",
       "      <td>0</td>\n",
       "    </tr>\n",
       "    <tr>\n",
       "      <th>23326</th>\n",
       "      <td>4500.0</td>\n",
       "      <td>60</td>\n",
       "      <td>12.61</td>\n",
       "      <td>101.50</td>\n",
       "      <td>7.0</td>\n",
       "      <td>40000.0</td>\n",
       "      <td>1</td>\n",
       "      <td>23.25</td>\n",
       "      <td>0.0</td>\n",
       "      <td>2.0</td>\n",
       "      <td>8.0</td>\n",
       "      <td>1.0</td>\n",
       "      <td>4109.0</td>\n",
       "      <td>32.9</td>\n",
       "      <td>22.0</td>\n",
       "      <td>0</td>\n",
       "      <td>0</td>\n",
       "      <td>1</td>\n",
       "      <td>1</td>\n",
       "      <td>0</td>\n",
       "      <td>0</td>\n",
       "      <td>1</td>\n",
       "      <td>0</td>\n",
       "      <td>0</td>\n",
       "      <td>0</td>\n",
       "      <td>0</td>\n",
       "      <td>0</td>\n",
       "      <td>0</td>\n",
       "      <td>0</td>\n",
       "      <td>0</td>\n",
       "      <td>0</td>\n",
       "      <td>0</td>\n",
       "      <td>0</td>\n",
       "    </tr>\n",
       "  </tbody>\n",
       "</table>\n",
       "</div>"
      ],
      "text/plain": [
       "       loan_amnt  term  int_rate  installment  emp_length  annual_inc  \\\n",
       "12842    12000.0    36     10.99       392.81         6.0     72000.0   \n",
       "14952    22000.0    60     13.49       506.11         5.0    150000.0   \n",
       "9698     32500.0    36      9.99       911.42         6.0     65000.0   \n",
       "28788    10000.0    36     13.61       339.89        10.0     91000.0   \n",
       "23326     4500.0    60     12.61       101.50         7.0     40000.0   \n",
       "\n",
       "       loan_status    dti  delinq_2yrs  inq_last_6mths  open_acc  pub_rec  \\\n",
       "12842            1   2.97          0.0             0.0       4.0      0.0   \n",
       "14952            1  12.14          0.0             0.0      14.0      0.0   \n",
       "9698             1  19.51          0.0             0.0       8.0      0.0   \n",
       "28788            1  15.93          0.0             0.0      10.0      0.0   \n",
       "23326            1  23.25          0.0             2.0       8.0      1.0   \n",
       "\n",
       "       revol_bal  revol_util  total_acc  home_ownership_OTHER  \\\n",
       "12842     6375.0        35.4        9.0                     0   \n",
       "14952    38064.0        59.0       36.0                     0   \n",
       "9698      2524.0        18.7       28.0                     0   \n",
       "28788    10116.0        88.6       28.0                     0   \n",
       "23326     4109.0        32.9       22.0                     0   \n",
       "\n",
       "       home_ownership_OWN  home_ownership_RENT  \\\n",
       "12842                   0                    1   \n",
       "14952                   0                    1   \n",
       "9698                    0                    1   \n",
       "28788                   0                    0   \n",
       "23326                   0                    1   \n",
       "\n",
       "       verification_status_Source Verified  verification_status_Verified  \\\n",
       "12842                                    1                             0   \n",
       "14952                                    1                             0   \n",
       "9698                                     0                             1   \n",
       "28788                                    0                             0   \n",
       "23326                                    1                             0   \n",
       "\n",
       "       purpose_credit_card  purpose_debt_consolidation  purpose_educational  \\\n",
       "12842                    0                           0                    0   \n",
       "14952                    0                           1                    0   \n",
       "9698                     0                           1                    0   \n",
       "28788                    0                           1                    0   \n",
       "23326                    0                           1                    0   \n",
       "\n",
       "       purpose_home_improvement  purpose_house  purpose_major_purchase  \\\n",
       "12842                         0              0                       0   \n",
       "14952                         0              0                       0   \n",
       "9698                          0              0                       0   \n",
       "28788                         0              0                       0   \n",
       "23326                         0              0                       0   \n",
       "\n",
       "       purpose_medical  purpose_moving  purpose_other  \\\n",
       "12842                0               0              1   \n",
       "14952                0               0              0   \n",
       "9698                 0               0              0   \n",
       "28788                0               0              0   \n",
       "23326                0               0              0   \n",
       "\n",
       "       purpose_renewable_energy  purpose_small_business  purpose_vacation  \\\n",
       "12842                         0                       0                 0   \n",
       "14952                         0                       0                 0   \n",
       "9698                          0                       0                 0   \n",
       "28788                         0                       0                 0   \n",
       "23326                         0                       0                 0   \n",
       "\n",
       "       purpose_wedding  \n",
       "12842                0  \n",
       "14952                0  \n",
       "9698                 0  \n",
       "28788                0  \n",
       "23326                0  "
      ]
     },
     "execution_count": 209,
     "metadata": {},
     "output_type": "execute_result"
    }
   ],
   "source": [
    "under_sampling_df.head()"
   ]
  },
  {
   "cell_type": "code",
   "execution_count": 210,
   "metadata": {},
   "outputs": [
    {
     "data": {
      "text/html": [
       "<div>\n",
       "<style scoped>\n",
       "    .dataframe tbody tr th:only-of-type {\n",
       "        vertical-align: middle;\n",
       "    }\n",
       "\n",
       "    .dataframe tbody tr th {\n",
       "        vertical-align: top;\n",
       "    }\n",
       "\n",
       "    .dataframe thead th {\n",
       "        text-align: right;\n",
       "    }\n",
       "</style>\n",
       "<table border=\"1\" class=\"dataframe\">\n",
       "  <thead>\n",
       "    <tr style=\"text-align: right;\">\n",
       "      <th></th>\n",
       "      <th>loan_amnt</th>\n",
       "      <th>term</th>\n",
       "      <th>int_rate</th>\n",
       "      <th>installment</th>\n",
       "      <th>emp_length</th>\n",
       "      <th>annual_inc</th>\n",
       "      <th>loan_status</th>\n",
       "      <th>dti</th>\n",
       "      <th>delinq_2yrs</th>\n",
       "      <th>inq_last_6mths</th>\n",
       "      <th>open_acc</th>\n",
       "      <th>pub_rec</th>\n",
       "      <th>revol_bal</th>\n",
       "      <th>revol_util</th>\n",
       "      <th>total_acc</th>\n",
       "      <th>home_ownership_OTHER</th>\n",
       "      <th>home_ownership_OWN</th>\n",
       "      <th>home_ownership_RENT</th>\n",
       "      <th>verification_status_Source Verified</th>\n",
       "      <th>verification_status_Verified</th>\n",
       "      <th>purpose_credit_card</th>\n",
       "      <th>purpose_debt_consolidation</th>\n",
       "      <th>purpose_educational</th>\n",
       "      <th>purpose_home_improvement</th>\n",
       "      <th>purpose_house</th>\n",
       "      <th>purpose_major_purchase</th>\n",
       "      <th>purpose_medical</th>\n",
       "      <th>purpose_moving</th>\n",
       "      <th>purpose_other</th>\n",
       "      <th>purpose_renewable_energy</th>\n",
       "      <th>purpose_small_business</th>\n",
       "      <th>purpose_vacation</th>\n",
       "      <th>purpose_wedding</th>\n",
       "    </tr>\n",
       "  </thead>\n",
       "  <tbody>\n",
       "    <tr>\n",
       "      <th>39735</th>\n",
       "      <td>15450.0</td>\n",
       "      <td>36</td>\n",
       "      <td>11.22</td>\n",
       "      <td>507.46</td>\n",
       "      <td>2.0</td>\n",
       "      <td>40000.0</td>\n",
       "      <td>0</td>\n",
       "      <td>13.50</td>\n",
       "      <td>0.0</td>\n",
       "      <td>3.0</td>\n",
       "      <td>13.0</td>\n",
       "      <td>1.0</td>\n",
       "      <td>6513.0</td>\n",
       "      <td>34.3</td>\n",
       "      <td>29.0</td>\n",
       "      <td>0</td>\n",
       "      <td>0</td>\n",
       "      <td>0</td>\n",
       "      <td>0</td>\n",
       "      <td>0</td>\n",
       "      <td>0</td>\n",
       "      <td>1</td>\n",
       "      <td>0</td>\n",
       "      <td>0</td>\n",
       "      <td>0</td>\n",
       "      <td>0</td>\n",
       "      <td>0</td>\n",
       "      <td>0</td>\n",
       "      <td>0</td>\n",
       "      <td>0</td>\n",
       "      <td>0</td>\n",
       "      <td>0</td>\n",
       "      <td>0</td>\n",
       "    </tr>\n",
       "    <tr>\n",
       "      <th>39736</th>\n",
       "      <td>2500.0</td>\n",
       "      <td>36</td>\n",
       "      <td>12.80</td>\n",
       "      <td>84.00</td>\n",
       "      <td>0.5</td>\n",
       "      <td>32000.0</td>\n",
       "      <td>0</td>\n",
       "      <td>20.00</td>\n",
       "      <td>0.0</td>\n",
       "      <td>1.0</td>\n",
       "      <td>11.0</td>\n",
       "      <td>0.0</td>\n",
       "      <td>3408.0</td>\n",
       "      <td>35.1</td>\n",
       "      <td>32.0</td>\n",
       "      <td>0</td>\n",
       "      <td>0</td>\n",
       "      <td>0</td>\n",
       "      <td>0</td>\n",
       "      <td>0</td>\n",
       "      <td>0</td>\n",
       "      <td>0</td>\n",
       "      <td>0</td>\n",
       "      <td>1</td>\n",
       "      <td>0</td>\n",
       "      <td>0</td>\n",
       "      <td>0</td>\n",
       "      <td>0</td>\n",
       "      <td>0</td>\n",
       "      <td>0</td>\n",
       "      <td>0</td>\n",
       "      <td>0</td>\n",
       "      <td>0</td>\n",
       "    </tr>\n",
       "    <tr>\n",
       "      <th>39737</th>\n",
       "      <td>2500.0</td>\n",
       "      <td>36</td>\n",
       "      <td>9.64</td>\n",
       "      <td>80.26</td>\n",
       "      <td>0.5</td>\n",
       "      <td>75000.0</td>\n",
       "      <td>0</td>\n",
       "      <td>20.00</td>\n",
       "      <td>0.0</td>\n",
       "      <td>3.0</td>\n",
       "      <td>9.0</td>\n",
       "      <td>0.0</td>\n",
       "      <td>269.0</td>\n",
       "      <td>3.8</td>\n",
       "      <td>35.0</td>\n",
       "      <td>0</td>\n",
       "      <td>0</td>\n",
       "      <td>0</td>\n",
       "      <td>0</td>\n",
       "      <td>0</td>\n",
       "      <td>0</td>\n",
       "      <td>0</td>\n",
       "      <td>0</td>\n",
       "      <td>1</td>\n",
       "      <td>0</td>\n",
       "      <td>0</td>\n",
       "      <td>0</td>\n",
       "      <td>0</td>\n",
       "      <td>0</td>\n",
       "      <td>0</td>\n",
       "      <td>0</td>\n",
       "      <td>0</td>\n",
       "      <td>0</td>\n",
       "    </tr>\n",
       "    <tr>\n",
       "      <th>39738</th>\n",
       "      <td>6500.0</td>\n",
       "      <td>36</td>\n",
       "      <td>15.01</td>\n",
       "      <td>225.37</td>\n",
       "      <td>9.0</td>\n",
       "      <td>213000.0</td>\n",
       "      <td>0</td>\n",
       "      <td>6.45</td>\n",
       "      <td>0.0</td>\n",
       "      <td>0.0</td>\n",
       "      <td>11.0</td>\n",
       "      <td>0.0</td>\n",
       "      <td>56411.0</td>\n",
       "      <td>75.3</td>\n",
       "      <td>28.0</td>\n",
       "      <td>0</td>\n",
       "      <td>0</td>\n",
       "      <td>0</td>\n",
       "      <td>0</td>\n",
       "      <td>0</td>\n",
       "      <td>0</td>\n",
       "      <td>0</td>\n",
       "      <td>0</td>\n",
       "      <td>0</td>\n",
       "      <td>0</td>\n",
       "      <td>0</td>\n",
       "      <td>0</td>\n",
       "      <td>0</td>\n",
       "      <td>0</td>\n",
       "      <td>0</td>\n",
       "      <td>1</td>\n",
       "      <td>0</td>\n",
       "      <td>0</td>\n",
       "    </tr>\n",
       "    <tr>\n",
       "      <th>39747</th>\n",
       "      <td>1000.0</td>\n",
       "      <td>36</td>\n",
       "      <td>10.59</td>\n",
       "      <td>32.55</td>\n",
       "      <td>2.0</td>\n",
       "      <td>33990.0</td>\n",
       "      <td>0</td>\n",
       "      <td>14.47</td>\n",
       "      <td>0.0</td>\n",
       "      <td>1.0</td>\n",
       "      <td>9.0</td>\n",
       "      <td>0.0</td>\n",
       "      <td>4485.0</td>\n",
       "      <td>36.9</td>\n",
       "      <td>11.0</td>\n",
       "      <td>0</td>\n",
       "      <td>0</td>\n",
       "      <td>0</td>\n",
       "      <td>0</td>\n",
       "      <td>0</td>\n",
       "      <td>0</td>\n",
       "      <td>0</td>\n",
       "      <td>0</td>\n",
       "      <td>0</td>\n",
       "      <td>0</td>\n",
       "      <td>0</td>\n",
       "      <td>0</td>\n",
       "      <td>0</td>\n",
       "      <td>0</td>\n",
       "      <td>0</td>\n",
       "      <td>0</td>\n",
       "      <td>0</td>\n",
       "      <td>1</td>\n",
       "    </tr>\n",
       "  </tbody>\n",
       "</table>\n",
       "</div>"
      ],
      "text/plain": [
       "       loan_amnt  term  int_rate  installment  emp_length  annual_inc  \\\n",
       "39735    15450.0    36     11.22       507.46         2.0     40000.0   \n",
       "39736     2500.0    36     12.80        84.00         0.5     32000.0   \n",
       "39737     2500.0    36      9.64        80.26         0.5     75000.0   \n",
       "39738     6500.0    36     15.01       225.37         9.0    213000.0   \n",
       "39747     1000.0    36     10.59        32.55         2.0     33990.0   \n",
       "\n",
       "       loan_status    dti  delinq_2yrs  inq_last_6mths  open_acc  pub_rec  \\\n",
       "39735            0  13.50          0.0             3.0      13.0      1.0   \n",
       "39736            0  20.00          0.0             1.0      11.0      0.0   \n",
       "39737            0  20.00          0.0             3.0       9.0      0.0   \n",
       "39738            0   6.45          0.0             0.0      11.0      0.0   \n",
       "39747            0  14.47          0.0             1.0       9.0      0.0   \n",
       "\n",
       "       revol_bal  revol_util  total_acc  home_ownership_OTHER  \\\n",
       "39735     6513.0        34.3       29.0                     0   \n",
       "39736     3408.0        35.1       32.0                     0   \n",
       "39737      269.0         3.8       35.0                     0   \n",
       "39738    56411.0        75.3       28.0                     0   \n",
       "39747     4485.0        36.9       11.0                     0   \n",
       "\n",
       "       home_ownership_OWN  home_ownership_RENT  \\\n",
       "39735                   0                    0   \n",
       "39736                   0                    0   \n",
       "39737                   0                    0   \n",
       "39738                   0                    0   \n",
       "39747                   0                    0   \n",
       "\n",
       "       verification_status_Source Verified  verification_status_Verified  \\\n",
       "39735                                    0                             0   \n",
       "39736                                    0                             0   \n",
       "39737                                    0                             0   \n",
       "39738                                    0                             0   \n",
       "39747                                    0                             0   \n",
       "\n",
       "       purpose_credit_card  purpose_debt_consolidation  purpose_educational  \\\n",
       "39735                    0                           1                    0   \n",
       "39736                    0                           0                    0   \n",
       "39737                    0                           0                    0   \n",
       "39738                    0                           0                    0   \n",
       "39747                    0                           0                    0   \n",
       "\n",
       "       purpose_home_improvement  purpose_house  purpose_major_purchase  \\\n",
       "39735                         0              0                       0   \n",
       "39736                         1              0                       0   \n",
       "39737                         1              0                       0   \n",
       "39738                         0              0                       0   \n",
       "39747                         0              0                       0   \n",
       "\n",
       "       purpose_medical  purpose_moving  purpose_other  \\\n",
       "39735                0               0              0   \n",
       "39736                0               0              0   \n",
       "39737                0               0              0   \n",
       "39738                0               0              0   \n",
       "39747                0               0              0   \n",
       "\n",
       "       purpose_renewable_energy  purpose_small_business  purpose_vacation  \\\n",
       "39735                         0                       0                 0   \n",
       "39736                         0                       0                 0   \n",
       "39737                         0                       0                 0   \n",
       "39738                         0                       1                 0   \n",
       "39747                         0                       0                 0   \n",
       "\n",
       "       purpose_wedding  \n",
       "39735                0  \n",
       "39736                0  \n",
       "39737                0  \n",
       "39738                0  \n",
       "39747                1  "
      ]
     },
     "execution_count": 210,
     "metadata": {},
     "output_type": "execute_result"
    }
   ],
   "source": [
    "under_sampling_df.tail()"
   ]
  },
  {
   "cell_type": "markdown",
   "metadata": {},
   "source": [
    "### Logistic Regression"
   ]
  },
  {
   "cell_type": "code",
   "execution_count": 211,
   "metadata": {},
   "outputs": [
    {
     "name": "stdout",
     "output_type": "stream",
     "text": [
      "32\n"
     ]
    }
   ],
   "source": [
    "cols = under_sampling_df.columns\n",
    "\n",
    "train_cols = cols.drop(\"loan_status\")\n",
    "\n",
    "print( len(train_cols) )\n"
   ]
  },
  {
   "cell_type": "code",
   "execution_count": 212,
   "metadata": {},
   "outputs": [],
   "source": [
    "features = under_sampling_df[train_cols]\n",
    "\n",
    "target = under_sampling_df[\"loan_status\"]\n"
   ]
  },
  {
   "cell_type": "code",
   "execution_count": 213,
   "metadata": {},
   "outputs": [
    {
     "data": {
      "text/plain": [
       "(10778,)"
      ]
     },
     "execution_count": 213,
     "metadata": {},
     "output_type": "execute_result"
    }
   ],
   "source": [
    "lr = LogisticRegression( solver='liblinear' )\n",
    "\n",
    "\n",
    "predictions = cross_val_predict( lr, features, target, cv=10 )\n",
    "\n",
    "\n",
    "predictions = pd.Series( predictions, index=under_sampling_df.index )\n",
    "\n",
    "predictions.shape\n"
   ]
  },
  {
   "cell_type": "code",
   "execution_count": 214,
   "metadata": {
    "scrolled": true
   },
   "outputs": [
    {
     "name": "stdout",
     "output_type": "stream",
     "text": [
      "> False Positives: 1897 \n",
      "\n",
      "> True Positives: 3145 \n",
      "\n",
      "> False Negatives: 2244 \n",
      "\n",
      "> True Negatives: 3492 \n",
      "\n"
     ]
    }
   ],
   "source": [
    "tp, tn, fp, fn = compute_confusion_matrix( under_sampling_df, predictions, \"loan_status\" )"
   ]
  },
  {
   "cell_type": "code",
   "execution_count": 215,
   "metadata": {
    "scrolled": false
   },
   "outputs": [
    {
     "name": "stdout",
     "output_type": "stream",
     "text": [
      "True Positive Rate: 0.583596214511041 \n",
      "\n",
      "False Positive Rate: 0.352013360549267 \n",
      "\n",
      "Precision: 0.6237604125347085 \n",
      "\n"
     ]
    }
   ],
   "source": [
    "compute_tpr( tp, fn )\n",
    "\n",
    "compute_fpr( fp, tn )\n",
    "\n",
    "compute_precision( tp, fp )\n"
   ]
  },
  {
   "cell_type": "markdown",
   "metadata": {},
   "source": [
    "### Important Note (conclusion):\n",
    "The logistic regression model that did __not__ implement _under-sampling_ (i.e. the one that was trained with a dataset of 37,646 observations) performs better than the above one (under-sampling, dataset with 10,778 observations).\n",
    "\n",
    "- TPR (Recall): 63.20%\n",
    "- FPR (Fall-out): 35.16%\n",
    "- Precision: 91.50%"
   ]
  },
  {
   "cell_type": "markdown",
   "metadata": {},
   "source": [
    "### solver = 'lbfgs'"
   ]
  },
  {
   "cell_type": "code",
   "execution_count": 216,
   "metadata": {
    "scrolled": true
   },
   "outputs": [
    {
     "name": "stderr",
     "output_type": "stream",
     "text": [
      "C:\\Users\\helen\\Anaconda3\\lib\\site-packages\\sklearn\\linear_model\\_logistic.py:765: ConvergenceWarning: lbfgs failed to converge (status=1):\n",
      "STOP: TOTAL NO. of ITERATIONS REACHED LIMIT.\n",
      "\n",
      "Increase the number of iterations (max_iter) or scale the data as shown in:\n",
      "    https://scikit-learn.org/stable/modules/preprocessing.html\n",
      "Please also refer to the documentation for alternative solver options:\n",
      "    https://scikit-learn.org/stable/modules/linear_model.html#logistic-regression\n",
      "  extra_warning_msg=_LOGISTIC_SOLVER_CONVERGENCE_MSG)\n",
      "C:\\Users\\helen\\Anaconda3\\lib\\site-packages\\sklearn\\linear_model\\_logistic.py:765: ConvergenceWarning: lbfgs failed to converge (status=1):\n",
      "STOP: TOTAL NO. of ITERATIONS REACHED LIMIT.\n",
      "\n",
      "Increase the number of iterations (max_iter) or scale the data as shown in:\n",
      "    https://scikit-learn.org/stable/modules/preprocessing.html\n",
      "Please also refer to the documentation for alternative solver options:\n",
      "    https://scikit-learn.org/stable/modules/linear_model.html#logistic-regression\n",
      "  extra_warning_msg=_LOGISTIC_SOLVER_CONVERGENCE_MSG)\n",
      "C:\\Users\\helen\\Anaconda3\\lib\\site-packages\\sklearn\\linear_model\\_logistic.py:765: ConvergenceWarning: lbfgs failed to converge (status=1):\n",
      "STOP: TOTAL NO. of ITERATIONS REACHED LIMIT.\n",
      "\n",
      "Increase the number of iterations (max_iter) or scale the data as shown in:\n",
      "    https://scikit-learn.org/stable/modules/preprocessing.html\n",
      "Please also refer to the documentation for alternative solver options:\n",
      "    https://scikit-learn.org/stable/modules/linear_model.html#logistic-regression\n",
      "  extra_warning_msg=_LOGISTIC_SOLVER_CONVERGENCE_MSG)\n",
      "C:\\Users\\helen\\Anaconda3\\lib\\site-packages\\sklearn\\linear_model\\_logistic.py:765: ConvergenceWarning: lbfgs failed to converge (status=1):\n",
      "STOP: TOTAL NO. of ITERATIONS REACHED LIMIT.\n",
      "\n",
      "Increase the number of iterations (max_iter) or scale the data as shown in:\n",
      "    https://scikit-learn.org/stable/modules/preprocessing.html\n",
      "Please also refer to the documentation for alternative solver options:\n",
      "    https://scikit-learn.org/stable/modules/linear_model.html#logistic-regression\n",
      "  extra_warning_msg=_LOGISTIC_SOLVER_CONVERGENCE_MSG)\n",
      "C:\\Users\\helen\\Anaconda3\\lib\\site-packages\\sklearn\\linear_model\\_logistic.py:765: ConvergenceWarning: lbfgs failed to converge (status=1):\n",
      "STOP: TOTAL NO. of ITERATIONS REACHED LIMIT.\n",
      "\n",
      "Increase the number of iterations (max_iter) or scale the data as shown in:\n",
      "    https://scikit-learn.org/stable/modules/preprocessing.html\n",
      "Please also refer to the documentation for alternative solver options:\n",
      "    https://scikit-learn.org/stable/modules/linear_model.html#logistic-regression\n",
      "  extra_warning_msg=_LOGISTIC_SOLVER_CONVERGENCE_MSG)\n",
      "C:\\Users\\helen\\Anaconda3\\lib\\site-packages\\sklearn\\linear_model\\_logistic.py:765: ConvergenceWarning: lbfgs failed to converge (status=1):\n",
      "STOP: TOTAL NO. of ITERATIONS REACHED LIMIT.\n",
      "\n",
      "Increase the number of iterations (max_iter) or scale the data as shown in:\n",
      "    https://scikit-learn.org/stable/modules/preprocessing.html\n",
      "Please also refer to the documentation for alternative solver options:\n",
      "    https://scikit-learn.org/stable/modules/linear_model.html#logistic-regression\n",
      "  extra_warning_msg=_LOGISTIC_SOLVER_CONVERGENCE_MSG)\n"
     ]
    },
    {
     "data": {
      "text/plain": [
       "(10778,)"
      ]
     },
     "execution_count": 216,
     "metadata": {},
     "output_type": "execute_result"
    }
   ],
   "source": [
    "lr = LogisticRegression( solver='lbfgs' )\n",
    "\n",
    "\n",
    "predictions = cross_val_predict( lr, features, target, cv=10 )\n",
    "\n",
    "\n",
    "predictions = pd.Series( predictions, index=under_sampling_df.index )\n",
    "\n",
    "predictions.shape\n"
   ]
  },
  {
   "cell_type": "code",
   "execution_count": 217,
   "metadata": {},
   "outputs": [
    {
     "name": "stdout",
     "output_type": "stream",
     "text": [
      "> False Positives: 1930 \n",
      "\n",
      "> True Positives: 2869 \n",
      "\n",
      "> False Negatives: 2520 \n",
      "\n",
      "> True Negatives: 3459 \n",
      "\n"
     ]
    }
   ],
   "source": [
    "tp, tn, fp, fn = compute_confusion_matrix( under_sampling_df, predictions, \"loan_status\" )"
   ]
  },
  {
   "cell_type": "code",
   "execution_count": 218,
   "metadata": {},
   "outputs": [
    {
     "name": "stdout",
     "output_type": "stream",
     "text": [
      "True Positive Rate: 0.5323807756541102 \n",
      "\n",
      "False Positive Rate: 0.358136945629987 \n",
      "\n",
      "Precision: 0.5978328818503855 \n",
      "\n"
     ]
    }
   ],
   "source": [
    "compute_tpr( tp, fn )\n",
    "\n",
    "compute_fpr( fp, tn )\n",
    "\n",
    "compute_precision( tp, fp )\n"
   ]
  },
  {
   "cell_type": "markdown",
   "metadata": {},
   "source": [
    "Here, again, the `liblinear` solver (algorithm to use in the optimization problem) performs/responds better than the `lbfgs`."
   ]
  },
  {
   "cell_type": "code",
   "execution_count": null,
   "metadata": {},
   "outputs": [],
   "source": []
  },
  {
   "cell_type": "code",
   "execution_count": null,
   "metadata": {},
   "outputs": [],
   "source": []
  },
  {
   "cell_type": "code",
   "execution_count": null,
   "metadata": {},
   "outputs": [],
   "source": []
  },
  {
   "cell_type": "code",
   "execution_count": null,
   "metadata": {},
   "outputs": [],
   "source": []
  },
  {
   "cell_type": "code",
   "execution_count": null,
   "metadata": {},
   "outputs": [],
   "source": []
  },
  {
   "cell_type": "code",
   "execution_count": null,
   "metadata": {},
   "outputs": [],
   "source": []
  },
  {
   "cell_type": "code",
   "execution_count": null,
   "metadata": {},
   "outputs": [],
   "source": []
  }
 ],
 "metadata": {
  "kernelspec": {
   "display_name": "Python 3",
   "language": "python",
   "name": "python3"
  },
  "language_info": {
   "codemirror_mode": {
    "name": "ipython",
    "version": 3
   },
   "file_extension": ".py",
   "mimetype": "text/x-python",
   "name": "python",
   "nbconvert_exporter": "python",
   "pygments_lexer": "ipython3",
   "version": "3.7.4"
  }
 },
 "nbformat": 4,
 "nbformat_minor": 2
}

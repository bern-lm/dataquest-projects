{
 "cells": [
  {
   "cell_type": "markdown",
   "metadata": {},
   "source": [
    "# Project - Finding the Best Markets to Advertise In"
   ]
  },
  {
   "cell_type": "markdown",
   "metadata": {},
   "source": [
    "Let's assume that we're working for an an e-learning company that offers courses on programming. Most of our courses are on web and mobile development, but we also cover many other domains, like data science, game development, etc. We want to promote our product and we would like to invest some money in advertisement (ads). \n",
    "\n",
    "* Our __goal__ in this project is to find out the best markets to advertise our product in"
   ]
  },
  {
   "cell_type": "markdown",
   "metadata": {},
   "source": [
    "To reach our goal, we could organize surveys for a couple of different markets to find out which would the best choices for advertising. This is very costly, however, and it's a good idea to explore cheaper options first.\n",
    "\n",
    "One good candidate is the data from [freeCodeCamp's 2017 New Coder Survey](https://www.freecodecamp.org/news/we-asked-20-000-people-who-they-are-and-how-theyre-learning-to-code-fff5d668969/). [freeCodeCamp](https://www.freecodecamp.org/) is a free e-learning platform that offers courses on web development. Because they run a [popular Medium publication](https://medium.freecodecamp.org/) (over 400,000 followers), their survey attracted new coders with varying interests (not only web development), which is ideal for the purpose of our analysis.\n",
    "\n",
    "The survey data is publicly available in this [GitHub repository](https://github.com/freeCodeCamp/2017-new-coder-survey). Let's explore the clean dataset (located in the [clean-data](https://github.com/freeCodeCamp/2017-new-coder-survey/tree/master/clean-data) folder):"
   ]
  },
  {
   "cell_type": "code",
   "execution_count": 1,
   "metadata": {},
   "outputs": [
    {
     "name": "stdout",
     "output_type": "stream",
     "text": [
      "<class 'pandas.core.frame.DataFrame'>\n",
      "RangeIndex: 18175 entries, 0 to 18174\n",
      "Columns: 136 entries, Age to YouTubeTheNewBoston\n",
      "dtypes: float64(105), object(31)\n",
      "memory usage: 18.9+ MB\n"
     ]
    }
   ],
   "source": [
    "import pandas as pd\n",
    "\n",
    "file_location = \"https://raw.githubusercontent.com/freeCodeCamp/2017-new-coder-survey/master/clean-data/2017-fCC-New-Coders-Survey-Data.csv\"\n",
    "\n",
    "survey = pd.read_csv(file_location, low_memory=False)\n",
    "\n",
    "survey.info()\n"
   ]
  },
  {
   "cell_type": "code",
   "execution_count": 2,
   "metadata": {
    "scrolled": true
   },
   "outputs": [
    {
     "data": {
      "text/html": [
       "<div>\n",
       "<style scoped>\n",
       "    .dataframe tbody tr th:only-of-type {\n",
       "        vertical-align: middle;\n",
       "    }\n",
       "\n",
       "    .dataframe tbody tr th {\n",
       "        vertical-align: top;\n",
       "    }\n",
       "\n",
       "    .dataframe thead th {\n",
       "        text-align: right;\n",
       "    }\n",
       "</style>\n",
       "<table border=\"1\" class=\"dataframe\">\n",
       "  <thead>\n",
       "    <tr style=\"text-align: right;\">\n",
       "      <th></th>\n",
       "      <th>Age</th>\n",
       "      <th>AttendedBootcamp</th>\n",
       "      <th>BootcampFinish</th>\n",
       "      <th>BootcampLoanYesNo</th>\n",
       "      <th>BootcampName</th>\n",
       "      <th>BootcampRecommend</th>\n",
       "      <th>ChildrenNumber</th>\n",
       "      <th>CityPopulation</th>\n",
       "      <th>CodeEventConferences</th>\n",
       "      <th>CodeEventDjangoGirls</th>\n",
       "      <th>...</th>\n",
       "      <th>YouTubeFCC</th>\n",
       "      <th>YouTubeFunFunFunction</th>\n",
       "      <th>YouTubeGoogleDev</th>\n",
       "      <th>YouTubeLearnCode</th>\n",
       "      <th>YouTubeLevelUpTuts</th>\n",
       "      <th>YouTubeMIT</th>\n",
       "      <th>YouTubeMozillaHacks</th>\n",
       "      <th>YouTubeOther</th>\n",
       "      <th>YouTubeSimplilearn</th>\n",
       "      <th>YouTubeTheNewBoston</th>\n",
       "    </tr>\n",
       "  </thead>\n",
       "  <tbody>\n",
       "    <tr>\n",
       "      <th>0</th>\n",
       "      <td>27.0</td>\n",
       "      <td>0.0</td>\n",
       "      <td>NaN</td>\n",
       "      <td>NaN</td>\n",
       "      <td>NaN</td>\n",
       "      <td>NaN</td>\n",
       "      <td>NaN</td>\n",
       "      <td>more than 1 million</td>\n",
       "      <td>NaN</td>\n",
       "      <td>NaN</td>\n",
       "      <td>...</td>\n",
       "      <td>NaN</td>\n",
       "      <td>NaN</td>\n",
       "      <td>NaN</td>\n",
       "      <td>NaN</td>\n",
       "      <td>NaN</td>\n",
       "      <td>NaN</td>\n",
       "      <td>NaN</td>\n",
       "      <td>NaN</td>\n",
       "      <td>NaN</td>\n",
       "      <td>NaN</td>\n",
       "    </tr>\n",
       "    <tr>\n",
       "      <th>1</th>\n",
       "      <td>34.0</td>\n",
       "      <td>0.0</td>\n",
       "      <td>NaN</td>\n",
       "      <td>NaN</td>\n",
       "      <td>NaN</td>\n",
       "      <td>NaN</td>\n",
       "      <td>NaN</td>\n",
       "      <td>less than 100,000</td>\n",
       "      <td>NaN</td>\n",
       "      <td>NaN</td>\n",
       "      <td>...</td>\n",
       "      <td>1.0</td>\n",
       "      <td>NaN</td>\n",
       "      <td>NaN</td>\n",
       "      <td>NaN</td>\n",
       "      <td>NaN</td>\n",
       "      <td>NaN</td>\n",
       "      <td>NaN</td>\n",
       "      <td>NaN</td>\n",
       "      <td>NaN</td>\n",
       "      <td>NaN</td>\n",
       "    </tr>\n",
       "    <tr>\n",
       "      <th>2</th>\n",
       "      <td>21.0</td>\n",
       "      <td>0.0</td>\n",
       "      <td>NaN</td>\n",
       "      <td>NaN</td>\n",
       "      <td>NaN</td>\n",
       "      <td>NaN</td>\n",
       "      <td>NaN</td>\n",
       "      <td>more than 1 million</td>\n",
       "      <td>NaN</td>\n",
       "      <td>NaN</td>\n",
       "      <td>...</td>\n",
       "      <td>NaN</td>\n",
       "      <td>NaN</td>\n",
       "      <td>NaN</td>\n",
       "      <td>1.0</td>\n",
       "      <td>1.0</td>\n",
       "      <td>NaN</td>\n",
       "      <td>NaN</td>\n",
       "      <td>NaN</td>\n",
       "      <td>NaN</td>\n",
       "      <td>NaN</td>\n",
       "    </tr>\n",
       "    <tr>\n",
       "      <th>3</th>\n",
       "      <td>26.0</td>\n",
       "      <td>0.0</td>\n",
       "      <td>NaN</td>\n",
       "      <td>NaN</td>\n",
       "      <td>NaN</td>\n",
       "      <td>NaN</td>\n",
       "      <td>NaN</td>\n",
       "      <td>between 100,000 and 1 million</td>\n",
       "      <td>NaN</td>\n",
       "      <td>NaN</td>\n",
       "      <td>...</td>\n",
       "      <td>1.0</td>\n",
       "      <td>1.0</td>\n",
       "      <td>NaN</td>\n",
       "      <td>NaN</td>\n",
       "      <td>1.0</td>\n",
       "      <td>NaN</td>\n",
       "      <td>NaN</td>\n",
       "      <td>NaN</td>\n",
       "      <td>NaN</td>\n",
       "      <td>NaN</td>\n",
       "    </tr>\n",
       "    <tr>\n",
       "      <th>4</th>\n",
       "      <td>20.0</td>\n",
       "      <td>0.0</td>\n",
       "      <td>NaN</td>\n",
       "      <td>NaN</td>\n",
       "      <td>NaN</td>\n",
       "      <td>NaN</td>\n",
       "      <td>NaN</td>\n",
       "      <td>between 100,000 and 1 million</td>\n",
       "      <td>NaN</td>\n",
       "      <td>NaN</td>\n",
       "      <td>...</td>\n",
       "      <td>NaN</td>\n",
       "      <td>NaN</td>\n",
       "      <td>NaN</td>\n",
       "      <td>NaN</td>\n",
       "      <td>NaN</td>\n",
       "      <td>NaN</td>\n",
       "      <td>NaN</td>\n",
       "      <td>NaN</td>\n",
       "      <td>NaN</td>\n",
       "      <td>NaN</td>\n",
       "    </tr>\n",
       "  </tbody>\n",
       "</table>\n",
       "<p>5 rows × 136 columns</p>\n",
       "</div>"
      ],
      "text/plain": [
       "    Age  AttendedBootcamp  BootcampFinish  BootcampLoanYesNo BootcampName  \\\n",
       "0  27.0               0.0             NaN                NaN          NaN   \n",
       "1  34.0               0.0             NaN                NaN          NaN   \n",
       "2  21.0               0.0             NaN                NaN          NaN   \n",
       "3  26.0               0.0             NaN                NaN          NaN   \n",
       "4  20.0               0.0             NaN                NaN          NaN   \n",
       "\n",
       "   BootcampRecommend  ChildrenNumber                 CityPopulation  \\\n",
       "0                NaN             NaN            more than 1 million   \n",
       "1                NaN             NaN              less than 100,000   \n",
       "2                NaN             NaN            more than 1 million   \n",
       "3                NaN             NaN  between 100,000 and 1 million   \n",
       "4                NaN             NaN  between 100,000 and 1 million   \n",
       "\n",
       "   CodeEventConferences  CodeEventDjangoGirls  ...  YouTubeFCC  \\\n",
       "0                   NaN                   NaN  ...         NaN   \n",
       "1                   NaN                   NaN  ...         1.0   \n",
       "2                   NaN                   NaN  ...         NaN   \n",
       "3                   NaN                   NaN  ...         1.0   \n",
       "4                   NaN                   NaN  ...         NaN   \n",
       "\n",
       "   YouTubeFunFunFunction  YouTubeGoogleDev  YouTubeLearnCode  \\\n",
       "0                    NaN               NaN               NaN   \n",
       "1                    NaN               NaN               NaN   \n",
       "2                    NaN               NaN               1.0   \n",
       "3                    1.0               NaN               NaN   \n",
       "4                    NaN               NaN               NaN   \n",
       "\n",
       "   YouTubeLevelUpTuts  YouTubeMIT  YouTubeMozillaHacks YouTubeOther  \\\n",
       "0                 NaN         NaN                  NaN          NaN   \n",
       "1                 NaN         NaN                  NaN          NaN   \n",
       "2                 1.0         NaN                  NaN          NaN   \n",
       "3                 1.0         NaN                  NaN          NaN   \n",
       "4                 NaN         NaN                  NaN          NaN   \n",
       "\n",
       "   YouTubeSimplilearn  YouTubeTheNewBoston  \n",
       "0                 NaN                  NaN  \n",
       "1                 NaN                  NaN  \n",
       "2                 NaN                  NaN  \n",
       "3                 NaN                  NaN  \n",
       "4                 NaN                  NaN  \n",
       "\n",
       "[5 rows x 136 columns]"
      ]
     },
     "execution_count": 2,
     "metadata": {},
     "output_type": "execute_result"
    }
   ],
   "source": [
    "survey.head()"
   ]
  },
  {
   "cell_type": "code",
   "execution_count": 3,
   "metadata": {},
   "outputs": [
    {
     "data": {
      "text/html": [
       "<div>\n",
       "<style scoped>\n",
       "    .dataframe tbody tr th:only-of-type {\n",
       "        vertical-align: middle;\n",
       "    }\n",
       "\n",
       "    .dataframe tbody tr th {\n",
       "        vertical-align: top;\n",
       "    }\n",
       "\n",
       "    .dataframe thead th {\n",
       "        text-align: right;\n",
       "    }\n",
       "</style>\n",
       "<table border=\"1\" class=\"dataframe\">\n",
       "  <thead>\n",
       "    <tr style=\"text-align: right;\">\n",
       "      <th></th>\n",
       "      <th>Age</th>\n",
       "      <th>AttendedBootcamp</th>\n",
       "      <th>BootcampFinish</th>\n",
       "      <th>BootcampLoanYesNo</th>\n",
       "      <th>BootcampName</th>\n",
       "      <th>BootcampRecommend</th>\n",
       "      <th>ChildrenNumber</th>\n",
       "      <th>CityPopulation</th>\n",
       "      <th>CodeEventConferences</th>\n",
       "      <th>CodeEventDjangoGirls</th>\n",
       "      <th>CodeEventFCC</th>\n",
       "      <th>CodeEventGameJam</th>\n",
       "      <th>CodeEventGirlDev</th>\n",
       "      <th>CodeEventHackathons</th>\n",
       "      <th>CodeEventMeetup</th>\n",
       "      <th>CodeEventNodeSchool</th>\n",
       "      <th>CodeEventNone</th>\n",
       "      <th>CodeEventOther</th>\n",
       "      <th>CodeEventRailsBridge</th>\n",
       "      <th>CodeEventRailsGirls</th>\n",
       "      <th>CodeEventStartUpWknd</th>\n",
       "      <th>CodeEventWkdBootcamps</th>\n",
       "      <th>CodeEventWomenCode</th>\n",
       "      <th>CodeEventWorkshops</th>\n",
       "      <th>CommuteTime</th>\n",
       "      <th>CountryCitizen</th>\n",
       "      <th>CountryLive</th>\n",
       "      <th>EmploymentField</th>\n",
       "      <th>EmploymentFieldOther</th>\n",
       "      <th>EmploymentStatus</th>\n",
       "      <th>EmploymentStatusOther</th>\n",
       "      <th>ExpectedEarning</th>\n",
       "      <th>FinanciallySupporting</th>\n",
       "      <th>FirstDevJob</th>\n",
       "      <th>Gender</th>\n",
       "      <th>GenderOther</th>\n",
       "      <th>HasChildren</th>\n",
       "      <th>HasDebt</th>\n",
       "      <th>HasFinancialDependents</th>\n",
       "      <th>HasHighSpdInternet</th>\n",
       "      <th>HasHomeMortgage</th>\n",
       "      <th>HasServedInMilitary</th>\n",
       "      <th>HasStudentDebt</th>\n",
       "      <th>HomeMortgageOwe</th>\n",
       "      <th>HoursLearning</th>\n",
       "      <th>ID.x</th>\n",
       "      <th>ID.y</th>\n",
       "      <th>Income</th>\n",
       "      <th>IsEthnicMinority</th>\n",
       "      <th>IsReceiveDisabilitiesBenefits</th>\n",
       "      <th>IsSoftwareDev</th>\n",
       "      <th>IsUnderEmployed</th>\n",
       "      <th>JobApplyWhen</th>\n",
       "      <th>JobInterestBackEnd</th>\n",
       "      <th>JobInterestDataEngr</th>\n",
       "      <th>JobInterestDataSci</th>\n",
       "      <th>JobInterestDevOps</th>\n",
       "      <th>JobInterestFrontEnd</th>\n",
       "      <th>JobInterestFullStack</th>\n",
       "      <th>JobInterestGameDev</th>\n",
       "      <th>JobInterestInfoSec</th>\n",
       "      <th>JobInterestMobile</th>\n",
       "      <th>JobInterestOther</th>\n",
       "      <th>JobInterestProjMngr</th>\n",
       "      <th>JobInterestQAEngr</th>\n",
       "      <th>JobInterestUX</th>\n",
       "      <th>JobPref</th>\n",
       "      <th>JobRelocateYesNo</th>\n",
       "      <th>JobRoleInterest</th>\n",
       "      <th>JobWherePref</th>\n",
       "      <th>LanguageAtHome</th>\n",
       "      <th>MaritalStatus</th>\n",
       "      <th>MoneyForLearning</th>\n",
       "      <th>MonthsProgramming</th>\n",
       "      <th>NetworkID</th>\n",
       "      <th>Part1EndTime</th>\n",
       "      <th>Part1StartTime</th>\n",
       "      <th>Part2EndTime</th>\n",
       "      <th>Part2StartTime</th>\n",
       "      <th>PodcastChangeLog</th>\n",
       "      <th>PodcastCodeNewbie</th>\n",
       "      <th>PodcastCodePen</th>\n",
       "      <th>PodcastDevTea</th>\n",
       "      <th>PodcastDotNET</th>\n",
       "      <th>PodcastGiantRobots</th>\n",
       "      <th>PodcastJSAir</th>\n",
       "      <th>PodcastJSJabber</th>\n",
       "      <th>PodcastNone</th>\n",
       "      <th>PodcastOther</th>\n",
       "      <th>PodcastProgThrowdown</th>\n",
       "      <th>PodcastRubyRogues</th>\n",
       "      <th>PodcastSEDaily</th>\n",
       "      <th>PodcastSERadio</th>\n",
       "      <th>PodcastShopTalk</th>\n",
       "      <th>PodcastTalkPython</th>\n",
       "      <th>PodcastTheWebAhead</th>\n",
       "      <th>ResourceCodecademy</th>\n",
       "      <th>ResourceCodeWars</th>\n",
       "      <th>ResourceCoursera</th>\n",
       "      <th>ResourceCSS</th>\n",
       "      <th>ResourceEdX</th>\n",
       "      <th>ResourceEgghead</th>\n",
       "      <th>ResourceFCC</th>\n",
       "      <th>ResourceHackerRank</th>\n",
       "      <th>ResourceKA</th>\n",
       "      <th>ResourceLynda</th>\n",
       "      <th>ResourceMDN</th>\n",
       "      <th>ResourceOdinProj</th>\n",
       "      <th>ResourceOther</th>\n",
       "      <th>ResourcePluralSight</th>\n",
       "      <th>ResourceSkillcrush</th>\n",
       "      <th>ResourceSO</th>\n",
       "      <th>ResourceTreehouse</th>\n",
       "      <th>ResourceUdacity</th>\n",
       "      <th>ResourceUdemy</th>\n",
       "      <th>ResourceW3S</th>\n",
       "      <th>SchoolDegree</th>\n",
       "      <th>SchoolMajor</th>\n",
       "      <th>StudentDebtOwe</th>\n",
       "      <th>YouTubeCodeCourse</th>\n",
       "      <th>YouTubeCodingTrain</th>\n",
       "      <th>YouTubeCodingTut360</th>\n",
       "      <th>YouTubeComputerphile</th>\n",
       "      <th>YouTubeDerekBanas</th>\n",
       "      <th>YouTubeDevTips</th>\n",
       "      <th>YouTubeEngineeredTruth</th>\n",
       "      <th>YouTubeFCC</th>\n",
       "      <th>YouTubeFunFunFunction</th>\n",
       "      <th>YouTubeGoogleDev</th>\n",
       "      <th>YouTubeLearnCode</th>\n",
       "      <th>YouTubeLevelUpTuts</th>\n",
       "      <th>YouTubeMIT</th>\n",
       "      <th>YouTubeMozillaHacks</th>\n",
       "      <th>YouTubeOther</th>\n",
       "      <th>YouTubeSimplilearn</th>\n",
       "      <th>YouTubeTheNewBoston</th>\n",
       "    </tr>\n",
       "  </thead>\n",
       "  <tbody>\n",
       "    <tr>\n",
       "      <th>0</th>\n",
       "      <td>27.0</td>\n",
       "      <td>0.0</td>\n",
       "      <td>NaN</td>\n",
       "      <td>NaN</td>\n",
       "      <td>NaN</td>\n",
       "      <td>NaN</td>\n",
       "      <td>NaN</td>\n",
       "      <td>more than 1 million</td>\n",
       "      <td>NaN</td>\n",
       "      <td>NaN</td>\n",
       "      <td>NaN</td>\n",
       "      <td>NaN</td>\n",
       "      <td>NaN</td>\n",
       "      <td>NaN</td>\n",
       "      <td>NaN</td>\n",
       "      <td>NaN</td>\n",
       "      <td>NaN</td>\n",
       "      <td>NaN</td>\n",
       "      <td>NaN</td>\n",
       "      <td>NaN</td>\n",
       "      <td>NaN</td>\n",
       "      <td>NaN</td>\n",
       "      <td>NaN</td>\n",
       "      <td>NaN</td>\n",
       "      <td>15 to 29 minutes</td>\n",
       "      <td>Canada</td>\n",
       "      <td>Canada</td>\n",
       "      <td>software development and IT</td>\n",
       "      <td>NaN</td>\n",
       "      <td>Employed for wages</td>\n",
       "      <td>NaN</td>\n",
       "      <td>NaN</td>\n",
       "      <td>NaN</td>\n",
       "      <td>NaN</td>\n",
       "      <td>female</td>\n",
       "      <td>NaN</td>\n",
       "      <td>NaN</td>\n",
       "      <td>1.0</td>\n",
       "      <td>0.0</td>\n",
       "      <td>1.0</td>\n",
       "      <td>0.0</td>\n",
       "      <td>0.0</td>\n",
       "      <td>0.0</td>\n",
       "      <td>NaN</td>\n",
       "      <td>15.0</td>\n",
       "      <td>02d9465b21e8bd09374b0066fb2d5614</td>\n",
       "      <td>eb78c1c3ac6cd9052aec557065070fbf</td>\n",
       "      <td>NaN</td>\n",
       "      <td>NaN</td>\n",
       "      <td>0.0</td>\n",
       "      <td>0.0</td>\n",
       "      <td>0.0</td>\n",
       "      <td>NaN</td>\n",
       "      <td>NaN</td>\n",
       "      <td>NaN</td>\n",
       "      <td>NaN</td>\n",
       "      <td>NaN</td>\n",
       "      <td>NaN</td>\n",
       "      <td>NaN</td>\n",
       "      <td>NaN</td>\n",
       "      <td>NaN</td>\n",
       "      <td>NaN</td>\n",
       "      <td>NaN</td>\n",
       "      <td>NaN</td>\n",
       "      <td>NaN</td>\n",
       "      <td>NaN</td>\n",
       "      <td>start your own business</td>\n",
       "      <td>NaN</td>\n",
       "      <td>NaN</td>\n",
       "      <td>NaN</td>\n",
       "      <td>English</td>\n",
       "      <td>married or domestic partnership</td>\n",
       "      <td>150.0</td>\n",
       "      <td>6.0</td>\n",
       "      <td>6f1fbc6b2b</td>\n",
       "      <td>2017-03-09 00:36:22</td>\n",
       "      <td>2017-03-09 00:32:59</td>\n",
       "      <td>2017-03-09 00:59:46</td>\n",
       "      <td>2017-03-09 00:36:26</td>\n",
       "      <td>NaN</td>\n",
       "      <td>NaN</td>\n",
       "      <td>NaN</td>\n",
       "      <td>1.0</td>\n",
       "      <td>NaN</td>\n",
       "      <td>NaN</td>\n",
       "      <td>NaN</td>\n",
       "      <td>NaN</td>\n",
       "      <td>NaN</td>\n",
       "      <td>NaN</td>\n",
       "      <td>NaN</td>\n",
       "      <td>NaN</td>\n",
       "      <td>NaN</td>\n",
       "      <td>NaN</td>\n",
       "      <td>NaN</td>\n",
       "      <td>NaN</td>\n",
       "      <td>NaN</td>\n",
       "      <td>1.0</td>\n",
       "      <td>NaN</td>\n",
       "      <td>NaN</td>\n",
       "      <td>NaN</td>\n",
       "      <td>NaN</td>\n",
       "      <td>NaN</td>\n",
       "      <td>1.0</td>\n",
       "      <td>NaN</td>\n",
       "      <td>NaN</td>\n",
       "      <td>NaN</td>\n",
       "      <td>1.0</td>\n",
       "      <td>NaN</td>\n",
       "      <td>NaN</td>\n",
       "      <td>NaN</td>\n",
       "      <td>NaN</td>\n",
       "      <td>NaN</td>\n",
       "      <td>NaN</td>\n",
       "      <td>NaN</td>\n",
       "      <td>1.0</td>\n",
       "      <td>1.0</td>\n",
       "      <td>some college credit, no degree</td>\n",
       "      <td>NaN</td>\n",
       "      <td>NaN</td>\n",
       "      <td>NaN</td>\n",
       "      <td>NaN</td>\n",
       "      <td>NaN</td>\n",
       "      <td>NaN</td>\n",
       "      <td>NaN</td>\n",
       "      <td>NaN</td>\n",
       "      <td>NaN</td>\n",
       "      <td>NaN</td>\n",
       "      <td>NaN</td>\n",
       "      <td>NaN</td>\n",
       "      <td>NaN</td>\n",
       "      <td>NaN</td>\n",
       "      <td>NaN</td>\n",
       "      <td>NaN</td>\n",
       "      <td>NaN</td>\n",
       "      <td>NaN</td>\n",
       "      <td>NaN</td>\n",
       "    </tr>\n",
       "    <tr>\n",
       "      <th>1</th>\n",
       "      <td>34.0</td>\n",
       "      <td>0.0</td>\n",
       "      <td>NaN</td>\n",
       "      <td>NaN</td>\n",
       "      <td>NaN</td>\n",
       "      <td>NaN</td>\n",
       "      <td>NaN</td>\n",
       "      <td>less than 100,000</td>\n",
       "      <td>NaN</td>\n",
       "      <td>NaN</td>\n",
       "      <td>NaN</td>\n",
       "      <td>NaN</td>\n",
       "      <td>NaN</td>\n",
       "      <td>NaN</td>\n",
       "      <td>NaN</td>\n",
       "      <td>NaN</td>\n",
       "      <td>NaN</td>\n",
       "      <td>NaN</td>\n",
       "      <td>NaN</td>\n",
       "      <td>NaN</td>\n",
       "      <td>NaN</td>\n",
       "      <td>NaN</td>\n",
       "      <td>NaN</td>\n",
       "      <td>NaN</td>\n",
       "      <td>NaN</td>\n",
       "      <td>United States of America</td>\n",
       "      <td>United States of America</td>\n",
       "      <td>NaN</td>\n",
       "      <td>NaN</td>\n",
       "      <td>Not working but looking for work</td>\n",
       "      <td>NaN</td>\n",
       "      <td>35000.0</td>\n",
       "      <td>NaN</td>\n",
       "      <td>NaN</td>\n",
       "      <td>male</td>\n",
       "      <td>NaN</td>\n",
       "      <td>NaN</td>\n",
       "      <td>1.0</td>\n",
       "      <td>0.0</td>\n",
       "      <td>1.0</td>\n",
       "      <td>0.0</td>\n",
       "      <td>0.0</td>\n",
       "      <td>1.0</td>\n",
       "      <td>NaN</td>\n",
       "      <td>10.0</td>\n",
       "      <td>5bfef9ecb211ec4f518cfc1d2a6f3e0c</td>\n",
       "      <td>21db37adb60cdcafadfa7dca1b13b6b1</td>\n",
       "      <td>NaN</td>\n",
       "      <td>0.0</td>\n",
       "      <td>0.0</td>\n",
       "      <td>0.0</td>\n",
       "      <td>NaN</td>\n",
       "      <td>Within 7 to 12 months</td>\n",
       "      <td>NaN</td>\n",
       "      <td>NaN</td>\n",
       "      <td>NaN</td>\n",
       "      <td>NaN</td>\n",
       "      <td>NaN</td>\n",
       "      <td>1.0</td>\n",
       "      <td>NaN</td>\n",
       "      <td>NaN</td>\n",
       "      <td>NaN</td>\n",
       "      <td>NaN</td>\n",
       "      <td>NaN</td>\n",
       "      <td>NaN</td>\n",
       "      <td>NaN</td>\n",
       "      <td>work for a nonprofit</td>\n",
       "      <td>1.0</td>\n",
       "      <td>Full-Stack Web Developer</td>\n",
       "      <td>in an office with other developers</td>\n",
       "      <td>English</td>\n",
       "      <td>single, never married</td>\n",
       "      <td>80.0</td>\n",
       "      <td>6.0</td>\n",
       "      <td>f8f8be6910</td>\n",
       "      <td>2017-03-09 00:37:07</td>\n",
       "      <td>2017-03-09 00:33:26</td>\n",
       "      <td>2017-03-09 00:38:59</td>\n",
       "      <td>2017-03-09 00:37:10</td>\n",
       "      <td>NaN</td>\n",
       "      <td>1.0</td>\n",
       "      <td>NaN</td>\n",
       "      <td>NaN</td>\n",
       "      <td>NaN</td>\n",
       "      <td>NaN</td>\n",
       "      <td>NaN</td>\n",
       "      <td>NaN</td>\n",
       "      <td>NaN</td>\n",
       "      <td>NaN</td>\n",
       "      <td>NaN</td>\n",
       "      <td>NaN</td>\n",
       "      <td>NaN</td>\n",
       "      <td>NaN</td>\n",
       "      <td>NaN</td>\n",
       "      <td>NaN</td>\n",
       "      <td>NaN</td>\n",
       "      <td>1.0</td>\n",
       "      <td>NaN</td>\n",
       "      <td>NaN</td>\n",
       "      <td>1.0</td>\n",
       "      <td>NaN</td>\n",
       "      <td>NaN</td>\n",
       "      <td>1.0</td>\n",
       "      <td>NaN</td>\n",
       "      <td>NaN</td>\n",
       "      <td>NaN</td>\n",
       "      <td>NaN</td>\n",
       "      <td>NaN</td>\n",
       "      <td>NaN</td>\n",
       "      <td>NaN</td>\n",
       "      <td>NaN</td>\n",
       "      <td>1.0</td>\n",
       "      <td>NaN</td>\n",
       "      <td>NaN</td>\n",
       "      <td>1.0</td>\n",
       "      <td>1.0</td>\n",
       "      <td>some college credit, no degree</td>\n",
       "      <td>NaN</td>\n",
       "      <td>NaN</td>\n",
       "      <td>NaN</td>\n",
       "      <td>NaN</td>\n",
       "      <td>NaN</td>\n",
       "      <td>NaN</td>\n",
       "      <td>NaN</td>\n",
       "      <td>NaN</td>\n",
       "      <td>NaN</td>\n",
       "      <td>1.0</td>\n",
       "      <td>NaN</td>\n",
       "      <td>NaN</td>\n",
       "      <td>NaN</td>\n",
       "      <td>NaN</td>\n",
       "      <td>NaN</td>\n",
       "      <td>NaN</td>\n",
       "      <td>NaN</td>\n",
       "      <td>NaN</td>\n",
       "      <td>NaN</td>\n",
       "    </tr>\n",
       "    <tr>\n",
       "      <th>2</th>\n",
       "      <td>21.0</td>\n",
       "      <td>0.0</td>\n",
       "      <td>NaN</td>\n",
       "      <td>NaN</td>\n",
       "      <td>NaN</td>\n",
       "      <td>NaN</td>\n",
       "      <td>NaN</td>\n",
       "      <td>more than 1 million</td>\n",
       "      <td>NaN</td>\n",
       "      <td>NaN</td>\n",
       "      <td>NaN</td>\n",
       "      <td>NaN</td>\n",
       "      <td>NaN</td>\n",
       "      <td>1.0</td>\n",
       "      <td>NaN</td>\n",
       "      <td>1.0</td>\n",
       "      <td>NaN</td>\n",
       "      <td>NaN</td>\n",
       "      <td>NaN</td>\n",
       "      <td>NaN</td>\n",
       "      <td>NaN</td>\n",
       "      <td>NaN</td>\n",
       "      <td>NaN</td>\n",
       "      <td>NaN</td>\n",
       "      <td>15 to 29 minutes</td>\n",
       "      <td>United States of America</td>\n",
       "      <td>United States of America</td>\n",
       "      <td>software development and IT</td>\n",
       "      <td>NaN</td>\n",
       "      <td>Employed for wages</td>\n",
       "      <td>NaN</td>\n",
       "      <td>70000.0</td>\n",
       "      <td>NaN</td>\n",
       "      <td>NaN</td>\n",
       "      <td>male</td>\n",
       "      <td>NaN</td>\n",
       "      <td>NaN</td>\n",
       "      <td>0.0</td>\n",
       "      <td>0.0</td>\n",
       "      <td>1.0</td>\n",
       "      <td>NaN</td>\n",
       "      <td>0.0</td>\n",
       "      <td>NaN</td>\n",
       "      <td>NaN</td>\n",
       "      <td>25.0</td>\n",
       "      <td>14f1863afa9c7de488050b82eb3edd96</td>\n",
       "      <td>21ba173828fbe9e27ccebaf4d5166a55</td>\n",
       "      <td>13000.0</td>\n",
       "      <td>1.0</td>\n",
       "      <td>0.0</td>\n",
       "      <td>0.0</td>\n",
       "      <td>0.0</td>\n",
       "      <td>Within 7 to 12 months</td>\n",
       "      <td>1.0</td>\n",
       "      <td>NaN</td>\n",
       "      <td>NaN</td>\n",
       "      <td>1.0</td>\n",
       "      <td>1.0</td>\n",
       "      <td>1.0</td>\n",
       "      <td>NaN</td>\n",
       "      <td>NaN</td>\n",
       "      <td>1.0</td>\n",
       "      <td>NaN</td>\n",
       "      <td>NaN</td>\n",
       "      <td>NaN</td>\n",
       "      <td>NaN</td>\n",
       "      <td>work for a medium-sized company</td>\n",
       "      <td>1.0</td>\n",
       "      <td>Front-End Web Developer, Back-End Web Develo...</td>\n",
       "      <td>no preference</td>\n",
       "      <td>Spanish</td>\n",
       "      <td>single, never married</td>\n",
       "      <td>1000.0</td>\n",
       "      <td>5.0</td>\n",
       "      <td>2ed189768e</td>\n",
       "      <td>2017-03-09 00:37:58</td>\n",
       "      <td>2017-03-09 00:33:53</td>\n",
       "      <td>2017-03-09 00:40:14</td>\n",
       "      <td>2017-03-09 00:38:02</td>\n",
       "      <td>1.0</td>\n",
       "      <td>NaN</td>\n",
       "      <td>1.0</td>\n",
       "      <td>NaN</td>\n",
       "      <td>NaN</td>\n",
       "      <td>NaN</td>\n",
       "      <td>NaN</td>\n",
       "      <td>NaN</td>\n",
       "      <td>NaN</td>\n",
       "      <td>Codenewbie</td>\n",
       "      <td>NaN</td>\n",
       "      <td>NaN</td>\n",
       "      <td>NaN</td>\n",
       "      <td>NaN</td>\n",
       "      <td>1.0</td>\n",
       "      <td>NaN</td>\n",
       "      <td>NaN</td>\n",
       "      <td>1.0</td>\n",
       "      <td>NaN</td>\n",
       "      <td>NaN</td>\n",
       "      <td>1.0</td>\n",
       "      <td>NaN</td>\n",
       "      <td>NaN</td>\n",
       "      <td>1.0</td>\n",
       "      <td>NaN</td>\n",
       "      <td>NaN</td>\n",
       "      <td>NaN</td>\n",
       "      <td>1.0</td>\n",
       "      <td>NaN</td>\n",
       "      <td>NaN</td>\n",
       "      <td>NaN</td>\n",
       "      <td>NaN</td>\n",
       "      <td>NaN</td>\n",
       "      <td>NaN</td>\n",
       "      <td>1.0</td>\n",
       "      <td>1.0</td>\n",
       "      <td>NaN</td>\n",
       "      <td>high school diploma or equivalent (GED)</td>\n",
       "      <td>NaN</td>\n",
       "      <td>NaN</td>\n",
       "      <td>NaN</td>\n",
       "      <td>NaN</td>\n",
       "      <td>1.0</td>\n",
       "      <td>NaN</td>\n",
       "      <td>1.0</td>\n",
       "      <td>1.0</td>\n",
       "      <td>NaN</td>\n",
       "      <td>NaN</td>\n",
       "      <td>NaN</td>\n",
       "      <td>NaN</td>\n",
       "      <td>1.0</td>\n",
       "      <td>1.0</td>\n",
       "      <td>NaN</td>\n",
       "      <td>NaN</td>\n",
       "      <td>NaN</td>\n",
       "      <td>NaN</td>\n",
       "      <td>NaN</td>\n",
       "    </tr>\n",
       "    <tr>\n",
       "      <th>3</th>\n",
       "      <td>26.0</td>\n",
       "      <td>0.0</td>\n",
       "      <td>NaN</td>\n",
       "      <td>NaN</td>\n",
       "      <td>NaN</td>\n",
       "      <td>NaN</td>\n",
       "      <td>NaN</td>\n",
       "      <td>between 100,000 and 1 million</td>\n",
       "      <td>NaN</td>\n",
       "      <td>NaN</td>\n",
       "      <td>NaN</td>\n",
       "      <td>NaN</td>\n",
       "      <td>NaN</td>\n",
       "      <td>NaN</td>\n",
       "      <td>NaN</td>\n",
       "      <td>NaN</td>\n",
       "      <td>NaN</td>\n",
       "      <td>NaN</td>\n",
       "      <td>NaN</td>\n",
       "      <td>NaN</td>\n",
       "      <td>NaN</td>\n",
       "      <td>NaN</td>\n",
       "      <td>NaN</td>\n",
       "      <td>NaN</td>\n",
       "      <td>I work from home</td>\n",
       "      <td>Brazil</td>\n",
       "      <td>Brazil</td>\n",
       "      <td>software development and IT</td>\n",
       "      <td>NaN</td>\n",
       "      <td>Employed for wages</td>\n",
       "      <td>NaN</td>\n",
       "      <td>40000.0</td>\n",
       "      <td>0.0</td>\n",
       "      <td>NaN</td>\n",
       "      <td>male</td>\n",
       "      <td>NaN</td>\n",
       "      <td>0.0</td>\n",
       "      <td>1.0</td>\n",
       "      <td>1.0</td>\n",
       "      <td>1.0</td>\n",
       "      <td>1.0</td>\n",
       "      <td>0.0</td>\n",
       "      <td>0.0</td>\n",
       "      <td>40000.0</td>\n",
       "      <td>14.0</td>\n",
       "      <td>91756eb4dc280062a541c25a3d44cfb0</td>\n",
       "      <td>3be37b558f02daae93a6da10f83f0c77</td>\n",
       "      <td>24000.0</td>\n",
       "      <td>0.0</td>\n",
       "      <td>0.0</td>\n",
       "      <td>0.0</td>\n",
       "      <td>1.0</td>\n",
       "      <td>Within the next 6 months</td>\n",
       "      <td>1.0</td>\n",
       "      <td>NaN</td>\n",
       "      <td>NaN</td>\n",
       "      <td>NaN</td>\n",
       "      <td>1.0</td>\n",
       "      <td>1.0</td>\n",
       "      <td>NaN</td>\n",
       "      <td>NaN</td>\n",
       "      <td>NaN</td>\n",
       "      <td>NaN</td>\n",
       "      <td>NaN</td>\n",
       "      <td>NaN</td>\n",
       "      <td>NaN</td>\n",
       "      <td>work for a medium-sized company</td>\n",
       "      <td>NaN</td>\n",
       "      <td>Front-End Web Developer, Full-Stack Web Deve...</td>\n",
       "      <td>from home</td>\n",
       "      <td>Portuguese</td>\n",
       "      <td>married or domestic partnership</td>\n",
       "      <td>0.0</td>\n",
       "      <td>5.0</td>\n",
       "      <td>dbdc0664d1</td>\n",
       "      <td>2017-03-09 00:40:13</td>\n",
       "      <td>2017-03-09 00:37:45</td>\n",
       "      <td>2017-03-09 00:42:26</td>\n",
       "      <td>2017-03-09 00:40:18</td>\n",
       "      <td>NaN</td>\n",
       "      <td>NaN</td>\n",
       "      <td>NaN</td>\n",
       "      <td>NaN</td>\n",
       "      <td>NaN</td>\n",
       "      <td>NaN</td>\n",
       "      <td>NaN</td>\n",
       "      <td>NaN</td>\n",
       "      <td>NaN</td>\n",
       "      <td>NaN</td>\n",
       "      <td>NaN</td>\n",
       "      <td>NaN</td>\n",
       "      <td>NaN</td>\n",
       "      <td>NaN</td>\n",
       "      <td>NaN</td>\n",
       "      <td>NaN</td>\n",
       "      <td>NaN</td>\n",
       "      <td>NaN</td>\n",
       "      <td>NaN</td>\n",
       "      <td>NaN</td>\n",
       "      <td>NaN</td>\n",
       "      <td>NaN</td>\n",
       "      <td>1.0</td>\n",
       "      <td>1.0</td>\n",
       "      <td>NaN</td>\n",
       "      <td>NaN</td>\n",
       "      <td>NaN</td>\n",
       "      <td>1.0</td>\n",
       "      <td>NaN</td>\n",
       "      <td>NaN</td>\n",
       "      <td>NaN</td>\n",
       "      <td>NaN</td>\n",
       "      <td>1.0</td>\n",
       "      <td>NaN</td>\n",
       "      <td>NaN</td>\n",
       "      <td>NaN</td>\n",
       "      <td>NaN</td>\n",
       "      <td>some college credit, no degree</td>\n",
       "      <td>NaN</td>\n",
       "      <td>NaN</td>\n",
       "      <td>NaN</td>\n",
       "      <td>NaN</td>\n",
       "      <td>NaN</td>\n",
       "      <td>NaN</td>\n",
       "      <td>NaN</td>\n",
       "      <td>1.0</td>\n",
       "      <td>NaN</td>\n",
       "      <td>1.0</td>\n",
       "      <td>1.0</td>\n",
       "      <td>NaN</td>\n",
       "      <td>NaN</td>\n",
       "      <td>1.0</td>\n",
       "      <td>NaN</td>\n",
       "      <td>NaN</td>\n",
       "      <td>NaN</td>\n",
       "      <td>NaN</td>\n",
       "      <td>NaN</td>\n",
       "    </tr>\n",
       "    <tr>\n",
       "      <th>4</th>\n",
       "      <td>20.0</td>\n",
       "      <td>0.0</td>\n",
       "      <td>NaN</td>\n",
       "      <td>NaN</td>\n",
       "      <td>NaN</td>\n",
       "      <td>NaN</td>\n",
       "      <td>NaN</td>\n",
       "      <td>between 100,000 and 1 million</td>\n",
       "      <td>NaN</td>\n",
       "      <td>NaN</td>\n",
       "      <td>NaN</td>\n",
       "      <td>NaN</td>\n",
       "      <td>NaN</td>\n",
       "      <td>NaN</td>\n",
       "      <td>NaN</td>\n",
       "      <td>NaN</td>\n",
       "      <td>NaN</td>\n",
       "      <td>NaN</td>\n",
       "      <td>NaN</td>\n",
       "      <td>NaN</td>\n",
       "      <td>NaN</td>\n",
       "      <td>NaN</td>\n",
       "      <td>NaN</td>\n",
       "      <td>NaN</td>\n",
       "      <td>NaN</td>\n",
       "      <td>Portugal</td>\n",
       "      <td>Portugal</td>\n",
       "      <td>NaN</td>\n",
       "      <td>NaN</td>\n",
       "      <td>Not working but looking for work</td>\n",
       "      <td>NaN</td>\n",
       "      <td>140000.0</td>\n",
       "      <td>NaN</td>\n",
       "      <td>NaN</td>\n",
       "      <td>female</td>\n",
       "      <td>NaN</td>\n",
       "      <td>NaN</td>\n",
       "      <td>0.0</td>\n",
       "      <td>0.0</td>\n",
       "      <td>1.0</td>\n",
       "      <td>NaN</td>\n",
       "      <td>0.0</td>\n",
       "      <td>NaN</td>\n",
       "      <td>NaN</td>\n",
       "      <td>10.0</td>\n",
       "      <td>aa3f061a1949a90b27bef7411ecd193f</td>\n",
       "      <td>d7c56bbf2c7b62096be9db010e86d96d</td>\n",
       "      <td>NaN</td>\n",
       "      <td>0.0</td>\n",
       "      <td>0.0</td>\n",
       "      <td>0.0</td>\n",
       "      <td>NaN</td>\n",
       "      <td>Within 7 to 12 months</td>\n",
       "      <td>1.0</td>\n",
       "      <td>NaN</td>\n",
       "      <td>NaN</td>\n",
       "      <td>NaN</td>\n",
       "      <td>1.0</td>\n",
       "      <td>1.0</td>\n",
       "      <td>NaN</td>\n",
       "      <td>1.0</td>\n",
       "      <td>1.0</td>\n",
       "      <td>NaN</td>\n",
       "      <td>NaN</td>\n",
       "      <td>NaN</td>\n",
       "      <td>NaN</td>\n",
       "      <td>work for a multinational corporation</td>\n",
       "      <td>1.0</td>\n",
       "      <td>Full-Stack Web Developer, Information Security...</td>\n",
       "      <td>in an office with other developers</td>\n",
       "      <td>Portuguese</td>\n",
       "      <td>single, never married</td>\n",
       "      <td>0.0</td>\n",
       "      <td>24.0</td>\n",
       "      <td>11b0f2d8a9</td>\n",
       "      <td>2017-03-09 00:42:45</td>\n",
       "      <td>2017-03-09 00:39:44</td>\n",
       "      <td>2017-03-09 00:45:42</td>\n",
       "      <td>2017-03-09 00:42:50</td>\n",
       "      <td>NaN</td>\n",
       "      <td>NaN</td>\n",
       "      <td>NaN</td>\n",
       "      <td>NaN</td>\n",
       "      <td>NaN</td>\n",
       "      <td>NaN</td>\n",
       "      <td>NaN</td>\n",
       "      <td>NaN</td>\n",
       "      <td>NaN</td>\n",
       "      <td>NaN</td>\n",
       "      <td>NaN</td>\n",
       "      <td>NaN</td>\n",
       "      <td>NaN</td>\n",
       "      <td>NaN</td>\n",
       "      <td>NaN</td>\n",
       "      <td>NaN</td>\n",
       "      <td>NaN</td>\n",
       "      <td>NaN</td>\n",
       "      <td>NaN</td>\n",
       "      <td>NaN</td>\n",
       "      <td>NaN</td>\n",
       "      <td>NaN</td>\n",
       "      <td>NaN</td>\n",
       "      <td>NaN</td>\n",
       "      <td>NaN</td>\n",
       "      <td>NaN</td>\n",
       "      <td>NaN</td>\n",
       "      <td>NaN</td>\n",
       "      <td>NaN</td>\n",
       "      <td>NaN</td>\n",
       "      <td>NaN</td>\n",
       "      <td>NaN</td>\n",
       "      <td>1.0</td>\n",
       "      <td>NaN</td>\n",
       "      <td>NaN</td>\n",
       "      <td>NaN</td>\n",
       "      <td>NaN</td>\n",
       "      <td>bachelor's degree</td>\n",
       "      <td>Information Technology</td>\n",
       "      <td>NaN</td>\n",
       "      <td>NaN</td>\n",
       "      <td>NaN</td>\n",
       "      <td>NaN</td>\n",
       "      <td>NaN</td>\n",
       "      <td>NaN</td>\n",
       "      <td>NaN</td>\n",
       "      <td>NaN</td>\n",
       "      <td>NaN</td>\n",
       "      <td>NaN</td>\n",
       "      <td>NaN</td>\n",
       "      <td>NaN</td>\n",
       "      <td>NaN</td>\n",
       "      <td>NaN</td>\n",
       "      <td>NaN</td>\n",
       "      <td>NaN</td>\n",
       "      <td>NaN</td>\n",
       "      <td>NaN</td>\n",
       "    </tr>\n",
       "  </tbody>\n",
       "</table>\n",
       "</div>"
      ],
      "text/plain": [
       "    Age  AttendedBootcamp  BootcampFinish  BootcampLoanYesNo BootcampName  \\\n",
       "0  27.0               0.0             NaN                NaN          NaN   \n",
       "1  34.0               0.0             NaN                NaN          NaN   \n",
       "2  21.0               0.0             NaN                NaN          NaN   \n",
       "3  26.0               0.0             NaN                NaN          NaN   \n",
       "4  20.0               0.0             NaN                NaN          NaN   \n",
       "\n",
       "   BootcampRecommend  ChildrenNumber                 CityPopulation  \\\n",
       "0                NaN             NaN            more than 1 million   \n",
       "1                NaN             NaN              less than 100,000   \n",
       "2                NaN             NaN            more than 1 million   \n",
       "3                NaN             NaN  between 100,000 and 1 million   \n",
       "4                NaN             NaN  between 100,000 and 1 million   \n",
       "\n",
       "   CodeEventConferences  CodeEventDjangoGirls  CodeEventFCC  CodeEventGameJam  \\\n",
       "0                   NaN                   NaN           NaN               NaN   \n",
       "1                   NaN                   NaN           NaN               NaN   \n",
       "2                   NaN                   NaN           NaN               NaN   \n",
       "3                   NaN                   NaN           NaN               NaN   \n",
       "4                   NaN                   NaN           NaN               NaN   \n",
       "\n",
       "   CodeEventGirlDev  CodeEventHackathons  CodeEventMeetup  \\\n",
       "0               NaN                  NaN              NaN   \n",
       "1               NaN                  NaN              NaN   \n",
       "2               NaN                  1.0              NaN   \n",
       "3               NaN                  NaN              NaN   \n",
       "4               NaN                  NaN              NaN   \n",
       "\n",
       "   CodeEventNodeSchool  CodeEventNone CodeEventOther  CodeEventRailsBridge  \\\n",
       "0                  NaN            NaN            NaN                   NaN   \n",
       "1                  NaN            NaN            NaN                   NaN   \n",
       "2                  1.0            NaN            NaN                   NaN   \n",
       "3                  NaN            NaN            NaN                   NaN   \n",
       "4                  NaN            NaN            NaN                   NaN   \n",
       "\n",
       "   CodeEventRailsGirls  CodeEventStartUpWknd  CodeEventWkdBootcamps  \\\n",
       "0                  NaN                   NaN                    NaN   \n",
       "1                  NaN                   NaN                    NaN   \n",
       "2                  NaN                   NaN                    NaN   \n",
       "3                  NaN                   NaN                    NaN   \n",
       "4                  NaN                   NaN                    NaN   \n",
       "\n",
       "   CodeEventWomenCode  CodeEventWorkshops       CommuteTime  \\\n",
       "0                 NaN                 NaN  15 to 29 minutes   \n",
       "1                 NaN                 NaN               NaN   \n",
       "2                 NaN                 NaN  15 to 29 minutes   \n",
       "3                 NaN                 NaN  I work from home   \n",
       "4                 NaN                 NaN               NaN   \n",
       "\n",
       "             CountryCitizen               CountryLive  \\\n",
       "0                    Canada                    Canada   \n",
       "1  United States of America  United States of America   \n",
       "2  United States of America  United States of America   \n",
       "3                    Brazil                    Brazil   \n",
       "4                  Portugal                  Portugal   \n",
       "\n",
       "               EmploymentField EmploymentFieldOther  \\\n",
       "0  software development and IT                  NaN   \n",
       "1                          NaN                  NaN   \n",
       "2  software development and IT                  NaN   \n",
       "3  software development and IT                  NaN   \n",
       "4                          NaN                  NaN   \n",
       "\n",
       "                   EmploymentStatus EmploymentStatusOther  ExpectedEarning  \\\n",
       "0                Employed for wages                   NaN              NaN   \n",
       "1  Not working but looking for work                   NaN          35000.0   \n",
       "2                Employed for wages                   NaN          70000.0   \n",
       "3                Employed for wages                   NaN          40000.0   \n",
       "4  Not working but looking for work                   NaN         140000.0   \n",
       "\n",
       "   FinanciallySupporting  FirstDevJob  Gender GenderOther  HasChildren  \\\n",
       "0                    NaN          NaN  female         NaN          NaN   \n",
       "1                    NaN          NaN    male         NaN          NaN   \n",
       "2                    NaN          NaN    male         NaN          NaN   \n",
       "3                    0.0          NaN    male         NaN          0.0   \n",
       "4                    NaN          NaN  female         NaN          NaN   \n",
       "\n",
       "   HasDebt  HasFinancialDependents  HasHighSpdInternet  HasHomeMortgage  \\\n",
       "0      1.0                     0.0                 1.0              0.0   \n",
       "1      1.0                     0.0                 1.0              0.0   \n",
       "2      0.0                     0.0                 1.0              NaN   \n",
       "3      1.0                     1.0                 1.0              1.0   \n",
       "4      0.0                     0.0                 1.0              NaN   \n",
       "\n",
       "   HasServedInMilitary  HasStudentDebt  HomeMortgageOwe  HoursLearning  \\\n",
       "0                  0.0             0.0              NaN           15.0   \n",
       "1                  0.0             1.0              NaN           10.0   \n",
       "2                  0.0             NaN              NaN           25.0   \n",
       "3                  0.0             0.0          40000.0           14.0   \n",
       "4                  0.0             NaN              NaN           10.0   \n",
       "\n",
       "                               ID.x                              ID.y  \\\n",
       "0  02d9465b21e8bd09374b0066fb2d5614  eb78c1c3ac6cd9052aec557065070fbf   \n",
       "1  5bfef9ecb211ec4f518cfc1d2a6f3e0c  21db37adb60cdcafadfa7dca1b13b6b1   \n",
       "2  14f1863afa9c7de488050b82eb3edd96  21ba173828fbe9e27ccebaf4d5166a55   \n",
       "3  91756eb4dc280062a541c25a3d44cfb0  3be37b558f02daae93a6da10f83f0c77   \n",
       "4  aa3f061a1949a90b27bef7411ecd193f  d7c56bbf2c7b62096be9db010e86d96d   \n",
       "\n",
       "    Income  IsEthnicMinority  IsReceiveDisabilitiesBenefits  IsSoftwareDev  \\\n",
       "0      NaN               NaN                            0.0            0.0   \n",
       "1      NaN               0.0                            0.0            0.0   \n",
       "2  13000.0               1.0                            0.0            0.0   \n",
       "3  24000.0               0.0                            0.0            0.0   \n",
       "4      NaN               0.0                            0.0            0.0   \n",
       "\n",
       "   IsUnderEmployed              JobApplyWhen  JobInterestBackEnd  \\\n",
       "0              0.0                       NaN                 NaN   \n",
       "1              NaN     Within 7 to 12 months                 NaN   \n",
       "2              0.0     Within 7 to 12 months                 1.0   \n",
       "3              1.0  Within the next 6 months                 1.0   \n",
       "4              NaN     Within 7 to 12 months                 1.0   \n",
       "\n",
       "   JobInterestDataEngr  JobInterestDataSci  JobInterestDevOps  \\\n",
       "0                  NaN                 NaN                NaN   \n",
       "1                  NaN                 NaN                NaN   \n",
       "2                  NaN                 NaN                1.0   \n",
       "3                  NaN                 NaN                NaN   \n",
       "4                  NaN                 NaN                NaN   \n",
       "\n",
       "   JobInterestFrontEnd  JobInterestFullStack  JobInterestGameDev  \\\n",
       "0                  NaN                   NaN                 NaN   \n",
       "1                  NaN                   1.0                 NaN   \n",
       "2                  1.0                   1.0                 NaN   \n",
       "3                  1.0                   1.0                 NaN   \n",
       "4                  1.0                   1.0                 NaN   \n",
       "\n",
       "   JobInterestInfoSec  JobInterestMobile JobInterestOther  \\\n",
       "0                 NaN                NaN              NaN   \n",
       "1                 NaN                NaN              NaN   \n",
       "2                 NaN                1.0              NaN   \n",
       "3                 NaN                NaN              NaN   \n",
       "4                 1.0                1.0              NaN   \n",
       "\n",
       "   JobInterestProjMngr  JobInterestQAEngr  JobInterestUX  \\\n",
       "0                  NaN                NaN            NaN   \n",
       "1                  NaN                NaN            NaN   \n",
       "2                  NaN                NaN            NaN   \n",
       "3                  NaN                NaN            NaN   \n",
       "4                  NaN                NaN            NaN   \n",
       "\n",
       "                                JobPref  JobRelocateYesNo  \\\n",
       "0               start your own business               NaN   \n",
       "1                  work for a nonprofit               1.0   \n",
       "2       work for a medium-sized company               1.0   \n",
       "3       work for a medium-sized company               NaN   \n",
       "4  work for a multinational corporation               1.0   \n",
       "\n",
       "                                     JobRoleInterest  \\\n",
       "0                                                NaN   \n",
       "1                           Full-Stack Web Developer   \n",
       "2    Front-End Web Developer, Back-End Web Develo...   \n",
       "3    Front-End Web Developer, Full-Stack Web Deve...   \n",
       "4  Full-Stack Web Developer, Information Security...   \n",
       "\n",
       "                         JobWherePref LanguageAtHome  \\\n",
       "0                                 NaN        English   \n",
       "1  in an office with other developers        English   \n",
       "2                       no preference        Spanish   \n",
       "3                           from home     Portuguese   \n",
       "4  in an office with other developers     Portuguese   \n",
       "\n",
       "                     MaritalStatus  MoneyForLearning  MonthsProgramming  \\\n",
       "0  married or domestic partnership             150.0                6.0   \n",
       "1            single, never married              80.0                6.0   \n",
       "2            single, never married            1000.0                5.0   \n",
       "3  married or domestic partnership               0.0                5.0   \n",
       "4            single, never married               0.0               24.0   \n",
       "\n",
       "    NetworkID         Part1EndTime       Part1StartTime         Part2EndTime  \\\n",
       "0  6f1fbc6b2b  2017-03-09 00:36:22  2017-03-09 00:32:59  2017-03-09 00:59:46   \n",
       "1  f8f8be6910  2017-03-09 00:37:07  2017-03-09 00:33:26  2017-03-09 00:38:59   \n",
       "2  2ed189768e  2017-03-09 00:37:58  2017-03-09 00:33:53  2017-03-09 00:40:14   \n",
       "3  dbdc0664d1  2017-03-09 00:40:13  2017-03-09 00:37:45  2017-03-09 00:42:26   \n",
       "4  11b0f2d8a9  2017-03-09 00:42:45  2017-03-09 00:39:44  2017-03-09 00:45:42   \n",
       "\n",
       "        Part2StartTime  PodcastChangeLog  PodcastCodeNewbie  PodcastCodePen  \\\n",
       "0  2017-03-09 00:36:26               NaN                NaN             NaN   \n",
       "1  2017-03-09 00:37:10               NaN                1.0             NaN   \n",
       "2  2017-03-09 00:38:02               1.0                NaN             1.0   \n",
       "3  2017-03-09 00:40:18               NaN                NaN             NaN   \n",
       "4  2017-03-09 00:42:50               NaN                NaN             NaN   \n",
       "\n",
       "   PodcastDevTea  PodcastDotNET  PodcastGiantRobots  PodcastJSAir  \\\n",
       "0            1.0            NaN                 NaN           NaN   \n",
       "1            NaN            NaN                 NaN           NaN   \n",
       "2            NaN            NaN                 NaN           NaN   \n",
       "3            NaN            NaN                 NaN           NaN   \n",
       "4            NaN            NaN                 NaN           NaN   \n",
       "\n",
       "   PodcastJSJabber  PodcastNone PodcastOther  PodcastProgThrowdown  \\\n",
       "0              NaN          NaN          NaN                   NaN   \n",
       "1              NaN          NaN          NaN                   NaN   \n",
       "2              NaN          NaN   Codenewbie                   NaN   \n",
       "3              NaN          NaN          NaN                   NaN   \n",
       "4              NaN          NaN          NaN                   NaN   \n",
       "\n",
       "   PodcastRubyRogues  PodcastSEDaily  PodcastSERadio  PodcastShopTalk  \\\n",
       "0                NaN             NaN             NaN              NaN   \n",
       "1                NaN             NaN             NaN              NaN   \n",
       "2                NaN             NaN             NaN              1.0   \n",
       "3                NaN             NaN             NaN              NaN   \n",
       "4                NaN             NaN             NaN              NaN   \n",
       "\n",
       "   PodcastTalkPython  PodcastTheWebAhead  ResourceCodecademy  \\\n",
       "0                NaN                 NaN                 1.0   \n",
       "1                NaN                 NaN                 1.0   \n",
       "2                NaN                 NaN                 1.0   \n",
       "3                NaN                 NaN                 NaN   \n",
       "4                NaN                 NaN                 NaN   \n",
       "\n",
       "   ResourceCodeWars  ResourceCoursera  ResourceCSS  ResourceEdX  \\\n",
       "0               NaN               NaN          NaN          NaN   \n",
       "1               NaN               NaN          1.0          NaN   \n",
       "2               NaN               NaN          1.0          NaN   \n",
       "3               NaN               NaN          NaN          NaN   \n",
       "4               NaN               NaN          NaN          NaN   \n",
       "\n",
       "   ResourceEgghead  ResourceFCC  ResourceHackerRank  ResourceKA  \\\n",
       "0              NaN          1.0                 NaN         NaN   \n",
       "1              NaN          1.0                 NaN         NaN   \n",
       "2              NaN          1.0                 NaN         NaN   \n",
       "3              1.0          1.0                 NaN         NaN   \n",
       "4              NaN          NaN                 NaN         NaN   \n",
       "\n",
       "   ResourceLynda  ResourceMDN  ResourceOdinProj ResourceOther  \\\n",
       "0            NaN          1.0               NaN           NaN   \n",
       "1            NaN          NaN               NaN           NaN   \n",
       "2            NaN          1.0               NaN           NaN   \n",
       "3            NaN          1.0               NaN           NaN   \n",
       "4            NaN          NaN               NaN           NaN   \n",
       "\n",
       "   ResourcePluralSight  ResourceSkillcrush  ResourceSO  ResourceTreehouse  \\\n",
       "0                  NaN                 NaN         NaN                NaN   \n",
       "1                  NaN                 NaN         1.0                NaN   \n",
       "2                  NaN                 NaN         NaN                NaN   \n",
       "3                  NaN                 NaN         1.0                NaN   \n",
       "4                  NaN                 NaN         1.0                NaN   \n",
       "\n",
       "   ResourceUdacity  ResourceUdemy  ResourceW3S  \\\n",
       "0              NaN            1.0          1.0   \n",
       "1              NaN            1.0          1.0   \n",
       "2              1.0            1.0          NaN   \n",
       "3              NaN            NaN          NaN   \n",
       "4              NaN            NaN          NaN   \n",
       "\n",
       "                              SchoolDegree             SchoolMajor  \\\n",
       "0           some college credit, no degree                     NaN   \n",
       "1           some college credit, no degree                     NaN   \n",
       "2  high school diploma or equivalent (GED)                     NaN   \n",
       "3           some college credit, no degree                     NaN   \n",
       "4                        bachelor's degree  Information Technology   \n",
       "\n",
       "   StudentDebtOwe  YouTubeCodeCourse  YouTubeCodingTrain  YouTubeCodingTut360  \\\n",
       "0             NaN                NaN                 NaN                  NaN   \n",
       "1             NaN                NaN                 NaN                  NaN   \n",
       "2             NaN                NaN                 NaN                  1.0   \n",
       "3             NaN                NaN                 NaN                  NaN   \n",
       "4             NaN                NaN                 NaN                  NaN   \n",
       "\n",
       "   YouTubeComputerphile  YouTubeDerekBanas  YouTubeDevTips  \\\n",
       "0                   NaN                NaN             NaN   \n",
       "1                   NaN                NaN             NaN   \n",
       "2                   NaN                1.0             1.0   \n",
       "3                   NaN                NaN             1.0   \n",
       "4                   NaN                NaN             NaN   \n",
       "\n",
       "   YouTubeEngineeredTruth  YouTubeFCC  YouTubeFunFunFunction  \\\n",
       "0                     NaN         NaN                    NaN   \n",
       "1                     NaN         1.0                    NaN   \n",
       "2                     NaN         NaN                    NaN   \n",
       "3                     NaN         1.0                    1.0   \n",
       "4                     NaN         NaN                    NaN   \n",
       "\n",
       "   YouTubeGoogleDev  YouTubeLearnCode  YouTubeLevelUpTuts  YouTubeMIT  \\\n",
       "0               NaN               NaN                 NaN         NaN   \n",
       "1               NaN               NaN                 NaN         NaN   \n",
       "2               NaN               1.0                 1.0         NaN   \n",
       "3               NaN               NaN                 1.0         NaN   \n",
       "4               NaN               NaN                 NaN         NaN   \n",
       "\n",
       "   YouTubeMozillaHacks YouTubeOther  YouTubeSimplilearn  YouTubeTheNewBoston  \n",
       "0                  NaN          NaN                 NaN                  NaN  \n",
       "1                  NaN          NaN                 NaN                  NaN  \n",
       "2                  NaN          NaN                 NaN                  NaN  \n",
       "3                  NaN          NaN                 NaN                  NaN  \n",
       "4                  NaN          NaN                 NaN                  NaN  "
      ]
     },
     "execution_count": 3,
     "metadata": {},
     "output_type": "execute_result"
    }
   ],
   "source": [
    "pd.options.display.max_columns = 150 # to avoid truncated output\n",
    "\n",
    "survey.head()\n"
   ]
  },
  {
   "cell_type": "code",
   "execution_count": 4,
   "metadata": {},
   "outputs": [
    {
     "data": {
      "text/plain": [
       "Index(['Age', 'AttendedBootcamp', 'BootcampFinish', 'BootcampLoanYesNo',\n",
       "       'BootcampName', 'BootcampRecommend', 'ChildrenNumber', 'CityPopulation',\n",
       "       'CodeEventConferences', 'CodeEventDjangoGirls',\n",
       "       ...\n",
       "       'YouTubeFCC', 'YouTubeFunFunFunction', 'YouTubeGoogleDev',\n",
       "       'YouTubeLearnCode', 'YouTubeLevelUpTuts', 'YouTubeMIT',\n",
       "       'YouTubeMozillaHacks', 'YouTubeOther', 'YouTubeSimplilearn',\n",
       "       'YouTubeTheNewBoston'],\n",
       "      dtype='object', length=136)"
      ]
     },
     "execution_count": 4,
     "metadata": {},
     "output_type": "execute_result"
    }
   ],
   "source": [
    "survey.columns"
   ]
  },
  {
   "cell_type": "code",
   "execution_count": 5,
   "metadata": {},
   "outputs": [
    {
     "name": "stdout",
     "output_type": "stream",
     "text": [
      "0 >>> Age ( 74 , float64 )\n",
      "\t Some values are:\n",
      "\t'27.0', '34.0', '21.0', '26.0', '20.0', '28.0', '29.0', '23.0', '24.0', '22.0',  \n",
      "\n",
      "1 >>> AttendedBootcamp ( 3 , float64 )\n",
      "\t [ 0.  1. nan] \n",
      "\n",
      "2 >>> BootcampFinish ( 3 , float64 )\n",
      "\t [nan  1.  0.] \n",
      "\n",
      "3 >>> BootcampLoanYesNo ( 3 , float64 )\n",
      "\t [nan  0.  1.] \n",
      "\n",
      "4 >>> BootcampName ( 142 , object )\n",
      "\t Some values are:\n",
      "\t'nan', 'Code Fellows', 'HackerYou', 'Epicodus', 'The Iron Yard', 'BrainStation', 'Codemaster Institute', 'Logit Academy', 'Le Wagon', 'Code 42',  \n",
      "\n",
      "5 >>> BootcampRecommend ( 3 , float64 )\n",
      "\t [nan  1.  0.] \n",
      "\n",
      "6 >>> ChildrenNumber ( 10 , float64 )\n",
      "\t [nan  1.  2.  4.  3.  5.  6.  7.  8.  9.] \n",
      "\n",
      "7 >>> CityPopulation ( 4 , object )\n",
      "\t ['more than 1 million' 'less than 100,000' 'between 100,000 and 1 million'\n",
      " nan] \n",
      "\n",
      "8 >>> CodeEventConferences ( 2 , float64 )\n",
      "\t [nan  1.] \n",
      "\n",
      "9 >>> CodeEventDjangoGirls ( 2 , float64 )\n",
      "\t [nan  1.] \n",
      "\n",
      "10 >>> CodeEventFCC ( 2 , float64 )\n",
      "\t [nan  1.] \n",
      "\n",
      "11 >>> CodeEventGameJam ( 2 , float64 )\n",
      "\t [nan  1.] \n",
      "\n",
      "12 >>> CodeEventGirlDev ( 2 , float64 )\n",
      "\t [nan  1.] \n",
      "\n",
      "13 >>> CodeEventHackathons ( 2 , float64 )\n",
      "\t [nan  1.] \n",
      "\n",
      "14 >>> CodeEventMeetup ( 2 , float64 )\n",
      "\t [nan  1.] \n",
      "\n",
      "15 >>> CodeEventNodeSchool ( 2 , float64 )\n",
      "\t [nan  1.] \n",
      "\n",
      "16 >>> CodeEventNone ( 2 , float64 )\n",
      "\t [nan  1.] \n",
      "\n",
      "17 >>> CodeEventOther ( 464 , object )\n",
      "\t Some values are:\n",
      "\t'nan', 'Ladies Learning Code', 'Peatix Events', 'Virada Tecnológica - Brasil', 'Mentoring', 'Microsoft Dev Camps', 'GDG', 'Include Girls Workshop', 'Local Event Called CodeCamp', 'DjangoCon',  \n",
      "\n",
      "18 >>> CodeEventRailsBridge ( 2 , float64 )\n",
      "\t [nan  1.] \n",
      "\n",
      "19 >>> CodeEventRailsGirls ( 2 , float64 )\n",
      "\t [nan  1.] \n",
      "\n",
      "20 >>> CodeEventStartUpWknd ( 2 , float64 )\n",
      "\t [nan  1.] \n",
      "\n",
      "21 >>> CodeEventWkdBootcamps ( 2 , float64 )\n",
      "\t [nan  1.] \n",
      "\n",
      "22 >>> CodeEventWomenCode ( 2 , float64 )\n",
      "\t [nan  1.] \n",
      "\n",
      "23 >>> CodeEventWorkshops ( 2 , float64 )\n",
      "\t [nan  1.] \n",
      "\n",
      "24 >>> CommuteTime ( 7 , object )\n",
      "\t ['15 to 29 minutes' nan 'I work from home' '30 to 44 minutes'\n",
      " 'Less than 15 minutes' '45 to 60 minutes' 'More than 60 minutes'] \n",
      "\n",
      "25 >>> CountryCitizen ( 182 , object )\n",
      "\t Some values are:\n",
      "\t'Canada', 'United States of America', 'Brazil', 'Portugal', 'United Kingdom', 'India', 'Mexico', 'Spain', 'Lithuania', 'Macedonia',  \n",
      "\n",
      "26 >>> CountryLive ( 173 , object )\n",
      "\t Some values are:\n",
      "\t'Canada', 'United States of America', 'Brazil', 'Portugal', 'United Kingdom', 'Mexico', 'Germany', 'Macedonia', 'Romania', 'Malaysia',  \n",
      "\n",
      "27 >>> EmploymentField ( 15 , object )\n",
      "\t ['software development and IT' nan 'sales'\n",
      " 'office and administrative support' 'finance'\n",
      " 'arts, entertainment, sports, or media' 'education' 'food and beverage'\n",
      " 'transportation' 'health care' 'construction and extraction' 'legal'\n",
      " 'architecture or physical engineering'\n",
      " 'law enforcement and fire and rescue' 'farming, fishing, and forestry'] \n",
      "\n",
      "28 >>> EmploymentFieldOther ( 725 , object )\n",
      "\t Some values are:\n",
      "\t'nan', 'Market research', 'Student', 'Payment process', 'design', 'Customer Service', 'International cargo trade', 'Automotive', 'Design', 'Warehousing/Logistics',  \n",
      "\n",
      "29 >>> EmploymentStatus ( 11 , object )\n",
      "\t ['Employed for wages' 'Not working but looking for work' 'Unable to work'\n",
      " 'A stay-at-home parent or homemaker' 'Self-employed freelancer'\n",
      " 'Not working and not looking for work' 'Self-employed business owner' nan\n",
      " 'Doing an unpaid internship' 'Military' 'Retired'] \n",
      "\n",
      "30 >>> EmploymentStatusOther ( 384 , object )\n",
      "\t Some values are:\n",
      "\t'nan', 'Student', 'student', 'Casual software developer', 'Doing a paid internship', 'Employed for salary', 'Volunteer', 'Currently completing a bootcamp -student', 'casual work', 'Apprentice Administrator',  \n",
      "\n",
      "31 >>> ExpectedEarning ( 307 , float64 )\n",
      "\t Some values are:\n",
      "\t'nan', '35000.0', '70000.0', '40000.0', '140000.0', '30000.0', '100000.0', '60000.0', '90000.0', '48600.0',  \n",
      "\n",
      "32 >>> FinanciallySupporting ( 3 , float64 )\n",
      "\t [nan  0.  1.] \n",
      "\n",
      "33 >>> FirstDevJob ( 3 , float64 )\n",
      "\t [nan  1.  0.] \n",
      "\n",
      "34 >>> Gender ( 6 , object )\n",
      "\t ['female' 'male' nan 'genderqueer' 'trans' 'agender'] \n",
      "\n",
      "35 >>> GenderOther ( 51 , object )\n",
      "\t Some values are:\n",
      "\t'nan', 'why the hell are here more than two genders?!', 'Computer', 'questioning', 'non-binary', 'Male (there are only 2 genders)', 'Bigender ', '54', 'b', 'toaster',  \n",
      "\n",
      "36 >>> HasChildren ( 3 , float64 )\n",
      "\t [nan  0.  1.] \n",
      "\n",
      "37 >>> HasDebt ( 3 , float64 )\n",
      "\t [ 1.  0. nan] \n",
      "\n",
      "38 >>> HasFinancialDependents ( 3 , float64 )\n",
      "\t [ 0.  1. nan] \n",
      "\n",
      "39 >>> HasHighSpdInternet ( 3 , float64 )\n",
      "\t [ 1.  0. nan] \n",
      "\n",
      "40 >>> HasHomeMortgage ( 3 , float64 )\n",
      "\t [ 0. nan  1.] \n",
      "\n",
      "41 >>> HasServedInMilitary ( 3 , float64 )\n",
      "\t [ 0. nan  1.] \n",
      "\n",
      "42 >>> HasStudentDebt ( 3 , float64 )\n",
      "\t [ 0.  1. nan] \n",
      "\n",
      "43 >>> HomeMortgageOwe ( 257 , float64 )\n",
      "\t Some values are:\n",
      "\t'nan', '40000.0', '120000.0', '270000.0', '200000.0', '3000.0', '199000.0', '150000.0', '1500.0', '296000.0',  \n",
      "\n",
      "44 >>> HoursLearning ( 85 , float64 )\n",
      "\t Some values are:\n",
      "\t'15.0', '10.0', '25.0', '14.0', '12.0', '16.0', '5.0', '2.0', '50.0', 'nan',  \n",
      "\n",
      "45 >>> ID.x ( 18175 , object )\n",
      "\t Some values are:\n",
      "\t'02d9465b21e8bd09374b0066fb2d5614', '5bfef9ecb211ec4f518cfc1d2a6f3e0c', '14f1863afa9c7de488050b82eb3edd96', '91756eb4dc280062a541c25a3d44cfb0', 'aa3f061a1949a90b27bef7411ecd193f', '1847ab8a8ad29489407379c3fb6241d9', '5e130f133306abd6c2f9af31467ff37c', '5d8b0faa99fa2c8f08da66e8e9e134fa', '2b817aaea63b77a6a1901d532c1107bc', '369e2da3096d9c81450ee5e632fbc5dd',  \n",
      "\n",
      "46 >>> ID.y ( 15744 , object )\n",
      "\t Some values are:\n",
      "\t'eb78c1c3ac6cd9052aec557065070fbf', '21db37adb60cdcafadfa7dca1b13b6b1', '21ba173828fbe9e27ccebaf4d5166a55', '3be37b558f02daae93a6da10f83f0c77', 'd7c56bbf2c7b62096be9db010e86d96d', 'ea9c5eda6cf40ffccdbb957e83b01f6b', 'fe5e9f175fdfbf18bcf6c85d6e042b68', 'c2dcab1902f6421863862fe56a343dbb', 'bfa90e07a60c4686ac435575f58514a1', 'c5d389c1430c378314d39aaf37baee96',  \n",
      "\n",
      "47 >>> Income ( 586 , float64 )\n",
      "\t Some values are:\n",
      "\t'nan', '13000.0', '24000.0', '40000.0', '30000.0', '20000.0', '10000.0', '60000.0', '76000.0', '34000.0',  \n",
      "\n",
      "48 >>> IsEthnicMinority ( 3 , float64 )\n",
      "\t [nan  0.  1.] \n",
      "\n",
      "49 >>> IsReceiveDisabilitiesBenefits ( 3 , float64 )\n",
      "\t [ 0.  1. nan] \n",
      "\n",
      "50 >>> IsSoftwareDev ( 3 , float64 )\n",
      "\t [ 0.  1. nan] \n",
      "\n",
      "51 >>> IsUnderEmployed ( 3 , float64 )\n",
      "\t [ 0. nan  1.] \n",
      "\n",
      "52 >>> JobApplyWhen ( 6 , object )\n",
      "\t [nan 'Within 7 to 12 months' 'Within the next 6 months'\n",
      " \"I'm already applying\" 'more than 12 months from now' \"I haven't decided\"] \n",
      "\n",
      "53 >>> JobInterestBackEnd ( 2 , float64 )\n",
      "\t [nan  1.] \n",
      "\n",
      "54 >>> JobInterestDataEngr ( 2 , float64 )\n",
      "\t [nan  1.] \n",
      "\n",
      "55 >>> JobInterestDataSci ( 2 , float64 )\n",
      "\t [nan  1.] \n",
      "\n",
      "56 >>> JobInterestDevOps ( 2 , float64 )\n",
      "\t [nan  1.] \n",
      "\n",
      "57 >>> JobInterestFrontEnd ( 2 , float64 )\n",
      "\t [nan  1.] \n",
      "\n",
      "58 >>> JobInterestFullStack ( 2 , float64 )\n",
      "\t [nan  1.] \n",
      "\n",
      "59 >>> JobInterestGameDev ( 2 , float64 )\n",
      "\t [nan  1.] \n",
      "\n",
      "60 >>> JobInterestInfoSec ( 2 , float64 )\n",
      "\t [nan  1.] \n",
      "\n",
      "61 >>> JobInterestMobile ( 2 , float64 )\n",
      "\t [nan  1.] \n",
      "\n",
      "62 >>> JobInterestOther ( 178 , object )\n",
      "\t Some values are:\n",
      "\t'nan', 'Security Expert', 'Technical Writer', 'Researcher', 'Systems Engineer', 'Desktop Applications Programmer', 'Robotics', 'Non Technical', 'UI Design', 'Software Engineer',  \n",
      "\n",
      "63 >>> JobInterestProjMngr ( 2 , float64 )\n",
      "\t [nan  1.] \n",
      "\n",
      "64 >>> JobInterestQAEngr ( 2 , float64 )\n",
      "\t [nan  1.] \n",
      "\n",
      "65 >>> JobInterestUX ( 2 , float64 )\n",
      "\t [nan  1.] \n",
      "\n",
      "66 >>> JobPref ( 8 , object )\n",
      "\t ['start your own business' 'work for a nonprofit'\n",
      " 'work for a medium-sized company' 'work for a multinational corporation'\n",
      " 'freelance ' nan 'work for a startup' 'work for a government'] \n",
      "\n",
      "67 >>> JobRelocateYesNo ( 3 , float64 )\n",
      "\t [nan  1.  0.] \n",
      "\n",
      "68 >>> JobRoleInterest ( 3214 , object )\n",
      "\t Some values are:\n",
      "\t'nan', 'Full-Stack Web Developer', '  Front-End Web Developer, Back-End Web Developer,   DevOps / SysAdmin,   Mobile Developer, Full-Stack Web Developer', '  Front-End Web Developer, Full-Stack Web Developer, Back-End Web Developer', 'Full-Stack Web Developer, Information Security,   Mobile Developer,   Front-End Web Developer, Back-End Web Developer', 'Full-Stack Web Developer,   Quality Assurance Engineer, Game Developer, Back-End Web Developer,   User Experience Designer,   Front-End Web Developer', '  DevOps / SysAdmin,   Data Scientist, Information Security, Data Engineer', 'Back-End Web Developer, Full-Stack Web Developer,   Front-End Web Developer', 'Full-Stack Web Developer,   Front-End Web Developer,   User Experience Designer, Back-End Web Developer', '  Front-End Web Developer,   Mobile Developer, Game Developer, Full-Stack Web Developer',  \n",
      "\n",
      "69 >>> JobWherePref ( 4 , object )\n",
      "\t [nan 'in an office with other developers' 'no preference' 'from home'] \n",
      "\n",
      "70 >>> LanguageAtHome ( 168 , object )\n",
      "\t Some values are:\n",
      "\t'English', 'Spanish', 'Portuguese', 'Tagalog', 'Macedonian', 'Somali', 'Romanian', 'Bengali', 'Serbo-Croatian', 'Korean',  \n",
      "\n",
      "71 >>> MaritalStatus ( 6 , object )\n",
      "\t ['married or domestic partnership' 'single, never married' nan 'divorced'\n",
      " 'separated' 'widowed'] \n",
      "\n",
      "72 >>> MoneyForLearning ( 334 , float64 )\n",
      "\t Some values are:\n",
      "\t'150.0', '80.0', '1000.0', '0.0', '200.0', '700.0', '100.0', 'nan', '500.0', '4000.0',  \n",
      "\n",
      "73 >>> MonthsProgramming ( 155 , float64 )\n",
      "\t Some values are:\n",
      "\t'6.0', '5.0', '24.0', '12.0', '4.0', '29.0', '18.0', '1.0', '3.0', 'nan',  \n",
      "\n",
      "74 >>> NetworkID ( 17738 , object )\n",
      "\t Some values are:\n",
      "\t'6f1fbc6b2b', 'f8f8be6910', '2ed189768e', 'dbdc0664d1', '11b0f2d8a9', '2bb3e97ae9', 'f4abfae20d', '5452739947', '5fd14a5321', '0ff3f9388e',  \n",
      "\n",
      "75 >>> Part1EndTime ( 18054 , object )\n",
      "\t Some values are:\n",
      "\t'2017-03-09 00:36:22', '2017-03-09 00:37:07', '2017-03-09 00:37:58', '2017-03-09 00:40:13', '2017-03-09 00:42:45', '2017-03-09 00:45:23', '2017-03-09 00:45:33', '2017-03-09 00:45:39', '2017-03-09 00:48:32', '2017-03-09 00:48:59',  \n",
      "\n",
      "76 >>> Part1StartTime ( 18065 , object )\n",
      "\t Some values are:\n",
      "\t'2017-03-09 00:32:59', '2017-03-09 00:33:26', '2017-03-09 00:33:53', '2017-03-09 00:37:45', '2017-03-09 00:39:44', '2017-03-09 00:39:35', '2017-03-09 00:41:27', '2017-03-09 00:40:15', '2017-03-09 00:43:34', '2017-03-09 00:45:21',  \n",
      "\n",
      "77 >>> Part2EndTime ( 15658 , object )\n",
      "\t Some values are:\n",
      "\t'2017-03-09 00:59:46', '2017-03-09 00:38:59', '2017-03-09 00:40:14', '2017-03-09 00:42:26', '2017-03-09 00:45:42', '2017-03-09 00:47:34', '2017-03-09 00:48:49', '2017-03-09 00:47:16', '2017-03-09 00:50:46', '2017-03-09 00:49:50',  \n",
      "\n",
      "78 >>> Part2StartTime ( 15655 , object )\n",
      "\t Some values are:\n",
      "\t'2017-03-09 00:36:26', '2017-03-09 00:37:10', '2017-03-09 00:38:02', '2017-03-09 00:40:18', '2017-03-09 00:42:50', '2017-03-09 00:45:32', '2017-03-09 00:45:52', '2017-03-09 00:45:43', '2017-03-09 00:48:35', '2017-03-09 00:48:37',  \n",
      "\n",
      "79 >>> PodcastChangeLog ( 2 , float64 )\n",
      "\t [nan  1.] \n",
      "\n",
      "80 >>> PodcastCodeNewbie ( 2 , float64 )\n",
      "\t [nan  1.] \n",
      "\n",
      "81 >>> PodcastCodePen ( 2 , float64 )\n",
      "\t [nan  1.] \n",
      "\n",
      "82 >>> PodcastDevTea ( 2 , float64 )\n",
      "\t [ 1. nan] \n",
      "\n",
      "83 >>> PodcastDotNET ( 2 , float64 )\n",
      "\t [nan  1.] \n",
      "\n",
      "84 >>> PodcastGiantRobots ( 2 , float64 )\n",
      "\t [nan  1.] \n",
      "\n",
      "85 >>> PodcastJSAir ( 2 , float64 )\n",
      "\t [nan  1.] \n",
      "\n",
      "86 >>> PodcastJSJabber ( 2 , float64 )\n",
      "\t [nan  1.] \n",
      "\n",
      "87 >>> PodcastNone ( 2 , float64 )\n",
      "\t [nan  1.] \n",
      "\n",
      "88 >>> PodcastOther ( 576 , object )\n",
      "\t Some values are:\n",
      "\t'nan', 'Codenewbie', 'Complete Developer', 'Immutable', 'Learn to code with me podcast', 'Breakingintostartups.com', 'Scott Hanselman', 'Laracast', 'Scale your code', 'Fragmented',  \n",
      "\n",
      "89 >>> PodcastProgThrowdown ( 2 , float64 )\n",
      "\t [nan  1.] \n",
      "\n",
      "90 >>> PodcastRubyRogues ( 2 , float64 )\n",
      "\t [nan  1.] \n",
      "\n",
      "91 >>> PodcastSEDaily ( 2 , float64 )\n",
      "\t [nan  1.] \n",
      "\n",
      "92 >>> PodcastSERadio ( 2 , float64 )\n",
      "\t [nan  1.] \n",
      "\n",
      "93 >>> PodcastShopTalk ( 2 , float64 )\n",
      "\t [nan  1.] \n",
      "\n",
      "94 >>> PodcastTalkPython ( 2 , float64 )\n",
      "\t [nan  1.] \n",
      "\n",
      "95 >>> PodcastTheWebAhead ( 2 , float64 )\n",
      "\t [nan  1.] \n",
      "\n",
      "96 >>> ResourceCodecademy ( 2 , float64 )\n",
      "\t [ 1. nan] \n",
      "\n",
      "97 >>> ResourceCodeWars ( 2 , float64 )\n",
      "\t [nan  1.] \n",
      "\n",
      "98 >>> ResourceCoursera ( 2 , float64 )\n",
      "\t [nan  1.] \n",
      "\n",
      "99 >>> ResourceCSS ( 2 , float64 )\n",
      "\t [nan  1.] \n",
      "\n",
      "100 >>> ResourceEdX ( 2 , float64 )\n",
      "\t [nan  1.] \n",
      "\n",
      "101 >>> ResourceEgghead ( 2 , float64 )\n",
      "\t [nan  1.] \n",
      "\n",
      "102 >>> ResourceFCC ( 2 , float64 )\n",
      "\t [ 1. nan] \n",
      "\n",
      "103 >>> ResourceHackerRank ( 2 , float64 )\n",
      "\t [nan  1.] \n",
      "\n",
      "104 >>> ResourceKA ( 2 , float64 )\n",
      "\t [nan  1.] \n",
      "\n",
      "105 >>> ResourceLynda ( 2 , float64 )\n",
      "\t [nan  1.] \n",
      "\n",
      "106 >>> ResourceMDN ( 2 , float64 )\n",
      "\t [ 1. nan] \n",
      "\n",
      "107 >>> ResourceOdinProj ( 2 , float64 )\n",
      "\t [nan  1.] \n",
      "\n",
      "108 >>> ResourceOther ( 644 , object )\n",
      "\t Some values are:\n",
      "\t'nan', 'Sololearn', 'Front End Masters', 'Sololearn and enki', 'Data camp', 'Ray Wenderlich!!!', 'Kadenze and SoloLearn', 'Siraj Raval Youtube channel', 'Stackoverflow and cplusplus.com', 'Youtube',  \n",
      "\n"
     ]
    },
    {
     "name": "stdout",
     "output_type": "stream",
     "text": [
      "109 >>> ResourcePluralSight ( 2 , float64 )\n",
      "\t [nan  1.] \n",
      "\n",
      "110 >>> ResourceSkillcrush ( 2 , float64 )\n",
      "\t [nan  1.] \n",
      "\n",
      "111 >>> ResourceSO ( 2 , float64 )\n",
      "\t [nan  1.] \n",
      "\n",
      "112 >>> ResourceTreehouse ( 2 , float64 )\n",
      "\t [nan  1.] \n",
      "\n",
      "113 >>> ResourceUdacity ( 2 , float64 )\n",
      "\t [nan  1.] \n",
      "\n",
      "114 >>> ResourceUdemy ( 2 , float64 )\n",
      "\t [ 1. nan] \n",
      "\n",
      "115 >>> ResourceW3S ( 2 , float64 )\n",
      "\t [ 1. nan] \n",
      "\n",
      "116 >>> SchoolDegree ( 11 , object )\n",
      "\t ['some college credit, no degree'\n",
      " 'high school diploma or equivalent (GED)' \"bachelor's degree\"\n",
      " 'some high school' 'no high school (secondary school)'\n",
      " \"master's degree (non-professional)\" \"associate's degree\" nan\n",
      " 'trade, technical, or vocational training'\n",
      " 'professional degree (MBA, MD, JD, etc.)' 'Ph.D.'] \n",
      "\n",
      "117 >>> SchoolMajor ( 473 , object )\n",
      "\t Some values are:\n",
      "\t'nan', 'Information Technology', 'Electrical and Electronics Engineering', 'Computer Science', 'Library Science and Administration', 'Game Design', 'English', 'Political Science', 'Computer Software Engineering', 'Civil Engineering',  \n",
      "\n",
      "118 >>> StudentDebtOwe ( 293 , float64 )\n",
      "\t Some values are:\n",
      "\t'nan', '8000.0', '10000.0', '5500.0', '25000.0', '104559.0', '18000.0', '5000.0', '20000.0', '30000.0',  \n",
      "\n",
      "119 >>> YouTubeCodeCourse ( 2 , float64 )\n",
      "\t [nan  1.] \n",
      "\n",
      "120 >>> YouTubeCodingTrain ( 2 , float64 )\n",
      "\t [nan  1.] \n",
      "\n",
      "121 >>> YouTubeCodingTut360 ( 2 , float64 )\n",
      "\t [nan  1.] \n",
      "\n",
      "122 >>> YouTubeComputerphile ( 2 , float64 )\n",
      "\t [nan  1.] \n",
      "\n",
      "123 >>> YouTubeDerekBanas ( 2 , float64 )\n",
      "\t [nan  1.] \n",
      "\n",
      "124 >>> YouTubeDevTips ( 2 , float64 )\n",
      "\t [nan  1.] \n",
      "\n",
      "125 >>> YouTubeEngineeredTruth ( 2 , float64 )\n",
      "\t [nan  1.] \n",
      "\n",
      "126 >>> YouTubeFCC ( 2 , float64 )\n",
      "\t [nan  1.] \n",
      "\n",
      "127 >>> YouTubeFunFunFunction ( 2 , float64 )\n",
      "\t [nan  1.] \n",
      "\n",
      "128 >>> YouTubeGoogleDev ( 2 , float64 )\n",
      "\t [nan  1.] \n",
      "\n",
      "129 >>> YouTubeLearnCode ( 2 , float64 )\n",
      "\t [nan  1.] \n",
      "\n",
      "130 >>> YouTubeLevelUpTuts ( 2 , float64 )\n",
      "\t [nan  1.] \n",
      "\n",
      "131 >>> YouTubeMIT ( 2 , float64 )\n",
      "\t [nan  1.] \n",
      "\n",
      "132 >>> YouTubeMozillaHacks ( 2 , float64 )\n",
      "\t [nan  1.] \n",
      "\n",
      "133 >>> YouTubeOther ( 737 , object )\n",
      "\t Some values are:\n",
      "\t'nan', 'CodingEntrepreneurs', 'Stephen Mayeux', 'traversy media', 'LearnWebCode', 'mmtuts ', 'Sorax', 'sentdex', 'Stephen Mayeux ', 'DevMastery/ Bill Sourour's webinar',  \n",
      "\n",
      "134 >>> YouTubeSimplilearn ( 2 , float64 )\n",
      "\t [nan  1.] \n",
      "\n",
      "135 >>> YouTubeTheNewBoston ( 2 , float64 )\n",
      "\t [nan  1.] \n",
      "\n"
     ]
    }
   ],
   "source": [
    "i = 0\n",
    "for col in survey.columns:\n",
    "    \n",
    "    unique_values = survey[col].unique()\n",
    "    unique_cnt = len(unique_values)\n",
    "    \n",
    "    print( i, \">>>\", col, \"(\", unique_cnt, \",\", survey[col].dtype, \")\" )\n",
    "    \n",
    "    i += 1\n",
    "    \n",
    "    if unique_cnt < 20:\n",
    "        print( \"\\t\", unique_values, \"\\n\" )\n",
    "        \n",
    "    else:\n",
    "        j = 1\n",
    "        print( \"\\t Some values are:\" )\n",
    "        string = \"\\t\"\n",
    "        for val in unique_values:\n",
    "            string += \"'{}', \".format(val)\n",
    "            j += 1\n",
    "            if j == 11:\n",
    "                print( string, \"\\n\" )\n",
    "                break\n",
    "\n"
   ]
  },
  {
   "cell_type": "markdown",
   "metadata": {},
   "source": [
    "I have curiousity to see the distribution of two columns: `Age` and `SchoolDegree`."
   ]
  },
  {
   "cell_type": "markdown",
   "metadata": {},
   "source": [
    "### > `Age` Column"
   ]
  },
  {
   "cell_type": "code",
   "execution_count": 6,
   "metadata": {},
   "outputs": [
    {
     "data": {
      "text/plain": [
       "count    15367.000000\n",
       "mean        27.691872\n",
       "std          8.559239\n",
       "min          0.000000\n",
       "25%         22.000000\n",
       "50%         26.000000\n",
       "75%         32.000000\n",
       "max         90.000000\n",
       "Name: Age, dtype: float64"
      ]
     },
     "execution_count": 6,
     "metadata": {},
     "output_type": "execute_result"
    }
   ],
   "source": [
    "survey['Age'].describe()"
   ]
  },
  {
   "cell_type": "code",
   "execution_count": 7,
   "metadata": {},
   "outputs": [
    {
     "data": {
      "text/plain": [
       "2808"
      ]
     },
     "execution_count": 7,
     "metadata": {},
     "output_type": "execute_result"
    }
   ],
   "source": [
    "survey['Age'].isnull().sum()"
   ]
  },
  {
   "cell_type": "code",
   "execution_count": 118,
   "metadata": {},
   "outputs": [
    {
     "data": {
      "text/plain": [
       "<matplotlib.axes._subplots.AxesSubplot at 0x23be6fc5d88>"
      ]
     },
     "execution_count": 118,
     "metadata": {},
     "output_type": "execute_result"
    },
    {
     "data": {
      "image/png": "[encoded data removed]",
      "text/plain": [
       "<Figure size 720x432 with 1 Axes>"
      ]
     },
     "metadata": {
      "needs_background": "light"
     },
     "output_type": "display_data"
    }
   ],
   "source": [
    "survey['Age'].plot.hist(bins=30, figsize=(10,6))"
   ]
  },
  {
   "cell_type": "code",
   "execution_count": 9,
   "metadata": {},
   "outputs": [
    {
     "data": {
      "text/plain": [
       "<matplotlib.axes._subplots.AxesSubplot at 0x23bde8ec7c8>"
      ]
     },
     "execution_count": 9,
     "metadata": {},
     "output_type": "execute_result"
    },
    {
     "data": {
      "image/png": "[encoded data removed]",
      "text/plain": [
       "<Figure size 720x432 with 1 Axes>"
      ]
     },
     "metadata": {
      "needs_background": "light"
     },
     "output_type": "display_data"
    }
   ],
   "source": [
    "survey['Age'].plot.box(figsize=(10,6))"
   ]
  },
  {
   "cell_type": "code",
   "execution_count": 10,
   "metadata": {
    "scrolled": true
   },
   "outputs": [
    {
     "data": {
      "text/plain": [
       "(67.5, 90.0]         23\n",
       "(45.0, 67.5]        651\n",
       "(22.5, 45.0]      10297\n",
       "(-0.091, 22.5]     4396\n",
       "Name: Age, dtype: int64"
      ]
     },
     "execution_count": 10,
     "metadata": {},
     "output_type": "execute_result"
    }
   ],
   "source": [
    "survey['Age'].value_counts(bins=4).sort_index(ascending=False)"
   ]
  },
  {
   "cell_type": "markdown",
   "metadata": {},
   "source": [
    "### > `SchoolDegree` Column"
   ]
  },
  {
   "cell_type": "code",
   "execution_count": 11,
   "metadata": {
    "scrolled": true
   },
   "outputs": [
    {
     "data": {
      "text/plain": [
       "count                 15368\n",
       "unique                   10\n",
       "top       bachelor's degree\n",
       "freq                   5851\n",
       "Name: SchoolDegree, dtype: object"
      ]
     },
     "execution_count": 11,
     "metadata": {},
     "output_type": "execute_result"
    }
   ],
   "source": [
    "survey['SchoolDegree'].describe()"
   ]
  },
  {
   "cell_type": "code",
   "execution_count": 12,
   "metadata": {},
   "outputs": [
    {
     "data": {
      "text/plain": [
       "2807"
      ]
     },
     "execution_count": 12,
     "metadata": {},
     "output_type": "execute_result"
    }
   ],
   "source": [
    "survey['SchoolDegree'].isnull().sum()"
   ]
  },
  {
   "cell_type": "code",
   "execution_count": 13,
   "metadata": {},
   "outputs": [
    {
     "data": {
      "text/plain": [
       "bachelor's degree                           5851\n",
       "NaN                                         2807\n",
       "some college credit, no degree              2602\n",
       "high school diploma or equivalent (GED)     1872\n",
       "master's degree (non-professional)          1468\n",
       "some high school                            1112\n",
       "professional degree (MBA, MD, JD, etc.)      777\n",
       "associate's degree                           641\n",
       "trade, technical, or vocational training     504\n",
       "no high school (secondary school)            408\n",
       "Ph.D.                                        133\n",
       "Name: SchoolDegree, dtype: int64"
      ]
     },
     "execution_count": 13,
     "metadata": {},
     "output_type": "execute_result"
    }
   ],
   "source": [
    "survey['SchoolDegree'].value_counts(dropna=False)"
   ]
  },
  {
   "cell_type": "code",
   "execution_count": 14,
   "metadata": {},
   "outputs": [
    {
     "data": {
      "text/plain": [
       "bachelor's degree                           0.321926\n",
       "NaN                                         0.154443\n",
       "some college credit, no degree              0.143164\n",
       "high school diploma or equivalent (GED)     0.102999\n",
       "master's degree (non-professional)          0.080770\n",
       "some high school                            0.061183\n",
       "professional degree (MBA, MD, JD, etc.)     0.042751\n",
       "associate's degree                          0.035268\n",
       "trade, technical, or vocational training    0.027730\n",
       "no high school (secondary school)           0.022448\n",
       "Ph.D.                                       0.007318\n",
       "Name: SchoolDegree, dtype: float64"
      ]
     },
     "execution_count": 14,
     "metadata": {},
     "output_type": "execute_result"
    }
   ],
   "source": [
    "survey['SchoolDegree'].value_counts(dropna=False, normalize=True)"
   ]
  },
  {
   "cell_type": "code",
   "execution_count": 15,
   "metadata": {},
   "outputs": [
    {
     "data": {
      "text/plain": [
       "Text(0.5, 0, 'Number of Respondents')"
      ]
     },
     "execution_count": 15,
     "metadata": {},
     "output_type": "execute_result"
    },
    {
     "data": {
      "image/png": "[encoded data removed]",
      "text/plain": [
       "<Figure size 720x432 with 1 Axes>"
      ]
     },
     "metadata": {
      "needs_background": "light"
     },
     "output_type": "display_data"
    }
   ],
   "source": [
    "s = survey['SchoolDegree'].value_counts(dropna=False, ascending=True)\n",
    "\n",
    "\n",
    "import matplotlib.pyplot as plt\n",
    "\n",
    "s.plot.barh(figsize=(10,6))\n",
    "\n",
    "plt.xlabel('Number of Respondents')\n"
   ]
  },
  {
   "cell_type": "markdown",
   "metadata": {},
   "source": [
    "## Checking for Sample Representativity"
   ]
  },
  {
   "cell_type": "markdown",
   "metadata": {},
   "source": [
    "As we mentioned earlier, most of the courses we offer are on __web and mobile development__, but we also cover many other domains, like data science, game development, etc. For the purpose of our analysis, we want to answer questions about a population of new coders that are interested in the subjects we teach. We'd like to know:\n",
    "\n",
    "- Where are these new coders located?\n",
    "\n",
    "\n",
    "- What are the locations with the greatest number of new coders?\n",
    "\n",
    "\n",
    "- How much money new coders are willing to spend on learning?\n",
    "\n",
    "__First__ we need to __figure out whether the sample we have is representative for our population of interest__ and if it has the right categories of people for our purpose."
   ]
  },
  {
   "cell_type": "markdown",
   "metadata": {},
   "source": [
    "### > `JobRoleInterest` Column"
   ]
  },
  {
   "cell_type": "markdown",
   "metadata": {},
   "source": [
    "Let's explore the `JobRoleInterest` column which describes for every participant the role(s) they'd be interested in working."
   ]
  },
  {
   "cell_type": "code",
   "execution_count": 16,
   "metadata": {},
   "outputs": [
    {
     "name": "stdout",
     "output_type": "stream",
     "text": [
      "NaN                                                                                                                                                                                                                                                                                         11183\n",
      "Full-Stack Web Developer                                                                                                                                                                                                                                                                      823\n",
      "  Front-End Web Developer                                                                                                                                                                                                                                                                     450\n",
      "  Data Scientist                                                                                                                                                                                                                                                                              152\n",
      "Back-End Web Developer                                                                                                                                                                                                                                                                        142\n",
      "                                                                                                                                                                                                                                                                                            ...  \n",
      "  Front-End Web Developer,   DevOps / SysAdmin,   Mobile Developer, Full-Stack Web Developer                                                                                                                                                                                                    1\n",
      "Back-End Web Developer,   Front-End Web Developer, Data Engineer, Full-Stack Web Developer,   Mobile Developer                                                                                                                                                                                  1\n",
      "Back-End Web Developer,   User Experience Designer,   Mobile Developer, Game Developer,   Front-End Web Developer, Full-Stack Web Developer                                                                                                                                                     1\n",
      "  Front-End Web Developer,   Mobile Developer, Back-End Web Developer, Full-Stack Web Developer, Data Engineer                                                                                                                                                                                  1\n",
      "  DevOps / SysAdmin,   Mobile Developer,   Product Manager, Game Developer,   Front-End Web Developer, Data Engineer,   Quality Assurance Engineer,   User Experience Designer, Back-End Web Developer,   Data Scientist, Full-Stack Web Developer, Information Security, IT specialist         1\n",
      "Name: JobRoleInterest, Length: 3214, dtype: int64\n"
     ]
    }
   ],
   "source": [
    "print( survey[\"JobRoleInterest\"].value_counts(dropna=False) )"
   ]
  },
  {
   "cell_type": "code",
   "execution_count": 17,
   "metadata": {},
   "outputs": [
    {
     "data": {
      "text/plain": [
       "NaN                                                                            11183\n",
       "Full-Stack Web Developer                                                         823\n",
       "  Front-End Web Developer                                                        450\n",
       "  Data Scientist                                                                 152\n",
       "Back-End Web Developer                                                           142\n",
       "  Mobile Developer                                                               117\n",
       "Game Developer                                                                   114\n",
       "Information Security                                                              92\n",
       "Full-Stack Web Developer,   Front-End Web Developer                               64\n",
       "  Front-End Web Developer, Full-Stack Web Developer                               56\n",
       "  Product Manager                                                                 55\n",
       "Data Engineer                                                                     53\n",
       "  User Experience Designer                                                        52\n",
       "  User Experience Designer,   Front-End Web Developer                             43\n",
       "  Front-End Web Developer, Back-End Web Developer, Full-Stack Web Developer       39\n",
       "Back-End Web Developer, Full-Stack Web Developer,   Front-End Web Developer       36\n",
       "  DevOps / SysAdmin                                                               36\n",
       "Back-End Web Developer,   Front-End Web Developer, Full-Stack Web Developer       36\n",
       "Full-Stack Web Developer,   Front-End Web Developer, Back-End Web Developer       31\n",
       "  Front-End Web Developer, Full-Stack Web Developer, Back-End Web Developer       30\n",
       "Name: JobRoleInterest, dtype: int64"
      ]
     },
     "execution_count": 17,
     "metadata": {},
     "output_type": "execute_result"
    }
   ],
   "source": [
    "survey[\"JobRoleInterest\"].value_counts(dropna=False).head(20)"
   ]
  },
  {
   "cell_type": "code",
   "execution_count": 18,
   "metadata": {},
   "outputs": [
    {
     "data": {
      "text/plain": [
       "NaN                                                                            61.529574\n",
       "Full-Stack Web Developer                                                        4.528198\n",
       "  Front-End Web Developer                                                       2.475928\n",
       "  Data Scientist                                                                0.836314\n",
       "Back-End Web Developer                                                          0.781293\n",
       "  Mobile Developer                                                              0.643741\n",
       "Game Developer                                                                  0.627235\n",
       "Information Security                                                            0.506190\n",
       "Full-Stack Web Developer,   Front-End Web Developer                             0.352132\n",
       "  Front-End Web Developer, Full-Stack Web Developer                             0.308116\n",
       "  Product Manager                                                               0.302613\n",
       "Data Engineer                                                                   0.291609\n",
       "  User Experience Designer                                                      0.286107\n",
       "  User Experience Designer,   Front-End Web Developer                           0.236589\n",
       "  Front-End Web Developer, Back-End Web Developer, Full-Stack Web Developer     0.214580\n",
       "Back-End Web Developer, Full-Stack Web Developer,   Front-End Web Developer     0.198074\n",
       "  DevOps / SysAdmin                                                             0.198074\n",
       "Back-End Web Developer,   Front-End Web Developer, Full-Stack Web Developer     0.198074\n",
       "Full-Stack Web Developer,   Front-End Web Developer, Back-End Web Developer     0.170564\n",
       "  Front-End Web Developer, Full-Stack Web Developer, Back-End Web Developer     0.165062\n",
       "Name: JobRoleInterest, dtype: float64"
      ]
     },
     "execution_count": 18,
     "metadata": {},
     "output_type": "execute_result"
    }
   ],
   "source": [
    "survey[\"JobRoleInterest\"].value_counts(dropna=False, normalize=True).head(20) * 100"
   ]
  },
  {
   "cell_type": "markdown",
   "metadata": {},
   "source": [
    "Let's consider the people (respondents) who answered this question.\n",
    "\n",
    "- Where a participant didn't respond, we can't know for sure what their interests are"
   ]
  },
  {
   "cell_type": "code",
   "execution_count": 19,
   "metadata": {
    "scrolled": false
   },
   "outputs": [
    {
     "data": {
      "text/plain": [
       "Full-Stack Web Developer                                                       823\n",
       "  Front-End Web Developer                                                      450\n",
       "  Data Scientist                                                               152\n",
       "Back-End Web Developer                                                         142\n",
       "  Mobile Developer                                                             117\n",
       "Game Developer                                                                 114\n",
       "Information Security                                                            92\n",
       "Full-Stack Web Developer,   Front-End Web Developer                             64\n",
       "  Front-End Web Developer, Full-Stack Web Developer                             56\n",
       "  Product Manager                                                               55\n",
       "Data Engineer                                                                   53\n",
       "  User Experience Designer                                                      52\n",
       "  User Experience Designer,   Front-End Web Developer                           43\n",
       "  Front-End Web Developer, Back-End Web Developer, Full-Stack Web Developer     39\n",
       "Back-End Web Developer, Full-Stack Web Developer,   Front-End Web Developer     36\n",
       "Back-End Web Developer,   Front-End Web Developer, Full-Stack Web Developer     36\n",
       "  DevOps / SysAdmin                                                             36\n",
       "Full-Stack Web Developer,   Front-End Web Developer, Back-End Web Developer     31\n",
       "  Front-End Web Developer, Full-Stack Web Developer, Back-End Web Developer     30\n",
       "Full-Stack Web Developer,   Mobile Developer                                    29\n",
       "Name: JobRoleInterest, dtype: int64"
      ]
     },
     "execution_count": 19,
     "metadata": {},
     "output_type": "execute_result"
    }
   ],
   "source": [
    "survey[\"JobRoleInterest\"].value_counts().head(20)"
   ]
  },
  {
   "cell_type": "code",
   "execution_count": 20,
   "metadata": {},
   "outputs": [
    {
     "data": {
      "text/plain": [
       "Full-Stack Web Developer                                                       11.770595\n",
       "  Front-End Web Developer                                                       6.435927\n",
       "  Data Scientist                                                                2.173913\n",
       "Back-End Web Developer                                                          2.030892\n",
       "  Mobile Developer                                                              1.673341\n",
       "Game Developer                                                                  1.630435\n",
       "Information Security                                                            1.315789\n",
       "Full-Stack Web Developer,   Front-End Web Developer                             0.915332\n",
       "  Front-End Web Developer, Full-Stack Web Developer                             0.800915\n",
       "  Product Manager                                                               0.786613\n",
       "Data Engineer                                                                   0.758009\n",
       "  User Experience Designer                                                      0.743707\n",
       "  User Experience Designer,   Front-End Web Developer                           0.614989\n",
       "  Front-End Web Developer, Back-End Web Developer, Full-Stack Web Developer     0.557780\n",
       "Back-End Web Developer, Full-Stack Web Developer,   Front-End Web Developer     0.514874\n",
       "Back-End Web Developer,   Front-End Web Developer, Full-Stack Web Developer     0.514874\n",
       "  DevOps / SysAdmin                                                             0.514874\n",
       "Full-Stack Web Developer,   Front-End Web Developer, Back-End Web Developer     0.443364\n",
       "  Front-End Web Developer, Full-Stack Web Developer, Back-End Web Developer     0.429062\n",
       "Full-Stack Web Developer,   Mobile Developer                                    0.414760\n",
       "Name: JobRoleInterest, dtype: float64"
      ]
     },
     "execution_count": 20,
     "metadata": {},
     "output_type": "execute_result"
    }
   ],
   "source": [
    "survey[\"JobRoleInterest\"].value_counts(normalize=True).head(20) * 100"
   ]
  },
  {
   "cell_type": "markdown",
   "metadata": {},
   "source": [
    "__Notice__ that a user (respondant) who is interested in __web development__ could have answered, for example:\n",
    "\n",
    "- Full-Stack Web Developer\n",
    "\n",
    "\n",
    "- Front-End Web Developer\n",
    "\n",
    "\n",
    "- Back-End Web Developer\n",
    "\n",
    "\n",
    "- Front-End Web Developer, Back-End Web Developer, Full-Stack Web Developer"
   ]
  },
  {
   "cell_type": "markdown",
   "metadata": {},
   "source": [
    "First, let's remove the missing/null values:"
   ]
  },
  {
   "cell_type": "code",
   "execution_count": 21,
   "metadata": {},
   "outputs": [
    {
     "name": "stdout",
     "output_type": "stream",
     "text": [
      "Dataframe dimensions: (18175, 136)\n",
      "Number of rows of 'JobRoleInterest' series after removing the null values: (6992,)\n"
     ]
    }
   ],
   "source": [
    "print(\"Dataframe dimensions:\", survey.shape)\n",
    "\n",
    "JobRoleInterest_non_nulls = survey[\"JobRoleInterest\"].dropna()\n",
    "\n",
    "print(\"Number of rows of 'JobRoleInterest' series after removing the null values:\", \\\n",
    "      JobRoleInterest_non_nulls.shape)\n"
   ]
  },
  {
   "cell_type": "markdown",
   "metadata": {},
   "source": [
    "### Next,\n",
    "I want to know the number of occurrences of each __particular__ _Role_ in the `JobRoleInterest` column:"
   ]
  },
  {
   "cell_type": "markdown",
   "metadata": {},
   "source": [
    "Let's use the `split` method to extract each __particular__ _Role_."
   ]
  },
  {
   "cell_type": "code",
   "execution_count": 22,
   "metadata": {},
   "outputs": [],
   "source": [
    "pattern = r\",\\s+\"\n",
    "\n",
    "s1 = JobRoleInterest_non_nulls.str.split(pattern)\n"
   ]
  },
  {
   "cell_type": "code",
   "execution_count": 23,
   "metadata": {
    "scrolled": true
   },
   "outputs": [
    {
     "data": {
      "text/plain": [
       "1                               [Full-Stack Web Developer]\n",
       "2        [  Front-End Web Developer, Back-End Web Devel...\n",
       "3        [  Front-End Web Developer, Full-Stack Web Dev...\n",
       "4        [Full-Stack Web Developer, Information Securit...\n",
       "6                               [Full-Stack Web Developer]\n",
       "                               ...                        \n",
       "18161                           [Full-Stack Web Developer]\n",
       "18162    [  Data Scientist, Game Developer, Quality Ass...\n",
       "18163    [Back-End Web Developer, Data Engineer, Data S...\n",
       "18171    [  DevOps / SysAdmin, Mobile Developer, Produc...\n",
       "18174    [Back-End Web Developer, Data Engineer, Data S...\n",
       "Name: JobRoleInterest, Length: 6992, dtype: object"
      ]
     },
     "execution_count": 23,
     "metadata": {},
     "output_type": "execute_result"
    }
   ],
   "source": [
    "s1"
   ]
  },
  {
   "cell_type": "code",
   "execution_count": 24,
   "metadata": {},
   "outputs": [],
   "source": [
    "def generate_roles_dict(list_):\n",
    "    \n",
    "    for string in list_:\n",
    "        \n",
    "        string_2 = string.strip()\n",
    "        \n",
    "        if string_2 in JobRoleInterest_dict:\n",
    "            JobRoleInterest_dict[string_2] += 1\n",
    "        else:\n",
    "            JobRoleInterest_dict[string_2] = 1\n",
    "\n"
   ]
  },
  {
   "cell_type": "code",
   "execution_count": 25,
   "metadata": {},
   "outputs": [
    {
     "data": {
      "text/plain": [
       "1        None\n",
       "2        None\n",
       "3        None\n",
       "4        None\n",
       "6        None\n",
       "         ... \n",
       "18161    None\n",
       "18162    None\n",
       "18163    None\n",
       "18171    None\n",
       "18174    None\n",
       "Name: JobRoleInterest, Length: 6992, dtype: object"
      ]
     },
     "execution_count": 25,
     "metadata": {},
     "output_type": "execute_result"
    }
   ],
   "source": [
    "JobRoleInterest_dict = {}\n",
    "\n",
    "s1.apply(generate_roles_dict)\n"
   ]
  },
  {
   "cell_type": "code",
   "execution_count": 26,
   "metadata": {
    "scrolled": true
   },
   "outputs": [
    {
     "name": "stdout",
     "output_type": "stream",
     "text": [
      "Number of items (keys) in the Dictionary: 208\n"
     ]
    }
   ],
   "source": [
    "print(\"Number of items (keys) in the Dictionary:\", len(JobRoleInterest_dict))"
   ]
  },
  {
   "cell_type": "markdown",
   "metadata": {},
   "source": [
    "## > Sort a dictionary:\n"
   ]
  },
  {
   "cell_type": "code",
   "execution_count": 115,
   "metadata": {},
   "outputs": [
    {
     "name": "stdout",
     "output_type": "stream",
     "text": [
      "Full-Stack Web Developer : 4198\n",
      "Front-End Web Developer : 3533\n",
      "Back-End Web Developer : 2772\n",
      "Mobile Developer : 2304\n",
      "Data Scientist : 1643\n",
      "Game Developer : 1628\n",
      "User Experience Designer : 1469\n",
      "Information Security : 1326\n",
      "Data Engineer : 1248\n",
      "DevOps / SysAdmin : 927\n"
     ]
    }
   ],
   "source": [
    "for word in sorted(JobRoleInterest_dict, key=JobRoleInterest_dict.get, reverse=True)[:10]:\n",
    "    print(word, \":\", JobRoleInterest_dict[word])\n"
   ]
  },
  {
   "cell_type": "markdown",
   "metadata": {},
   "source": [
    "### Now,\n",
    "Let's see the above numbers in __percentages__:"
   ]
  },
  {
   "cell_type": "code",
   "execution_count": 116,
   "metadata": {},
   "outputs": [
    {
     "name": "stdout",
     "output_type": "stream",
     "text": [
      "Full-Stack Web Developer : 60.04004576659039\n",
      "Front-End Web Developer : 50.52917620137299\n",
      "Back-End Web Developer : 39.64530892448512\n",
      "Mobile Developer : 32.951945080091534\n",
      "Data Scientist : 23.498283752860413\n",
      "Game Developer : 23.283752860411898\n",
      "User Experience Designer : 21.009725400457665\n",
      "Information Security : 18.96453089244851\n",
      "Data Engineer : 17.84897025171625\n",
      "DevOps / SysAdmin : 13.25800915331808\n"
     ]
    }
   ],
   "source": [
    "for word in sorted(JobRoleInterest_dict, key=JobRoleInterest_dict.get, reverse=True)[:10]:\n",
    "    print(word, \":\", JobRoleInterest_dict[word] / 6992 * 100)\n"
   ]
  },
  {
   "cell_type": "markdown",
   "metadata": {},
   "source": [
    "### > Conclusion:\n",
    "We can see in the above cell the job roles that participants (respondents) are most interested in working in.\n",
    "\n",
    "* 60 % of respondents are interested in Full-Stack __Web Development__\n",
    "\n",
    "\n",
    "* 50 % of respondents are interested in Front-End __Web Development__\n",
    "\n",
    "\n",
    "* 40 % of respondents are interested in Back-End __Web Development__\n",
    "\n",
    "\n",
    "* 33 % of respondents are interested in __Mobile Development__\n"
   ]
  },
  {
   "cell_type": "markdown",
   "metadata": {},
   "source": [
    "As we mentioned earlier, most of the courses we offer are on __web and mobile development__, but we also cover many other domains, like data science, game development, etc.\n",
    "\n",
    "### Next, \n",
    "Let's find out how many respondents chose at least one of these two options (__web or mobile development__):"
   ]
  },
  {
   "cell_type": "code",
   "execution_count": 30,
   "metadata": {
    "scrolled": true
   },
   "outputs": [
    {
     "data": {
      "text/plain": [
       "1                              Full-Stack Web Developer\n",
       "2       Front-End Web Developer, Back-End Web Develo...\n",
       "3       Front-End Web Developer, Full-Stack Web Deve...\n",
       "4     Full-Stack Web Developer, Information Security...\n",
       "6                              Full-Stack Web Developer\n",
       "9     Full-Stack Web Developer,   Quality Assurance ...\n",
       "11      DevOps / SysAdmin,   Data Scientist, Informa...\n",
       "13    Back-End Web Developer, Full-Stack Web Develop...\n",
       "14                             Full-Stack Web Developer\n",
       "15                             Full-Stack Web Developer\n",
       "Name: JobRoleInterest, dtype: object"
      ]
     },
     "execution_count": 30,
     "metadata": {},
     "output_type": "execute_result"
    }
   ],
   "source": [
    "JobRoleInterest_non_nulls.head(10)"
   ]
  },
  {
   "cell_type": "code",
   "execution_count": 31,
   "metadata": {},
   "outputs": [
    {
     "data": {
      "text/plain": [
       "'  DevOps / SysAdmin,   Data Scientist, Information Security, Data Engineer'"
      ]
     },
     "execution_count": 31,
     "metadata": {},
     "output_type": "execute_result"
    }
   ],
   "source": [
    "JobRoleInterest_non_nulls.loc[11]"
   ]
  },
  {
   "cell_type": "code",
   "execution_count": 32,
   "metadata": {},
   "outputs": [
    {
     "name": "stdout",
     "output_type": "stream",
     "text": [
      "1      True\n",
      "2      True\n",
      "3      True\n",
      "4      True\n",
      "6      True\n",
      "9      True\n",
      "11    False\n",
      "13     True\n",
      "14     True\n",
      "15     True\n",
      "Name: JobRoleInterest, dtype: bool\n"
     ]
    }
   ],
   "source": [
    "pattern = r\"Web|Mobile Developer\"\n",
    "\n",
    "web_or_mobile = JobRoleInterest_non_nulls.str.contains(pattern)\n",
    "\n",
    "print( web_or_mobile.head(10) )\n"
   ]
  },
  {
   "cell_type": "code",
   "execution_count": 33,
   "metadata": {},
   "outputs": [
    {
     "data": {
      "text/plain": [
       "True     6034\n",
       "False     958\n",
       "Name: JobRoleInterest, dtype: int64"
      ]
     },
     "execution_count": 33,
     "metadata": {},
     "output_type": "execute_result"
    }
   ],
   "source": [
    "web_or_mobile.value_counts()"
   ]
  },
  {
   "cell_type": "code",
   "execution_count": 34,
   "metadata": {
    "scrolled": true
   },
   "outputs": [
    {
     "data": {
      "text/plain": [
       "True     86.298627\n",
       "False    13.701373\n",
       "Name: JobRoleInterest, dtype: float64"
      ]
     },
     "execution_count": 34,
     "metadata": {},
     "output_type": "execute_result"
    }
   ],
   "source": [
    "web_or_mobile.value_counts(normalize=True) * 100"
   ]
  },
  {
   "cell_type": "code",
   "execution_count": 35,
   "metadata": {},
   "outputs": [],
   "source": [
    "freq_table = web_or_mobile.value_counts(normalize=True) * 100\n"
   ]
  },
  {
   "cell_type": "code",
   "execution_count": 36,
   "metadata": {
    "scrolled": true
   },
   "outputs": [
    {
     "data": {
      "image/png": "[encoded data removed]",
      "text/plain": [
       "<Figure size 432x288 with 1 Axes>"
      ]
     },
     "metadata": {
      "needs_background": "light"
     },
     "output_type": "display_data"
    }
   ],
   "source": [
    "#import matplotlib.pyplot as plt\n",
    "\n",
    "freq_table.plot.bar()\n",
    "\n",
    "plt.title('Respondents Interested in Web or Mobile Development', y = 1.08) # y pads the title upward\n",
    "\n",
    "#plt.ylabel('Percentage')\n",
    "plt.ylabel('Percentage', fontsize = 12)\n",
    "\n",
    "plt.xticks( [0,1], ['Web or Mobile\\nDevelopment', 'Other Subject'], rotation=0 )\n",
    "\n",
    "plt.ylim([0,100])\n",
    "\n",
    "\n",
    "plt.show()\n"
   ]
  },
  {
   "cell_type": "markdown",
   "metadata": {},
   "source": [
    "### > Conclusion:\n",
    "\n",
    "The above percentages give us a good reason to consider this sample as __representative__ for our population of interest."
   ]
  },
  {
   "cell_type": "markdown",
   "metadata": {},
   "source": [
    "## New Coders (Respondents) - Locations and Densities"
   ]
  },
  {
   "cell_type": "markdown",
   "metadata": {},
   "source": [
    "Now that we found out that the sample has the right categories of people for our purpose, we can begin analyzing it. We can start with finding out where these new coders are located, and what are the densities (how many coders there are) for each location.\n",
    "\n",
    "The data set provides information about the location of each participant at a country level. The `CountryCitizen` variable describes the country of origin for each participant, and the `CountryLive` variable describes what country each participants lives in (which may be different than the origin country).\n",
    "\n",
    "For our analysis, we'll work with the `CountryLive` variable because we're interested where people actually live at the moment when we run the ads.\n",
    "\n",
    "__Because the data set provides information at a country level, we can think of each country as an individual market.__ \n",
    "\n",
    "This means we can reframe our __GOAL__ as:\n",
    "\n",
    "### - Find the best two markets (countries) to advertise our product in\n"
   ]
  },
  {
   "cell_type": "markdown",
   "metadata": {},
   "source": [
    "One indicator of a good market is the number of potential customers — the more potential customers in a market, the better. If our ads manage to convince 10% of the 5,000 potential customers in market A to buy our product, then this is better than convincing 100% of the 30 potential customers in market B."
   ]
  },
  {
   "cell_type": "code",
   "execution_count": 37,
   "metadata": {},
   "outputs": [
    {
     "data": {
      "text/plain": [
       "(6992, 136)"
      ]
     },
     "execution_count": 37,
     "metadata": {},
     "output_type": "execute_result"
    }
   ],
   "source": [
    "survey_1 = survey.dropna(subset=['JobRoleInterest'])\n",
    "\n",
    "survey_1.shape\n"
   ]
  },
  {
   "cell_type": "code",
   "execution_count": 38,
   "metadata": {
    "scrolled": true
   },
   "outputs": [
    {
     "data": {
      "text/plain": [
       "United States of America    3125\n",
       "India                        528\n",
       "United Kingdom               315\n",
       "Canada                       260\n",
       "NaN                          154\n",
       "                            ... \n",
       "Liberia                        1\n",
       "Papua New Guinea               1\n",
       "Guadeloupe                     1\n",
       "Gibraltar                      1\n",
       "Gambia                         1\n",
       "Name: CountryLive, Length: 138, dtype: int64"
      ]
     },
     "execution_count": 38,
     "metadata": {},
     "output_type": "execute_result"
    }
   ],
   "source": [
    "survey_1[\"CountryLive\"].value_counts(dropna=False)"
   ]
  },
  {
   "cell_type": "code",
   "execution_count": 39,
   "metadata": {
    "scrolled": true
   },
   "outputs": [
    {
     "data": {
      "text/plain": [
       "United States of America    44.693936\n",
       "India                        7.551487\n",
       "United Kingdom               4.505149\n",
       "Canada                       3.718535\n",
       "NaN                          2.202517\n",
       "                              ...    \n",
       "Liberia                      0.014302\n",
       "Papua New Guinea             0.014302\n",
       "Guadeloupe                   0.014302\n",
       "Gibraltar                    0.014302\n",
       "Gambia                       0.014302\n",
       "Name: CountryLive, Length: 138, dtype: float64"
      ]
     },
     "execution_count": 39,
     "metadata": {},
     "output_type": "execute_result"
    }
   ],
   "source": [
    "survey_1[\"CountryLive\"].value_counts(dropna=False, normalize=True) * 100"
   ]
  },
  {
   "cell_type": "code",
   "execution_count": 40,
   "metadata": {},
   "outputs": [
    {
     "data": {
      "text/html": [
       "<div>\n",
       "<style scoped>\n",
       "    .dataframe tbody tr th:only-of-type {\n",
       "        vertical-align: middle;\n",
       "    }\n",
       "\n",
       "    .dataframe tbody tr th {\n",
       "        vertical-align: top;\n",
       "    }\n",
       "\n",
       "    .dataframe thead th {\n",
       "        text-align: right;\n",
       "    }\n",
       "</style>\n",
       "<table border=\"1\" class=\"dataframe\">\n",
       "  <thead>\n",
       "    <tr style=\"text-align: right;\">\n",
       "      <th></th>\n",
       "      <th>Absolute Frequency</th>\n",
       "      <th>Relative Frequency</th>\n",
       "    </tr>\n",
       "  </thead>\n",
       "  <tbody>\n",
       "    <tr>\n",
       "      <th>United States of America</th>\n",
       "      <td>3125</td>\n",
       "      <td>45.700497</td>\n",
       "    </tr>\n",
       "    <tr>\n",
       "      <th>India</th>\n",
       "      <td>528</td>\n",
       "      <td>7.721556</td>\n",
       "    </tr>\n",
       "    <tr>\n",
       "      <th>United Kingdom</th>\n",
       "      <td>315</td>\n",
       "      <td>4.606610</td>\n",
       "    </tr>\n",
       "    <tr>\n",
       "      <th>Canada</th>\n",
       "      <td>260</td>\n",
       "      <td>3.802281</td>\n",
       "    </tr>\n",
       "    <tr>\n",
       "      <th>Poland</th>\n",
       "      <td>131</td>\n",
       "      <td>1.915765</td>\n",
       "    </tr>\n",
       "    <tr>\n",
       "      <th>...</th>\n",
       "      <td>...</td>\n",
       "      <td>...</td>\n",
       "    </tr>\n",
       "    <tr>\n",
       "      <th>Liberia</th>\n",
       "      <td>1</td>\n",
       "      <td>0.014624</td>\n",
       "    </tr>\n",
       "    <tr>\n",
       "      <th>Papua New Guinea</th>\n",
       "      <td>1</td>\n",
       "      <td>0.014624</td>\n",
       "    </tr>\n",
       "    <tr>\n",
       "      <th>Guadeloupe</th>\n",
       "      <td>1</td>\n",
       "      <td>0.014624</td>\n",
       "    </tr>\n",
       "    <tr>\n",
       "      <th>Gibraltar</th>\n",
       "      <td>1</td>\n",
       "      <td>0.014624</td>\n",
       "    </tr>\n",
       "    <tr>\n",
       "      <th>Gambia</th>\n",
       "      <td>1</td>\n",
       "      <td>0.014624</td>\n",
       "    </tr>\n",
       "  </tbody>\n",
       "</table>\n",
       "<p>137 rows × 2 columns</p>\n",
       "</div>"
      ],
      "text/plain": [
       "                          Absolute Frequency  Relative Frequency\n",
       "United States of America                3125           45.700497\n",
       "India                                    528            7.721556\n",
       "United Kingdom                           315            4.606610\n",
       "Canada                                   260            3.802281\n",
       "Poland                                   131            1.915765\n",
       "...                                      ...                 ...\n",
       "Liberia                                    1            0.014624\n",
       "Papua New Guinea                           1            0.014624\n",
       "Guadeloupe                                 1            0.014624\n",
       "Gibraltar                                  1            0.014624\n",
       "Gambia                                     1            0.014624\n",
       "\n",
       "[137 rows x 2 columns]"
      ]
     },
     "execution_count": 40,
     "metadata": {},
     "output_type": "execute_result"
    }
   ],
   "source": [
    "# Let's create a frequency distribution table with the absolute and relative frequencies\n",
    "absolute_frequencies = survey_1[\"CountryLive\"].value_counts()\n",
    "\n",
    "relative_frequencies = survey_1[\"CountryLive\"].value_counts(normalize=True) * 100\n",
    "\n",
    "\n",
    "df = pd.DataFrame( data = {'Absolute Frequency': absolute_frequencies,\n",
    "                      'Relative Frequency': relative_frequencies} )\n",
    "\n",
    "\n",
    "df\n"
   ]
  },
  {
   "cell_type": "code",
   "execution_count": 41,
   "metadata": {
    "scrolled": true
   },
   "outputs": [
    {
     "data": {
      "text/html": [
       "<div>\n",
       "<style scoped>\n",
       "    .dataframe tbody tr th:only-of-type {\n",
       "        vertical-align: middle;\n",
       "    }\n",
       "\n",
       "    .dataframe tbody tr th {\n",
       "        vertical-align: top;\n",
       "    }\n",
       "\n",
       "    .dataframe thead th {\n",
       "        text-align: right;\n",
       "    }\n",
       "</style>\n",
       "<table border=\"1\" class=\"dataframe\">\n",
       "  <thead>\n",
       "    <tr style=\"text-align: right;\">\n",
       "      <th></th>\n",
       "      <th>Absolute Frequency</th>\n",
       "      <th>Relative Frequency</th>\n",
       "    </tr>\n",
       "  </thead>\n",
       "  <tbody>\n",
       "    <tr>\n",
       "      <th>United States of America</th>\n",
       "      <td>3125</td>\n",
       "      <td>45.700497</td>\n",
       "    </tr>\n",
       "    <tr>\n",
       "      <th>India</th>\n",
       "      <td>528</td>\n",
       "      <td>7.721556</td>\n",
       "    </tr>\n",
       "    <tr>\n",
       "      <th>United Kingdom</th>\n",
       "      <td>315</td>\n",
       "      <td>4.606610</td>\n",
       "    </tr>\n",
       "    <tr>\n",
       "      <th>Canada</th>\n",
       "      <td>260</td>\n",
       "      <td>3.802281</td>\n",
       "    </tr>\n",
       "    <tr>\n",
       "      <th>Poland</th>\n",
       "      <td>131</td>\n",
       "      <td>1.915765</td>\n",
       "    </tr>\n",
       "    <tr>\n",
       "      <th>Brazil</th>\n",
       "      <td>129</td>\n",
       "      <td>1.886517</td>\n",
       "    </tr>\n",
       "    <tr>\n",
       "      <th>Germany</th>\n",
       "      <td>125</td>\n",
       "      <td>1.828020</td>\n",
       "    </tr>\n",
       "    <tr>\n",
       "      <th>Australia</th>\n",
       "      <td>112</td>\n",
       "      <td>1.637906</td>\n",
       "    </tr>\n",
       "    <tr>\n",
       "      <th>Russia</th>\n",
       "      <td>102</td>\n",
       "      <td>1.491664</td>\n",
       "    </tr>\n",
       "    <tr>\n",
       "      <th>Ukraine</th>\n",
       "      <td>89</td>\n",
       "      <td>1.301550</td>\n",
       "    </tr>\n",
       "    <tr>\n",
       "      <th>Nigeria</th>\n",
       "      <td>84</td>\n",
       "      <td>1.228429</td>\n",
       "    </tr>\n",
       "    <tr>\n",
       "      <th>Spain</th>\n",
       "      <td>77</td>\n",
       "      <td>1.126060</td>\n",
       "    </tr>\n",
       "    <tr>\n",
       "      <th>France</th>\n",
       "      <td>75</td>\n",
       "      <td>1.096812</td>\n",
       "    </tr>\n",
       "    <tr>\n",
       "      <th>Romania</th>\n",
       "      <td>71</td>\n",
       "      <td>1.038315</td>\n",
       "    </tr>\n",
       "    <tr>\n",
       "      <th>Netherlands (Holland, Europe)</th>\n",
       "      <td>65</td>\n",
       "      <td>0.950570</td>\n",
       "    </tr>\n",
       "    <tr>\n",
       "      <th>Italy</th>\n",
       "      <td>62</td>\n",
       "      <td>0.906698</td>\n",
       "    </tr>\n",
       "    <tr>\n",
       "      <th>Serbia</th>\n",
       "      <td>52</td>\n",
       "      <td>0.760456</td>\n",
       "    </tr>\n",
       "    <tr>\n",
       "      <th>Philippines</th>\n",
       "      <td>52</td>\n",
       "      <td>0.760456</td>\n",
       "    </tr>\n",
       "    <tr>\n",
       "      <th>Greece</th>\n",
       "      <td>46</td>\n",
       "      <td>0.672711</td>\n",
       "    </tr>\n",
       "    <tr>\n",
       "      <th>Ireland</th>\n",
       "      <td>43</td>\n",
       "      <td>0.628839</td>\n",
       "    </tr>\n",
       "  </tbody>\n",
       "</table>\n",
       "</div>"
      ],
      "text/plain": [
       "                               Absolute Frequency  Relative Frequency\n",
       "United States of America                     3125           45.700497\n",
       "India                                         528            7.721556\n",
       "United Kingdom                                315            4.606610\n",
       "Canada                                        260            3.802281\n",
       "Poland                                        131            1.915765\n",
       "Brazil                                        129            1.886517\n",
       "Germany                                       125            1.828020\n",
       "Australia                                     112            1.637906\n",
       "Russia                                        102            1.491664\n",
       "Ukraine                                        89            1.301550\n",
       "Nigeria                                        84            1.228429\n",
       "Spain                                          77            1.126060\n",
       "France                                         75            1.096812\n",
       "Romania                                        71            1.038315\n",
       "Netherlands (Holland, Europe)                  65            0.950570\n",
       "Italy                                          62            0.906698\n",
       "Serbia                                         52            0.760456\n",
       "Philippines                                    52            0.760456\n",
       "Greece                                         46            0.672711\n",
       "Ireland                                        43            0.628839"
      ]
     },
     "execution_count": 41,
     "metadata": {},
     "output_type": "execute_result"
    }
   ],
   "source": [
    "df.head(20)"
   ]
  },
  {
   "cell_type": "markdown",
   "metadata": {},
   "source": [
    "In the above table we can see that\n",
    "\n",
    "- 45.7% of our potential customers are located in the US\n",
    "\n",
    "\n",
    "- India has 7.7% which is not very far from the United Kingdom (4.6%) and Canada (3.8%)\n",
    "\n",
    "We need to go more in depth with our analysis before taking a decision (i.e. conclude which are the two best markets)."
   ]
  },
  {
   "cell_type": "markdown",
   "metadata": {},
   "source": [
    "## Spending Money for Learning"
   ]
  },
  {
   "cell_type": "markdown",
   "metadata": {},
   "source": [
    "We can continue by figuring out __how much money new coders are actually willing to spend on learning.__ Advertising within markets where most people are only willing to learn for free is extremely unlikely to be profitable for us.\n",
    "\n",
    "The `MoneyForLearning` column describes in American dollars the amount of money spent by participants from the moment they started coding until the moment they completed the survey. \n",
    "\n",
    "- __Our company sells subscriptions at a price of $59 per month__, and for this reason we're interested in finding out how much money each student spends _per month_.\n",
    "\n",
    "__Note:__\n",
    "I am not considering the `Income` column because it answers the question: _\"About how much money do you expect to earn per year at your first developer job (in US Dollars)?\"_."
   ]
  },
  {
   "cell_type": "markdown",
   "metadata": {},
   "source": [
    "It also seems like a good idea to narrow down our analysis to only four countries: the US, India, United Kingdom, and Canada. Two reasons for this decision are:\n",
    "\n",
    "1. These are the countries having the highest absolute frequencies in our sample, which means we have a decent amount of data for each.\n",
    "\n",
    "\n",
    "2. Our courses are written in English, and English is an official language in all these four countries. The more people that know English, the better our chances to target the right people with our ads."
   ]
  },
  {
   "cell_type": "code",
   "execution_count": 42,
   "metadata": {},
   "outputs": [
    {
     "name": "stdout",
     "output_type": "stream",
     "text": [
      "1         True\n",
      "2         True\n",
      "3        False\n",
      "4        False\n",
      "6         True\n",
      "         ...  \n",
      "18161    False\n",
      "18162    False\n",
      "18163     True\n",
      "18171    False\n",
      "18174     True\n",
      "Name: CountryLive, Length: 6992, dtype: object\n"
     ]
    },
    {
     "name": "stderr",
     "output_type": "stream",
     "text": [
      "C:\\Users\\helen\\Anaconda3\\lib\\site-packages\\ipykernel_launcher.py:3: UserWarning: This pattern has match groups. To actually get the groups, use str.extract.\n",
      "  This is separate from the ipykernel package so we can avoid doing imports until\n"
     ]
    }
   ],
   "source": [
    "pattern = r\"(United States of America)|(India)|(United Kingdom)|(Canada)\"\n",
    "\n",
    "top_4_countries_bool = survey_1['CountryLive'].str.contains(pattern)\n",
    "\n",
    "print(top_4_countries_bool)\n"
   ]
  },
  {
   "cell_type": "code",
   "execution_count": 43,
   "metadata": {},
   "outputs": [
    {
     "data": {
      "text/plain": [
       "True     4228\n",
       "False    2610\n",
       "NaN       154\n",
       "Name: CountryLive, dtype: int64"
      ]
     },
     "execution_count": 43,
     "metadata": {},
     "output_type": "execute_result"
    }
   ],
   "source": [
    "top_4_countries_bool.value_counts(dropna=False)"
   ]
  },
  {
   "cell_type": "markdown",
   "metadata": {},
   "source": [
    "Let's replace __NaN__ values with __False__:"
   ]
  },
  {
   "cell_type": "code",
   "execution_count": 44,
   "metadata": {},
   "outputs": [
    {
     "name": "stderr",
     "output_type": "stream",
     "text": [
      "C:\\Users\\helen\\Anaconda3\\lib\\site-packages\\ipykernel_launcher.py:1: UserWarning: This pattern has match groups. To actually get the groups, use str.extract.\n",
      "  \"\"\"Entry point for launching an IPython kernel.\n"
     ]
    }
   ],
   "source": [
    "top_4_countries_bool = survey_1['CountryLive'].str.contains(pattern, na=False)"
   ]
  },
  {
   "cell_type": "code",
   "execution_count": 45,
   "metadata": {},
   "outputs": [
    {
     "data": {
      "text/plain": [
       "True     4228\n",
       "False    2764\n",
       "Name: CountryLive, dtype: int64"
      ]
     },
     "execution_count": 45,
     "metadata": {},
     "output_type": "execute_result"
    }
   ],
   "source": [
    "top_4_countries_bool.value_counts(dropna=False)"
   ]
  },
  {
   "cell_type": "markdown",
   "metadata": {},
   "source": [
    "`survey_3` data set contains people (respondents) who are located in: US, India, United Kingdom, or Canada."
   ]
  },
  {
   "cell_type": "code",
   "execution_count": 46,
   "metadata": {},
   "outputs": [
    {
     "data": {
      "text/plain": [
       "(4228, 136)"
      ]
     },
     "execution_count": 46,
     "metadata": {},
     "output_type": "execute_result"
    }
   ],
   "source": [
    "survey_3 = survey_1[top_4_countries_bool].copy()\n",
    "\n",
    "survey_3.shape\n"
   ]
  },
  {
   "cell_type": "markdown",
   "metadata": {},
   "source": [
    "### > MoneyForLearning column:"
   ]
  },
  {
   "cell_type": "markdown",
   "metadata": {},
   "source": [
    "The question of the survey from `MoneyForLearning` was _\"Aside from university tuition, about how much money have you spent on learning to code so far (in US dollars)?\"_"
   ]
  },
  {
   "cell_type": "code",
   "execution_count": 47,
   "metadata": {
    "scrolled": true
   },
   "outputs": [
    {
     "data": {
      "text/plain": [
       "count      4007.000000\n",
       "mean       1100.358622\n",
       "std        5745.662137\n",
       "min           0.000000\n",
       "25%           0.000000\n",
       "50%          20.000000\n",
       "75%         250.000000\n",
       "max      200000.000000\n",
       "Name: MoneyForLearning, dtype: float64"
      ]
     },
     "execution_count": 47,
     "metadata": {},
     "output_type": "execute_result"
    }
   ],
   "source": [
    "survey_3['MoneyForLearning'].describe()"
   ]
  },
  {
   "cell_type": "code",
   "execution_count": 48,
   "metadata": {},
   "outputs": [
    {
     "data": {
      "text/plain": [
       "221"
      ]
     },
     "execution_count": 48,
     "metadata": {},
     "output_type": "execute_result"
    }
   ],
   "source": [
    "survey_3['MoneyForLearning'].isnull().sum()"
   ]
  },
  {
   "cell_type": "code",
   "execution_count": 49,
   "metadata": {},
   "outputs": [
    {
     "name": "stdout",
     "output_type": "stream",
     "text": [
      "mean: 1100.3586224107812\n",
      "\n",
      "std_dev: 5744.945139057177\n"
     ]
    }
   ],
   "source": [
    "mean = survey_3['MoneyForLearning'].mean()\n",
    "print(\"mean:\", mean)\n",
    "\n",
    "std_dev = survey_3['MoneyForLearning'].std(ddof = 0)\n",
    "print(\"\\nstd_dev:\", std_dev)\n"
   ]
  },
  {
   "cell_type": "code",
   "execution_count": 117,
   "metadata": {},
   "outputs": [
    {
     "data": {
      "text/plain": [
       "<matplotlib.legend.Legend at 0x23be6fab508>"
      ]
     },
     "execution_count": 117,
     "metadata": {},
     "output_type": "execute_result"
    },
    {
     "data": {
      "image/png": "[encoded data removed]",
      "text/plain": [
       "<Figure size 720x432 with 1 Axes>"
      ]
     },
     "metadata": {
      "needs_background": "light"
     },
     "output_type": "display_data"
    }
   ],
   "source": [
    "#import matplotlib.pyplot as plt\n",
    "\n",
    "survey_3['MoneyForLearning'].plot.hist(bins=20, figsize=(10,6))\n",
    "\n",
    "plt.axvline(mean, color=\"red\", label=\"Mean\")\n",
    "\n",
    "plt.axvline(mean - std_dev, color=\"yellow\", label=\"Std Dev Below Mean\")\n",
    "\n",
    "plt.axvline(mean + std_dev, color=\"black\", label=\"Std Dev Above Mean\")\n",
    "\n",
    "plt.legend()\n"
   ]
  },
  {
   "cell_type": "markdown",
   "metadata": {},
   "source": [
    "Zoom in:"
   ]
  },
  {
   "cell_type": "code",
   "execution_count": 51,
   "metadata": {},
   "outputs": [
    {
     "data": {
      "text/plain": [
       "(0, 28000)"
      ]
     },
     "execution_count": 51,
     "metadata": {},
     "output_type": "execute_result"
    },
    {
     "data": {
      "image/png": "[encoded data removed]",
      "text/plain": [
       "<Figure size 720x432 with 1 Axes>"
      ]
     },
     "metadata": {
      "needs_background": "light"
     },
     "output_type": "display_data"
    }
   ],
   "source": [
    "survey_3['MoneyForLearning'].plot.hist(bins=50, figsize=(10,6))\n",
    "\n",
    "plt.axvline(mean, color=\"red\", label=\"Mean\")\n",
    "\n",
    "#plt.axvline(mean - std_dev, color=\"yellow\", label=\"Below\")\n",
    "\n",
    "#plt.axvline(mean + std_dev, color=\"black\", label=\"Above\")\n",
    "\n",
    "plt.legend()\n",
    "\n",
    "plt.xlim(0,28000)\n"
   ]
  },
  {
   "cell_type": "code",
   "execution_count": 52,
   "metadata": {},
   "outputs": [
    {
     "data": {
      "text/plain": [
       "(0, 5000)"
      ]
     },
     "execution_count": 52,
     "metadata": {},
     "output_type": "execute_result"
    },
    {
     "data": {
      "image/png": "[encoded data removed]",
      "text/plain": [
       "<Figure size 720x432 with 1 Axes>"
      ]
     },
     "metadata": {
      "needs_background": "light"
     },
     "output_type": "display_data"
    }
   ],
   "source": [
    "survey_3['MoneyForLearning'].plot.hist(bins=600, figsize=(10,6))\n",
    "\n",
    "plt.axvline(mean, color=\"red\", label=\"Mean\")\n",
    "\n",
    "#plt.axvline(mean - std_dev, color=\"yellow\", label=\"Below\")\n",
    "\n",
    "#plt.axvline(mean + std_dev, color=\"black\", label=\"Above\")\n",
    "\n",
    "plt.legend()\n",
    "\n",
    "plt.xlim(0,5000)\n"
   ]
  },
  {
   "cell_type": "code",
   "execution_count": 53,
   "metadata": {
    "scrolled": false
   },
   "outputs": [
    {
     "data": {
      "text/plain": [
       "<matplotlib.axes._subplots.AxesSubplot at 0x23be1e33ec8>"
      ]
     },
     "execution_count": 53,
     "metadata": {},
     "output_type": "execute_result"
    },
    {
     "data": {
      "image/png": "[encoded data removed]",
      "text/plain": [
       "<Figure size 720x432 with 1 Axes>"
      ]
     },
     "metadata": {
      "needs_background": "light"
     },
     "output_type": "display_data"
    }
   ],
   "source": [
    "#survey_3['MoneyForLearning'].plot.box()\n",
    "survey_3['MoneyForLearning'].plot.box(figsize=(10,6))\n"
   ]
  },
  {
   "cell_type": "markdown",
   "metadata": {},
   "source": [
    "Zoom in:"
   ]
  },
  {
   "cell_type": "code",
   "execution_count": 54,
   "metadata": {},
   "outputs": [
    {
     "data": {
      "text/plain": [
       "(0, 1000)"
      ]
     },
     "execution_count": 54,
     "metadata": {},
     "output_type": "execute_result"
    },
    {
     "data": {
      "image/png": "[encoded data removed]",
      "text/plain": [
       "<Figure size 720x432 with 1 Axes>"
      ]
     },
     "metadata": {
      "needs_background": "light"
     },
     "output_type": "display_data"
    }
   ],
   "source": [
    "survey_3['MoneyForLearning'].plot.box(figsize=(10,6))\n",
    "\n",
    "plt.ylim(0,1000)\n"
   ]
  },
  {
   "cell_type": "code",
   "execution_count": 55,
   "metadata": {},
   "outputs": [
    {
     "name": "stdout",
     "output_type": "stream",
     "text": [
      "median: 20.0\n",
      "\n",
      "mode: 0    0.0\n",
      "dtype: float64\n",
      "<class 'pandas.core.series.Series'>\n"
     ]
    }
   ],
   "source": [
    "median = survey_3['MoneyForLearning'].median()\n",
    "print(\"median:\", median)\n",
    "\n",
    "mode = survey_3['MoneyForLearning'].mode()\n",
    "print(\"\\nmode:\", mode)\n",
    "\n",
    "print( type(mode) )\n"
   ]
  },
  {
   "cell_type": "markdown",
   "metadata": {},
   "source": [
    "### > MonthsProgramming column:"
   ]
  },
  {
   "cell_type": "code",
   "execution_count": 56,
   "metadata": {},
   "outputs": [
    {
     "data": {
      "text/plain": [
       "count    4049.000000\n",
       "mean       13.880464\n",
       "std        31.560783\n",
       "min         0.000000\n",
       "25%         2.000000\n",
       "50%         6.000000\n",
       "75%        15.000000\n",
       "max       744.000000\n",
       "Name: MonthsProgramming, dtype: float64"
      ]
     },
     "execution_count": 56,
     "metadata": {},
     "output_type": "execute_result"
    }
   ],
   "source": [
    "survey_3['MonthsProgramming'].describe()"
   ]
  },
  {
   "cell_type": "code",
   "execution_count": 57,
   "metadata": {},
   "outputs": [
    {
     "data": {
      "text/plain": [
       "179"
      ]
     },
     "execution_count": 57,
     "metadata": {},
     "output_type": "execute_result"
    }
   ],
   "source": [
    "survey_3['MonthsProgramming'].isnull().sum()"
   ]
  },
  {
   "cell_type": "code",
   "execution_count": 58,
   "metadata": {},
   "outputs": [
    {
     "data": {
      "text/plain": [
       "1.0      480\n",
       "2.0      401\n",
       "6.0      397\n",
       "12.0     386\n",
       "3.0      380\n",
       "        ... \n",
       "113.0      1\n",
       "43.0       1\n",
       "39.0       1\n",
       "180.0      1\n",
       "89.0       1\n",
       "Name: MonthsProgramming, Length: 81, dtype: int64"
      ]
     },
     "execution_count": 58,
     "metadata": {},
     "output_type": "execute_result"
    }
   ],
   "source": [
    "survey_3['MonthsProgramming'].value_counts(dropna=False)"
   ]
  },
  {
   "cell_type": "code",
   "execution_count": 59,
   "metadata": {},
   "outputs": [
    {
     "data": {
      "text/plain": [
       "1.0     480\n",
       "2.0     401\n",
       "6.0     397\n",
       "12.0    386\n",
       "3.0     380\n",
       "24.0    267\n",
       "4.0     209\n",
       "NaN     179\n",
       "36.0    162\n",
       "5.0     156\n",
       "0.0     150\n",
       "8.0     132\n",
       "18.0     92\n",
       "10.0     83\n",
       "7.0      72\n",
       "Name: MonthsProgramming, dtype: int64"
      ]
     },
     "execution_count": 59,
     "metadata": {},
     "output_type": "execute_result"
    }
   ],
   "source": [
    "survey_3['MonthsProgramming'].value_counts(dropna=False).head(15)"
   ]
  },
  {
   "cell_type": "code",
   "execution_count": 60,
   "metadata": {},
   "outputs": [
    {
     "data": {
      "text/plain": [
       "0.0      150\n",
       "1.0      480\n",
       "2.0      401\n",
       "3.0      380\n",
       "4.0      209\n",
       "        ... \n",
       "360.0      3\n",
       "408.0      1\n",
       "480.0      2\n",
       "744.0      3\n",
       "NaN      179\n",
       "Name: MonthsProgramming, Length: 81, dtype: int64"
      ]
     },
     "execution_count": 60,
     "metadata": {},
     "output_type": "execute_result"
    }
   ],
   "source": [
    "survey_3['MonthsProgramming'].value_counts(dropna=False).sort_index()"
   ]
  },
  {
   "cell_type": "markdown",
   "metadata": {},
   "source": [
    "From the above cell, we can see that some participants (150) answered that they had been learning to code for `0` months (it might be that they had just started when they completed the survey)."
   ]
  },
  {
   "cell_type": "code",
   "execution_count": 61,
   "metadata": {
    "scrolled": false
   },
   "outputs": [
    {
     "data": {
      "text/plain": [
       "<matplotlib.axes._subplots.AxesSubplot at 0x23be151fa88>"
      ]
     },
     "execution_count": 61,
     "metadata": {},
     "output_type": "execute_result"
    },
    {
     "data": {
      "image/png": "[encoded data removed]",
      "text/plain": [
       "<Figure size 720x432 with 1 Axes>"
      ]
     },
     "metadata": {
      "needs_background": "light"
     },
     "output_type": "display_data"
    }
   ],
   "source": [
    "survey_3['MonthsProgramming'].plot.hist(bins=20, figsize=(10,6))"
   ]
  },
  {
   "cell_type": "markdown",
   "metadata": {},
   "source": [
    "Zoom in:"
   ]
  },
  {
   "cell_type": "code",
   "execution_count": 62,
   "metadata": {},
   "outputs": [
    {
     "data": {
      "text/plain": [
       "(0, 80)"
      ]
     },
     "execution_count": 62,
     "metadata": {},
     "output_type": "execute_result"
    },
    {
     "data": {
      "image/png": "[encoded data removed]",
      "text/plain": [
       "<Figure size 720x432 with 1 Axes>"
      ]
     },
     "metadata": {
      "needs_background": "light"
     },
     "output_type": "display_data"
    }
   ],
   "source": [
    "survey_3['MonthsProgramming'].plot.hist(bins=200, figsize=(10,6))\n",
    "\n",
    "plt.xlim(0,80)\n"
   ]
  },
  {
   "cell_type": "code",
   "execution_count": 63,
   "metadata": {},
   "outputs": [
    {
     "data": {
      "text/plain": [
       "<matplotlib.axes._subplots.AxesSubplot at 0x23be2eaadc8>"
      ]
     },
     "execution_count": 63,
     "metadata": {},
     "output_type": "execute_result"
    },
    {
     "data": {
      "image/png": "[encoded data removed]",
      "text/plain": [
       "<Figure size 720x432 with 1 Axes>"
      ]
     },
     "metadata": {
      "needs_background": "light"
     },
     "output_type": "display_data"
    }
   ],
   "source": [
    "survey_3['MonthsProgramming'].plot.box(figsize=(10,6))\n"
   ]
  },
  {
   "cell_type": "markdown",
   "metadata": {},
   "source": [
    "Zoom in:"
   ]
  },
  {
   "cell_type": "code",
   "execution_count": 64,
   "metadata": {},
   "outputs": [
    {
     "data": {
      "text/plain": [
       "(0, 80)"
      ]
     },
     "execution_count": 64,
     "metadata": {},
     "output_type": "execute_result"
    },
    {
     "data": {
      "image/png": "[encoded data removed]",
      "text/plain": [
       "<Figure size 720x432 with 1 Axes>"
      ]
     },
     "metadata": {
      "needs_background": "light"
     },
     "output_type": "display_data"
    }
   ],
   "source": [
    "survey_3['MonthsProgramming'].plot.box(figsize=(10,6))\n",
    "\n",
    "plt.ylim(0,80)\n"
   ]
  },
  {
   "cell_type": "markdown",
   "metadata": {},
   "source": [
    "### Next,\n",
    "Let's create a new column called `spent_per_month` that describes the amount of money a participant (respondent) has spent per month (at the moment they completed the survey).\n",
    "\n",
    "* Some participants answered that they had been learning to code for 0 months (it might be that they had just started when they completed the survey). To avoid dividing by 0, let's replace all the values of 0 with 1."
   ]
  },
  {
   "cell_type": "code",
   "execution_count": 65,
   "metadata": {},
   "outputs": [
    {
     "data": {
      "text/plain": [
       "0.0      150\n",
       "1.0      480\n",
       "2.0      401\n",
       "3.0      380\n",
       "4.0      209\n",
       "        ... \n",
       "360.0      3\n",
       "408.0      1\n",
       "480.0      2\n",
       "744.0      3\n",
       "NaN      179\n",
       "Name: MonthsProgramming, Length: 81, dtype: int64"
      ]
     },
     "execution_count": 65,
     "metadata": {},
     "output_type": "execute_result"
    }
   ],
   "source": [
    "survey_3['MonthsProgramming'].value_counts(dropna=False).sort_index()"
   ]
  },
  {
   "cell_type": "code",
   "execution_count": 66,
   "metadata": {},
   "outputs": [],
   "source": [
    "survey_3['MonthsProgramming'].replace(0, 1, inplace=True)\n"
   ]
  },
  {
   "cell_type": "code",
   "execution_count": 67,
   "metadata": {},
   "outputs": [
    {
     "data": {
      "text/plain": [
       "1.0      630\n",
       "2.0      401\n",
       "3.0      380\n",
       "4.0      209\n",
       "5.0      156\n",
       "        ... \n",
       "360.0      3\n",
       "408.0      1\n",
       "480.0      2\n",
       "744.0      3\n",
       "NaN      179\n",
       "Name: MonthsProgramming, Length: 80, dtype: int64"
      ]
     },
     "execution_count": 67,
     "metadata": {},
     "output_type": "execute_result"
    }
   ],
   "source": [
    "survey_3['MonthsProgramming'].value_counts(dropna=False).sort_index()\n"
   ]
  },
  {
   "cell_type": "code",
   "execution_count": 68,
   "metadata": {},
   "outputs": [
    {
     "data": {
      "text/plain": [
       "count     3915.000000\n",
       "mean       196.990196\n",
       "std       1701.091730\n",
       "min          0.000000\n",
       "25%          0.000000\n",
       "50%          2.000000\n",
       "75%         40.000000\n",
       "max      80000.000000\n",
       "Name: spent_per_month, dtype: float64"
      ]
     },
     "execution_count": 68,
     "metadata": {},
     "output_type": "execute_result"
    }
   ],
   "source": [
    "survey_3['spent_per_month'] = survey_3['MoneyForLearning'] / survey_3['MonthsProgramming']\n",
    "\n",
    "survey_3['spent_per_month'].describe()\n"
   ]
  },
  {
   "cell_type": "code",
   "execution_count": 69,
   "metadata": {},
   "outputs": [
    {
     "data": {
      "text/plain": [
       "313"
      ]
     },
     "execution_count": 69,
     "metadata": {},
     "output_type": "execute_result"
    }
   ],
   "source": [
    "survey_3['spent_per_month'].isnull().sum()"
   ]
  },
  {
   "cell_type": "code",
   "execution_count": 70,
   "metadata": {},
   "outputs": [
    {
     "data": {
      "text/plain": [
       "<matplotlib.axes._subplots.AxesSubplot at 0x23be2e1de88>"
      ]
     },
     "execution_count": 70,
     "metadata": {},
     "output_type": "execute_result"
    },
    {
     "data": {
      "image/png": "[encoded data removed]",
      "text/plain": [
       "<Figure size 720x432 with 1 Axes>"
      ]
     },
     "metadata": {
      "needs_background": "light"
     },
     "output_type": "display_data"
    }
   ],
   "source": [
    "survey_3['spent_per_month'].plot.hist(bins=20, figsize=(10,6))"
   ]
  },
  {
   "cell_type": "markdown",
   "metadata": {},
   "source": [
    "Zoom in:"
   ]
  },
  {
   "cell_type": "code",
   "execution_count": 71,
   "metadata": {},
   "outputs": [
    {
     "data": {
      "text/plain": [
       "(0, 1000)"
      ]
     },
     "execution_count": 71,
     "metadata": {},
     "output_type": "execute_result"
    },
    {
     "data": {
      "image/png": "[encoded data removed]",
      "text/plain": [
       "<Figure size 720x432 with 1 Axes>"
      ]
     },
     "metadata": {
      "needs_background": "light"
     },
     "output_type": "display_data"
    }
   ],
   "source": [
    "survey_3['spent_per_month'].plot.hist(bins=1000, figsize=(10,6))\n",
    "\n",
    "plt.xlim(0,1000)\n"
   ]
  },
  {
   "cell_type": "code",
   "execution_count": 72,
   "metadata": {},
   "outputs": [
    {
     "data": {
      "text/plain": [
       "<matplotlib.axes._subplots.AxesSubplot at 0x23be3114108>"
      ]
     },
     "execution_count": 72,
     "metadata": {},
     "output_type": "execute_result"
    },
    {
     "data": {
      "image/png": "[encoded data removed]",
      "text/plain": [
       "<Figure size 720x432 with 1 Axes>"
      ]
     },
     "metadata": {
      "needs_background": "light"
     },
     "output_type": "display_data"
    }
   ],
   "source": [
    "survey_3['spent_per_month'].plot.box(figsize=(10,6))\n"
   ]
  },
  {
   "cell_type": "code",
   "execution_count": 73,
   "metadata": {},
   "outputs": [
    {
     "data": {
      "text/plain": [
       "(0, 600)"
      ]
     },
     "execution_count": 73,
     "metadata": {},
     "output_type": "execute_result"
    },
    {
     "data": {
      "image/png": "[encoded data removed]",
      "text/plain": [
       "<Figure size 720x432 with 1 Axes>"
      ]
     },
     "metadata": {
      "needs_background": "light"
     },
     "output_type": "display_data"
    }
   ],
   "source": [
    "survey_3['spent_per_month'].plot.box(figsize=(10,6))\n",
    "\n",
    "plt.ylim(0,600)\n"
   ]
  },
  {
   "cell_type": "markdown",
   "metadata": {},
   "source": [
    "### Before dealing with the outliers,\n",
    "Let's find out how much money a participant spends on average each month in the US, India, United Kingdom, and Canada."
   ]
  },
  {
   "cell_type": "markdown",
   "metadata": {},
   "source": [
    "__First__, I will proceed with a data set without __null values__ (aka missing values) in the `spent_per_month` column. The impact is low since they represent only the __7.4 %__ (313 out of 4,228)."
   ]
  },
  {
   "cell_type": "code",
   "execution_count": 74,
   "metadata": {},
   "outputs": [
    {
     "data": {
      "text/plain": [
       "(3915, 137)"
      ]
     },
     "execution_count": 74,
     "metadata": {},
     "output_type": "execute_result"
    }
   ],
   "source": [
    "survey_4 = survey_3[ survey_3['spent_per_month'].notnull() ].copy()\n",
    "\n",
    "survey_4.shape\n"
   ]
  },
  {
   "cell_type": "code",
   "execution_count": 75,
   "metadata": {
    "scrolled": true
   },
   "outputs": [
    {
     "data": {
      "text/plain": [
       "United States of America    2933\n",
       "India                        463\n",
       "United Kingdom               279\n",
       "Canada                       240\n",
       "Name: CountryLive, dtype: int64"
      ]
     },
     "execution_count": 75,
     "metadata": {},
     "output_type": "execute_result"
    }
   ],
   "source": [
    "survey_4['CountryLive'].value_counts(dropna=False)"
   ]
  },
  {
   "cell_type": "code",
   "execution_count": 76,
   "metadata": {},
   "outputs": [
    {
     "data": {
      "text/plain": [
       "United States of America    74.916986\n",
       "India                       11.826309\n",
       "United Kingdom               7.126437\n",
       "Canada                       6.130268\n",
       "Name: CountryLive, dtype: float64"
      ]
     },
     "execution_count": 76,
     "metadata": {},
     "output_type": "execute_result"
    }
   ],
   "source": [
    "survey_4['CountryLive'].value_counts(normalize=True) * 100"
   ]
  },
  {
   "cell_type": "code",
   "execution_count": 77,
   "metadata": {},
   "outputs": [],
   "source": [
    "grouped = survey_4.groupby('CountryLive')"
   ]
  },
  {
   "cell_type": "code",
   "execution_count": 78,
   "metadata": {
    "scrolled": true
   },
   "outputs": [
    {
     "data": {
      "text/plain": [
       "CountryLive\n",
       "Canada                       240\n",
       "India                        463\n",
       "United Kingdom               279\n",
       "United States of America    2933\n",
       "dtype: int64"
      ]
     },
     "execution_count": 78,
     "metadata": {},
     "output_type": "execute_result"
    }
   ],
   "source": [
    "grouped.size()\n"
   ]
  },
  {
   "cell_type": "code",
   "execution_count": 79,
   "metadata": {},
   "outputs": [
    {
     "data": {
      "text/html": [
       "<div>\n",
       "<style scoped>\n",
       "    .dataframe tbody tr th:only-of-type {\n",
       "        vertical-align: middle;\n",
       "    }\n",
       "\n",
       "    .dataframe tbody tr th {\n",
       "        vertical-align: top;\n",
       "    }\n",
       "\n",
       "    .dataframe thead th {\n",
       "        text-align: right;\n",
       "    }\n",
       "</style>\n",
       "<table border=\"1\" class=\"dataframe\">\n",
       "  <thead>\n",
       "    <tr style=\"text-align: right;\">\n",
       "      <th></th>\n",
       "      <th>Age</th>\n",
       "      <th>AttendedBootcamp</th>\n",
       "      <th>BootcampFinish</th>\n",
       "      <th>BootcampLoanYesNo</th>\n",
       "      <th>BootcampRecommend</th>\n",
       "      <th>ChildrenNumber</th>\n",
       "      <th>CodeEventConferences</th>\n",
       "      <th>CodeEventDjangoGirls</th>\n",
       "      <th>CodeEventFCC</th>\n",
       "      <th>CodeEventGameJam</th>\n",
       "      <th>CodeEventGirlDev</th>\n",
       "      <th>CodeEventHackathons</th>\n",
       "      <th>CodeEventMeetup</th>\n",
       "      <th>CodeEventNodeSchool</th>\n",
       "      <th>CodeEventNone</th>\n",
       "      <th>CodeEventRailsBridge</th>\n",
       "      <th>CodeEventRailsGirls</th>\n",
       "      <th>CodeEventStartUpWknd</th>\n",
       "      <th>CodeEventWkdBootcamps</th>\n",
       "      <th>CodeEventWomenCode</th>\n",
       "      <th>CodeEventWorkshops</th>\n",
       "      <th>ExpectedEarning</th>\n",
       "      <th>FinanciallySupporting</th>\n",
       "      <th>FirstDevJob</th>\n",
       "      <th>HasChildren</th>\n",
       "      <th>HasDebt</th>\n",
       "      <th>HasFinancialDependents</th>\n",
       "      <th>HasHighSpdInternet</th>\n",
       "      <th>HasHomeMortgage</th>\n",
       "      <th>HasServedInMilitary</th>\n",
       "      <th>HasStudentDebt</th>\n",
       "      <th>HomeMortgageOwe</th>\n",
       "      <th>HoursLearning</th>\n",
       "      <th>Income</th>\n",
       "      <th>IsEthnicMinority</th>\n",
       "      <th>IsReceiveDisabilitiesBenefits</th>\n",
       "      <th>IsSoftwareDev</th>\n",
       "      <th>IsUnderEmployed</th>\n",
       "      <th>JobInterestBackEnd</th>\n",
       "      <th>JobInterestDataEngr</th>\n",
       "      <th>JobInterestDataSci</th>\n",
       "      <th>JobInterestDevOps</th>\n",
       "      <th>JobInterestFrontEnd</th>\n",
       "      <th>JobInterestFullStack</th>\n",
       "      <th>JobInterestGameDev</th>\n",
       "      <th>JobInterestInfoSec</th>\n",
       "      <th>JobInterestMobile</th>\n",
       "      <th>JobInterestProjMngr</th>\n",
       "      <th>JobInterestQAEngr</th>\n",
       "      <th>JobInterestUX</th>\n",
       "      <th>JobRelocateYesNo</th>\n",
       "      <th>MoneyForLearning</th>\n",
       "      <th>MonthsProgramming</th>\n",
       "      <th>PodcastChangeLog</th>\n",
       "      <th>PodcastCodeNewbie</th>\n",
       "      <th>PodcastCodePen</th>\n",
       "      <th>PodcastDevTea</th>\n",
       "      <th>PodcastDotNET</th>\n",
       "      <th>PodcastGiantRobots</th>\n",
       "      <th>PodcastJSAir</th>\n",
       "      <th>PodcastJSJabber</th>\n",
       "      <th>PodcastNone</th>\n",
       "      <th>PodcastProgThrowdown</th>\n",
       "      <th>PodcastRubyRogues</th>\n",
       "      <th>PodcastSEDaily</th>\n",
       "      <th>PodcastSERadio</th>\n",
       "      <th>PodcastShopTalk</th>\n",
       "      <th>PodcastTalkPython</th>\n",
       "      <th>PodcastTheWebAhead</th>\n",
       "      <th>ResourceCodecademy</th>\n",
       "      <th>ResourceCodeWars</th>\n",
       "      <th>ResourceCoursera</th>\n",
       "      <th>ResourceCSS</th>\n",
       "      <th>ResourceEdX</th>\n",
       "      <th>ResourceEgghead</th>\n",
       "      <th>ResourceFCC</th>\n",
       "      <th>ResourceHackerRank</th>\n",
       "      <th>ResourceKA</th>\n",
       "      <th>ResourceLynda</th>\n",
       "      <th>ResourceMDN</th>\n",
       "      <th>ResourceOdinProj</th>\n",
       "      <th>ResourcePluralSight</th>\n",
       "      <th>ResourceSkillcrush</th>\n",
       "      <th>ResourceSO</th>\n",
       "      <th>ResourceTreehouse</th>\n",
       "      <th>ResourceUdacity</th>\n",
       "      <th>ResourceUdemy</th>\n",
       "      <th>ResourceW3S</th>\n",
       "      <th>StudentDebtOwe</th>\n",
       "      <th>YouTubeCodeCourse</th>\n",
       "      <th>YouTubeCodingTrain</th>\n",
       "      <th>YouTubeCodingTut360</th>\n",
       "      <th>YouTubeComputerphile</th>\n",
       "      <th>YouTubeDerekBanas</th>\n",
       "      <th>YouTubeDevTips</th>\n",
       "      <th>YouTubeEngineeredTruth</th>\n",
       "      <th>YouTubeFCC</th>\n",
       "      <th>YouTubeFunFunFunction</th>\n",
       "      <th>YouTubeGoogleDev</th>\n",
       "      <th>YouTubeLearnCode</th>\n",
       "      <th>YouTubeLevelUpTuts</th>\n",
       "      <th>YouTubeMIT</th>\n",
       "      <th>YouTubeMozillaHacks</th>\n",
       "      <th>YouTubeSimplilearn</th>\n",
       "      <th>YouTubeTheNewBoston</th>\n",
       "      <th>spent_per_month</th>\n",
       "    </tr>\n",
       "    <tr>\n",
       "      <th>CountryLive</th>\n",
       "      <th></th>\n",
       "      <th></th>\n",
       "      <th></th>\n",
       "      <th></th>\n",
       "      <th></th>\n",
       "      <th></th>\n",
       "      <th></th>\n",
       "      <th></th>\n",
       "      <th></th>\n",
       "      <th></th>\n",
       "      <th></th>\n",
       "      <th></th>\n",
       "      <th></th>\n",
       "      <th></th>\n",
       "      <th></th>\n",
       "      <th></th>\n",
       "      <th></th>\n",
       "      <th></th>\n",
       "      <th></th>\n",
       "      <th></th>\n",
       "      <th></th>\n",
       "      <th></th>\n",
       "      <th></th>\n",
       "      <th></th>\n",
       "      <th></th>\n",
       "      <th></th>\n",
       "      <th></th>\n",
       "      <th></th>\n",
       "      <th></th>\n",
       "      <th></th>\n",
       "      <th></th>\n",
       "      <th></th>\n",
       "      <th></th>\n",
       "      <th></th>\n",
       "      <th></th>\n",
       "      <th></th>\n",
       "      <th></th>\n",
       "      <th></th>\n",
       "      <th></th>\n",
       "      <th></th>\n",
       "      <th></th>\n",
       "      <th></th>\n",
       "      <th></th>\n",
       "      <th></th>\n",
       "      <th></th>\n",
       "      <th></th>\n",
       "      <th></th>\n",
       "      <th></th>\n",
       "      <th></th>\n",
       "      <th></th>\n",
       "      <th></th>\n",
       "      <th></th>\n",
       "      <th></th>\n",
       "      <th></th>\n",
       "      <th></th>\n",
       "      <th></th>\n",
       "      <th></th>\n",
       "      <th></th>\n",
       "      <th></th>\n",
       "      <th></th>\n",
       "      <th></th>\n",
       "      <th></th>\n",
       "      <th></th>\n",
       "      <th></th>\n",
       "      <th></th>\n",
       "      <th></th>\n",
       "      <th></th>\n",
       "      <th></th>\n",
       "      <th></th>\n",
       "      <th></th>\n",
       "      <th></th>\n",
       "      <th></th>\n",
       "      <th></th>\n",
       "      <th></th>\n",
       "      <th></th>\n",
       "      <th></th>\n",
       "      <th></th>\n",
       "      <th></th>\n",
       "      <th></th>\n",
       "      <th></th>\n",
       "      <th></th>\n",
       "      <th></th>\n",
       "      <th></th>\n",
       "      <th></th>\n",
       "      <th></th>\n",
       "      <th></th>\n",
       "      <th></th>\n",
       "      <th></th>\n",
       "      <th></th>\n",
       "      <th></th>\n",
       "      <th></th>\n",
       "      <th></th>\n",
       "      <th></th>\n",
       "      <th></th>\n",
       "      <th></th>\n",
       "      <th></th>\n",
       "      <th></th>\n",
       "      <th></th>\n",
       "      <th></th>\n",
       "      <th></th>\n",
       "      <th></th>\n",
       "      <th></th>\n",
       "      <th></th>\n",
       "      <th></th>\n",
       "      <th></th>\n",
       "      <th></th>\n",
       "    </tr>\n",
       "  </thead>\n",
       "  <tbody>\n",
       "    <tr>\n",
       "      <th>Canada</th>\n",
       "      <td>26.924686</td>\n",
       "      <td>0.037657</td>\n",
       "      <td>0.625000</td>\n",
       "      <td>0.222222</td>\n",
       "      <td>0.555556</td>\n",
       "      <td>1.888889</td>\n",
       "      <td>1.0</td>\n",
       "      <td>NaN</td>\n",
       "      <td>1.0</td>\n",
       "      <td>1.0</td>\n",
       "      <td>NaN</td>\n",
       "      <td>1.0</td>\n",
       "      <td>1.0</td>\n",
       "      <td>1.0</td>\n",
       "      <td>1.0</td>\n",
       "      <td>NaN</td>\n",
       "      <td>1.0</td>\n",
       "      <td>1.0</td>\n",
       "      <td>1.0</td>\n",
       "      <td>1.0</td>\n",
       "      <td>1.0</td>\n",
       "      <td>51474.200913</td>\n",
       "      <td>0.324324</td>\n",
       "      <td>NaN</td>\n",
       "      <td>0.777778</td>\n",
       "      <td>0.485356</td>\n",
       "      <td>0.155462</td>\n",
       "      <td>0.957983</td>\n",
       "      <td>0.241379</td>\n",
       "      <td>0.037975</td>\n",
       "      <td>0.747826</td>\n",
       "      <td>214703.650000</td>\n",
       "      <td>16.083333</td>\n",
       "      <td>32227.623762</td>\n",
       "      <td>0.382353</td>\n",
       "      <td>0.025424</td>\n",
       "      <td>0.0</td>\n",
       "      <td>0.596639</td>\n",
       "      <td>1.0</td>\n",
       "      <td>1.0</td>\n",
       "      <td>1.0</td>\n",
       "      <td>1.0</td>\n",
       "      <td>1.0</td>\n",
       "      <td>1.0</td>\n",
       "      <td>1.0</td>\n",
       "      <td>1.0</td>\n",
       "      <td>1.0</td>\n",
       "      <td>1.0</td>\n",
       "      <td>1.0</td>\n",
       "      <td>1.0</td>\n",
       "      <td>0.723958</td>\n",
       "      <td>831.366667</td>\n",
       "      <td>11.887500</td>\n",
       "      <td>1.0</td>\n",
       "      <td>1.0</td>\n",
       "      <td>1.0</td>\n",
       "      <td>1.0</td>\n",
       "      <td>1.0</td>\n",
       "      <td>1.0</td>\n",
       "      <td>1.0</td>\n",
       "      <td>1.0</td>\n",
       "      <td>1.0</td>\n",
       "      <td>1.0</td>\n",
       "      <td>1.0</td>\n",
       "      <td>1.0</td>\n",
       "      <td>1.0</td>\n",
       "      <td>1.0</td>\n",
       "      <td>1.0</td>\n",
       "      <td>1.0</td>\n",
       "      <td>1.0</td>\n",
       "      <td>1.0</td>\n",
       "      <td>1.0</td>\n",
       "      <td>1.0</td>\n",
       "      <td>1.0</td>\n",
       "      <td>1.0</td>\n",
       "      <td>1.0</td>\n",
       "      <td>1.0</td>\n",
       "      <td>1.0</td>\n",
       "      <td>1.0</td>\n",
       "      <td>1.0</td>\n",
       "      <td>1.0</td>\n",
       "      <td>1.0</td>\n",
       "      <td>NaN</td>\n",
       "      <td>1.0</td>\n",
       "      <td>1.0</td>\n",
       "      <td>1.0</td>\n",
       "      <td>1.0</td>\n",
       "      <td>1.0</td>\n",
       "      <td>19582.951807</td>\n",
       "      <td>1.0</td>\n",
       "      <td>1.0</td>\n",
       "      <td>1.0</td>\n",
       "      <td>1.0</td>\n",
       "      <td>1.0</td>\n",
       "      <td>1.0</td>\n",
       "      <td>1.0</td>\n",
       "      <td>1.0</td>\n",
       "      <td>1.0</td>\n",
       "      <td>1.0</td>\n",
       "      <td>1.0</td>\n",
       "      <td>1.0</td>\n",
       "      <td>1.0</td>\n",
       "      <td>1.0</td>\n",
       "      <td>NaN</td>\n",
       "      <td>1.0</td>\n",
       "      <td>113.510961</td>\n",
       "    </tr>\n",
       "    <tr>\n",
       "      <th>India</th>\n",
       "      <td>21.458515</td>\n",
       "      <td>0.015184</td>\n",
       "      <td>0.166667</td>\n",
       "      <td>0.166667</td>\n",
       "      <td>0.833333</td>\n",
       "      <td>1.333333</td>\n",
       "      <td>1.0</td>\n",
       "      <td>1.0</td>\n",
       "      <td>1.0</td>\n",
       "      <td>1.0</td>\n",
       "      <td>1.0</td>\n",
       "      <td>1.0</td>\n",
       "      <td>1.0</td>\n",
       "      <td>1.0</td>\n",
       "      <td>1.0</td>\n",
       "      <td>1.0</td>\n",
       "      <td>1.0</td>\n",
       "      <td>1.0</td>\n",
       "      <td>1.0</td>\n",
       "      <td>1.0</td>\n",
       "      <td>1.0</td>\n",
       "      <td>64741.656471</td>\n",
       "      <td>0.408163</td>\n",
       "      <td>NaN</td>\n",
       "      <td>0.122449</td>\n",
       "      <td>0.144420</td>\n",
       "      <td>0.106291</td>\n",
       "      <td>0.724512</td>\n",
       "      <td>0.234375</td>\n",
       "      <td>0.004357</td>\n",
       "      <td>0.569231</td>\n",
       "      <td>34884.000000</td>\n",
       "      <td>21.052863</td>\n",
       "      <td>40183.384615</td>\n",
       "      <td>0.144766</td>\n",
       "      <td>0.010941</td>\n",
       "      <td>0.0</td>\n",
       "      <td>0.623188</td>\n",
       "      <td>1.0</td>\n",
       "      <td>1.0</td>\n",
       "      <td>1.0</td>\n",
       "      <td>1.0</td>\n",
       "      <td>1.0</td>\n",
       "      <td>1.0</td>\n",
       "      <td>1.0</td>\n",
       "      <td>1.0</td>\n",
       "      <td>1.0</td>\n",
       "      <td>1.0</td>\n",
       "      <td>1.0</td>\n",
       "      <td>1.0</td>\n",
       "      <td>0.903465</td>\n",
       "      <td>788.330454</td>\n",
       "      <td>14.265659</td>\n",
       "      <td>1.0</td>\n",
       "      <td>1.0</td>\n",
       "      <td>1.0</td>\n",
       "      <td>1.0</td>\n",
       "      <td>1.0</td>\n",
       "      <td>1.0</td>\n",
       "      <td>1.0</td>\n",
       "      <td>1.0</td>\n",
       "      <td>1.0</td>\n",
       "      <td>1.0</td>\n",
       "      <td>1.0</td>\n",
       "      <td>1.0</td>\n",
       "      <td>1.0</td>\n",
       "      <td>1.0</td>\n",
       "      <td>1.0</td>\n",
       "      <td>1.0</td>\n",
       "      <td>1.0</td>\n",
       "      <td>1.0</td>\n",
       "      <td>1.0</td>\n",
       "      <td>1.0</td>\n",
       "      <td>1.0</td>\n",
       "      <td>1.0</td>\n",
       "      <td>1.0</td>\n",
       "      <td>1.0</td>\n",
       "      <td>1.0</td>\n",
       "      <td>1.0</td>\n",
       "      <td>1.0</td>\n",
       "      <td>1.0</td>\n",
       "      <td>1.0</td>\n",
       "      <td>1.0</td>\n",
       "      <td>1.0</td>\n",
       "      <td>1.0</td>\n",
       "      <td>1.0</td>\n",
       "      <td>1.0</td>\n",
       "      <td>1.0</td>\n",
       "      <td>13218.857143</td>\n",
       "      <td>1.0</td>\n",
       "      <td>1.0</td>\n",
       "      <td>1.0</td>\n",
       "      <td>1.0</td>\n",
       "      <td>1.0</td>\n",
       "      <td>1.0</td>\n",
       "      <td>1.0</td>\n",
       "      <td>1.0</td>\n",
       "      <td>1.0</td>\n",
       "      <td>1.0</td>\n",
       "      <td>1.0</td>\n",
       "      <td>1.0</td>\n",
       "      <td>1.0</td>\n",
       "      <td>1.0</td>\n",
       "      <td>1.0</td>\n",
       "      <td>1.0</td>\n",
       "      <td>135.100982</td>\n",
       "    </tr>\n",
       "    <tr>\n",
       "      <th>United Kingdom</th>\n",
       "      <td>28.620939</td>\n",
       "      <td>0.025090</td>\n",
       "      <td>0.714286</td>\n",
       "      <td>0.571429</td>\n",
       "      <td>0.857143</td>\n",
       "      <td>1.833333</td>\n",
       "      <td>1.0</td>\n",
       "      <td>1.0</td>\n",
       "      <td>1.0</td>\n",
       "      <td>1.0</td>\n",
       "      <td>NaN</td>\n",
       "      <td>1.0</td>\n",
       "      <td>1.0</td>\n",
       "      <td>1.0</td>\n",
       "      <td>1.0</td>\n",
       "      <td>NaN</td>\n",
       "      <td>1.0</td>\n",
       "      <td>1.0</td>\n",
       "      <td>1.0</td>\n",
       "      <td>1.0</td>\n",
       "      <td>1.0</td>\n",
       "      <td>41374.562500</td>\n",
       "      <td>0.078431</td>\n",
       "      <td>NaN</td>\n",
       "      <td>0.823529</td>\n",
       "      <td>0.442029</td>\n",
       "      <td>0.184783</td>\n",
       "      <td>0.896057</td>\n",
       "      <td>0.233333</td>\n",
       "      <td>0.025271</td>\n",
       "      <td>0.721311</td>\n",
       "      <td>159971.095238</td>\n",
       "      <td>14.433333</td>\n",
       "      <td>31962.259740</td>\n",
       "      <td>0.227941</td>\n",
       "      <td>0.017986</td>\n",
       "      <td>0.0</td>\n",
       "      <td>0.609890</td>\n",
       "      <td>1.0</td>\n",
       "      <td>1.0</td>\n",
       "      <td>1.0</td>\n",
       "      <td>1.0</td>\n",
       "      <td>1.0</td>\n",
       "      <td>1.0</td>\n",
       "      <td>1.0</td>\n",
       "      <td>1.0</td>\n",
       "      <td>1.0</td>\n",
       "      <td>1.0</td>\n",
       "      <td>1.0</td>\n",
       "      <td>1.0</td>\n",
       "      <td>0.684874</td>\n",
       "      <td>327.616487</td>\n",
       "      <td>12.408602</td>\n",
       "      <td>1.0</td>\n",
       "      <td>1.0</td>\n",
       "      <td>1.0</td>\n",
       "      <td>1.0</td>\n",
       "      <td>1.0</td>\n",
       "      <td>1.0</td>\n",
       "      <td>1.0</td>\n",
       "      <td>1.0</td>\n",
       "      <td>1.0</td>\n",
       "      <td>1.0</td>\n",
       "      <td>1.0</td>\n",
       "      <td>1.0</td>\n",
       "      <td>1.0</td>\n",
       "      <td>1.0</td>\n",
       "      <td>1.0</td>\n",
       "      <td>1.0</td>\n",
       "      <td>1.0</td>\n",
       "      <td>1.0</td>\n",
       "      <td>1.0</td>\n",
       "      <td>1.0</td>\n",
       "      <td>1.0</td>\n",
       "      <td>1.0</td>\n",
       "      <td>1.0</td>\n",
       "      <td>1.0</td>\n",
       "      <td>1.0</td>\n",
       "      <td>1.0</td>\n",
       "      <td>1.0</td>\n",
       "      <td>1.0</td>\n",
       "      <td>1.0</td>\n",
       "      <td>1.0</td>\n",
       "      <td>1.0</td>\n",
       "      <td>1.0</td>\n",
       "      <td>1.0</td>\n",
       "      <td>1.0</td>\n",
       "      <td>1.0</td>\n",
       "      <td>33773.112500</td>\n",
       "      <td>1.0</td>\n",
       "      <td>1.0</td>\n",
       "      <td>1.0</td>\n",
       "      <td>1.0</td>\n",
       "      <td>1.0</td>\n",
       "      <td>1.0</td>\n",
       "      <td>1.0</td>\n",
       "      <td>1.0</td>\n",
       "      <td>1.0</td>\n",
       "      <td>1.0</td>\n",
       "      <td>1.0</td>\n",
       "      <td>1.0</td>\n",
       "      <td>1.0</td>\n",
       "      <td>1.0</td>\n",
       "      <td>1.0</td>\n",
       "      <td>1.0</td>\n",
       "      <td>45.534443</td>\n",
       "    </tr>\n",
       "    <tr>\n",
       "      <th>United States of America</th>\n",
       "      <td>29.382282</td>\n",
       "      <td>0.081877</td>\n",
       "      <td>0.529661</td>\n",
       "      <td>0.341772</td>\n",
       "      <td>0.772152</td>\n",
       "      <td>1.918367</td>\n",
       "      <td>1.0</td>\n",
       "      <td>1.0</td>\n",
       "      <td>1.0</td>\n",
       "      <td>1.0</td>\n",
       "      <td>1.0</td>\n",
       "      <td>1.0</td>\n",
       "      <td>1.0</td>\n",
       "      <td>1.0</td>\n",
       "      <td>1.0</td>\n",
       "      <td>1.0</td>\n",
       "      <td>1.0</td>\n",
       "      <td>1.0</td>\n",
       "      <td>1.0</td>\n",
       "      <td>1.0</td>\n",
       "      <td>1.0</td>\n",
       "      <td>64750.206041</td>\n",
       "      <td>0.120815</td>\n",
       "      <td>NaN</td>\n",
       "      <td>0.785612</td>\n",
       "      <td>0.622421</td>\n",
       "      <td>0.238668</td>\n",
       "      <td>0.948920</td>\n",
       "      <td>0.245838</td>\n",
       "      <td>0.070888</td>\n",
       "      <td>0.701832</td>\n",
       "      <td>178653.680519</td>\n",
       "      <td>16.065776</td>\n",
       "      <td>43370.772643</td>\n",
       "      <td>0.351584</td>\n",
       "      <td>0.024785</td>\n",
       "      <td>0.0</td>\n",
       "      <td>0.553480</td>\n",
       "      <td>1.0</td>\n",
       "      <td>1.0</td>\n",
       "      <td>1.0</td>\n",
       "      <td>1.0</td>\n",
       "      <td>1.0</td>\n",
       "      <td>1.0</td>\n",
       "      <td>1.0</td>\n",
       "      <td>1.0</td>\n",
       "      <td>1.0</td>\n",
       "      <td>1.0</td>\n",
       "      <td>1.0</td>\n",
       "      <td>1.0</td>\n",
       "      <td>0.725255</td>\n",
       "      <td>1262.607228</td>\n",
       "      <td>13.959086</td>\n",
       "      <td>1.0</td>\n",
       "      <td>1.0</td>\n",
       "      <td>1.0</td>\n",
       "      <td>1.0</td>\n",
       "      <td>1.0</td>\n",
       "      <td>1.0</td>\n",
       "      <td>1.0</td>\n",
       "      <td>1.0</td>\n",
       "      <td>1.0</td>\n",
       "      <td>1.0</td>\n",
       "      <td>1.0</td>\n",
       "      <td>1.0</td>\n",
       "      <td>1.0</td>\n",
       "      <td>1.0</td>\n",
       "      <td>1.0</td>\n",
       "      <td>1.0</td>\n",
       "      <td>1.0</td>\n",
       "      <td>1.0</td>\n",
       "      <td>1.0</td>\n",
       "      <td>1.0</td>\n",
       "      <td>1.0</td>\n",
       "      <td>1.0</td>\n",
       "      <td>1.0</td>\n",
       "      <td>1.0</td>\n",
       "      <td>1.0</td>\n",
       "      <td>1.0</td>\n",
       "      <td>1.0</td>\n",
       "      <td>1.0</td>\n",
       "      <td>1.0</td>\n",
       "      <td>1.0</td>\n",
       "      <td>1.0</td>\n",
       "      <td>1.0</td>\n",
       "      <td>1.0</td>\n",
       "      <td>1.0</td>\n",
       "      <td>1.0</td>\n",
       "      <td>37087.119565</td>\n",
       "      <td>1.0</td>\n",
       "      <td>1.0</td>\n",
       "      <td>1.0</td>\n",
       "      <td>1.0</td>\n",
       "      <td>1.0</td>\n",
       "      <td>1.0</td>\n",
       "      <td>1.0</td>\n",
       "      <td>1.0</td>\n",
       "      <td>1.0</td>\n",
       "      <td>1.0</td>\n",
       "      <td>1.0</td>\n",
       "      <td>1.0</td>\n",
       "      <td>1.0</td>\n",
       "      <td>1.0</td>\n",
       "      <td>1.0</td>\n",
       "      <td>1.0</td>\n",
       "      <td>227.997996</td>\n",
       "    </tr>\n",
       "  </tbody>\n",
       "</table>\n",
       "</div>"
      ],
      "text/plain": [
       "                                Age  AttendedBootcamp  BootcampFinish  \\\n",
       "CountryLive                                                             \n",
       "Canada                    26.924686          0.037657        0.625000   \n",
       "India                     21.458515          0.015184        0.166667   \n",
       "United Kingdom            28.620939          0.025090        0.714286   \n",
       "United States of America  29.382282          0.081877        0.529661   \n",
       "\n",
       "                          BootcampLoanYesNo  BootcampRecommend  \\\n",
       "CountryLive                                                      \n",
       "Canada                             0.222222           0.555556   \n",
       "India                              0.166667           0.833333   \n",
       "United Kingdom                     0.571429           0.857143   \n",
       "United States of America           0.341772           0.772152   \n",
       "\n",
       "                          ChildrenNumber  CodeEventConferences  \\\n",
       "CountryLive                                                      \n",
       "Canada                          1.888889                   1.0   \n",
       "India                           1.333333                   1.0   \n",
       "United Kingdom                  1.833333                   1.0   \n",
       "United States of America        1.918367                   1.0   \n",
       "\n",
       "                          CodeEventDjangoGirls  CodeEventFCC  \\\n",
       "CountryLive                                                    \n",
       "Canada                                     NaN           1.0   \n",
       "India                                      1.0           1.0   \n",
       "United Kingdom                             1.0           1.0   \n",
       "United States of America                   1.0           1.0   \n",
       "\n",
       "                          CodeEventGameJam  CodeEventGirlDev  \\\n",
       "CountryLive                                                    \n",
       "Canada                                 1.0               NaN   \n",
       "India                                  1.0               1.0   \n",
       "United Kingdom                         1.0               NaN   \n",
       "United States of America               1.0               1.0   \n",
       "\n",
       "                          CodeEventHackathons  CodeEventMeetup  \\\n",
       "CountryLive                                                      \n",
       "Canada                                    1.0              1.0   \n",
       "India                                     1.0              1.0   \n",
       "United Kingdom                            1.0              1.0   \n",
       "United States of America                  1.0              1.0   \n",
       "\n",
       "                          CodeEventNodeSchool  CodeEventNone  \\\n",
       "CountryLive                                                    \n",
       "Canada                                    1.0            1.0   \n",
       "India                                     1.0            1.0   \n",
       "United Kingdom                            1.0            1.0   \n",
       "United States of America                  1.0            1.0   \n",
       "\n",
       "                          CodeEventRailsBridge  CodeEventRailsGirls  \\\n",
       "CountryLive                                                           \n",
       "Canada                                     NaN                  1.0   \n",
       "India                                      1.0                  1.0   \n",
       "United Kingdom                             NaN                  1.0   \n",
       "United States of America                   1.0                  1.0   \n",
       "\n",
       "                          CodeEventStartUpWknd  CodeEventWkdBootcamps  \\\n",
       "CountryLive                                                             \n",
       "Canada                                     1.0                    1.0   \n",
       "India                                      1.0                    1.0   \n",
       "United Kingdom                             1.0                    1.0   \n",
       "United States of America                   1.0                    1.0   \n",
       "\n",
       "                          CodeEventWomenCode  CodeEventWorkshops  \\\n",
       "CountryLive                                                        \n",
       "Canada                                   1.0                 1.0   \n",
       "India                                    1.0                 1.0   \n",
       "United Kingdom                           1.0                 1.0   \n",
       "United States of America                 1.0                 1.0   \n",
       "\n",
       "                          ExpectedEarning  FinanciallySupporting  FirstDevJob  \\\n",
       "CountryLive                                                                     \n",
       "Canada                       51474.200913               0.324324          NaN   \n",
       "India                        64741.656471               0.408163          NaN   \n",
       "United Kingdom               41374.562500               0.078431          NaN   \n",
       "United States of America     64750.206041               0.120815          NaN   \n",
       "\n",
       "                          HasChildren   HasDebt  HasFinancialDependents  \\\n",
       "CountryLive                                                               \n",
       "Canada                       0.777778  0.485356                0.155462   \n",
       "India                        0.122449  0.144420                0.106291   \n",
       "United Kingdom               0.823529  0.442029                0.184783   \n",
       "United States of America     0.785612  0.622421                0.238668   \n",
       "\n",
       "                          HasHighSpdInternet  HasHomeMortgage  \\\n",
       "CountryLive                                                     \n",
       "Canada                              0.957983         0.241379   \n",
       "India                               0.724512         0.234375   \n",
       "United Kingdom                      0.896057         0.233333   \n",
       "United States of America            0.948920         0.245838   \n",
       "\n",
       "                          HasServedInMilitary  HasStudentDebt  \\\n",
       "CountryLive                                                     \n",
       "Canada                               0.037975        0.747826   \n",
       "India                                0.004357        0.569231   \n",
       "United Kingdom                       0.025271        0.721311   \n",
       "United States of America             0.070888        0.701832   \n",
       "\n",
       "                          HomeMortgageOwe  HoursLearning        Income  \\\n",
       "CountryLive                                                              \n",
       "Canada                      214703.650000      16.083333  32227.623762   \n",
       "India                        34884.000000      21.052863  40183.384615   \n",
       "United Kingdom              159971.095238      14.433333  31962.259740   \n",
       "United States of America    178653.680519      16.065776  43370.772643   \n",
       "\n",
       "                          IsEthnicMinority  IsReceiveDisabilitiesBenefits  \\\n",
       "CountryLive                                                                 \n",
       "Canada                            0.382353                       0.025424   \n",
       "India                             0.144766                       0.010941   \n",
       "United Kingdom                    0.227941                       0.017986   \n",
       "United States of America          0.351584                       0.024785   \n",
       "\n",
       "                          IsSoftwareDev  IsUnderEmployed  JobInterestBackEnd  \\\n",
       "CountryLive                                                                    \n",
       "Canada                              0.0         0.596639                 1.0   \n",
       "India                               0.0         0.623188                 1.0   \n",
       "United Kingdom                      0.0         0.609890                 1.0   \n",
       "United States of America            0.0         0.553480                 1.0   \n",
       "\n",
       "                          JobInterestDataEngr  JobInterestDataSci  \\\n",
       "CountryLive                                                         \n",
       "Canada                                    1.0                 1.0   \n",
       "India                                     1.0                 1.0   \n",
       "United Kingdom                            1.0                 1.0   \n",
       "United States of America                  1.0                 1.0   \n",
       "\n",
       "                          JobInterestDevOps  JobInterestFrontEnd  \\\n",
       "CountryLive                                                        \n",
       "Canada                                  1.0                  1.0   \n",
       "India                                   1.0                  1.0   \n",
       "United Kingdom                          1.0                  1.0   \n",
       "United States of America                1.0                  1.0   \n",
       "\n",
       "                          JobInterestFullStack  JobInterestGameDev  \\\n",
       "CountryLive                                                          \n",
       "Canada                                     1.0                 1.0   \n",
       "India                                      1.0                 1.0   \n",
       "United Kingdom                             1.0                 1.0   \n",
       "United States of America                   1.0                 1.0   \n",
       "\n",
       "                          JobInterestInfoSec  JobInterestMobile  \\\n",
       "CountryLive                                                       \n",
       "Canada                                   1.0                1.0   \n",
       "India                                    1.0                1.0   \n",
       "United Kingdom                           1.0                1.0   \n",
       "United States of America                 1.0                1.0   \n",
       "\n",
       "                          JobInterestProjMngr  JobInterestQAEngr  \\\n",
       "CountryLive                                                        \n",
       "Canada                                    1.0                1.0   \n",
       "India                                     1.0                1.0   \n",
       "United Kingdom                            1.0                1.0   \n",
       "United States of America                  1.0                1.0   \n",
       "\n",
       "                          JobInterestUX  JobRelocateYesNo  MoneyForLearning  \\\n",
       "CountryLive                                                                   \n",
       "Canada                              1.0          0.723958        831.366667   \n",
       "India                               1.0          0.903465        788.330454   \n",
       "United Kingdom                      1.0          0.684874        327.616487   \n",
       "United States of America            1.0          0.725255       1262.607228   \n",
       "\n",
       "                          MonthsProgramming  PodcastChangeLog  \\\n",
       "CountryLive                                                     \n",
       "Canada                            11.887500               1.0   \n",
       "India                             14.265659               1.0   \n",
       "United Kingdom                    12.408602               1.0   \n",
       "United States of America          13.959086               1.0   \n",
       "\n",
       "                          PodcastCodeNewbie  PodcastCodePen  PodcastDevTea  \\\n",
       "CountryLive                                                                  \n",
       "Canada                                  1.0             1.0            1.0   \n",
       "India                                   1.0             1.0            1.0   \n",
       "United Kingdom                          1.0             1.0            1.0   \n",
       "United States of America                1.0             1.0            1.0   \n",
       "\n",
       "                          PodcastDotNET  PodcastGiantRobots  PodcastJSAir  \\\n",
       "CountryLive                                                                 \n",
       "Canada                              1.0                 1.0           1.0   \n",
       "India                               1.0                 1.0           1.0   \n",
       "United Kingdom                      1.0                 1.0           1.0   \n",
       "United States of America            1.0                 1.0           1.0   \n",
       "\n",
       "                          PodcastJSJabber  PodcastNone  PodcastProgThrowdown  \\\n",
       "CountryLive                                                                    \n",
       "Canada                                1.0          1.0                   1.0   \n",
       "India                                 1.0          1.0                   1.0   \n",
       "United Kingdom                        1.0          1.0                   1.0   \n",
       "United States of America              1.0          1.0                   1.0   \n",
       "\n",
       "                          PodcastRubyRogues  PodcastSEDaily  PodcastSERadio  \\\n",
       "CountryLive                                                                   \n",
       "Canada                                  1.0             1.0             1.0   \n",
       "India                                   1.0             1.0             1.0   \n",
       "United Kingdom                          1.0             1.0             1.0   \n",
       "United States of America                1.0             1.0             1.0   \n",
       "\n",
       "                          PodcastShopTalk  PodcastTalkPython  \\\n",
       "CountryLive                                                    \n",
       "Canada                                1.0                1.0   \n",
       "India                                 1.0                1.0   \n",
       "United Kingdom                        1.0                1.0   \n",
       "United States of America              1.0                1.0   \n",
       "\n",
       "                          PodcastTheWebAhead  ResourceCodecademy  \\\n",
       "CountryLive                                                        \n",
       "Canada                                   1.0                 1.0   \n",
       "India                                    1.0                 1.0   \n",
       "United Kingdom                           1.0                 1.0   \n",
       "United States of America                 1.0                 1.0   \n",
       "\n",
       "                          ResourceCodeWars  ResourceCoursera  ResourceCSS  \\\n",
       "CountryLive                                                                 \n",
       "Canada                                 1.0               1.0          1.0   \n",
       "India                                  1.0               1.0          1.0   \n",
       "United Kingdom                         1.0               1.0          1.0   \n",
       "United States of America               1.0               1.0          1.0   \n",
       "\n",
       "                          ResourceEdX  ResourceEgghead  ResourceFCC  \\\n",
       "CountryLive                                                           \n",
       "Canada                            1.0              1.0          1.0   \n",
       "India                             1.0              1.0          1.0   \n",
       "United Kingdom                    1.0              1.0          1.0   \n",
       "United States of America          1.0              1.0          1.0   \n",
       "\n",
       "                          ResourceHackerRank  ResourceKA  ResourceLynda  \\\n",
       "CountryLive                                                               \n",
       "Canada                                   1.0         1.0            1.0   \n",
       "India                                    1.0         1.0            1.0   \n",
       "United Kingdom                           1.0         1.0            1.0   \n",
       "United States of America                 1.0         1.0            1.0   \n",
       "\n",
       "                          ResourceMDN  ResourceOdinProj  ResourcePluralSight  \\\n",
       "CountryLive                                                                    \n",
       "Canada                            1.0               1.0                  1.0   \n",
       "India                             1.0               1.0                  1.0   \n",
       "United Kingdom                    1.0               1.0                  1.0   \n",
       "United States of America          1.0               1.0                  1.0   \n",
       "\n",
       "                          ResourceSkillcrush  ResourceSO  ResourceTreehouse  \\\n",
       "CountryLive                                                                   \n",
       "Canada                                   NaN         1.0                1.0   \n",
       "India                                    1.0         1.0                1.0   \n",
       "United Kingdom                           1.0         1.0                1.0   \n",
       "United States of America                 1.0         1.0                1.0   \n",
       "\n",
       "                          ResourceUdacity  ResourceUdemy  ResourceW3S  \\\n",
       "CountryLive                                                             \n",
       "Canada                                1.0            1.0          1.0   \n",
       "India                                 1.0            1.0          1.0   \n",
       "United Kingdom                        1.0            1.0          1.0   \n",
       "United States of America              1.0            1.0          1.0   \n",
       "\n",
       "                          StudentDebtOwe  YouTubeCodeCourse  \\\n",
       "CountryLive                                                   \n",
       "Canada                      19582.951807                1.0   \n",
       "India                       13218.857143                1.0   \n",
       "United Kingdom              33773.112500                1.0   \n",
       "United States of America    37087.119565                1.0   \n",
       "\n",
       "                          YouTubeCodingTrain  YouTubeCodingTut360  \\\n",
       "CountryLive                                                         \n",
       "Canada                                   1.0                  1.0   \n",
       "India                                    1.0                  1.0   \n",
       "United Kingdom                           1.0                  1.0   \n",
       "United States of America                 1.0                  1.0   \n",
       "\n",
       "                          YouTubeComputerphile  YouTubeDerekBanas  \\\n",
       "CountryLive                                                         \n",
       "Canada                                     1.0                1.0   \n",
       "India                                      1.0                1.0   \n",
       "United Kingdom                             1.0                1.0   \n",
       "United States of America                   1.0                1.0   \n",
       "\n",
       "                          YouTubeDevTips  YouTubeEngineeredTruth  YouTubeFCC  \\\n",
       "CountryLive                                                                    \n",
       "Canada                               1.0                     1.0         1.0   \n",
       "India                                1.0                     1.0         1.0   \n",
       "United Kingdom                       1.0                     1.0         1.0   \n",
       "United States of America             1.0                     1.0         1.0   \n",
       "\n",
       "                          YouTubeFunFunFunction  YouTubeGoogleDev  \\\n",
       "CountryLive                                                         \n",
       "Canada                                      1.0               1.0   \n",
       "India                                       1.0               1.0   \n",
       "United Kingdom                              1.0               1.0   \n",
       "United States of America                    1.0               1.0   \n",
       "\n",
       "                          YouTubeLearnCode  YouTubeLevelUpTuts  YouTubeMIT  \\\n",
       "CountryLive                                                                  \n",
       "Canada                                 1.0                 1.0         1.0   \n",
       "India                                  1.0                 1.0         1.0   \n",
       "United Kingdom                         1.0                 1.0         1.0   \n",
       "United States of America               1.0                 1.0         1.0   \n",
       "\n",
       "                          YouTubeMozillaHacks  YouTubeSimplilearn  \\\n",
       "CountryLive                                                         \n",
       "Canada                                    1.0                 NaN   \n",
       "India                                     1.0                 1.0   \n",
       "United Kingdom                            1.0                 1.0   \n",
       "United States of America                  1.0                 1.0   \n",
       "\n",
       "                          YouTubeTheNewBoston  spent_per_month  \n",
       "CountryLive                                                     \n",
       "Canada                                    1.0       113.510961  \n",
       "India                                     1.0       135.100982  \n",
       "United Kingdom                            1.0        45.534443  \n",
       "United States of America                  1.0       227.997996  "
      ]
     },
     "execution_count": 79,
     "metadata": {},
     "output_type": "execute_result"
    }
   ],
   "source": [
    "grouped.mean()\n"
   ]
  },
  {
   "cell_type": "code",
   "execution_count": 80,
   "metadata": {},
   "outputs": [
    {
     "name": "stdout",
     "output_type": "stream",
     "text": [
      "<class 'pandas.core.frame.DataFrame'>\n"
     ]
    }
   ],
   "source": [
    "countries_mean = grouped.mean()\n",
    "\n",
    "print( type(countries_mean) )\n"
   ]
  },
  {
   "cell_type": "code",
   "execution_count": 81,
   "metadata": {
    "scrolled": true
   },
   "outputs": [
    {
     "data": {
      "text/plain": [
       "CountryLive\n",
       "Canada                      113.510961\n",
       "India                       135.100982\n",
       "United Kingdom               45.534443\n",
       "United States of America    227.997996\n",
       "Name: spent_per_month, dtype: float64"
      ]
     },
     "execution_count": 81,
     "metadata": {},
     "output_type": "execute_result"
    }
   ],
   "source": [
    "countries_mean['spent_per_month']"
   ]
  },
  {
   "cell_type": "markdown",
   "metadata": {},
   "source": [
    "## Dealing with Extreme Outliers"
   ]
  },
  {
   "cell_type": "markdown",
   "metadata": {},
   "source": [
    "The above results for the United Kingdom and Canada are surprisingly low relative to the values we see for India. If we considered a few socio-economical metrics --like [GDP per capita](https://en.wikipedia.org/wiki/List_of_countries_by_GDP_(PPP)_per_capita#Lists_of_countries_and_dependencies)--, we would intuitively expect people in the UK and Canada to spend more on learning than people in India.\n",
    "\n",
    "It might be that:\n",
    "\n",
    "- we don't have have enough representative data from the United Kingdom, Canada, and India; or\n",
    "\n",
    "\n",
    "- we have some __outliers__ making the mean high for India and lower for the UK and Canada; or\n",
    "\n",
    "\n",
    "- the results are correct"
   ]
  },
  {
   "cell_type": "markdown",
   "metadata": {},
   "source": [
    "I think that the __outliers__ may be coming from\n",
    "- participants that have attended several bootcamps (which tend to be expensive); or\n",
    "\n",
    "\n",
    "- wrong survey answers\n",
    "\n",
    "\n",
    "Let's generate four box plots on the same figure to visualize for each country (US, India, United Kingdom, Canada) the distribution of the variable that describes how much money each participant had spent per month."
   ]
  },
  {
   "cell_type": "code",
   "execution_count": 82,
   "metadata": {},
   "outputs": [
    {
     "name": "stderr",
     "output_type": "stream",
     "text": [
      "C:\\Users\\helen\\Anaconda3\\lib\\site-packages\\statsmodels\\tools\\_testing.py:19: FutureWarning: pandas.util.testing is deprecated. Use the functions in the public API at pandas.testing instead.\n",
      "  import pandas.util.testing as tm\n"
     ]
    },
    {
     "data": {
      "image/png": "[encoded data removed]",
      "text/plain": [
       "<Figure size 720x432 with 1 Axes>"
      ]
     },
     "metadata": {
      "needs_background": "light"
     },
     "output_type": "display_data"
    }
   ],
   "source": [
    "import seaborn as sns\n",
    "\n",
    "fig, ax = plt.subplots(figsize=(10,6))\n",
    "\n",
    "sns.boxplot( ax = ax, x = 'CountryLive', y = 'spent_per_month', data = survey_4 )\n",
    "\n",
    "\n",
    "plt.title('Money Spent Per Month Per Country\\n(Distributions)', fontsize = 16)\n",
    "\n",
    "plt.ylabel('Money per month (US dollars)')\n",
    "\n",
    "plt.xlabel('Country')\n",
    "\n",
    "#plt.xticks(range(4), ['US', 'UK', 'India', 'Canada']) # avoids tick labels overlap\n",
    "\n",
    "plt.show()\n"
   ]
  },
  {
   "cell_type": "markdown",
   "metadata": {},
   "source": [
    "Zoom in:"
   ]
  },
  {
   "cell_type": "code",
   "execution_count": 83,
   "metadata": {
    "scrolled": false
   },
   "outputs": [
    {
     "data": {
      "image/png": "[encoded data removed]",
      "text/plain": [
       "<Figure size 720x432 with 1 Axes>"
      ]
     },
     "metadata": {
      "needs_background": "light"
     },
     "output_type": "display_data"
    }
   ],
   "source": [
    "fig, ax = plt.subplots(figsize=(10,6))\n",
    "\n",
    "sns.boxplot( ax = ax, x = 'CountryLive', y = 'spent_per_month', data = survey_4 )\n",
    "\n",
    "\n",
    "plt.title('Money Spent Per Month Per Country\\n(Distributions)', fontsize = 16)\n",
    "\n",
    "plt.ylabel('Money per month (US dollars)')\n",
    "\n",
    "plt.xlabel('Country')\n",
    "\n",
    "#plt.xticks(range(4), ['US', 'UK', 'India', 'Canada']) # avoids tick labels overlap\n",
    "\n",
    "plt.ylim(0,20000)\n",
    "\n",
    "plt.show()\n"
   ]
  },
  {
   "cell_type": "code",
   "execution_count": 84,
   "metadata": {},
   "outputs": [
    {
     "data": {
      "image/png": "[encoded data removed]",
      "text/plain": [
       "<Figure size 720x432 with 1 Axes>"
      ]
     },
     "metadata": {
      "needs_background": "light"
     },
     "output_type": "display_data"
    }
   ],
   "source": [
    "fig, ax = plt.subplots(figsize=(10,6))\n",
    "\n",
    "sns.boxplot( ax = ax, x = 'CountryLive', y = 'spent_per_month', data = survey_4 )\n",
    "\n",
    "\n",
    "plt.title('Money Spent Per Month Per Country\\n(Distributions)', fontsize = 16)\n",
    "\n",
    "plt.ylabel('Money per month (US dollars)')\n",
    "\n",
    "plt.xlabel('Country')\n",
    "\n",
    "#plt.xticks(range(4), ['US', 'UK', 'India', 'Canada']) # avoids tick labels overlap\n",
    "\n",
    "plt.ylim(0,2500)\n",
    "\n",
    "plt.show()\n"
   ]
  },
  {
   "cell_type": "markdown",
   "metadata": {},
   "source": [
    "### > India\n",
    "Let's examine the data/rows associated with `spent_per_month` > 2,500 (USD):"
   ]
  },
  {
   "cell_type": "code",
   "execution_count": 85,
   "metadata": {},
   "outputs": [],
   "source": [
    "above_2500_bool = survey_4['spent_per_month'] > 2500\n"
   ]
  },
  {
   "cell_type": "code",
   "execution_count": 86,
   "metadata": {},
   "outputs": [
    {
     "name": "stdout",
     "output_type": "stream",
     "text": [
      "(6, 137)\n"
     ]
    },
    {
     "data": {
      "text/html": [
       "<div>\n",
       "<style scoped>\n",
       "    .dataframe tbody tr th:only-of-type {\n",
       "        vertical-align: middle;\n",
       "    }\n",
       "\n",
       "    .dataframe tbody tr th {\n",
       "        vertical-align: top;\n",
       "    }\n",
       "\n",
       "    .dataframe thead th {\n",
       "        text-align: right;\n",
       "    }\n",
       "</style>\n",
       "<table border=\"1\" class=\"dataframe\">\n",
       "  <thead>\n",
       "    <tr style=\"text-align: right;\">\n",
       "      <th></th>\n",
       "      <th>Age</th>\n",
       "      <th>AttendedBootcamp</th>\n",
       "      <th>BootcampFinish</th>\n",
       "      <th>BootcampLoanYesNo</th>\n",
       "      <th>BootcampName</th>\n",
       "      <th>BootcampRecommend</th>\n",
       "      <th>ChildrenNumber</th>\n",
       "      <th>CityPopulation</th>\n",
       "      <th>CodeEventConferences</th>\n",
       "      <th>CodeEventDjangoGirls</th>\n",
       "      <th>CodeEventFCC</th>\n",
       "      <th>CodeEventGameJam</th>\n",
       "      <th>CodeEventGirlDev</th>\n",
       "      <th>CodeEventHackathons</th>\n",
       "      <th>CodeEventMeetup</th>\n",
       "      <th>CodeEventNodeSchool</th>\n",
       "      <th>CodeEventNone</th>\n",
       "      <th>CodeEventOther</th>\n",
       "      <th>CodeEventRailsBridge</th>\n",
       "      <th>CodeEventRailsGirls</th>\n",
       "      <th>CodeEventStartUpWknd</th>\n",
       "      <th>CodeEventWkdBootcamps</th>\n",
       "      <th>CodeEventWomenCode</th>\n",
       "      <th>CodeEventWorkshops</th>\n",
       "      <th>CommuteTime</th>\n",
       "      <th>CountryCitizen</th>\n",
       "      <th>CountryLive</th>\n",
       "      <th>EmploymentField</th>\n",
       "      <th>EmploymentFieldOther</th>\n",
       "      <th>EmploymentStatus</th>\n",
       "      <th>EmploymentStatusOther</th>\n",
       "      <th>ExpectedEarning</th>\n",
       "      <th>FinanciallySupporting</th>\n",
       "      <th>FirstDevJob</th>\n",
       "      <th>Gender</th>\n",
       "      <th>GenderOther</th>\n",
       "      <th>HasChildren</th>\n",
       "      <th>HasDebt</th>\n",
       "      <th>HasFinancialDependents</th>\n",
       "      <th>HasHighSpdInternet</th>\n",
       "      <th>HasHomeMortgage</th>\n",
       "      <th>HasServedInMilitary</th>\n",
       "      <th>HasStudentDebt</th>\n",
       "      <th>HomeMortgageOwe</th>\n",
       "      <th>HoursLearning</th>\n",
       "      <th>ID.x</th>\n",
       "      <th>ID.y</th>\n",
       "      <th>Income</th>\n",
       "      <th>IsEthnicMinority</th>\n",
       "      <th>IsReceiveDisabilitiesBenefits</th>\n",
       "      <th>IsSoftwareDev</th>\n",
       "      <th>IsUnderEmployed</th>\n",
       "      <th>JobApplyWhen</th>\n",
       "      <th>JobInterestBackEnd</th>\n",
       "      <th>JobInterestDataEngr</th>\n",
       "      <th>JobInterestDataSci</th>\n",
       "      <th>JobInterestDevOps</th>\n",
       "      <th>JobInterestFrontEnd</th>\n",
       "      <th>JobInterestFullStack</th>\n",
       "      <th>JobInterestGameDev</th>\n",
       "      <th>JobInterestInfoSec</th>\n",
       "      <th>JobInterestMobile</th>\n",
       "      <th>JobInterestOther</th>\n",
       "      <th>JobInterestProjMngr</th>\n",
       "      <th>JobInterestQAEngr</th>\n",
       "      <th>JobInterestUX</th>\n",
       "      <th>JobPref</th>\n",
       "      <th>JobRelocateYesNo</th>\n",
       "      <th>JobRoleInterest</th>\n",
       "      <th>JobWherePref</th>\n",
       "      <th>LanguageAtHome</th>\n",
       "      <th>MaritalStatus</th>\n",
       "      <th>MoneyForLearning</th>\n",
       "      <th>MonthsProgramming</th>\n",
       "      <th>NetworkID</th>\n",
       "      <th>Part1EndTime</th>\n",
       "      <th>Part1StartTime</th>\n",
       "      <th>Part2EndTime</th>\n",
       "      <th>Part2StartTime</th>\n",
       "      <th>PodcastChangeLog</th>\n",
       "      <th>PodcastCodeNewbie</th>\n",
       "      <th>PodcastCodePen</th>\n",
       "      <th>PodcastDevTea</th>\n",
       "      <th>PodcastDotNET</th>\n",
       "      <th>PodcastGiantRobots</th>\n",
       "      <th>PodcastJSAir</th>\n",
       "      <th>PodcastJSJabber</th>\n",
       "      <th>PodcastNone</th>\n",
       "      <th>PodcastOther</th>\n",
       "      <th>PodcastProgThrowdown</th>\n",
       "      <th>PodcastRubyRogues</th>\n",
       "      <th>PodcastSEDaily</th>\n",
       "      <th>PodcastSERadio</th>\n",
       "      <th>PodcastShopTalk</th>\n",
       "      <th>PodcastTalkPython</th>\n",
       "      <th>PodcastTheWebAhead</th>\n",
       "      <th>ResourceCodecademy</th>\n",
       "      <th>ResourceCodeWars</th>\n",
       "      <th>ResourceCoursera</th>\n",
       "      <th>ResourceCSS</th>\n",
       "      <th>ResourceEdX</th>\n",
       "      <th>ResourceEgghead</th>\n",
       "      <th>ResourceFCC</th>\n",
       "      <th>ResourceHackerRank</th>\n",
       "      <th>ResourceKA</th>\n",
       "      <th>ResourceLynda</th>\n",
       "      <th>ResourceMDN</th>\n",
       "      <th>ResourceOdinProj</th>\n",
       "      <th>ResourceOther</th>\n",
       "      <th>ResourcePluralSight</th>\n",
       "      <th>ResourceSkillcrush</th>\n",
       "      <th>ResourceSO</th>\n",
       "      <th>ResourceTreehouse</th>\n",
       "      <th>ResourceUdacity</th>\n",
       "      <th>ResourceUdemy</th>\n",
       "      <th>ResourceW3S</th>\n",
       "      <th>SchoolDegree</th>\n",
       "      <th>SchoolMajor</th>\n",
       "      <th>StudentDebtOwe</th>\n",
       "      <th>YouTubeCodeCourse</th>\n",
       "      <th>YouTubeCodingTrain</th>\n",
       "      <th>YouTubeCodingTut360</th>\n",
       "      <th>YouTubeComputerphile</th>\n",
       "      <th>YouTubeDerekBanas</th>\n",
       "      <th>YouTubeDevTips</th>\n",
       "      <th>YouTubeEngineeredTruth</th>\n",
       "      <th>YouTubeFCC</th>\n",
       "      <th>YouTubeFunFunFunction</th>\n",
       "      <th>YouTubeGoogleDev</th>\n",
       "      <th>YouTubeLearnCode</th>\n",
       "      <th>YouTubeLevelUpTuts</th>\n",
       "      <th>YouTubeMIT</th>\n",
       "      <th>YouTubeMozillaHacks</th>\n",
       "      <th>YouTubeOther</th>\n",
       "      <th>YouTubeSimplilearn</th>\n",
       "      <th>YouTubeTheNewBoston</th>\n",
       "      <th>spent_per_month</th>\n",
       "    </tr>\n",
       "  </thead>\n",
       "  <tbody>\n",
       "    <tr>\n",
       "      <th>1728</th>\n",
       "      <td>24.0</td>\n",
       "      <td>0.0</td>\n",
       "      <td>NaN</td>\n",
       "      <td>NaN</td>\n",
       "      <td>NaN</td>\n",
       "      <td>NaN</td>\n",
       "      <td>NaN</td>\n",
       "      <td>between 100,000 and 1 million</td>\n",
       "      <td>NaN</td>\n",
       "      <td>NaN</td>\n",
       "      <td>NaN</td>\n",
       "      <td>1.0</td>\n",
       "      <td>NaN</td>\n",
       "      <td>NaN</td>\n",
       "      <td>NaN</td>\n",
       "      <td>NaN</td>\n",
       "      <td>NaN</td>\n",
       "      <td>NaN</td>\n",
       "      <td>NaN</td>\n",
       "      <td>NaN</td>\n",
       "      <td>NaN</td>\n",
       "      <td>NaN</td>\n",
       "      <td>NaN</td>\n",
       "      <td>NaN</td>\n",
       "      <td>NaN</td>\n",
       "      <td>India</td>\n",
       "      <td>India</td>\n",
       "      <td>NaN</td>\n",
       "      <td>NaN</td>\n",
       "      <td>A stay-at-home parent or homemaker</td>\n",
       "      <td>NaN</td>\n",
       "      <td>70000.0</td>\n",
       "      <td>NaN</td>\n",
       "      <td>NaN</td>\n",
       "      <td>male</td>\n",
       "      <td>NaN</td>\n",
       "      <td>NaN</td>\n",
       "      <td>0.0</td>\n",
       "      <td>0.0</td>\n",
       "      <td>1.0</td>\n",
       "      <td>NaN</td>\n",
       "      <td>0.0</td>\n",
       "      <td>NaN</td>\n",
       "      <td>NaN</td>\n",
       "      <td>30.0</td>\n",
       "      <td>d964ec629fd6d85a5bf27f7339f4fa6d</td>\n",
       "      <td>950a8cf9cef1ae6a15da470e572b1b7a</td>\n",
       "      <td>NaN</td>\n",
       "      <td>0.0</td>\n",
       "      <td>0.0</td>\n",
       "      <td>0.0</td>\n",
       "      <td>NaN</td>\n",
       "      <td>Within the next 6 months</td>\n",
       "      <td>1.0</td>\n",
       "      <td>NaN</td>\n",
       "      <td>NaN</td>\n",
       "      <td>NaN</td>\n",
       "      <td>1.0</td>\n",
       "      <td>NaN</td>\n",
       "      <td>NaN</td>\n",
       "      <td>NaN</td>\n",
       "      <td>1.0</td>\n",
       "      <td>NaN</td>\n",
       "      <td>1.0</td>\n",
       "      <td>NaN</td>\n",
       "      <td>1.0</td>\n",
       "      <td>work for a startup</td>\n",
       "      <td>1.0</td>\n",
       "      <td>User Experience Designer,   Mobile Developer...</td>\n",
       "      <td>in an office with other developers</td>\n",
       "      <td>Bengali</td>\n",
       "      <td>single, never married</td>\n",
       "      <td>20000.0</td>\n",
       "      <td>4.0</td>\n",
       "      <td>38d312a990</td>\n",
       "      <td>2017-03-10 10:22:34</td>\n",
       "      <td>2017-03-10 10:17:42</td>\n",
       "      <td>2017-03-10 10:24:38</td>\n",
       "      <td>2017-03-10 10:22:40</td>\n",
       "      <td>NaN</td>\n",
       "      <td>NaN</td>\n",
       "      <td>NaN</td>\n",
       "      <td>NaN</td>\n",
       "      <td>NaN</td>\n",
       "      <td>NaN</td>\n",
       "      <td>1.0</td>\n",
       "      <td>NaN</td>\n",
       "      <td>NaN</td>\n",
       "      <td>NaN</td>\n",
       "      <td>NaN</td>\n",
       "      <td>NaN</td>\n",
       "      <td>NaN</td>\n",
       "      <td>NaN</td>\n",
       "      <td>NaN</td>\n",
       "      <td>NaN</td>\n",
       "      <td>NaN</td>\n",
       "      <td>1.0</td>\n",
       "      <td>NaN</td>\n",
       "      <td>NaN</td>\n",
       "      <td>NaN</td>\n",
       "      <td>NaN</td>\n",
       "      <td>NaN</td>\n",
       "      <td>NaN</td>\n",
       "      <td>NaN</td>\n",
       "      <td>NaN</td>\n",
       "      <td>NaN</td>\n",
       "      <td>NaN</td>\n",
       "      <td>NaN</td>\n",
       "      <td>NaN</td>\n",
       "      <td>NaN</td>\n",
       "      <td>NaN</td>\n",
       "      <td>NaN</td>\n",
       "      <td>NaN</td>\n",
       "      <td>NaN</td>\n",
       "      <td>1.0</td>\n",
       "      <td>1.0</td>\n",
       "      <td>bachelor's degree</td>\n",
       "      <td>Computer Programming</td>\n",
       "      <td>NaN</td>\n",
       "      <td>NaN</td>\n",
       "      <td>NaN</td>\n",
       "      <td>NaN</td>\n",
       "      <td>NaN</td>\n",
       "      <td>NaN</td>\n",
       "      <td>NaN</td>\n",
       "      <td>NaN</td>\n",
       "      <td>1.0</td>\n",
       "      <td>NaN</td>\n",
       "      <td>NaN</td>\n",
       "      <td>NaN</td>\n",
       "      <td>NaN</td>\n",
       "      <td>NaN</td>\n",
       "      <td>NaN</td>\n",
       "      <td>NaN</td>\n",
       "      <td>NaN</td>\n",
       "      <td>NaN</td>\n",
       "      <td>5000.000000</td>\n",
       "    </tr>\n",
       "    <tr>\n",
       "      <th>1755</th>\n",
       "      <td>20.0</td>\n",
       "      <td>0.0</td>\n",
       "      <td>NaN</td>\n",
       "      <td>NaN</td>\n",
       "      <td>NaN</td>\n",
       "      <td>NaN</td>\n",
       "      <td>NaN</td>\n",
       "      <td>more than 1 million</td>\n",
       "      <td>NaN</td>\n",
       "      <td>NaN</td>\n",
       "      <td>1.0</td>\n",
       "      <td>NaN</td>\n",
       "      <td>NaN</td>\n",
       "      <td>1.0</td>\n",
       "      <td>1.0</td>\n",
       "      <td>NaN</td>\n",
       "      <td>NaN</td>\n",
       "      <td>NaN</td>\n",
       "      <td>NaN</td>\n",
       "      <td>NaN</td>\n",
       "      <td>NaN</td>\n",
       "      <td>NaN</td>\n",
       "      <td>NaN</td>\n",
       "      <td>NaN</td>\n",
       "      <td>NaN</td>\n",
       "      <td>India</td>\n",
       "      <td>India</td>\n",
       "      <td>NaN</td>\n",
       "      <td>NaN</td>\n",
       "      <td>Not working and not looking for work</td>\n",
       "      <td>NaN</td>\n",
       "      <td>100000.0</td>\n",
       "      <td>NaN</td>\n",
       "      <td>NaN</td>\n",
       "      <td>male</td>\n",
       "      <td>NaN</td>\n",
       "      <td>NaN</td>\n",
       "      <td>0.0</td>\n",
       "      <td>0.0</td>\n",
       "      <td>1.0</td>\n",
       "      <td>NaN</td>\n",
       "      <td>0.0</td>\n",
       "      <td>NaN</td>\n",
       "      <td>NaN</td>\n",
       "      <td>10.0</td>\n",
       "      <td>811bf953ef546460f5436fcf2baa532d</td>\n",
       "      <td>81e2a4cab0543e14746c4a20ffdae17c</td>\n",
       "      <td>NaN</td>\n",
       "      <td>0.0</td>\n",
       "      <td>0.0</td>\n",
       "      <td>0.0</td>\n",
       "      <td>NaN</td>\n",
       "      <td>I haven't decided</td>\n",
       "      <td>NaN</td>\n",
       "      <td>1.0</td>\n",
       "      <td>NaN</td>\n",
       "      <td>1.0</td>\n",
       "      <td>1.0</td>\n",
       "      <td>1.0</td>\n",
       "      <td>NaN</td>\n",
       "      <td>1.0</td>\n",
       "      <td>NaN</td>\n",
       "      <td>NaN</td>\n",
       "      <td>NaN</td>\n",
       "      <td>NaN</td>\n",
       "      <td>NaN</td>\n",
       "      <td>work for a multinational corporation</td>\n",
       "      <td>1.0</td>\n",
       "      <td>Information Security, Full-Stack Web Developer...</td>\n",
       "      <td>no preference</td>\n",
       "      <td>Hindi</td>\n",
       "      <td>single, never married</td>\n",
       "      <td>50000.0</td>\n",
       "      <td>15.0</td>\n",
       "      <td>4611a76b60</td>\n",
       "      <td>2017-03-10 10:48:31</td>\n",
       "      <td>2017-03-10 10:42:29</td>\n",
       "      <td>2017-03-10 10:51:37</td>\n",
       "      <td>2017-03-10 10:48:38</td>\n",
       "      <td>NaN</td>\n",
       "      <td>NaN</td>\n",
       "      <td>NaN</td>\n",
       "      <td>NaN</td>\n",
       "      <td>NaN</td>\n",
       "      <td>NaN</td>\n",
       "      <td>NaN</td>\n",
       "      <td>NaN</td>\n",
       "      <td>NaN</td>\n",
       "      <td>NaN</td>\n",
       "      <td>NaN</td>\n",
       "      <td>NaN</td>\n",
       "      <td>1.0</td>\n",
       "      <td>NaN</td>\n",
       "      <td>NaN</td>\n",
       "      <td>NaN</td>\n",
       "      <td>NaN</td>\n",
       "      <td>1.0</td>\n",
       "      <td>1.0</td>\n",
       "      <td>1.0</td>\n",
       "      <td>NaN</td>\n",
       "      <td>1.0</td>\n",
       "      <td>NaN</td>\n",
       "      <td>1.0</td>\n",
       "      <td>NaN</td>\n",
       "      <td>1.0</td>\n",
       "      <td>1.0</td>\n",
       "      <td>NaN</td>\n",
       "      <td>NaN</td>\n",
       "      <td>NaN</td>\n",
       "      <td>1.0</td>\n",
       "      <td>NaN</td>\n",
       "      <td>NaN</td>\n",
       "      <td>NaN</td>\n",
       "      <td>1.0</td>\n",
       "      <td>1.0</td>\n",
       "      <td>1.0</td>\n",
       "      <td>bachelor's degree</td>\n",
       "      <td>Computer Science</td>\n",
       "      <td>NaN</td>\n",
       "      <td>NaN</td>\n",
       "      <td>NaN</td>\n",
       "      <td>1.0</td>\n",
       "      <td>NaN</td>\n",
       "      <td>NaN</td>\n",
       "      <td>NaN</td>\n",
       "      <td>NaN</td>\n",
       "      <td>1.0</td>\n",
       "      <td>NaN</td>\n",
       "      <td>NaN</td>\n",
       "      <td>1.0</td>\n",
       "      <td>NaN</td>\n",
       "      <td>1.0</td>\n",
       "      <td>NaN</td>\n",
       "      <td>NaN</td>\n",
       "      <td>NaN</td>\n",
       "      <td>NaN</td>\n",
       "      <td>3333.333333</td>\n",
       "    </tr>\n",
       "    <tr>\n",
       "      <th>7989</th>\n",
       "      <td>28.0</td>\n",
       "      <td>0.0</td>\n",
       "      <td>NaN</td>\n",
       "      <td>NaN</td>\n",
       "      <td>NaN</td>\n",
       "      <td>NaN</td>\n",
       "      <td>NaN</td>\n",
       "      <td>between 100,000 and 1 million</td>\n",
       "      <td>1.0</td>\n",
       "      <td>NaN</td>\n",
       "      <td>NaN</td>\n",
       "      <td>NaN</td>\n",
       "      <td>NaN</td>\n",
       "      <td>NaN</td>\n",
       "      <td>NaN</td>\n",
       "      <td>NaN</td>\n",
       "      <td>NaN</td>\n",
       "      <td>NaN</td>\n",
       "      <td>NaN</td>\n",
       "      <td>NaN</td>\n",
       "      <td>NaN</td>\n",
       "      <td>NaN</td>\n",
       "      <td>NaN</td>\n",
       "      <td>1.0</td>\n",
       "      <td>15 to 29 minutes</td>\n",
       "      <td>India</td>\n",
       "      <td>India</td>\n",
       "      <td>software development and IT</td>\n",
       "      <td>NaN</td>\n",
       "      <td>Employed for wages</td>\n",
       "      <td>NaN</td>\n",
       "      <td>500000.0</td>\n",
       "      <td>1.0</td>\n",
       "      <td>NaN</td>\n",
       "      <td>male</td>\n",
       "      <td>NaN</td>\n",
       "      <td>0.0</td>\n",
       "      <td>1.0</td>\n",
       "      <td>1.0</td>\n",
       "      <td>1.0</td>\n",
       "      <td>0.0</td>\n",
       "      <td>0.0</td>\n",
       "      <td>1.0</td>\n",
       "      <td>NaN</td>\n",
       "      <td>20.0</td>\n",
       "      <td>a6a5597bbbc2c282386d6675641b744a</td>\n",
       "      <td>da7bbb54a8b26a379707be56b6c51e65</td>\n",
       "      <td>300000.0</td>\n",
       "      <td>0.0</td>\n",
       "      <td>0.0</td>\n",
       "      <td>0.0</td>\n",
       "      <td>0.0</td>\n",
       "      <td>more than 12 months from now</td>\n",
       "      <td>1.0</td>\n",
       "      <td>NaN</td>\n",
       "      <td>NaN</td>\n",
       "      <td>NaN</td>\n",
       "      <td>1.0</td>\n",
       "      <td>1.0</td>\n",
       "      <td>1.0</td>\n",
       "      <td>NaN</td>\n",
       "      <td>NaN</td>\n",
       "      <td>NaN</td>\n",
       "      <td>NaN</td>\n",
       "      <td>NaN</td>\n",
       "      <td>1.0</td>\n",
       "      <td>work for a multinational corporation</td>\n",
       "      <td>1.0</td>\n",
       "      <td>User Experience Designer, Back-End Web Devel...</td>\n",
       "      <td>in an office with other developers</td>\n",
       "      <td>Marathi</td>\n",
       "      <td>married or domestic partnership</td>\n",
       "      <td>5000.0</td>\n",
       "      <td>1.0</td>\n",
       "      <td>c47a447b5d</td>\n",
       "      <td>2017-03-26 14:06:48</td>\n",
       "      <td>2017-03-26 14:02:41</td>\n",
       "      <td>2017-03-26 14:13:13</td>\n",
       "      <td>2017-03-26 14:07:17</td>\n",
       "      <td>NaN</td>\n",
       "      <td>NaN</td>\n",
       "      <td>NaN</td>\n",
       "      <td>NaN</td>\n",
       "      <td>NaN</td>\n",
       "      <td>NaN</td>\n",
       "      <td>NaN</td>\n",
       "      <td>NaN</td>\n",
       "      <td>NaN</td>\n",
       "      <td>Not listened to anything yet.</td>\n",
       "      <td>NaN</td>\n",
       "      <td>NaN</td>\n",
       "      <td>NaN</td>\n",
       "      <td>NaN</td>\n",
       "      <td>NaN</td>\n",
       "      <td>NaN</td>\n",
       "      <td>NaN</td>\n",
       "      <td>NaN</td>\n",
       "      <td>NaN</td>\n",
       "      <td>NaN</td>\n",
       "      <td>NaN</td>\n",
       "      <td>NaN</td>\n",
       "      <td>NaN</td>\n",
       "      <td>1.0</td>\n",
       "      <td>NaN</td>\n",
       "      <td>NaN</td>\n",
       "      <td>1.0</td>\n",
       "      <td>NaN</td>\n",
       "      <td>NaN</td>\n",
       "      <td>NaN</td>\n",
       "      <td>NaN</td>\n",
       "      <td>NaN</td>\n",
       "      <td>NaN</td>\n",
       "      <td>NaN</td>\n",
       "      <td>NaN</td>\n",
       "      <td>NaN</td>\n",
       "      <td>NaN</td>\n",
       "      <td>bachelor's degree</td>\n",
       "      <td>Aerospace and Aeronautical Engineering</td>\n",
       "      <td>2500.0</td>\n",
       "      <td>NaN</td>\n",
       "      <td>NaN</td>\n",
       "      <td>NaN</td>\n",
       "      <td>NaN</td>\n",
       "      <td>NaN</td>\n",
       "      <td>NaN</td>\n",
       "      <td>NaN</td>\n",
       "      <td>1.0</td>\n",
       "      <td>NaN</td>\n",
       "      <td>NaN</td>\n",
       "      <td>NaN</td>\n",
       "      <td>NaN</td>\n",
       "      <td>NaN</td>\n",
       "      <td>NaN</td>\n",
       "      <td>NaN</td>\n",
       "      <td>NaN</td>\n",
       "      <td>NaN</td>\n",
       "      <td>5000.000000</td>\n",
       "    </tr>\n",
       "    <tr>\n",
       "      <th>8126</th>\n",
       "      <td>22.0</td>\n",
       "      <td>0.0</td>\n",
       "      <td>NaN</td>\n",
       "      <td>NaN</td>\n",
       "      <td>NaN</td>\n",
       "      <td>NaN</td>\n",
       "      <td>NaN</td>\n",
       "      <td>more than 1 million</td>\n",
       "      <td>NaN</td>\n",
       "      <td>NaN</td>\n",
       "      <td>NaN</td>\n",
       "      <td>1.0</td>\n",
       "      <td>NaN</td>\n",
       "      <td>1.0</td>\n",
       "      <td>NaN</td>\n",
       "      <td>NaN</td>\n",
       "      <td>NaN</td>\n",
       "      <td>NaN</td>\n",
       "      <td>NaN</td>\n",
       "      <td>NaN</td>\n",
       "      <td>NaN</td>\n",
       "      <td>NaN</td>\n",
       "      <td>NaN</td>\n",
       "      <td>NaN</td>\n",
       "      <td>NaN</td>\n",
       "      <td>India</td>\n",
       "      <td>India</td>\n",
       "      <td>NaN</td>\n",
       "      <td>NaN</td>\n",
       "      <td>Not working but looking for work</td>\n",
       "      <td>NaN</td>\n",
       "      <td>80000.0</td>\n",
       "      <td>NaN</td>\n",
       "      <td>NaN</td>\n",
       "      <td>male</td>\n",
       "      <td>NaN</td>\n",
       "      <td>NaN</td>\n",
       "      <td>1.0</td>\n",
       "      <td>0.0</td>\n",
       "      <td>1.0</td>\n",
       "      <td>0.0</td>\n",
       "      <td>0.0</td>\n",
       "      <td>1.0</td>\n",
       "      <td>NaN</td>\n",
       "      <td>80.0</td>\n",
       "      <td>69e8ab9126baee49f66e3577aea7fd3c</td>\n",
       "      <td>9f08092e82f709e63847ba88841247c0</td>\n",
       "      <td>NaN</td>\n",
       "      <td>0.0</td>\n",
       "      <td>0.0</td>\n",
       "      <td>0.0</td>\n",
       "      <td>NaN</td>\n",
       "      <td>I'm already applying</td>\n",
       "      <td>1.0</td>\n",
       "      <td>NaN</td>\n",
       "      <td>NaN</td>\n",
       "      <td>NaN</td>\n",
       "      <td>1.0</td>\n",
       "      <td>1.0</td>\n",
       "      <td>NaN</td>\n",
       "      <td>NaN</td>\n",
       "      <td>NaN</td>\n",
       "      <td>NaN</td>\n",
       "      <td>NaN</td>\n",
       "      <td>NaN</td>\n",
       "      <td>NaN</td>\n",
       "      <td>work for a startup</td>\n",
       "      <td>1.0</td>\n",
       "      <td>Back-End Web Developer, Full-Stack Web Develop...</td>\n",
       "      <td>in an office with other developers</td>\n",
       "      <td>Malayalam</td>\n",
       "      <td>single, never married</td>\n",
       "      <td>5000.0</td>\n",
       "      <td>1.0</td>\n",
       "      <td>0d3d1762a4</td>\n",
       "      <td>2017-03-27 07:10:17</td>\n",
       "      <td>2017-03-27 07:05:23</td>\n",
       "      <td>2017-03-27 07:12:21</td>\n",
       "      <td>2017-03-27 07:10:22</td>\n",
       "      <td>NaN</td>\n",
       "      <td>NaN</td>\n",
       "      <td>NaN</td>\n",
       "      <td>NaN</td>\n",
       "      <td>NaN</td>\n",
       "      <td>NaN</td>\n",
       "      <td>NaN</td>\n",
       "      <td>NaN</td>\n",
       "      <td>NaN</td>\n",
       "      <td>NaN</td>\n",
       "      <td>NaN</td>\n",
       "      <td>NaN</td>\n",
       "      <td>NaN</td>\n",
       "      <td>NaN</td>\n",
       "      <td>NaN</td>\n",
       "      <td>NaN</td>\n",
       "      <td>NaN</td>\n",
       "      <td>NaN</td>\n",
       "      <td>NaN</td>\n",
       "      <td>NaN</td>\n",
       "      <td>1.0</td>\n",
       "      <td>NaN</td>\n",
       "      <td>1.0</td>\n",
       "      <td>NaN</td>\n",
       "      <td>NaN</td>\n",
       "      <td>NaN</td>\n",
       "      <td>NaN</td>\n",
       "      <td>NaN</td>\n",
       "      <td>NaN</td>\n",
       "      <td>NaN</td>\n",
       "      <td>NaN</td>\n",
       "      <td>NaN</td>\n",
       "      <td>1.0</td>\n",
       "      <td>NaN</td>\n",
       "      <td>NaN</td>\n",
       "      <td>NaN</td>\n",
       "      <td>NaN</td>\n",
       "      <td>bachelor's degree</td>\n",
       "      <td>Electrical and Electronics Engineering</td>\n",
       "      <td>10000.0</td>\n",
       "      <td>NaN</td>\n",
       "      <td>NaN</td>\n",
       "      <td>NaN</td>\n",
       "      <td>NaN</td>\n",
       "      <td>NaN</td>\n",
       "      <td>NaN</td>\n",
       "      <td>NaN</td>\n",
       "      <td>NaN</td>\n",
       "      <td>NaN</td>\n",
       "      <td>1.0</td>\n",
       "      <td>NaN</td>\n",
       "      <td>NaN</td>\n",
       "      <td>1.0</td>\n",
       "      <td>NaN</td>\n",
       "      <td>NaN</td>\n",
       "      <td>NaN</td>\n",
       "      <td>1.0</td>\n",
       "      <td>5000.000000</td>\n",
       "    </tr>\n",
       "    <tr>\n",
       "      <th>13398</th>\n",
       "      <td>19.0</td>\n",
       "      <td>0.0</td>\n",
       "      <td>NaN</td>\n",
       "      <td>NaN</td>\n",
       "      <td>NaN</td>\n",
       "      <td>NaN</td>\n",
       "      <td>NaN</td>\n",
       "      <td>more than 1 million</td>\n",
       "      <td>NaN</td>\n",
       "      <td>NaN</td>\n",
       "      <td>NaN</td>\n",
       "      <td>NaN</td>\n",
       "      <td>NaN</td>\n",
       "      <td>NaN</td>\n",
       "      <td>NaN</td>\n",
       "      <td>NaN</td>\n",
       "      <td>1.0</td>\n",
       "      <td>NaN</td>\n",
       "      <td>NaN</td>\n",
       "      <td>NaN</td>\n",
       "      <td>NaN</td>\n",
       "      <td>NaN</td>\n",
       "      <td>NaN</td>\n",
       "      <td>NaN</td>\n",
       "      <td>NaN</td>\n",
       "      <td>India</td>\n",
       "      <td>India</td>\n",
       "      <td>NaN</td>\n",
       "      <td>NaN</td>\n",
       "      <td>Unable to work</td>\n",
       "      <td>NaN</td>\n",
       "      <td>100000.0</td>\n",
       "      <td>NaN</td>\n",
       "      <td>NaN</td>\n",
       "      <td>male</td>\n",
       "      <td>NaN</td>\n",
       "      <td>NaN</td>\n",
       "      <td>0.0</td>\n",
       "      <td>0.0</td>\n",
       "      <td>0.0</td>\n",
       "      <td>NaN</td>\n",
       "      <td>0.0</td>\n",
       "      <td>NaN</td>\n",
       "      <td>NaN</td>\n",
       "      <td>30.0</td>\n",
       "      <td>b7fe7bc4edefc3a60eb48f977e4426e3</td>\n",
       "      <td>80ff09859ac475b70ac19b7b7369e953</td>\n",
       "      <td>NaN</td>\n",
       "      <td>0.0</td>\n",
       "      <td>0.0</td>\n",
       "      <td>0.0</td>\n",
       "      <td>NaN</td>\n",
       "      <td>I haven't decided</td>\n",
       "      <td>NaN</td>\n",
       "      <td>NaN</td>\n",
       "      <td>NaN</td>\n",
       "      <td>NaN</td>\n",
       "      <td>NaN</td>\n",
       "      <td>NaN</td>\n",
       "      <td>NaN</td>\n",
       "      <td>NaN</td>\n",
       "      <td>1.0</td>\n",
       "      <td>NaN</td>\n",
       "      <td>NaN</td>\n",
       "      <td>NaN</td>\n",
       "      <td>NaN</td>\n",
       "      <td>work for a multinational corporation</td>\n",
       "      <td>1.0</td>\n",
       "      <td>Mobile Developer</td>\n",
       "      <td>no preference</td>\n",
       "      <td>Hindi</td>\n",
       "      <td>single, never married</td>\n",
       "      <td>20000.0</td>\n",
       "      <td>2.0</td>\n",
       "      <td>51a6f9a1a7</td>\n",
       "      <td>2017-04-01 00:31:25</td>\n",
       "      <td>2017-04-01 00:28:17</td>\n",
       "      <td>2017-04-01 00:33:44</td>\n",
       "      <td>2017-04-01 00:31:32</td>\n",
       "      <td>NaN</td>\n",
       "      <td>NaN</td>\n",
       "      <td>NaN</td>\n",
       "      <td>NaN</td>\n",
       "      <td>NaN</td>\n",
       "      <td>NaN</td>\n",
       "      <td>NaN</td>\n",
       "      <td>NaN</td>\n",
       "      <td>NaN</td>\n",
       "      <td>NaN</td>\n",
       "      <td>NaN</td>\n",
       "      <td>NaN</td>\n",
       "      <td>NaN</td>\n",
       "      <td>NaN</td>\n",
       "      <td>NaN</td>\n",
       "      <td>NaN</td>\n",
       "      <td>NaN</td>\n",
       "      <td>NaN</td>\n",
       "      <td>NaN</td>\n",
       "      <td>NaN</td>\n",
       "      <td>NaN</td>\n",
       "      <td>NaN</td>\n",
       "      <td>NaN</td>\n",
       "      <td>NaN</td>\n",
       "      <td>NaN</td>\n",
       "      <td>NaN</td>\n",
       "      <td>NaN</td>\n",
       "      <td>NaN</td>\n",
       "      <td>NaN</td>\n",
       "      <td>NaN</td>\n",
       "      <td>NaN</td>\n",
       "      <td>NaN</td>\n",
       "      <td>1.0</td>\n",
       "      <td>NaN</td>\n",
       "      <td>NaN</td>\n",
       "      <td>NaN</td>\n",
       "      <td>1.0</td>\n",
       "      <td>bachelor's degree</td>\n",
       "      <td>Computer Science</td>\n",
       "      <td>NaN</td>\n",
       "      <td>NaN</td>\n",
       "      <td>NaN</td>\n",
       "      <td>NaN</td>\n",
       "      <td>NaN</td>\n",
       "      <td>NaN</td>\n",
       "      <td>NaN</td>\n",
       "      <td>NaN</td>\n",
       "      <td>NaN</td>\n",
       "      <td>NaN</td>\n",
       "      <td>NaN</td>\n",
       "      <td>NaN</td>\n",
       "      <td>NaN</td>\n",
       "      <td>NaN</td>\n",
       "      <td>NaN</td>\n",
       "      <td>NaN</td>\n",
       "      <td>NaN</td>\n",
       "      <td>NaN</td>\n",
       "      <td>10000.000000</td>\n",
       "    </tr>\n",
       "    <tr>\n",
       "      <th>15587</th>\n",
       "      <td>27.0</td>\n",
       "      <td>0.0</td>\n",
       "      <td>NaN</td>\n",
       "      <td>NaN</td>\n",
       "      <td>NaN</td>\n",
       "      <td>NaN</td>\n",
       "      <td>NaN</td>\n",
       "      <td>more than 1 million</td>\n",
       "      <td>NaN</td>\n",
       "      <td>NaN</td>\n",
       "      <td>NaN</td>\n",
       "      <td>NaN</td>\n",
       "      <td>NaN</td>\n",
       "      <td>1.0</td>\n",
       "      <td>NaN</td>\n",
       "      <td>NaN</td>\n",
       "      <td>NaN</td>\n",
       "      <td>NaN</td>\n",
       "      <td>NaN</td>\n",
       "      <td>NaN</td>\n",
       "      <td>NaN</td>\n",
       "      <td>NaN</td>\n",
       "      <td>NaN</td>\n",
       "      <td>NaN</td>\n",
       "      <td>15 to 29 minutes</td>\n",
       "      <td>India</td>\n",
       "      <td>India</td>\n",
       "      <td>software development and IT</td>\n",
       "      <td>NaN</td>\n",
       "      <td>Employed for wages</td>\n",
       "      <td>NaN</td>\n",
       "      <td>65000.0</td>\n",
       "      <td>0.0</td>\n",
       "      <td>NaN</td>\n",
       "      <td>male</td>\n",
       "      <td>NaN</td>\n",
       "      <td>0.0</td>\n",
       "      <td>1.0</td>\n",
       "      <td>1.0</td>\n",
       "      <td>1.0</td>\n",
       "      <td>0.0</td>\n",
       "      <td>0.0</td>\n",
       "      <td>1.0</td>\n",
       "      <td>NaN</td>\n",
       "      <td>36.0</td>\n",
       "      <td>5a7394f24292cb82b72adb702886543a</td>\n",
       "      <td>8bc7997217d4a57b22242471cc8d89ef</td>\n",
       "      <td>60000.0</td>\n",
       "      <td>0.0</td>\n",
       "      <td>0.0</td>\n",
       "      <td>0.0</td>\n",
       "      <td>1.0</td>\n",
       "      <td>I haven't decided</td>\n",
       "      <td>NaN</td>\n",
       "      <td>NaN</td>\n",
       "      <td>1.0</td>\n",
       "      <td>NaN</td>\n",
       "      <td>NaN</td>\n",
       "      <td>1.0</td>\n",
       "      <td>NaN</td>\n",
       "      <td>NaN</td>\n",
       "      <td>NaN</td>\n",
       "      <td>NaN</td>\n",
       "      <td>NaN</td>\n",
       "      <td>NaN</td>\n",
       "      <td>NaN</td>\n",
       "      <td>work for a startup</td>\n",
       "      <td>NaN</td>\n",
       "      <td>Full-Stack Web Developer,   Data Scientist</td>\n",
       "      <td>from home</td>\n",
       "      <td>Hindi</td>\n",
       "      <td>single, never married</td>\n",
       "      <td>100000.0</td>\n",
       "      <td>24.0</td>\n",
       "      <td>8af0c2b6da</td>\n",
       "      <td>2017-04-03 09:43:53</td>\n",
       "      <td>2017-04-03 09:39:38</td>\n",
       "      <td>2017-04-03 09:54:39</td>\n",
       "      <td>2017-04-03 09:43:57</td>\n",
       "      <td>NaN</td>\n",
       "      <td>NaN</td>\n",
       "      <td>NaN</td>\n",
       "      <td>NaN</td>\n",
       "      <td>NaN</td>\n",
       "      <td>NaN</td>\n",
       "      <td>NaN</td>\n",
       "      <td>NaN</td>\n",
       "      <td>NaN</td>\n",
       "      <td>NaN</td>\n",
       "      <td>1.0</td>\n",
       "      <td>NaN</td>\n",
       "      <td>NaN</td>\n",
       "      <td>NaN</td>\n",
       "      <td>NaN</td>\n",
       "      <td>NaN</td>\n",
       "      <td>NaN</td>\n",
       "      <td>NaN</td>\n",
       "      <td>NaN</td>\n",
       "      <td>NaN</td>\n",
       "      <td>NaN</td>\n",
       "      <td>1.0</td>\n",
       "      <td>NaN</td>\n",
       "      <td>1.0</td>\n",
       "      <td>NaN</td>\n",
       "      <td>NaN</td>\n",
       "      <td>1.0</td>\n",
       "      <td>NaN</td>\n",
       "      <td>NaN</td>\n",
       "      <td>NaN</td>\n",
       "      <td>NaN</td>\n",
       "      <td>NaN</td>\n",
       "      <td>1.0</td>\n",
       "      <td>NaN</td>\n",
       "      <td>NaN</td>\n",
       "      <td>NaN</td>\n",
       "      <td>1.0</td>\n",
       "      <td>bachelor's degree</td>\n",
       "      <td>Communications</td>\n",
       "      <td>25000.0</td>\n",
       "      <td>NaN</td>\n",
       "      <td>NaN</td>\n",
       "      <td>NaN</td>\n",
       "      <td>NaN</td>\n",
       "      <td>NaN</td>\n",
       "      <td>NaN</td>\n",
       "      <td>NaN</td>\n",
       "      <td>NaN</td>\n",
       "      <td>NaN</td>\n",
       "      <td>1.0</td>\n",
       "      <td>1.0</td>\n",
       "      <td>NaN</td>\n",
       "      <td>1.0</td>\n",
       "      <td>NaN</td>\n",
       "      <td>NaN</td>\n",
       "      <td>NaN</td>\n",
       "      <td>NaN</td>\n",
       "      <td>4166.666667</td>\n",
       "    </tr>\n",
       "  </tbody>\n",
       "</table>\n",
       "</div>"
      ],
      "text/plain": [
       "        Age  AttendedBootcamp  BootcampFinish  BootcampLoanYesNo BootcampName  \\\n",
       "1728   24.0               0.0             NaN                NaN          NaN   \n",
       "1755   20.0               0.0             NaN                NaN          NaN   \n",
       "7989   28.0               0.0             NaN                NaN          NaN   \n",
       "8126   22.0               0.0             NaN                NaN          NaN   \n",
       "13398  19.0               0.0             NaN                NaN          NaN   \n",
       "15587  27.0               0.0             NaN                NaN          NaN   \n",
       "\n",
       "       BootcampRecommend  ChildrenNumber                 CityPopulation  \\\n",
       "1728                 NaN             NaN  between 100,000 and 1 million   \n",
       "1755                 NaN             NaN            more than 1 million   \n",
       "7989                 NaN             NaN  between 100,000 and 1 million   \n",
       "8126                 NaN             NaN            more than 1 million   \n",
       "13398                NaN             NaN            more than 1 million   \n",
       "15587                NaN             NaN            more than 1 million   \n",
       "\n",
       "       CodeEventConferences  CodeEventDjangoGirls  CodeEventFCC  \\\n",
       "1728                    NaN                   NaN           NaN   \n",
       "1755                    NaN                   NaN           1.0   \n",
       "7989                    1.0                   NaN           NaN   \n",
       "8126                    NaN                   NaN           NaN   \n",
       "13398                   NaN                   NaN           NaN   \n",
       "15587                   NaN                   NaN           NaN   \n",
       "\n",
       "       CodeEventGameJam  CodeEventGirlDev  CodeEventHackathons  \\\n",
       "1728                1.0               NaN                  NaN   \n",
       "1755                NaN               NaN                  1.0   \n",
       "7989                NaN               NaN                  NaN   \n",
       "8126                1.0               NaN                  1.0   \n",
       "13398               NaN               NaN                  NaN   \n",
       "15587               NaN               NaN                  1.0   \n",
       "\n",
       "       CodeEventMeetup  CodeEventNodeSchool  CodeEventNone CodeEventOther  \\\n",
       "1728               NaN                  NaN            NaN            NaN   \n",
       "1755               1.0                  NaN            NaN            NaN   \n",
       "7989               NaN                  NaN            NaN            NaN   \n",
       "8126               NaN                  NaN            NaN            NaN   \n",
       "13398              NaN                  NaN            1.0            NaN   \n",
       "15587              NaN                  NaN            NaN            NaN   \n",
       "\n",
       "       CodeEventRailsBridge  CodeEventRailsGirls  CodeEventStartUpWknd  \\\n",
       "1728                    NaN                  NaN                   NaN   \n",
       "1755                    NaN                  NaN                   NaN   \n",
       "7989                    NaN                  NaN                   NaN   \n",
       "8126                    NaN                  NaN                   NaN   \n",
       "13398                   NaN                  NaN                   NaN   \n",
       "15587                   NaN                  NaN                   NaN   \n",
       "\n",
       "       CodeEventWkdBootcamps  CodeEventWomenCode  CodeEventWorkshops  \\\n",
       "1728                     NaN                 NaN                 NaN   \n",
       "1755                     NaN                 NaN                 NaN   \n",
       "7989                     NaN                 NaN                 1.0   \n",
       "8126                     NaN                 NaN                 NaN   \n",
       "13398                    NaN                 NaN                 NaN   \n",
       "15587                    NaN                 NaN                 NaN   \n",
       "\n",
       "            CommuteTime CountryCitizen CountryLive  \\\n",
       "1728                NaN          India       India   \n",
       "1755                NaN          India       India   \n",
       "7989   15 to 29 minutes          India       India   \n",
       "8126                NaN          India       India   \n",
       "13398               NaN          India       India   \n",
       "15587  15 to 29 minutes          India       India   \n",
       "\n",
       "                   EmploymentField EmploymentFieldOther  \\\n",
       "1728                           NaN                  NaN   \n",
       "1755                           NaN                  NaN   \n",
       "7989   software development and IT                  NaN   \n",
       "8126                           NaN                  NaN   \n",
       "13398                          NaN                  NaN   \n",
       "15587  software development and IT                  NaN   \n",
       "\n",
       "                           EmploymentStatus EmploymentStatusOther  \\\n",
       "1728     A stay-at-home parent or homemaker                   NaN   \n",
       "1755   Not working and not looking for work                   NaN   \n",
       "7989                     Employed for wages                   NaN   \n",
       "8126       Not working but looking for work                   NaN   \n",
       "13398                        Unable to work                   NaN   \n",
       "15587                    Employed for wages                   NaN   \n",
       "\n",
       "       ExpectedEarning  FinanciallySupporting  FirstDevJob Gender GenderOther  \\\n",
       "1728           70000.0                    NaN          NaN   male         NaN   \n",
       "1755          100000.0                    NaN          NaN   male         NaN   \n",
       "7989          500000.0                    1.0          NaN   male         NaN   \n",
       "8126           80000.0                    NaN          NaN   male         NaN   \n",
       "13398         100000.0                    NaN          NaN   male         NaN   \n",
       "15587          65000.0                    0.0          NaN   male         NaN   \n",
       "\n",
       "       HasChildren  HasDebt  HasFinancialDependents  HasHighSpdInternet  \\\n",
       "1728           NaN      0.0                     0.0                 1.0   \n",
       "1755           NaN      0.0                     0.0                 1.0   \n",
       "7989           0.0      1.0                     1.0                 1.0   \n",
       "8126           NaN      1.0                     0.0                 1.0   \n",
       "13398          NaN      0.0                     0.0                 0.0   \n",
       "15587          0.0      1.0                     1.0                 1.0   \n",
       "\n",
       "       HasHomeMortgage  HasServedInMilitary  HasStudentDebt  HomeMortgageOwe  \\\n",
       "1728               NaN                  0.0             NaN              NaN   \n",
       "1755               NaN                  0.0             NaN              NaN   \n",
       "7989               0.0                  0.0             1.0              NaN   \n",
       "8126               0.0                  0.0             1.0              NaN   \n",
       "13398              NaN                  0.0             NaN              NaN   \n",
       "15587              0.0                  0.0             1.0              NaN   \n",
       "\n",
       "       HoursLearning                              ID.x  \\\n",
       "1728            30.0  d964ec629fd6d85a5bf27f7339f4fa6d   \n",
       "1755            10.0  811bf953ef546460f5436fcf2baa532d   \n",
       "7989            20.0  a6a5597bbbc2c282386d6675641b744a   \n",
       "8126            80.0  69e8ab9126baee49f66e3577aea7fd3c   \n",
       "13398           30.0  b7fe7bc4edefc3a60eb48f977e4426e3   \n",
       "15587           36.0  5a7394f24292cb82b72adb702886543a   \n",
       "\n",
       "                                   ID.y    Income  IsEthnicMinority  \\\n",
       "1728   950a8cf9cef1ae6a15da470e572b1b7a       NaN               0.0   \n",
       "1755   81e2a4cab0543e14746c4a20ffdae17c       NaN               0.0   \n",
       "7989   da7bbb54a8b26a379707be56b6c51e65  300000.0               0.0   \n",
       "8126   9f08092e82f709e63847ba88841247c0       NaN               0.0   \n",
       "13398  80ff09859ac475b70ac19b7b7369e953       NaN               0.0   \n",
       "15587  8bc7997217d4a57b22242471cc8d89ef   60000.0               0.0   \n",
       "\n",
       "       IsReceiveDisabilitiesBenefits  IsSoftwareDev  IsUnderEmployed  \\\n",
       "1728                             0.0            0.0              NaN   \n",
       "1755                             0.0            0.0              NaN   \n",
       "7989                             0.0            0.0              0.0   \n",
       "8126                             0.0            0.0              NaN   \n",
       "13398                            0.0            0.0              NaN   \n",
       "15587                            0.0            0.0              1.0   \n",
       "\n",
       "                       JobApplyWhen  JobInterestBackEnd  JobInterestDataEngr  \\\n",
       "1728       Within the next 6 months                 1.0                  NaN   \n",
       "1755              I haven't decided                 NaN                  1.0   \n",
       "7989   more than 12 months from now                 1.0                  NaN   \n",
       "8126           I'm already applying                 1.0                  NaN   \n",
       "13398             I haven't decided                 NaN                  NaN   \n",
       "15587             I haven't decided                 NaN                  NaN   \n",
       "\n",
       "       JobInterestDataSci  JobInterestDevOps  JobInterestFrontEnd  \\\n",
       "1728                  NaN                NaN                  1.0   \n",
       "1755                  NaN                1.0                  1.0   \n",
       "7989                  NaN                NaN                  1.0   \n",
       "8126                  NaN                NaN                  1.0   \n",
       "13398                 NaN                NaN                  NaN   \n",
       "15587                 1.0                NaN                  NaN   \n",
       "\n",
       "       JobInterestFullStack  JobInterestGameDev  JobInterestInfoSec  \\\n",
       "1728                    NaN                 NaN                 NaN   \n",
       "1755                    1.0                 NaN                 1.0   \n",
       "7989                    1.0                 1.0                 NaN   \n",
       "8126                    1.0                 NaN                 NaN   \n",
       "13398                   NaN                 NaN                 NaN   \n",
       "15587                   1.0                 NaN                 NaN   \n",
       "\n",
       "       JobInterestMobile JobInterestOther  JobInterestProjMngr  \\\n",
       "1728                 1.0              NaN                  1.0   \n",
       "1755                 NaN              NaN                  NaN   \n",
       "7989                 NaN              NaN                  NaN   \n",
       "8126                 NaN              NaN                  NaN   \n",
       "13398                1.0              NaN                  NaN   \n",
       "15587                NaN              NaN                  NaN   \n",
       "\n",
       "       JobInterestQAEngr  JobInterestUX                               JobPref  \\\n",
       "1728                 NaN            1.0                    work for a startup   \n",
       "1755                 NaN            NaN  work for a multinational corporation   \n",
       "7989                 NaN            1.0  work for a multinational corporation   \n",
       "8126                 NaN            NaN                    work for a startup   \n",
       "13398                NaN            NaN  work for a multinational corporation   \n",
       "15587                NaN            NaN                    work for a startup   \n",
       "\n",
       "       JobRelocateYesNo                                    JobRoleInterest  \\\n",
       "1728                1.0    User Experience Designer,   Mobile Developer...   \n",
       "1755                1.0  Information Security, Full-Stack Web Developer...   \n",
       "7989                1.0    User Experience Designer, Back-End Web Devel...   \n",
       "8126                1.0  Back-End Web Developer, Full-Stack Web Develop...   \n",
       "13398               1.0                                   Mobile Developer   \n",
       "15587               NaN         Full-Stack Web Developer,   Data Scientist   \n",
       "\n",
       "                             JobWherePref LanguageAtHome  \\\n",
       "1728   in an office with other developers        Bengali   \n",
       "1755                        no preference          Hindi   \n",
       "7989   in an office with other developers        Marathi   \n",
       "8126   in an office with other developers      Malayalam   \n",
       "13398                       no preference          Hindi   \n",
       "15587                           from home          Hindi   \n",
       "\n",
       "                         MaritalStatus  MoneyForLearning  MonthsProgramming  \\\n",
       "1728             single, never married           20000.0                4.0   \n",
       "1755             single, never married           50000.0               15.0   \n",
       "7989   married or domestic partnership            5000.0                1.0   \n",
       "8126             single, never married            5000.0                1.0   \n",
       "13398            single, never married           20000.0                2.0   \n",
       "15587            single, never married          100000.0               24.0   \n",
       "\n",
       "        NetworkID         Part1EndTime       Part1StartTime  \\\n",
       "1728   38d312a990  2017-03-10 10:22:34  2017-03-10 10:17:42   \n",
       "1755   4611a76b60  2017-03-10 10:48:31  2017-03-10 10:42:29   \n",
       "7989   c47a447b5d  2017-03-26 14:06:48  2017-03-26 14:02:41   \n",
       "8126   0d3d1762a4  2017-03-27 07:10:17  2017-03-27 07:05:23   \n",
       "13398  51a6f9a1a7  2017-04-01 00:31:25  2017-04-01 00:28:17   \n",
       "15587  8af0c2b6da  2017-04-03 09:43:53  2017-04-03 09:39:38   \n",
       "\n",
       "              Part2EndTime       Part2StartTime  PodcastChangeLog  \\\n",
       "1728   2017-03-10 10:24:38  2017-03-10 10:22:40               NaN   \n",
       "1755   2017-03-10 10:51:37  2017-03-10 10:48:38               NaN   \n",
       "7989   2017-03-26 14:13:13  2017-03-26 14:07:17               NaN   \n",
       "8126   2017-03-27 07:12:21  2017-03-27 07:10:22               NaN   \n",
       "13398  2017-04-01 00:33:44  2017-04-01 00:31:32               NaN   \n",
       "15587  2017-04-03 09:54:39  2017-04-03 09:43:57               NaN   \n",
       "\n",
       "       PodcastCodeNewbie  PodcastCodePen  PodcastDevTea  PodcastDotNET  \\\n",
       "1728                 NaN             NaN            NaN            NaN   \n",
       "1755                 NaN             NaN            NaN            NaN   \n",
       "7989                 NaN             NaN            NaN            NaN   \n",
       "8126                 NaN             NaN            NaN            NaN   \n",
       "13398                NaN             NaN            NaN            NaN   \n",
       "15587                NaN             NaN            NaN            NaN   \n",
       "\n",
       "       PodcastGiantRobots  PodcastJSAir  PodcastJSJabber  PodcastNone  \\\n",
       "1728                  NaN           1.0              NaN          NaN   \n",
       "1755                  NaN           NaN              NaN          NaN   \n",
       "7989                  NaN           NaN              NaN          NaN   \n",
       "8126                  NaN           NaN              NaN          NaN   \n",
       "13398                 NaN           NaN              NaN          NaN   \n",
       "15587                 NaN           NaN              NaN          NaN   \n",
       "\n",
       "                        PodcastOther  PodcastProgThrowdown  PodcastRubyRogues  \\\n",
       "1728                             NaN                   NaN                NaN   \n",
       "1755                             NaN                   NaN                NaN   \n",
       "7989   Not listened to anything yet.                   NaN                NaN   \n",
       "8126                             NaN                   NaN                NaN   \n",
       "13398                            NaN                   NaN                NaN   \n",
       "15587                            NaN                   1.0                NaN   \n",
       "\n",
       "       PodcastSEDaily  PodcastSERadio  PodcastShopTalk  PodcastTalkPython  \\\n",
       "1728              NaN             NaN              NaN                NaN   \n",
       "1755              1.0             NaN              NaN                NaN   \n",
       "7989              NaN             NaN              NaN                NaN   \n",
       "8126              NaN             NaN              NaN                NaN   \n",
       "13398             NaN             NaN              NaN                NaN   \n",
       "15587             NaN             NaN              NaN                NaN   \n",
       "\n",
       "       PodcastTheWebAhead  ResourceCodecademy  ResourceCodeWars  \\\n",
       "1728                  NaN                 1.0               NaN   \n",
       "1755                  NaN                 1.0               1.0   \n",
       "7989                  NaN                 NaN               NaN   \n",
       "8126                  NaN                 NaN               NaN   \n",
       "13398                 NaN                 NaN               NaN   \n",
       "15587                 NaN                 NaN               NaN   \n",
       "\n",
       "       ResourceCoursera  ResourceCSS  ResourceEdX  ResourceEgghead  \\\n",
       "1728                NaN          NaN          NaN              NaN   \n",
       "1755                1.0          NaN          1.0              NaN   \n",
       "7989                NaN          NaN          NaN              NaN   \n",
       "8126                NaN          1.0          NaN              1.0   \n",
       "13398               NaN          NaN          NaN              NaN   \n",
       "15587               NaN          NaN          1.0              NaN   \n",
       "\n",
       "       ResourceFCC  ResourceHackerRank  ResourceKA  ResourceLynda  \\\n",
       "1728           NaN                 NaN         NaN            NaN   \n",
       "1755           1.0                 NaN         1.0            1.0   \n",
       "7989           1.0                 NaN         NaN            1.0   \n",
       "8126           NaN                 NaN         NaN            NaN   \n",
       "13398          NaN                 NaN         NaN            NaN   \n",
       "15587          1.0                 NaN         NaN            1.0   \n",
       "\n",
       "       ResourceMDN  ResourceOdinProj ResourceOther  ResourcePluralSight  \\\n",
       "1728           NaN               NaN           NaN                  NaN   \n",
       "1755           NaN               NaN           NaN                  1.0   \n",
       "7989           NaN               NaN           NaN                  NaN   \n",
       "8126           NaN               NaN           NaN                  NaN   \n",
       "13398          NaN               NaN           NaN                  NaN   \n",
       "15587          NaN               NaN           NaN                  NaN   \n",
       "\n",
       "       ResourceSkillcrush  ResourceSO  ResourceTreehouse  ResourceUdacity  \\\n",
       "1728                  NaN         NaN                NaN              NaN   \n",
       "1755                  NaN         NaN                NaN              1.0   \n",
       "7989                  NaN         NaN                NaN              NaN   \n",
       "8126                  NaN         1.0                NaN              NaN   \n",
       "13398                 NaN         1.0                NaN              NaN   \n",
       "15587                 NaN         1.0                NaN              NaN   \n",
       "\n",
       "       ResourceUdemy  ResourceW3S       SchoolDegree  \\\n",
       "1728             1.0          1.0  bachelor's degree   \n",
       "1755             1.0          1.0  bachelor's degree   \n",
       "7989             NaN          NaN  bachelor's degree   \n",
       "8126             NaN          NaN  bachelor's degree   \n",
       "13398            NaN          1.0  bachelor's degree   \n",
       "15587            NaN          1.0  bachelor's degree   \n",
       "\n",
       "                                  SchoolMajor  StudentDebtOwe  \\\n",
       "1728                     Computer Programming             NaN   \n",
       "1755                         Computer Science             NaN   \n",
       "7989   Aerospace and Aeronautical Engineering          2500.0   \n",
       "8126   Electrical and Electronics Engineering         10000.0   \n",
       "13398                        Computer Science             NaN   \n",
       "15587                          Communications         25000.0   \n",
       "\n",
       "       YouTubeCodeCourse  YouTubeCodingTrain  YouTubeCodingTut360  \\\n",
       "1728                 NaN                 NaN                  NaN   \n",
       "1755                 NaN                 NaN                  1.0   \n",
       "7989                 NaN                 NaN                  NaN   \n",
       "8126                 NaN                 NaN                  NaN   \n",
       "13398                NaN                 NaN                  NaN   \n",
       "15587                NaN                 NaN                  NaN   \n",
       "\n",
       "       YouTubeComputerphile  YouTubeDerekBanas  YouTubeDevTips  \\\n",
       "1728                    NaN                NaN             NaN   \n",
       "1755                    NaN                NaN             NaN   \n",
       "7989                    NaN                NaN             NaN   \n",
       "8126                    NaN                NaN             NaN   \n",
       "13398                   NaN                NaN             NaN   \n",
       "15587                   NaN                NaN             NaN   \n",
       "\n",
       "       YouTubeEngineeredTruth  YouTubeFCC  YouTubeFunFunFunction  \\\n",
       "1728                      NaN         1.0                    NaN   \n",
       "1755                      NaN         1.0                    NaN   \n",
       "7989                      NaN         1.0                    NaN   \n",
       "8126                      NaN         NaN                    NaN   \n",
       "13398                     NaN         NaN                    NaN   \n",
       "15587                     NaN         NaN                    NaN   \n",
       "\n",
       "       YouTubeGoogleDev  YouTubeLearnCode  YouTubeLevelUpTuts  YouTubeMIT  \\\n",
       "1728                NaN               NaN                 NaN         NaN   \n",
       "1755                NaN               1.0                 NaN         1.0   \n",
       "7989                NaN               NaN                 NaN         NaN   \n",
       "8126                1.0               NaN                 NaN         1.0   \n",
       "13398               NaN               NaN                 NaN         NaN   \n",
       "15587               1.0               1.0                 NaN         1.0   \n",
       "\n",
       "       YouTubeMozillaHacks YouTubeOther  YouTubeSimplilearn  \\\n",
       "1728                   NaN          NaN                 NaN   \n",
       "1755                   NaN          NaN                 NaN   \n",
       "7989                   NaN          NaN                 NaN   \n",
       "8126                   NaN          NaN                 NaN   \n",
       "13398                  NaN          NaN                 NaN   \n",
       "15587                  NaN          NaN                 NaN   \n",
       "\n",
       "       YouTubeTheNewBoston  spent_per_month  \n",
       "1728                   NaN      5000.000000  \n",
       "1755                   NaN      3333.333333  \n",
       "7989                   NaN      5000.000000  \n",
       "8126                   1.0      5000.000000  \n",
       "13398                  NaN     10000.000000  \n",
       "15587                  NaN      4166.666667  "
      ]
     },
     "execution_count": 86,
     "metadata": {},
     "output_type": "execute_result"
    }
   ],
   "source": [
    "india_outliers_1 = survey_4[ above_2500_bool & (survey_4['CountryLive'] == \"India\") ]\n",
    "\n",
    "print(india_outliers_1.shape)\n",
    "\n",
    "india_outliers_1\n"
   ]
  },
  {
   "cell_type": "code",
   "execution_count": 87,
   "metadata": {
    "scrolled": true
   },
   "outputs": [
    {
     "data": {
      "text/html": [
       "<div>\n",
       "<style scoped>\n",
       "    .dataframe tbody tr th:only-of-type {\n",
       "        vertical-align: middle;\n",
       "    }\n",
       "\n",
       "    .dataframe tbody tr th {\n",
       "        vertical-align: top;\n",
       "    }\n",
       "\n",
       "    .dataframe thead th {\n",
       "        text-align: right;\n",
       "    }\n",
       "</style>\n",
       "<table border=\"1\" class=\"dataframe\">\n",
       "  <thead>\n",
       "    <tr style=\"text-align: right;\">\n",
       "      <th></th>\n",
       "      <th>AttendedBootcamp</th>\n",
       "      <th>BootcampFinish</th>\n",
       "      <th>BootcampName</th>\n",
       "      <th>MoneyForLearning</th>\n",
       "      <th>MonthsProgramming</th>\n",
       "      <th>spent_per_month</th>\n",
       "    </tr>\n",
       "  </thead>\n",
       "  <tbody>\n",
       "    <tr>\n",
       "      <th>1728</th>\n",
       "      <td>0.0</td>\n",
       "      <td>NaN</td>\n",
       "      <td>NaN</td>\n",
       "      <td>20000.0</td>\n",
       "      <td>4.0</td>\n",
       "      <td>5000.000000</td>\n",
       "    </tr>\n",
       "    <tr>\n",
       "      <th>1755</th>\n",
       "      <td>0.0</td>\n",
       "      <td>NaN</td>\n",
       "      <td>NaN</td>\n",
       "      <td>50000.0</td>\n",
       "      <td>15.0</td>\n",
       "      <td>3333.333333</td>\n",
       "    </tr>\n",
       "    <tr>\n",
       "      <th>7989</th>\n",
       "      <td>0.0</td>\n",
       "      <td>NaN</td>\n",
       "      <td>NaN</td>\n",
       "      <td>5000.0</td>\n",
       "      <td>1.0</td>\n",
       "      <td>5000.000000</td>\n",
       "    </tr>\n",
       "    <tr>\n",
       "      <th>8126</th>\n",
       "      <td>0.0</td>\n",
       "      <td>NaN</td>\n",
       "      <td>NaN</td>\n",
       "      <td>5000.0</td>\n",
       "      <td>1.0</td>\n",
       "      <td>5000.000000</td>\n",
       "    </tr>\n",
       "    <tr>\n",
       "      <th>13398</th>\n",
       "      <td>0.0</td>\n",
       "      <td>NaN</td>\n",
       "      <td>NaN</td>\n",
       "      <td>20000.0</td>\n",
       "      <td>2.0</td>\n",
       "      <td>10000.000000</td>\n",
       "    </tr>\n",
       "    <tr>\n",
       "      <th>15587</th>\n",
       "      <td>0.0</td>\n",
       "      <td>NaN</td>\n",
       "      <td>NaN</td>\n",
       "      <td>100000.0</td>\n",
       "      <td>24.0</td>\n",
       "      <td>4166.666667</td>\n",
       "    </tr>\n",
       "  </tbody>\n",
       "</table>\n",
       "</div>"
      ],
      "text/plain": [
       "       AttendedBootcamp  BootcampFinish BootcampName  MoneyForLearning  \\\n",
       "1728                0.0             NaN          NaN           20000.0   \n",
       "1755                0.0             NaN          NaN           50000.0   \n",
       "7989                0.0             NaN          NaN            5000.0   \n",
       "8126                0.0             NaN          NaN            5000.0   \n",
       "13398               0.0             NaN          NaN           20000.0   \n",
       "15587               0.0             NaN          NaN          100000.0   \n",
       "\n",
       "       MonthsProgramming  spent_per_month  \n",
       "1728                 4.0      5000.000000  \n",
       "1755                15.0      3333.333333  \n",
       "7989                 1.0      5000.000000  \n",
       "8126                 1.0      5000.000000  \n",
       "13398                2.0     10000.000000  \n",
       "15587               24.0      4166.666667  "
      ]
     },
     "execution_count": 87,
     "metadata": {},
     "output_type": "execute_result"
    }
   ],
   "source": [
    "india_outliers_1[['AttendedBootcamp', 'BootcampFinish', 'BootcampName', 'MoneyForLearning', \\\n",
    "                  'MonthsProgramming', 'spent_per_month']]\n"
   ]
  },
  {
   "cell_type": "markdown",
   "metadata": {},
   "source": [
    "It seems that none of the above participants attended a bootcamp. Since the actual question of the survey from `MoneyForLearning` was _\"Aside from university tuition, about how much money have you spent on learning to code so far (in US dollars)?\"_ , I think that these participants erroneously included their university tuition."
   ]
  },
  {
   "cell_type": "markdown",
   "metadata": {},
   "source": [
    "Let's remove the above outliers:"
   ]
  },
  {
   "cell_type": "code",
   "execution_count": 88,
   "metadata": {},
   "outputs": [
    {
     "data": {
      "text/plain": [
       "Int64Index([1728, 1755, 7989, 8126, 13398, 15587], dtype='int64')"
      ]
     },
     "execution_count": 88,
     "metadata": {},
     "output_type": "execute_result"
    }
   ],
   "source": [
    "india_outliers_1.index"
   ]
  },
  {
   "cell_type": "code",
   "execution_count": 89,
   "metadata": {},
   "outputs": [
    {
     "name": "stdout",
     "output_type": "stream",
     "text": [
      "(3915, 137)\n",
      "(3909, 137)\n"
     ]
    }
   ],
   "source": [
    "survey_5 = survey_4.drop(india_outliers_1.index)\n",
    "# or\n",
    "#survey_5 = survey_4.drop(index = india_outliers_1.index)\n",
    "\n",
    "print( survey_4.shape )\n",
    "\n",
    "print( survey_5.shape )\n"
   ]
  },
  {
   "cell_type": "markdown",
   "metadata": {},
   "source": [
    "### > US"
   ]
  },
  {
   "cell_type": "code",
   "execution_count": 90,
   "metadata": {},
   "outputs": [
    {
     "name": "stdout",
     "output_type": "stream",
     "text": [
      "2933\n"
     ]
    }
   ],
   "source": [
    "us_data_bool = survey_5['CountryLive'] == \"United States of America\"\n",
    "\n",
    "print(us_data_bool.sum())\n"
   ]
  },
  {
   "cell_type": "code",
   "execution_count": 91,
   "metadata": {},
   "outputs": [
    {
     "data": {
      "text/plain": [
       "Text(0.5, 1.0, 'US')"
      ]
     },
     "execution_count": 91,
     "metadata": {},
     "output_type": "execute_result"
    },
    {
     "data": {
      "image/png": "[encoded data removed]",
      "text/plain": [
       "<Figure size 720x432 with 1 Axes>"
      ]
     },
     "metadata": {
      "needs_background": "light"
     },
     "output_type": "display_data"
    }
   ],
   "source": [
    "survey_5[us_data_bool]['spent_per_month'].plot.box(figsize=(10,6))\n",
    "\n",
    "plt.title('US', fontsize = 16)\n",
    "\n",
    "#plt.ylim(0,1000)\n"
   ]
  },
  {
   "cell_type": "code",
   "execution_count": 92,
   "metadata": {},
   "outputs": [
    {
     "data": {
      "text/plain": [
       "(0, 10000)"
      ]
     },
     "execution_count": 92,
     "metadata": {},
     "output_type": "execute_result"
    },
    {
     "data": {
      "image/png": "[encoded data removed]",
      "text/plain": [
       "<Figure size 720x432 with 1 Axes>"
      ]
     },
     "metadata": {
      "needs_background": "light"
     },
     "output_type": "display_data"
    }
   ],
   "source": [
    "survey_5[us_data_bool]['spent_per_month'].plot.box(figsize=(10,6))\n",
    "\n",
    "plt.title('US', fontsize = 16)\n",
    "\n",
    "plt.ylim(0,10000)\n"
   ]
  },
  {
   "cell_type": "code",
   "execution_count": 93,
   "metadata": {},
   "outputs": [
    {
     "data": {
      "text/plain": [
       "(0, 6000)"
      ]
     },
     "execution_count": 93,
     "metadata": {},
     "output_type": "execute_result"
    },
    {
     "data": {
      "image/png": "[encoded data removed]",
      "text/plain": [
       "<Figure size 720x432 with 1 Axes>"
      ]
     },
     "metadata": {
      "needs_background": "light"
     },
     "output_type": "display_data"
    }
   ],
   "source": [
    "survey_5[us_data_bool]['spent_per_month'].plot.box(figsize=(10,6))\n",
    "\n",
    "plt.title('US', fontsize = 16)\n",
    "\n",
    "plt.ylim(0,6000)\n"
   ]
  },
  {
   "cell_type": "code",
   "execution_count": 94,
   "metadata": {},
   "outputs": [
    {
     "data": {
      "text/plain": [
       "15"
      ]
     },
     "execution_count": 94,
     "metadata": {},
     "output_type": "execute_result"
    }
   ],
   "source": [
    "us_above_5000_bool = (survey_5['spent_per_month'] > 5000) & \\\n",
    "                                    (survey_5['CountryLive'] == \"United States of America\")\n",
    "\n",
    "us_above_5000_bool.sum()\n"
   ]
  },
  {
   "cell_type": "code",
   "execution_count": 95,
   "metadata": {},
   "outputs": [
    {
     "name": "stdout",
     "output_type": "stream",
     "text": [
      "(15, 137)\n"
     ]
    }
   ],
   "source": [
    "us_outliers_1 = survey_5[us_above_5000_bool]\n",
    "\n",
    "print( us_outliers_1.shape )\n"
   ]
  },
  {
   "cell_type": "code",
   "execution_count": 96,
   "metadata": {},
   "outputs": [
    {
     "data": {
      "text/html": [
       "<div>\n",
       "<style scoped>\n",
       "    .dataframe tbody tr th:only-of-type {\n",
       "        vertical-align: middle;\n",
       "    }\n",
       "\n",
       "    .dataframe tbody tr th {\n",
       "        vertical-align: top;\n",
       "    }\n",
       "\n",
       "    .dataframe thead th {\n",
       "        text-align: right;\n",
       "    }\n",
       "</style>\n",
       "<table border=\"1\" class=\"dataframe\">\n",
       "  <thead>\n",
       "    <tr style=\"text-align: right;\">\n",
       "      <th></th>\n",
       "      <th>AttendedBootcamp</th>\n",
       "      <th>BootcampFinish</th>\n",
       "      <th>BootcampName</th>\n",
       "      <th>MoneyForLearning</th>\n",
       "      <th>MonthsProgramming</th>\n",
       "      <th>spent_per_month</th>\n",
       "    </tr>\n",
       "  </thead>\n",
       "  <tbody>\n",
       "    <tr>\n",
       "      <th>16997</th>\n",
       "      <td>0.0</td>\n",
       "      <td>NaN</td>\n",
       "      <td>NaN</td>\n",
       "      <td>12500.0</td>\n",
       "      <td>1.0</td>\n",
       "      <td>12500.000000</td>\n",
       "    </tr>\n",
       "    <tr>\n",
       "      <th>17231</th>\n",
       "      <td>0.0</td>\n",
       "      <td>NaN</td>\n",
       "      <td>NaN</td>\n",
       "      <td>30000.0</td>\n",
       "      <td>2.0</td>\n",
       "      <td>15000.000000</td>\n",
       "    </tr>\n",
       "    <tr>\n",
       "      <th>3930</th>\n",
       "      <td>0.0</td>\n",
       "      <td>NaN</td>\n",
       "      <td>NaN</td>\n",
       "      <td>65000.0</td>\n",
       "      <td>6.0</td>\n",
       "      <td>10833.333333</td>\n",
       "    </tr>\n",
       "    <tr>\n",
       "      <th>7198</th>\n",
       "      <td>0.0</td>\n",
       "      <td>NaN</td>\n",
       "      <td>NaN</td>\n",
       "      <td>70000.0</td>\n",
       "      <td>5.0</td>\n",
       "      <td>14000.000000</td>\n",
       "    </tr>\n",
       "    <tr>\n",
       "      <th>14024</th>\n",
       "      <td>0.0</td>\n",
       "      <td>NaN</td>\n",
       "      <td>NaN</td>\n",
       "      <td>80000.0</td>\n",
       "      <td>1.0</td>\n",
       "      <td>80000.000000</td>\n",
       "    </tr>\n",
       "    <tr>\n",
       "      <th>16650</th>\n",
       "      <td>0.0</td>\n",
       "      <td>NaN</td>\n",
       "      <td>NaN</td>\n",
       "      <td>200000.0</td>\n",
       "      <td>12.0</td>\n",
       "      <td>16666.666667</td>\n",
       "    </tr>\n",
       "    <tr>\n",
       "      <th>718</th>\n",
       "      <td>1.0</td>\n",
       "      <td>0.0</td>\n",
       "      <td>The Coding Boot Camp at UCLA Extension</td>\n",
       "      <td>8000.0</td>\n",
       "      <td>1.0</td>\n",
       "      <td>8000.000000</td>\n",
       "    </tr>\n",
       "    <tr>\n",
       "      <th>9778</th>\n",
       "      <td>1.0</td>\n",
       "      <td>0.0</td>\n",
       "      <td>Grand Circus</td>\n",
       "      <td>8000.0</td>\n",
       "      <td>1.0</td>\n",
       "      <td>8000.000000</td>\n",
       "    </tr>\n",
       "    <tr>\n",
       "      <th>3184</th>\n",
       "      <td>1.0</td>\n",
       "      <td>1.0</td>\n",
       "      <td>We Can Code IT</td>\n",
       "      <td>9000.0</td>\n",
       "      <td>1.0</td>\n",
       "      <td>9000.000000</td>\n",
       "    </tr>\n",
       "    <tr>\n",
       "      <th>1222</th>\n",
       "      <td>1.0</td>\n",
       "      <td>0.0</td>\n",
       "      <td>The Iron Yard</td>\n",
       "      <td>13000.0</td>\n",
       "      <td>2.0</td>\n",
       "      <td>6500.000000</td>\n",
       "    </tr>\n",
       "    <tr>\n",
       "      <th>6805</th>\n",
       "      <td>1.0</td>\n",
       "      <td>1.0</td>\n",
       "      <td>Sabio.la</td>\n",
       "      <td>15000.0</td>\n",
       "      <td>1.0</td>\n",
       "      <td>15000.000000</td>\n",
       "    </tr>\n",
       "    <tr>\n",
       "      <th>13145</th>\n",
       "      <td>1.0</td>\n",
       "      <td>0.0</td>\n",
       "      <td>Hackbright Academy</td>\n",
       "      <td>16000.0</td>\n",
       "      <td>3.0</td>\n",
       "      <td>5333.333333</td>\n",
       "    </tr>\n",
       "    <tr>\n",
       "      <th>3145</th>\n",
       "      <td>1.0</td>\n",
       "      <td>0.0</td>\n",
       "      <td>Hackbright Academy</td>\n",
       "      <td>17000.0</td>\n",
       "      <td>3.0</td>\n",
       "      <td>5666.666667</td>\n",
       "    </tr>\n",
       "    <tr>\n",
       "      <th>7505</th>\n",
       "      <td>1.0</td>\n",
       "      <td>0.0</td>\n",
       "      <td>Codeup</td>\n",
       "      <td>20000.0</td>\n",
       "      <td>3.0</td>\n",
       "      <td>6666.666667</td>\n",
       "    </tr>\n",
       "    <tr>\n",
       "      <th>2478</th>\n",
       "      <td>1.0</td>\n",
       "      <td>0.0</td>\n",
       "      <td>NaN</td>\n",
       "      <td>100000.0</td>\n",
       "      <td>2.0</td>\n",
       "      <td>50000.000000</td>\n",
       "    </tr>\n",
       "  </tbody>\n",
       "</table>\n",
       "</div>"
      ],
      "text/plain": [
       "       AttendedBootcamp  BootcampFinish  \\\n",
       "16997               0.0             NaN   \n",
       "17231               0.0             NaN   \n",
       "3930                0.0             NaN   \n",
       "7198                0.0             NaN   \n",
       "14024               0.0             NaN   \n",
       "16650               0.0             NaN   \n",
       "718                 1.0             0.0   \n",
       "9778                1.0             0.0   \n",
       "3184                1.0             1.0   \n",
       "1222                1.0             0.0   \n",
       "6805                1.0             1.0   \n",
       "13145               1.0             0.0   \n",
       "3145                1.0             0.0   \n",
       "7505                1.0             0.0   \n",
       "2478                1.0             0.0   \n",
       "\n",
       "                                 BootcampName  MoneyForLearning  \\\n",
       "16997                                     NaN           12500.0   \n",
       "17231                                     NaN           30000.0   \n",
       "3930                                      NaN           65000.0   \n",
       "7198                                      NaN           70000.0   \n",
       "14024                                     NaN           80000.0   \n",
       "16650                                     NaN          200000.0   \n",
       "718    The Coding Boot Camp at UCLA Extension            8000.0   \n",
       "9778                             Grand Circus            8000.0   \n",
       "3184                           We Can Code IT            9000.0   \n",
       "1222                            The Iron Yard           13000.0   \n",
       "6805                                 Sabio.la           15000.0   \n",
       "13145                      Hackbright Academy           16000.0   \n",
       "3145                       Hackbright Academy           17000.0   \n",
       "7505                                   Codeup           20000.0   \n",
       "2478                                      NaN          100000.0   \n",
       "\n",
       "       MonthsProgramming  spent_per_month  \n",
       "16997                1.0     12500.000000  \n",
       "17231                2.0     15000.000000  \n",
       "3930                 6.0     10833.333333  \n",
       "7198                 5.0     14000.000000  \n",
       "14024                1.0     80000.000000  \n",
       "16650               12.0     16666.666667  \n",
       "718                  1.0      8000.000000  \n",
       "9778                 1.0      8000.000000  \n",
       "3184                 1.0      9000.000000  \n",
       "1222                 2.0      6500.000000  \n",
       "6805                 1.0     15000.000000  \n",
       "13145                3.0      5333.333333  \n",
       "3145                 3.0      5666.666667  \n",
       "7505                 3.0      6666.666667  \n",
       "2478                 2.0     50000.000000  "
      ]
     },
     "execution_count": 96,
     "metadata": {},
     "output_type": "execute_result"
    }
   ],
   "source": [
    "us_outliers_1[['AttendedBootcamp', 'BootcampFinish', 'BootcampName', 'MoneyForLearning', \\\n",
    "                  'MonthsProgramming', 'spent_per_month']].sort_values(by=[ \"AttendedBootcamp\", \\\n",
    "                                                                            \"MoneyForLearning\" ])\n"
   ]
  },
  {
   "cell_type": "markdown",
   "metadata": {},
   "source": [
    "From the above 15 outliers we can see that:\n",
    "\n",
    "- six participants did not attend a bootcamp; as a result, I will remove these rows.\n",
    "\n",
    "\n",
    "- 9 participants attended to bootcamps. Note that they have been programming for no more than three months when they answered the survey. Since they probably paid a big amount of money for a bootcamp that was going to last for several months, the amount of money in `spent_per_month` is not realistic. As a result, I will remove these rows."
   ]
  },
  {
   "cell_type": "markdown",
   "metadata": {},
   "source": [
    "Let's remove the above outliers:"
   ]
  },
  {
   "cell_type": "code",
   "execution_count": 97,
   "metadata": {},
   "outputs": [
    {
     "data": {
      "text/plain": [
       "Int64Index([  718,  1222,  2478,  3145,  3184,  3930,  6805,  7198,  7505,\n",
       "             9778, 13145, 14024, 16650, 16997, 17231],\n",
       "           dtype='int64')"
      ]
     },
     "execution_count": 97,
     "metadata": {},
     "output_type": "execute_result"
    }
   ],
   "source": [
    "us_outliers_1.index"
   ]
  },
  {
   "cell_type": "code",
   "execution_count": 98,
   "metadata": {},
   "outputs": [
    {
     "name": "stdout",
     "output_type": "stream",
     "text": [
      "(3909, 137)\n",
      "\n",
      " (3894, 137)\n"
     ]
    }
   ],
   "source": [
    "print( survey_5.shape )\n",
    "\n",
    "survey_5.drop(us_outliers_1.index, inplace=True)\n",
    "# or\n",
    "#survey_5.drop(index = us_outliers_1.index,  inplace = True)\n",
    "\n",
    "print( \"\\n\", survey_5.shape )\n"
   ]
  },
  {
   "cell_type": "markdown",
   "metadata": {},
   "source": [
    "### > Canada"
   ]
  },
  {
   "cell_type": "code",
   "execution_count": 99,
   "metadata": {},
   "outputs": [
    {
     "data": {
      "text/plain": [
       "1"
      ]
     },
     "execution_count": 99,
     "metadata": {},
     "output_type": "execute_result"
    }
   ],
   "source": [
    "canada_above_2500_bool = (survey_5['spent_per_month'] > 2500) & \\\n",
    "                                    (survey_5['CountryLive'] == \"Canada\")\n",
    "\n",
    "canada_above_2500_bool.sum()\n"
   ]
  },
  {
   "cell_type": "code",
   "execution_count": 100,
   "metadata": {},
   "outputs": [
    {
     "name": "stdout",
     "output_type": "stream",
     "text": [
      "(1, 137)\n"
     ]
    }
   ],
   "source": [
    "canada_outliers_1 = survey_5[canada_above_2500_bool]\n",
    "\n",
    "print( canada_outliers_1.shape )\n"
   ]
  },
  {
   "cell_type": "code",
   "execution_count": 101,
   "metadata": {},
   "outputs": [
    {
     "data": {
      "text/html": [
       "<div>\n",
       "<style scoped>\n",
       "    .dataframe tbody tr th:only-of-type {\n",
       "        vertical-align: middle;\n",
       "    }\n",
       "\n",
       "    .dataframe tbody tr th {\n",
       "        vertical-align: top;\n",
       "    }\n",
       "\n",
       "    .dataframe thead th {\n",
       "        text-align: right;\n",
       "    }\n",
       "</style>\n",
       "<table border=\"1\" class=\"dataframe\">\n",
       "  <thead>\n",
       "    <tr style=\"text-align: right;\">\n",
       "      <th></th>\n",
       "      <th>AttendedBootcamp</th>\n",
       "      <th>BootcampFinish</th>\n",
       "      <th>BootcampName</th>\n",
       "      <th>MoneyForLearning</th>\n",
       "      <th>MonthsProgramming</th>\n",
       "      <th>spent_per_month</th>\n",
       "    </tr>\n",
       "  </thead>\n",
       "  <tbody>\n",
       "    <tr>\n",
       "      <th>13659</th>\n",
       "      <td>1.0</td>\n",
       "      <td>0.0</td>\n",
       "      <td>Bloc.io</td>\n",
       "      <td>10000.0</td>\n",
       "      <td>2.0</td>\n",
       "      <td>5000.0</td>\n",
       "    </tr>\n",
       "  </tbody>\n",
       "</table>\n",
       "</div>"
      ],
      "text/plain": [
       "       AttendedBootcamp  BootcampFinish BootcampName  MoneyForLearning  \\\n",
       "13659               1.0             0.0      Bloc.io           10000.0   \n",
       "\n",
       "       MonthsProgramming  spent_per_month  \n",
       "13659                2.0           5000.0  "
      ]
     },
     "execution_count": 101,
     "metadata": {},
     "output_type": "execute_result"
    }
   ],
   "source": [
    "canada_outliers_1[['AttendedBootcamp', 'BootcampFinish', 'BootcampName', 'MoneyForLearning', \\\n",
    "                   'MonthsProgramming', 'spent_per_month']]"
   ]
  },
  {
   "cell_type": "markdown",
   "metadata": {},
   "source": [
    "Let's take the same approach as we did for the US and remove this outlier:"
   ]
  },
  {
   "cell_type": "code",
   "execution_count": 102,
   "metadata": {},
   "outputs": [
    {
     "data": {
      "text/plain": [
       "Int64Index([13659], dtype='int64')"
      ]
     },
     "execution_count": 102,
     "metadata": {},
     "output_type": "execute_result"
    }
   ],
   "source": [
    "canada_outliers_1.index"
   ]
  },
  {
   "cell_type": "code",
   "execution_count": 103,
   "metadata": {},
   "outputs": [
    {
     "name": "stdout",
     "output_type": "stream",
     "text": [
      "(3894, 137)\n",
      "\n",
      " (3893, 137)\n"
     ]
    }
   ],
   "source": [
    "print( survey_5.shape )\n",
    "\n",
    "survey_5.drop(canada_outliers_1.index, inplace=True)\n",
    "# or\n",
    "#survey_5.drop(index = canada_outliers_1.index,  inplace = True)\n",
    "\n",
    "print( \"\\n\", survey_5.shape )\n"
   ]
  },
  {
   "cell_type": "markdown",
   "metadata": {},
   "source": [
    "### Next,\n",
    "Let's calculate again the mean values for the `spent_per_month` per country:"
   ]
  },
  {
   "cell_type": "code",
   "execution_count": 104,
   "metadata": {},
   "outputs": [],
   "source": [
    "grouped = survey_5.groupby('CountryLive')"
   ]
  },
  {
   "cell_type": "code",
   "execution_count": 105,
   "metadata": {},
   "outputs": [
    {
     "data": {
      "text/plain": [
       "CountryLive\n",
       "Canada                       239\n",
       "India                        457\n",
       "United Kingdom               279\n",
       "United States of America    2918\n",
       "dtype: int64"
      ]
     },
     "execution_count": 105,
     "metadata": {},
     "output_type": "execute_result"
    }
   ],
   "source": [
    "grouped.size()"
   ]
  },
  {
   "cell_type": "code",
   "execution_count": 106,
   "metadata": {},
   "outputs": [
    {
     "name": "stdout",
     "output_type": "stream",
     "text": [
      "<class 'pandas.core.frame.DataFrame'>\n"
     ]
    }
   ],
   "source": [
    "countries_mean = grouped.mean()\n",
    "\n",
    "print( type(countries_mean) )\n"
   ]
  },
  {
   "cell_type": "code",
   "execution_count": 107,
   "metadata": {
    "scrolled": true
   },
   "outputs": [
    {
     "data": {
      "text/plain": [
       "CountryLive\n",
       "Canada                       93.065400\n",
       "India                        65.758763\n",
       "United Kingdom               45.534443\n",
       "United States of America    138.982678\n",
       "Name: spent_per_month, dtype: float64"
      ]
     },
     "execution_count": 107,
     "metadata": {},
     "output_type": "execute_result"
    }
   ],
   "source": [
    "countries_mean['spent_per_month']"
   ]
  },
  {
   "cell_type": "code",
   "execution_count": 108,
   "metadata": {},
   "outputs": [
    {
     "data": {
      "image/png": "[encoded data removed]",
      "text/plain": [
       "<Figure size 720x432 with 1 Axes>"
      ]
     },
     "metadata": {
      "needs_background": "light"
     },
     "output_type": "display_data"
    }
   ],
   "source": [
    "fig, ax = plt.subplots(figsize=(10,6))\n",
    "\n",
    "sns.boxplot( ax = ax, x = 'CountryLive', y = 'spent_per_month', data = survey_5 )\n",
    "\n",
    "\n",
    "plt.title('Money Spent Per Month Per Country\\n(Distributions)', fontsize = 16)\n",
    "\n",
    "plt.ylabel('Money per month (US dollars)')\n",
    "\n",
    "plt.xlabel('Country')\n",
    "\n",
    "#plt.xticks(range(4), ['US', 'UK', 'India', 'Canada']) # avoids tick labels overlap\n",
    "\n",
    "#plt.ylim(0,2500)\n",
    "\n",
    "plt.show()\n"
   ]
  },
  {
   "cell_type": "markdown",
   "metadata": {},
   "source": [
    "## Choosing the Two Best Markets"
   ]
  },
  {
   "cell_type": "code",
   "execution_count": 109,
   "metadata": {
    "scrolled": true
   },
   "outputs": [
    {
     "data": {
      "text/plain": [
       "United States of America    2918\n",
       "India                        457\n",
       "United Kingdom               279\n",
       "Canada                       239\n",
       "Name: CountryLive, dtype: int64"
      ]
     },
     "execution_count": 109,
     "metadata": {},
     "output_type": "execute_result"
    }
   ],
   "source": [
    "survey_5['CountryLive'].value_counts(dropna=False)"
   ]
  },
  {
   "cell_type": "code",
   "execution_count": 110,
   "metadata": {
    "scrolled": true
   },
   "outputs": [
    {
     "data": {
      "text/plain": [
       "United States of America    74.955048\n",
       "India                       11.739019\n",
       "United Kingdom               7.166709\n",
       "Canada                       6.139224\n",
       "Name: CountryLive, dtype: float64"
      ]
     },
     "execution_count": 110,
     "metadata": {},
     "output_type": "execute_result"
    }
   ],
   "source": [
    "survey_5['CountryLive'].value_counts(normalize=True) * 100"
   ]
  },
  {
   "cell_type": "code",
   "execution_count": 111,
   "metadata": {
    "scrolled": true
   },
   "outputs": [
    {
     "data": {
      "text/plain": [
       "CountryLive\n",
       "Canada                       93.065400\n",
       "India                        65.758763\n",
       "United Kingdom               45.534443\n",
       "United States of America    138.982678\n",
       "Name: spent_per_month, dtype: float64"
      ]
     },
     "execution_count": 111,
     "metadata": {},
     "output_type": "execute_result"
    }
   ],
   "source": [
    "countries_mean['spent_per_month']"
   ]
  },
  {
   "cell_type": "markdown",
   "metadata": {},
   "source": [
    "Considering the results we've found so far, one country we should definitely advertise in is the US. There are a lot of new coders living there and they are willing to pay a good amount of money each month.\n",
    "\n",
    "#### With regard to selecting the second country:\n",
    "\n",
    "Although Canada has a higher (30%) average `spent_per_month` (money that participants spent per month, on average) than India, India could be a better choice because it practically doubles the number of potential customers against Canada.\n",
    "\n",
    "We can think of different options when splitting the advertisement budget. For example:\n",
    "\n",
    "- __Option A:__ 50% US, 30% India, and 20% Canada\n",
    "\n",
    "\n",
    "- __Option B:__ 60% US, 20% India, and 20% Canada"
   ]
  }
 ],
 "metadata": {
  "kernelspec": {
   "display_name": "Python 3",
   "language": "python",
   "name": "python3"
  },
  "language_info": {
   "codemirror_mode": {
    "name": "ipython",
    "version": 3
   },
   "file_extension": ".py",
   "mimetype": "text/x-python",
   "name": "python",
   "nbconvert_exporter": "python",
   "pygments_lexer": "ipython3",
   "version": "3.7.4"
  }
 },
 "nbformat": 4,
 "nbformat_minor": 2
}
